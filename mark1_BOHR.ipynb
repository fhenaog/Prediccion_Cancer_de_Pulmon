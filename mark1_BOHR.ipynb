{
 "cells": [
  {
   "cell_type": "code",
   "execution_count": 1,
   "metadata": {},
   "outputs": [],
   "source": [
    "import pandas as pd\n",
    "import numpy as np"
   ]
  },
  {
   "cell_type": "code",
   "execution_count": 2,
   "metadata": {},
   "outputs": [],
   "source": [
    "D = pd.read_csv('cancer_patient_data_sets.csv')"
   ]
  },
  {
   "cell_type": "code",
   "execution_count": 3,
   "metadata": {},
   "outputs": [],
   "source": [
    "D = D.drop('Patient Id', axis=1)\n",
    "D = D.drop('index', axis=1)"
   ]
  },
  {
   "cell_type": "code",
   "execution_count": 4,
   "metadata": {},
   "outputs": [
    {
     "data": {
      "text/html": [
       "<div>\n",
       "<style scoped>\n",
       "    .dataframe tbody tr th:only-of-type {\n",
       "        vertical-align: middle;\n",
       "    }\n",
       "\n",
       "    .dataframe tbody tr th {\n",
       "        vertical-align: top;\n",
       "    }\n",
       "\n",
       "    .dataframe thead th {\n",
       "        text-align: right;\n",
       "    }\n",
       "</style>\n",
       "<table border=\"1\" class=\"dataframe\">\n",
       "  <thead>\n",
       "    <tr style=\"text-align: right;\">\n",
       "      <th></th>\n",
       "      <th>Age</th>\n",
       "      <th>Gender</th>\n",
       "      <th>Air Pollution</th>\n",
       "      <th>Alcohol use</th>\n",
       "      <th>Dust Allergy</th>\n",
       "      <th>OccuPational Hazards</th>\n",
       "      <th>Genetic Risk</th>\n",
       "      <th>chronic Lung Disease</th>\n",
       "      <th>Balanced Diet</th>\n",
       "      <th>Obesity</th>\n",
       "      <th>...</th>\n",
       "      <th>Fatigue</th>\n",
       "      <th>Weight Loss</th>\n",
       "      <th>Shortness of Breath</th>\n",
       "      <th>Wheezing</th>\n",
       "      <th>Swallowing Difficulty</th>\n",
       "      <th>Clubbing of Finger Nails</th>\n",
       "      <th>Frequent Cold</th>\n",
       "      <th>Dry Cough</th>\n",
       "      <th>Snoring</th>\n",
       "      <th>Level</th>\n",
       "    </tr>\n",
       "  </thead>\n",
       "  <tbody>\n",
       "    <tr>\n",
       "      <th>0</th>\n",
       "      <td>33</td>\n",
       "      <td>1</td>\n",
       "      <td>2</td>\n",
       "      <td>4</td>\n",
       "      <td>5</td>\n",
       "      <td>4</td>\n",
       "      <td>3</td>\n",
       "      <td>2</td>\n",
       "      <td>2</td>\n",
       "      <td>4</td>\n",
       "      <td>...</td>\n",
       "      <td>3</td>\n",
       "      <td>4</td>\n",
       "      <td>2</td>\n",
       "      <td>2</td>\n",
       "      <td>3</td>\n",
       "      <td>1</td>\n",
       "      <td>2</td>\n",
       "      <td>3</td>\n",
       "      <td>4</td>\n",
       "      <td>1</td>\n",
       "    </tr>\n",
       "    <tr>\n",
       "      <th>1</th>\n",
       "      <td>17</td>\n",
       "      <td>1</td>\n",
       "      <td>3</td>\n",
       "      <td>1</td>\n",
       "      <td>5</td>\n",
       "      <td>3</td>\n",
       "      <td>4</td>\n",
       "      <td>2</td>\n",
       "      <td>2</td>\n",
       "      <td>2</td>\n",
       "      <td>...</td>\n",
       "      <td>1</td>\n",
       "      <td>3</td>\n",
       "      <td>7</td>\n",
       "      <td>8</td>\n",
       "      <td>6</td>\n",
       "      <td>2</td>\n",
       "      <td>1</td>\n",
       "      <td>7</td>\n",
       "      <td>2</td>\n",
       "      <td>2</td>\n",
       "    </tr>\n",
       "    <tr>\n",
       "      <th>2</th>\n",
       "      <td>35</td>\n",
       "      <td>1</td>\n",
       "      <td>4</td>\n",
       "      <td>5</td>\n",
       "      <td>6</td>\n",
       "      <td>5</td>\n",
       "      <td>5</td>\n",
       "      <td>4</td>\n",
       "      <td>6</td>\n",
       "      <td>7</td>\n",
       "      <td>...</td>\n",
       "      <td>8</td>\n",
       "      <td>7</td>\n",
       "      <td>9</td>\n",
       "      <td>2</td>\n",
       "      <td>1</td>\n",
       "      <td>4</td>\n",
       "      <td>6</td>\n",
       "      <td>7</td>\n",
       "      <td>2</td>\n",
       "      <td>3</td>\n",
       "    </tr>\n",
       "    <tr>\n",
       "      <th>3</th>\n",
       "      <td>37</td>\n",
       "      <td>1</td>\n",
       "      <td>7</td>\n",
       "      <td>7</td>\n",
       "      <td>7</td>\n",
       "      <td>7</td>\n",
       "      <td>6</td>\n",
       "      <td>7</td>\n",
       "      <td>7</td>\n",
       "      <td>7</td>\n",
       "      <td>...</td>\n",
       "      <td>4</td>\n",
       "      <td>2</td>\n",
       "      <td>3</td>\n",
       "      <td>1</td>\n",
       "      <td>4</td>\n",
       "      <td>5</td>\n",
       "      <td>6</td>\n",
       "      <td>7</td>\n",
       "      <td>5</td>\n",
       "      <td>3</td>\n",
       "    </tr>\n",
       "    <tr>\n",
       "      <th>4</th>\n",
       "      <td>46</td>\n",
       "      <td>1</td>\n",
       "      <td>6</td>\n",
       "      <td>8</td>\n",
       "      <td>7</td>\n",
       "      <td>7</td>\n",
       "      <td>7</td>\n",
       "      <td>6</td>\n",
       "      <td>7</td>\n",
       "      <td>7</td>\n",
       "      <td>...</td>\n",
       "      <td>3</td>\n",
       "      <td>2</td>\n",
       "      <td>4</td>\n",
       "      <td>1</td>\n",
       "      <td>4</td>\n",
       "      <td>2</td>\n",
       "      <td>4</td>\n",
       "      <td>2</td>\n",
       "      <td>3</td>\n",
       "      <td>3</td>\n",
       "    </tr>\n",
       "    <tr>\n",
       "      <th>...</th>\n",
       "      <td>...</td>\n",
       "      <td>...</td>\n",
       "      <td>...</td>\n",
       "      <td>...</td>\n",
       "      <td>...</td>\n",
       "      <td>...</td>\n",
       "      <td>...</td>\n",
       "      <td>...</td>\n",
       "      <td>...</td>\n",
       "      <td>...</td>\n",
       "      <td>...</td>\n",
       "      <td>...</td>\n",
       "      <td>...</td>\n",
       "      <td>...</td>\n",
       "      <td>...</td>\n",
       "      <td>...</td>\n",
       "      <td>...</td>\n",
       "      <td>...</td>\n",
       "      <td>...</td>\n",
       "      <td>...</td>\n",
       "      <td>...</td>\n",
       "    </tr>\n",
       "    <tr>\n",
       "      <th>995</th>\n",
       "      <td>44</td>\n",
       "      <td>1</td>\n",
       "      <td>6</td>\n",
       "      <td>7</td>\n",
       "      <td>7</td>\n",
       "      <td>7</td>\n",
       "      <td>7</td>\n",
       "      <td>6</td>\n",
       "      <td>7</td>\n",
       "      <td>7</td>\n",
       "      <td>...</td>\n",
       "      <td>5</td>\n",
       "      <td>3</td>\n",
       "      <td>2</td>\n",
       "      <td>7</td>\n",
       "      <td>8</td>\n",
       "      <td>2</td>\n",
       "      <td>4</td>\n",
       "      <td>5</td>\n",
       "      <td>3</td>\n",
       "      <td>3</td>\n",
       "    </tr>\n",
       "    <tr>\n",
       "      <th>996</th>\n",
       "      <td>37</td>\n",
       "      <td>2</td>\n",
       "      <td>6</td>\n",
       "      <td>8</td>\n",
       "      <td>7</td>\n",
       "      <td>7</td>\n",
       "      <td>7</td>\n",
       "      <td>6</td>\n",
       "      <td>7</td>\n",
       "      <td>7</td>\n",
       "      <td>...</td>\n",
       "      <td>9</td>\n",
       "      <td>6</td>\n",
       "      <td>5</td>\n",
       "      <td>7</td>\n",
       "      <td>2</td>\n",
       "      <td>4</td>\n",
       "      <td>3</td>\n",
       "      <td>1</td>\n",
       "      <td>4</td>\n",
       "      <td>3</td>\n",
       "    </tr>\n",
       "    <tr>\n",
       "      <th>997</th>\n",
       "      <td>25</td>\n",
       "      <td>2</td>\n",
       "      <td>4</td>\n",
       "      <td>5</td>\n",
       "      <td>6</td>\n",
       "      <td>5</td>\n",
       "      <td>5</td>\n",
       "      <td>4</td>\n",
       "      <td>6</td>\n",
       "      <td>7</td>\n",
       "      <td>...</td>\n",
       "      <td>8</td>\n",
       "      <td>7</td>\n",
       "      <td>9</td>\n",
       "      <td>2</td>\n",
       "      <td>1</td>\n",
       "      <td>4</td>\n",
       "      <td>6</td>\n",
       "      <td>7</td>\n",
       "      <td>2</td>\n",
       "      <td>3</td>\n",
       "    </tr>\n",
       "    <tr>\n",
       "      <th>998</th>\n",
       "      <td>18</td>\n",
       "      <td>2</td>\n",
       "      <td>6</td>\n",
       "      <td>8</td>\n",
       "      <td>7</td>\n",
       "      <td>7</td>\n",
       "      <td>7</td>\n",
       "      <td>6</td>\n",
       "      <td>7</td>\n",
       "      <td>7</td>\n",
       "      <td>...</td>\n",
       "      <td>3</td>\n",
       "      <td>2</td>\n",
       "      <td>4</td>\n",
       "      <td>1</td>\n",
       "      <td>4</td>\n",
       "      <td>2</td>\n",
       "      <td>4</td>\n",
       "      <td>2</td>\n",
       "      <td>3</td>\n",
       "      <td>3</td>\n",
       "    </tr>\n",
       "    <tr>\n",
       "      <th>999</th>\n",
       "      <td>47</td>\n",
       "      <td>1</td>\n",
       "      <td>6</td>\n",
       "      <td>5</td>\n",
       "      <td>6</td>\n",
       "      <td>5</td>\n",
       "      <td>5</td>\n",
       "      <td>4</td>\n",
       "      <td>6</td>\n",
       "      <td>7</td>\n",
       "      <td>...</td>\n",
       "      <td>8</td>\n",
       "      <td>7</td>\n",
       "      <td>9</td>\n",
       "      <td>2</td>\n",
       "      <td>1</td>\n",
       "      <td>4</td>\n",
       "      <td>6</td>\n",
       "      <td>7</td>\n",
       "      <td>2</td>\n",
       "      <td>3</td>\n",
       "    </tr>\n",
       "  </tbody>\n",
       "</table>\n",
       "<p>1000 rows × 24 columns</p>\n",
       "</div>"
      ],
      "text/plain": [
       "     Age  Gender  Air Pollution  Alcohol use  Dust Allergy  \\\n",
       "0     33       1              2            4             5   \n",
       "1     17       1              3            1             5   \n",
       "2     35       1              4            5             6   \n",
       "3     37       1              7            7             7   \n",
       "4     46       1              6            8             7   \n",
       "..   ...     ...            ...          ...           ...   \n",
       "995   44       1              6            7             7   \n",
       "996   37       2              6            8             7   \n",
       "997   25       2              4            5             6   \n",
       "998   18       2              6            8             7   \n",
       "999   47       1              6            5             6   \n",
       "\n",
       "     OccuPational Hazards  Genetic Risk  chronic Lung Disease  Balanced Diet  \\\n",
       "0                       4             3                     2              2   \n",
       "1                       3             4                     2              2   \n",
       "2                       5             5                     4              6   \n",
       "3                       7             6                     7              7   \n",
       "4                       7             7                     6              7   \n",
       "..                    ...           ...                   ...            ...   \n",
       "995                     7             7                     6              7   \n",
       "996                     7             7                     6              7   \n",
       "997                     5             5                     4              6   \n",
       "998                     7             7                     6              7   \n",
       "999                     5             5                     4              6   \n",
       "\n",
       "     Obesity  ...  Fatigue  Weight Loss  Shortness of Breath  Wheezing  \\\n",
       "0          4  ...        3            4                    2         2   \n",
       "1          2  ...        1            3                    7         8   \n",
       "2          7  ...        8            7                    9         2   \n",
       "3          7  ...        4            2                    3         1   \n",
       "4          7  ...        3            2                    4         1   \n",
       "..       ...  ...      ...          ...                  ...       ...   \n",
       "995        7  ...        5            3                    2         7   \n",
       "996        7  ...        9            6                    5         7   \n",
       "997        7  ...        8            7                    9         2   \n",
       "998        7  ...        3            2                    4         1   \n",
       "999        7  ...        8            7                    9         2   \n",
       "\n",
       "     Swallowing Difficulty  Clubbing of Finger Nails  Frequent Cold  \\\n",
       "0                        3                         1              2   \n",
       "1                        6                         2              1   \n",
       "2                        1                         4              6   \n",
       "3                        4                         5              6   \n",
       "4                        4                         2              4   \n",
       "..                     ...                       ...            ...   \n",
       "995                      8                         2              4   \n",
       "996                      2                         4              3   \n",
       "997                      1                         4              6   \n",
       "998                      4                         2              4   \n",
       "999                      1                         4              6   \n",
       "\n",
       "     Dry Cough  Snoring  Level  \n",
       "0            3        4      1  \n",
       "1            7        2      2  \n",
       "2            7        2      3  \n",
       "3            7        5      3  \n",
       "4            2        3      3  \n",
       "..         ...      ...    ...  \n",
       "995          5        3      3  \n",
       "996          1        4      3  \n",
       "997          7        2      3  \n",
       "998          2        3      3  \n",
       "999          7        2      3  \n",
       "\n",
       "[1000 rows x 24 columns]"
      ]
     },
     "execution_count": 4,
     "metadata": {},
     "output_type": "execute_result"
    }
   ],
   "source": [
    "# low -> 1\n",
    "# Medium -> 2\n",
    "# High -> 3\n",
    "D = D.replace({\n",
    "   'Level': {'Low': int(1), 'Medium': int(2), 'High':int(3)},})\n",
    "D"
   ]
  },
  {
   "cell_type": "code",
   "execution_count": 5,
   "metadata": {},
   "outputs": [],
   "source": [
    "from sklearn.model_selection import train_test_split\n",
    "X = D.drop(columns=['Level'])\n",
    "y = D['Level']\n",
    "X_train, X_test, y_train, y_test = train_test_split(X,y,test_size=0.2,random_state=0)\n",
    "X_train, X_val, y_train, y_val = train_test_split(X_train,y_train,test_size=0.25,random_state=0) # 0.25 * 0.8 = 0.2"
   ]
  },
  {
   "cell_type": "code",
   "execution_count": 6,
   "metadata": {},
   "outputs": [
    {
     "name": "stdout",
     "output_type": "stream",
     "text": [
      "Level\n",
      "3    225\n",
      "2    202\n",
      "1    173\n",
      "Name: count, dtype: int64\n"
     ]
    },
    {
     "data": {
      "image/png": "[encoded data removed]",
      "text/plain": [
       "<Figure size 640x480 with 1 Axes>"
      ]
     },
     "metadata": {},
     "output_type": "display_data"
    }
   ],
   "source": [
    "import seaborn as sns\n",
    "import matplotlib.pyplot as plt\n",
    "print(y_train.value_counts())\n",
    "sns.countplot(x = y_train)\n",
    "plt.xticks(rotation = 0);"
   ]
  },
  {
   "cell_type": "code",
   "execution_count": 7,
   "metadata": {},
   "outputs": [
    {
     "name": "stderr",
     "output_type": "stream",
     "text": [
      "c:\\Users\\Asus\\AppData\\Local\\Programs\\Python\\Python312\\Lib\\site-packages\\tqdm\\auto.py:21: TqdmWarning: IProgress not found. Please update jupyter and ipywidgets. See https://ipywidgets.readthedocs.io/en/stable/user_install.html\n",
      "  from .autonotebook import tqdm as notebook_tqdm\n"
     ]
    }
   ],
   "source": [
    "import optuna\n",
    "from sklearn.metrics import f1_score\n",
    "from sklearn import svm\n",
    "\n",
    "def objective(trial):\n",
    "   svm_c = trial.suggest_float('svm_c', 1e-10, 1e10, log=True)\n",
    "   kernel = trial.suggest_categorical('kernel', ['linear', 'poly', 'rbf', 'sigmoid'])\n",
    "   clf = svm.SVC(C=svm_c, kernel=kernel)\n",
    "   clf.fit(X_train, y_train)\n",
    "   y_pred = clf.predict(X_test)\n",
    "   f1 = f1_score(y_test, y_pred, average='micro')\n",
    "   return f1"
   ]
  },
  {
   "cell_type": "code",
   "execution_count": 8,
   "metadata": {},
   "outputs": [
    {
     "name": "stderr",
     "output_type": "stream",
     "text": [
      "[I 2023-11-22 15:32:14,722] A new study created in memory with name: no-name-61432281-4b37-4f00-9cde-fdac2749d3cc\n"
     ]
    }
   ],
   "source": [
    "study = optuna.create_study(direction='maximize')"
   ]
  },
  {
   "cell_type": "code",
   "execution_count": 9,
   "metadata": {},
   "outputs": [
    {
     "name": "stderr",
     "output_type": "stream",
     "text": [
      "[I 2023-11-22 15:32:16,878] Trial 0 finished with value: 1.0 and parameters: {'svm_c': 474.8573142125484, 'kernel': 'rbf'}. Best is trial 0 with value: 1.0.\n"
     ]
    },
    {
     "name": "stderr",
     "output_type": "stream",
     "text": [
      "[I 2023-11-22 15:32:16,965] Trial 1 finished with value: 0.375 and parameters: {'svm_c': 7.022605026444894e-07, 'kernel': 'rbf'}. Best is trial 0 with value: 1.0.\n",
      "[I 2023-11-22 15:32:17,000] Trial 2 finished with value: 0.375 and parameters: {'svm_c': 1.4081228886622564e-08, 'kernel': 'linear'}. Best is trial 0 with value: 1.0.\n",
      "[I 2023-11-22 15:32:17,030] Trial 3 finished with value: 1.0 and parameters: {'svm_c': 118.0649158332372, 'kernel': 'poly'}. Best is trial 0 with value: 1.0.\n",
      "[I 2023-11-22 15:32:17,100] Trial 4 finished with value: 0.375 and parameters: {'svm_c': 0.0006220981133853732, 'kernel': 'rbf'}. Best is trial 0 with value: 1.0.\n",
      "[I 2023-11-22 15:32:17,121] Trial 5 finished with value: 1.0 and parameters: {'svm_c': 30395115.56588506, 'kernel': 'poly'}. Best is trial 0 with value: 1.0.\n",
      "[I 2023-11-22 15:32:17,146] Trial 6 finished with value: 1.0 and parameters: {'svm_c': 293860510.56128097, 'kernel': 'linear'}. Best is trial 0 with value: 1.0.\n",
      "[I 2023-11-22 15:32:17,167] Trial 7 finished with value: 1.0 and parameters: {'svm_c': 79748.7931240682, 'kernel': 'rbf'}. Best is trial 0 with value: 1.0.\n",
      "[I 2023-11-22 15:32:17,213] Trial 8 finished with value: 0.375 and parameters: {'svm_c': 0.002307920116499958, 'kernel': 'poly'}. Best is trial 0 with value: 1.0.\n",
      "[I 2023-11-22 15:32:17,276] Trial 9 finished with value: 0.375 and parameters: {'svm_c': 9.553897814759113e-06, 'kernel': 'rbf'}. Best is trial 0 with value: 1.0.\n",
      "[I 2023-11-22 15:32:17,312] Trial 10 finished with value: 0.32 and parameters: {'svm_c': 6.324734901204486, 'kernel': 'sigmoid'}. Best is trial 0 with value: 1.0.\n",
      "[I 2023-11-22 15:32:17,347] Trial 11 finished with value: 1.0 and parameters: {'svm_c': 326.89594498134073, 'kernel': 'poly'}. Best is trial 0 with value: 1.0.\n",
      "[I 2023-11-22 15:32:17,400] Trial 12 finished with value: 0.31 and parameters: {'svm_c': 1892.5249094528353, 'kernel': 'sigmoid'}. Best is trial 0 with value: 1.0.\n",
      "[I 2023-11-22 15:32:17,433] Trial 13 finished with value: 0.92 and parameters: {'svm_c': 0.49989924718117157, 'kernel': 'poly'}. Best is trial 0 with value: 1.0.\n",
      "[I 2023-11-22 15:32:17,459] Trial 14 finished with value: 1.0 and parameters: {'svm_c': 246828.68034076696, 'kernel': 'rbf'}. Best is trial 0 with value: 1.0.\n",
      "[I 2023-11-22 15:32:17,493] Trial 15 finished with value: 0.92 and parameters: {'svm_c': 0.658780310403822, 'kernel': 'poly'}. Best is trial 0 with value: 1.0.\n",
      "[I 2023-11-22 15:32:17,543] Trial 16 finished with value: 0.31 and parameters: {'svm_c': 1852324398.7809584, 'kernel': 'sigmoid'}. Best is trial 0 with value: 1.0.\n",
      "[I 2023-11-22 15:32:17,577] Trial 17 finished with value: 0.375 and parameters: {'svm_c': 3.0533383663315954e-10, 'kernel': 'linear'}. Best is trial 0 with value: 1.0.\n",
      "[I 2023-11-22 15:32:17,618] Trial 18 finished with value: 1.0 and parameters: {'svm_c': 326.9789248387216, 'kernel': 'poly'}. Best is trial 0 with value: 1.0.\n",
      "[I 2023-11-22 15:32:17,643] Trial 19 finished with value: 1.0 and parameters: {'svm_c': 283225.7911931806, 'kernel': 'rbf'}. Best is trial 0 with value: 1.0.\n",
      "[I 2023-11-22 15:32:17,676] Trial 20 finished with value: 0.96 and parameters: {'svm_c': 3.27129020535843, 'kernel': 'poly'}. Best is trial 0 with value: 1.0.\n",
      "[I 2023-11-22 15:32:17,717] Trial 21 finished with value: 1.0 and parameters: {'svm_c': 28342763.67349464, 'kernel': 'poly'}. Best is trial 0 with value: 1.0.\n",
      "[I 2023-11-22 15:32:17,766] Trial 22 finished with value: 1.0 and parameters: {'svm_c': 6643351.676182754, 'kernel': 'poly'}. Best is trial 0 with value: 1.0.\n",
      "[I 2023-11-22 15:32:17,801] Trial 23 finished with value: 1.0 and parameters: {'svm_c': 1248441619.0296884, 'kernel': 'poly'}. Best is trial 0 with value: 1.0.\n",
      "[I 2023-11-22 15:32:17,829] Trial 24 finished with value: 1.0 and parameters: {'svm_c': 8053.328438629293, 'kernel': 'poly'}. Best is trial 0 with value: 1.0.\n",
      "[I 2023-11-22 15:32:17,864] Trial 25 finished with value: 1.0 and parameters: {'svm_c': 2980900.08695446, 'kernel': 'rbf'}. Best is trial 0 with value: 1.0.\n",
      "[I 2023-11-22 15:32:17,898] Trial 26 finished with value: 1.0 and parameters: {'svm_c': 57876811.364500225, 'kernel': 'linear'}. Best is trial 0 with value: 1.0.\n",
      "[I 2023-11-22 15:32:17,947] Trial 27 finished with value: 0.31 and parameters: {'svm_c': 7160499726.034967, 'kernel': 'sigmoid'}. Best is trial 0 with value: 1.0.\n",
      "[I 2023-11-22 15:32:17,985] Trial 28 finished with value: 1.0 and parameters: {'svm_c': 25848.99358292505, 'kernel': 'poly'}. Best is trial 0 with value: 1.0.\n",
      "[I 2023-11-22 15:32:18,013] Trial 29 finished with value: 1.0 and parameters: {'svm_c': 2221611.838316417, 'kernel': 'rbf'}. Best is trial 0 with value: 1.0.\n",
      "[I 2023-11-22 15:32:18,043] Trial 30 finished with value: 1.0 and parameters: {'svm_c': 36.22748111346631, 'kernel': 'rbf'}. Best is trial 0 with value: 1.0.\n",
      "[I 2023-11-22 15:32:18,065] Trial 31 finished with value: 1.0 and parameters: {'svm_c': 82819460.16533723, 'kernel': 'linear'}. Best is trial 0 with value: 1.0.\n",
      "[I 2023-11-22 15:32:18,101] Trial 32 finished with value: 1.0 and parameters: {'svm_c': 323719242.46324396, 'kernel': 'poly'}. Best is trial 0 with value: 1.0.\n",
      "[I 2023-11-22 15:32:18,128] Trial 33 finished with value: 1.0 and parameters: {'svm_c': 6987962615.99262, 'kernel': 'linear'}. Best is trial 0 with value: 1.0.\n",
      "[I 2023-11-22 15:32:18,172] Trial 34 finished with value: 1.0 and parameters: {'svm_c': 474527.88648264017, 'kernel': 'linear'}. Best is trial 0 with value: 1.0.\n",
      "[I 2023-11-22 15:32:18,211] Trial 35 finished with value: 1.0 and parameters: {'svm_c': 12062.091928142057, 'kernel': 'linear'}. Best is trial 0 with value: 1.0.\n",
      "[I 2023-11-22 15:32:18,242] Trial 36 finished with value: 1.0 and parameters: {'svm_c': 235762709.40433827, 'kernel': 'linear'}. Best is trial 0 with value: 1.0.\n",
      "[I 2023-11-22 15:32:18,286] Trial 37 finished with value: 1.0 and parameters: {'svm_c': 72102.97625949823, 'kernel': 'rbf'}. Best is trial 0 with value: 1.0.\n",
      "[I 2023-11-22 15:32:18,317] Trial 38 finished with value: 1.0 and parameters: {'svm_c': 6483373.317308771, 'kernel': 'linear'}. Best is trial 0 with value: 1.0.\n",
      "[I 2023-11-22 15:32:18,384] Trial 39 finished with value: 0.8599999999999999 and parameters: {'svm_c': 0.09473890035002608, 'kernel': 'rbf'}. Best is trial 0 with value: 1.0.\n",
      "[I 2023-11-22 15:32:18,440] Trial 40 finished with value: 0.31 and parameters: {'svm_c': 585.8325304793193, 'kernel': 'sigmoid'}. Best is trial 0 with value: 1.0.\n",
      "[I 2023-11-22 15:32:18,467] Trial 41 finished with value: 1.0 and parameters: {'svm_c': 80.82641666709883, 'kernel': 'rbf'}. Best is trial 0 with value: 1.0.\n",
      "[I 2023-11-22 15:32:18,504] Trial 42 finished with value: 1.0 and parameters: {'svm_c': 5555.230077590715, 'kernel': 'rbf'}. Best is trial 0 with value: 1.0.\n",
      "[I 2023-11-22 15:32:18,537] Trial 43 finished with value: 1.0 and parameters: {'svm_c': 63444.39663429521, 'kernel': 'rbf'}. Best is trial 0 with value: 1.0.\n",
      "[I 2023-11-22 15:32:18,567] Trial 44 finished with value: 1.0 and parameters: {'svm_c': 3611.804612448773, 'kernel': 'poly'}. Best is trial 0 with value: 1.0.\n",
      "[I 2023-11-22 15:32:18,593] Trial 45 finished with value: 1.0 and parameters: {'svm_c': 695073.2734363169, 'kernel': 'rbf'}. Best is trial 0 with value: 1.0.\n",
      "[I 2023-11-22 15:32:18,626] Trial 46 finished with value: 1.0 and parameters: {'svm_c': 1191.4060374391174, 'kernel': 'poly'}. Best is trial 0 with value: 1.0.\n",
      "[I 2023-11-22 15:32:18,668] Trial 47 finished with value: 0.31 and parameters: {'svm_c': 17961796.50710921, 'kernel': 'sigmoid'}. Best is trial 0 with value: 1.0.\n",
      "[I 2023-11-22 15:32:18,702] Trial 48 finished with value: 1.0 and parameters: {'svm_c': 80.98988761378243, 'kernel': 'rbf'}. Best is trial 0 with value: 1.0.\n",
      "[I 2023-11-22 15:32:18,726] Trial 49 finished with value: 1.0 and parameters: {'svm_c': 119803.94323109521, 'kernel': 'poly'}. Best is trial 0 with value: 1.0.\n",
      "[I 2023-11-22 15:32:18,759] Trial 50 finished with value: 1.0 and parameters: {'svm_c': 1000470.1674541603, 'kernel': 'linear'}. Best is trial 0 with value: 1.0.\n",
      "[I 2023-11-22 15:32:18,793] Trial 51 finished with value: 1.0 and parameters: {'svm_c': 9.931175731507635, 'kernel': 'poly'}. Best is trial 0 with value: 1.0.\n",
      "[I 2023-11-22 15:32:18,818] Trial 52 finished with value: 1.0 and parameters: {'svm_c': 809.2170506682223, 'kernel': 'poly'}. Best is trial 0 with value: 1.0.\n",
      "[I 2023-11-22 15:32:18,851] Trial 53 finished with value: 1.0 and parameters: {'svm_c': 33461.667114580276, 'kernel': 'poly'}. Best is trial 0 with value: 1.0.\n",
      "[I 2023-11-22 15:32:18,878] Trial 54 finished with value: 1.0 and parameters: {'svm_c': 204.29279707309377, 'kernel': 'poly'}. Best is trial 0 with value: 1.0.\n",
      "[I 2023-11-22 15:32:18,909] Trial 55 finished with value: 1.0 and parameters: {'svm_c': 2010.2445642229422, 'kernel': 'poly'}. Best is trial 0 with value: 1.0.\n",
      "[I 2023-11-22 15:32:18,943] Trial 56 finished with value: 1.0 and parameters: {'svm_c': 4.615509362784612, 'kernel': 'poly'}. Best is trial 0 with value: 1.0.\n",
      "[I 2023-11-22 15:32:18,974] Trial 57 finished with value: 1.0 and parameters: {'svm_c': 11266892.66010183, 'kernel': 'rbf'}. Best is trial 0 with value: 1.0.\n",
      "[I 2023-11-22 15:32:19,029] Trial 58 finished with value: 0.31 and parameters: {'svm_c': 315061.12612770573, 'kernel': 'sigmoid'}. Best is trial 0 with value: 1.0.\n",
      "[I 2023-11-22 15:32:19,062] Trial 59 finished with value: 1.0 and parameters: {'svm_c': 16914.82066548963, 'kernel': 'poly'}. Best is trial 0 with value: 1.0.\n",
      "[I 2023-11-22 15:32:19,081] Trial 60 finished with value: 1.0 and parameters: {'svm_c': 22.211880615339894, 'kernel': 'rbf'}. Best is trial 0 with value: 1.0.\n",
      "[I 2023-11-22 15:32:19,117] Trial 61 finished with value: 1.0 and parameters: {'svm_c': 2284149.9471214092, 'kernel': 'rbf'}. Best is trial 0 with value: 1.0.\n",
      "[I 2023-11-22 15:32:19,143] Trial 62 finished with value: 1.0 and parameters: {'svm_c': 188.1819326041544, 'kernel': 'rbf'}. Best is trial 0 with value: 1.0.\n",
      "[I 2023-11-22 15:32:19,175] Trial 63 finished with value: 1.0 and parameters: {'svm_c': 54865173.068436995, 'kernel': 'rbf'}. Best is trial 0 with value: 1.0.\n",
      "[I 2023-11-22 15:32:19,202] Trial 64 finished with value: 1.0 and parameters: {'svm_c': 152892.11748646037, 'kernel': 'rbf'}. Best is trial 0 with value: 1.0.\n",
      "[I 2023-11-22 15:32:19,226] Trial 65 finished with value: 1.0 and parameters: {'svm_c': 4492.636414642321, 'kernel': 'linear'}. Best is trial 0 with value: 1.0.\n",
      "[I 2023-11-22 15:32:19,259] Trial 66 finished with value: 1.0 and parameters: {'svm_c': 727044116.1066476, 'kernel': 'poly'}. Best is trial 0 with value: 1.0.\n",
      "[I 2023-11-22 15:32:19,284] Trial 67 finished with value: 1.0 and parameters: {'svm_c': 3633874.676730605, 'kernel': 'rbf'}. Best is trial 0 with value: 1.0.\n",
      "[I 2023-11-22 15:32:19,317] Trial 68 finished with value: 1.0 and parameters: {'svm_c': 144506909.84642288, 'kernel': 'linear'}. Best is trial 0 with value: 1.0.\n",
      "[I 2023-11-22 15:32:19,342] Trial 69 finished with value: 1.0 and parameters: {'svm_c': 34856415.59360805, 'kernel': 'poly'}. Best is trial 0 with value: 1.0.\n",
      "[I 2023-11-22 15:32:19,376] Trial 70 finished with value: 1.0 and parameters: {'svm_c': 20027.720004830793, 'kernel': 'rbf'}. Best is trial 0 with value: 1.0.\n",
      "[I 2023-11-22 15:32:19,405] Trial 71 finished with value: 1.0 and parameters: {'svm_c': 353.4622685884546, 'kernel': 'poly'}. Best is trial 0 with value: 1.0.\n",
      "[I 2023-11-22 15:32:19,439] Trial 72 finished with value: 0.92 and parameters: {'svm_c': 0.7739585811679257, 'kernel': 'poly'}. Best is trial 0 with value: 1.0.\n",
      "[I 2023-11-22 15:32:19,470] Trial 73 finished with value: 1.0 and parameters: {'svm_c': 1780.8911962319255, 'kernel': 'poly'}. Best is trial 0 with value: 1.0.\n",
      "[I 2023-11-22 15:32:19,503] Trial 74 finished with value: 1.0 and parameters: {'svm_c': 37.45699207829533, 'kernel': 'poly'}. Best is trial 0 with value: 1.0.\n",
      "[I 2023-11-22 15:32:19,551] Trial 75 finished with value: 0.31 and parameters: {'svm_c': 11042.809577176688, 'kernel': 'sigmoid'}. Best is trial 0 with value: 1.0.\n",
      "[I 2023-11-22 15:32:19,578] Trial 76 finished with value: 1.0 and parameters: {'svm_c': 250342.49437469407, 'kernel': 'linear'}. Best is trial 0 with value: 1.0.\n",
      "[I 2023-11-22 15:32:19,610] Trial 77 finished with value: 1.0 and parameters: {'svm_c': 1076075.8916997907, 'kernel': 'poly'}. Best is trial 0 with value: 1.0.\n",
      "[I 2023-11-22 15:32:19,634] Trial 78 finished with value: 1.0 and parameters: {'svm_c': 50117.63290354338, 'kernel': 'rbf'}. Best is trial 0 with value: 1.0.\n",
      "[I 2023-11-22 15:32:19,669] Trial 79 finished with value: 1.0 and parameters: {'svm_c': 550.8465682198976, 'kernel': 'poly'}. Best is trial 0 with value: 1.0.\n",
      "[I 2023-11-22 15:32:19,692] Trial 80 finished with value: 1.0 and parameters: {'svm_c': 11094606.089087967, 'kernel': 'rbf'}. Best is trial 0 with value: 1.0.\n",
      "[I 2023-11-22 15:32:19,725] Trial 81 finished with value: 1.0 and parameters: {'svm_c': 5019.393239780596, 'kernel': 'rbf'}. Best is trial 0 with value: 1.0.\n",
      "[I 2023-11-22 15:32:19,753] Trial 82 finished with value: 1.0 and parameters: {'svm_c': 97090.54362138867, 'kernel': 'rbf'}. Best is trial 0 with value: 1.0.\n",
      "[I 2023-11-22 15:32:19,784] Trial 83 finished with value: 1.0 and parameters: {'svm_c': 769668.7976939365, 'kernel': 'rbf'}. Best is trial 0 with value: 1.0.\n",
      "[I 2023-11-22 15:32:19,809] Trial 84 finished with value: 1.0 and parameters: {'svm_c': 2280556918.1323266, 'kernel': 'linear'}. Best is trial 0 with value: 1.0.\n",
      "[I 2023-11-22 15:32:19,827] Trial 85 finished with value: 1.0 and parameters: {'svm_c': 141.37907762401662, 'kernel': 'rbf'}. Best is trial 0 with value: 1.0.\n",
      "[I 2023-11-22 15:32:19,869] Trial 86 finished with value: 1.0 and parameters: {'svm_c': 1045.870344093189, 'kernel': 'poly'}. Best is trial 0 with value: 1.0.\n",
      "[I 2023-11-22 15:32:19,909] Trial 87 finished with value: 1.0 and parameters: {'svm_c': 4906956.230192326, 'kernel': 'rbf'}. Best is trial 0 with value: 1.0.\n",
      "[I 2023-11-22 15:32:19,950] Trial 88 finished with value: 0.955 and parameters: {'svm_c': 2.1163893822546567, 'kernel': 'poly'}. Best is trial 0 with value: 1.0.\n",
      "[I 2023-11-22 15:32:20,003] Trial 89 finished with value: 0.31 and parameters: {'svm_c': 27663.121860529565, 'kernel': 'sigmoid'}. Best is trial 0 with value: 1.0.\n",
      "[I 2023-11-22 15:32:20,033] Trial 90 finished with value: 1.0 and parameters: {'svm_c': 91427852.8649957, 'kernel': 'linear'}. Best is trial 0 with value: 1.0.\n",
      "[I 2023-11-22 15:32:20,059] Trial 91 finished with value: 1.0 and parameters: {'svm_c': 31747345.99142107, 'kernel': 'poly'}. Best is trial 0 with value: 1.0.\n",
      "[I 2023-11-22 15:32:20,083] Trial 92 finished with value: 1.0 and parameters: {'svm_c': 321985903.1925437, 'kernel': 'poly'}. Best is trial 0 with value: 1.0.\n",
      "[I 2023-11-22 15:32:20,118] Trial 93 finished with value: 1.0 and parameters: {'svm_c': 1961653.551300898, 'kernel': 'poly'}. Best is trial 0 with value: 1.0.\n",
      "[I 2023-11-22 15:32:20,151] Trial 94 finished with value: 1.0 and parameters: {'svm_c': 232190.31311473966, 'kernel': 'poly'}. Best is trial 0 with value: 1.0.\n",
      "[I 2023-11-22 15:32:20,178] Trial 95 finished with value: 1.0 and parameters: {'svm_c': 2158.891272061438, 'kernel': 'rbf'}. Best is trial 0 with value: 1.0.\n",
      "[I 2023-11-22 15:32:20,210] Trial 96 finished with value: 1.0 and parameters: {'svm_c': 9843685.28197039, 'kernel': 'poly'}. Best is trial 0 with value: 1.0.\n",
      "[I 2023-11-22 15:32:20,244] Trial 97 finished with value: 1.0 and parameters: {'svm_c': 407185.51239535294, 'kernel': 'poly'}. Best is trial 0 with value: 1.0.\n",
      "[I 2023-11-22 15:32:20,269] Trial 98 finished with value: 1.0 and parameters: {'svm_c': 8122.762669090292, 'kernel': 'rbf'}. Best is trial 0 with value: 1.0.\n",
      "[I 2023-11-22 15:32:20,304] Trial 99 finished with value: 1.0 and parameters: {'svm_c': 374.2450152956023, 'kernel': 'poly'}. Best is trial 0 with value: 1.0.\n"
     ]
    },
    {
     "data": {
      "text/plain": [
       "{'svm_c': 474.8573142125484, 'kernel': 'rbf'}"
      ]
     },
     "execution_count": 9,
     "metadata": {},
     "output_type": "execute_result"
    }
   ],
   "source": [
    "study.optimize(objective, n_trials=100)\n",
    "study.best_params"
   ]
  },
  {
   "cell_type": "code",
   "execution_count": 10,
   "metadata": {},
   "outputs": [
    {
     "data": {
      "application/vnd.plotly.v1+json": {
       "config": {
        "plotlyServerURL": "https://plot.ly"
       },
       "data": [
        {
         "mode": "markers",
         "name": "Objective Value",
         "type": "scatter",
         "x": [
          0,
          1,
          2,
          3,
          4,
          5,
          6,
          7,
          8,
          9,
          10,
          11,
          12,
          13,
          14,
          15,
          16,
          17,
          18,
          19,
          20,
          21,
          22,
          23,
          24,
          25,
          26,
          27,
          28,
          29,
          30,
          31,
          32,
          33,
          34,
          35,
          36,
          37,
          38,
          39,
          40,
          41,
          42,
          43,
          44,
          45,
          46,
          47,
          48,
          49,
          50,
          51,
          52,
          53,
          54,
          55,
          56,
          57,
          58,
          59,
          60,
          61,
          62,
          63,
          64,
          65,
          66,
          67,
          68,
          69,
          70,
          71,
          72,
          73,
          74,
          75,
          76,
          77,
          78,
          79,
          80,
          81,
          82,
          83,
          84,
          85,
          86,
          87,
          88,
          89,
          90,
          91,
          92,
          93,
          94,
          95,
          96,
          97,
          98,
          99
         ],
         "y": [
          1,
          0.375,
          0.375,
          1,
          0.375,
          1,
          1,
          1,
          0.375,
          0.375,
          0.32,
          1,
          0.31,
          0.92,
          1,
          0.92,
          0.31,
          0.375,
          1,
          1,
          0.96,
          1,
          1,
          1,
          1,
          1,
          1,
          0.31,
          1,
          1,
          1,
          1,
          1,
          1,
          1,
          1,
          1,
          1,
          1,
          0.8599999999999999,
          0.31,
          1,
          1,
          1,
          1,
          1,
          1,
          0.31,
          1,
          1,
          1,
          1,
          1,
          1,
          1,
          1,
          1,
          1,
          0.31,
          1,
          1,
          1,
          1,
          1,
          1,
          1,
          1,
          1,
          1,
          1,
          1,
          1,
          0.92,
          1,
          1,
          0.31,
          1,
          1,
          1,
          1,
          1,
          1,
          1,
          1,
          1,
          1,
          1,
          1,
          0.955,
          0.31,
          1,
          1,
          1,
          1,
          1,
          1,
          1,
          1,
          1,
          1
         ]
        },
        {
         "mode": "lines",
         "name": "Best Value",
         "type": "scatter",
         "x": [
          0,
          1,
          2,
          3,
          4,
          5,
          6,
          7,
          8,
          9,
          10,
          11,
          12,
          13,
          14,
          15,
          16,
          17,
          18,
          19,
          20,
          21,
          22,
          23,
          24,
          25,
          26,
          27,
          28,
          29,
          30,
          31,
          32,
          33,
          34,
          35,
          36,
          37,
          38,
          39,
          40,
          41,
          42,
          43,
          44,
          45,
          46,
          47,
          48,
          49,
          50,
          51,
          52,
          53,
          54,
          55,
          56,
          57,
          58,
          59,
          60,
          61,
          62,
          63,
          64,
          65,
          66,
          67,
          68,
          69,
          70,
          71,
          72,
          73,
          74,
          75,
          76,
          77,
          78,
          79,
          80,
          81,
          82,
          83,
          84,
          85,
          86,
          87,
          88,
          89,
          90,
          91,
          92,
          93,
          94,
          95,
          96,
          97,
          98,
          99
         ],
         "y": [
          1,
          1,
          1,
          1,
          1,
          1,
          1,
          1,
          1,
          1,
          1,
          1,
          1,
          1,
          1,
          1,
          1,
          1,
          1,
          1,
          1,
          1,
          1,
          1,
          1,
          1,
          1,
          1,
          1,
          1,
          1,
          1,
          1,
          1,
          1,
          1,
          1,
          1,
          1,
          1,
          1,
          1,
          1,
          1,
          1,
          1,
          1,
          1,
          1,
          1,
          1,
          1,
          1,
          1,
          1,
          1,
          1,
          1,
          1,
          1,
          1,
          1,
          1,
          1,
          1,
          1,
          1,
          1,
          1,
          1,
          1,
          1,
          1,
          1,
          1,
          1,
          1,
          1,
          1,
          1,
          1,
          1,
          1,
          1,
          1,
          1,
          1,
          1,
          1,
          1,
          1,
          1,
          1,
          1,
          1,
          1,
          1,
          1,
          1,
          1
         ]
        },
        {
         "marker": {
          "color": "#cccccc"
         },
         "mode": "markers",
         "name": "Infeasible Trial",
         "showlegend": false,
         "type": "scatter",
         "x": [],
         "y": []
        }
       ],
       "layout": {
        "template": {
         "data": {
          "bar": [
           {
            "error_x": {
             "color": "#2a3f5f"
            },
            "error_y": {
             "color": "#2a3f5f"
            },
            "marker": {
             "line": {
              "color": "#E5ECF6",
              "width": 0.5
             },
             "pattern": {
              "fillmode": "overlay",
              "size": 10,
              "solidity": 0.2
             }
            },
            "type": "bar"
           }
          ],
          "barpolar": [
           {
            "marker": {
             "line": {
              "color": "#E5ECF6",
              "width": 0.5
             },
             "pattern": {
              "fillmode": "overlay",
              "size": 10,
              "solidity": 0.2
             }
            },
            "type": "barpolar"
           }
          ],
          "carpet": [
           {
            "aaxis": {
             "endlinecolor": "#2a3f5f",
             "gridcolor": "white",
             "linecolor": "white",
             "minorgridcolor": "white",
             "startlinecolor": "#2a3f5f"
            },
            "baxis": {
             "endlinecolor": "#2a3f5f",
             "gridcolor": "white",
             "linecolor": "white",
             "minorgridcolor": "white",
             "startlinecolor": "#2a3f5f"
            },
            "type": "carpet"
           }
          ],
          "choropleth": [
           {
            "colorbar": {
             "outlinewidth": 0,
             "ticks": ""
            },
            "type": "choropleth"
           }
          ],
          "contour": [
           {
            "colorbar": {
             "outlinewidth": 0,
             "ticks": ""
            },
            "colorscale": [
             [
              0,
              "#0d0887"
             ],
             [
              0.1111111111111111,
              "#46039f"
             ],
             [
              0.2222222222222222,
              "#7201a8"
             ],
             [
              0.3333333333333333,
              "#9c179e"
             ],
             [
              0.4444444444444444,
              "#bd3786"
             ],
             [
              0.5555555555555556,
              "#d8576b"
             ],
             [
              0.6666666666666666,
              "#ed7953"
             ],
             [
              0.7777777777777778,
              "#fb9f3a"
             ],
             [
              0.8888888888888888,
              "#fdca26"
             ],
             [
              1,
              "#f0f921"
             ]
            ],
            "type": "contour"
           }
          ],
          "contourcarpet": [
           {
            "colorbar": {
             "outlinewidth": 0,
             "ticks": ""
            },
            "type": "contourcarpet"
           }
          ],
          "heatmap": [
           {
            "colorbar": {
             "outlinewidth": 0,
             "ticks": ""
            },
            "colorscale": [
             [
              0,
              "#0d0887"
             ],
             [
              0.1111111111111111,
              "#46039f"
             ],
             [
              0.2222222222222222,
              "#7201a8"
             ],
             [
              0.3333333333333333,
              "#9c179e"
             ],
             [
              0.4444444444444444,
              "#bd3786"
             ],
             [
              0.5555555555555556,
              "#d8576b"
             ],
             [
              0.6666666666666666,
              "#ed7953"
             ],
             [
              0.7777777777777778,
              "#fb9f3a"
             ],
             [
              0.8888888888888888,
              "#fdca26"
             ],
             [
              1,
              "#f0f921"
             ]
            ],
            "type": "heatmap"
           }
          ],
          "heatmapgl": [
           {
            "colorbar": {
             "outlinewidth": 0,
             "ticks": ""
            },
            "colorscale": [
             [
              0,
              "#0d0887"
             ],
             [
              0.1111111111111111,
              "#46039f"
             ],
             [
              0.2222222222222222,
              "#7201a8"
             ],
             [
              0.3333333333333333,
              "#9c179e"
             ],
             [
              0.4444444444444444,
              "#bd3786"
             ],
             [
              0.5555555555555556,
              "#d8576b"
             ],
             [
              0.6666666666666666,
              "#ed7953"
             ],
             [
              0.7777777777777778,
              "#fb9f3a"
             ],
             [
              0.8888888888888888,
              "#fdca26"
             ],
             [
              1,
              "#f0f921"
             ]
            ],
            "type": "heatmapgl"
           }
          ],
          "histogram": [
           {
            "marker": {
             "pattern": {
              "fillmode": "overlay",
              "size": 10,
              "solidity": 0.2
             }
            },
            "type": "histogram"
           }
          ],
          "histogram2d": [
           {
            "colorbar": {
             "outlinewidth": 0,
             "ticks": ""
            },
            "colorscale": [
             [
              0,
              "#0d0887"
             ],
             [
              0.1111111111111111,
              "#46039f"
             ],
             [
              0.2222222222222222,
              "#7201a8"
             ],
             [
              0.3333333333333333,
              "#9c179e"
             ],
             [
              0.4444444444444444,
              "#bd3786"
             ],
             [
              0.5555555555555556,
              "#d8576b"
             ],
             [
              0.6666666666666666,
              "#ed7953"
             ],
             [
              0.7777777777777778,
              "#fb9f3a"
             ],
             [
              0.8888888888888888,
              "#fdca26"
             ],
             [
              1,
              "#f0f921"
             ]
            ],
            "type": "histogram2d"
           }
          ],
          "histogram2dcontour": [
           {
            "colorbar": {
             "outlinewidth": 0,
             "ticks": ""
            },
            "colorscale": [
             [
              0,
              "#0d0887"
             ],
             [
              0.1111111111111111,
              "#46039f"
             ],
             [
              0.2222222222222222,
              "#7201a8"
             ],
             [
              0.3333333333333333,
              "#9c179e"
             ],
             [
              0.4444444444444444,
              "#bd3786"
             ],
             [
              0.5555555555555556,
              "#d8576b"
             ],
             [
              0.6666666666666666,
              "#ed7953"
             ],
             [
              0.7777777777777778,
              "#fb9f3a"
             ],
             [
              0.8888888888888888,
              "#fdca26"
             ],
             [
              1,
              "#f0f921"
             ]
            ],
            "type": "histogram2dcontour"
           }
          ],
          "mesh3d": [
           {
            "colorbar": {
             "outlinewidth": 0,
             "ticks": ""
            },
            "type": "mesh3d"
           }
          ],
          "parcoords": [
           {
            "line": {
             "colorbar": {
              "outlinewidth": 0,
              "ticks": ""
             }
            },
            "type": "parcoords"
           }
          ],
          "pie": [
           {
            "automargin": true,
            "type": "pie"
           }
          ],
          "scatter": [
           {
            "fillpattern": {
             "fillmode": "overlay",
             "size": 10,
             "solidity": 0.2
            },
            "type": "scatter"
           }
          ],
          "scatter3d": [
           {
            "line": {
             "colorbar": {
              "outlinewidth": 0,
              "ticks": ""
             }
            },
            "marker": {
             "colorbar": {
              "outlinewidth": 0,
              "ticks": ""
             }
            },
            "type": "scatter3d"
           }
          ],
          "scattercarpet": [
           {
            "marker": {
             "colorbar": {
              "outlinewidth": 0,
              "ticks": ""
             }
            },
            "type": "scattercarpet"
           }
          ],
          "scattergeo": [
           {
            "marker": {
             "colorbar": {
              "outlinewidth": 0,
              "ticks": ""
             }
            },
            "type": "scattergeo"
           }
          ],
          "scattergl": [
           {
            "marker": {
             "colorbar": {
              "outlinewidth": 0,
              "ticks": ""
             }
            },
            "type": "scattergl"
           }
          ],
          "scattermapbox": [
           {
            "marker": {
             "colorbar": {
              "outlinewidth": 0,
              "ticks": ""
             }
            },
            "type": "scattermapbox"
           }
          ],
          "scatterpolar": [
           {
            "marker": {
             "colorbar": {
              "outlinewidth": 0,
              "ticks": ""
             }
            },
            "type": "scatterpolar"
           }
          ],
          "scatterpolargl": [
           {
            "marker": {
             "colorbar": {
              "outlinewidth": 0,
              "ticks": ""
             }
            },
            "type": "scatterpolargl"
           }
          ],
          "scatterternary": [
           {
            "marker": {
             "colorbar": {
              "outlinewidth": 0,
              "ticks": ""
             }
            },
            "type": "scatterternary"
           }
          ],
          "surface": [
           {
            "colorbar": {
             "outlinewidth": 0,
             "ticks": ""
            },
            "colorscale": [
             [
              0,
              "#0d0887"
             ],
             [
              0.1111111111111111,
              "#46039f"
             ],
             [
              0.2222222222222222,
              "#7201a8"
             ],
             [
              0.3333333333333333,
              "#9c179e"
             ],
             [
              0.4444444444444444,
              "#bd3786"
             ],
             [
              0.5555555555555556,
              "#d8576b"
             ],
             [
              0.6666666666666666,
              "#ed7953"
             ],
             [
              0.7777777777777778,
              "#fb9f3a"
             ],
             [
              0.8888888888888888,
              "#fdca26"
             ],
             [
              1,
              "#f0f921"
             ]
            ],
            "type": "surface"
           }
          ],
          "table": [
           {
            "cells": {
             "fill": {
              "color": "#EBF0F8"
             },
             "line": {
              "color": "white"
             }
            },
            "header": {
             "fill": {
              "color": "#C8D4E3"
             },
             "line": {
              "color": "white"
             }
            },
            "type": "table"
           }
          ]
         },
         "layout": {
          "annotationdefaults": {
           "arrowcolor": "#2a3f5f",
           "arrowhead": 0,
           "arrowwidth": 1
          },
          "autotypenumbers": "strict",
          "coloraxis": {
           "colorbar": {
            "outlinewidth": 0,
            "ticks": ""
           }
          },
          "colorscale": {
           "diverging": [
            [
             0,
             "#8e0152"
            ],
            [
             0.1,
             "#c51b7d"
            ],
            [
             0.2,
             "#de77ae"
            ],
            [
             0.3,
             "#f1b6da"
            ],
            [
             0.4,
             "#fde0ef"
            ],
            [
             0.5,
             "#f7f7f7"
            ],
            [
             0.6,
             "#e6f5d0"
            ],
            [
             0.7,
             "#b8e186"
            ],
            [
             0.8,
             "#7fbc41"
            ],
            [
             0.9,
             "#4d9221"
            ],
            [
             1,
             "#276419"
            ]
           ],
           "sequential": [
            [
             0,
             "#0d0887"
            ],
            [
             0.1111111111111111,
             "#46039f"
            ],
            [
             0.2222222222222222,
             "#7201a8"
            ],
            [
             0.3333333333333333,
             "#9c179e"
            ],
            [
             0.4444444444444444,
             "#bd3786"
            ],
            [
             0.5555555555555556,
             "#d8576b"
            ],
            [
             0.6666666666666666,
             "#ed7953"
            ],
            [
             0.7777777777777778,
             "#fb9f3a"
            ],
            [
             0.8888888888888888,
             "#fdca26"
            ],
            [
             1,
             "#f0f921"
            ]
           ],
           "sequentialminus": [
            [
             0,
             "#0d0887"
            ],
            [
             0.1111111111111111,
             "#46039f"
            ],
            [
             0.2222222222222222,
             "#7201a8"
            ],
            [
             0.3333333333333333,
             "#9c179e"
            ],
            [
             0.4444444444444444,
             "#bd3786"
            ],
            [
             0.5555555555555556,
             "#d8576b"
            ],
            [
             0.6666666666666666,
             "#ed7953"
            ],
            [
             0.7777777777777778,
             "#fb9f3a"
            ],
            [
             0.8888888888888888,
             "#fdca26"
            ],
            [
             1,
             "#f0f921"
            ]
           ]
          },
          "colorway": [
           "#636efa",
           "#EF553B",
           "#00cc96",
           "#ab63fa",
           "#FFA15A",
           "#19d3f3",
           "#FF6692",
           "#B6E880",
           "#FF97FF",
           "#FECB52"
          ],
          "font": {
           "color": "#2a3f5f"
          },
          "geo": {
           "bgcolor": "white",
           "lakecolor": "white",
           "landcolor": "#E5ECF6",
           "showlakes": true,
           "showland": true,
           "subunitcolor": "white"
          },
          "hoverlabel": {
           "align": "left"
          },
          "hovermode": "closest",
          "mapbox": {
           "style": "light"
          },
          "paper_bgcolor": "white",
          "plot_bgcolor": "#E5ECF6",
          "polar": {
           "angularaxis": {
            "gridcolor": "white",
            "linecolor": "white",
            "ticks": ""
           },
           "bgcolor": "#E5ECF6",
           "radialaxis": {
            "gridcolor": "white",
            "linecolor": "white",
            "ticks": ""
           }
          },
          "scene": {
           "xaxis": {
            "backgroundcolor": "#E5ECF6",
            "gridcolor": "white",
            "gridwidth": 2,
            "linecolor": "white",
            "showbackground": true,
            "ticks": "",
            "zerolinecolor": "white"
           },
           "yaxis": {
            "backgroundcolor": "#E5ECF6",
            "gridcolor": "white",
            "gridwidth": 2,
            "linecolor": "white",
            "showbackground": true,
            "ticks": "",
            "zerolinecolor": "white"
           },
           "zaxis": {
            "backgroundcolor": "#E5ECF6",
            "gridcolor": "white",
            "gridwidth": 2,
            "linecolor": "white",
            "showbackground": true,
            "ticks": "",
            "zerolinecolor": "white"
           }
          },
          "shapedefaults": {
           "line": {
            "color": "#2a3f5f"
           }
          },
          "ternary": {
           "aaxis": {
            "gridcolor": "white",
            "linecolor": "white",
            "ticks": ""
           },
           "baxis": {
            "gridcolor": "white",
            "linecolor": "white",
            "ticks": ""
           },
           "bgcolor": "#E5ECF6",
           "caxis": {
            "gridcolor": "white",
            "linecolor": "white",
            "ticks": ""
           }
          },
          "title": {
           "x": 0.05
          },
          "xaxis": {
           "automargin": true,
           "gridcolor": "white",
           "linecolor": "white",
           "ticks": "",
           "title": {
            "standoff": 15
           },
           "zerolinecolor": "white",
           "zerolinewidth": 2
          },
          "yaxis": {
           "automargin": true,
           "gridcolor": "white",
           "linecolor": "white",
           "ticks": "",
           "title": {
            "standoff": 15
           },
           "zerolinecolor": "white",
           "zerolinewidth": 2
          }
         }
        },
        "title": {
         "text": "Optimization History Plot"
        },
        "xaxis": {
         "title": {
          "text": "Trial"
         }
        },
        "yaxis": {
         "title": {
          "text": "Objective Value"
         }
        }
       }
      }
     },
     "metadata": {},
     "output_type": "display_data"
    },
    {
     "data": {
      "application/vnd.plotly.v1+json": {
       "config": {
        "plotlyServerURL": "https://plot.ly"
       },
       "data": [
        {
         "cliponaxis": false,
         "hovertemplate": [
          "svm_c (FloatDistribution): 4.263295603056167e-11<extra></extra>",
          "kernel (CategoricalDistribution): 0.999999999957367<extra></extra>"
         ],
         "name": "Objective Value",
         "orientation": "h",
         "text": [
          "<0.01",
          "1.00"
         ],
         "textposition": "outside",
         "type": "bar",
         "x": [
          4.263295603056167e-11,
          0.999999999957367
         ],
         "y": [
          "svm_c",
          "kernel"
         ]
        }
       ],
       "layout": {
        "template": {
         "data": {
          "bar": [
           {
            "error_x": {
             "color": "#2a3f5f"
            },
            "error_y": {
             "color": "#2a3f5f"
            },
            "marker": {
             "line": {
              "color": "#E5ECF6",
              "width": 0.5
             },
             "pattern": {
              "fillmode": "overlay",
              "size": 10,
              "solidity": 0.2
             }
            },
            "type": "bar"
           }
          ],
          "barpolar": [
           {
            "marker": {
             "line": {
              "color": "#E5ECF6",
              "width": 0.5
             },
             "pattern": {
              "fillmode": "overlay",
              "size": 10,
              "solidity": 0.2
             }
            },
            "type": "barpolar"
           }
          ],
          "carpet": [
           {
            "aaxis": {
             "endlinecolor": "#2a3f5f",
             "gridcolor": "white",
             "linecolor": "white",
             "minorgridcolor": "white",
             "startlinecolor": "#2a3f5f"
            },
            "baxis": {
             "endlinecolor": "#2a3f5f",
             "gridcolor": "white",
             "linecolor": "white",
             "minorgridcolor": "white",
             "startlinecolor": "#2a3f5f"
            },
            "type": "carpet"
           }
          ],
          "choropleth": [
           {
            "colorbar": {
             "outlinewidth": 0,
             "ticks": ""
            },
            "type": "choropleth"
           }
          ],
          "contour": [
           {
            "colorbar": {
             "outlinewidth": 0,
             "ticks": ""
            },
            "colorscale": [
             [
              0,
              "#0d0887"
             ],
             [
              0.1111111111111111,
              "#46039f"
             ],
             [
              0.2222222222222222,
              "#7201a8"
             ],
             [
              0.3333333333333333,
              "#9c179e"
             ],
             [
              0.4444444444444444,
              "#bd3786"
             ],
             [
              0.5555555555555556,
              "#d8576b"
             ],
             [
              0.6666666666666666,
              "#ed7953"
             ],
             [
              0.7777777777777778,
              "#fb9f3a"
             ],
             [
              0.8888888888888888,
              "#fdca26"
             ],
             [
              1,
              "#f0f921"
             ]
            ],
            "type": "contour"
           }
          ],
          "contourcarpet": [
           {
            "colorbar": {
             "outlinewidth": 0,
             "ticks": ""
            },
            "type": "contourcarpet"
           }
          ],
          "heatmap": [
           {
            "colorbar": {
             "outlinewidth": 0,
             "ticks": ""
            },
            "colorscale": [
             [
              0,
              "#0d0887"
             ],
             [
              0.1111111111111111,
              "#46039f"
             ],
             [
              0.2222222222222222,
              "#7201a8"
             ],
             [
              0.3333333333333333,
              "#9c179e"
             ],
             [
              0.4444444444444444,
              "#bd3786"
             ],
             [
              0.5555555555555556,
              "#d8576b"
             ],
             [
              0.6666666666666666,
              "#ed7953"
             ],
             [
              0.7777777777777778,
              "#fb9f3a"
             ],
             [
              0.8888888888888888,
              "#fdca26"
             ],
             [
              1,
              "#f0f921"
             ]
            ],
            "type": "heatmap"
           }
          ],
          "heatmapgl": [
           {
            "colorbar": {
             "outlinewidth": 0,
             "ticks": ""
            },
            "colorscale": [
             [
              0,
              "#0d0887"
             ],
             [
              0.1111111111111111,
              "#46039f"
             ],
             [
              0.2222222222222222,
              "#7201a8"
             ],
             [
              0.3333333333333333,
              "#9c179e"
             ],
             [
              0.4444444444444444,
              "#bd3786"
             ],
             [
              0.5555555555555556,
              "#d8576b"
             ],
             [
              0.6666666666666666,
              "#ed7953"
             ],
             [
              0.7777777777777778,
              "#fb9f3a"
             ],
             [
              0.8888888888888888,
              "#fdca26"
             ],
             [
              1,
              "#f0f921"
             ]
            ],
            "type": "heatmapgl"
           }
          ],
          "histogram": [
           {
            "marker": {
             "pattern": {
              "fillmode": "overlay",
              "size": 10,
              "solidity": 0.2
             }
            },
            "type": "histogram"
           }
          ],
          "histogram2d": [
           {
            "colorbar": {
             "outlinewidth": 0,
             "ticks": ""
            },
            "colorscale": [
             [
              0,
              "#0d0887"
             ],
             [
              0.1111111111111111,
              "#46039f"
             ],
             [
              0.2222222222222222,
              "#7201a8"
             ],
             [
              0.3333333333333333,
              "#9c179e"
             ],
             [
              0.4444444444444444,
              "#bd3786"
             ],
             [
              0.5555555555555556,
              "#d8576b"
             ],
             [
              0.6666666666666666,
              "#ed7953"
             ],
             [
              0.7777777777777778,
              "#fb9f3a"
             ],
             [
              0.8888888888888888,
              "#fdca26"
             ],
             [
              1,
              "#f0f921"
             ]
            ],
            "type": "histogram2d"
           }
          ],
          "histogram2dcontour": [
           {
            "colorbar": {
             "outlinewidth": 0,
             "ticks": ""
            },
            "colorscale": [
             [
              0,
              "#0d0887"
             ],
             [
              0.1111111111111111,
              "#46039f"
             ],
             [
              0.2222222222222222,
              "#7201a8"
             ],
             [
              0.3333333333333333,
              "#9c179e"
             ],
             [
              0.4444444444444444,
              "#bd3786"
             ],
             [
              0.5555555555555556,
              "#d8576b"
             ],
             [
              0.6666666666666666,
              "#ed7953"
             ],
             [
              0.7777777777777778,
              "#fb9f3a"
             ],
             [
              0.8888888888888888,
              "#fdca26"
             ],
             [
              1,
              "#f0f921"
             ]
            ],
            "type": "histogram2dcontour"
           }
          ],
          "mesh3d": [
           {
            "colorbar": {
             "outlinewidth": 0,
             "ticks": ""
            },
            "type": "mesh3d"
           }
          ],
          "parcoords": [
           {
            "line": {
             "colorbar": {
              "outlinewidth": 0,
              "ticks": ""
             }
            },
            "type": "parcoords"
           }
          ],
          "pie": [
           {
            "automargin": true,
            "type": "pie"
           }
          ],
          "scatter": [
           {
            "fillpattern": {
             "fillmode": "overlay",
             "size": 10,
             "solidity": 0.2
            },
            "type": "scatter"
           }
          ],
          "scatter3d": [
           {
            "line": {
             "colorbar": {
              "outlinewidth": 0,
              "ticks": ""
             }
            },
            "marker": {
             "colorbar": {
              "outlinewidth": 0,
              "ticks": ""
             }
            },
            "type": "scatter3d"
           }
          ],
          "scattercarpet": [
           {
            "marker": {
             "colorbar": {
              "outlinewidth": 0,
              "ticks": ""
             }
            },
            "type": "scattercarpet"
           }
          ],
          "scattergeo": [
           {
            "marker": {
             "colorbar": {
              "outlinewidth": 0,
              "ticks": ""
             }
            },
            "type": "scattergeo"
           }
          ],
          "scattergl": [
           {
            "marker": {
             "colorbar": {
              "outlinewidth": 0,
              "ticks": ""
             }
            },
            "type": "scattergl"
           }
          ],
          "scattermapbox": [
           {
            "marker": {
             "colorbar": {
              "outlinewidth": 0,
              "ticks": ""
             }
            },
            "type": "scattermapbox"
           }
          ],
          "scatterpolar": [
           {
            "marker": {
             "colorbar": {
              "outlinewidth": 0,
              "ticks": ""
             }
            },
            "type": "scatterpolar"
           }
          ],
          "scatterpolargl": [
           {
            "marker": {
             "colorbar": {
              "outlinewidth": 0,
              "ticks": ""
             }
            },
            "type": "scatterpolargl"
           }
          ],
          "scatterternary": [
           {
            "marker": {
             "colorbar": {
              "outlinewidth": 0,
              "ticks": ""
             }
            },
            "type": "scatterternary"
           }
          ],
          "surface": [
           {
            "colorbar": {
             "outlinewidth": 0,
             "ticks": ""
            },
            "colorscale": [
             [
              0,
              "#0d0887"
             ],
             [
              0.1111111111111111,
              "#46039f"
             ],
             [
              0.2222222222222222,
              "#7201a8"
             ],
             [
              0.3333333333333333,
              "#9c179e"
             ],
             [
              0.4444444444444444,
              "#bd3786"
             ],
             [
              0.5555555555555556,
              "#d8576b"
             ],
             [
              0.6666666666666666,
              "#ed7953"
             ],
             [
              0.7777777777777778,
              "#fb9f3a"
             ],
             [
              0.8888888888888888,
              "#fdca26"
             ],
             [
              1,
              "#f0f921"
             ]
            ],
            "type": "surface"
           }
          ],
          "table": [
           {
            "cells": {
             "fill": {
              "color": "#EBF0F8"
             },
             "line": {
              "color": "white"
             }
            },
            "header": {
             "fill": {
              "color": "#C8D4E3"
             },
             "line": {
              "color": "white"
             }
            },
            "type": "table"
           }
          ]
         },
         "layout": {
          "annotationdefaults": {
           "arrowcolor": "#2a3f5f",
           "arrowhead": 0,
           "arrowwidth": 1
          },
          "autotypenumbers": "strict",
          "coloraxis": {
           "colorbar": {
            "outlinewidth": 0,
            "ticks": ""
           }
          },
          "colorscale": {
           "diverging": [
            [
             0,
             "#8e0152"
            ],
            [
             0.1,
             "#c51b7d"
            ],
            [
             0.2,
             "#de77ae"
            ],
            [
             0.3,
             "#f1b6da"
            ],
            [
             0.4,
             "#fde0ef"
            ],
            [
             0.5,
             "#f7f7f7"
            ],
            [
             0.6,
             "#e6f5d0"
            ],
            [
             0.7,
             "#b8e186"
            ],
            [
             0.8,
             "#7fbc41"
            ],
            [
             0.9,
             "#4d9221"
            ],
            [
             1,
             "#276419"
            ]
           ],
           "sequential": [
            [
             0,
             "#0d0887"
            ],
            [
             0.1111111111111111,
             "#46039f"
            ],
            [
             0.2222222222222222,
             "#7201a8"
            ],
            [
             0.3333333333333333,
             "#9c179e"
            ],
            [
             0.4444444444444444,
             "#bd3786"
            ],
            [
             0.5555555555555556,
             "#d8576b"
            ],
            [
             0.6666666666666666,
             "#ed7953"
            ],
            [
             0.7777777777777778,
             "#fb9f3a"
            ],
            [
             0.8888888888888888,
             "#fdca26"
            ],
            [
             1,
             "#f0f921"
            ]
           ],
           "sequentialminus": [
            [
             0,
             "#0d0887"
            ],
            [
             0.1111111111111111,
             "#46039f"
            ],
            [
             0.2222222222222222,
             "#7201a8"
            ],
            [
             0.3333333333333333,
             "#9c179e"
            ],
            [
             0.4444444444444444,
             "#bd3786"
            ],
            [
             0.5555555555555556,
             "#d8576b"
            ],
            [
             0.6666666666666666,
             "#ed7953"
            ],
            [
             0.7777777777777778,
             "#fb9f3a"
            ],
            [
             0.8888888888888888,
             "#fdca26"
            ],
            [
             1,
             "#f0f921"
            ]
           ]
          },
          "colorway": [
           "#636efa",
           "#EF553B",
           "#00cc96",
           "#ab63fa",
           "#FFA15A",
           "#19d3f3",
           "#FF6692",
           "#B6E880",
           "#FF97FF",
           "#FECB52"
          ],
          "font": {
           "color": "#2a3f5f"
          },
          "geo": {
           "bgcolor": "white",
           "lakecolor": "white",
           "landcolor": "#E5ECF6",
           "showlakes": true,
           "showland": true,
           "subunitcolor": "white"
          },
          "hoverlabel": {
           "align": "left"
          },
          "hovermode": "closest",
          "mapbox": {
           "style": "light"
          },
          "paper_bgcolor": "white",
          "plot_bgcolor": "#E5ECF6",
          "polar": {
           "angularaxis": {
            "gridcolor": "white",
            "linecolor": "white",
            "ticks": ""
           },
           "bgcolor": "#E5ECF6",
           "radialaxis": {
            "gridcolor": "white",
            "linecolor": "white",
            "ticks": ""
           }
          },
          "scene": {
           "xaxis": {
            "backgroundcolor": "#E5ECF6",
            "gridcolor": "white",
            "gridwidth": 2,
            "linecolor": "white",
            "showbackground": true,
            "ticks": "",
            "zerolinecolor": "white"
           },
           "yaxis": {
            "backgroundcolor": "#E5ECF6",
            "gridcolor": "white",
            "gridwidth": 2,
            "linecolor": "white",
            "showbackground": true,
            "ticks": "",
            "zerolinecolor": "white"
           },
           "zaxis": {
            "backgroundcolor": "#E5ECF6",
            "gridcolor": "white",
            "gridwidth": 2,
            "linecolor": "white",
            "showbackground": true,
            "ticks": "",
            "zerolinecolor": "white"
           }
          },
          "shapedefaults": {
           "line": {
            "color": "#2a3f5f"
           }
          },
          "ternary": {
           "aaxis": {
            "gridcolor": "white",
            "linecolor": "white",
            "ticks": ""
           },
           "baxis": {
            "gridcolor": "white",
            "linecolor": "white",
            "ticks": ""
           },
           "bgcolor": "#E5ECF6",
           "caxis": {
            "gridcolor": "white",
            "linecolor": "white",
            "ticks": ""
           }
          },
          "title": {
           "x": 0.05
          },
          "xaxis": {
           "automargin": true,
           "gridcolor": "white",
           "linecolor": "white",
           "ticks": "",
           "title": {
            "standoff": 15
           },
           "zerolinecolor": "white",
           "zerolinewidth": 2
          },
          "yaxis": {
           "automargin": true,
           "gridcolor": "white",
           "linecolor": "white",
           "ticks": "",
           "title": {
            "standoff": 15
           },
           "zerolinecolor": "white",
           "zerolinewidth": 2
          }
         }
        },
        "title": {
         "text": "Hyperparameter Importances"
        },
        "xaxis": {
         "title": {
          "text": "Hyperparameter Importance"
         }
        },
        "yaxis": {
         "title": {
          "text": "Hyperparameter"
         }
        }
       }
      }
     },
     "metadata": {},
     "output_type": "display_data"
    }
   ],
   "source": [
    "import optuna.visualization as vis\n",
    "\n",
    "# Plotting Optimization History\n",
    "optimization_history_plot = vis.plot_optimization_history(study)\n",
    "optimization_history_plot.show()\n",
    "\n",
    "# Plotting Parameter Importance\n",
    "param_importance_plot = vis.plot_param_importances(study)\n",
    "param_importance_plot.show()"
   ]
  }
 ],
 "metadata": {
  "kernelspec": {
   "display_name": "Python 3",
   "language": "python",
   "name": "python3"
  },
  "language_info": {
   "codemirror_mode": {
    "name": "ipython",
    "version": 3
   },
   "file_extension": ".py",
   "mimetype": "text/x-python",
   "name": "python",
   "nbconvert_exporter": "python",
   "pygments_lexer": "ipython3",
   "version": "3.12.0"
  }
 },
 "nbformat": 4,
 "nbformat_minor": 2
}
