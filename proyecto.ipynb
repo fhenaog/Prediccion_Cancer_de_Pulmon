{
 "cells": [
  {
   "cell_type": "markdown",
   "metadata": {},
   "source": [
    "### Lectura de datos"
   ]
  },
  {
   "cell_type": "code",
   "execution_count": 351,
   "metadata": {},
   "outputs": [],
   "source": [
    "import numpy as np\n",
    "import pandas as pd\n",
    "import matplotlib.pyplot as plt\n",
    "\n",
    "D = pd.read_csv(\"cancer_patient_data_sets.csv\")"
   ]
  },
  {
   "cell_type": "markdown",
   "metadata": {},
   "source": [
    "### Preprocesamiento\n",
    "\n",
    "Ahora vamos a quitar las columnas index y patient ID que no son necesarias"
   ]
  },
  {
   "cell_type": "code",
   "execution_count": 352,
   "metadata": {},
   "outputs": [],
   "source": [
    "D=D.drop(columns=[\"index\",\"Patient Id\"])"
   ]
  },
  {
   "cell_type": "markdown",
   "metadata": {},
   "source": [
    "Tenemos que mirar si los datos estan bien, primero revisamos que no hayan datos nulos en alguna parte"
   ]
  },
  {
   "cell_type": "code",
   "execution_count": 353,
   "metadata": {},
   "outputs": [
    {
     "data": {
      "text/plain": [
       "Age                         0\n",
       "Gender                      0\n",
       "Air Pollution               0\n",
       "Alcohol use                 0\n",
       "Dust Allergy                0\n",
       "OccuPational Hazards        0\n",
       "Genetic Risk                0\n",
       "chronic Lung Disease        0\n",
       "Balanced Diet               0\n",
       "Obesity                     0\n",
       "Smoking                     0\n",
       "Passive Smoker              0\n",
       "Chest Pain                  0\n",
       "Coughing of Blood           0\n",
       "Fatigue                     0\n",
       "Weight Loss                 0\n",
       "Shortness of Breath         0\n",
       "Wheezing                    0\n",
       "Swallowing Difficulty       0\n",
       "Clubbing of Finger Nails    0\n",
       "Frequent Cold               0\n",
       "Dry Cough                   0\n",
       "Snoring                     0\n",
       "Level                       0\n",
       "dtype: int64"
      ]
     },
     "execution_count": 353,
     "metadata": {},
     "output_type": "execute_result"
    }
   ],
   "source": [
    "D.isnull().sum()"
   ]
  },
  {
   "cell_type": "markdown",
   "metadata": {},
   "source": [
    "Tambien revisamos que no esten desbalanceados los datos, esto es, que no haya una gran cantidad de alguna de las clases en comparación a las otras"
   ]
  },
  {
   "cell_type": "code",
   "execution_count": 354,
   "metadata": {},
   "outputs": [
    {
     "data": {
      "text/plain": [
       "High      365\n",
       "Medium    332\n",
       "Low       303\n",
       "Name: Level, dtype: int64"
      ]
     },
     "execution_count": 354,
     "metadata": {},
     "output_type": "execute_result"
    }
   ],
   "source": [
    "D['Level'].value_counts()"
   ]
  },
  {
   "cell_type": "markdown",
   "metadata": {},
   "source": [
    "Podemos ver que hay un número similar de la cantidad de elementos en las clases, lo que nos indica que los datos son buenos para trabajar con ellos.\n",
    "\n",
    "Ahora revisamos como es la informacion de cada columna de los datos"
   ]
  },
  {
   "cell_type": "code",
   "execution_count": 355,
   "metadata": {},
   "outputs": [
    {
     "name": "stdout",
     "output_type": "stream",
     "text": [
      "<class 'pandas.core.frame.DataFrame'>\n",
      "RangeIndex: 1000 entries, 0 to 999\n",
      "Data columns (total 24 columns):\n",
      " #   Column                    Non-Null Count  Dtype \n",
      "---  ------                    --------------  ----- \n",
      " 0   Age                       1000 non-null   int64 \n",
      " 1   Gender                    1000 non-null   int64 \n",
      " 2   Air Pollution             1000 non-null   int64 \n",
      " 3   Alcohol use               1000 non-null   int64 \n",
      " 4   Dust Allergy              1000 non-null   int64 \n",
      " 5   OccuPational Hazards      1000 non-null   int64 \n",
      " 6   Genetic Risk              1000 non-null   int64 \n",
      " 7   chronic Lung Disease      1000 non-null   int64 \n",
      " 8   Balanced Diet             1000 non-null   int64 \n",
      " 9   Obesity                   1000 non-null   int64 \n",
      " 10  Smoking                   1000 non-null   int64 \n",
      " 11  Passive Smoker            1000 non-null   int64 \n",
      " 12  Chest Pain                1000 non-null   int64 \n",
      " 13  Coughing of Blood         1000 non-null   int64 \n",
      " 14  Fatigue                   1000 non-null   int64 \n",
      " 15  Weight Loss               1000 non-null   int64 \n",
      " 16  Shortness of Breath       1000 non-null   int64 \n",
      " 17  Wheezing                  1000 non-null   int64 \n",
      " 18  Swallowing Difficulty     1000 non-null   int64 \n",
      " 19  Clubbing of Finger Nails  1000 non-null   int64 \n",
      " 20  Frequent Cold             1000 non-null   int64 \n",
      " 21  Dry Cough                 1000 non-null   int64 \n",
      " 22  Snoring                   1000 non-null   int64 \n",
      " 23  Level                     1000 non-null   object\n",
      "dtypes: int64(23), object(1)\n",
      "memory usage: 187.6+ KB\n"
     ]
    }
   ],
   "source": [
    "D.info()"
   ]
  },
  {
   "cell_type": "markdown",
   "metadata": {},
   "source": [
    "Podemos ver que la columna Level, la cual corresponde a la etiqueta, el tipo de dato es de objeto, luego, haremos una codificación de esta columna para tener numeros enteros, los valores que le daremos son:\n",
    " - Low: 0\n",
    " - Medium: 1\n",
    " - High: 2"
   ]
  },
  {
   "cell_type": "code",
   "execution_count": 356,
   "metadata": {},
   "outputs": [
    {
     "data": {
      "text/plain": [
       "2    365\n",
       "1    332\n",
       "0    303\n",
       "Name: Level, dtype: int64"
      ]
     },
     "execution_count": 356,
     "metadata": {},
     "output_type": "execute_result"
    }
   ],
   "source": [
    "D['Level']=D['Level'].replace({'Low':0,'Medium':1,'High':2})\n",
    "D['Level'].value_counts()"
   ]
  },
  {
   "cell_type": "markdown",
   "metadata": {},
   "source": [
    "### Entrenamiento\n",
    "\n",
    "Para el entrenamiento, probaremos tres modelos distintos, una maquina de vector soporte, un random forest y el ultimo un KNN, y usaremos la libreria Optuna para escoger la mejor configuración de los parametros del modelo."
   ]
  },
  {
   "cell_type": "code",
   "execution_count": 357,
   "metadata": {},
   "outputs": [],
   "source": [
    "from sklearn import svm\n",
    "from sklearn import neighbors\n",
    "from sklearn import ensemble\n",
    "from sklearn.model_selection import train_test_split\n",
    "from sklearn import metrics\n",
    "import optuna"
   ]
  },
  {
   "cell_type": "markdown",
   "metadata": {},
   "source": [
    "Primero hacemos la division de los datos en train, test, validation, para poder evaluar cual es el mejor modelo y luego probar el mejor obtenido.\n"
   ]
  },
  {
   "cell_type": "code",
   "execution_count": 358,
   "metadata": {},
   "outputs": [],
   "source": [
    "X = D.drop(columns=['Level'])\n",
    "y = D['Level']\n",
    "X_train, X_test, y_train, y_test = train_test_split(X,y,test_size=0.2,random_state=0)\n",
    "X_train, X_val, y_train, y_val = train_test_split(X_train,y_train,test_size=0.25,random_state=0) # 0.25 * 0.8 = 0.2"
   ]
  },
  {
   "cell_type": "markdown",
   "metadata": {},
   "source": [
    "El objetivo para escoger los parametros será minimizar el f1 score, para así tenen una baja cantidad de falsos positivos y falsos negativos ya que ambos son importante evitarlos.\n",
    "\n",
    "Probaremos primero con la maquina de vector soporte"
   ]
  },
  {
   "cell_type": "code",
   "execution_count": 359,
   "metadata": {},
   "outputs": [
    {
     "name": "stderr",
     "output_type": "stream",
     "text": [
      "[I 2023-11-24 20:40:27,183] A new study created in memory with name: no-name-fb195581-3342-4a98-b1c0-cee380e2f1ba\n",
      "[I 2023-11-24 20:40:27,192] Trial 0 finished with value: 1.0 and parameters: {'svm_C': 3.939647939876634, 'Kernel': 'linear'}. Best is trial 0 with value: 1.0.\n",
      "[I 2023-11-24 20:40:27,202] Trial 1 finished with value: 1.0 and parameters: {'svm_C': 730.3473318622936, 'Kernel': 'rbf'}. Best is trial 0 with value: 1.0.\n",
      "[I 2023-11-24 20:40:27,241] Trial 2 finished with value: 0.375 and parameters: {'svm_C': 0.00025474790372532726, 'Kernel': 'sigmoid'}. Best is trial 0 with value: 1.0.\n",
      "[I 2023-11-24 20:40:27,277] Trial 3 finished with value: 0.375 and parameters: {'svm_C': 0.0006274274422586991, 'Kernel': 'sigmoid'}. Best is trial 0 with value: 1.0.\n",
      "[I 2023-11-24 20:40:27,287] Trial 4 finished with value: 0.93 and parameters: {'svm_C': 1.7959857365032768, 'Kernel': 'poly'}. Best is trial 0 with value: 1.0.\n",
      "[I 2023-11-24 20:40:27,316] Trial 5 finished with value: 0.375 and parameters: {'svm_C': 4.121074697085377e-09, 'Kernel': 'rbf'}. Best is trial 0 with value: 1.0.\n",
      "[I 2023-11-24 20:40:27,327] Trial 6 finished with value: 1.0 and parameters: {'svm_C': 974.3873150444543, 'Kernel': 'poly'}. Best is trial 0 with value: 1.0.\n",
      "[I 2023-11-24 20:40:27,345] Trial 7 finished with value: 0.375 and parameters: {'svm_C': 9.837420075227976e-06, 'Kernel': 'linear'}. Best is trial 0 with value: 1.0.\n",
      "[I 2023-11-24 20:40:27,355] Trial 8 finished with value: 1.0 and parameters: {'svm_C': 597.3914889566512, 'Kernel': 'linear'}. Best is trial 0 with value: 1.0.\n",
      "[I 2023-11-24 20:40:27,390] Trial 9 finished with value: 0.375 and parameters: {'svm_C': 1.6233175517946325e-10, 'Kernel': 'sigmoid'}. Best is trial 0 with value: 1.0.\n",
      "[I 2023-11-24 20:40:27,403] Trial 10 finished with value: 1.0 and parameters: {'svm_C': 0.38117820021662985, 'Kernel': 'linear'}. Best is trial 0 with value: 1.0.\n",
      "[I 2023-11-24 20:40:27,418] Trial 11 finished with value: 1.0 and parameters: {'svm_C': 74657.55638264175, 'Kernel': 'rbf'}. Best is trial 0 with value: 1.0.\n",
      "[I 2023-11-24 20:40:27,434] Trial 12 finished with value: 0.97 and parameters: {'svm_C': 2.41132522439265, 'Kernel': 'rbf'}. Best is trial 0 with value: 1.0.\n",
      "[I 2023-11-24 20:40:27,448] Trial 13 finished with value: 1.0 and parameters: {'svm_C': 145.54981875578466, 'Kernel': 'rbf'}. Best is trial 0 with value: 1.0.\n",
      "[I 2023-11-24 20:40:27,460] Trial 14 finished with value: 1.0 and parameters: {'svm_C': 54234.604694130685, 'Kernel': 'linear'}. Best is trial 0 with value: 1.0.\n",
      "[I 2023-11-24 20:40:27,493] Trial 15 finished with value: 0.6 and parameters: {'svm_C': 0.03988700873915161, 'Kernel': 'rbf'}. Best is trial 0 with value: 1.0.\n",
      "[I 2023-11-24 20:40:27,505] Trial 16 finished with value: 1.0 and parameters: {'svm_C': 12.901081030890209, 'Kernel': 'linear'}. Best is trial 0 with value: 1.0.\n",
      "[I 2023-11-24 20:40:27,524] Trial 17 finished with value: 0.905 and parameters: {'svm_C': 0.04264197024182091, 'Kernel': 'poly'}. Best is trial 0 with value: 1.0.\n",
      "[I 2023-11-24 20:40:27,538] Trial 18 finished with value: 1.0 and parameters: {'svm_C': 48.03500000319592, 'Kernel': 'linear'}. Best is trial 0 with value: 1.0.\n",
      "[I 2023-11-24 20:40:27,554] Trial 19 finished with value: 1.0 and parameters: {'svm_C': 743.2113691884765, 'Kernel': 'rbf'}. Best is trial 0 with value: 1.0.\n",
      "[I 2023-11-24 20:40:27,572] Trial 20 finished with value: 1.0 and parameters: {'svm_C': 2964.5066775207197, 'Kernel': 'linear'}. Best is trial 0 with value: 1.0.\n",
      "[I 2023-11-24 20:40:27,586] Trial 21 finished with value: 1.0 and parameters: {'svm_C': 4940.292937595317, 'Kernel': 'poly'}. Best is trial 0 with value: 1.0.\n",
      "[I 2023-11-24 20:40:27,600] Trial 22 finished with value: 1.0 and parameters: {'svm_C': 40.59410352129222, 'Kernel': 'poly'}. Best is trial 0 with value: 1.0.\n",
      "[I 2023-11-24 20:40:27,613] Trial 23 finished with value: 1.0 and parameters: {'svm_C': 47.63146704936865, 'Kernel': 'poly'}. Best is trial 0 with value: 1.0.\n",
      "[I 2023-11-24 20:40:27,626] Trial 24 finished with value: 1.0 and parameters: {'svm_C': 2619.2178020192446, 'Kernel': 'poly'}. Best is trial 0 with value: 1.0.\n",
      "[I 2023-11-24 20:40:27,640] Trial 25 finished with value: 1.0 and parameters: {'svm_C': 4.6867589018606886, 'Kernel': 'poly'}. Best is trial 0 with value: 1.0.\n",
      "[I 2023-11-24 20:40:27,652] Trial 26 finished with value: 1.0 and parameters: {'svm_C': 10845.786892891907, 'Kernel': 'rbf'}. Best is trial 0 with value: 1.0.\n",
      "[I 2023-11-24 20:40:27,678] Trial 27 finished with value: 0.31 and parameters: {'svm_C': 214.28524224372546, 'Kernel': 'sigmoid'}. Best is trial 0 with value: 1.0.\n",
      "[I 2023-11-24 20:40:27,692] Trial 28 finished with value: 1.0 and parameters: {'svm_C': 421.7833981561329, 'Kernel': 'poly'}. Best is trial 0 with value: 1.0.\n",
      "[I 2023-11-24 20:40:27,718] Trial 29 finished with value: 0.31 and parameters: {'svm_C': 89261.22462948941, 'Kernel': 'sigmoid'}. Best is trial 0 with value: 1.0.\n",
      "[I 2023-11-24 20:40:27,731] Trial 30 finished with value: 1.0 and parameters: {'svm_C': 0.6218710304792481, 'Kernel': 'linear'}. Best is trial 0 with value: 1.0.\n",
      "[I 2023-11-24 20:40:27,743] Trial 31 finished with value: 1.0 and parameters: {'svm_C': 772.1819831048819, 'Kernel': 'linear'}. Best is trial 0 with value: 1.0.\n",
      "[I 2023-11-24 20:40:27,755] Trial 32 finished with value: 1.0 and parameters: {'svm_C': 15.258298485321822, 'Kernel': 'linear'}. Best is trial 0 with value: 1.0.\n",
      "[I 2023-11-24 20:40:27,768] Trial 33 finished with value: 1.0 and parameters: {'svm_C': 289.6586885096663, 'Kernel': 'linear'}. Best is trial 0 with value: 1.0.\n",
      "[I 2023-11-24 20:40:27,780] Trial 34 finished with value: 1.0 and parameters: {'svm_C': 8099.507158257453, 'Kernel': 'linear'}. Best is trial 0 with value: 1.0.\n",
      "[I 2023-11-24 20:40:27,793] Trial 35 finished with value: 0.975 and parameters: {'svm_C': 5.257169096939124, 'Kernel': 'rbf'}. Best is trial 0 with value: 1.0.\n",
      "[I 2023-11-24 20:40:27,820] Trial 36 finished with value: 0.31 and parameters: {'svm_C': 109.3856858660283, 'Kernel': 'sigmoid'}. Best is trial 0 with value: 1.0.\n",
      "[I 2023-11-24 20:40:27,833] Trial 37 finished with value: 1.0 and parameters: {'svm_C': 1204.4532564421982, 'Kernel': 'linear'}. Best is trial 0 with value: 1.0.\n",
      "[I 2023-11-24 20:40:27,845] Trial 38 finished with value: 1.0 and parameters: {'svm_C': 13691.977556539225, 'Kernel': 'rbf'}. Best is trial 0 with value: 1.0.\n",
      "[I 2023-11-24 20:40:27,868] Trial 39 finished with value: 0.375 and parameters: {'svm_C': 0.00027271141285044987, 'Kernel': 'poly'}. Best is trial 0 with value: 1.0.\n",
      "[I 2023-11-24 20:40:27,880] Trial 40 finished with value: 1.0 and parameters: {'svm_C': 0.18995622122014916, 'Kernel': 'linear'}. Best is trial 0 with value: 1.0.\n",
      "[I 2023-11-24 20:40:27,893] Trial 41 finished with value: 1.0 and parameters: {'svm_C': 1.7077710715219505, 'Kernel': 'linear'}. Best is trial 0 with value: 1.0.\n",
      "[I 2023-11-24 20:40:27,905] Trial 42 finished with value: 0.96 and parameters: {'svm_C': 0.003021612140495132, 'Kernel': 'linear'}. Best is trial 0 with value: 1.0.\n",
      "[I 2023-11-24 20:40:27,917] Trial 43 finished with value: 1.0 and parameters: {'svm_C': 14.851385049036667, 'Kernel': 'linear'}. Best is trial 0 with value: 1.0.\n",
      "[I 2023-11-24 20:40:27,936] Trial 44 finished with value: 0.96 and parameters: {'svm_C': 0.663914082670257, 'Kernel': 'rbf'}. Best is trial 0 with value: 1.0.\n",
      "[I 2023-11-24 20:40:27,949] Trial 45 finished with value: 1.0 and parameters: {'svm_C': 153.40947167899725, 'Kernel': 'linear'}. Best is trial 0 with value: 1.0.\n",
      "[I 2023-11-24 20:40:27,976] Trial 46 finished with value: 0.31 and parameters: {'svm_C': 1142.6733992482773, 'Kernel': 'sigmoid'}. Best is trial 0 with value: 1.0.\n",
      "[I 2023-11-24 20:40:27,989] Trial 47 finished with value: 1.0 and parameters: {'svm_C': 0.08077494377366519, 'Kernel': 'linear'}. Best is trial 0 with value: 1.0.\n",
      "[I 2023-11-24 20:40:28,022] Trial 48 finished with value: 0.395 and parameters: {'svm_C': 0.020124254832155276, 'Kernel': 'rbf'}. Best is trial 0 with value: 1.0.\n",
      "[I 2023-11-24 20:40:28,034] Trial 49 finished with value: 1.0 and parameters: {'svm_C': 24537.443925736723, 'Kernel': 'linear'}. Best is trial 0 with value: 1.0.\n",
      "[I 2023-11-24 20:40:28,048] Trial 50 finished with value: 1.0 and parameters: {'svm_C': 34.17280834377662, 'Kernel': 'poly'}. Best is trial 0 with value: 1.0.\n",
      "[I 2023-11-24 20:40:28,061] Trial 51 finished with value: 1.0 and parameters: {'svm_C': 53359.6755570081, 'Kernel': 'rbf'}. Best is trial 0 with value: 1.0.\n",
      "[I 2023-11-24 20:40:28,073] Trial 52 finished with value: 1.0 and parameters: {'svm_C': 3594.5507282995345, 'Kernel': 'rbf'}. Best is trial 0 with value: 1.0.\n",
      "[I 2023-11-24 20:40:28,087] Trial 53 finished with value: 1.0 and parameters: {'svm_C': 17245.457398005063, 'Kernel': 'rbf'}. Best is trial 0 with value: 1.0.\n",
      "[I 2023-11-24 20:40:28,100] Trial 54 finished with value: 1.0 and parameters: {'svm_C': 2284.3536640040707, 'Kernel': 'rbf'}. Best is trial 0 with value: 1.0.\n",
      "[I 2023-11-24 20:40:28,113] Trial 55 finished with value: 1.0 and parameters: {'svm_C': 449.12366985398745, 'Kernel': 'rbf'}. Best is trial 0 with value: 1.0.\n",
      "[I 2023-11-24 20:40:28,126] Trial 56 finished with value: 1.0 and parameters: {'svm_C': 79.10952865978301, 'Kernel': 'poly'}. Best is trial 0 with value: 1.0.\n",
      "[I 2023-11-24 20:40:28,139] Trial 57 finished with value: 1.0 and parameters: {'svm_C': 90813.70446135679, 'Kernel': 'linear'}. Best is trial 0 with value: 1.0.\n",
      "[I 2023-11-24 20:40:28,151] Trial 58 finished with value: 1.0 and parameters: {'svm_C': 5080.588922718516, 'Kernel': 'rbf'}. Best is trial 0 with value: 1.0.\n",
      "[I 2023-11-24 20:40:28,166] Trial 59 finished with value: 1.0 and parameters: {'svm_C': 11.936764500360109, 'Kernel': 'poly'}. Best is trial 0 with value: 1.0.\n",
      "[I 2023-11-24 20:40:28,178] Trial 60 finished with value: 1.0 and parameters: {'svm_C': 328.8075761571063, 'Kernel': 'linear'}. Best is trial 0 with value: 1.0.\n",
      "[I 2023-11-24 20:40:28,192] Trial 61 finished with value: 1.0 and parameters: {'svm_C': 104.94041281410213, 'Kernel': 'rbf'}. Best is trial 0 with value: 1.0.\n",
      "[I 2023-11-24 20:40:28,205] Trial 62 finished with value: 1.0 and parameters: {'svm_C': 1364.9052590051226, 'Kernel': 'rbf'}. Best is trial 0 with value: 1.0.\n",
      "[I 2023-11-24 20:40:28,219] Trial 63 finished with value: 1.0 and parameters: {'svm_C': 24.63212325211987, 'Kernel': 'rbf'}. Best is trial 0 with value: 1.0.\n",
      "[I 2023-11-24 20:40:28,245] Trial 64 finished with value: 0.33 and parameters: {'svm_C': 4.7783839756545845, 'Kernel': 'sigmoid'}. Best is trial 0 with value: 1.0.\n",
      "[I 2023-11-24 20:40:28,258] Trial 65 finished with value: 1.0 and parameters: {'svm_C': 527.9898843986334, 'Kernel': 'rbf'}. Best is trial 0 with value: 1.0.\n",
      "[I 2023-11-24 20:40:28,273] Trial 66 finished with value: 1.0 and parameters: {'svm_C': 7410.75670958746, 'Kernel': 'poly'}. Best is trial 0 with value: 1.0.\n",
      "[I 2023-11-24 20:40:28,285] Trial 67 finished with value: 1.0 and parameters: {'svm_C': 145.24119030564574, 'Kernel': 'linear'}. Best is trial 0 with value: 1.0.\n",
      "[I 2023-11-24 20:40:28,298] Trial 68 finished with value: 1.0 and parameters: {'svm_C': 20939.624568791747, 'Kernel': 'rbf'}. Best is trial 0 with value: 1.0.\n",
      "[I 2023-11-24 20:40:28,310] Trial 69 finished with value: 1.0 and parameters: {'svm_C': 41.963666268820965, 'Kernel': 'linear'}. Best is trial 0 with value: 1.0.\n",
      "[I 2023-11-24 20:40:28,323] Trial 70 finished with value: 1.0 and parameters: {'svm_C': 3009.08622932571, 'Kernel': 'rbf'}. Best is trial 0 with value: 1.0.\n",
      "[I 2023-11-24 20:40:28,336] Trial 71 finished with value: 1.0 and parameters: {'svm_C': 27571.371118256055, 'Kernel': 'linear'}. Best is trial 0 with value: 1.0.\n",
      "[I 2023-11-24 20:40:28,349] Trial 72 finished with value: 1.0 and parameters: {'svm_C': 47253.75787044902, 'Kernel': 'linear'}. Best is trial 0 with value: 1.0.\n",
      "[I 2023-11-24 20:40:28,362] Trial 73 finished with value: 1.0 and parameters: {'svm_C': 772.6018461631085, 'Kernel': 'linear'}. Best is trial 0 with value: 1.0.\n",
      "[I 2023-11-24 20:40:28,375] Trial 74 finished with value: 1.0 and parameters: {'svm_C': 6588.5307788847795, 'Kernel': 'linear'}. Best is trial 0 with value: 1.0.\n",
      "[I 2023-11-24 20:40:28,389] Trial 75 finished with value: 1.0 and parameters: {'svm_C': 264.07945089745783, 'Kernel': 'poly'}. Best is trial 0 with value: 1.0.\n",
      "[I 2023-11-24 20:40:28,401] Trial 76 finished with value: 1.0 and parameters: {'svm_C': 1965.6793726515716, 'Kernel': 'linear'}. Best is trial 0 with value: 1.0.\n",
      "[I 2023-11-24 20:40:28,427] Trial 77 finished with value: 0.31 and parameters: {'svm_C': 14365.553653486859, 'Kernel': 'sigmoid'}. Best is trial 0 with value: 1.0.\n",
      "[I 2023-11-24 20:40:28,440] Trial 78 finished with value: 1.0 and parameters: {'svm_C': 59889.0776812975, 'Kernel': 'linear'}. Best is trial 0 with value: 1.0.\n",
      "[I 2023-11-24 20:40:28,453] Trial 79 finished with value: 1.0 and parameters: {'svm_C': 57.17930917823658, 'Kernel': 'linear'}. Best is trial 0 with value: 1.0.\n",
      "[I 2023-11-24 20:40:28,466] Trial 80 finished with value: 1.0 and parameters: {'svm_C': 1194.4598055087938, 'Kernel': 'rbf'}. Best is trial 0 with value: 1.0.\n",
      "[I 2023-11-24 20:40:28,479] Trial 81 finished with value: 1.0 and parameters: {'svm_C': 13.45601822209361, 'Kernel': 'linear'}. Best is trial 0 with value: 1.0.\n",
      "[I 2023-11-24 20:40:28,491] Trial 82 finished with value: 1.0 and parameters: {'svm_C': 189.95727967580825, 'Kernel': 'linear'}. Best is trial 0 with value: 1.0.\n",
      "[I 2023-11-24 20:40:28,504] Trial 83 finished with value: 1.0 and parameters: {'svm_C': 2.287822385949343, 'Kernel': 'linear'}. Best is trial 0 with value: 1.0.\n",
      "[I 2023-11-24 20:40:28,517] Trial 84 finished with value: 1.0 and parameters: {'svm_C': 0.8180856257073666, 'Kernel': 'linear'}. Best is trial 0 with value: 1.0.\n",
      "[I 2023-11-24 20:40:28,530] Trial 85 finished with value: 1.0 and parameters: {'svm_C': 5.4363086566125345, 'Kernel': 'poly'}. Best is trial 0 with value: 1.0.\n",
      "[I 2023-11-24 20:40:28,543] Trial 86 finished with value: 1.0 and parameters: {'svm_C': 3930.4803454357025, 'Kernel': 'linear'}. Best is trial 0 with value: 1.0.\n",
      "[I 2023-11-24 20:40:28,557] Trial 87 finished with value: 1.0 and parameters: {'svm_C': 548.2773027061112, 'Kernel': 'rbf'}. Best is trial 0 with value: 1.0.\n",
      "[I 2023-11-24 20:40:28,570] Trial 88 finished with value: 1.0 and parameters: {'svm_C': 73.13477173405764, 'Kernel': 'linear'}. Best is trial 0 with value: 1.0.\n",
      "[I 2023-11-24 20:40:28,584] Trial 89 finished with value: 1.0 and parameters: {'svm_C': 11065.129121199176, 'Kernel': 'poly'}. Best is trial 0 with value: 1.0.\n",
      "[I 2023-11-24 20:40:28,611] Trial 90 finished with value: 0.31 and parameters: {'svm_C': 21.605407984510734, 'Kernel': 'sigmoid'}. Best is trial 0 with value: 1.0.\n",
      "[I 2023-11-24 20:40:28,624] Trial 91 finished with value: 1.0 and parameters: {'svm_C': 9.111015830332574, 'Kernel': 'linear'}. Best is trial 0 with value: 1.0.\n",
      "[I 2023-11-24 20:40:28,636] Trial 92 finished with value: 1.0 and parameters: {'svm_C': 48.54070785621579, 'Kernel': 'linear'}. Best is trial 0 with value: 1.0.\n",
      "[I 2023-11-24 20:40:28,650] Trial 93 finished with value: 1.0 and parameters: {'svm_C': 26.71561290787496, 'Kernel': 'linear'}. Best is trial 0 with value: 1.0.\n",
      "[I 2023-11-24 20:40:28,662] Trial 94 finished with value: 1.0 and parameters: {'svm_C': 194.20096701054354, 'Kernel': 'linear'}. Best is trial 0 with value: 1.0.\n",
      "[I 2023-11-24 20:40:28,676] Trial 95 finished with value: 1.0 and parameters: {'svm_C': 1735.7747308855062, 'Kernel': 'rbf'}. Best is trial 0 with value: 1.0.\n",
      "[I 2023-11-24 20:40:28,689] Trial 96 finished with value: 1.0 and parameters: {'svm_C': 642.47511839705, 'Kernel': 'linear'}. Best is trial 0 with value: 1.0.\n",
      "[I 2023-11-24 20:40:28,702] Trial 97 finished with value: 1.0 and parameters: {'svm_C': 96.76794458687283, 'Kernel': 'rbf'}. Best is trial 0 with value: 1.0.\n",
      "[I 2023-11-24 20:40:28,715] Trial 98 finished with value: 1.0 and parameters: {'svm_C': 1.7000931799796364, 'Kernel': 'linear'}. Best is trial 0 with value: 1.0.\n",
      "[I 2023-11-24 20:40:28,729] Trial 99 finished with value: 1.0 and parameters: {'svm_C': 363.3394617984817, 'Kernel': 'poly'}. Best is trial 0 with value: 1.0.\n"
     ]
    }
   ],
   "source": [
    "def objectiveSVM(trial):\n",
    "    svm_C=trial.suggest_float('svm_C',1e-10,1e5,log=True)\n",
    "    krn=trial.suggest_categorical('Kernel',['linear','poly','rbf','sigmoid'])\n",
    "\n",
    "    #entrenamiento\n",
    "    mvs=svm.SVC(C=svm_C,kernel=krn)\n",
    "    mvs.fit(X_train,y_train)\n",
    " \n",
    "    #prediccion\n",
    "    y_pred = mvs.predict(X_test)\n",
    "\n",
    "    #metrica\n",
    "    recall=metrics.recall_score(y_test,y_pred,average='micro')\n",
    "    return recall\n",
    "\n",
    "studySVM = optuna.create_study(direction='maximize')\n",
    "studySVM.optimize(objectiveSVM, n_trials=100)"
   ]
  },
  {
   "cell_type": "markdown",
   "metadata": {},
   "source": [
    "Mejores Parametros"
   ]
  },
  {
   "cell_type": "code",
   "execution_count": 360,
   "metadata": {},
   "outputs": [
    {
     "name": "stdout",
     "output_type": "stream",
     "text": [
      "{'svm_C': 3.939647939876634, 'Kernel': 'linear'}\n"
     ]
    },
    {
     "data": {
      "application/vnd.plotly.v1+json": {
       "config": {
        "plotlyServerURL": "https://plot.ly"
       },
       "data": [
        {
         "mode": "markers",
         "name": "Objective Value",
         "type": "scatter",
         "x": [
          0,
          1,
          2,
          3,
          4,
          5,
          6,
          7,
          8,
          9,
          10,
          11,
          12,
          13,
          14,
          15,
          16,
          17,
          18,
          19,
          20,
          21,
          22,
          23,
          24,
          25,
          26,
          27,
          28,
          29,
          30,
          31,
          32,
          33,
          34,
          35,
          36,
          37,
          38,
          39,
          40,
          41,
          42,
          43,
          44,
          45,
          46,
          47,
          48,
          49,
          50,
          51,
          52,
          53,
          54,
          55,
          56,
          57,
          58,
          59,
          60,
          61,
          62,
          63,
          64,
          65,
          66,
          67,
          68,
          69,
          70,
          71,
          72,
          73,
          74,
          75,
          76,
          77,
          78,
          79,
          80,
          81,
          82,
          83,
          84,
          85,
          86,
          87,
          88,
          89,
          90,
          91,
          92,
          93,
          94,
          95,
          96,
          97,
          98,
          99
         ],
         "y": [
          1,
          1,
          0.375,
          0.375,
          0.93,
          0.375,
          1,
          0.375,
          1,
          0.375,
          1,
          1,
          0.97,
          1,
          1,
          0.6,
          1,
          0.905,
          1,
          1,
          1,
          1,
          1,
          1,
          1,
          1,
          1,
          0.31,
          1,
          0.31,
          1,
          1,
          1,
          1,
          1,
          0.975,
          0.31,
          1,
          1,
          0.375,
          1,
          1,
          0.96,
          1,
          0.96,
          1,
          0.31,
          1,
          0.395,
          1,
          1,
          1,
          1,
          1,
          1,
          1,
          1,
          1,
          1,
          1,
          1,
          1,
          1,
          1,
          0.33,
          1,
          1,
          1,
          1,
          1,
          1,
          1,
          1,
          1,
          1,
          1,
          1,
          0.31,
          1,
          1,
          1,
          1,
          1,
          1,
          1,
          1,
          1,
          1,
          1,
          1,
          0.31,
          1,
          1,
          1,
          1,
          1,
          1,
          1,
          1,
          1
         ]
        },
        {
         "mode": "lines",
         "name": "Best Value",
         "type": "scatter",
         "x": [
          0,
          1,
          2,
          3,
          4,
          5,
          6,
          7,
          8,
          9,
          10,
          11,
          12,
          13,
          14,
          15,
          16,
          17,
          18,
          19,
          20,
          21,
          22,
          23,
          24,
          25,
          26,
          27,
          28,
          29,
          30,
          31,
          32,
          33,
          34,
          35,
          36,
          37,
          38,
          39,
          40,
          41,
          42,
          43,
          44,
          45,
          46,
          47,
          48,
          49,
          50,
          51,
          52,
          53,
          54,
          55,
          56,
          57,
          58,
          59,
          60,
          61,
          62,
          63,
          64,
          65,
          66,
          67,
          68,
          69,
          70,
          71,
          72,
          73,
          74,
          75,
          76,
          77,
          78,
          79,
          80,
          81,
          82,
          83,
          84,
          85,
          86,
          87,
          88,
          89,
          90,
          91,
          92,
          93,
          94,
          95,
          96,
          97,
          98,
          99
         ],
         "y": [
          1,
          1,
          1,
          1,
          1,
          1,
          1,
          1,
          1,
          1,
          1,
          1,
          1,
          1,
          1,
          1,
          1,
          1,
          1,
          1,
          1,
          1,
          1,
          1,
          1,
          1,
          1,
          1,
          1,
          1,
          1,
          1,
          1,
          1,
          1,
          1,
          1,
          1,
          1,
          1,
          1,
          1,
          1,
          1,
          1,
          1,
          1,
          1,
          1,
          1,
          1,
          1,
          1,
          1,
          1,
          1,
          1,
          1,
          1,
          1,
          1,
          1,
          1,
          1,
          1,
          1,
          1,
          1,
          1,
          1,
          1,
          1,
          1,
          1,
          1,
          1,
          1,
          1,
          1,
          1,
          1,
          1,
          1,
          1,
          1,
          1,
          1,
          1,
          1,
          1,
          1,
          1,
          1,
          1,
          1,
          1,
          1,
          1,
          1,
          1
         ]
        },
        {
         "marker": {
          "color": "#cccccc"
         },
         "mode": "markers",
         "name": "Infeasible Trial",
         "showlegend": false,
         "type": "scatter",
         "x": [],
         "y": []
        }
       ],
       "layout": {
        "template": {
         "data": {
          "bar": [
           {
            "error_x": {
             "color": "#2a3f5f"
            },
            "error_y": {
             "color": "#2a3f5f"
            },
            "marker": {
             "line": {
              "color": "#E5ECF6",
              "width": 0.5
             },
             "pattern": {
              "fillmode": "overlay",
              "size": 10,
              "solidity": 0.2
             }
            },
            "type": "bar"
           }
          ],
          "barpolar": [
           {
            "marker": {
             "line": {
              "color": "#E5ECF6",
              "width": 0.5
             },
             "pattern": {
              "fillmode": "overlay",
              "size": 10,
              "solidity": 0.2
             }
            },
            "type": "barpolar"
           }
          ],
          "carpet": [
           {
            "aaxis": {
             "endlinecolor": "#2a3f5f",
             "gridcolor": "white",
             "linecolor": "white",
             "minorgridcolor": "white",
             "startlinecolor": "#2a3f5f"
            },
            "baxis": {
             "endlinecolor": "#2a3f5f",
             "gridcolor": "white",
             "linecolor": "white",
             "minorgridcolor": "white",
             "startlinecolor": "#2a3f5f"
            },
            "type": "carpet"
           }
          ],
          "choropleth": [
           {
            "colorbar": {
             "outlinewidth": 0,
             "ticks": ""
            },
            "type": "choropleth"
           }
          ],
          "contour": [
           {
            "colorbar": {
             "outlinewidth": 0,
             "ticks": ""
            },
            "colorscale": [
             [
              0,
              "#0d0887"
             ],
             [
              0.1111111111111111,
              "#46039f"
             ],
             [
              0.2222222222222222,
              "#7201a8"
             ],
             [
              0.3333333333333333,
              "#9c179e"
             ],
             [
              0.4444444444444444,
              "#bd3786"
             ],
             [
              0.5555555555555556,
              "#d8576b"
             ],
             [
              0.6666666666666666,
              "#ed7953"
             ],
             [
              0.7777777777777778,
              "#fb9f3a"
             ],
             [
              0.8888888888888888,
              "#fdca26"
             ],
             [
              1,
              "#f0f921"
             ]
            ],
            "type": "contour"
           }
          ],
          "contourcarpet": [
           {
            "colorbar": {
             "outlinewidth": 0,
             "ticks": ""
            },
            "type": "contourcarpet"
           }
          ],
          "heatmap": [
           {
            "colorbar": {
             "outlinewidth": 0,
             "ticks": ""
            },
            "colorscale": [
             [
              0,
              "#0d0887"
             ],
             [
              0.1111111111111111,
              "#46039f"
             ],
             [
              0.2222222222222222,
              "#7201a8"
             ],
             [
              0.3333333333333333,
              "#9c179e"
             ],
             [
              0.4444444444444444,
              "#bd3786"
             ],
             [
              0.5555555555555556,
              "#d8576b"
             ],
             [
              0.6666666666666666,
              "#ed7953"
             ],
             [
              0.7777777777777778,
              "#fb9f3a"
             ],
             [
              0.8888888888888888,
              "#fdca26"
             ],
             [
              1,
              "#f0f921"
             ]
            ],
            "type": "heatmap"
           }
          ],
          "heatmapgl": [
           {
            "colorbar": {
             "outlinewidth": 0,
             "ticks": ""
            },
            "colorscale": [
             [
              0,
              "#0d0887"
             ],
             [
              0.1111111111111111,
              "#46039f"
             ],
             [
              0.2222222222222222,
              "#7201a8"
             ],
             [
              0.3333333333333333,
              "#9c179e"
             ],
             [
              0.4444444444444444,
              "#bd3786"
             ],
             [
              0.5555555555555556,
              "#d8576b"
             ],
             [
              0.6666666666666666,
              "#ed7953"
             ],
             [
              0.7777777777777778,
              "#fb9f3a"
             ],
             [
              0.8888888888888888,
              "#fdca26"
             ],
             [
              1,
              "#f0f921"
             ]
            ],
            "type": "heatmapgl"
           }
          ],
          "histogram": [
           {
            "marker": {
             "pattern": {
              "fillmode": "overlay",
              "size": 10,
              "solidity": 0.2
             }
            },
            "type": "histogram"
           }
          ],
          "histogram2d": [
           {
            "colorbar": {
             "outlinewidth": 0,
             "ticks": ""
            },
            "colorscale": [
             [
              0,
              "#0d0887"
             ],
             [
              0.1111111111111111,
              "#46039f"
             ],
             [
              0.2222222222222222,
              "#7201a8"
             ],
             [
              0.3333333333333333,
              "#9c179e"
             ],
             [
              0.4444444444444444,
              "#bd3786"
             ],
             [
              0.5555555555555556,
              "#d8576b"
             ],
             [
              0.6666666666666666,
              "#ed7953"
             ],
             [
              0.7777777777777778,
              "#fb9f3a"
             ],
             [
              0.8888888888888888,
              "#fdca26"
             ],
             [
              1,
              "#f0f921"
             ]
            ],
            "type": "histogram2d"
           }
          ],
          "histogram2dcontour": [
           {
            "colorbar": {
             "outlinewidth": 0,
             "ticks": ""
            },
            "colorscale": [
             [
              0,
              "#0d0887"
             ],
             [
              0.1111111111111111,
              "#46039f"
             ],
             [
              0.2222222222222222,
              "#7201a8"
             ],
             [
              0.3333333333333333,
              "#9c179e"
             ],
             [
              0.4444444444444444,
              "#bd3786"
             ],
             [
              0.5555555555555556,
              "#d8576b"
             ],
             [
              0.6666666666666666,
              "#ed7953"
             ],
             [
              0.7777777777777778,
              "#fb9f3a"
             ],
             [
              0.8888888888888888,
              "#fdca26"
             ],
             [
              1,
              "#f0f921"
             ]
            ],
            "type": "histogram2dcontour"
           }
          ],
          "mesh3d": [
           {
            "colorbar": {
             "outlinewidth": 0,
             "ticks": ""
            },
            "type": "mesh3d"
           }
          ],
          "parcoords": [
           {
            "line": {
             "colorbar": {
              "outlinewidth": 0,
              "ticks": ""
             }
            },
            "type": "parcoords"
           }
          ],
          "pie": [
           {
            "automargin": true,
            "type": "pie"
           }
          ],
          "scatter": [
           {
            "fillpattern": {
             "fillmode": "overlay",
             "size": 10,
             "solidity": 0.2
            },
            "type": "scatter"
           }
          ],
          "scatter3d": [
           {
            "line": {
             "colorbar": {
              "outlinewidth": 0,
              "ticks": ""
             }
            },
            "marker": {
             "colorbar": {
              "outlinewidth": 0,
              "ticks": ""
             }
            },
            "type": "scatter3d"
           }
          ],
          "scattercarpet": [
           {
            "marker": {
             "colorbar": {
              "outlinewidth": 0,
              "ticks": ""
             }
            },
            "type": "scattercarpet"
           }
          ],
          "scattergeo": [
           {
            "marker": {
             "colorbar": {
              "outlinewidth": 0,
              "ticks": ""
             }
            },
            "type": "scattergeo"
           }
          ],
          "scattergl": [
           {
            "marker": {
             "colorbar": {
              "outlinewidth": 0,
              "ticks": ""
             }
            },
            "type": "scattergl"
           }
          ],
          "scattermapbox": [
           {
            "marker": {
             "colorbar": {
              "outlinewidth": 0,
              "ticks": ""
             }
            },
            "type": "scattermapbox"
           }
          ],
          "scatterpolar": [
           {
            "marker": {
             "colorbar": {
              "outlinewidth": 0,
              "ticks": ""
             }
            },
            "type": "scatterpolar"
           }
          ],
          "scatterpolargl": [
           {
            "marker": {
             "colorbar": {
              "outlinewidth": 0,
              "ticks": ""
             }
            },
            "type": "scatterpolargl"
           }
          ],
          "scatterternary": [
           {
            "marker": {
             "colorbar": {
              "outlinewidth": 0,
              "ticks": ""
             }
            },
            "type": "scatterternary"
           }
          ],
          "surface": [
           {
            "colorbar": {
             "outlinewidth": 0,
             "ticks": ""
            },
            "colorscale": [
             [
              0,
              "#0d0887"
             ],
             [
              0.1111111111111111,
              "#46039f"
             ],
             [
              0.2222222222222222,
              "#7201a8"
             ],
             [
              0.3333333333333333,
              "#9c179e"
             ],
             [
              0.4444444444444444,
              "#bd3786"
             ],
             [
              0.5555555555555556,
              "#d8576b"
             ],
             [
              0.6666666666666666,
              "#ed7953"
             ],
             [
              0.7777777777777778,
              "#fb9f3a"
             ],
             [
              0.8888888888888888,
              "#fdca26"
             ],
             [
              1,
              "#f0f921"
             ]
            ],
            "type": "surface"
           }
          ],
          "table": [
           {
            "cells": {
             "fill": {
              "color": "#EBF0F8"
             },
             "line": {
              "color": "white"
             }
            },
            "header": {
             "fill": {
              "color": "#C8D4E3"
             },
             "line": {
              "color": "white"
             }
            },
            "type": "table"
           }
          ]
         },
         "layout": {
          "annotationdefaults": {
           "arrowcolor": "#2a3f5f",
           "arrowhead": 0,
           "arrowwidth": 1
          },
          "autotypenumbers": "strict",
          "coloraxis": {
           "colorbar": {
            "outlinewidth": 0,
            "ticks": ""
           }
          },
          "colorscale": {
           "diverging": [
            [
             0,
             "#8e0152"
            ],
            [
             0.1,
             "#c51b7d"
            ],
            [
             0.2,
             "#de77ae"
            ],
            [
             0.3,
             "#f1b6da"
            ],
            [
             0.4,
             "#fde0ef"
            ],
            [
             0.5,
             "#f7f7f7"
            ],
            [
             0.6,
             "#e6f5d0"
            ],
            [
             0.7,
             "#b8e186"
            ],
            [
             0.8,
             "#7fbc41"
            ],
            [
             0.9,
             "#4d9221"
            ],
            [
             1,
             "#276419"
            ]
           ],
           "sequential": [
            [
             0,
             "#0d0887"
            ],
            [
             0.1111111111111111,
             "#46039f"
            ],
            [
             0.2222222222222222,
             "#7201a8"
            ],
            [
             0.3333333333333333,
             "#9c179e"
            ],
            [
             0.4444444444444444,
             "#bd3786"
            ],
            [
             0.5555555555555556,
             "#d8576b"
            ],
            [
             0.6666666666666666,
             "#ed7953"
            ],
            [
             0.7777777777777778,
             "#fb9f3a"
            ],
            [
             0.8888888888888888,
             "#fdca26"
            ],
            [
             1,
             "#f0f921"
            ]
           ],
           "sequentialminus": [
            [
             0,
             "#0d0887"
            ],
            [
             0.1111111111111111,
             "#46039f"
            ],
            [
             0.2222222222222222,
             "#7201a8"
            ],
            [
             0.3333333333333333,
             "#9c179e"
            ],
            [
             0.4444444444444444,
             "#bd3786"
            ],
            [
             0.5555555555555556,
             "#d8576b"
            ],
            [
             0.6666666666666666,
             "#ed7953"
            ],
            [
             0.7777777777777778,
             "#fb9f3a"
            ],
            [
             0.8888888888888888,
             "#fdca26"
            ],
            [
             1,
             "#f0f921"
            ]
           ]
          },
          "colorway": [
           "#636efa",
           "#EF553B",
           "#00cc96",
           "#ab63fa",
           "#FFA15A",
           "#19d3f3",
           "#FF6692",
           "#B6E880",
           "#FF97FF",
           "#FECB52"
          ],
          "font": {
           "color": "#2a3f5f"
          },
          "geo": {
           "bgcolor": "white",
           "lakecolor": "white",
           "landcolor": "#E5ECF6",
           "showlakes": true,
           "showland": true,
           "subunitcolor": "white"
          },
          "hoverlabel": {
           "align": "left"
          },
          "hovermode": "closest",
          "mapbox": {
           "style": "light"
          },
          "paper_bgcolor": "white",
          "plot_bgcolor": "#E5ECF6",
          "polar": {
           "angularaxis": {
            "gridcolor": "white",
            "linecolor": "white",
            "ticks": ""
           },
           "bgcolor": "#E5ECF6",
           "radialaxis": {
            "gridcolor": "white",
            "linecolor": "white",
            "ticks": ""
           }
          },
          "scene": {
           "xaxis": {
            "backgroundcolor": "#E5ECF6",
            "gridcolor": "white",
            "gridwidth": 2,
            "linecolor": "white",
            "showbackground": true,
            "ticks": "",
            "zerolinecolor": "white"
           },
           "yaxis": {
            "backgroundcolor": "#E5ECF6",
            "gridcolor": "white",
            "gridwidth": 2,
            "linecolor": "white",
            "showbackground": true,
            "ticks": "",
            "zerolinecolor": "white"
           },
           "zaxis": {
            "backgroundcolor": "#E5ECF6",
            "gridcolor": "white",
            "gridwidth": 2,
            "linecolor": "white",
            "showbackground": true,
            "ticks": "",
            "zerolinecolor": "white"
           }
          },
          "shapedefaults": {
           "line": {
            "color": "#2a3f5f"
           }
          },
          "ternary": {
           "aaxis": {
            "gridcolor": "white",
            "linecolor": "white",
            "ticks": ""
           },
           "baxis": {
            "gridcolor": "white",
            "linecolor": "white",
            "ticks": ""
           },
           "bgcolor": "#E5ECF6",
           "caxis": {
            "gridcolor": "white",
            "linecolor": "white",
            "ticks": ""
           }
          },
          "title": {
           "x": 0.05
          },
          "xaxis": {
           "automargin": true,
           "gridcolor": "white",
           "linecolor": "white",
           "ticks": "",
           "title": {
            "standoff": 15
           },
           "zerolinecolor": "white",
           "zerolinewidth": 2
          },
          "yaxis": {
           "automargin": true,
           "gridcolor": "white",
           "linecolor": "white",
           "ticks": "",
           "title": {
            "standoff": 15
           },
           "zerolinecolor": "white",
           "zerolinewidth": 2
          }
         }
        },
        "title": {
         "text": "Optimization History Plot"
        },
        "xaxis": {
         "title": {
          "text": "Trial"
         }
        },
        "yaxis": {
         "title": {
          "text": "Objective Value"
         }
        }
       }
      }
     },
     "metadata": {},
     "output_type": "display_data"
    }
   ],
   "source": [
    "print(studySVM.best_params)\n",
    "optuna.visualization.plot_optimization_history(studySVM)"
   ]
  },
  {
   "cell_type": "code",
   "execution_count": 361,
   "metadata": {},
   "outputs": [
    {
     "data": {
      "application/vnd.plotly.v1+json": {
       "config": {
        "plotlyServerURL": "https://plot.ly"
       },
       "data": [
        {
         "dimensions": [
          {
           "label": "Objective Value",
           "range": [
            0.31,
            1
           ],
           "values": [
            1,
            1,
            0.375,
            0.375,
            0.93,
            0.375,
            1,
            0.375,
            1,
            0.375,
            1,
            1,
            0.97,
            1,
            1,
            0.6,
            1,
            0.905,
            1,
            1,
            1,
            1,
            1,
            1,
            1,
            1,
            1,
            0.31,
            1,
            0.31,
            1,
            1,
            1,
            1,
            1,
            0.975,
            0.31,
            1,
            1,
            0.375,
            1,
            1,
            0.96,
            1,
            0.96,
            1,
            0.31,
            1,
            0.395,
            1,
            1,
            1,
            1,
            1,
            1,
            1,
            1,
            1,
            1,
            1,
            1,
            1,
            1,
            1,
            0.33,
            1,
            1,
            1,
            1,
            1,
            1,
            1,
            1,
            1,
            1,
            1,
            1,
            0.31,
            1,
            1,
            1,
            1,
            1,
            1,
            1,
            1,
            1,
            1,
            1,
            1,
            0.31,
            1,
            1,
            1,
            1,
            1,
            1,
            1,
            1,
            1
           ]
          },
          {
           "label": "Kernel",
           "range": [
            0,
            3
           ],
           "ticktext": [
            "linear",
            "rbf",
            "sigmoid",
            "poly"
           ],
           "tickvals": [
            0,
            1,
            2,
            3
           ],
           "values": [
            0,
            1,
            2,
            2,
            3,
            1,
            3,
            0,
            0,
            2,
            0,
            1,
            1,
            1,
            0,
            1,
            0,
            3,
            0,
            1,
            0,
            3,
            3,
            3,
            3,
            3,
            1,
            2,
            3,
            2,
            0,
            0,
            0,
            0,
            0,
            1,
            2,
            0,
            1,
            3,
            0,
            0,
            0,
            0,
            1,
            0,
            2,
            0,
            1,
            0,
            3,
            1,
            1,
            1,
            1,
            1,
            3,
            0,
            1,
            3,
            0,
            1,
            1,
            1,
            2,
            1,
            3,
            0,
            1,
            0,
            1,
            0,
            0,
            0,
            0,
            3,
            0,
            2,
            0,
            0,
            1,
            0,
            0,
            0,
            0,
            3,
            0,
            1,
            0,
            3,
            2,
            0,
            0,
            0,
            0,
            1,
            0,
            1,
            0,
            3
           ]
          },
          {
           "label": "svm_C",
           "range": [
            -9.789596515600607,
            4.958151391724156
           ],
           "ticktext": [
            "1.62e-10",
            "1e-09",
            "1e-08",
            "1e-07",
            "1e-06",
            "1e-05",
            "0.0001",
            "0.001",
            "0.01",
            "0.1",
            "1",
            "10",
            "100",
            "1e+03",
            "1e+04",
            "9.08e+04"
           ],
           "tickvals": [
            -9.789596515600607,
            -9,
            -8,
            -7,
            -6,
            -5,
            -4,
            -3,
            -2,
            -1,
            0,
            1,
            2,
            3,
            4,
            4.958151391724156
           ],
           "values": [
            0.5954574135513607,
            2.863529447020348,
            -3.593889381037998,
            -3.2024364901634788,
            0.2543028832318882,
            -8.384989513541903,
            2.9887316215100075,
            -5.007118783072875,
            2.776259030913754,
            -9.789596515600607,
            -0.4188719448551844,
            4.873073770925107,
            0.38225578923837655,
            2.1630116689750247,
            4.73427647901327,
            -1.3991685316718767,
            1.1106261030186158,
            -1.3701627372511176,
            1.6815577950665763,
            2.8711123446051396,
            3.471952432925926,
            3.693752701435648,
            1.608462954903771,
            1.6778939579893053,
            3.4181716138441534,
            0.6708726129431547,
            4.0352610668014135,
            2.3309922623492927,
            2.6250894814464325,
            4.950662840897758,
            -0.20629967408541214,
            2.887719664253306,
            1.183506106381889,
            2.461886559989266,
            3.908458593574816,
            0.7207519463329564,
            2.038960494244889,
            3.080789950151604,
            4.13646617858451,
            -3.5642966866485524,
            -0.7213464783801887,
            0.23242965263032483,
            -2.5197612832310177,
            1.1717669581046724,
            -0.17788811918088906,
            2.185852174286588,
            3.0579221173830984,
            -1.0927233356166686,
            -1.6962801918681476,
            4.389829320136501,
            1.5336806708704152,
            4.727213180274507,
            3.5556446169961298,
            4.236674717566575,
            3.3587633423212067,
            2.652365943987426,
            1.898228796963291,
            4.958151391724156,
            3.705914056981289,
            1.0768866257833676,
            2.5169418156968413,
            2.02094276829127,
            3.135102507113588,
            1.3915018489863087,
            0.6792810453317539,
            2.722625602094536,
            3.869862555890162,
            2.16208979946046,
            4.320968890849809,
            1.6228734244872236,
            3.4784346331982907,
            4.440458364012415,
            4.674436351628445,
            2.88795574157413,
            3.8187885791217733,
            2.4217346082911586,
            3.2935126803099486,
            4.15732236851249,
            4.777347624805574,
            1.7572389040493888,
            3.077171539988418,
            1.1289165665743293,
            2.278655941546721,
            0.3594223051750637,
            -0.0872012381061145,
            0.7353041066436328,
            3.594445628905803,
            2.7390002675622678,
            1.8641239102239635,
            4.043956486161796,
            1.334562471700189,
            0.9595668012225079,
            1.6861061052428667,
            1.4267651421893204,
            2.2882513881172866,
            3.2394933616921477,
            2.8078563130895513,
            1.985731516455062,
            0.2304727251676691,
            2.5603125685498145
           ]
          }
         ],
         "labelangle": 30,
         "labelside": "bottom",
         "line": {
          "color": [
           1,
           1,
           0.375,
           0.375,
           0.93,
           0.375,
           1,
           0.375,
           1,
           0.375,
           1,
           1,
           0.97,
           1,
           1,
           0.6,
           1,
           0.905,
           1,
           1,
           1,
           1,
           1,
           1,
           1,
           1,
           1,
           0.31,
           1,
           0.31,
           1,
           1,
           1,
           1,
           1,
           0.975,
           0.31,
           1,
           1,
           0.375,
           1,
           1,
           0.96,
           1,
           0.96,
           1,
           0.31,
           1,
           0.395,
           1,
           1,
           1,
           1,
           1,
           1,
           1,
           1,
           1,
           1,
           1,
           1,
           1,
           1,
           1,
           0.33,
           1,
           1,
           1,
           1,
           1,
           1,
           1,
           1,
           1,
           1,
           1,
           1,
           0.31,
           1,
           1,
           1,
           1,
           1,
           1,
           1,
           1,
           1,
           1,
           1,
           1,
           0.31,
           1,
           1,
           1,
           1,
           1,
           1,
           1,
           1,
           1
          ],
          "colorbar": {
           "title": {
            "text": "Objective Value"
           }
          },
          "colorscale": [
           [
            0,
            "rgb(247,251,255)"
           ],
           [
            0.125,
            "rgb(222,235,247)"
           ],
           [
            0.25,
            "rgb(198,219,239)"
           ],
           [
            0.375,
            "rgb(158,202,225)"
           ],
           [
            0.5,
            "rgb(107,174,214)"
           ],
           [
            0.625,
            "rgb(66,146,198)"
           ],
           [
            0.75,
            "rgb(33,113,181)"
           ],
           [
            0.875,
            "rgb(8,81,156)"
           ],
           [
            1,
            "rgb(8,48,107)"
           ]
          ],
          "reversescale": false,
          "showscale": true
         },
         "type": "parcoords"
        }
       ],
       "layout": {
        "template": {
         "data": {
          "bar": [
           {
            "error_x": {
             "color": "#2a3f5f"
            },
            "error_y": {
             "color": "#2a3f5f"
            },
            "marker": {
             "line": {
              "color": "#E5ECF6",
              "width": 0.5
             },
             "pattern": {
              "fillmode": "overlay",
              "size": 10,
              "solidity": 0.2
             }
            },
            "type": "bar"
           }
          ],
          "barpolar": [
           {
            "marker": {
             "line": {
              "color": "#E5ECF6",
              "width": 0.5
             },
             "pattern": {
              "fillmode": "overlay",
              "size": 10,
              "solidity": 0.2
             }
            },
            "type": "barpolar"
           }
          ],
          "carpet": [
           {
            "aaxis": {
             "endlinecolor": "#2a3f5f",
             "gridcolor": "white",
             "linecolor": "white",
             "minorgridcolor": "white",
             "startlinecolor": "#2a3f5f"
            },
            "baxis": {
             "endlinecolor": "#2a3f5f",
             "gridcolor": "white",
             "linecolor": "white",
             "minorgridcolor": "white",
             "startlinecolor": "#2a3f5f"
            },
            "type": "carpet"
           }
          ],
          "choropleth": [
           {
            "colorbar": {
             "outlinewidth": 0,
             "ticks": ""
            },
            "type": "choropleth"
           }
          ],
          "contour": [
           {
            "colorbar": {
             "outlinewidth": 0,
             "ticks": ""
            },
            "colorscale": [
             [
              0,
              "#0d0887"
             ],
             [
              0.1111111111111111,
              "#46039f"
             ],
             [
              0.2222222222222222,
              "#7201a8"
             ],
             [
              0.3333333333333333,
              "#9c179e"
             ],
             [
              0.4444444444444444,
              "#bd3786"
             ],
             [
              0.5555555555555556,
              "#d8576b"
             ],
             [
              0.6666666666666666,
              "#ed7953"
             ],
             [
              0.7777777777777778,
              "#fb9f3a"
             ],
             [
              0.8888888888888888,
              "#fdca26"
             ],
             [
              1,
              "#f0f921"
             ]
            ],
            "type": "contour"
           }
          ],
          "contourcarpet": [
           {
            "colorbar": {
             "outlinewidth": 0,
             "ticks": ""
            },
            "type": "contourcarpet"
           }
          ],
          "heatmap": [
           {
            "colorbar": {
             "outlinewidth": 0,
             "ticks": ""
            },
            "colorscale": [
             [
              0,
              "#0d0887"
             ],
             [
              0.1111111111111111,
              "#46039f"
             ],
             [
              0.2222222222222222,
              "#7201a8"
             ],
             [
              0.3333333333333333,
              "#9c179e"
             ],
             [
              0.4444444444444444,
              "#bd3786"
             ],
             [
              0.5555555555555556,
              "#d8576b"
             ],
             [
              0.6666666666666666,
              "#ed7953"
             ],
             [
              0.7777777777777778,
              "#fb9f3a"
             ],
             [
              0.8888888888888888,
              "#fdca26"
             ],
             [
              1,
              "#f0f921"
             ]
            ],
            "type": "heatmap"
           }
          ],
          "heatmapgl": [
           {
            "colorbar": {
             "outlinewidth": 0,
             "ticks": ""
            },
            "colorscale": [
             [
              0,
              "#0d0887"
             ],
             [
              0.1111111111111111,
              "#46039f"
             ],
             [
              0.2222222222222222,
              "#7201a8"
             ],
             [
              0.3333333333333333,
              "#9c179e"
             ],
             [
              0.4444444444444444,
              "#bd3786"
             ],
             [
              0.5555555555555556,
              "#d8576b"
             ],
             [
              0.6666666666666666,
              "#ed7953"
             ],
             [
              0.7777777777777778,
              "#fb9f3a"
             ],
             [
              0.8888888888888888,
              "#fdca26"
             ],
             [
              1,
              "#f0f921"
             ]
            ],
            "type": "heatmapgl"
           }
          ],
          "histogram": [
           {
            "marker": {
             "pattern": {
              "fillmode": "overlay",
              "size": 10,
              "solidity": 0.2
             }
            },
            "type": "histogram"
           }
          ],
          "histogram2d": [
           {
            "colorbar": {
             "outlinewidth": 0,
             "ticks": ""
            },
            "colorscale": [
             [
              0,
              "#0d0887"
             ],
             [
              0.1111111111111111,
              "#46039f"
             ],
             [
              0.2222222222222222,
              "#7201a8"
             ],
             [
              0.3333333333333333,
              "#9c179e"
             ],
             [
              0.4444444444444444,
              "#bd3786"
             ],
             [
              0.5555555555555556,
              "#d8576b"
             ],
             [
              0.6666666666666666,
              "#ed7953"
             ],
             [
              0.7777777777777778,
              "#fb9f3a"
             ],
             [
              0.8888888888888888,
              "#fdca26"
             ],
             [
              1,
              "#f0f921"
             ]
            ],
            "type": "histogram2d"
           }
          ],
          "histogram2dcontour": [
           {
            "colorbar": {
             "outlinewidth": 0,
             "ticks": ""
            },
            "colorscale": [
             [
              0,
              "#0d0887"
             ],
             [
              0.1111111111111111,
              "#46039f"
             ],
             [
              0.2222222222222222,
              "#7201a8"
             ],
             [
              0.3333333333333333,
              "#9c179e"
             ],
             [
              0.4444444444444444,
              "#bd3786"
             ],
             [
              0.5555555555555556,
              "#d8576b"
             ],
             [
              0.6666666666666666,
              "#ed7953"
             ],
             [
              0.7777777777777778,
              "#fb9f3a"
             ],
             [
              0.8888888888888888,
              "#fdca26"
             ],
             [
              1,
              "#f0f921"
             ]
            ],
            "type": "histogram2dcontour"
           }
          ],
          "mesh3d": [
           {
            "colorbar": {
             "outlinewidth": 0,
             "ticks": ""
            },
            "type": "mesh3d"
           }
          ],
          "parcoords": [
           {
            "line": {
             "colorbar": {
              "outlinewidth": 0,
              "ticks": ""
             }
            },
            "type": "parcoords"
           }
          ],
          "pie": [
           {
            "automargin": true,
            "type": "pie"
           }
          ],
          "scatter": [
           {
            "fillpattern": {
             "fillmode": "overlay",
             "size": 10,
             "solidity": 0.2
            },
            "type": "scatter"
           }
          ],
          "scatter3d": [
           {
            "line": {
             "colorbar": {
              "outlinewidth": 0,
              "ticks": ""
             }
            },
            "marker": {
             "colorbar": {
              "outlinewidth": 0,
              "ticks": ""
             }
            },
            "type": "scatter3d"
           }
          ],
          "scattercarpet": [
           {
            "marker": {
             "colorbar": {
              "outlinewidth": 0,
              "ticks": ""
             }
            },
            "type": "scattercarpet"
           }
          ],
          "scattergeo": [
           {
            "marker": {
             "colorbar": {
              "outlinewidth": 0,
              "ticks": ""
             }
            },
            "type": "scattergeo"
           }
          ],
          "scattergl": [
           {
            "marker": {
             "colorbar": {
              "outlinewidth": 0,
              "ticks": ""
             }
            },
            "type": "scattergl"
           }
          ],
          "scattermapbox": [
           {
            "marker": {
             "colorbar": {
              "outlinewidth": 0,
              "ticks": ""
             }
            },
            "type": "scattermapbox"
           }
          ],
          "scatterpolar": [
           {
            "marker": {
             "colorbar": {
              "outlinewidth": 0,
              "ticks": ""
             }
            },
            "type": "scatterpolar"
           }
          ],
          "scatterpolargl": [
           {
            "marker": {
             "colorbar": {
              "outlinewidth": 0,
              "ticks": ""
             }
            },
            "type": "scatterpolargl"
           }
          ],
          "scatterternary": [
           {
            "marker": {
             "colorbar": {
              "outlinewidth": 0,
              "ticks": ""
             }
            },
            "type": "scatterternary"
           }
          ],
          "surface": [
           {
            "colorbar": {
             "outlinewidth": 0,
             "ticks": ""
            },
            "colorscale": [
             [
              0,
              "#0d0887"
             ],
             [
              0.1111111111111111,
              "#46039f"
             ],
             [
              0.2222222222222222,
              "#7201a8"
             ],
             [
              0.3333333333333333,
              "#9c179e"
             ],
             [
              0.4444444444444444,
              "#bd3786"
             ],
             [
              0.5555555555555556,
              "#d8576b"
             ],
             [
              0.6666666666666666,
              "#ed7953"
             ],
             [
              0.7777777777777778,
              "#fb9f3a"
             ],
             [
              0.8888888888888888,
              "#fdca26"
             ],
             [
              1,
              "#f0f921"
             ]
            ],
            "type": "surface"
           }
          ],
          "table": [
           {
            "cells": {
             "fill": {
              "color": "#EBF0F8"
             },
             "line": {
              "color": "white"
             }
            },
            "header": {
             "fill": {
              "color": "#C8D4E3"
             },
             "line": {
              "color": "white"
             }
            },
            "type": "table"
           }
          ]
         },
         "layout": {
          "annotationdefaults": {
           "arrowcolor": "#2a3f5f",
           "arrowhead": 0,
           "arrowwidth": 1
          },
          "autotypenumbers": "strict",
          "coloraxis": {
           "colorbar": {
            "outlinewidth": 0,
            "ticks": ""
           }
          },
          "colorscale": {
           "diverging": [
            [
             0,
             "#8e0152"
            ],
            [
             0.1,
             "#c51b7d"
            ],
            [
             0.2,
             "#de77ae"
            ],
            [
             0.3,
             "#f1b6da"
            ],
            [
             0.4,
             "#fde0ef"
            ],
            [
             0.5,
             "#f7f7f7"
            ],
            [
             0.6,
             "#e6f5d0"
            ],
            [
             0.7,
             "#b8e186"
            ],
            [
             0.8,
             "#7fbc41"
            ],
            [
             0.9,
             "#4d9221"
            ],
            [
             1,
             "#276419"
            ]
           ],
           "sequential": [
            [
             0,
             "#0d0887"
            ],
            [
             0.1111111111111111,
             "#46039f"
            ],
            [
             0.2222222222222222,
             "#7201a8"
            ],
            [
             0.3333333333333333,
             "#9c179e"
            ],
            [
             0.4444444444444444,
             "#bd3786"
            ],
            [
             0.5555555555555556,
             "#d8576b"
            ],
            [
             0.6666666666666666,
             "#ed7953"
            ],
            [
             0.7777777777777778,
             "#fb9f3a"
            ],
            [
             0.8888888888888888,
             "#fdca26"
            ],
            [
             1,
             "#f0f921"
            ]
           ],
           "sequentialminus": [
            [
             0,
             "#0d0887"
            ],
            [
             0.1111111111111111,
             "#46039f"
            ],
            [
             0.2222222222222222,
             "#7201a8"
            ],
            [
             0.3333333333333333,
             "#9c179e"
            ],
            [
             0.4444444444444444,
             "#bd3786"
            ],
            [
             0.5555555555555556,
             "#d8576b"
            ],
            [
             0.6666666666666666,
             "#ed7953"
            ],
            [
             0.7777777777777778,
             "#fb9f3a"
            ],
            [
             0.8888888888888888,
             "#fdca26"
            ],
            [
             1,
             "#f0f921"
            ]
           ]
          },
          "colorway": [
           "#636efa",
           "#EF553B",
           "#00cc96",
           "#ab63fa",
           "#FFA15A",
           "#19d3f3",
           "#FF6692",
           "#B6E880",
           "#FF97FF",
           "#FECB52"
          ],
          "font": {
           "color": "#2a3f5f"
          },
          "geo": {
           "bgcolor": "white",
           "lakecolor": "white",
           "landcolor": "#E5ECF6",
           "showlakes": true,
           "showland": true,
           "subunitcolor": "white"
          },
          "hoverlabel": {
           "align": "left"
          },
          "hovermode": "closest",
          "mapbox": {
           "style": "light"
          },
          "paper_bgcolor": "white",
          "plot_bgcolor": "#E5ECF6",
          "polar": {
           "angularaxis": {
            "gridcolor": "white",
            "linecolor": "white",
            "ticks": ""
           },
           "bgcolor": "#E5ECF6",
           "radialaxis": {
            "gridcolor": "white",
            "linecolor": "white",
            "ticks": ""
           }
          },
          "scene": {
           "xaxis": {
            "backgroundcolor": "#E5ECF6",
            "gridcolor": "white",
            "gridwidth": 2,
            "linecolor": "white",
            "showbackground": true,
            "ticks": "",
            "zerolinecolor": "white"
           },
           "yaxis": {
            "backgroundcolor": "#E5ECF6",
            "gridcolor": "white",
            "gridwidth": 2,
            "linecolor": "white",
            "showbackground": true,
            "ticks": "",
            "zerolinecolor": "white"
           },
           "zaxis": {
            "backgroundcolor": "#E5ECF6",
            "gridcolor": "white",
            "gridwidth": 2,
            "linecolor": "white",
            "showbackground": true,
            "ticks": "",
            "zerolinecolor": "white"
           }
          },
          "shapedefaults": {
           "line": {
            "color": "#2a3f5f"
           }
          },
          "ternary": {
           "aaxis": {
            "gridcolor": "white",
            "linecolor": "white",
            "ticks": ""
           },
           "baxis": {
            "gridcolor": "white",
            "linecolor": "white",
            "ticks": ""
           },
           "bgcolor": "#E5ECF6",
           "caxis": {
            "gridcolor": "white",
            "linecolor": "white",
            "ticks": ""
           }
          },
          "title": {
           "x": 0.05
          },
          "xaxis": {
           "automargin": true,
           "gridcolor": "white",
           "linecolor": "white",
           "ticks": "",
           "title": {
            "standoff": 15
           },
           "zerolinecolor": "white",
           "zerolinewidth": 2
          },
          "yaxis": {
           "automargin": true,
           "gridcolor": "white",
           "linecolor": "white",
           "ticks": "",
           "title": {
            "standoff": 15
           },
           "zerolinecolor": "white",
           "zerolinewidth": 2
          }
         }
        },
        "title": {
         "text": "Parallel Coordinate Plot"
        }
       }
      }
     },
     "metadata": {},
     "output_type": "display_data"
    }
   ],
   "source": [
    "optuna.visualization.plot_parallel_coordinate(studySVM)"
   ]
  },
  {
   "cell_type": "code",
   "execution_count": 362,
   "metadata": {},
   "outputs": [
    {
     "data": {
      "application/vnd.plotly.v1+json": {
       "config": {
        "plotlyServerURL": "https://plot.ly"
       },
       "data": [
        {
         "cliponaxis": false,
         "hovertemplate": [
          "svm_C (FloatDistribution): 1.3807621018940077e-05<extra></extra>",
          "Kernel (CategoricalDistribution): 0.999986192378981<extra></extra>"
         ],
         "name": "Objective Value",
         "orientation": "h",
         "text": [
          "<0.01",
          "1.00"
         ],
         "textposition": "outside",
         "type": "bar",
         "x": [
          0.000013807621018940077,
          0.999986192378981
         ],
         "y": [
          "svm_C",
          "Kernel"
         ]
        }
       ],
       "layout": {
        "template": {
         "data": {
          "bar": [
           {
            "error_x": {
             "color": "#2a3f5f"
            },
            "error_y": {
             "color": "#2a3f5f"
            },
            "marker": {
             "line": {
              "color": "#E5ECF6",
              "width": 0.5
             },
             "pattern": {
              "fillmode": "overlay",
              "size": 10,
              "solidity": 0.2
             }
            },
            "type": "bar"
           }
          ],
          "barpolar": [
           {
            "marker": {
             "line": {
              "color": "#E5ECF6",
              "width": 0.5
             },
             "pattern": {
              "fillmode": "overlay",
              "size": 10,
              "solidity": 0.2
             }
            },
            "type": "barpolar"
           }
          ],
          "carpet": [
           {
            "aaxis": {
             "endlinecolor": "#2a3f5f",
             "gridcolor": "white",
             "linecolor": "white",
             "minorgridcolor": "white",
             "startlinecolor": "#2a3f5f"
            },
            "baxis": {
             "endlinecolor": "#2a3f5f",
             "gridcolor": "white",
             "linecolor": "white",
             "minorgridcolor": "white",
             "startlinecolor": "#2a3f5f"
            },
            "type": "carpet"
           }
          ],
          "choropleth": [
           {
            "colorbar": {
             "outlinewidth": 0,
             "ticks": ""
            },
            "type": "choropleth"
           }
          ],
          "contour": [
           {
            "colorbar": {
             "outlinewidth": 0,
             "ticks": ""
            },
            "colorscale": [
             [
              0,
              "#0d0887"
             ],
             [
              0.1111111111111111,
              "#46039f"
             ],
             [
              0.2222222222222222,
              "#7201a8"
             ],
             [
              0.3333333333333333,
              "#9c179e"
             ],
             [
              0.4444444444444444,
              "#bd3786"
             ],
             [
              0.5555555555555556,
              "#d8576b"
             ],
             [
              0.6666666666666666,
              "#ed7953"
             ],
             [
              0.7777777777777778,
              "#fb9f3a"
             ],
             [
              0.8888888888888888,
              "#fdca26"
             ],
             [
              1,
              "#f0f921"
             ]
            ],
            "type": "contour"
           }
          ],
          "contourcarpet": [
           {
            "colorbar": {
             "outlinewidth": 0,
             "ticks": ""
            },
            "type": "contourcarpet"
           }
          ],
          "heatmap": [
           {
            "colorbar": {
             "outlinewidth": 0,
             "ticks": ""
            },
            "colorscale": [
             [
              0,
              "#0d0887"
             ],
             [
              0.1111111111111111,
              "#46039f"
             ],
             [
              0.2222222222222222,
              "#7201a8"
             ],
             [
              0.3333333333333333,
              "#9c179e"
             ],
             [
              0.4444444444444444,
              "#bd3786"
             ],
             [
              0.5555555555555556,
              "#d8576b"
             ],
             [
              0.6666666666666666,
              "#ed7953"
             ],
             [
              0.7777777777777778,
              "#fb9f3a"
             ],
             [
              0.8888888888888888,
              "#fdca26"
             ],
             [
              1,
              "#f0f921"
             ]
            ],
            "type": "heatmap"
           }
          ],
          "heatmapgl": [
           {
            "colorbar": {
             "outlinewidth": 0,
             "ticks": ""
            },
            "colorscale": [
             [
              0,
              "#0d0887"
             ],
             [
              0.1111111111111111,
              "#46039f"
             ],
             [
              0.2222222222222222,
              "#7201a8"
             ],
             [
              0.3333333333333333,
              "#9c179e"
             ],
             [
              0.4444444444444444,
              "#bd3786"
             ],
             [
              0.5555555555555556,
              "#d8576b"
             ],
             [
              0.6666666666666666,
              "#ed7953"
             ],
             [
              0.7777777777777778,
              "#fb9f3a"
             ],
             [
              0.8888888888888888,
              "#fdca26"
             ],
             [
              1,
              "#f0f921"
             ]
            ],
            "type": "heatmapgl"
           }
          ],
          "histogram": [
           {
            "marker": {
             "pattern": {
              "fillmode": "overlay",
              "size": 10,
              "solidity": 0.2
             }
            },
            "type": "histogram"
           }
          ],
          "histogram2d": [
           {
            "colorbar": {
             "outlinewidth": 0,
             "ticks": ""
            },
            "colorscale": [
             [
              0,
              "#0d0887"
             ],
             [
              0.1111111111111111,
              "#46039f"
             ],
             [
              0.2222222222222222,
              "#7201a8"
             ],
             [
              0.3333333333333333,
              "#9c179e"
             ],
             [
              0.4444444444444444,
              "#bd3786"
             ],
             [
              0.5555555555555556,
              "#d8576b"
             ],
             [
              0.6666666666666666,
              "#ed7953"
             ],
             [
              0.7777777777777778,
              "#fb9f3a"
             ],
             [
              0.8888888888888888,
              "#fdca26"
             ],
             [
              1,
              "#f0f921"
             ]
            ],
            "type": "histogram2d"
           }
          ],
          "histogram2dcontour": [
           {
            "colorbar": {
             "outlinewidth": 0,
             "ticks": ""
            },
            "colorscale": [
             [
              0,
              "#0d0887"
             ],
             [
              0.1111111111111111,
              "#46039f"
             ],
             [
              0.2222222222222222,
              "#7201a8"
             ],
             [
              0.3333333333333333,
              "#9c179e"
             ],
             [
              0.4444444444444444,
              "#bd3786"
             ],
             [
              0.5555555555555556,
              "#d8576b"
             ],
             [
              0.6666666666666666,
              "#ed7953"
             ],
             [
              0.7777777777777778,
              "#fb9f3a"
             ],
             [
              0.8888888888888888,
              "#fdca26"
             ],
             [
              1,
              "#f0f921"
             ]
            ],
            "type": "histogram2dcontour"
           }
          ],
          "mesh3d": [
           {
            "colorbar": {
             "outlinewidth": 0,
             "ticks": ""
            },
            "type": "mesh3d"
           }
          ],
          "parcoords": [
           {
            "line": {
             "colorbar": {
              "outlinewidth": 0,
              "ticks": ""
             }
            },
            "type": "parcoords"
           }
          ],
          "pie": [
           {
            "automargin": true,
            "type": "pie"
           }
          ],
          "scatter": [
           {
            "fillpattern": {
             "fillmode": "overlay",
             "size": 10,
             "solidity": 0.2
            },
            "type": "scatter"
           }
          ],
          "scatter3d": [
           {
            "line": {
             "colorbar": {
              "outlinewidth": 0,
              "ticks": ""
             }
            },
            "marker": {
             "colorbar": {
              "outlinewidth": 0,
              "ticks": ""
             }
            },
            "type": "scatter3d"
           }
          ],
          "scattercarpet": [
           {
            "marker": {
             "colorbar": {
              "outlinewidth": 0,
              "ticks": ""
             }
            },
            "type": "scattercarpet"
           }
          ],
          "scattergeo": [
           {
            "marker": {
             "colorbar": {
              "outlinewidth": 0,
              "ticks": ""
             }
            },
            "type": "scattergeo"
           }
          ],
          "scattergl": [
           {
            "marker": {
             "colorbar": {
              "outlinewidth": 0,
              "ticks": ""
             }
            },
            "type": "scattergl"
           }
          ],
          "scattermapbox": [
           {
            "marker": {
             "colorbar": {
              "outlinewidth": 0,
              "ticks": ""
             }
            },
            "type": "scattermapbox"
           }
          ],
          "scatterpolar": [
           {
            "marker": {
             "colorbar": {
              "outlinewidth": 0,
              "ticks": ""
             }
            },
            "type": "scatterpolar"
           }
          ],
          "scatterpolargl": [
           {
            "marker": {
             "colorbar": {
              "outlinewidth": 0,
              "ticks": ""
             }
            },
            "type": "scatterpolargl"
           }
          ],
          "scatterternary": [
           {
            "marker": {
             "colorbar": {
              "outlinewidth": 0,
              "ticks": ""
             }
            },
            "type": "scatterternary"
           }
          ],
          "surface": [
           {
            "colorbar": {
             "outlinewidth": 0,
             "ticks": ""
            },
            "colorscale": [
             [
              0,
              "#0d0887"
             ],
             [
              0.1111111111111111,
              "#46039f"
             ],
             [
              0.2222222222222222,
              "#7201a8"
             ],
             [
              0.3333333333333333,
              "#9c179e"
             ],
             [
              0.4444444444444444,
              "#bd3786"
             ],
             [
              0.5555555555555556,
              "#d8576b"
             ],
             [
              0.6666666666666666,
              "#ed7953"
             ],
             [
              0.7777777777777778,
              "#fb9f3a"
             ],
             [
              0.8888888888888888,
              "#fdca26"
             ],
             [
              1,
              "#f0f921"
             ]
            ],
            "type": "surface"
           }
          ],
          "table": [
           {
            "cells": {
             "fill": {
              "color": "#EBF0F8"
             },
             "line": {
              "color": "white"
             }
            },
            "header": {
             "fill": {
              "color": "#C8D4E3"
             },
             "line": {
              "color": "white"
             }
            },
            "type": "table"
           }
          ]
         },
         "layout": {
          "annotationdefaults": {
           "arrowcolor": "#2a3f5f",
           "arrowhead": 0,
           "arrowwidth": 1
          },
          "autotypenumbers": "strict",
          "coloraxis": {
           "colorbar": {
            "outlinewidth": 0,
            "ticks": ""
           }
          },
          "colorscale": {
           "diverging": [
            [
             0,
             "#8e0152"
            ],
            [
             0.1,
             "#c51b7d"
            ],
            [
             0.2,
             "#de77ae"
            ],
            [
             0.3,
             "#f1b6da"
            ],
            [
             0.4,
             "#fde0ef"
            ],
            [
             0.5,
             "#f7f7f7"
            ],
            [
             0.6,
             "#e6f5d0"
            ],
            [
             0.7,
             "#b8e186"
            ],
            [
             0.8,
             "#7fbc41"
            ],
            [
             0.9,
             "#4d9221"
            ],
            [
             1,
             "#276419"
            ]
           ],
           "sequential": [
            [
             0,
             "#0d0887"
            ],
            [
             0.1111111111111111,
             "#46039f"
            ],
            [
             0.2222222222222222,
             "#7201a8"
            ],
            [
             0.3333333333333333,
             "#9c179e"
            ],
            [
             0.4444444444444444,
             "#bd3786"
            ],
            [
             0.5555555555555556,
             "#d8576b"
            ],
            [
             0.6666666666666666,
             "#ed7953"
            ],
            [
             0.7777777777777778,
             "#fb9f3a"
            ],
            [
             0.8888888888888888,
             "#fdca26"
            ],
            [
             1,
             "#f0f921"
            ]
           ],
           "sequentialminus": [
            [
             0,
             "#0d0887"
            ],
            [
             0.1111111111111111,
             "#46039f"
            ],
            [
             0.2222222222222222,
             "#7201a8"
            ],
            [
             0.3333333333333333,
             "#9c179e"
            ],
            [
             0.4444444444444444,
             "#bd3786"
            ],
            [
             0.5555555555555556,
             "#d8576b"
            ],
            [
             0.6666666666666666,
             "#ed7953"
            ],
            [
             0.7777777777777778,
             "#fb9f3a"
            ],
            [
             0.8888888888888888,
             "#fdca26"
            ],
            [
             1,
             "#f0f921"
            ]
           ]
          },
          "colorway": [
           "#636efa",
           "#EF553B",
           "#00cc96",
           "#ab63fa",
           "#FFA15A",
           "#19d3f3",
           "#FF6692",
           "#B6E880",
           "#FF97FF",
           "#FECB52"
          ],
          "font": {
           "color": "#2a3f5f"
          },
          "geo": {
           "bgcolor": "white",
           "lakecolor": "white",
           "landcolor": "#E5ECF6",
           "showlakes": true,
           "showland": true,
           "subunitcolor": "white"
          },
          "hoverlabel": {
           "align": "left"
          },
          "hovermode": "closest",
          "mapbox": {
           "style": "light"
          },
          "paper_bgcolor": "white",
          "plot_bgcolor": "#E5ECF6",
          "polar": {
           "angularaxis": {
            "gridcolor": "white",
            "linecolor": "white",
            "ticks": ""
           },
           "bgcolor": "#E5ECF6",
           "radialaxis": {
            "gridcolor": "white",
            "linecolor": "white",
            "ticks": ""
           }
          },
          "scene": {
           "xaxis": {
            "backgroundcolor": "#E5ECF6",
            "gridcolor": "white",
            "gridwidth": 2,
            "linecolor": "white",
            "showbackground": true,
            "ticks": "",
            "zerolinecolor": "white"
           },
           "yaxis": {
            "backgroundcolor": "#E5ECF6",
            "gridcolor": "white",
            "gridwidth": 2,
            "linecolor": "white",
            "showbackground": true,
            "ticks": "",
            "zerolinecolor": "white"
           },
           "zaxis": {
            "backgroundcolor": "#E5ECF6",
            "gridcolor": "white",
            "gridwidth": 2,
            "linecolor": "white",
            "showbackground": true,
            "ticks": "",
            "zerolinecolor": "white"
           }
          },
          "shapedefaults": {
           "line": {
            "color": "#2a3f5f"
           }
          },
          "ternary": {
           "aaxis": {
            "gridcolor": "white",
            "linecolor": "white",
            "ticks": ""
           },
           "baxis": {
            "gridcolor": "white",
            "linecolor": "white",
            "ticks": ""
           },
           "bgcolor": "#E5ECF6",
           "caxis": {
            "gridcolor": "white",
            "linecolor": "white",
            "ticks": ""
           }
          },
          "title": {
           "x": 0.05
          },
          "xaxis": {
           "automargin": true,
           "gridcolor": "white",
           "linecolor": "white",
           "ticks": "",
           "title": {
            "standoff": 15
           },
           "zerolinecolor": "white",
           "zerolinewidth": 2
          },
          "yaxis": {
           "automargin": true,
           "gridcolor": "white",
           "linecolor": "white",
           "ticks": "",
           "title": {
            "standoff": 15
           },
           "zerolinecolor": "white",
           "zerolinewidth": 2
          }
         }
        },
        "title": {
         "text": "Hyperparameter Importances"
        },
        "xaxis": {
         "title": {
          "text": "Hyperparameter Importance"
         }
        },
        "yaxis": {
         "title": {
          "text": "Hyperparameter"
         }
        }
       }
      }
     },
     "metadata": {},
     "output_type": "display_data"
    }
   ],
   "source": [
    "optuna.visualization.plot_param_importances(studySVM)"
   ]
  },
  {
   "cell_type": "markdown",
   "metadata": {},
   "source": [
    "Validación"
   ]
  },
  {
   "cell_type": "code",
   "execution_count": 363,
   "metadata": {},
   "outputs": [
    {
     "name": "stdout",
     "output_type": "stream",
     "text": [
      "              precision    recall  f1-score   support\n",
      "\n",
      "         Low       1.00      1.00      1.00        63\n",
      "      Medium       1.00      1.00      1.00        72\n",
      "        High       1.00      1.00      1.00        65\n",
      "\n",
      "    accuracy                           1.00       200\n",
      "   macro avg       1.00      1.00      1.00       200\n",
      "weighted avg       1.00      1.00      1.00       200\n",
      "\n"
     ]
    },
    {
     "data": {
      "text/plain": [
       "<sklearn.metrics._plot.confusion_matrix.ConfusionMatrixDisplay at 0x1f7d99a0cd0>"
      ]
     },
     "execution_count": 363,
     "metadata": {},
     "output_type": "execute_result"
    },
    {
     "data": {
      "image/png": "[encoded data removed]",
      "text/plain": [
       "<Figure size 640x480 with 2 Axes>"
      ]
     },
     "metadata": {},
     "output_type": "display_data"
    }
   ],
   "source": [
    "CBest=studySVM.best_params['svm_C']\n",
    "krn=studySVM.best_params['Kernel']\n",
    "\n",
    "mvs=svm.SVC(C=CBest,kernel=krn)\n",
    "mvs.fit(X_train,y_train)\n",
    "\n",
    "#prediccion\n",
    "y_pred = mvs.predict(X_val)\n",
    "\n",
    "#metricas\n",
    "print(metrics.classification_report(y_val,y_pred,target_names=['Low','Medium','High']))\n",
    "\n",
    "cm=metrics.confusion_matrix(y_val,y_pred)\n",
    "disp=metrics.ConfusionMatrixDisplay(cm,display_labels=['Low','Medium','High'])\n",
    "disp.plot()"
   ]
  },
  {
   "cell_type": "markdown",
   "metadata": {},
   "source": [
    "Ahora probamos con un arbol de decisión"
   ]
  },
  {
   "cell_type": "code",
   "execution_count": 364,
   "metadata": {},
   "outputs": [
    {
     "name": "stderr",
     "output_type": "stream",
     "text": [
      "[I 2023-11-24 20:40:29,099] A new study created in memory with name: no-name-c8e43750-94ce-443c-8a5c-0ce0bdcdfc04\n",
      "[I 2023-11-24 20:40:29,139] Trial 0 finished with value: 1.0 and parameters: {'Criterion': 'entropy', 'Max_depth': 6, 'estimators': 34}. Best is trial 0 with value: 1.0.\n",
      "[I 2023-11-24 20:40:29,267] Trial 1 finished with value: 0.995 and parameters: {'Criterion': 'gini', 'Max_depth': 3, 'estimators': 137}. Best is trial 0 with value: 1.0.\n",
      "[I 2023-11-24 20:40:29,291] Trial 2 finished with value: 1.0 and parameters: {'Criterion': 'entropy', 'Max_depth': 10, 'estimators': 20}. Best is trial 0 with value: 1.0.\n",
      "[I 2023-11-24 20:40:29,301] Trial 3 finished with value: 1.0 and parameters: {'Criterion': 'gini', 'Max_depth': 11, 'estimators': 5}. Best is trial 0 with value: 1.0.\n",
      "[I 2023-11-24 20:40:29,343] Trial 4 finished with value: 1.0 and parameters: {'Criterion': 'log_loss', 'Max_depth': 5, 'estimators': 40}. Best is trial 0 with value: 1.0.\n",
      "[I 2023-11-24 20:40:29,388] Trial 5 finished with value: 1.0 and parameters: {'Criterion': 'gini', 'Max_depth': 14, 'estimators': 39}. Best is trial 0 with value: 1.0.\n",
      "[I 2023-11-24 20:40:29,501] Trial 6 finished with value: 1.0 and parameters: {'Criterion': 'gini', 'Max_depth': 13, 'estimators': 115}. Best is trial 0 with value: 1.0.\n",
      "[I 2023-11-24 20:40:29,581] Trial 7 finished with value: 1.0 and parameters: {'Criterion': 'log_loss', 'Max_depth': 6, 'estimators': 78}. Best is trial 0 with value: 1.0.\n",
      "[I 2023-11-24 20:40:29,724] Trial 8 finished with value: 1.0 and parameters: {'Criterion': 'log_loss', 'Max_depth': 9, 'estimators': 144}. Best is trial 0 with value: 1.0.\n",
      "[I 2023-11-24 20:40:29,805] Trial 9 finished with value: 1.0 and parameters: {'Criterion': 'gini', 'Max_depth': 12, 'estimators': 81}. Best is trial 0 with value: 1.0.\n",
      "[I 2023-11-24 20:40:29,863] Trial 10 finished with value: 0.745 and parameters: {'Criterion': 'entropy', 'Max_depth': 1, 'estimators': 53}. Best is trial 0 with value: 1.0.\n",
      "[I 2023-11-24 20:40:29,876] Trial 11 finished with value: 0.975 and parameters: {'Criterion': 'entropy', 'Max_depth': 8, 'estimators': 1}. Best is trial 0 with value: 1.0.\n",
      "[I 2023-11-24 20:40:29,912] Trial 12 finished with value: 1.0 and parameters: {'Criterion': 'entropy', 'Max_depth': 9, 'estimators': 24}. Best is trial 0 with value: 1.0.\n",
      "[I 2023-11-24 20:40:29,984] Trial 13 finished with value: 1.0 and parameters: {'Criterion': 'entropy', 'Max_depth': 6, 'estimators': 62}. Best is trial 0 with value: 1.0.\n",
      "[I 2023-11-24 20:40:30,023] Trial 14 finished with value: 1.0 and parameters: {'Criterion': 'entropy', 'Max_depth': 10, 'estimators': 27}. Best is trial 0 with value: 1.0.\n",
      "[I 2023-11-24 20:40:30,053] Trial 15 finished with value: 1.0 and parameters: {'Criterion': 'entropy', 'Max_depth': 7, 'estimators': 18}. Best is trial 0 with value: 1.0.\n",
      "[I 2023-11-24 20:40:30,166] Trial 16 finished with value: 1.0 and parameters: {'Criterion': 'entropy', 'Max_depth': 15, 'estimators': 103}. Best is trial 0 with value: 1.0.\n",
      "[I 2023-11-24 20:40:30,237] Trial 17 finished with value: 1.0 and parameters: {'Criterion': 'entropy', 'Max_depth': 4, 'estimators': 60}. Best is trial 0 with value: 1.0.\n",
      "[I 2023-11-24 20:40:30,286] Trial 18 finished with value: 0.945 and parameters: {'Criterion': 'entropy', 'Max_depth': 2, 'estimators': 41}. Best is trial 0 with value: 1.0.\n",
      "[I 2023-11-24 20:40:30,314] Trial 19 finished with value: 1.0 and parameters: {'Criterion': 'entropy', 'Max_depth': 11, 'estimators': 15}. Best is trial 0 with value: 1.0.\n",
      "[I 2023-11-24 20:40:30,416] Trial 20 finished with value: 1.0 and parameters: {'Criterion': 'log_loss', 'Max_depth': 8, 'estimators': 93}. Best is trial 0 with value: 1.0.\n",
      "[I 2023-11-24 20:40:30,436] Trial 21 finished with value: 1.0 and parameters: {'Criterion': 'gini', 'Max_depth': 11, 'estimators': 7}. Best is trial 0 with value: 1.0.\n",
      "[I 2023-11-24 20:40:30,451] Trial 22 finished with value: 1.0 and parameters: {'Criterion': 'gini', 'Max_depth': 12, 'estimators': 1}. Best is trial 0 with value: 1.0.\n",
      "[I 2023-11-24 20:40:30,493] Trial 23 finished with value: 1.0 and parameters: {'Criterion': 'gini', 'Max_depth': 10, 'estimators': 30}. Best is trial 0 with value: 1.0.\n",
      "[I 2023-11-24 20:40:30,556] Trial 24 finished with value: 1.0 and parameters: {'Criterion': 'entropy', 'Max_depth': 7, 'estimators': 51}. Best is trial 0 with value: 1.0.\n",
      "[I 2023-11-24 20:40:30,579] Trial 25 finished with value: 1.0 and parameters: {'Criterion': 'gini', 'Max_depth': 10, 'estimators': 10}. Best is trial 0 with value: 1.0.\n",
      "[I 2023-11-24 20:40:30,624] Trial 26 finished with value: 1.0 and parameters: {'Criterion': 'entropy', 'Max_depth': 13, 'estimators': 31}. Best is trial 0 with value: 1.0.\n",
      "[I 2023-11-24 20:40:30,649] Trial 27 finished with value: 1.0 and parameters: {'Criterion': 'entropy', 'Max_depth': 5, 'estimators': 12}. Best is trial 0 with value: 1.0.\n",
      "[I 2023-11-24 20:40:30,682] Trial 28 finished with value: 1.0 and parameters: {'Criterion': 'log_loss', 'Max_depth': 9, 'estimators': 20}. Best is trial 0 with value: 1.0.\n",
      "[I 2023-11-24 20:40:30,755] Trial 29 finished with value: 0.985 and parameters: {'Criterion': 'gini', 'Max_depth': 3, 'estimators': 67}. Best is trial 0 with value: 1.0.\n",
      "[I 2023-11-24 20:40:30,888] Trial 30 finished with value: 1.0 and parameters: {'Criterion': 'gini', 'Max_depth': 8, 'estimators': 125}. Best is trial 0 with value: 1.0.\n",
      "[I 2023-11-24 20:40:30,939] Trial 31 finished with value: 1.0 and parameters: {'Criterion': 'log_loss', 'Max_depth': 4, 'estimators': 40}. Best is trial 0 with value: 1.0.\n",
      "[I 2023-11-24 20:40:30,999] Trial 32 finished with value: 1.0 and parameters: {'Criterion': 'log_loss', 'Max_depth': 5, 'estimators': 48}. Best is trial 0 with value: 1.0.\n",
      "[I 2023-11-24 20:40:31,049] Trial 33 finished with value: 1.0 and parameters: {'Criterion': 'log_loss', 'Max_depth': 6, 'estimators': 38}. Best is trial 0 with value: 1.0.\n",
      "[I 2023-11-24 20:40:31,096] Trial 34 finished with value: 1.0 and parameters: {'Criterion': 'log_loss', 'Max_depth': 7, 'estimators': 34}. Best is trial 0 with value: 1.0.\n",
      "[I 2023-11-24 20:40:31,133] Trial 35 finished with value: 1.0 and parameters: {'Criterion': 'log_loss', 'Max_depth': 5, 'estimators': 24}. Best is trial 0 with value: 1.0.\n",
      "[I 2023-11-24 20:40:31,217] Trial 36 finished with value: 1.0 and parameters: {'Criterion': 'gini', 'Max_depth': 13, 'estimators': 73}. Best is trial 0 with value: 1.0.\n",
      "[I 2023-11-24 20:40:31,275] Trial 37 finished with value: 1.0 and parameters: {'Criterion': 'log_loss', 'Max_depth': 11, 'estimators': 46}. Best is trial 0 with value: 1.0.\n",
      "[I 2023-11-24 20:40:31,298] Trial 38 finished with value: 0.975 and parameters: {'Criterion': 'gini', 'Max_depth': 3, 'estimators': 10}. Best is trial 0 with value: 1.0.\n",
      "[I 2023-11-24 20:40:31,397] Trial 39 finished with value: 1.0 and parameters: {'Criterion': 'entropy', 'Max_depth': 12, 'estimators': 87}. Best is trial 0 with value: 1.0.\n",
      "[I 2023-11-24 20:40:31,465] Trial 40 finished with value: 1.0 and parameters: {'Criterion': 'log_loss', 'Max_depth': 6, 'estimators': 56}. Best is trial 0 with value: 1.0.\n",
      "[I 2023-11-24 20:40:31,499] Trial 41 finished with value: 1.0 and parameters: {'Criterion': 'gini', 'Max_depth': 14, 'estimators': 21}. Best is trial 0 with value: 1.0.\n",
      "[I 2023-11-24 20:40:31,547] Trial 42 finished with value: 1.0 and parameters: {'Criterion': 'gini', 'Max_depth': 15, 'estimators': 34}. Best is trial 0 with value: 1.0.\n",
      "[I 2023-11-24 20:40:31,565] Trial 43 finished with value: 1.0 and parameters: {'Criterion': 'gini', 'Max_depth': 14, 'estimators': 4}. Best is trial 0 with value: 1.0.\n",
      "[I 2023-11-24 20:40:31,623] Trial 44 finished with value: 1.0 and parameters: {'Criterion': 'entropy', 'Max_depth': 9, 'estimators': 44}. Best is trial 0 with value: 1.0.\n",
      "[I 2023-11-24 20:40:31,662] Trial 45 finished with value: 1.0 and parameters: {'Criterion': 'gini', 'Max_depth': 14, 'estimators': 25}. Best is trial 0 with value: 1.0.\n",
      "[I 2023-11-24 20:40:31,694] Trial 46 finished with value: 1.0 and parameters: {'Criterion': 'entropy', 'Max_depth': 13, 'estimators': 18}. Best is trial 0 with value: 1.0.\n",
      "[I 2023-11-24 20:40:31,774] Trial 47 finished with value: 1.0 and parameters: {'Criterion': 'entropy', 'Max_depth': 10, 'estimators': 67}. Best is trial 0 with value: 1.0.\n",
      "[I 2023-11-24 20:40:31,841] Trial 48 finished with value: 1.0 and parameters: {'Criterion': 'gini', 'Max_depth': 4, 'estimators': 56}. Best is trial 0 with value: 1.0.\n",
      "[I 2023-11-24 20:40:31,992] Trial 49 finished with value: 1.0 and parameters: {'Criterion': 'entropy', 'Max_depth': 7, 'estimators': 143}. Best is trial 0 with value: 1.0.\n",
      "[I 2023-11-24 20:40:32,041] Trial 50 finished with value: 1.0 and parameters: {'Criterion': 'gini', 'Max_depth': 12, 'estimators': 36}. Best is trial 0 with value: 1.0.\n",
      "[I 2023-11-24 20:40:32,167] Trial 51 finished with value: 1.0 and parameters: {'Criterion': 'gini', 'Max_depth': 15, 'estimators': 117}. Best is trial 0 with value: 1.0.\n",
      "[I 2023-11-24 20:40:32,282] Trial 52 finished with value: 1.0 and parameters: {'Criterion': 'gini', 'Max_depth': 11, 'estimators': 106}. Best is trial 0 with value: 1.0.\n",
      "[I 2023-11-24 20:40:32,322] Trial 53 finished with value: 1.0 and parameters: {'Criterion': 'gini', 'Max_depth': 13, 'estimators': 27}. Best is trial 0 with value: 1.0.\n",
      "[I 2023-11-24 20:40:32,458] Trial 54 finished with value: 1.0 and parameters: {'Criterion': 'entropy', 'Max_depth': 14, 'estimators': 126}. Best is trial 0 with value: 1.0.\n",
      "[I 2023-11-24 20:40:32,487] Trial 55 finished with value: 1.0 and parameters: {'Criterion': 'gini', 'Max_depth': 9, 'estimators': 14}. Best is trial 0 with value: 1.0.\n",
      "[I 2023-11-24 20:40:32,582] Trial 56 finished with value: 1.0 and parameters: {'Criterion': 'entropy', 'Max_depth': 8, 'estimators': 82}. Best is trial 0 with value: 1.0.\n",
      "[I 2023-11-24 20:40:32,690] Trial 57 finished with value: 1.0 and parameters: {'Criterion': 'gini', 'Max_depth': 10, 'estimators': 97}. Best is trial 0 with value: 1.0.\n",
      "[I 2023-11-24 20:40:32,707] Trial 58 finished with value: 1.0 and parameters: {'Criterion': 'log_loss', 'Max_depth': 12, 'estimators': 1}. Best is trial 0 with value: 1.0.\n",
      "[I 2023-11-24 20:40:32,866] Trial 59 finished with value: 1.0 and parameters: {'Criterion': 'entropy', 'Max_depth': 11, 'estimators': 149}. Best is trial 0 with value: 1.0.\n",
      "[I 2023-11-24 20:40:32,925] Trial 60 finished with value: 0.745 and parameters: {'Criterion': 'gini', 'Max_depth': 1, 'estimators': 52}. Best is trial 0 with value: 1.0.\n",
      "[I 2023-11-24 20:40:33,043] Trial 61 finished with value: 1.0 and parameters: {'Criterion': 'log_loss', 'Max_depth': 6, 'estimators': 107}. Best is trial 0 with value: 1.0.\n",
      "[I 2023-11-24 20:40:33,089] Trial 62 finished with value: 1.0 and parameters: {'Criterion': 'log_loss', 'Max_depth': 5, 'estimators': 31}. Best is trial 0 with value: 1.0.\n",
      "[I 2023-11-24 20:40:33,111] Trial 63 finished with value: 1.0 and parameters: {'Criterion': 'log_loss', 'Max_depth': 4, 'estimators': 7}. Best is trial 0 with value: 1.0.\n",
      "[I 2023-11-24 20:40:33,183] Trial 64 finished with value: 0.895 and parameters: {'Criterion': 'log_loss', 'Max_depth': 2, 'estimators': 64}. Best is trial 0 with value: 1.0.\n",
      "[I 2023-11-24 20:40:33,322] Trial 65 finished with value: 1.0 and parameters: {'Criterion': 'log_loss', 'Max_depth': 6, 'estimators': 131}. Best is trial 0 with value: 1.0.\n",
      "[I 2023-11-24 20:40:33,409] Trial 66 finished with value: 1.0 and parameters: {'Criterion': 'entropy', 'Max_depth': 7, 'estimators': 73}. Best is trial 0 with value: 1.0.\n",
      "[I 2023-11-24 20:40:33,466] Trial 67 finished with value: 1.0 and parameters: {'Criterion': 'log_loss', 'Max_depth': 8, 'estimators': 43}. Best is trial 0 with value: 1.0.\n",
      "[I 2023-11-24 20:40:33,589] Trial 68 finished with value: 1.0 and parameters: {'Criterion': 'gini', 'Max_depth': 13, 'estimators': 112}. Best is trial 0 with value: 1.0.\n",
      "[I 2023-11-24 20:40:33,682] Trial 69 finished with value: 1.0 and parameters: {'Criterion': 'entropy', 'Max_depth': 5, 'estimators': 80}. Best is trial 0 with value: 1.0.\n",
      "[I 2023-11-24 20:40:33,714] Trial 70 finished with value: 1.0 and parameters: {'Criterion': 'log_loss', 'Max_depth': 8, 'estimators': 17}. Best is trial 0 with value: 1.0.\n",
      "[I 2023-11-24 20:40:33,862] Trial 71 finished with value: 1.0 and parameters: {'Criterion': 'log_loss', 'Max_depth': 9, 'estimators': 138}. Best is trial 0 with value: 1.0.\n",
      "[I 2023-11-24 20:40:33,969] Trial 72 finished with value: 1.0 and parameters: {'Criterion': 'log_loss', 'Max_depth': 10, 'estimators': 96}. Best is trial 0 with value: 1.0.\n",
      "[I 2023-11-24 20:40:34,096] Trial 73 finished with value: 1.0 and parameters: {'Criterion': 'log_loss', 'Max_depth': 11, 'estimators': 116}. Best is trial 0 with value: 1.0.\n",
      "[I 2023-11-24 20:40:34,134] Trial 74 finished with value: 1.0 and parameters: {'Criterion': 'log_loss', 'Max_depth': 6, 'estimators': 22}. Best is trial 0 with value: 1.0.\n",
      "[I 2023-11-24 20:40:34,177] Trial 75 finished with value: 1.0 and parameters: {'Criterion': 'gini', 'Max_depth': 15, 'estimators': 28}. Best is trial 0 with value: 1.0.\n",
      "[I 2023-11-24 20:40:34,239] Trial 76 finished with value: 1.0 and parameters: {'Criterion': 'entropy', 'Max_depth': 7, 'estimators': 49}. Best is trial 0 with value: 1.0.\n",
      "[I 2023-11-24 20:40:34,295] Trial 77 finished with value: 1.0 and parameters: {'Criterion': 'gini', 'Max_depth': 10, 'estimators': 39}. Best is trial 0 with value: 1.0.\n",
      "[I 2023-11-24 20:40:34,319] Trial 78 finished with value: 1.0 and parameters: {'Criterion': 'log_loss', 'Max_depth': 12, 'estimators': 9}. Best is trial 0 with value: 1.0.\n",
      "[I 2023-11-24 20:40:34,460] Trial 79 finished with value: 1.0 and parameters: {'Criterion': 'entropy', 'Max_depth': 5, 'estimators': 131}. Best is trial 0 with value: 1.0.\n",
      "[I 2023-11-24 20:40:34,561] Trial 80 finished with value: 1.0 and parameters: {'Criterion': 'gini', 'Max_depth': 14, 'estimators': 90}. Best is trial 0 with value: 1.0.\n",
      "[I 2023-11-24 20:40:34,651] Trial 81 finished with value: 1.0 and parameters: {'Criterion': 'gini', 'Max_depth': 12, 'estimators': 77}. Best is trial 0 with value: 1.0.\n",
      "[I 2023-11-24 20:40:34,748] Trial 82 finished with value: 1.0 and parameters: {'Criterion': 'gini', 'Max_depth': 11, 'estimators': 84}. Best is trial 0 with value: 1.0.\n",
      "[I 2023-11-24 20:40:34,827] Trial 83 finished with value: 1.0 and parameters: {'Criterion': 'gini', 'Max_depth': 13, 'estimators': 67}. Best is trial 0 with value: 1.0.\n",
      "[I 2023-11-24 20:40:34,913] Trial 84 finished with value: 1.0 and parameters: {'Criterion': 'gini', 'Max_depth': 9, 'estimators': 72}. Best is trial 0 with value: 1.0.\n",
      "[I 2023-11-24 20:40:35,025] Trial 85 finished with value: 1.0 and parameters: {'Criterion': 'gini', 'Max_depth': 13, 'estimators': 99}. Best is trial 0 with value: 1.0.\n",
      "[I 2023-11-24 20:40:35,099] Trial 86 finished with value: 1.0 and parameters: {'Criterion': 'entropy', 'Max_depth': 4, 'estimators': 60}. Best is trial 0 with value: 1.0.\n",
      "[I 2023-11-24 20:40:35,170] Trial 87 finished with value: 1.0 and parameters: {'Criterion': 'log_loss', 'Max_depth': 10, 'estimators': 56}. Best is trial 0 with value: 1.0.\n",
      "[I 2023-11-24 20:40:35,219] Trial 88 finished with value: 1.0 and parameters: {'Criterion': 'gini', 'Max_depth': 12, 'estimators': 35}. Best is trial 0 with value: 1.0.\n",
      "[I 2023-11-24 20:40:35,249] Trial 89 finished with value: 1.0 and parameters: {'Criterion': 'entropy', 'Max_depth': 14, 'estimators': 13}. Best is trial 0 with value: 1.0.\n",
      "[I 2023-11-24 20:40:35,404] Trial 90 finished with value: 1.0 and parameters: {'Criterion': 'gini', 'Max_depth': 9, 'estimators': 147}. Best is trial 0 with value: 1.0.\n",
      "[I 2023-11-24 20:40:35,442] Trial 91 finished with value: 1.0 and parameters: {'Criterion': 'entropy', 'Max_depth': 9, 'estimators': 22}. Best is trial 0 with value: 1.0.\n",
      "[I 2023-11-24 20:40:35,490] Trial 92 finished with value: 1.0 and parameters: {'Criterion': 'entropy', 'Max_depth': 11, 'estimators': 31}. Best is trial 0 with value: 1.0.\n",
      "[I 2023-11-24 20:40:35,532] Trial 93 finished with value: 1.0 and parameters: {'Criterion': 'entropy', 'Max_depth': 7, 'estimators': 26}. Best is trial 0 with value: 1.0.\n",
      "[I 2023-11-24 20:40:35,553] Trial 94 finished with value: 1.0 and parameters: {'Criterion': 'entropy', 'Max_depth': 8, 'estimators': 5}. Best is trial 0 with value: 1.0.\n",
      "[I 2023-11-24 20:40:35,587] Trial 95 finished with value: 1.0 and parameters: {'Criterion': 'log_loss', 'Max_depth': 6, 'estimators': 17}. Best is trial 0 with value: 1.0.\n",
      "[I 2023-11-24 20:40:35,643] Trial 96 finished with value: 1.0 and parameters: {'Criterion': 'entropy', 'Max_depth': 10, 'estimators': 40}. Best is trial 0 with value: 1.0.\n",
      "[I 2023-11-24 20:40:35,704] Trial 97 finished with value: 1.0 and parameters: {'Criterion': 'gini', 'Max_depth': 11, 'estimators': 46}. Best is trial 0 with value: 1.0.\n",
      "[I 2023-11-24 20:40:35,838] Trial 98 finished with value: 1.0 and parameters: {'Criterion': 'log_loss', 'Max_depth': 5, 'estimators': 124}. Best is trial 0 with value: 1.0.\n",
      "[I 2023-11-24 20:40:35,941] Trial 99 finished with value: 1.0 and parameters: {'Criterion': 'entropy', 'Max_depth': 13, 'estimators': 89}. Best is trial 0 with value: 1.0.\n"
     ]
    }
   ],
   "source": [
    "def objectiveRF(trial):\n",
    "    crit=trial.suggest_categorical('Criterion',['gini', 'entropy', 'log_loss'])\n",
    "    depth=trial.suggest_int('Max_depth',1,15)\n",
    "    n=trial.suggest_int('estimators',1,150)\n",
    "\n",
    "    #entrenamiento\n",
    "    RF=ensemble.RandomForestClassifier(n_estimators=n,criterion=crit,max_depth=depth)\n",
    "    RF.fit(X_train,y_train)\n",
    " \n",
    "    #prediccion\n",
    "    y_pred = RF.predict(X_test)\n",
    "\n",
    "    #metrica\n",
    "    recall=metrics.recall_score(y_test,y_pred,average='micro')\n",
    "    return recall\n",
    "\n",
    "studyRF = optuna.create_study(direction='maximize')\n",
    "studyRF.optimize(objectiveRF, n_trials=100)"
   ]
  },
  {
   "cell_type": "markdown",
   "metadata": {},
   "source": [
    "Mejores parametros"
   ]
  },
  {
   "cell_type": "code",
   "execution_count": 365,
   "metadata": {},
   "outputs": [
    {
     "name": "stdout",
     "output_type": "stream",
     "text": [
      "{'Criterion': 'entropy', 'Max_depth': 6, 'estimators': 34}\n"
     ]
    },
    {
     "data": {
      "application/vnd.plotly.v1+json": {
       "config": {
        "plotlyServerURL": "https://plot.ly"
       },
       "data": [
        {
         "mode": "markers",
         "name": "Objective Value",
         "type": "scatter",
         "x": [
          0,
          1,
          2,
          3,
          4,
          5,
          6,
          7,
          8,
          9,
          10,
          11,
          12,
          13,
          14,
          15,
          16,
          17,
          18,
          19,
          20,
          21,
          22,
          23,
          24,
          25,
          26,
          27,
          28,
          29,
          30,
          31,
          32,
          33,
          34,
          35,
          36,
          37,
          38,
          39,
          40,
          41,
          42,
          43,
          44,
          45,
          46,
          47,
          48,
          49,
          50,
          51,
          52,
          53,
          54,
          55,
          56,
          57,
          58,
          59,
          60,
          61,
          62,
          63,
          64,
          65,
          66,
          67,
          68,
          69,
          70,
          71,
          72,
          73,
          74,
          75,
          76,
          77,
          78,
          79,
          80,
          81,
          82,
          83,
          84,
          85,
          86,
          87,
          88,
          89,
          90,
          91,
          92,
          93,
          94,
          95,
          96,
          97,
          98,
          99
         ],
         "y": [
          1,
          0.995,
          1,
          1,
          1,
          1,
          1,
          1,
          1,
          1,
          0.745,
          0.975,
          1,
          1,
          1,
          1,
          1,
          1,
          0.945,
          1,
          1,
          1,
          1,
          1,
          1,
          1,
          1,
          1,
          1,
          0.985,
          1,
          1,
          1,
          1,
          1,
          1,
          1,
          1,
          0.975,
          1,
          1,
          1,
          1,
          1,
          1,
          1,
          1,
          1,
          1,
          1,
          1,
          1,
          1,
          1,
          1,
          1,
          1,
          1,
          1,
          1,
          0.745,
          1,
          1,
          1,
          0.895,
          1,
          1,
          1,
          1,
          1,
          1,
          1,
          1,
          1,
          1,
          1,
          1,
          1,
          1,
          1,
          1,
          1,
          1,
          1,
          1,
          1,
          1,
          1,
          1,
          1,
          1,
          1,
          1,
          1,
          1,
          1,
          1,
          1,
          1,
          1
         ]
        },
        {
         "mode": "lines",
         "name": "Best Value",
         "type": "scatter",
         "x": [
          0,
          1,
          2,
          3,
          4,
          5,
          6,
          7,
          8,
          9,
          10,
          11,
          12,
          13,
          14,
          15,
          16,
          17,
          18,
          19,
          20,
          21,
          22,
          23,
          24,
          25,
          26,
          27,
          28,
          29,
          30,
          31,
          32,
          33,
          34,
          35,
          36,
          37,
          38,
          39,
          40,
          41,
          42,
          43,
          44,
          45,
          46,
          47,
          48,
          49,
          50,
          51,
          52,
          53,
          54,
          55,
          56,
          57,
          58,
          59,
          60,
          61,
          62,
          63,
          64,
          65,
          66,
          67,
          68,
          69,
          70,
          71,
          72,
          73,
          74,
          75,
          76,
          77,
          78,
          79,
          80,
          81,
          82,
          83,
          84,
          85,
          86,
          87,
          88,
          89,
          90,
          91,
          92,
          93,
          94,
          95,
          96,
          97,
          98,
          99
         ],
         "y": [
          1,
          1,
          1,
          1,
          1,
          1,
          1,
          1,
          1,
          1,
          1,
          1,
          1,
          1,
          1,
          1,
          1,
          1,
          1,
          1,
          1,
          1,
          1,
          1,
          1,
          1,
          1,
          1,
          1,
          1,
          1,
          1,
          1,
          1,
          1,
          1,
          1,
          1,
          1,
          1,
          1,
          1,
          1,
          1,
          1,
          1,
          1,
          1,
          1,
          1,
          1,
          1,
          1,
          1,
          1,
          1,
          1,
          1,
          1,
          1,
          1,
          1,
          1,
          1,
          1,
          1,
          1,
          1,
          1,
          1,
          1,
          1,
          1,
          1,
          1,
          1,
          1,
          1,
          1,
          1,
          1,
          1,
          1,
          1,
          1,
          1,
          1,
          1,
          1,
          1,
          1,
          1,
          1,
          1,
          1,
          1,
          1,
          1,
          1,
          1
         ]
        },
        {
         "marker": {
          "color": "#cccccc"
         },
         "mode": "markers",
         "name": "Infeasible Trial",
         "showlegend": false,
         "type": "scatter",
         "x": [],
         "y": []
        }
       ],
       "layout": {
        "template": {
         "data": {
          "bar": [
           {
            "error_x": {
             "color": "#2a3f5f"
            },
            "error_y": {
             "color": "#2a3f5f"
            },
            "marker": {
             "line": {
              "color": "#E5ECF6",
              "width": 0.5
             },
             "pattern": {
              "fillmode": "overlay",
              "size": 10,
              "solidity": 0.2
             }
            },
            "type": "bar"
           }
          ],
          "barpolar": [
           {
            "marker": {
             "line": {
              "color": "#E5ECF6",
              "width": 0.5
             },
             "pattern": {
              "fillmode": "overlay",
              "size": 10,
              "solidity": 0.2
             }
            },
            "type": "barpolar"
           }
          ],
          "carpet": [
           {
            "aaxis": {
             "endlinecolor": "#2a3f5f",
             "gridcolor": "white",
             "linecolor": "white",
             "minorgridcolor": "white",
             "startlinecolor": "#2a3f5f"
            },
            "baxis": {
             "endlinecolor": "#2a3f5f",
             "gridcolor": "white",
             "linecolor": "white",
             "minorgridcolor": "white",
             "startlinecolor": "#2a3f5f"
            },
            "type": "carpet"
           }
          ],
          "choropleth": [
           {
            "colorbar": {
             "outlinewidth": 0,
             "ticks": ""
            },
            "type": "choropleth"
           }
          ],
          "contour": [
           {
            "colorbar": {
             "outlinewidth": 0,
             "ticks": ""
            },
            "colorscale": [
             [
              0,
              "#0d0887"
             ],
             [
              0.1111111111111111,
              "#46039f"
             ],
             [
              0.2222222222222222,
              "#7201a8"
             ],
             [
              0.3333333333333333,
              "#9c179e"
             ],
             [
              0.4444444444444444,
              "#bd3786"
             ],
             [
              0.5555555555555556,
              "#d8576b"
             ],
             [
              0.6666666666666666,
              "#ed7953"
             ],
             [
              0.7777777777777778,
              "#fb9f3a"
             ],
             [
              0.8888888888888888,
              "#fdca26"
             ],
             [
              1,
              "#f0f921"
             ]
            ],
            "type": "contour"
           }
          ],
          "contourcarpet": [
           {
            "colorbar": {
             "outlinewidth": 0,
             "ticks": ""
            },
            "type": "contourcarpet"
           }
          ],
          "heatmap": [
           {
            "colorbar": {
             "outlinewidth": 0,
             "ticks": ""
            },
            "colorscale": [
             [
              0,
              "#0d0887"
             ],
             [
              0.1111111111111111,
              "#46039f"
             ],
             [
              0.2222222222222222,
              "#7201a8"
             ],
             [
              0.3333333333333333,
              "#9c179e"
             ],
             [
              0.4444444444444444,
              "#bd3786"
             ],
             [
              0.5555555555555556,
              "#d8576b"
             ],
             [
              0.6666666666666666,
              "#ed7953"
             ],
             [
              0.7777777777777778,
              "#fb9f3a"
             ],
             [
              0.8888888888888888,
              "#fdca26"
             ],
             [
              1,
              "#f0f921"
             ]
            ],
            "type": "heatmap"
           }
          ],
          "heatmapgl": [
           {
            "colorbar": {
             "outlinewidth": 0,
             "ticks": ""
            },
            "colorscale": [
             [
              0,
              "#0d0887"
             ],
             [
              0.1111111111111111,
              "#46039f"
             ],
             [
              0.2222222222222222,
              "#7201a8"
             ],
             [
              0.3333333333333333,
              "#9c179e"
             ],
             [
              0.4444444444444444,
              "#bd3786"
             ],
             [
              0.5555555555555556,
              "#d8576b"
             ],
             [
              0.6666666666666666,
              "#ed7953"
             ],
             [
              0.7777777777777778,
              "#fb9f3a"
             ],
             [
              0.8888888888888888,
              "#fdca26"
             ],
             [
              1,
              "#f0f921"
             ]
            ],
            "type": "heatmapgl"
           }
          ],
          "histogram": [
           {
            "marker": {
             "pattern": {
              "fillmode": "overlay",
              "size": 10,
              "solidity": 0.2
             }
            },
            "type": "histogram"
           }
          ],
          "histogram2d": [
           {
            "colorbar": {
             "outlinewidth": 0,
             "ticks": ""
            },
            "colorscale": [
             [
              0,
              "#0d0887"
             ],
             [
              0.1111111111111111,
              "#46039f"
             ],
             [
              0.2222222222222222,
              "#7201a8"
             ],
             [
              0.3333333333333333,
              "#9c179e"
             ],
             [
              0.4444444444444444,
              "#bd3786"
             ],
             [
              0.5555555555555556,
              "#d8576b"
             ],
             [
              0.6666666666666666,
              "#ed7953"
             ],
             [
              0.7777777777777778,
              "#fb9f3a"
             ],
             [
              0.8888888888888888,
              "#fdca26"
             ],
             [
              1,
              "#f0f921"
             ]
            ],
            "type": "histogram2d"
           }
          ],
          "histogram2dcontour": [
           {
            "colorbar": {
             "outlinewidth": 0,
             "ticks": ""
            },
            "colorscale": [
             [
              0,
              "#0d0887"
             ],
             [
              0.1111111111111111,
              "#46039f"
             ],
             [
              0.2222222222222222,
              "#7201a8"
             ],
             [
              0.3333333333333333,
              "#9c179e"
             ],
             [
              0.4444444444444444,
              "#bd3786"
             ],
             [
              0.5555555555555556,
              "#d8576b"
             ],
             [
              0.6666666666666666,
              "#ed7953"
             ],
             [
              0.7777777777777778,
              "#fb9f3a"
             ],
             [
              0.8888888888888888,
              "#fdca26"
             ],
             [
              1,
              "#f0f921"
             ]
            ],
            "type": "histogram2dcontour"
           }
          ],
          "mesh3d": [
           {
            "colorbar": {
             "outlinewidth": 0,
             "ticks": ""
            },
            "type": "mesh3d"
           }
          ],
          "parcoords": [
           {
            "line": {
             "colorbar": {
              "outlinewidth": 0,
              "ticks": ""
             }
            },
            "type": "parcoords"
           }
          ],
          "pie": [
           {
            "automargin": true,
            "type": "pie"
           }
          ],
          "scatter": [
           {
            "fillpattern": {
             "fillmode": "overlay",
             "size": 10,
             "solidity": 0.2
            },
            "type": "scatter"
           }
          ],
          "scatter3d": [
           {
            "line": {
             "colorbar": {
              "outlinewidth": 0,
              "ticks": ""
             }
            },
            "marker": {
             "colorbar": {
              "outlinewidth": 0,
              "ticks": ""
             }
            },
            "type": "scatter3d"
           }
          ],
          "scattercarpet": [
           {
            "marker": {
             "colorbar": {
              "outlinewidth": 0,
              "ticks": ""
             }
            },
            "type": "scattercarpet"
           }
          ],
          "scattergeo": [
           {
            "marker": {
             "colorbar": {
              "outlinewidth": 0,
              "ticks": ""
             }
            },
            "type": "scattergeo"
           }
          ],
          "scattergl": [
           {
            "marker": {
             "colorbar": {
              "outlinewidth": 0,
              "ticks": ""
             }
            },
            "type": "scattergl"
           }
          ],
          "scattermapbox": [
           {
            "marker": {
             "colorbar": {
              "outlinewidth": 0,
              "ticks": ""
             }
            },
            "type": "scattermapbox"
           }
          ],
          "scatterpolar": [
           {
            "marker": {
             "colorbar": {
              "outlinewidth": 0,
              "ticks": ""
             }
            },
            "type": "scatterpolar"
           }
          ],
          "scatterpolargl": [
           {
            "marker": {
             "colorbar": {
              "outlinewidth": 0,
              "ticks": ""
             }
            },
            "type": "scatterpolargl"
           }
          ],
          "scatterternary": [
           {
            "marker": {
             "colorbar": {
              "outlinewidth": 0,
              "ticks": ""
             }
            },
            "type": "scatterternary"
           }
          ],
          "surface": [
           {
            "colorbar": {
             "outlinewidth": 0,
             "ticks": ""
            },
            "colorscale": [
             [
              0,
              "#0d0887"
             ],
             [
              0.1111111111111111,
              "#46039f"
             ],
             [
              0.2222222222222222,
              "#7201a8"
             ],
             [
              0.3333333333333333,
              "#9c179e"
             ],
             [
              0.4444444444444444,
              "#bd3786"
             ],
             [
              0.5555555555555556,
              "#d8576b"
             ],
             [
              0.6666666666666666,
              "#ed7953"
             ],
             [
              0.7777777777777778,
              "#fb9f3a"
             ],
             [
              0.8888888888888888,
              "#fdca26"
             ],
             [
              1,
              "#f0f921"
             ]
            ],
            "type": "surface"
           }
          ],
          "table": [
           {
            "cells": {
             "fill": {
              "color": "#EBF0F8"
             },
             "line": {
              "color": "white"
             }
            },
            "header": {
             "fill": {
              "color": "#C8D4E3"
             },
             "line": {
              "color": "white"
             }
            },
            "type": "table"
           }
          ]
         },
         "layout": {
          "annotationdefaults": {
           "arrowcolor": "#2a3f5f",
           "arrowhead": 0,
           "arrowwidth": 1
          },
          "autotypenumbers": "strict",
          "coloraxis": {
           "colorbar": {
            "outlinewidth": 0,
            "ticks": ""
           }
          },
          "colorscale": {
           "diverging": [
            [
             0,
             "#8e0152"
            ],
            [
             0.1,
             "#c51b7d"
            ],
            [
             0.2,
             "#de77ae"
            ],
            [
             0.3,
             "#f1b6da"
            ],
            [
             0.4,
             "#fde0ef"
            ],
            [
             0.5,
             "#f7f7f7"
            ],
            [
             0.6,
             "#e6f5d0"
            ],
            [
             0.7,
             "#b8e186"
            ],
            [
             0.8,
             "#7fbc41"
            ],
            [
             0.9,
             "#4d9221"
            ],
            [
             1,
             "#276419"
            ]
           ],
           "sequential": [
            [
             0,
             "#0d0887"
            ],
            [
             0.1111111111111111,
             "#46039f"
            ],
            [
             0.2222222222222222,
             "#7201a8"
            ],
            [
             0.3333333333333333,
             "#9c179e"
            ],
            [
             0.4444444444444444,
             "#bd3786"
            ],
            [
             0.5555555555555556,
             "#d8576b"
            ],
            [
             0.6666666666666666,
             "#ed7953"
            ],
            [
             0.7777777777777778,
             "#fb9f3a"
            ],
            [
             0.8888888888888888,
             "#fdca26"
            ],
            [
             1,
             "#f0f921"
            ]
           ],
           "sequentialminus": [
            [
             0,
             "#0d0887"
            ],
            [
             0.1111111111111111,
             "#46039f"
            ],
            [
             0.2222222222222222,
             "#7201a8"
            ],
            [
             0.3333333333333333,
             "#9c179e"
            ],
            [
             0.4444444444444444,
             "#bd3786"
            ],
            [
             0.5555555555555556,
             "#d8576b"
            ],
            [
             0.6666666666666666,
             "#ed7953"
            ],
            [
             0.7777777777777778,
             "#fb9f3a"
            ],
            [
             0.8888888888888888,
             "#fdca26"
            ],
            [
             1,
             "#f0f921"
            ]
           ]
          },
          "colorway": [
           "#636efa",
           "#EF553B",
           "#00cc96",
           "#ab63fa",
           "#FFA15A",
           "#19d3f3",
           "#FF6692",
           "#B6E880",
           "#FF97FF",
           "#FECB52"
          ],
          "font": {
           "color": "#2a3f5f"
          },
          "geo": {
           "bgcolor": "white",
           "lakecolor": "white",
           "landcolor": "#E5ECF6",
           "showlakes": true,
           "showland": true,
           "subunitcolor": "white"
          },
          "hoverlabel": {
           "align": "left"
          },
          "hovermode": "closest",
          "mapbox": {
           "style": "light"
          },
          "paper_bgcolor": "white",
          "plot_bgcolor": "#E5ECF6",
          "polar": {
           "angularaxis": {
            "gridcolor": "white",
            "linecolor": "white",
            "ticks": ""
           },
           "bgcolor": "#E5ECF6",
           "radialaxis": {
            "gridcolor": "white",
            "linecolor": "white",
            "ticks": ""
           }
          },
          "scene": {
           "xaxis": {
            "backgroundcolor": "#E5ECF6",
            "gridcolor": "white",
            "gridwidth": 2,
            "linecolor": "white",
            "showbackground": true,
            "ticks": "",
            "zerolinecolor": "white"
           },
           "yaxis": {
            "backgroundcolor": "#E5ECF6",
            "gridcolor": "white",
            "gridwidth": 2,
            "linecolor": "white",
            "showbackground": true,
            "ticks": "",
            "zerolinecolor": "white"
           },
           "zaxis": {
            "backgroundcolor": "#E5ECF6",
            "gridcolor": "white",
            "gridwidth": 2,
            "linecolor": "white",
            "showbackground": true,
            "ticks": "",
            "zerolinecolor": "white"
           }
          },
          "shapedefaults": {
           "line": {
            "color": "#2a3f5f"
           }
          },
          "ternary": {
           "aaxis": {
            "gridcolor": "white",
            "linecolor": "white",
            "ticks": ""
           },
           "baxis": {
            "gridcolor": "white",
            "linecolor": "white",
            "ticks": ""
           },
           "bgcolor": "#E5ECF6",
           "caxis": {
            "gridcolor": "white",
            "linecolor": "white",
            "ticks": ""
           }
          },
          "title": {
           "x": 0.05
          },
          "xaxis": {
           "automargin": true,
           "gridcolor": "white",
           "linecolor": "white",
           "ticks": "",
           "title": {
            "standoff": 15
           },
           "zerolinecolor": "white",
           "zerolinewidth": 2
          },
          "yaxis": {
           "automargin": true,
           "gridcolor": "white",
           "linecolor": "white",
           "ticks": "",
           "title": {
            "standoff": 15
           },
           "zerolinecolor": "white",
           "zerolinewidth": 2
          }
         }
        },
        "title": {
         "text": "Optimization History Plot"
        },
        "xaxis": {
         "title": {
          "text": "Trial"
         }
        },
        "yaxis": {
         "title": {
          "text": "Objective Value"
         }
        }
       }
      }
     },
     "metadata": {},
     "output_type": "display_data"
    }
   ],
   "source": [
    "print(studyRF.best_params)\n",
    "optuna.visualization.plot_optimization_history(studyRF)"
   ]
  },
  {
   "cell_type": "code",
   "execution_count": 366,
   "metadata": {},
   "outputs": [
    {
     "data": {
      "application/vnd.plotly.v1+json": {
       "config": {
        "plotlyServerURL": "https://plot.ly"
       },
       "data": [
        {
         "dimensions": [
          {
           "label": "Objective Value",
           "range": [
            0.745,
            1
           ],
           "values": [
            1,
            0.995,
            1,
            1,
            1,
            1,
            1,
            1,
            1,
            1,
            0.745,
            0.975,
            1,
            1,
            1,
            1,
            1,
            1,
            0.945,
            1,
            1,
            1,
            1,
            1,
            1,
            1,
            1,
            1,
            1,
            0.985,
            1,
            1,
            1,
            1,
            1,
            1,
            1,
            1,
            0.975,
            1,
            1,
            1,
            1,
            1,
            1,
            1,
            1,
            1,
            1,
            1,
            1,
            1,
            1,
            1,
            1,
            1,
            1,
            1,
            1,
            1,
            0.745,
            1,
            1,
            1,
            0.895,
            1,
            1,
            1,
            1,
            1,
            1,
            1,
            1,
            1,
            1,
            1,
            1,
            1,
            1,
            1,
            1,
            1,
            1,
            1,
            1,
            1,
            1,
            1,
            1,
            1,
            1,
            1,
            1,
            1,
            1,
            1,
            1,
            1,
            1,
            1
           ]
          },
          {
           "label": "Criterion",
           "range": [
            0,
            2
           ],
           "ticktext": [
            "entropy",
            "gini",
            "log_loss"
           ],
           "tickvals": [
            0,
            1,
            2
           ],
           "values": [
            0,
            1,
            0,
            1,
            2,
            1,
            1,
            2,
            2,
            1,
            0,
            0,
            0,
            0,
            0,
            0,
            0,
            0,
            0,
            0,
            2,
            1,
            1,
            1,
            0,
            1,
            0,
            0,
            2,
            1,
            1,
            2,
            2,
            2,
            2,
            2,
            1,
            2,
            1,
            0,
            2,
            1,
            1,
            1,
            0,
            1,
            0,
            0,
            1,
            0,
            1,
            1,
            1,
            1,
            0,
            1,
            0,
            1,
            2,
            0,
            1,
            2,
            2,
            2,
            2,
            2,
            0,
            2,
            1,
            0,
            2,
            2,
            2,
            2,
            2,
            1,
            0,
            1,
            2,
            0,
            1,
            1,
            1,
            1,
            1,
            1,
            0,
            2,
            1,
            0,
            1,
            0,
            0,
            0,
            0,
            2,
            0,
            1,
            2,
            0
           ]
          },
          {
           "label": "Max_depth",
           "range": [
            1,
            15
           ],
           "values": [
            6,
            3,
            10,
            11,
            5,
            14,
            13,
            6,
            9,
            12,
            1,
            8,
            9,
            6,
            10,
            7,
            15,
            4,
            2,
            11,
            8,
            11,
            12,
            10,
            7,
            10,
            13,
            5,
            9,
            3,
            8,
            4,
            5,
            6,
            7,
            5,
            13,
            11,
            3,
            12,
            6,
            14,
            15,
            14,
            9,
            14,
            13,
            10,
            4,
            7,
            12,
            15,
            11,
            13,
            14,
            9,
            8,
            10,
            12,
            11,
            1,
            6,
            5,
            4,
            2,
            6,
            7,
            8,
            13,
            5,
            8,
            9,
            10,
            11,
            6,
            15,
            7,
            10,
            12,
            5,
            14,
            12,
            11,
            13,
            9,
            13,
            4,
            10,
            12,
            14,
            9,
            9,
            11,
            7,
            8,
            6,
            10,
            11,
            5,
            13
           ]
          },
          {
           "label": "estimators",
           "range": [
            1,
            149
           ],
           "values": [
            34,
            137,
            20,
            5,
            40,
            39,
            115,
            78,
            144,
            81,
            53,
            1,
            24,
            62,
            27,
            18,
            103,
            60,
            41,
            15,
            93,
            7,
            1,
            30,
            51,
            10,
            31,
            12,
            20,
            67,
            125,
            40,
            48,
            38,
            34,
            24,
            73,
            46,
            10,
            87,
            56,
            21,
            34,
            4,
            44,
            25,
            18,
            67,
            56,
            143,
            36,
            117,
            106,
            27,
            126,
            14,
            82,
            97,
            1,
            149,
            52,
            107,
            31,
            7,
            64,
            131,
            73,
            43,
            112,
            80,
            17,
            138,
            96,
            116,
            22,
            28,
            49,
            39,
            9,
            131,
            90,
            77,
            84,
            67,
            72,
            99,
            60,
            56,
            35,
            13,
            147,
            22,
            31,
            26,
            5,
            17,
            40,
            46,
            124,
            89
           ]
          }
         ],
         "labelangle": 30,
         "labelside": "bottom",
         "line": {
          "color": [
           1,
           0.995,
           1,
           1,
           1,
           1,
           1,
           1,
           1,
           1,
           0.745,
           0.975,
           1,
           1,
           1,
           1,
           1,
           1,
           0.945,
           1,
           1,
           1,
           1,
           1,
           1,
           1,
           1,
           1,
           1,
           0.985,
           1,
           1,
           1,
           1,
           1,
           1,
           1,
           1,
           0.975,
           1,
           1,
           1,
           1,
           1,
           1,
           1,
           1,
           1,
           1,
           1,
           1,
           1,
           1,
           1,
           1,
           1,
           1,
           1,
           1,
           1,
           0.745,
           1,
           1,
           1,
           0.895,
           1,
           1,
           1,
           1,
           1,
           1,
           1,
           1,
           1,
           1,
           1,
           1,
           1,
           1,
           1,
           1,
           1,
           1,
           1,
           1,
           1,
           1,
           1,
           1,
           1,
           1,
           1,
           1,
           1,
           1,
           1,
           1,
           1,
           1,
           1
          ],
          "colorbar": {
           "title": {
            "text": "Objective Value"
           }
          },
          "colorscale": [
           [
            0,
            "rgb(247,251,255)"
           ],
           [
            0.125,
            "rgb(222,235,247)"
           ],
           [
            0.25,
            "rgb(198,219,239)"
           ],
           [
            0.375,
            "rgb(158,202,225)"
           ],
           [
            0.5,
            "rgb(107,174,214)"
           ],
           [
            0.625,
            "rgb(66,146,198)"
           ],
           [
            0.75,
            "rgb(33,113,181)"
           ],
           [
            0.875,
            "rgb(8,81,156)"
           ],
           [
            1,
            "rgb(8,48,107)"
           ]
          ],
          "reversescale": false,
          "showscale": true
         },
         "type": "parcoords"
        }
       ],
       "layout": {
        "template": {
         "data": {
          "bar": [
           {
            "error_x": {
             "color": "#2a3f5f"
            },
            "error_y": {
             "color": "#2a3f5f"
            },
            "marker": {
             "line": {
              "color": "#E5ECF6",
              "width": 0.5
             },
             "pattern": {
              "fillmode": "overlay",
              "size": 10,
              "solidity": 0.2
             }
            },
            "type": "bar"
           }
          ],
          "barpolar": [
           {
            "marker": {
             "line": {
              "color": "#E5ECF6",
              "width": 0.5
             },
             "pattern": {
              "fillmode": "overlay",
              "size": 10,
              "solidity": 0.2
             }
            },
            "type": "barpolar"
           }
          ],
          "carpet": [
           {
            "aaxis": {
             "endlinecolor": "#2a3f5f",
             "gridcolor": "white",
             "linecolor": "white",
             "minorgridcolor": "white",
             "startlinecolor": "#2a3f5f"
            },
            "baxis": {
             "endlinecolor": "#2a3f5f",
             "gridcolor": "white",
             "linecolor": "white",
             "minorgridcolor": "white",
             "startlinecolor": "#2a3f5f"
            },
            "type": "carpet"
           }
          ],
          "choropleth": [
           {
            "colorbar": {
             "outlinewidth": 0,
             "ticks": ""
            },
            "type": "choropleth"
           }
          ],
          "contour": [
           {
            "colorbar": {
             "outlinewidth": 0,
             "ticks": ""
            },
            "colorscale": [
             [
              0,
              "#0d0887"
             ],
             [
              0.1111111111111111,
              "#46039f"
             ],
             [
              0.2222222222222222,
              "#7201a8"
             ],
             [
              0.3333333333333333,
              "#9c179e"
             ],
             [
              0.4444444444444444,
              "#bd3786"
             ],
             [
              0.5555555555555556,
              "#d8576b"
             ],
             [
              0.6666666666666666,
              "#ed7953"
             ],
             [
              0.7777777777777778,
              "#fb9f3a"
             ],
             [
              0.8888888888888888,
              "#fdca26"
             ],
             [
              1,
              "#f0f921"
             ]
            ],
            "type": "contour"
           }
          ],
          "contourcarpet": [
           {
            "colorbar": {
             "outlinewidth": 0,
             "ticks": ""
            },
            "type": "contourcarpet"
           }
          ],
          "heatmap": [
           {
            "colorbar": {
             "outlinewidth": 0,
             "ticks": ""
            },
            "colorscale": [
             [
              0,
              "#0d0887"
             ],
             [
              0.1111111111111111,
              "#46039f"
             ],
             [
              0.2222222222222222,
              "#7201a8"
             ],
             [
              0.3333333333333333,
              "#9c179e"
             ],
             [
              0.4444444444444444,
              "#bd3786"
             ],
             [
              0.5555555555555556,
              "#d8576b"
             ],
             [
              0.6666666666666666,
              "#ed7953"
             ],
             [
              0.7777777777777778,
              "#fb9f3a"
             ],
             [
              0.8888888888888888,
              "#fdca26"
             ],
             [
              1,
              "#f0f921"
             ]
            ],
            "type": "heatmap"
           }
          ],
          "heatmapgl": [
           {
            "colorbar": {
             "outlinewidth": 0,
             "ticks": ""
            },
            "colorscale": [
             [
              0,
              "#0d0887"
             ],
             [
              0.1111111111111111,
              "#46039f"
             ],
             [
              0.2222222222222222,
              "#7201a8"
             ],
             [
              0.3333333333333333,
              "#9c179e"
             ],
             [
              0.4444444444444444,
              "#bd3786"
             ],
             [
              0.5555555555555556,
              "#d8576b"
             ],
             [
              0.6666666666666666,
              "#ed7953"
             ],
             [
              0.7777777777777778,
              "#fb9f3a"
             ],
             [
              0.8888888888888888,
              "#fdca26"
             ],
             [
              1,
              "#f0f921"
             ]
            ],
            "type": "heatmapgl"
           }
          ],
          "histogram": [
           {
            "marker": {
             "pattern": {
              "fillmode": "overlay",
              "size": 10,
              "solidity": 0.2
             }
            },
            "type": "histogram"
           }
          ],
          "histogram2d": [
           {
            "colorbar": {
             "outlinewidth": 0,
             "ticks": ""
            },
            "colorscale": [
             [
              0,
              "#0d0887"
             ],
             [
              0.1111111111111111,
              "#46039f"
             ],
             [
              0.2222222222222222,
              "#7201a8"
             ],
             [
              0.3333333333333333,
              "#9c179e"
             ],
             [
              0.4444444444444444,
              "#bd3786"
             ],
             [
              0.5555555555555556,
              "#d8576b"
             ],
             [
              0.6666666666666666,
              "#ed7953"
             ],
             [
              0.7777777777777778,
              "#fb9f3a"
             ],
             [
              0.8888888888888888,
              "#fdca26"
             ],
             [
              1,
              "#f0f921"
             ]
            ],
            "type": "histogram2d"
           }
          ],
          "histogram2dcontour": [
           {
            "colorbar": {
             "outlinewidth": 0,
             "ticks": ""
            },
            "colorscale": [
             [
              0,
              "#0d0887"
             ],
             [
              0.1111111111111111,
              "#46039f"
             ],
             [
              0.2222222222222222,
              "#7201a8"
             ],
             [
              0.3333333333333333,
              "#9c179e"
             ],
             [
              0.4444444444444444,
              "#bd3786"
             ],
             [
              0.5555555555555556,
              "#d8576b"
             ],
             [
              0.6666666666666666,
              "#ed7953"
             ],
             [
              0.7777777777777778,
              "#fb9f3a"
             ],
             [
              0.8888888888888888,
              "#fdca26"
             ],
             [
              1,
              "#f0f921"
             ]
            ],
            "type": "histogram2dcontour"
           }
          ],
          "mesh3d": [
           {
            "colorbar": {
             "outlinewidth": 0,
             "ticks": ""
            },
            "type": "mesh3d"
           }
          ],
          "parcoords": [
           {
            "line": {
             "colorbar": {
              "outlinewidth": 0,
              "ticks": ""
             }
            },
            "type": "parcoords"
           }
          ],
          "pie": [
           {
            "automargin": true,
            "type": "pie"
           }
          ],
          "scatter": [
           {
            "fillpattern": {
             "fillmode": "overlay",
             "size": 10,
             "solidity": 0.2
            },
            "type": "scatter"
           }
          ],
          "scatter3d": [
           {
            "line": {
             "colorbar": {
              "outlinewidth": 0,
              "ticks": ""
             }
            },
            "marker": {
             "colorbar": {
              "outlinewidth": 0,
              "ticks": ""
             }
            },
            "type": "scatter3d"
           }
          ],
          "scattercarpet": [
           {
            "marker": {
             "colorbar": {
              "outlinewidth": 0,
              "ticks": ""
             }
            },
            "type": "scattercarpet"
           }
          ],
          "scattergeo": [
           {
            "marker": {
             "colorbar": {
              "outlinewidth": 0,
              "ticks": ""
             }
            },
            "type": "scattergeo"
           }
          ],
          "scattergl": [
           {
            "marker": {
             "colorbar": {
              "outlinewidth": 0,
              "ticks": ""
             }
            },
            "type": "scattergl"
           }
          ],
          "scattermapbox": [
           {
            "marker": {
             "colorbar": {
              "outlinewidth": 0,
              "ticks": ""
             }
            },
            "type": "scattermapbox"
           }
          ],
          "scatterpolar": [
           {
            "marker": {
             "colorbar": {
              "outlinewidth": 0,
              "ticks": ""
             }
            },
            "type": "scatterpolar"
           }
          ],
          "scatterpolargl": [
           {
            "marker": {
             "colorbar": {
              "outlinewidth": 0,
              "ticks": ""
             }
            },
            "type": "scatterpolargl"
           }
          ],
          "scatterternary": [
           {
            "marker": {
             "colorbar": {
              "outlinewidth": 0,
              "ticks": ""
             }
            },
            "type": "scatterternary"
           }
          ],
          "surface": [
           {
            "colorbar": {
             "outlinewidth": 0,
             "ticks": ""
            },
            "colorscale": [
             [
              0,
              "#0d0887"
             ],
             [
              0.1111111111111111,
              "#46039f"
             ],
             [
              0.2222222222222222,
              "#7201a8"
             ],
             [
              0.3333333333333333,
              "#9c179e"
             ],
             [
              0.4444444444444444,
              "#bd3786"
             ],
             [
              0.5555555555555556,
              "#d8576b"
             ],
             [
              0.6666666666666666,
              "#ed7953"
             ],
             [
              0.7777777777777778,
              "#fb9f3a"
             ],
             [
              0.8888888888888888,
              "#fdca26"
             ],
             [
              1,
              "#f0f921"
             ]
            ],
            "type": "surface"
           }
          ],
          "table": [
           {
            "cells": {
             "fill": {
              "color": "#EBF0F8"
             },
             "line": {
              "color": "white"
             }
            },
            "header": {
             "fill": {
              "color": "#C8D4E3"
             },
             "line": {
              "color": "white"
             }
            },
            "type": "table"
           }
          ]
         },
         "layout": {
          "annotationdefaults": {
           "arrowcolor": "#2a3f5f",
           "arrowhead": 0,
           "arrowwidth": 1
          },
          "autotypenumbers": "strict",
          "coloraxis": {
           "colorbar": {
            "outlinewidth": 0,
            "ticks": ""
           }
          },
          "colorscale": {
           "diverging": [
            [
             0,
             "#8e0152"
            ],
            [
             0.1,
             "#c51b7d"
            ],
            [
             0.2,
             "#de77ae"
            ],
            [
             0.3,
             "#f1b6da"
            ],
            [
             0.4,
             "#fde0ef"
            ],
            [
             0.5,
             "#f7f7f7"
            ],
            [
             0.6,
             "#e6f5d0"
            ],
            [
             0.7,
             "#b8e186"
            ],
            [
             0.8,
             "#7fbc41"
            ],
            [
             0.9,
             "#4d9221"
            ],
            [
             1,
             "#276419"
            ]
           ],
           "sequential": [
            [
             0,
             "#0d0887"
            ],
            [
             0.1111111111111111,
             "#46039f"
            ],
            [
             0.2222222222222222,
             "#7201a8"
            ],
            [
             0.3333333333333333,
             "#9c179e"
            ],
            [
             0.4444444444444444,
             "#bd3786"
            ],
            [
             0.5555555555555556,
             "#d8576b"
            ],
            [
             0.6666666666666666,
             "#ed7953"
            ],
            [
             0.7777777777777778,
             "#fb9f3a"
            ],
            [
             0.8888888888888888,
             "#fdca26"
            ],
            [
             1,
             "#f0f921"
            ]
           ],
           "sequentialminus": [
            [
             0,
             "#0d0887"
            ],
            [
             0.1111111111111111,
             "#46039f"
            ],
            [
             0.2222222222222222,
             "#7201a8"
            ],
            [
             0.3333333333333333,
             "#9c179e"
            ],
            [
             0.4444444444444444,
             "#bd3786"
            ],
            [
             0.5555555555555556,
             "#d8576b"
            ],
            [
             0.6666666666666666,
             "#ed7953"
            ],
            [
             0.7777777777777778,
             "#fb9f3a"
            ],
            [
             0.8888888888888888,
             "#fdca26"
            ],
            [
             1,
             "#f0f921"
            ]
           ]
          },
          "colorway": [
           "#636efa",
           "#EF553B",
           "#00cc96",
           "#ab63fa",
           "#FFA15A",
           "#19d3f3",
           "#FF6692",
           "#B6E880",
           "#FF97FF",
           "#FECB52"
          ],
          "font": {
           "color": "#2a3f5f"
          },
          "geo": {
           "bgcolor": "white",
           "lakecolor": "white",
           "landcolor": "#E5ECF6",
           "showlakes": true,
           "showland": true,
           "subunitcolor": "white"
          },
          "hoverlabel": {
           "align": "left"
          },
          "hovermode": "closest",
          "mapbox": {
           "style": "light"
          },
          "paper_bgcolor": "white",
          "plot_bgcolor": "#E5ECF6",
          "polar": {
           "angularaxis": {
            "gridcolor": "white",
            "linecolor": "white",
            "ticks": ""
           },
           "bgcolor": "#E5ECF6",
           "radialaxis": {
            "gridcolor": "white",
            "linecolor": "white",
            "ticks": ""
           }
          },
          "scene": {
           "xaxis": {
            "backgroundcolor": "#E5ECF6",
            "gridcolor": "white",
            "gridwidth": 2,
            "linecolor": "white",
            "showbackground": true,
            "ticks": "",
            "zerolinecolor": "white"
           },
           "yaxis": {
            "backgroundcolor": "#E5ECF6",
            "gridcolor": "white",
            "gridwidth": 2,
            "linecolor": "white",
            "showbackground": true,
            "ticks": "",
            "zerolinecolor": "white"
           },
           "zaxis": {
            "backgroundcolor": "#E5ECF6",
            "gridcolor": "white",
            "gridwidth": 2,
            "linecolor": "white",
            "showbackground": true,
            "ticks": "",
            "zerolinecolor": "white"
           }
          },
          "shapedefaults": {
           "line": {
            "color": "#2a3f5f"
           }
          },
          "ternary": {
           "aaxis": {
            "gridcolor": "white",
            "linecolor": "white",
            "ticks": ""
           },
           "baxis": {
            "gridcolor": "white",
            "linecolor": "white",
            "ticks": ""
           },
           "bgcolor": "#E5ECF6",
           "caxis": {
            "gridcolor": "white",
            "linecolor": "white",
            "ticks": ""
           }
          },
          "title": {
           "x": 0.05
          },
          "xaxis": {
           "automargin": true,
           "gridcolor": "white",
           "linecolor": "white",
           "ticks": "",
           "title": {
            "standoff": 15
           },
           "zerolinecolor": "white",
           "zerolinewidth": 2
          },
          "yaxis": {
           "automargin": true,
           "gridcolor": "white",
           "linecolor": "white",
           "ticks": "",
           "title": {
            "standoff": 15
           },
           "zerolinecolor": "white",
           "zerolinewidth": 2
          }
         }
        },
        "title": {
         "text": "Parallel Coordinate Plot"
        }
       }
      }
     },
     "metadata": {},
     "output_type": "display_data"
    }
   ],
   "source": [
    "optuna.visualization.plot_parallel_coordinate(studyRF)"
   ]
  },
  {
   "cell_type": "code",
   "execution_count": 367,
   "metadata": {},
   "outputs": [
    {
     "data": {
      "application/vnd.plotly.v1+json": {
       "config": {
        "plotlyServerURL": "https://plot.ly"
       },
       "data": [
        {
         "cliponaxis": false,
         "hovertemplate": [
          "Criterion (CategoricalDistribution): 0.0020913460568529243<extra></extra>",
          "estimators (IntDistribution): 0.0031384262303073523<extra></extra>",
          "Max_depth (IntDistribution): 0.9947702277128397<extra></extra>"
         ],
         "name": "Objective Value",
         "orientation": "h",
         "text": [
          "<0.01",
          "<0.01",
          "0.99"
         ],
         "textposition": "outside",
         "type": "bar",
         "x": [
          0.0020913460568529243,
          0.0031384262303073523,
          0.9947702277128397
         ],
         "y": [
          "Criterion",
          "estimators",
          "Max_depth"
         ]
        }
       ],
       "layout": {
        "template": {
         "data": {
          "bar": [
           {
            "error_x": {
             "color": "#2a3f5f"
            },
            "error_y": {
             "color": "#2a3f5f"
            },
            "marker": {
             "line": {
              "color": "#E5ECF6",
              "width": 0.5
             },
             "pattern": {
              "fillmode": "overlay",
              "size": 10,
              "solidity": 0.2
             }
            },
            "type": "bar"
           }
          ],
          "barpolar": [
           {
            "marker": {
             "line": {
              "color": "#E5ECF6",
              "width": 0.5
             },
             "pattern": {
              "fillmode": "overlay",
              "size": 10,
              "solidity": 0.2
             }
            },
            "type": "barpolar"
           }
          ],
          "carpet": [
           {
            "aaxis": {
             "endlinecolor": "#2a3f5f",
             "gridcolor": "white",
             "linecolor": "white",
             "minorgridcolor": "white",
             "startlinecolor": "#2a3f5f"
            },
            "baxis": {
             "endlinecolor": "#2a3f5f",
             "gridcolor": "white",
             "linecolor": "white",
             "minorgridcolor": "white",
             "startlinecolor": "#2a3f5f"
            },
            "type": "carpet"
           }
          ],
          "choropleth": [
           {
            "colorbar": {
             "outlinewidth": 0,
             "ticks": ""
            },
            "type": "choropleth"
           }
          ],
          "contour": [
           {
            "colorbar": {
             "outlinewidth": 0,
             "ticks": ""
            },
            "colorscale": [
             [
              0,
              "#0d0887"
             ],
             [
              0.1111111111111111,
              "#46039f"
             ],
             [
              0.2222222222222222,
              "#7201a8"
             ],
             [
              0.3333333333333333,
              "#9c179e"
             ],
             [
              0.4444444444444444,
              "#bd3786"
             ],
             [
              0.5555555555555556,
              "#d8576b"
             ],
             [
              0.6666666666666666,
              "#ed7953"
             ],
             [
              0.7777777777777778,
              "#fb9f3a"
             ],
             [
              0.8888888888888888,
              "#fdca26"
             ],
             [
              1,
              "#f0f921"
             ]
            ],
            "type": "contour"
           }
          ],
          "contourcarpet": [
           {
            "colorbar": {
             "outlinewidth": 0,
             "ticks": ""
            },
            "type": "contourcarpet"
           }
          ],
          "heatmap": [
           {
            "colorbar": {
             "outlinewidth": 0,
             "ticks": ""
            },
            "colorscale": [
             [
              0,
              "#0d0887"
             ],
             [
              0.1111111111111111,
              "#46039f"
             ],
             [
              0.2222222222222222,
              "#7201a8"
             ],
             [
              0.3333333333333333,
              "#9c179e"
             ],
             [
              0.4444444444444444,
              "#bd3786"
             ],
             [
              0.5555555555555556,
              "#d8576b"
             ],
             [
              0.6666666666666666,
              "#ed7953"
             ],
             [
              0.7777777777777778,
              "#fb9f3a"
             ],
             [
              0.8888888888888888,
              "#fdca26"
             ],
             [
              1,
              "#f0f921"
             ]
            ],
            "type": "heatmap"
           }
          ],
          "heatmapgl": [
           {
            "colorbar": {
             "outlinewidth": 0,
             "ticks": ""
            },
            "colorscale": [
             [
              0,
              "#0d0887"
             ],
             [
              0.1111111111111111,
              "#46039f"
             ],
             [
              0.2222222222222222,
              "#7201a8"
             ],
             [
              0.3333333333333333,
              "#9c179e"
             ],
             [
              0.4444444444444444,
              "#bd3786"
             ],
             [
              0.5555555555555556,
              "#d8576b"
             ],
             [
              0.6666666666666666,
              "#ed7953"
             ],
             [
              0.7777777777777778,
              "#fb9f3a"
             ],
             [
              0.8888888888888888,
              "#fdca26"
             ],
             [
              1,
              "#f0f921"
             ]
            ],
            "type": "heatmapgl"
           }
          ],
          "histogram": [
           {
            "marker": {
             "pattern": {
              "fillmode": "overlay",
              "size": 10,
              "solidity": 0.2
             }
            },
            "type": "histogram"
           }
          ],
          "histogram2d": [
           {
            "colorbar": {
             "outlinewidth": 0,
             "ticks": ""
            },
            "colorscale": [
             [
              0,
              "#0d0887"
             ],
             [
              0.1111111111111111,
              "#46039f"
             ],
             [
              0.2222222222222222,
              "#7201a8"
             ],
             [
              0.3333333333333333,
              "#9c179e"
             ],
             [
              0.4444444444444444,
              "#bd3786"
             ],
             [
              0.5555555555555556,
              "#d8576b"
             ],
             [
              0.6666666666666666,
              "#ed7953"
             ],
             [
              0.7777777777777778,
              "#fb9f3a"
             ],
             [
              0.8888888888888888,
              "#fdca26"
             ],
             [
              1,
              "#f0f921"
             ]
            ],
            "type": "histogram2d"
           }
          ],
          "histogram2dcontour": [
           {
            "colorbar": {
             "outlinewidth": 0,
             "ticks": ""
            },
            "colorscale": [
             [
              0,
              "#0d0887"
             ],
             [
              0.1111111111111111,
              "#46039f"
             ],
             [
              0.2222222222222222,
              "#7201a8"
             ],
             [
              0.3333333333333333,
              "#9c179e"
             ],
             [
              0.4444444444444444,
              "#bd3786"
             ],
             [
              0.5555555555555556,
              "#d8576b"
             ],
             [
              0.6666666666666666,
              "#ed7953"
             ],
             [
              0.7777777777777778,
              "#fb9f3a"
             ],
             [
              0.8888888888888888,
              "#fdca26"
             ],
             [
              1,
              "#f0f921"
             ]
            ],
            "type": "histogram2dcontour"
           }
          ],
          "mesh3d": [
           {
            "colorbar": {
             "outlinewidth": 0,
             "ticks": ""
            },
            "type": "mesh3d"
           }
          ],
          "parcoords": [
           {
            "line": {
             "colorbar": {
              "outlinewidth": 0,
              "ticks": ""
             }
            },
            "type": "parcoords"
           }
          ],
          "pie": [
           {
            "automargin": true,
            "type": "pie"
           }
          ],
          "scatter": [
           {
            "fillpattern": {
             "fillmode": "overlay",
             "size": 10,
             "solidity": 0.2
            },
            "type": "scatter"
           }
          ],
          "scatter3d": [
           {
            "line": {
             "colorbar": {
              "outlinewidth": 0,
              "ticks": ""
             }
            },
            "marker": {
             "colorbar": {
              "outlinewidth": 0,
              "ticks": ""
             }
            },
            "type": "scatter3d"
           }
          ],
          "scattercarpet": [
           {
            "marker": {
             "colorbar": {
              "outlinewidth": 0,
              "ticks": ""
             }
            },
            "type": "scattercarpet"
           }
          ],
          "scattergeo": [
           {
            "marker": {
             "colorbar": {
              "outlinewidth": 0,
              "ticks": ""
             }
            },
            "type": "scattergeo"
           }
          ],
          "scattergl": [
           {
            "marker": {
             "colorbar": {
              "outlinewidth": 0,
              "ticks": ""
             }
            },
            "type": "scattergl"
           }
          ],
          "scattermapbox": [
           {
            "marker": {
             "colorbar": {
              "outlinewidth": 0,
              "ticks": ""
             }
            },
            "type": "scattermapbox"
           }
          ],
          "scatterpolar": [
           {
            "marker": {
             "colorbar": {
              "outlinewidth": 0,
              "ticks": ""
             }
            },
            "type": "scatterpolar"
           }
          ],
          "scatterpolargl": [
           {
            "marker": {
             "colorbar": {
              "outlinewidth": 0,
              "ticks": ""
             }
            },
            "type": "scatterpolargl"
           }
          ],
          "scatterternary": [
           {
            "marker": {
             "colorbar": {
              "outlinewidth": 0,
              "ticks": ""
             }
            },
            "type": "scatterternary"
           }
          ],
          "surface": [
           {
            "colorbar": {
             "outlinewidth": 0,
             "ticks": ""
            },
            "colorscale": [
             [
              0,
              "#0d0887"
             ],
             [
              0.1111111111111111,
              "#46039f"
             ],
             [
              0.2222222222222222,
              "#7201a8"
             ],
             [
              0.3333333333333333,
              "#9c179e"
             ],
             [
              0.4444444444444444,
              "#bd3786"
             ],
             [
              0.5555555555555556,
              "#d8576b"
             ],
             [
              0.6666666666666666,
              "#ed7953"
             ],
             [
              0.7777777777777778,
              "#fb9f3a"
             ],
             [
              0.8888888888888888,
              "#fdca26"
             ],
             [
              1,
              "#f0f921"
             ]
            ],
            "type": "surface"
           }
          ],
          "table": [
           {
            "cells": {
             "fill": {
              "color": "#EBF0F8"
             },
             "line": {
              "color": "white"
             }
            },
            "header": {
             "fill": {
              "color": "#C8D4E3"
             },
             "line": {
              "color": "white"
             }
            },
            "type": "table"
           }
          ]
         },
         "layout": {
          "annotationdefaults": {
           "arrowcolor": "#2a3f5f",
           "arrowhead": 0,
           "arrowwidth": 1
          },
          "autotypenumbers": "strict",
          "coloraxis": {
           "colorbar": {
            "outlinewidth": 0,
            "ticks": ""
           }
          },
          "colorscale": {
           "diverging": [
            [
             0,
             "#8e0152"
            ],
            [
             0.1,
             "#c51b7d"
            ],
            [
             0.2,
             "#de77ae"
            ],
            [
             0.3,
             "#f1b6da"
            ],
            [
             0.4,
             "#fde0ef"
            ],
            [
             0.5,
             "#f7f7f7"
            ],
            [
             0.6,
             "#e6f5d0"
            ],
            [
             0.7,
             "#b8e186"
            ],
            [
             0.8,
             "#7fbc41"
            ],
            [
             0.9,
             "#4d9221"
            ],
            [
             1,
             "#276419"
            ]
           ],
           "sequential": [
            [
             0,
             "#0d0887"
            ],
            [
             0.1111111111111111,
             "#46039f"
            ],
            [
             0.2222222222222222,
             "#7201a8"
            ],
            [
             0.3333333333333333,
             "#9c179e"
            ],
            [
             0.4444444444444444,
             "#bd3786"
            ],
            [
             0.5555555555555556,
             "#d8576b"
            ],
            [
             0.6666666666666666,
             "#ed7953"
            ],
            [
             0.7777777777777778,
             "#fb9f3a"
            ],
            [
             0.8888888888888888,
             "#fdca26"
            ],
            [
             1,
             "#f0f921"
            ]
           ],
           "sequentialminus": [
            [
             0,
             "#0d0887"
            ],
            [
             0.1111111111111111,
             "#46039f"
            ],
            [
             0.2222222222222222,
             "#7201a8"
            ],
            [
             0.3333333333333333,
             "#9c179e"
            ],
            [
             0.4444444444444444,
             "#bd3786"
            ],
            [
             0.5555555555555556,
             "#d8576b"
            ],
            [
             0.6666666666666666,
             "#ed7953"
            ],
            [
             0.7777777777777778,
             "#fb9f3a"
            ],
            [
             0.8888888888888888,
             "#fdca26"
            ],
            [
             1,
             "#f0f921"
            ]
           ]
          },
          "colorway": [
           "#636efa",
           "#EF553B",
           "#00cc96",
           "#ab63fa",
           "#FFA15A",
           "#19d3f3",
           "#FF6692",
           "#B6E880",
           "#FF97FF",
           "#FECB52"
          ],
          "font": {
           "color": "#2a3f5f"
          },
          "geo": {
           "bgcolor": "white",
           "lakecolor": "white",
           "landcolor": "#E5ECF6",
           "showlakes": true,
           "showland": true,
           "subunitcolor": "white"
          },
          "hoverlabel": {
           "align": "left"
          },
          "hovermode": "closest",
          "mapbox": {
           "style": "light"
          },
          "paper_bgcolor": "white",
          "plot_bgcolor": "#E5ECF6",
          "polar": {
           "angularaxis": {
            "gridcolor": "white",
            "linecolor": "white",
            "ticks": ""
           },
           "bgcolor": "#E5ECF6",
           "radialaxis": {
            "gridcolor": "white",
            "linecolor": "white",
            "ticks": ""
           }
          },
          "scene": {
           "xaxis": {
            "backgroundcolor": "#E5ECF6",
            "gridcolor": "white",
            "gridwidth": 2,
            "linecolor": "white",
            "showbackground": true,
            "ticks": "",
            "zerolinecolor": "white"
           },
           "yaxis": {
            "backgroundcolor": "#E5ECF6",
            "gridcolor": "white",
            "gridwidth": 2,
            "linecolor": "white",
            "showbackground": true,
            "ticks": "",
            "zerolinecolor": "white"
           },
           "zaxis": {
            "backgroundcolor": "#E5ECF6",
            "gridcolor": "white",
            "gridwidth": 2,
            "linecolor": "white",
            "showbackground": true,
            "ticks": "",
            "zerolinecolor": "white"
           }
          },
          "shapedefaults": {
           "line": {
            "color": "#2a3f5f"
           }
          },
          "ternary": {
           "aaxis": {
            "gridcolor": "white",
            "linecolor": "white",
            "ticks": ""
           },
           "baxis": {
            "gridcolor": "white",
            "linecolor": "white",
            "ticks": ""
           },
           "bgcolor": "#E5ECF6",
           "caxis": {
            "gridcolor": "white",
            "linecolor": "white",
            "ticks": ""
           }
          },
          "title": {
           "x": 0.05
          },
          "xaxis": {
           "automargin": true,
           "gridcolor": "white",
           "linecolor": "white",
           "ticks": "",
           "title": {
            "standoff": 15
           },
           "zerolinecolor": "white",
           "zerolinewidth": 2
          },
          "yaxis": {
           "automargin": true,
           "gridcolor": "white",
           "linecolor": "white",
           "ticks": "",
           "title": {
            "standoff": 15
           },
           "zerolinecolor": "white",
           "zerolinewidth": 2
          }
         }
        },
        "title": {
         "text": "Hyperparameter Importances"
        },
        "xaxis": {
         "title": {
          "text": "Hyperparameter Importance"
         }
        },
        "yaxis": {
         "title": {
          "text": "Hyperparameter"
         }
        }
       }
      }
     },
     "metadata": {},
     "output_type": "display_data"
    }
   ],
   "source": [
    "optuna.visualization.plot_param_importances(studyRF)"
   ]
  },
  {
   "cell_type": "markdown",
   "metadata": {},
   "source": [
    "Validación"
   ]
  },
  {
   "cell_type": "code",
   "execution_count": 368,
   "metadata": {},
   "outputs": [
    {
     "name": "stdout",
     "output_type": "stream",
     "text": [
      "              precision    recall  f1-score   support\n",
      "\n",
      "         Low       1.00      1.00      1.00        63\n",
      "      Medium       1.00      1.00      1.00        72\n",
      "        High       1.00      1.00      1.00        65\n",
      "\n",
      "    accuracy                           1.00       200\n",
      "   macro avg       1.00      1.00      1.00       200\n",
      "weighted avg       1.00      1.00      1.00       200\n",
      "\n"
     ]
    },
    {
     "data": {
      "text/plain": [
       "<sklearn.metrics._plot.confusion_matrix.ConfusionMatrixDisplay at 0x1f7dc800c10>"
      ]
     },
     "execution_count": 368,
     "metadata": {},
     "output_type": "execute_result"
    },
    {
     "data": {
      "image/png": "[encoded data removed]",
      "text/plain": [
       "<Figure size 640x480 with 2 Axes>"
      ]
     },
     "metadata": {},
     "output_type": "display_data"
    }
   ],
   "source": [
    "crit=studyRF.best_params['Criterion']\n",
    "depth=studyRF.best_params['Max_depth']\n",
    "n=studyRF.best_params['estimators']\n",
    "\n",
    "\n",
    "RF=ensemble.RandomForestClassifier(n_estimators=n,criterion=crit,max_depth=depth)\n",
    "RF.fit(X_train,y_train)\n",
    "\n",
    "#prediccion\n",
    "y_pred = RF.predict(X_val)\n",
    "\n",
    "#metricas\n",
    "print(metrics.classification_report(y_val,y_pred,target_names=['Low','Medium','High']))\n",
    "\n",
    "cm=metrics.confusion_matrix(y_val,y_pred)\n",
    "disp=metrics.ConfusionMatrixDisplay(cm,display_labels=['Low','Medium','High'])\n",
    "disp.plot()"
   ]
  },
  {
   "cell_type": "markdown",
   "metadata": {},
   "source": [
    "Finalmente, probaremos usando KNN"
   ]
  },
  {
   "cell_type": "code",
   "execution_count": 369,
   "metadata": {},
   "outputs": [
    {
     "name": "stderr",
     "output_type": "stream",
     "text": [
      "[I 2023-11-24 20:40:36,327] A new study created in memory with name: no-name-646582d0-e9cf-4462-92f9-01f146ad4d07\n",
      "[I 2023-11-24 20:40:36,337] Trial 0 finished with value: 0.94 and parameters: {'K': 11}. Best is trial 0 with value: 0.94.\n",
      "[I 2023-11-24 20:40:36,347] Trial 1 finished with value: 0.94 and parameters: {'K': 13}. Best is trial 0 with value: 0.94.\n",
      "[I 2023-11-24 20:40:36,356] Trial 2 finished with value: 0.95 and parameters: {'K': 10}. Best is trial 2 with value: 0.95.\n",
      "[I 2023-11-24 20:40:36,365] Trial 3 finished with value: 1.0 and parameters: {'K': 1}. Best is trial 3 with value: 1.0.\n",
      "[I 2023-11-24 20:40:36,374] Trial 4 finished with value: 0.93 and parameters: {'K': 18}. Best is trial 3 with value: 1.0.\n",
      "[I 2023-11-24 20:40:36,384] Trial 5 finished with value: 0.93 and parameters: {'K': 19}. Best is trial 3 with value: 1.0.\n",
      "[I 2023-11-24 20:40:36,393] Trial 6 finished with value: 0.94 and parameters: {'K': 17}. Best is trial 3 with value: 1.0.\n",
      "[I 2023-11-24 20:40:36,402] Trial 7 finished with value: 1.0 and parameters: {'K': 4}. Best is trial 3 with value: 1.0.\n",
      "[I 2023-11-24 20:40:36,411] Trial 8 finished with value: 1.0 and parameters: {'K': 4}. Best is trial 3 with value: 1.0.\n",
      "[I 2023-11-24 20:40:36,420] Trial 9 finished with value: 0.945 and parameters: {'K': 12}. Best is trial 3 with value: 1.0.\n",
      "[I 2023-11-24 20:40:36,432] Trial 10 finished with value: 1.0 and parameters: {'K': 1}. Best is trial 3 with value: 1.0.\n",
      "[I 2023-11-24 20:40:36,445] Trial 11 finished with value: 1.0 and parameters: {'K': 5}. Best is trial 3 with value: 1.0.\n",
      "[I 2023-11-24 20:40:36,458] Trial 12 finished with value: 1.0 and parameters: {'K': 1}. Best is trial 3 with value: 1.0.\n",
      "[I 2023-11-24 20:40:36,470] Trial 13 finished with value: 1.0 and parameters: {'K': 6}. Best is trial 3 with value: 1.0.\n",
      "[I 2023-11-24 20:40:36,483] Trial 14 finished with value: 0.975 and parameters: {'K': 7}. Best is trial 3 with value: 1.0.\n",
      "[I 2023-11-24 20:40:36,496] Trial 15 finished with value: 1.0 and parameters: {'K': 3}. Best is trial 3 with value: 1.0.\n",
      "[I 2023-11-24 20:40:36,508] Trial 16 finished with value: 0.975 and parameters: {'K': 8}. Best is trial 3 with value: 1.0.\n",
      "[I 2023-11-24 20:40:36,521] Trial 17 finished with value: 1.0 and parameters: {'K': 2}. Best is trial 3 with value: 1.0.\n",
      "[I 2023-11-24 20:40:36,534] Trial 18 finished with value: 0.94 and parameters: {'K': 15}. Best is trial 3 with value: 1.0.\n",
      "[I 2023-11-24 20:40:36,547] Trial 19 finished with value: 0.97 and parameters: {'K': 9}. Best is trial 3 with value: 1.0.\n",
      "[I 2023-11-24 20:40:36,559] Trial 20 finished with value: 1.0 and parameters: {'K': 4}. Best is trial 3 with value: 1.0.\n",
      "[I 2023-11-24 20:40:36,572] Trial 21 finished with value: 1.0 and parameters: {'K': 4}. Best is trial 3 with value: 1.0.\n",
      "[I 2023-11-24 20:40:36,585] Trial 22 finished with value: 1.0 and parameters: {'K': 3}. Best is trial 3 with value: 1.0.\n",
      "[I 2023-11-24 20:40:36,598] Trial 23 finished with value: 1.0 and parameters: {'K': 6}. Best is trial 3 with value: 1.0.\n",
      "[I 2023-11-24 20:40:36,611] Trial 24 finished with value: 1.0 and parameters: {'K': 2}. Best is trial 3 with value: 1.0.\n",
      "[I 2023-11-24 20:40:36,624] Trial 25 finished with value: 1.0 and parameters: {'K': 5}. Best is trial 3 with value: 1.0.\n",
      "[I 2023-11-24 20:40:36,636] Trial 26 finished with value: 0.975 and parameters: {'K': 8}. Best is trial 3 with value: 1.0.\n",
      "[I 2023-11-24 20:40:36,648] Trial 27 finished with value: 1.0 and parameters: {'K': 1}. Best is trial 3 with value: 1.0.\n",
      "[I 2023-11-24 20:40:36,662] Trial 28 finished with value: 1.0 and parameters: {'K': 3}. Best is trial 3 with value: 1.0.\n",
      "[I 2023-11-24 20:40:36,675] Trial 29 finished with value: 1.0 and parameters: {'K': 5}. Best is trial 3 with value: 1.0.\n",
      "[I 2023-11-24 20:40:36,688] Trial 30 finished with value: 0.94 and parameters: {'K': 11}. Best is trial 3 with value: 1.0.\n",
      "[I 2023-11-24 20:40:36,701] Trial 31 finished with value: 1.0 and parameters: {'K': 2}. Best is trial 3 with value: 1.0.\n",
      "[I 2023-11-24 20:40:36,714] Trial 32 finished with value: 1.0 and parameters: {'K': 1}. Best is trial 3 with value: 1.0.\n",
      "[I 2023-11-24 20:40:36,727] Trial 33 finished with value: 1.0 and parameters: {'K': 4}. Best is trial 3 with value: 1.0.\n",
      "[I 2023-11-24 20:40:36,739] Trial 34 finished with value: 1.0 and parameters: {'K': 1}. Best is trial 3 with value: 1.0.\n",
      "[I 2023-11-24 20:40:36,751] Trial 35 finished with value: 1.0 and parameters: {'K': 3}. Best is trial 3 with value: 1.0.\n",
      "[I 2023-11-24 20:40:36,765] Trial 36 finished with value: 1.0 and parameters: {'K': 6}. Best is trial 3 with value: 1.0.\n",
      "[I 2023-11-24 20:40:36,777] Trial 37 finished with value: 1.0 and parameters: {'K': 2}. Best is trial 3 with value: 1.0.\n",
      "[I 2023-11-24 20:40:36,790] Trial 38 finished with value: 0.94 and parameters: {'K': 15}. Best is trial 3 with value: 1.0.\n",
      "[I 2023-11-24 20:40:36,804] Trial 39 finished with value: 0.95 and parameters: {'K': 10}. Best is trial 3 with value: 1.0.\n",
      "[I 2023-11-24 20:40:36,817] Trial 40 finished with value: 1.0 and parameters: {'K': 4}. Best is trial 3 with value: 1.0.\n",
      "[I 2023-11-24 20:40:36,830] Trial 41 finished with value: 0.975 and parameters: {'K': 7}. Best is trial 3 with value: 1.0.\n",
      "[I 2023-11-24 20:40:36,843] Trial 42 finished with value: 1.0 and parameters: {'K': 5}. Best is trial 3 with value: 1.0.\n",
      "[I 2023-11-24 20:40:36,857] Trial 43 finished with value: 0.93 and parameters: {'K': 20}. Best is trial 3 with value: 1.0.\n",
      "[I 2023-11-24 20:40:36,870] Trial 44 finished with value: 1.0 and parameters: {'K': 1}. Best is trial 3 with value: 1.0.\n",
      "[I 2023-11-24 20:40:36,883] Trial 45 finished with value: 1.0 and parameters: {'K': 2}. Best is trial 3 with value: 1.0.\n",
      "[I 2023-11-24 20:40:36,897] Trial 46 finished with value: 0.975 and parameters: {'K': 7}. Best is trial 3 with value: 1.0.\n",
      "[I 2023-11-24 20:40:36,910] Trial 47 finished with value: 0.94 and parameters: {'K': 13}. Best is trial 3 with value: 1.0.\n",
      "[I 2023-11-24 20:40:36,924] Trial 48 finished with value: 1.0 and parameters: {'K': 5}. Best is trial 3 with value: 1.0.\n",
      "[I 2023-11-24 20:40:36,937] Trial 49 finished with value: 1.0 and parameters: {'K': 3}. Best is trial 3 with value: 1.0.\n",
      "[I 2023-11-24 20:40:36,951] Trial 50 finished with value: 0.97 and parameters: {'K': 9}. Best is trial 3 with value: 1.0.\n",
      "[I 2023-11-24 20:40:36,964] Trial 51 finished with value: 1.0 and parameters: {'K': 1}. Best is trial 3 with value: 1.0.\n",
      "[I 2023-11-24 20:40:36,976] Trial 52 finished with value: 1.0 and parameters: {'K': 3}. Best is trial 3 with value: 1.0.\n",
      "[I 2023-11-24 20:40:36,990] Trial 53 finished with value: 1.0 and parameters: {'K': 2}. Best is trial 3 with value: 1.0.\n",
      "[I 2023-11-24 20:40:37,003] Trial 54 finished with value: 1.0 and parameters: {'K': 4}. Best is trial 3 with value: 1.0.\n",
      "[I 2023-11-24 20:40:37,016] Trial 55 finished with value: 1.0 and parameters: {'K': 2}. Best is trial 3 with value: 1.0.\n",
      "[I 2023-11-24 20:40:37,029] Trial 56 finished with value: 1.0 and parameters: {'K': 1}. Best is trial 3 with value: 1.0.\n",
      "[I 2023-11-24 20:40:37,043] Trial 57 finished with value: 1.0 and parameters: {'K': 6}. Best is trial 3 with value: 1.0.\n",
      "[I 2023-11-24 20:40:37,057] Trial 58 finished with value: 1.0 and parameters: {'K': 4}. Best is trial 3 with value: 1.0.\n",
      "[I 2023-11-24 20:40:37,070] Trial 59 finished with value: 1.0 and parameters: {'K': 3}. Best is trial 3 with value: 1.0.\n",
      "[I 2023-11-24 20:40:37,084] Trial 60 finished with value: 1.0 and parameters: {'K': 5}. Best is trial 3 with value: 1.0.\n",
      "[I 2023-11-24 20:40:37,098] Trial 61 finished with value: 1.0 and parameters: {'K': 6}. Best is trial 3 with value: 1.0.\n",
      "[I 2023-11-24 20:40:37,112] Trial 62 finished with value: 1.0 and parameters: {'K': 2}. Best is trial 3 with value: 1.0.\n",
      "[I 2023-11-24 20:40:37,125] Trial 63 finished with value: 0.975 and parameters: {'K': 8}. Best is trial 3 with value: 1.0.\n",
      "[I 2023-11-24 20:40:37,139] Trial 64 finished with value: 1.0 and parameters: {'K': 4}. Best is trial 3 with value: 1.0.\n",
      "[I 2023-11-24 20:40:37,151] Trial 65 finished with value: 1.0 and parameters: {'K': 1}. Best is trial 3 with value: 1.0.\n",
      "[I 2023-11-24 20:40:37,165] Trial 66 finished with value: 0.975 and parameters: {'K': 7}. Best is trial 3 with value: 1.0.\n",
      "[I 2023-11-24 20:40:37,179] Trial 67 finished with value: 1.0 and parameters: {'K': 3}. Best is trial 3 with value: 1.0.\n",
      "[I 2023-11-24 20:40:37,192] Trial 68 finished with value: 1.0 and parameters: {'K': 2}. Best is trial 3 with value: 1.0.\n",
      "[I 2023-11-24 20:40:37,206] Trial 69 finished with value: 1.0 and parameters: {'K': 5}. Best is trial 3 with value: 1.0.\n",
      "[I 2023-11-24 20:40:37,221] Trial 70 finished with value: 1.0 and parameters: {'K': 4}. Best is trial 3 with value: 1.0.\n",
      "[I 2023-11-24 20:40:37,234] Trial 71 finished with value: 1.0 and parameters: {'K': 3}. Best is trial 3 with value: 1.0.\n",
      "[I 2023-11-24 20:40:37,248] Trial 72 finished with value: 1.0 and parameters: {'K': 1}. Best is trial 3 with value: 1.0.\n",
      "[I 2023-11-24 20:40:37,261] Trial 73 finished with value: 1.0 and parameters: {'K': 2}. Best is trial 3 with value: 1.0.\n",
      "[I 2023-11-24 20:40:37,275] Trial 74 finished with value: 1.0 and parameters: {'K': 6}. Best is trial 3 with value: 1.0.\n",
      "[I 2023-11-24 20:40:37,289] Trial 75 finished with value: 1.0 and parameters: {'K': 3}. Best is trial 3 with value: 1.0.\n",
      "[I 2023-11-24 20:40:37,302] Trial 76 finished with value: 1.0 and parameters: {'K': 4}. Best is trial 3 with value: 1.0.\n",
      "[I 2023-11-24 20:40:37,316] Trial 77 finished with value: 0.94 and parameters: {'K': 17}. Best is trial 3 with value: 1.0.\n",
      "[I 2023-11-24 20:40:37,329] Trial 78 finished with value: 1.0 and parameters: {'K': 1}. Best is trial 3 with value: 1.0.\n",
      "[I 2023-11-24 20:40:37,343] Trial 79 finished with value: 1.0 and parameters: {'K': 5}. Best is trial 3 with value: 1.0.\n",
      "[I 2023-11-24 20:40:37,356] Trial 80 finished with value: 1.0 and parameters: {'K': 2}. Best is trial 3 with value: 1.0.\n",
      "[I 2023-11-24 20:40:37,370] Trial 81 finished with value: 1.0 and parameters: {'K': 3}. Best is trial 3 with value: 1.0.\n",
      "[I 2023-11-24 20:40:37,383] Trial 82 finished with value: 1.0 and parameters: {'K': 1}. Best is trial 3 with value: 1.0.\n",
      "[I 2023-11-24 20:40:37,398] Trial 83 finished with value: 0.945 and parameters: {'K': 12}. Best is trial 3 with value: 1.0.\n",
      "[I 2023-11-24 20:40:37,411] Trial 84 finished with value: 1.0 and parameters: {'K': 2}. Best is trial 3 with value: 1.0.\n",
      "[I 2023-11-24 20:40:37,425] Trial 85 finished with value: 1.0 and parameters: {'K': 4}. Best is trial 3 with value: 1.0.\n",
      "[I 2023-11-24 20:40:37,438] Trial 86 finished with value: 1.0 and parameters: {'K': 2}. Best is trial 3 with value: 1.0.\n",
      "[I 2023-11-24 20:40:37,452] Trial 87 finished with value: 1.0 and parameters: {'K': 3}. Best is trial 3 with value: 1.0.\n",
      "[I 2023-11-24 20:40:37,465] Trial 88 finished with value: 1.0 and parameters: {'K': 1}. Best is trial 3 with value: 1.0.\n",
      "[I 2023-11-24 20:40:37,479] Trial 89 finished with value: 1.0 and parameters: {'K': 5}. Best is trial 3 with value: 1.0.\n",
      "[I 2023-11-24 20:40:37,493] Trial 90 finished with value: 0.94 and parameters: {'K': 15}. Best is trial 3 with value: 1.0.\n",
      "[I 2023-11-24 20:40:37,507] Trial 91 finished with value: 1.0 and parameters: {'K': 6}. Best is trial 3 with value: 1.0.\n",
      "[I 2023-11-24 20:40:37,521] Trial 92 finished with value: 1.0 and parameters: {'K': 4}. Best is trial 3 with value: 1.0.\n",
      "[I 2023-11-24 20:40:37,534] Trial 93 finished with value: 1.0 and parameters: {'K': 3}. Best is trial 3 with value: 1.0.\n",
      "[I 2023-11-24 20:40:37,549] Trial 94 finished with value: 0.97 and parameters: {'K': 9}. Best is trial 3 with value: 1.0.\n",
      "[I 2023-11-24 20:40:37,562] Trial 95 finished with value: 1.0 and parameters: {'K': 5}. Best is trial 3 with value: 1.0.\n",
      "[I 2023-11-24 20:40:37,576] Trial 96 finished with value: 1.0 and parameters: {'K': 4}. Best is trial 3 with value: 1.0.\n",
      "[I 2023-11-24 20:40:37,590] Trial 97 finished with value: 1.0 and parameters: {'K': 2}. Best is trial 3 with value: 1.0.\n",
      "[I 2023-11-24 20:40:37,604] Trial 98 finished with value: 1.0 and parameters: {'K': 1}. Best is trial 3 with value: 1.0.\n",
      "[I 2023-11-24 20:40:37,617] Trial 99 finished with value: 1.0 and parameters: {'K': 3}. Best is trial 3 with value: 1.0.\n"
     ]
    }
   ],
   "source": [
    "def objectiveKNN(trial):\n",
    "    k=trial.suggest_int('K',1,20)\n",
    "\n",
    "    #entrenamiento\n",
    "    KNN=neighbors.KNeighborsClassifier(n_neighbors=k)\n",
    "    KNN.fit(X_train,y_train)\n",
    " \n",
    "    #prediccion\n",
    "    y_pred = KNN.predict(X_test)\n",
    "\n",
    "    #metrica\n",
    "    recall=metrics.recall_score(y_test,y_pred,average='micro')\n",
    "    return recall\n",
    "\n",
    "studyKNN = optuna.create_study(direction='maximize')\n",
    "studyKNN.optimize(objectiveKNN, n_trials=100)"
   ]
  },
  {
   "cell_type": "markdown",
   "metadata": {},
   "source": [
    "Mejores parametros"
   ]
  },
  {
   "cell_type": "code",
   "execution_count": 370,
   "metadata": {},
   "outputs": [
    {
     "name": "stdout",
     "output_type": "stream",
     "text": [
      "{'K': 1}\n"
     ]
    },
    {
     "data": {
      "application/vnd.plotly.v1+json": {
       "config": {
        "plotlyServerURL": "https://plot.ly"
       },
       "data": [
        {
         "mode": "markers",
         "name": "Objective Value",
         "type": "scatter",
         "x": [
          0,
          1,
          2,
          3,
          4,
          5,
          6,
          7,
          8,
          9,
          10,
          11,
          12,
          13,
          14,
          15,
          16,
          17,
          18,
          19,
          20,
          21,
          22,
          23,
          24,
          25,
          26,
          27,
          28,
          29,
          30,
          31,
          32,
          33,
          34,
          35,
          36,
          37,
          38,
          39,
          40,
          41,
          42,
          43,
          44,
          45,
          46,
          47,
          48,
          49,
          50,
          51,
          52,
          53,
          54,
          55,
          56,
          57,
          58,
          59,
          60,
          61,
          62,
          63,
          64,
          65,
          66,
          67,
          68,
          69,
          70,
          71,
          72,
          73,
          74,
          75,
          76,
          77,
          78,
          79,
          80,
          81,
          82,
          83,
          84,
          85,
          86,
          87,
          88,
          89,
          90,
          91,
          92,
          93,
          94,
          95,
          96,
          97,
          98,
          99
         ],
         "y": [
          0.94,
          0.94,
          0.95,
          1,
          0.93,
          0.93,
          0.94,
          1,
          1,
          0.945,
          1,
          1,
          1,
          1,
          0.975,
          1,
          0.975,
          1,
          0.94,
          0.97,
          1,
          1,
          1,
          1,
          1,
          1,
          0.975,
          1,
          1,
          1,
          0.94,
          1,
          1,
          1,
          1,
          1,
          1,
          1,
          0.94,
          0.95,
          1,
          0.975,
          1,
          0.93,
          1,
          1,
          0.975,
          0.94,
          1,
          1,
          0.97,
          1,
          1,
          1,
          1,
          1,
          1,
          1,
          1,
          1,
          1,
          1,
          1,
          0.975,
          1,
          1,
          0.975,
          1,
          1,
          1,
          1,
          1,
          1,
          1,
          1,
          1,
          1,
          0.94,
          1,
          1,
          1,
          1,
          1,
          0.945,
          1,
          1,
          1,
          1,
          1,
          1,
          0.94,
          1,
          1,
          1,
          0.97,
          1,
          1,
          1,
          1,
          1
         ]
        },
        {
         "mode": "lines",
         "name": "Best Value",
         "type": "scatter",
         "x": [
          0,
          1,
          2,
          3,
          4,
          5,
          6,
          7,
          8,
          9,
          10,
          11,
          12,
          13,
          14,
          15,
          16,
          17,
          18,
          19,
          20,
          21,
          22,
          23,
          24,
          25,
          26,
          27,
          28,
          29,
          30,
          31,
          32,
          33,
          34,
          35,
          36,
          37,
          38,
          39,
          40,
          41,
          42,
          43,
          44,
          45,
          46,
          47,
          48,
          49,
          50,
          51,
          52,
          53,
          54,
          55,
          56,
          57,
          58,
          59,
          60,
          61,
          62,
          63,
          64,
          65,
          66,
          67,
          68,
          69,
          70,
          71,
          72,
          73,
          74,
          75,
          76,
          77,
          78,
          79,
          80,
          81,
          82,
          83,
          84,
          85,
          86,
          87,
          88,
          89,
          90,
          91,
          92,
          93,
          94,
          95,
          96,
          97,
          98,
          99
         ],
         "y": [
          0.94,
          0.94,
          0.95,
          1,
          1,
          1,
          1,
          1,
          1,
          1,
          1,
          1,
          1,
          1,
          1,
          1,
          1,
          1,
          1,
          1,
          1,
          1,
          1,
          1,
          1,
          1,
          1,
          1,
          1,
          1,
          1,
          1,
          1,
          1,
          1,
          1,
          1,
          1,
          1,
          1,
          1,
          1,
          1,
          1,
          1,
          1,
          1,
          1,
          1,
          1,
          1,
          1,
          1,
          1,
          1,
          1,
          1,
          1,
          1,
          1,
          1,
          1,
          1,
          1,
          1,
          1,
          1,
          1,
          1,
          1,
          1,
          1,
          1,
          1,
          1,
          1,
          1,
          1,
          1,
          1,
          1,
          1,
          1,
          1,
          1,
          1,
          1,
          1,
          1,
          1,
          1,
          1,
          1,
          1,
          1,
          1,
          1,
          1,
          1,
          1
         ]
        },
        {
         "marker": {
          "color": "#cccccc"
         },
         "mode": "markers",
         "name": "Infeasible Trial",
         "showlegend": false,
         "type": "scatter",
         "x": [],
         "y": []
        }
       ],
       "layout": {
        "template": {
         "data": {
          "bar": [
           {
            "error_x": {
             "color": "#2a3f5f"
            },
            "error_y": {
             "color": "#2a3f5f"
            },
            "marker": {
             "line": {
              "color": "#E5ECF6",
              "width": 0.5
             },
             "pattern": {
              "fillmode": "overlay",
              "size": 10,
              "solidity": 0.2
             }
            },
            "type": "bar"
           }
          ],
          "barpolar": [
           {
            "marker": {
             "line": {
              "color": "#E5ECF6",
              "width": 0.5
             },
             "pattern": {
              "fillmode": "overlay",
              "size": 10,
              "solidity": 0.2
             }
            },
            "type": "barpolar"
           }
          ],
          "carpet": [
           {
            "aaxis": {
             "endlinecolor": "#2a3f5f",
             "gridcolor": "white",
             "linecolor": "white",
             "minorgridcolor": "white",
             "startlinecolor": "#2a3f5f"
            },
            "baxis": {
             "endlinecolor": "#2a3f5f",
             "gridcolor": "white",
             "linecolor": "white",
             "minorgridcolor": "white",
             "startlinecolor": "#2a3f5f"
            },
            "type": "carpet"
           }
          ],
          "choropleth": [
           {
            "colorbar": {
             "outlinewidth": 0,
             "ticks": ""
            },
            "type": "choropleth"
           }
          ],
          "contour": [
           {
            "colorbar": {
             "outlinewidth": 0,
             "ticks": ""
            },
            "colorscale": [
             [
              0,
              "#0d0887"
             ],
             [
              0.1111111111111111,
              "#46039f"
             ],
             [
              0.2222222222222222,
              "#7201a8"
             ],
             [
              0.3333333333333333,
              "#9c179e"
             ],
             [
              0.4444444444444444,
              "#bd3786"
             ],
             [
              0.5555555555555556,
              "#d8576b"
             ],
             [
              0.6666666666666666,
              "#ed7953"
             ],
             [
              0.7777777777777778,
              "#fb9f3a"
             ],
             [
              0.8888888888888888,
              "#fdca26"
             ],
             [
              1,
              "#f0f921"
             ]
            ],
            "type": "contour"
           }
          ],
          "contourcarpet": [
           {
            "colorbar": {
             "outlinewidth": 0,
             "ticks": ""
            },
            "type": "contourcarpet"
           }
          ],
          "heatmap": [
           {
            "colorbar": {
             "outlinewidth": 0,
             "ticks": ""
            },
            "colorscale": [
             [
              0,
              "#0d0887"
             ],
             [
              0.1111111111111111,
              "#46039f"
             ],
             [
              0.2222222222222222,
              "#7201a8"
             ],
             [
              0.3333333333333333,
              "#9c179e"
             ],
             [
              0.4444444444444444,
              "#bd3786"
             ],
             [
              0.5555555555555556,
              "#d8576b"
             ],
             [
              0.6666666666666666,
              "#ed7953"
             ],
             [
              0.7777777777777778,
              "#fb9f3a"
             ],
             [
              0.8888888888888888,
              "#fdca26"
             ],
             [
              1,
              "#f0f921"
             ]
            ],
            "type": "heatmap"
           }
          ],
          "heatmapgl": [
           {
            "colorbar": {
             "outlinewidth": 0,
             "ticks": ""
            },
            "colorscale": [
             [
              0,
              "#0d0887"
             ],
             [
              0.1111111111111111,
              "#46039f"
             ],
             [
              0.2222222222222222,
              "#7201a8"
             ],
             [
              0.3333333333333333,
              "#9c179e"
             ],
             [
              0.4444444444444444,
              "#bd3786"
             ],
             [
              0.5555555555555556,
              "#d8576b"
             ],
             [
              0.6666666666666666,
              "#ed7953"
             ],
             [
              0.7777777777777778,
              "#fb9f3a"
             ],
             [
              0.8888888888888888,
              "#fdca26"
             ],
             [
              1,
              "#f0f921"
             ]
            ],
            "type": "heatmapgl"
           }
          ],
          "histogram": [
           {
            "marker": {
             "pattern": {
              "fillmode": "overlay",
              "size": 10,
              "solidity": 0.2
             }
            },
            "type": "histogram"
           }
          ],
          "histogram2d": [
           {
            "colorbar": {
             "outlinewidth": 0,
             "ticks": ""
            },
            "colorscale": [
             [
              0,
              "#0d0887"
             ],
             [
              0.1111111111111111,
              "#46039f"
             ],
             [
              0.2222222222222222,
              "#7201a8"
             ],
             [
              0.3333333333333333,
              "#9c179e"
             ],
             [
              0.4444444444444444,
              "#bd3786"
             ],
             [
              0.5555555555555556,
              "#d8576b"
             ],
             [
              0.6666666666666666,
              "#ed7953"
             ],
             [
              0.7777777777777778,
              "#fb9f3a"
             ],
             [
              0.8888888888888888,
              "#fdca26"
             ],
             [
              1,
              "#f0f921"
             ]
            ],
            "type": "histogram2d"
           }
          ],
          "histogram2dcontour": [
           {
            "colorbar": {
             "outlinewidth": 0,
             "ticks": ""
            },
            "colorscale": [
             [
              0,
              "#0d0887"
             ],
             [
              0.1111111111111111,
              "#46039f"
             ],
             [
              0.2222222222222222,
              "#7201a8"
             ],
             [
              0.3333333333333333,
              "#9c179e"
             ],
             [
              0.4444444444444444,
              "#bd3786"
             ],
             [
              0.5555555555555556,
              "#d8576b"
             ],
             [
              0.6666666666666666,
              "#ed7953"
             ],
             [
              0.7777777777777778,
              "#fb9f3a"
             ],
             [
              0.8888888888888888,
              "#fdca26"
             ],
             [
              1,
              "#f0f921"
             ]
            ],
            "type": "histogram2dcontour"
           }
          ],
          "mesh3d": [
           {
            "colorbar": {
             "outlinewidth": 0,
             "ticks": ""
            },
            "type": "mesh3d"
           }
          ],
          "parcoords": [
           {
            "line": {
             "colorbar": {
              "outlinewidth": 0,
              "ticks": ""
             }
            },
            "type": "parcoords"
           }
          ],
          "pie": [
           {
            "automargin": true,
            "type": "pie"
           }
          ],
          "scatter": [
           {
            "fillpattern": {
             "fillmode": "overlay",
             "size": 10,
             "solidity": 0.2
            },
            "type": "scatter"
           }
          ],
          "scatter3d": [
           {
            "line": {
             "colorbar": {
              "outlinewidth": 0,
              "ticks": ""
             }
            },
            "marker": {
             "colorbar": {
              "outlinewidth": 0,
              "ticks": ""
             }
            },
            "type": "scatter3d"
           }
          ],
          "scattercarpet": [
           {
            "marker": {
             "colorbar": {
              "outlinewidth": 0,
              "ticks": ""
             }
            },
            "type": "scattercarpet"
           }
          ],
          "scattergeo": [
           {
            "marker": {
             "colorbar": {
              "outlinewidth": 0,
              "ticks": ""
             }
            },
            "type": "scattergeo"
           }
          ],
          "scattergl": [
           {
            "marker": {
             "colorbar": {
              "outlinewidth": 0,
              "ticks": ""
             }
            },
            "type": "scattergl"
           }
          ],
          "scattermapbox": [
           {
            "marker": {
             "colorbar": {
              "outlinewidth": 0,
              "ticks": ""
             }
            },
            "type": "scattermapbox"
           }
          ],
          "scatterpolar": [
           {
            "marker": {
             "colorbar": {
              "outlinewidth": 0,
              "ticks": ""
             }
            },
            "type": "scatterpolar"
           }
          ],
          "scatterpolargl": [
           {
            "marker": {
             "colorbar": {
              "outlinewidth": 0,
              "ticks": ""
             }
            },
            "type": "scatterpolargl"
           }
          ],
          "scatterternary": [
           {
            "marker": {
             "colorbar": {
              "outlinewidth": 0,
              "ticks": ""
             }
            },
            "type": "scatterternary"
           }
          ],
          "surface": [
           {
            "colorbar": {
             "outlinewidth": 0,
             "ticks": ""
            },
            "colorscale": [
             [
              0,
              "#0d0887"
             ],
             [
              0.1111111111111111,
              "#46039f"
             ],
             [
              0.2222222222222222,
              "#7201a8"
             ],
             [
              0.3333333333333333,
              "#9c179e"
             ],
             [
              0.4444444444444444,
              "#bd3786"
             ],
             [
              0.5555555555555556,
              "#d8576b"
             ],
             [
              0.6666666666666666,
              "#ed7953"
             ],
             [
              0.7777777777777778,
              "#fb9f3a"
             ],
             [
              0.8888888888888888,
              "#fdca26"
             ],
             [
              1,
              "#f0f921"
             ]
            ],
            "type": "surface"
           }
          ],
          "table": [
           {
            "cells": {
             "fill": {
              "color": "#EBF0F8"
             },
             "line": {
              "color": "white"
             }
            },
            "header": {
             "fill": {
              "color": "#C8D4E3"
             },
             "line": {
              "color": "white"
             }
            },
            "type": "table"
           }
          ]
         },
         "layout": {
          "annotationdefaults": {
           "arrowcolor": "#2a3f5f",
           "arrowhead": 0,
           "arrowwidth": 1
          },
          "autotypenumbers": "strict",
          "coloraxis": {
           "colorbar": {
            "outlinewidth": 0,
            "ticks": ""
           }
          },
          "colorscale": {
           "diverging": [
            [
             0,
             "#8e0152"
            ],
            [
             0.1,
             "#c51b7d"
            ],
            [
             0.2,
             "#de77ae"
            ],
            [
             0.3,
             "#f1b6da"
            ],
            [
             0.4,
             "#fde0ef"
            ],
            [
             0.5,
             "#f7f7f7"
            ],
            [
             0.6,
             "#e6f5d0"
            ],
            [
             0.7,
             "#b8e186"
            ],
            [
             0.8,
             "#7fbc41"
            ],
            [
             0.9,
             "#4d9221"
            ],
            [
             1,
             "#276419"
            ]
           ],
           "sequential": [
            [
             0,
             "#0d0887"
            ],
            [
             0.1111111111111111,
             "#46039f"
            ],
            [
             0.2222222222222222,
             "#7201a8"
            ],
            [
             0.3333333333333333,
             "#9c179e"
            ],
            [
             0.4444444444444444,
             "#bd3786"
            ],
            [
             0.5555555555555556,
             "#d8576b"
            ],
            [
             0.6666666666666666,
             "#ed7953"
            ],
            [
             0.7777777777777778,
             "#fb9f3a"
            ],
            [
             0.8888888888888888,
             "#fdca26"
            ],
            [
             1,
             "#f0f921"
            ]
           ],
           "sequentialminus": [
            [
             0,
             "#0d0887"
            ],
            [
             0.1111111111111111,
             "#46039f"
            ],
            [
             0.2222222222222222,
             "#7201a8"
            ],
            [
             0.3333333333333333,
             "#9c179e"
            ],
            [
             0.4444444444444444,
             "#bd3786"
            ],
            [
             0.5555555555555556,
             "#d8576b"
            ],
            [
             0.6666666666666666,
             "#ed7953"
            ],
            [
             0.7777777777777778,
             "#fb9f3a"
            ],
            [
             0.8888888888888888,
             "#fdca26"
            ],
            [
             1,
             "#f0f921"
            ]
           ]
          },
          "colorway": [
           "#636efa",
           "#EF553B",
           "#00cc96",
           "#ab63fa",
           "#FFA15A",
           "#19d3f3",
           "#FF6692",
           "#B6E880",
           "#FF97FF",
           "#FECB52"
          ],
          "font": {
           "color": "#2a3f5f"
          },
          "geo": {
           "bgcolor": "white",
           "lakecolor": "white",
           "landcolor": "#E5ECF6",
           "showlakes": true,
           "showland": true,
           "subunitcolor": "white"
          },
          "hoverlabel": {
           "align": "left"
          },
          "hovermode": "closest",
          "mapbox": {
           "style": "light"
          },
          "paper_bgcolor": "white",
          "plot_bgcolor": "#E5ECF6",
          "polar": {
           "angularaxis": {
            "gridcolor": "white",
            "linecolor": "white",
            "ticks": ""
           },
           "bgcolor": "#E5ECF6",
           "radialaxis": {
            "gridcolor": "white",
            "linecolor": "white",
            "ticks": ""
           }
          },
          "scene": {
           "xaxis": {
            "backgroundcolor": "#E5ECF6",
            "gridcolor": "white",
            "gridwidth": 2,
            "linecolor": "white",
            "showbackground": true,
            "ticks": "",
            "zerolinecolor": "white"
           },
           "yaxis": {
            "backgroundcolor": "#E5ECF6",
            "gridcolor": "white",
            "gridwidth": 2,
            "linecolor": "white",
            "showbackground": true,
            "ticks": "",
            "zerolinecolor": "white"
           },
           "zaxis": {
            "backgroundcolor": "#E5ECF6",
            "gridcolor": "white",
            "gridwidth": 2,
            "linecolor": "white",
            "showbackground": true,
            "ticks": "",
            "zerolinecolor": "white"
           }
          },
          "shapedefaults": {
           "line": {
            "color": "#2a3f5f"
           }
          },
          "ternary": {
           "aaxis": {
            "gridcolor": "white",
            "linecolor": "white",
            "ticks": ""
           },
           "baxis": {
            "gridcolor": "white",
            "linecolor": "white",
            "ticks": ""
           },
           "bgcolor": "#E5ECF6",
           "caxis": {
            "gridcolor": "white",
            "linecolor": "white",
            "ticks": ""
           }
          },
          "title": {
           "x": 0.05
          },
          "xaxis": {
           "automargin": true,
           "gridcolor": "white",
           "linecolor": "white",
           "ticks": "",
           "title": {
            "standoff": 15
           },
           "zerolinecolor": "white",
           "zerolinewidth": 2
          },
          "yaxis": {
           "automargin": true,
           "gridcolor": "white",
           "linecolor": "white",
           "ticks": "",
           "title": {
            "standoff": 15
           },
           "zerolinecolor": "white",
           "zerolinewidth": 2
          }
         }
        },
        "title": {
         "text": "Optimization History Plot"
        },
        "xaxis": {
         "title": {
          "text": "Trial"
         }
        },
        "yaxis": {
         "title": {
          "text": "Objective Value"
         }
        }
       }
      }
     },
     "metadata": {},
     "output_type": "display_data"
    }
   ],
   "source": [
    "print(studyKNN.best_params)\n",
    "optuna.visualization.plot_optimization_history(studyKNN)"
   ]
  },
  {
   "cell_type": "code",
   "execution_count": 371,
   "metadata": {},
   "outputs": [
    {
     "data": {
      "application/vnd.plotly.v1+json": {
       "config": {
        "plotlyServerURL": "https://plot.ly"
       },
       "data": [
        {
         "dimensions": [
          {
           "label": "Objective Value",
           "range": [
            0.93,
            1
           ],
           "values": [
            0.94,
            0.94,
            0.95,
            1,
            0.93,
            0.93,
            0.94,
            1,
            1,
            0.945,
            1,
            1,
            1,
            1,
            0.975,
            1,
            0.975,
            1,
            0.94,
            0.97,
            1,
            1,
            1,
            1,
            1,
            1,
            0.975,
            1,
            1,
            1,
            0.94,
            1,
            1,
            1,
            1,
            1,
            1,
            1,
            0.94,
            0.95,
            1,
            0.975,
            1,
            0.93,
            1,
            1,
            0.975,
            0.94,
            1,
            1,
            0.97,
            1,
            1,
            1,
            1,
            1,
            1,
            1,
            1,
            1,
            1,
            1,
            1,
            0.975,
            1,
            1,
            0.975,
            1,
            1,
            1,
            1,
            1,
            1,
            1,
            1,
            1,
            1,
            0.94,
            1,
            1,
            1,
            1,
            1,
            0.945,
            1,
            1,
            1,
            1,
            1,
            1,
            0.94,
            1,
            1,
            1,
            0.97,
            1,
            1,
            1,
            1,
            1
           ]
          },
          {
           "label": "K",
           "range": [
            1,
            20
           ],
           "values": [
            11,
            13,
            10,
            1,
            18,
            19,
            17,
            4,
            4,
            12,
            1,
            5,
            1,
            6,
            7,
            3,
            8,
            2,
            15,
            9,
            4,
            4,
            3,
            6,
            2,
            5,
            8,
            1,
            3,
            5,
            11,
            2,
            1,
            4,
            1,
            3,
            6,
            2,
            15,
            10,
            4,
            7,
            5,
            20,
            1,
            2,
            7,
            13,
            5,
            3,
            9,
            1,
            3,
            2,
            4,
            2,
            1,
            6,
            4,
            3,
            5,
            6,
            2,
            8,
            4,
            1,
            7,
            3,
            2,
            5,
            4,
            3,
            1,
            2,
            6,
            3,
            4,
            17,
            1,
            5,
            2,
            3,
            1,
            12,
            2,
            4,
            2,
            3,
            1,
            5,
            15,
            6,
            4,
            3,
            9,
            5,
            4,
            2,
            1,
            3
           ]
          }
         ],
         "labelangle": 30,
         "labelside": "bottom",
         "line": {
          "color": [
           0.94,
           0.94,
           0.95,
           1,
           0.93,
           0.93,
           0.94,
           1,
           1,
           0.945,
           1,
           1,
           1,
           1,
           0.975,
           1,
           0.975,
           1,
           0.94,
           0.97,
           1,
           1,
           1,
           1,
           1,
           1,
           0.975,
           1,
           1,
           1,
           0.94,
           1,
           1,
           1,
           1,
           1,
           1,
           1,
           0.94,
           0.95,
           1,
           0.975,
           1,
           0.93,
           1,
           1,
           0.975,
           0.94,
           1,
           1,
           0.97,
           1,
           1,
           1,
           1,
           1,
           1,
           1,
           1,
           1,
           1,
           1,
           1,
           0.975,
           1,
           1,
           0.975,
           1,
           1,
           1,
           1,
           1,
           1,
           1,
           1,
           1,
           1,
           0.94,
           1,
           1,
           1,
           1,
           1,
           0.945,
           1,
           1,
           1,
           1,
           1,
           1,
           0.94,
           1,
           1,
           1,
           0.97,
           1,
           1,
           1,
           1,
           1
          ],
          "colorbar": {
           "title": {
            "text": "Objective Value"
           }
          },
          "colorscale": [
           [
            0,
            "rgb(247,251,255)"
           ],
           [
            0.125,
            "rgb(222,235,247)"
           ],
           [
            0.25,
            "rgb(198,219,239)"
           ],
           [
            0.375,
            "rgb(158,202,225)"
           ],
           [
            0.5,
            "rgb(107,174,214)"
           ],
           [
            0.625,
            "rgb(66,146,198)"
           ],
           [
            0.75,
            "rgb(33,113,181)"
           ],
           [
            0.875,
            "rgb(8,81,156)"
           ],
           [
            1,
            "rgb(8,48,107)"
           ]
          ],
          "reversescale": false,
          "showscale": true
         },
         "type": "parcoords"
        }
       ],
       "layout": {
        "template": {
         "data": {
          "bar": [
           {
            "error_x": {
             "color": "#2a3f5f"
            },
            "error_y": {
             "color": "#2a3f5f"
            },
            "marker": {
             "line": {
              "color": "#E5ECF6",
              "width": 0.5
             },
             "pattern": {
              "fillmode": "overlay",
              "size": 10,
              "solidity": 0.2
             }
            },
            "type": "bar"
           }
          ],
          "barpolar": [
           {
            "marker": {
             "line": {
              "color": "#E5ECF6",
              "width": 0.5
             },
             "pattern": {
              "fillmode": "overlay",
              "size": 10,
              "solidity": 0.2
             }
            },
            "type": "barpolar"
           }
          ],
          "carpet": [
           {
            "aaxis": {
             "endlinecolor": "#2a3f5f",
             "gridcolor": "white",
             "linecolor": "white",
             "minorgridcolor": "white",
             "startlinecolor": "#2a3f5f"
            },
            "baxis": {
             "endlinecolor": "#2a3f5f",
             "gridcolor": "white",
             "linecolor": "white",
             "minorgridcolor": "white",
             "startlinecolor": "#2a3f5f"
            },
            "type": "carpet"
           }
          ],
          "choropleth": [
           {
            "colorbar": {
             "outlinewidth": 0,
             "ticks": ""
            },
            "type": "choropleth"
           }
          ],
          "contour": [
           {
            "colorbar": {
             "outlinewidth": 0,
             "ticks": ""
            },
            "colorscale": [
             [
              0,
              "#0d0887"
             ],
             [
              0.1111111111111111,
              "#46039f"
             ],
             [
              0.2222222222222222,
              "#7201a8"
             ],
             [
              0.3333333333333333,
              "#9c179e"
             ],
             [
              0.4444444444444444,
              "#bd3786"
             ],
             [
              0.5555555555555556,
              "#d8576b"
             ],
             [
              0.6666666666666666,
              "#ed7953"
             ],
             [
              0.7777777777777778,
              "#fb9f3a"
             ],
             [
              0.8888888888888888,
              "#fdca26"
             ],
             [
              1,
              "#f0f921"
             ]
            ],
            "type": "contour"
           }
          ],
          "contourcarpet": [
           {
            "colorbar": {
             "outlinewidth": 0,
             "ticks": ""
            },
            "type": "contourcarpet"
           }
          ],
          "heatmap": [
           {
            "colorbar": {
             "outlinewidth": 0,
             "ticks": ""
            },
            "colorscale": [
             [
              0,
              "#0d0887"
             ],
             [
              0.1111111111111111,
              "#46039f"
             ],
             [
              0.2222222222222222,
              "#7201a8"
             ],
             [
              0.3333333333333333,
              "#9c179e"
             ],
             [
              0.4444444444444444,
              "#bd3786"
             ],
             [
              0.5555555555555556,
              "#d8576b"
             ],
             [
              0.6666666666666666,
              "#ed7953"
             ],
             [
              0.7777777777777778,
              "#fb9f3a"
             ],
             [
              0.8888888888888888,
              "#fdca26"
             ],
             [
              1,
              "#f0f921"
             ]
            ],
            "type": "heatmap"
           }
          ],
          "heatmapgl": [
           {
            "colorbar": {
             "outlinewidth": 0,
             "ticks": ""
            },
            "colorscale": [
             [
              0,
              "#0d0887"
             ],
             [
              0.1111111111111111,
              "#46039f"
             ],
             [
              0.2222222222222222,
              "#7201a8"
             ],
             [
              0.3333333333333333,
              "#9c179e"
             ],
             [
              0.4444444444444444,
              "#bd3786"
             ],
             [
              0.5555555555555556,
              "#d8576b"
             ],
             [
              0.6666666666666666,
              "#ed7953"
             ],
             [
              0.7777777777777778,
              "#fb9f3a"
             ],
             [
              0.8888888888888888,
              "#fdca26"
             ],
             [
              1,
              "#f0f921"
             ]
            ],
            "type": "heatmapgl"
           }
          ],
          "histogram": [
           {
            "marker": {
             "pattern": {
              "fillmode": "overlay",
              "size": 10,
              "solidity": 0.2
             }
            },
            "type": "histogram"
           }
          ],
          "histogram2d": [
           {
            "colorbar": {
             "outlinewidth": 0,
             "ticks": ""
            },
            "colorscale": [
             [
              0,
              "#0d0887"
             ],
             [
              0.1111111111111111,
              "#46039f"
             ],
             [
              0.2222222222222222,
              "#7201a8"
             ],
             [
              0.3333333333333333,
              "#9c179e"
             ],
             [
              0.4444444444444444,
              "#bd3786"
             ],
             [
              0.5555555555555556,
              "#d8576b"
             ],
             [
              0.6666666666666666,
              "#ed7953"
             ],
             [
              0.7777777777777778,
              "#fb9f3a"
             ],
             [
              0.8888888888888888,
              "#fdca26"
             ],
             [
              1,
              "#f0f921"
             ]
            ],
            "type": "histogram2d"
           }
          ],
          "histogram2dcontour": [
           {
            "colorbar": {
             "outlinewidth": 0,
             "ticks": ""
            },
            "colorscale": [
             [
              0,
              "#0d0887"
             ],
             [
              0.1111111111111111,
              "#46039f"
             ],
             [
              0.2222222222222222,
              "#7201a8"
             ],
             [
              0.3333333333333333,
              "#9c179e"
             ],
             [
              0.4444444444444444,
              "#bd3786"
             ],
             [
              0.5555555555555556,
              "#d8576b"
             ],
             [
              0.6666666666666666,
              "#ed7953"
             ],
             [
              0.7777777777777778,
              "#fb9f3a"
             ],
             [
              0.8888888888888888,
              "#fdca26"
             ],
             [
              1,
              "#f0f921"
             ]
            ],
            "type": "histogram2dcontour"
           }
          ],
          "mesh3d": [
           {
            "colorbar": {
             "outlinewidth": 0,
             "ticks": ""
            },
            "type": "mesh3d"
           }
          ],
          "parcoords": [
           {
            "line": {
             "colorbar": {
              "outlinewidth": 0,
              "ticks": ""
             }
            },
            "type": "parcoords"
           }
          ],
          "pie": [
           {
            "automargin": true,
            "type": "pie"
           }
          ],
          "scatter": [
           {
            "fillpattern": {
             "fillmode": "overlay",
             "size": 10,
             "solidity": 0.2
            },
            "type": "scatter"
           }
          ],
          "scatter3d": [
           {
            "line": {
             "colorbar": {
              "outlinewidth": 0,
              "ticks": ""
             }
            },
            "marker": {
             "colorbar": {
              "outlinewidth": 0,
              "ticks": ""
             }
            },
            "type": "scatter3d"
           }
          ],
          "scattercarpet": [
           {
            "marker": {
             "colorbar": {
              "outlinewidth": 0,
              "ticks": ""
             }
            },
            "type": "scattercarpet"
           }
          ],
          "scattergeo": [
           {
            "marker": {
             "colorbar": {
              "outlinewidth": 0,
              "ticks": ""
             }
            },
            "type": "scattergeo"
           }
          ],
          "scattergl": [
           {
            "marker": {
             "colorbar": {
              "outlinewidth": 0,
              "ticks": ""
             }
            },
            "type": "scattergl"
           }
          ],
          "scattermapbox": [
           {
            "marker": {
             "colorbar": {
              "outlinewidth": 0,
              "ticks": ""
             }
            },
            "type": "scattermapbox"
           }
          ],
          "scatterpolar": [
           {
            "marker": {
             "colorbar": {
              "outlinewidth": 0,
              "ticks": ""
             }
            },
            "type": "scatterpolar"
           }
          ],
          "scatterpolargl": [
           {
            "marker": {
             "colorbar": {
              "outlinewidth": 0,
              "ticks": ""
             }
            },
            "type": "scatterpolargl"
           }
          ],
          "scatterternary": [
           {
            "marker": {
             "colorbar": {
              "outlinewidth": 0,
              "ticks": ""
             }
            },
            "type": "scatterternary"
           }
          ],
          "surface": [
           {
            "colorbar": {
             "outlinewidth": 0,
             "ticks": ""
            },
            "colorscale": [
             [
              0,
              "#0d0887"
             ],
             [
              0.1111111111111111,
              "#46039f"
             ],
             [
              0.2222222222222222,
              "#7201a8"
             ],
             [
              0.3333333333333333,
              "#9c179e"
             ],
             [
              0.4444444444444444,
              "#bd3786"
             ],
             [
              0.5555555555555556,
              "#d8576b"
             ],
             [
              0.6666666666666666,
              "#ed7953"
             ],
             [
              0.7777777777777778,
              "#fb9f3a"
             ],
             [
              0.8888888888888888,
              "#fdca26"
             ],
             [
              1,
              "#f0f921"
             ]
            ],
            "type": "surface"
           }
          ],
          "table": [
           {
            "cells": {
             "fill": {
              "color": "#EBF0F8"
             },
             "line": {
              "color": "white"
             }
            },
            "header": {
             "fill": {
              "color": "#C8D4E3"
             },
             "line": {
              "color": "white"
             }
            },
            "type": "table"
           }
          ]
         },
         "layout": {
          "annotationdefaults": {
           "arrowcolor": "#2a3f5f",
           "arrowhead": 0,
           "arrowwidth": 1
          },
          "autotypenumbers": "strict",
          "coloraxis": {
           "colorbar": {
            "outlinewidth": 0,
            "ticks": ""
           }
          },
          "colorscale": {
           "diverging": [
            [
             0,
             "#8e0152"
            ],
            [
             0.1,
             "#c51b7d"
            ],
            [
             0.2,
             "#de77ae"
            ],
            [
             0.3,
             "#f1b6da"
            ],
            [
             0.4,
             "#fde0ef"
            ],
            [
             0.5,
             "#f7f7f7"
            ],
            [
             0.6,
             "#e6f5d0"
            ],
            [
             0.7,
             "#b8e186"
            ],
            [
             0.8,
             "#7fbc41"
            ],
            [
             0.9,
             "#4d9221"
            ],
            [
             1,
             "#276419"
            ]
           ],
           "sequential": [
            [
             0,
             "#0d0887"
            ],
            [
             0.1111111111111111,
             "#46039f"
            ],
            [
             0.2222222222222222,
             "#7201a8"
            ],
            [
             0.3333333333333333,
             "#9c179e"
            ],
            [
             0.4444444444444444,
             "#bd3786"
            ],
            [
             0.5555555555555556,
             "#d8576b"
            ],
            [
             0.6666666666666666,
             "#ed7953"
            ],
            [
             0.7777777777777778,
             "#fb9f3a"
            ],
            [
             0.8888888888888888,
             "#fdca26"
            ],
            [
             1,
             "#f0f921"
            ]
           ],
           "sequentialminus": [
            [
             0,
             "#0d0887"
            ],
            [
             0.1111111111111111,
             "#46039f"
            ],
            [
             0.2222222222222222,
             "#7201a8"
            ],
            [
             0.3333333333333333,
             "#9c179e"
            ],
            [
             0.4444444444444444,
             "#bd3786"
            ],
            [
             0.5555555555555556,
             "#d8576b"
            ],
            [
             0.6666666666666666,
             "#ed7953"
            ],
            [
             0.7777777777777778,
             "#fb9f3a"
            ],
            [
             0.8888888888888888,
             "#fdca26"
            ],
            [
             1,
             "#f0f921"
            ]
           ]
          },
          "colorway": [
           "#636efa",
           "#EF553B",
           "#00cc96",
           "#ab63fa",
           "#FFA15A",
           "#19d3f3",
           "#FF6692",
           "#B6E880",
           "#FF97FF",
           "#FECB52"
          ],
          "font": {
           "color": "#2a3f5f"
          },
          "geo": {
           "bgcolor": "white",
           "lakecolor": "white",
           "landcolor": "#E5ECF6",
           "showlakes": true,
           "showland": true,
           "subunitcolor": "white"
          },
          "hoverlabel": {
           "align": "left"
          },
          "hovermode": "closest",
          "mapbox": {
           "style": "light"
          },
          "paper_bgcolor": "white",
          "plot_bgcolor": "#E5ECF6",
          "polar": {
           "angularaxis": {
            "gridcolor": "white",
            "linecolor": "white",
            "ticks": ""
           },
           "bgcolor": "#E5ECF6",
           "radialaxis": {
            "gridcolor": "white",
            "linecolor": "white",
            "ticks": ""
           }
          },
          "scene": {
           "xaxis": {
            "backgroundcolor": "#E5ECF6",
            "gridcolor": "white",
            "gridwidth": 2,
            "linecolor": "white",
            "showbackground": true,
            "ticks": "",
            "zerolinecolor": "white"
           },
           "yaxis": {
            "backgroundcolor": "#E5ECF6",
            "gridcolor": "white",
            "gridwidth": 2,
            "linecolor": "white",
            "showbackground": true,
            "ticks": "",
            "zerolinecolor": "white"
           },
           "zaxis": {
            "backgroundcolor": "#E5ECF6",
            "gridcolor": "white",
            "gridwidth": 2,
            "linecolor": "white",
            "showbackground": true,
            "ticks": "",
            "zerolinecolor": "white"
           }
          },
          "shapedefaults": {
           "line": {
            "color": "#2a3f5f"
           }
          },
          "ternary": {
           "aaxis": {
            "gridcolor": "white",
            "linecolor": "white",
            "ticks": ""
           },
           "baxis": {
            "gridcolor": "white",
            "linecolor": "white",
            "ticks": ""
           },
           "bgcolor": "#E5ECF6",
           "caxis": {
            "gridcolor": "white",
            "linecolor": "white",
            "ticks": ""
           }
          },
          "title": {
           "x": 0.05
          },
          "xaxis": {
           "automargin": true,
           "gridcolor": "white",
           "linecolor": "white",
           "ticks": "",
           "title": {
            "standoff": 15
           },
           "zerolinecolor": "white",
           "zerolinewidth": 2
          },
          "yaxis": {
           "automargin": true,
           "gridcolor": "white",
           "linecolor": "white",
           "ticks": "",
           "title": {
            "standoff": 15
           },
           "zerolinecolor": "white",
           "zerolinewidth": 2
          }
         }
        },
        "title": {
         "text": "Parallel Coordinate Plot"
        }
       }
      }
     },
     "metadata": {},
     "output_type": "display_data"
    }
   ],
   "source": [
    "optuna.visualization.plot_parallel_coordinate(studyKNN)"
   ]
  },
  {
   "cell_type": "markdown",
   "metadata": {},
   "source": [
    "Validación"
   ]
  },
  {
   "cell_type": "code",
   "execution_count": 372,
   "metadata": {},
   "outputs": [
    {
     "name": "stdout",
     "output_type": "stream",
     "text": [
      "              precision    recall  f1-score   support\n",
      "\n",
      "         Low       1.00      1.00      1.00        63\n",
      "      Medium       1.00      1.00      1.00        72\n",
      "        High       1.00      1.00      1.00        65\n",
      "\n",
      "    accuracy                           1.00       200\n",
      "   macro avg       1.00      1.00      1.00       200\n",
      "weighted avg       1.00      1.00      1.00       200\n",
      "\n"
     ]
    },
    {
     "data": {
      "text/plain": [
       "<sklearn.metrics._plot.confusion_matrix.ConfusionMatrixDisplay at 0x1f7dca1b2e0>"
      ]
     },
     "execution_count": 372,
     "metadata": {},
     "output_type": "execute_result"
    },
    {
     "data": {
      "image/png": "[encoded data removed]",
      "text/plain": [
       "<Figure size 640x480 with 2 Axes>"
      ]
     },
     "metadata": {},
     "output_type": "display_data"
    }
   ],
   "source": [
    "k=studyKNN.best_params['K']\n",
    "\n",
    "\n",
    "#entrenamiento\n",
    "KNN=neighbors.KNeighborsClassifier(n_neighbors=k)\n",
    "KNN.fit(X_train,y_train)\n",
    "\n",
    "#prediccion\n",
    "y_pred = KNN.predict(X_val)\n",
    "\n",
    "#metricas\n",
    "print(metrics.classification_report(y_val,y_pred,target_names=['Low','Medium','High']))\n",
    "\n",
    "cm=metrics.confusion_matrix(y_val,y_pred)\n",
    "disp=metrics.ConfusionMatrixDisplay(cm,display_labels=['Low','Medium','High'])\n",
    "disp.plot()"
   ]
  },
  {
   "cell_type": "markdown",
   "metadata": {},
   "source": [
    "### Transformación en los datos"
   ]
  },
  {
   "cell_type": "markdown",
   "metadata": {},
   "source": [
    "Análisis de componentes principales"
   ]
  },
  {
   "cell_type": "code",
   "execution_count": 373,
   "metadata": {},
   "outputs": [
    {
     "data": {
      "text/html": [
       "<style>#sk-container-id-12 {color: black;}#sk-container-id-12 pre{padding: 0;}#sk-container-id-12 div.sk-toggleable {background-color: white;}#sk-container-id-12 label.sk-toggleable__label {cursor: pointer;display: block;width: 100%;margin-bottom: 0;padding: 0.3em;box-sizing: border-box;text-align: center;}#sk-container-id-12 label.sk-toggleable__label-arrow:before {content: \"▸\";float: left;margin-right: 0.25em;color: #696969;}#sk-container-id-12 label.sk-toggleable__label-arrow:hover:before {color: black;}#sk-container-id-12 div.sk-estimator:hover label.sk-toggleable__label-arrow:before {color: black;}#sk-container-id-12 div.sk-toggleable__content {max-height: 0;max-width: 0;overflow: hidden;text-align: left;background-color: #f0f8ff;}#sk-container-id-12 div.sk-toggleable__content pre {margin: 0.2em;color: black;border-radius: 0.25em;background-color: #f0f8ff;}#sk-container-id-12 input.sk-toggleable__control:checked~div.sk-toggleable__content {max-height: 200px;max-width: 100%;overflow: auto;}#sk-container-id-12 input.sk-toggleable__control:checked~label.sk-toggleable__label-arrow:before {content: \"▾\";}#sk-container-id-12 div.sk-estimator input.sk-toggleable__control:checked~label.sk-toggleable__label {background-color: #d4ebff;}#sk-container-id-12 div.sk-label input.sk-toggleable__control:checked~label.sk-toggleable__label {background-color: #d4ebff;}#sk-container-id-12 input.sk-hidden--visually {border: 0;clip: rect(1px 1px 1px 1px);clip: rect(1px, 1px, 1px, 1px);height: 1px;margin: -1px;overflow: hidden;padding: 0;position: absolute;width: 1px;}#sk-container-id-12 div.sk-estimator {font-family: monospace;background-color: #f0f8ff;border: 1px dotted black;border-radius: 0.25em;box-sizing: border-box;margin-bottom: 0.5em;}#sk-container-id-12 div.sk-estimator:hover {background-color: #d4ebff;}#sk-container-id-12 div.sk-parallel-item::after {content: \"\";width: 100%;border-bottom: 1px solid gray;flex-grow: 1;}#sk-container-id-12 div.sk-label:hover label.sk-toggleable__label {background-color: #d4ebff;}#sk-container-id-12 div.sk-serial::before {content: \"\";position: absolute;border-left: 1px solid gray;box-sizing: border-box;top: 0;bottom: 0;left: 50%;z-index: 0;}#sk-container-id-12 div.sk-serial {display: flex;flex-direction: column;align-items: center;background-color: white;padding-right: 0.2em;padding-left: 0.2em;position: relative;}#sk-container-id-12 div.sk-item {position: relative;z-index: 1;}#sk-container-id-12 div.sk-parallel {display: flex;align-items: stretch;justify-content: center;background-color: white;position: relative;}#sk-container-id-12 div.sk-item::before, #sk-container-id-12 div.sk-parallel-item::before {content: \"\";position: absolute;border-left: 1px solid gray;box-sizing: border-box;top: 0;bottom: 0;left: 50%;z-index: -1;}#sk-container-id-12 div.sk-parallel-item {display: flex;flex-direction: column;z-index: 1;position: relative;background-color: white;}#sk-container-id-12 div.sk-parallel-item:first-child::after {align-self: flex-end;width: 50%;}#sk-container-id-12 div.sk-parallel-item:last-child::after {align-self: flex-start;width: 50%;}#sk-container-id-12 div.sk-parallel-item:only-child::after {width: 0;}#sk-container-id-12 div.sk-dashed-wrapped {border: 1px dashed gray;margin: 0 0.4em 0.5em 0.4em;box-sizing: border-box;padding-bottom: 0.4em;background-color: white;}#sk-container-id-12 div.sk-label label {font-family: monospace;font-weight: bold;display: inline-block;line-height: 1.2em;}#sk-container-id-12 div.sk-label-container {text-align: center;}#sk-container-id-12 div.sk-container {/* jupyter's `normalize.less` sets `[hidden] { display: none; }` but bootstrap.min.css set `[hidden] { display: none !important; }` so we also need the `!important` here to be able to override the default hidden behavior on the sphinx rendered scikit-learn.org. See: https://github.com/scikit-learn/scikit-learn/issues/21755 */display: inline-block !important;position: relative;}#sk-container-id-12 div.sk-text-repr-fallback {display: none;}</style><div id=\"sk-container-id-12\" class=\"sk-top-container\"><div class=\"sk-text-repr-fallback\"><pre>PCA()</pre><b>In a Jupyter environment, please rerun this cell to show the HTML representation or trust the notebook. <br />On GitHub, the HTML representation is unable to render, please try loading this page with nbviewer.org.</b></div><div class=\"sk-container\" hidden><div class=\"sk-item\"><div class=\"sk-estimator sk-toggleable\"><input class=\"sk-toggleable__control sk-hidden--visually\" id=\"sk-estimator-id-12\" type=\"checkbox\" checked><label for=\"sk-estimator-id-12\" class=\"sk-toggleable__label sk-toggleable__label-arrow\">PCA</label><div class=\"sk-toggleable__content\"><pre>PCA()</pre></div></div></div></div></div>"
      ],
      "text/plain": [
       "PCA()"
      ]
     },
     "execution_count": 373,
     "metadata": {},
     "output_type": "execute_result"
    }
   ],
   "source": [
    "from sklearn.decomposition import PCA\n",
    "from sklearn.preprocessing import StandardScaler\n",
    "\n",
    "scaler = StandardScaler()\n",
    "scaler.fit(X_train)\n",
    "X_train = scaler.transform(X_train)\n",
    "pca = PCA()\n",
    "pca.fit(X_train)"
   ]
  },
  {
   "cell_type": "markdown",
   "metadata": {},
   "source": [
    "Varianza explicada"
   ]
  },
  {
   "cell_type": "code",
   "execution_count": 374,
   "metadata": {},
   "outputs": [
    {
     "data": {
      "image/png": "[encoded data removed]",
      "text/plain": [
       "<Figure size 640x480 with 1 Axes>"
      ]
     },
     "metadata": {},
     "output_type": "display_data"
    }
   ],
   "source": [
    "varExp=pca.explained_variance_ratio_\n",
    "sumVar=varExp.cumsum()\n",
    "n=[i+1 for i in range(len(sumVar))]\n",
    "plt.plot(n,sumVar,'r-o')\n",
    "for a,b in zip(n, sumVar): \n",
    "    plt.text(a+0.3, b-0.01, str(round(b*100,1))+\"%\")\n",
    "plt.bar(n,varExp)\n",
    "plt.xlabel(\"Componentes\")\n",
    "plt.ylabel(\"Varianza explicada\")\n",
    "plt.show()"
   ]
  },
  {
   "cell_type": "code",
   "execution_count": 375,
   "metadata": {},
   "outputs": [],
   "source": [
    "pca = PCA(3)\n",
    "pca.fit(X_train)\n",
    "\n",
    "X_train = pca.transform(X_train)\n",
    "\n",
    "X_test = scaler.transform(X_test)\n",
    "X_test = pca.transform(X_test)\n",
    "\n",
    "X_val = scaler.transform(X_val)\n",
    "X_val = pca.transform(X_val)"
   ]
  },
  {
   "cell_type": "code",
   "execution_count": 376,
   "metadata": {},
   "outputs": [
    {
     "data": {
      "text/plain": [
       "<matplotlib.legend.Legend at 0x1f7de45e0b0>"
      ]
     },
     "execution_count": 376,
     "metadata": {},
     "output_type": "execute_result"
    },
    {
     "data": {
      "image/png": "[encoded data removed]",
      "text/plain": [
       "<Figure size 640x480 with 1 Axes>"
      ]
     },
     "metadata": {},
     "output_type": "display_data"
    }
   ],
   "source": [
    "ax=plt.axes(projection='3d')\n",
    "xdata=X_train[:,0]\n",
    "ydata=X_train[:,1]\n",
    "zdata=X_train[:,2]\n",
    "sc=ax.scatter3D(xdata,ydata,zdata,c=y_train)\n",
    "ax.legend(*sc.legend_elements())"
   ]
  },
  {
   "cell_type": "markdown",
   "metadata": {},
   "source": [
    "Entrenamos y validamos la svm"
   ]
  },
  {
   "cell_type": "code",
   "execution_count": 377,
   "metadata": {},
   "outputs": [
    {
     "name": "stderr",
     "output_type": "stream",
     "text": [
      "[I 2023-11-24 20:40:38,151] A new study created in memory with name: no-name-ee5227c5-56ed-4532-aa31-fb897e52306f\n",
      "[I 2023-11-24 20:40:38,171] Trial 0 finished with value: 0.615 and parameters: {'svm_C': 0.0071037458479573275, 'Kernel': 'sigmoid'}. Best is trial 0 with value: 0.615.\n",
      "[I 2023-11-24 20:40:38,178] Trial 1 finished with value: 0.94 and parameters: {'svm_C': 4.746318491792026, 'Kernel': 'sigmoid'}. Best is trial 1 with value: 0.94.\n",
      "[I 2023-11-24 20:40:38,197] Trial 2 finished with value: 0.375 and parameters: {'svm_C': 2.189470549892549e-05, 'Kernel': 'sigmoid'}. Best is trial 1 with value: 0.94.\n",
      "[I 2023-11-24 20:40:38,209] Trial 3 finished with value: 0.375 and parameters: {'svm_C': 0.0007695249716093502, 'Kernel': 'poly'}. Best is trial 1 with value: 0.94.\n",
      "[I 2023-11-24 20:40:38,218] Trial 4 finished with value: 0.965 and parameters: {'svm_C': 5.946280139414352, 'Kernel': 'rbf'}. Best is trial 4 with value: 0.965.\n",
      "[I 2023-11-24 20:40:38,225] Trial 5 finished with value: 0.955 and parameters: {'svm_C': 0.6613210562918347, 'Kernel': 'rbf'}. Best is trial 4 with value: 0.965.\n",
      "[I 2023-11-24 20:40:38,243] Trial 6 finished with value: 0.375 and parameters: {'svm_C': 1.1906169711736387e-06, 'Kernel': 'rbf'}. Best is trial 4 with value: 0.965.\n",
      "[I 2023-11-24 20:40:38,261] Trial 7 finished with value: 0.375 and parameters: {'svm_C': 0.0008518641765468673, 'Kernel': 'sigmoid'}. Best is trial 4 with value: 0.965.\n",
      "[I 2023-11-24 20:40:38,267] Trial 8 finished with value: 0.95 and parameters: {'svm_C': 0.00987612171156438, 'Kernel': 'linear'}. Best is trial 4 with value: 0.965.\n",
      "[I 2023-11-24 20:40:38,277] Trial 9 finished with value: 0.375 and parameters: {'svm_C': 3.990086121805194e-09, 'Kernel': 'poly'}. Best is trial 4 with value: 0.965.\n",
      "[I 2023-11-24 20:40:38,286] Trial 10 finished with value: 1.0 and parameters: {'svm_C': 367.9951423967629, 'Kernel': 'rbf'}. Best is trial 10 with value: 1.0.\n",
      "[I 2023-11-24 20:40:38,294] Trial 11 finished with value: 0.995 and parameters: {'svm_C': 882.0777548809672, 'Kernel': 'rbf'}. Best is trial 10 with value: 1.0.\n",
      "[I 2023-11-24 20:40:38,302] Trial 12 finished with value: 0.995 and parameters: {'svm_C': 895.2318568046726, 'Kernel': 'rbf'}. Best is trial 10 with value: 1.0.\n",
      "[I 2023-11-24 20:40:38,310] Trial 13 finished with value: 0.995 and parameters: {'svm_C': 903.0320830859649, 'Kernel': 'rbf'}. Best is trial 10 with value: 1.0.\n",
      "[I 2023-11-24 20:40:38,324] Trial 14 finished with value: 0.945 and parameters: {'svm_C': 110.87701435788394, 'Kernel': 'linear'}. Best is trial 10 with value: 1.0.\n",
      "[I 2023-11-24 20:40:38,335] Trial 15 finished with value: 0.955 and parameters: {'svm_C': 0.43189259598525753, 'Kernel': 'rbf'}. Best is trial 10 with value: 1.0.\n",
      "[I 2023-11-24 20:40:38,343] Trial 16 finished with value: 1.0 and parameters: {'svm_C': 72.42978168144741, 'Kernel': 'rbf'}. Best is trial 10 with value: 1.0.\n",
      "[I 2023-11-24 20:40:38,352] Trial 17 finished with value: 0.995 and parameters: {'svm_C': 20.639853624040075, 'Kernel': 'rbf'}. Best is trial 10 with value: 1.0.\n",
      "[I 2023-11-24 20:40:38,360] Trial 18 finished with value: 0.955 and parameters: {'svm_C': 0.1557284134861, 'Kernel': 'linear'}. Best is trial 10 with value: 1.0.\n",
      "[I 2023-11-24 20:40:38,369] Trial 19 finished with value: 0.965 and parameters: {'svm_C': 37.22813307167835, 'Kernel': 'poly'}. Best is trial 10 with value: 1.0.\n",
      "[I 2023-11-24 20:40:38,380] Trial 20 finished with value: 0.95 and parameters: {'svm_C': 0.20169512528476452, 'Kernel': 'rbf'}. Best is trial 10 with value: 1.0.\n",
      "[I 2023-11-24 20:40:38,389] Trial 21 finished with value: 0.995 and parameters: {'svm_C': 996.2308597455462, 'Kernel': 'rbf'}. Best is trial 10 with value: 1.0.\n",
      "[I 2023-11-24 20:40:38,397] Trial 22 finished with value: 1.0 and parameters: {'svm_C': 94.64072462317988, 'Kernel': 'rbf'}. Best is trial 10 with value: 1.0.\n",
      "[I 2023-11-24 20:40:38,406] Trial 23 finished with value: 1.0 and parameters: {'svm_C': 44.14311596493997, 'Kernel': 'rbf'}. Best is trial 10 with value: 1.0.\n",
      "[I 2023-11-24 20:40:38,414] Trial 24 finished with value: 0.965 and parameters: {'svm_C': 4.5124573510433805, 'Kernel': 'rbf'}. Best is trial 10 with value: 1.0.\n",
      "[I 2023-11-24 20:40:38,423] Trial 25 finished with value: 1.0 and parameters: {'svm_C': 84.9584232992741, 'Kernel': 'rbf'}. Best is trial 10 with value: 1.0.\n",
      "[I 2023-11-24 20:40:38,432] Trial 26 finished with value: 0.965 and parameters: {'svm_C': 2.182926322571108, 'Kernel': 'rbf'}. Best is trial 10 with value: 1.0.\n",
      "[I 2023-11-24 20:40:38,446] Trial 27 finished with value: 0.945 and parameters: {'svm_C': 74.74060198367684, 'Kernel': 'linear'}. Best is trial 10 with value: 1.0.\n",
      "[I 2023-11-24 20:40:38,457] Trial 28 finished with value: 0.855 and parameters: {'svm_C': 0.02759482979335331, 'Kernel': 'poly'}. Best is trial 10 with value: 1.0.\n",
      "[I 2023-11-24 20:40:38,467] Trial 29 finished with value: 0.85 and parameters: {'svm_C': 1.1431843726420943, 'Kernel': 'sigmoid'}. Best is trial 10 with value: 1.0.\n",
      "[I 2023-11-24 20:40:38,483] Trial 30 finished with value: 0.95 and parameters: {'svm_C': 0.058324620762817664, 'Kernel': 'rbf'}. Best is trial 10 with value: 1.0.\n",
      "[I 2023-11-24 20:40:38,492] Trial 31 finished with value: 0.995 and parameters: {'svm_C': 19.260053995456367, 'Kernel': 'rbf'}. Best is trial 10 with value: 1.0.\n",
      "[I 2023-11-24 20:40:38,500] Trial 32 finished with value: 1.0 and parameters: {'svm_C': 90.08766013919775, 'Kernel': 'rbf'}. Best is trial 10 with value: 1.0.\n",
      "[I 2023-11-24 20:40:38,509] Trial 33 finished with value: 0.965 and parameters: {'svm_C': 2.070501047471007, 'Kernel': 'rbf'}. Best is trial 10 with value: 1.0.\n",
      "[I 2023-11-24 20:40:38,519] Trial 34 finished with value: 0.94 and parameters: {'svm_C': 11.820294395861614, 'Kernel': 'sigmoid'}. Best is trial 10 with value: 1.0.\n",
      "[I 2023-11-24 20:40:38,528] Trial 35 finished with value: 1.0 and parameters: {'svm_C': 245.45435963133477, 'Kernel': 'rbf'}. Best is trial 10 with value: 1.0.\n",
      "[I 2023-11-24 20:40:38,537] Trial 36 finished with value: 0.965 and parameters: {'svm_C': 6.933262034914987, 'Kernel': 'rbf'}. Best is trial 10 with value: 1.0.\n",
      "[I 2023-11-24 20:40:38,545] Trial 37 finished with value: 0.975 and parameters: {'svm_C': 230.93783027597615, 'Kernel': 'poly'}. Best is trial 10 with value: 1.0.\n",
      "[I 2023-11-24 20:40:38,554] Trial 38 finished with value: 0.92 and parameters: {'svm_C': 22.86625165913476, 'Kernel': 'sigmoid'}. Best is trial 10 with value: 1.0.\n",
      "[I 2023-11-24 20:40:38,564] Trial 39 finished with value: 0.955 and parameters: {'svm_C': 0.8745021036465195, 'Kernel': 'rbf'}. Best is trial 10 with value: 1.0.\n",
      "[I 2023-11-24 20:40:38,573] Trial 40 finished with value: 0.965 and parameters: {'svm_C': 9.603299940276553, 'Kernel': 'rbf'}. Best is trial 10 with value: 1.0.\n",
      "[I 2023-11-24 20:40:38,582] Trial 41 finished with value: 1.0 and parameters: {'svm_C': 79.30595028325538, 'Kernel': 'rbf'}. Best is trial 10 with value: 1.0.\n",
      "[I 2023-11-24 20:40:38,590] Trial 42 finished with value: 1.0 and parameters: {'svm_C': 250.95143464791616, 'Kernel': 'rbf'}. Best is trial 10 with value: 1.0.\n",
      "[I 2023-11-24 20:40:38,599] Trial 43 finished with value: 0.965 and parameters: {'svm_C': 5.854783797524216, 'Kernel': 'rbf'}. Best is trial 10 with value: 1.0.\n",
      "[I 2023-11-24 20:40:38,608] Trial 44 finished with value: 1.0 and parameters: {'svm_C': 43.5662073863942, 'Kernel': 'rbf'}. Best is trial 10 with value: 1.0.\n",
      "[I 2023-11-24 20:40:38,616] Trial 45 finished with value: 1.0 and parameters: {'svm_C': 244.70147733416675, 'Kernel': 'rbf'}. Best is trial 10 with value: 1.0.\n",
      "[I 2023-11-24 20:40:38,639] Trial 46 finished with value: 0.375 and parameters: {'svm_C': 0.0038517344827122216, 'Kernel': 'rbf'}. Best is trial 10 with value: 1.0.\n",
      "[I 2023-11-24 20:40:38,649] Trial 47 finished with value: 0.955 and parameters: {'svm_C': 1.8307129840817087, 'Kernel': 'linear'}. Best is trial 10 with value: 1.0.\n",
      "[I 2023-11-24 20:40:38,657] Trial 48 finished with value: 0.905 and parameters: {'svm_C': 295.8724585428067, 'Kernel': 'sigmoid'}. Best is trial 10 with value: 1.0.\n",
      "[I 2023-11-24 20:40:38,666] Trial 49 finished with value: 1.0 and parameters: {'svm_C': 37.56871545416073, 'Kernel': 'rbf'}. Best is trial 10 with value: 1.0.\n",
      "[I 2023-11-24 20:40:38,680] Trial 50 finished with value: 0.375 and parameters: {'svm_C': 4.5908159728739954e-05, 'Kernel': 'poly'}. Best is trial 10 with value: 1.0.\n",
      "[I 2023-11-24 20:40:38,690] Trial 51 finished with value: 1.0 and parameters: {'svm_C': 119.86904611434878, 'Kernel': 'rbf'}. Best is trial 10 with value: 1.0.\n",
      "[I 2023-11-24 20:40:38,698] Trial 52 finished with value: 1.0 and parameters: {'svm_C': 86.50841076582797, 'Kernel': 'rbf'}. Best is trial 10 with value: 1.0.\n",
      "[I 2023-11-24 20:40:38,707] Trial 53 finished with value: 0.995 and parameters: {'svm_C': 747.8973997631279, 'Kernel': 'rbf'}. Best is trial 10 with value: 1.0.\n",
      "[I 2023-11-24 20:40:38,716] Trial 54 finished with value: 0.965 and parameters: {'svm_C': 10.721398816111602, 'Kernel': 'rbf'}. Best is trial 10 with value: 1.0.\n",
      "[I 2023-11-24 20:40:38,727] Trial 55 finished with value: 0.95 and parameters: {'svm_C': 0.3608955203510759, 'Kernel': 'rbf'}. Best is trial 10 with value: 1.0.\n",
      "[I 2023-11-24 20:40:38,738] Trial 56 finished with value: 0.945 and parameters: {'svm_C': 36.1929586678051, 'Kernel': 'linear'}. Best is trial 10 with value: 1.0.\n",
      "[I 2023-11-24 20:40:38,748] Trial 57 finished with value: 0.965 and parameters: {'svm_C': 3.835736505954214, 'Kernel': 'rbf'}. Best is trial 10 with value: 1.0.\n",
      "[I 2023-11-24 20:40:38,756] Trial 58 finished with value: 1.0 and parameters: {'svm_C': 505.57075956786207, 'Kernel': 'rbf'}. Best is trial 10 with value: 1.0.\n",
      "[I 2023-11-24 20:40:38,765] Trial 59 finished with value: 1.0 and parameters: {'svm_C': 131.5104699991928, 'Kernel': 'rbf'}. Best is trial 10 with value: 1.0.\n",
      "[I 2023-11-24 20:40:38,781] Trial 60 finished with value: 0.975 and parameters: {'svm_C': 929.6984070121117, 'Kernel': 'poly'}. Best is trial 10 with value: 1.0.\n",
      "[I 2023-11-24 20:40:38,790] Trial 61 finished with value: 1.0 and parameters: {'svm_C': 283.6188809562957, 'Kernel': 'rbf'}. Best is trial 10 with value: 1.0.\n",
      "[I 2023-11-24 20:40:38,798] Trial 62 finished with value: 1.0 and parameters: {'svm_C': 78.05641451299066, 'Kernel': 'rbf'}. Best is trial 10 with value: 1.0.\n",
      "[I 2023-11-24 20:40:38,808] Trial 63 finished with value: 0.995 and parameters: {'svm_C': 22.687809165532556, 'Kernel': 'rbf'}. Best is trial 10 with value: 1.0.\n",
      "[I 2023-11-24 20:40:38,816] Trial 64 finished with value: 1.0 and parameters: {'svm_C': 395.33437707605543, 'Kernel': 'rbf'}. Best is trial 10 with value: 1.0.\n",
      "[I 2023-11-24 20:40:38,826] Trial 65 finished with value: 0.99 and parameters: {'svm_C': 16.39587892580469, 'Kernel': 'rbf'}. Best is trial 10 with value: 1.0.\n",
      "[I 2023-11-24 20:40:38,834] Trial 66 finished with value: 1.0 and parameters: {'svm_C': 138.33613618588814, 'Kernel': 'rbf'}. Best is trial 10 with value: 1.0.\n",
      "[I 2023-11-24 20:40:38,843] Trial 67 finished with value: 0.955 and parameters: {'svm_C': 3.103314828639724, 'Kernel': 'linear'}. Best is trial 10 with value: 1.0.\n",
      "[I 2023-11-24 20:40:38,853] Trial 68 finished with value: 0.91 and parameters: {'svm_C': 46.01915874392771, 'Kernel': 'sigmoid'}. Best is trial 10 with value: 1.0.\n",
      "[I 2023-11-24 20:40:38,861] Trial 69 finished with value: 1.0 and parameters: {'svm_C': 483.1325980368416, 'Kernel': 'rbf'}. Best is trial 10 with value: 1.0.\n",
      "[I 2023-11-24 20:40:38,871] Trial 70 finished with value: 0.965 and parameters: {'svm_C': 6.793839708151264, 'Kernel': 'rbf'}. Best is trial 10 with value: 1.0.\n",
      "[I 2023-11-24 20:40:38,880] Trial 71 finished with value: 1.0 and parameters: {'svm_C': 84.82636276112422, 'Kernel': 'rbf'}. Best is trial 10 with value: 1.0.\n",
      "[I 2023-11-24 20:40:38,889] Trial 72 finished with value: 1.0 and parameters: {'svm_C': 57.62437403550075, 'Kernel': 'rbf'}. Best is trial 10 with value: 1.0.\n",
      "[I 2023-11-24 20:40:38,898] Trial 73 finished with value: 0.99 and parameters: {'svm_C': 16.749958967352054, 'Kernel': 'rbf'}. Best is trial 10 with value: 1.0.\n",
      "[I 2023-11-24 20:40:38,908] Trial 74 finished with value: 1.0 and parameters: {'svm_C': 143.608947050333, 'Kernel': 'rbf'}. Best is trial 10 with value: 1.0.\n",
      "[I 2023-11-24 20:40:38,917] Trial 75 finished with value: 0.995 and parameters: {'svm_C': 990.382807180763, 'Kernel': 'rbf'}. Best is trial 10 with value: 1.0.\n",
      "[I 2023-11-24 20:40:38,925] Trial 76 finished with value: 1.0 and parameters: {'svm_C': 226.13786510975848, 'Kernel': 'rbf'}. Best is trial 10 with value: 1.0.\n",
      "[I 2023-11-24 20:40:38,935] Trial 77 finished with value: 0.955 and parameters: {'svm_C': 1.337661981412688, 'Kernel': 'rbf'}. Best is trial 10 with value: 1.0.\n",
      "[I 2023-11-24 20:40:38,944] Trial 78 finished with value: 0.965 and parameters: {'svm_C': 35.64772987033853, 'Kernel': 'poly'}. Best is trial 10 with value: 1.0.\n",
      "[I 2023-11-24 20:40:38,953] Trial 79 finished with value: 0.965 and parameters: {'svm_C': 9.912818565766608, 'Kernel': 'rbf'}. Best is trial 10 with value: 1.0.\n",
      "[I 2023-11-24 20:40:38,961] Trial 80 finished with value: 1.0 and parameters: {'svm_C': 454.2771758257348, 'Kernel': 'rbf'}. Best is trial 10 with value: 1.0.\n",
      "[I 2023-11-24 20:40:38,970] Trial 81 finished with value: 1.0 and parameters: {'svm_C': 187.59515120553712, 'Kernel': 'rbf'}. Best is trial 10 with value: 1.0.\n",
      "[I 2023-11-24 20:40:38,979] Trial 82 finished with value: 1.0 and parameters: {'svm_C': 73.49185274791533, 'Kernel': 'rbf'}. Best is trial 10 with value: 1.0.\n",
      "[I 2023-11-24 20:40:38,988] Trial 83 finished with value: 1.0 and parameters: {'svm_C': 290.60240704042144, 'Kernel': 'rbf'}. Best is trial 10 with value: 1.0.\n",
      "[I 2023-11-24 20:40:38,997] Trial 84 finished with value: 0.91 and parameters: {'svm_C': 26.464333702514374, 'Kernel': 'sigmoid'}. Best is trial 10 with value: 1.0.\n",
      "[I 2023-11-24 20:40:39,008] Trial 85 finished with value: 1.0 and parameters: {'svm_C': 140.2153100113371, 'Kernel': 'rbf'}. Best is trial 10 with value: 1.0.\n",
      "[I 2023-11-24 20:40:39,021] Trial 86 finished with value: 0.945 and parameters: {'svm_C': 55.604640604051625, 'Kernel': 'linear'}. Best is trial 10 with value: 1.0.\n",
      "[I 2023-11-24 20:40:39,031] Trial 87 finished with value: 1.0 and parameters: {'svm_C': 448.83800941794686, 'Kernel': 'rbf'}. Best is trial 10 with value: 1.0.\n",
      "[I 2023-11-24 20:40:39,040] Trial 88 finished with value: 0.965 and parameters: {'svm_C': 4.768464355316936, 'Kernel': 'rbf'}. Best is trial 10 with value: 1.0.\n",
      "[I 2023-11-24 20:40:39,049] Trial 89 finished with value: 0.965 and parameters: {'svm_C': 11.365202301378835, 'Kernel': 'rbf'}. Best is trial 10 with value: 1.0.\n",
      "[I 2023-11-24 20:40:39,058] Trial 90 finished with value: 1.0 and parameters: {'svm_C': 158.18082547949314, 'Kernel': 'rbf'}. Best is trial 10 with value: 1.0.\n",
      "[I 2023-11-24 20:40:39,066] Trial 91 finished with value: 1.0 and parameters: {'svm_C': 36.98866705842409, 'Kernel': 'rbf'}. Best is trial 10 with value: 1.0.\n",
      "[I 2023-11-24 20:40:39,076] Trial 92 finished with value: 1.0 and parameters: {'svm_C': 58.26998282521508, 'Kernel': 'rbf'}. Best is trial 10 with value: 1.0.\n",
      "[I 2023-11-24 20:40:39,084] Trial 93 finished with value: 1.0 and parameters: {'svm_C': 534.7979561864354, 'Kernel': 'rbf'}. Best is trial 10 with value: 1.0.\n",
      "[I 2023-11-24 20:40:39,094] Trial 94 finished with value: 0.995 and parameters: {'svm_C': 24.87122594210196, 'Kernel': 'rbf'}. Best is trial 10 with value: 1.0.\n",
      "[I 2023-11-24 20:40:39,103] Trial 95 finished with value: 1.0 and parameters: {'svm_C': 251.76373815534552, 'Kernel': 'rbf'}. Best is trial 10 with value: 1.0.\n",
      "[I 2023-11-24 20:40:39,112] Trial 96 finished with value: 0.935 and parameters: {'svm_C': 2.7533291229095798, 'Kernel': 'poly'}. Best is trial 10 with value: 1.0.\n",
      "[I 2023-11-24 20:40:39,122] Trial 97 finished with value: 0.99 and parameters: {'svm_C': 15.257243835182377, 'Kernel': 'rbf'}. Best is trial 10 with value: 1.0.\n",
      "[I 2023-11-24 20:40:39,132] Trial 98 finished with value: 1.0 and parameters: {'svm_C': 69.35803347299571, 'Kernel': 'rbf'}. Best is trial 10 with value: 1.0.\n",
      "[I 2023-11-24 20:40:39,144] Trial 99 finished with value: 0.94 and parameters: {'svm_C': 6.100793865601212, 'Kernel': 'sigmoid'}. Best is trial 10 with value: 1.0.\n"
     ]
    },
    {
     "name": "stdout",
     "output_type": "stream",
     "text": [
      "Mejores Parametros:  367.9951423967629 rbf\n",
      "              precision    recall  f1-score   support\n",
      "\n",
      "         Low       0.98      1.00      0.99        63\n",
      "      Medium       1.00      0.99      0.99        72\n",
      "        High       1.00      1.00      1.00        65\n",
      "\n",
      "    accuracy                           0.99       200\n",
      "   macro avg       0.99      1.00      1.00       200\n",
      "weighted avg       1.00      0.99      1.00       200\n",
      "\n"
     ]
    },
    {
     "data": {
      "text/plain": [
       "<sklearn.metrics._plot.confusion_matrix.ConfusionMatrixDisplay at 0x1f7dc9e74c0>"
      ]
     },
     "execution_count": 377,
     "metadata": {},
     "output_type": "execute_result"
    },
    {
     "data": {
      "image/png": "[encoded data removed]",
      "text/plain": [
       "<Figure size 640x480 with 2 Axes>"
      ]
     },
     "metadata": {},
     "output_type": "display_data"
    }
   ],
   "source": [
    "def objectiveSVM(trial):\n",
    "    svm_C=trial.suggest_float('svm_C',1e-10,1e3,log=True)\n",
    "    krn=trial.suggest_categorical('Kernel',['linear','poly','rbf','sigmoid'])\n",
    "    #entrenamiento\n",
    "    mvs=svm.SVC(C=svm_C,kernel=krn)\n",
    "    mvs.fit(X_train,y_train)\n",
    " \n",
    "    #prediccion\n",
    "    y_pred = mvs.predict(X_test)\n",
    "\n",
    "    #metrica\n",
    "    recall=metrics.recall_score(y_test,y_pred,average='micro')\n",
    "    return recall\n",
    "\n",
    "studySVM = optuna.create_study(direction='maximize')\n",
    "studySVM.optimize(objectiveSVM, n_trials=100)\n",
    "\n",
    "CBest=studySVM.best_params['svm_C']\n",
    "krn=studySVM.best_params['Kernel']\n",
    "print(\"Mejores Parametros: \",CBest,krn)\n",
    "\n",
    "mvs=svm.SVC(C=CBest,kernel=krn)\n",
    "mvs.fit(X_train,y_train)\n",
    "\n",
    "#prediccion\n",
    "y_pred = mvs.predict(X_val)\n",
    "\n",
    "#metricas\n",
    "print(metrics.classification_report(y_val,y_pred,target_names=['Low','Medium','High']))\n",
    "\n",
    "cm=metrics.confusion_matrix(y_val,y_pred)\n",
    "disp=metrics.ConfusionMatrixDisplay(cm,display_labels=['Low','Medium','High'])\n",
    "disp.plot()"
   ]
  },
  {
   "cell_type": "markdown",
   "metadata": {},
   "source": [
    "Entrenamos y validamos el random forest"
   ]
  },
  {
   "cell_type": "code",
   "execution_count": 378,
   "metadata": {},
   "outputs": [
    {
     "name": "stderr",
     "output_type": "stream",
     "text": [
      "[I 2023-11-24 20:40:39,301] A new study created in memory with name: no-name-5abb6336-537a-4253-b340-123cf67706f0\n",
      "[I 2023-11-24 20:40:39,421] Trial 0 finished with value: 1.0 and parameters: {'Criterion': 'gini', 'Max_depth': 13, 'estimators': 121}. Best is trial 0 with value: 1.0.\n",
      "[I 2023-11-24 20:40:39,542] Trial 1 finished with value: 0.955 and parameters: {'Criterion': 'log_loss', 'Max_depth': 2, 'estimators': 132}. Best is trial 0 with value: 1.0.\n",
      "[I 2023-11-24 20:40:39,628] Trial 2 finished with value: 1.0 and parameters: {'Criterion': 'entropy', 'Max_depth': 11, 'estimators': 84}. Best is trial 0 with value: 1.0.\n",
      "[I 2023-11-24 20:40:39,758] Trial 3 finished with value: 1.0 and parameters: {'Criterion': 'log_loss', 'Max_depth': 10, 'estimators': 131}. Best is trial 0 with value: 1.0.\n",
      "[I 2023-11-24 20:40:39,858] Trial 4 finished with value: 1.0 and parameters: {'Criterion': 'entropy', 'Max_depth': 12, 'estimators': 102}. Best is trial 0 with value: 1.0.\n",
      "[I 2023-11-24 20:40:39,917] Trial 5 finished with value: 1.0 and parameters: {'Criterion': 'gini', 'Max_depth': 14, 'estimators': 57}. Best is trial 0 with value: 1.0.\n",
      "[I 2023-11-24 20:40:39,945] Trial 6 finished with value: 1.0 and parameters: {'Criterion': 'log_loss', 'Max_depth': 6, 'estimators': 26}. Best is trial 0 with value: 1.0.\n",
      "[I 2023-11-24 20:40:39,983] Trial 7 finished with value: 1.0 and parameters: {'Criterion': 'log_loss', 'Max_depth': 15, 'estimators': 36}. Best is trial 0 with value: 1.0.\n",
      "[I 2023-11-24 20:40:40,094] Trial 8 finished with value: 1.0 and parameters: {'Criterion': 'log_loss', 'Max_depth': 15, 'estimators': 111}. Best is trial 0 with value: 1.0.\n",
      "[I 2023-11-24 20:40:40,196] Trial 9 finished with value: 1.0 and parameters: {'Criterion': 'log_loss', 'Max_depth': 9, 'estimators': 103}. Best is trial 0 with value: 1.0.\n",
      "[I 2023-11-24 20:40:40,349] Trial 10 finished with value: 1.0 and parameters: {'Criterion': 'gini', 'Max_depth': 5, 'estimators': 150}. Best is trial 0 with value: 1.0.\n",
      "[I 2023-11-24 20:40:40,434] Trial 11 finished with value: 1.0 and parameters: {'Criterion': 'entropy', 'Max_depth': 11, 'estimators': 75}. Best is trial 0 with value: 1.0.\n",
      "[I 2023-11-24 20:40:40,519] Trial 12 finished with value: 1.0 and parameters: {'Criterion': 'entropy', 'Max_depth': 12, 'estimators': 77}. Best is trial 0 with value: 1.0.\n",
      "[I 2023-11-24 20:40:40,534] Trial 13 finished with value: 0.995 and parameters: {'Criterion': 'gini', 'Max_depth': 7, 'estimators': 4}. Best is trial 0 with value: 1.0.\n",
      "[I 2023-11-24 20:40:40,623] Trial 14 finished with value: 1.0 and parameters: {'Criterion': 'entropy', 'Max_depth': 13, 'estimators': 82}. Best is trial 0 with value: 1.0.\n",
      "[I 2023-11-24 20:40:40,751] Trial 15 finished with value: 1.0 and parameters: {'Criterion': 'gini', 'Max_depth': 9, 'estimators': 121}. Best is trial 0 with value: 1.0.\n",
      "[I 2023-11-24 20:40:40,844] Trial 16 finished with value: 1.0 and parameters: {'Criterion': 'gini', 'Max_depth': 4, 'estimators': 89}. Best is trial 0 with value: 1.0.\n",
      "[I 2023-11-24 20:40:40,915] Trial 17 finished with value: 1.0 and parameters: {'Criterion': 'entropy', 'Max_depth': 11, 'estimators': 60}. Best is trial 0 with value: 1.0.\n",
      "[I 2023-11-24 20:40:41,068] Trial 18 finished with value: 1.0 and parameters: {'Criterion': 'gini', 'Max_depth': 8, 'estimators': 148}. Best is trial 0 with value: 1.0.\n",
      "[I 2023-11-24 20:40:41,134] Trial 19 finished with value: 1.0 and parameters: {'Criterion': 'entropy', 'Max_depth': 13, 'estimators': 55}. Best is trial 0 with value: 1.0.\n",
      "[I 2023-11-24 20:40:41,234] Trial 20 finished with value: 1.0 and parameters: {'Criterion': 'entropy', 'Max_depth': 10, 'estimators': 91}. Best is trial 0 with value: 1.0.\n",
      "[I 2023-11-24 20:40:41,372] Trial 21 finished with value: 1.0 and parameters: {'Criterion': 'log_loss', 'Max_depth': 10, 'estimators': 129}. Best is trial 0 with value: 1.0.\n",
      "[I 2023-11-24 20:40:41,513] Trial 22 finished with value: 1.0 and parameters: {'Criterion': 'gini', 'Max_depth': 13, 'estimators': 136}. Best is trial 0 with value: 1.0.\n",
      "[I 2023-11-24 20:40:41,636] Trial 23 finished with value: 1.0 and parameters: {'Criterion': 'log_loss', 'Max_depth': 11, 'estimators': 114}. Best is trial 0 with value: 1.0.\n",
      "[I 2023-11-24 20:40:41,782] Trial 24 finished with value: 1.0 and parameters: {'Criterion': 'log_loss', 'Max_depth': 9, 'estimators': 136}. Best is trial 0 with value: 1.0.\n",
      "[I 2023-11-24 20:40:41,890] Trial 25 finished with value: 1.0 and parameters: {'Criterion': 'gini', 'Max_depth': 12, 'estimators': 102}. Best is trial 0 with value: 1.0.\n",
      "[I 2023-11-24 20:40:42,023] Trial 26 finished with value: 1.0 and parameters: {'Criterion': 'entropy', 'Max_depth': 14, 'estimators': 124}. Best is trial 0 with value: 1.0.\n",
      "[I 2023-11-24 20:40:42,101] Trial 27 finished with value: 1.0 and parameters: {'Criterion': 'gini', 'Max_depth': 7, 'estimators': 69}. Best is trial 0 with value: 1.0.\n",
      "[I 2023-11-24 20:40:42,226] Trial 28 finished with value: 1.0 and parameters: {'Criterion': 'entropy', 'Max_depth': 10, 'estimators': 114}. Best is trial 0 with value: 1.0.\n",
      "[I 2023-11-24 20:40:42,281] Trial 29 finished with value: 1.0 and parameters: {'Criterion': 'log_loss', 'Max_depth': 8, 'estimators': 43}. Best is trial 0 with value: 1.0.\n",
      "[I 2023-11-24 20:40:42,425] Trial 30 finished with value: 1.0 and parameters: {'Criterion': 'log_loss', 'Max_depth': 14, 'estimators': 139}. Best is trial 0 with value: 1.0.\n",
      "[I 2023-11-24 20:40:42,543] Trial 31 finished with value: 1.0 and parameters: {'Criterion': 'entropy', 'Max_depth': 12, 'estimators': 109}. Best is trial 0 with value: 1.0.\n",
      "[I 2023-11-24 20:40:42,632] Trial 32 finished with value: 0.915 and parameters: {'Criterion': 'entropy', 'Max_depth': 1, 'estimators': 91}. Best is trial 0 with value: 1.0.\n",
      "[I 2023-11-24 20:40:42,740] Trial 33 finished with value: 1.0 and parameters: {'Criterion': 'entropy', 'Max_depth': 12, 'estimators': 99}. Best is trial 0 with value: 1.0.\n",
      "[I 2023-11-24 20:40:42,869] Trial 34 finished with value: 1.0 and parameters: {'Criterion': 'entropy', 'Max_depth': 11, 'estimators': 120}. Best is trial 0 with value: 1.0.\n",
      "[I 2023-11-24 20:40:43,007] Trial 35 finished with value: 1.0 and parameters: {'Criterion': 'log_loss', 'Max_depth': 15, 'estimators': 128}. Best is trial 0 with value: 1.0.\n",
      "[I 2023-11-24 20:40:43,116] Trial 36 finished with value: 1.0 and parameters: {'Criterion': 'entropy', 'Max_depth': 14, 'estimators': 98}. Best is trial 0 with value: 1.0.\n",
      "[I 2023-11-24 20:40:43,263] Trial 37 finished with value: 1.0 and parameters: {'Criterion': 'gini', 'Max_depth': 13, 'estimators': 143}. Best is trial 0 with value: 1.0.\n",
      "[I 2023-11-24 20:40:43,381] Trial 38 finished with value: 1.0 and parameters: {'Criterion': 'log_loss', 'Max_depth': 10, 'estimators': 107}. Best is trial 0 with value: 1.0.\n",
      "[I 2023-11-24 20:40:43,476] Trial 39 finished with value: 1.0 and parameters: {'Criterion': 'entropy', 'Max_depth': 9, 'estimators': 85}. Best is trial 0 with value: 1.0.\n",
      "[I 2023-11-24 20:40:43,557] Trial 40 finished with value: 1.0 and parameters: {'Criterion': 'log_loss', 'Max_depth': 12, 'estimators': 70}. Best is trial 0 with value: 1.0.\n",
      "[I 2023-11-24 20:40:43,598] Trial 41 finished with value: 1.0 and parameters: {'Criterion': 'gini', 'Max_depth': 14, 'estimators': 29}. Best is trial 0 with value: 1.0.\n",
      "[I 2023-11-24 20:40:43,657] Trial 42 finished with value: 1.0 and parameters: {'Criterion': 'gini', 'Max_depth': 15, 'estimators': 49}. Best is trial 0 with value: 1.0.\n",
      "[I 2023-11-24 20:40:43,733] Trial 43 finished with value: 1.0 and parameters: {'Criterion': 'gini', 'Max_depth': 13, 'estimators': 67}. Best is trial 0 with value: 1.0.\n",
      "[I 2023-11-24 20:40:43,759] Trial 44 finished with value: 1.0 and parameters: {'Criterion': 'gini', 'Max_depth': 11, 'estimators': 13}. Best is trial 0 with value: 1.0.\n",
      "[I 2023-11-24 20:40:43,846] Trial 45 finished with value: 0.93 and parameters: {'Criterion': 'gini', 'Max_depth': 3, 'estimators': 81}. Best is trial 0 with value: 1.0.\n",
      "[I 2023-11-24 20:40:43,916] Trial 46 finished with value: 1.0 and parameters: {'Criterion': 'gini', 'Max_depth': 14, 'estimators': 59}. Best is trial 0 with value: 1.0.\n",
      "[I 2023-11-24 20:40:44,046] Trial 47 finished with value: 1.0 and parameters: {'Criterion': 'entropy', 'Max_depth': 12, 'estimators': 121}. Best is trial 0 with value: 1.0.\n",
      "[I 2023-11-24 20:40:44,099] Trial 48 finished with value: 1.0 and parameters: {'Criterion': 'entropy', 'Max_depth': 15, 'estimators': 40}. Best is trial 0 with value: 1.0.\n",
      "[I 2023-11-24 20:40:44,183] Trial 49 finished with value: 1.0 and parameters: {'Criterion': 'gini', 'Max_depth': 11, 'estimators': 74}. Best is trial 0 with value: 1.0.\n",
      "[I 2023-11-24 20:40:44,289] Trial 50 finished with value: 1.0 and parameters: {'Criterion': 'log_loss', 'Max_depth': 6, 'estimators': 97}. Best is trial 0 with value: 1.0.\n",
      "[I 2023-11-24 20:40:44,318] Trial 51 finished with value: 0.995 and parameters: {'Criterion': 'log_loss', 'Max_depth': 5, 'estimators': 15}. Best is trial 0 with value: 1.0.\n",
      "[I 2023-11-24 20:40:44,352] Trial 52 finished with value: 1.0 and parameters: {'Criterion': 'log_loss', 'Max_depth': 7, 'estimators': 20}. Best is trial 0 with value: 1.0.\n",
      "[I 2023-11-24 20:40:44,473] Trial 53 finished with value: 1.0 and parameters: {'Criterion': 'log_loss', 'Max_depth': 6, 'estimators': 113}. Best is trial 0 with value: 1.0.\n",
      "[I 2023-11-24 20:40:44,518] Trial 54 finished with value: 1.0 and parameters: {'Criterion': 'log_loss', 'Max_depth': 8, 'estimators': 32}. Best is trial 0 with value: 1.0.\n",
      "[I 2023-11-24 20:40:44,538] Trial 55 finished with value: 1.0 and parameters: {'Criterion': 'gini', 'Max_depth': 13, 'estimators': 5}. Best is trial 0 with value: 1.0.\n",
      "[I 2023-11-24 20:40:44,679] Trial 56 finished with value: 1.0 and parameters: {'Criterion': 'entropy', 'Max_depth': 10, 'estimators': 131}. Best is trial 0 with value: 1.0.\n",
      "[I 2023-11-24 20:40:44,781] Trial 57 finished with value: 1.0 and parameters: {'Criterion': 'log_loss', 'Max_depth': 11, 'estimators': 91}. Best is trial 0 with value: 1.0.\n",
      "[I 2023-11-24 20:40:44,898] Trial 58 finished with value: 1.0 and parameters: {'Criterion': 'gini', 'Max_depth': 9, 'estimators': 107}. Best is trial 0 with value: 1.0.\n",
      "[I 2023-11-24 20:40:44,962] Trial 59 finished with value: 1.0 and parameters: {'Criterion': 'entropy', 'Max_depth': 13, 'estimators': 52}. Best is trial 0 with value: 1.0.\n",
      "[I 2023-11-24 20:40:45,039] Trial 60 finished with value: 0.995 and parameters: {'Criterion': 'log_loss', 'Max_depth': 10, 'estimators': 64}. Best is trial 0 with value: 1.0.\n",
      "[I 2023-11-24 20:40:45,084] Trial 61 finished with value: 1.0 and parameters: {'Criterion': 'log_loss', 'Max_depth': 15, 'estimators': 33}. Best is trial 0 with value: 1.0.\n",
      "[I 2023-11-24 20:40:45,140] Trial 62 finished with value: 1.0 and parameters: {'Criterion': 'log_loss', 'Max_depth': 14, 'estimators': 42}. Best is trial 0 with value: 1.0.\n",
      "[I 2023-11-24 20:40:45,175] Trial 63 finished with value: 1.0 and parameters: {'Criterion': 'log_loss', 'Max_depth': 12, 'estimators': 21}. Best is trial 0 with value: 1.0.\n",
      "[I 2023-11-24 20:40:45,226] Trial 64 finished with value: 1.0 and parameters: {'Criterion': 'log_loss', 'Max_depth': 13, 'estimators': 37}. Best is trial 0 with value: 1.0.\n",
      "[I 2023-11-24 20:40:45,355] Trial 65 finished with value: 1.0 and parameters: {'Criterion': 'entropy', 'Max_depth': 14, 'estimators': 118}. Best is trial 0 with value: 1.0.\n",
      "[I 2023-11-24 20:40:45,414] Trial 66 finished with value: 1.0 and parameters: {'Criterion': 'log_loss', 'Max_depth': 4, 'estimators': 46}. Best is trial 0 with value: 1.0.\n",
      "[I 2023-11-24 20:40:45,452] Trial 67 finished with value: 1.0 and parameters: {'Criterion': 'entropy', 'Max_depth': 15, 'estimators': 25}. Best is trial 0 with value: 1.0.\n",
      "[I 2023-11-24 20:40:45,601] Trial 68 finished with value: 1.0 and parameters: {'Criterion': 'gini', 'Max_depth': 12, 'estimators': 140}. Best is trial 0 with value: 1.0.\n",
      "[I 2023-11-24 20:40:45,757] Trial 69 finished with value: 1.0 and parameters: {'Criterion': 'log_loss', 'Max_depth': 11, 'estimators': 147}. Best is trial 0 with value: 1.0.\n",
      "[I 2023-11-24 20:40:45,852] Trial 70 finished with value: 1.0 and parameters: {'Criterion': 'entropy', 'Max_depth': 9, 'estimators': 83}. Best is trial 0 with value: 1.0.\n",
      "[I 2023-11-24 20:40:45,979] Trial 71 finished with value: 1.0 and parameters: {'Criterion': 'log_loss', 'Max_depth': 15, 'estimators': 115}. Best is trial 0 with value: 1.0.\n",
      "[I 2023-11-24 20:40:46,118] Trial 72 finished with value: 1.0 and parameters: {'Criterion': 'log_loss', 'Max_depth': 14, 'estimators': 126}. Best is trial 0 with value: 1.0.\n",
      "[I 2023-11-24 20:40:46,262] Trial 73 finished with value: 1.0 and parameters: {'Criterion': 'log_loss', 'Max_depth': 13, 'estimators': 133}. Best is trial 0 with value: 1.0.\n",
      "[I 2023-11-24 20:40:46,377] Trial 74 finished with value: 1.0 and parameters: {'Criterion': 'gini', 'Max_depth': 14, 'estimators': 105}. Best is trial 0 with value: 1.0.\n",
      "[I 2023-11-24 20:40:46,465] Trial 75 finished with value: 1.0 and parameters: {'Criterion': 'log_loss', 'Max_depth': 15, 'estimators': 76}. Best is trial 0 with value: 1.0.\n",
      "[I 2023-11-24 20:40:46,585] Trial 76 finished with value: 1.0 and parameters: {'Criterion': 'entropy', 'Max_depth': 13, 'estimators': 111}. Best is trial 0 with value: 1.0.\n",
      "[I 2023-11-24 20:40:46,654] Trial 77 finished with value: 1.0 and parameters: {'Criterion': 'gini', 'Max_depth': 6, 'estimators': 57}. Best is trial 0 with value: 1.0.\n",
      "[I 2023-11-24 20:40:46,768] Trial 78 finished with value: 1.0 and parameters: {'Criterion': 'log_loss', 'Max_depth': 8, 'estimators': 101}. Best is trial 0 with value: 1.0.\n",
      "[I 2023-11-24 20:40:46,902] Trial 79 finished with value: 1.0 and parameters: {'Criterion': 'entropy', 'Max_depth': 15, 'estimators': 122}. Best is trial 0 with value: 1.0.\n",
      "[I 2023-11-24 20:40:47,027] Trial 80 finished with value: 1.0 and parameters: {'Criterion': 'gini', 'Max_depth': 14, 'estimators': 116}. Best is trial 0 with value: 1.0.\n",
      "[I 2023-11-24 20:40:47,136] Trial 81 finished with value: 1.0 and parameters: {'Criterion': 'log_loss', 'Max_depth': 9, 'estimators': 94}. Best is trial 0 with value: 1.0.\n",
      "[I 2023-11-24 20:40:47,272] Trial 82 finished with value: 1.0 and parameters: {'Criterion': 'log_loss', 'Max_depth': 8, 'estimators': 127}. Best is trial 0 with value: 1.0.\n",
      "[I 2023-11-24 20:40:47,374] Trial 83 finished with value: 1.0 and parameters: {'Criterion': 'log_loss', 'Max_depth': 10, 'estimators': 87}. Best is trial 0 with value: 1.0.\n",
      "[I 2023-11-24 20:40:47,491] Trial 84 finished with value: 1.0 and parameters: {'Criterion': 'log_loss', 'Max_depth': 12, 'estimators': 105}. Best is trial 0 with value: 1.0.\n",
      "[I 2023-11-24 20:40:47,584] Trial 85 finished with value: 1.0 and parameters: {'Criterion': 'log_loss', 'Max_depth': 7, 'estimators': 79}. Best is trial 0 with value: 1.0.\n",
      "[I 2023-11-24 20:40:47,692] Trial 86 finished with value: 1.0 and parameters: {'Criterion': 'gini', 'Max_depth': 11, 'estimators': 96}. Best is trial 0 with value: 1.0.\n",
      "[I 2023-11-24 20:40:47,826] Trial 87 finished with value: 1.0 and parameters: {'Criterion': 'entropy', 'Max_depth': 9, 'estimators': 124}. Best is trial 0 with value: 1.0.\n",
      "[I 2023-11-24 20:40:47,941] Trial 88 finished with value: 1.0 and parameters: {'Criterion': 'log_loss', 'Max_depth': 12, 'estimators': 102}. Best is trial 0 with value: 1.0.\n",
      "[I 2023-11-24 20:40:48,061] Trial 89 finished with value: 1.0 and parameters: {'Criterion': 'log_loss', 'Max_depth': 10, 'estimators': 109}. Best is trial 0 with value: 1.0.\n",
      "[I 2023-11-24 20:40:48,136] Trial 90 finished with value: 1.0 and parameters: {'Criterion': 'gini', 'Max_depth': 11, 'estimators': 62}. Best is trial 0 with value: 1.0.\n",
      "[I 2023-11-24 20:40:48,289] Trial 91 finished with value: 1.0 and parameters: {'Criterion': 'gini', 'Max_depth': 5, 'estimators': 148}. Best is trial 0 with value: 1.0.\n",
      "[I 2023-11-24 20:40:48,417] Trial 92 finished with value: 0.86 and parameters: {'Criterion': 'gini', 'Max_depth': 1, 'estimators': 135}. Best is trial 0 with value: 1.0.\n",
      "[I 2023-11-24 20:40:48,566] Trial 93 finished with value: 1.0 and parameters: {'Criterion': 'gini', 'Max_depth': 5, 'estimators': 144}. Best is trial 0 with value: 1.0.\n",
      "[I 2023-11-24 20:40:48,685] Trial 94 finished with value: 0.945 and parameters: {'Criterion': 'gini', 'Max_depth': 2, 'estimators': 119}. Best is trial 0 with value: 1.0.\n",
      "[I 2023-11-24 20:40:48,823] Trial 95 finished with value: 0.995 and parameters: {'Criterion': 'entropy', 'Max_depth': 4, 'estimators': 130}. Best is trial 0 with value: 1.0.\n",
      "[I 2023-11-24 20:40:48,909] Trial 96 finished with value: 1.0 and parameters: {'Criterion': 'log_loss', 'Max_depth': 5, 'estimators': 73}. Best is trial 0 with value: 1.0.\n",
      "[I 2023-11-24 20:40:49,052] Trial 97 finished with value: 1.0 and parameters: {'Criterion': 'gini', 'Max_depth': 6, 'estimators': 138}. Best is trial 0 with value: 1.0.\n",
      "[I 2023-11-24 20:40:49,092] Trial 98 finished with value: 0.99 and parameters: {'Criterion': 'entropy', 'Max_depth': 4, 'estimators': 27}. Best is trial 0 with value: 1.0.\n",
      "[I 2023-11-24 20:40:49,143] Trial 99 finished with value: 1.0 and parameters: {'Criterion': 'log_loss', 'Max_depth': 10, 'estimators': 37}. Best is trial 0 with value: 1.0.\n"
     ]
    },
    {
     "name": "stdout",
     "output_type": "stream",
     "text": [
      "Mejores Parametros:  gini 13 121\n",
      "              precision    recall  f1-score   support\n",
      "\n",
      "         Low       1.00      1.00      1.00        63\n",
      "      Medium       1.00      1.00      1.00        72\n",
      "        High       1.00      1.00      1.00        65\n",
      "\n",
      "    accuracy                           1.00       200\n",
      "   macro avg       1.00      1.00      1.00       200\n",
      "weighted avg       1.00      1.00      1.00       200\n",
      "\n"
     ]
    },
    {
     "data": {
      "text/plain": [
       "<sklearn.metrics._plot.confusion_matrix.ConfusionMatrixDisplay at 0x1f7c9177b80>"
      ]
     },
     "execution_count": 378,
     "metadata": {},
     "output_type": "execute_result"
    },
    {
     "data": {
      "image/png": "[encoded data removed]",
      "text/plain": [
       "<Figure size 640x480 with 2 Axes>"
      ]
     },
     "metadata": {},
     "output_type": "display_data"
    }
   ],
   "source": [
    "def objectiveRF(trial):\n",
    "    crit=trial.suggest_categorical('Criterion',['gini', 'entropy', 'log_loss'])\n",
    "    depth=trial.suggest_int('Max_depth',1,15)\n",
    "    n=trial.suggest_int('estimators',1,150)\n",
    "\n",
    "    #entrenamiento\n",
    "    RF=ensemble.RandomForestClassifier(n_estimators=n,criterion=crit,max_depth=depth)\n",
    "    RF.fit(X_train,y_train)\n",
    " \n",
    "    #prediccion\n",
    "    y_pred = RF.predict(X_test)\n",
    "\n",
    "    #metrica\n",
    "    recall=metrics.recall_score(y_test,y_pred,average='micro')\n",
    "    return recall\n",
    "\n",
    "studyRF = optuna.create_study(direction='maximize')\n",
    "studyRF.optimize(objectiveRF, n_trials=100)\n",
    "\n",
    "crit=studyRF.best_params['Criterion']\n",
    "depth=studyRF.best_params['Max_depth']\n",
    "n=studyRF.best_params['estimators']\n",
    "print(\"Mejores Parametros: \",crit,depth,n)\n",
    "\n",
    "RF=ensemble.RandomForestClassifier(n_estimators=n,criterion=crit,max_depth=depth)\n",
    "RF.fit(X_train,y_train)\n",
    "\n",
    "#prediccion\n",
    "y_pred = RF.predict(X_val)\n",
    "\n",
    "#metricas\n",
    "print(metrics.classification_report(y_val,y_pred,target_names=['Low','Medium','High']))\n",
    "\n",
    "cm=metrics.confusion_matrix(y_val,y_pred)\n",
    "disp=metrics.ConfusionMatrixDisplay(cm,display_labels=['Low','Medium','High'])\n",
    "disp.plot()"
   ]
  },
  {
   "cell_type": "markdown",
   "metadata": {},
   "source": [
    "Entrenamos y validamos el KNN"
   ]
  },
  {
   "cell_type": "code",
   "execution_count": 379,
   "metadata": {},
   "outputs": [
    {
     "name": "stderr",
     "output_type": "stream",
     "text": [
      "[I 2023-11-24 20:40:49,413] A new study created in memory with name: no-name-d0922449-ba69-4487-a89f-d8136a97f83e\n",
      "[I 2023-11-24 20:40:49,421] Trial 0 finished with value: 0.93 and parameters: {'K': 13}. Best is trial 0 with value: 0.93.\n",
      "[I 2023-11-24 20:40:49,429] Trial 1 finished with value: 1.0 and parameters: {'K': 4}. Best is trial 1 with value: 1.0.\n",
      "[I 2023-11-24 20:40:49,437] Trial 2 finished with value: 0.93 and parameters: {'K': 15}. Best is trial 1 with value: 1.0.\n",
      "[I 2023-11-24 20:40:49,445] Trial 3 finished with value: 0.97 and parameters: {'K': 9}. Best is trial 1 with value: 1.0.\n",
      "[I 2023-11-24 20:40:49,452] Trial 4 finished with value: 0.95 and parameters: {'K': 10}. Best is trial 1 with value: 1.0.\n",
      "[I 2023-11-24 20:40:49,459] Trial 5 finished with value: 0.97 and parameters: {'K': 9}. Best is trial 1 with value: 1.0.\n",
      "[I 2023-11-24 20:40:49,466] Trial 6 finished with value: 0.975 and parameters: {'K': 7}. Best is trial 1 with value: 1.0.\n",
      "[I 2023-11-24 20:40:49,472] Trial 7 finished with value: 1.0 and parameters: {'K': 1}. Best is trial 1 with value: 1.0.\n",
      "[I 2023-11-24 20:40:49,478] Trial 8 finished with value: 0.925 and parameters: {'K': 16}. Best is trial 1 with value: 1.0.\n",
      "[I 2023-11-24 20:40:49,485] Trial 9 finished with value: 1.0 and parameters: {'K': 3}. Best is trial 1 with value: 1.0.\n",
      "[I 2023-11-24 20:40:49,495] Trial 10 finished with value: 0.93 and parameters: {'K': 19}. Best is trial 1 with value: 1.0.\n",
      "[I 2023-11-24 20:40:49,505] Trial 11 finished with value: 1.0 and parameters: {'K': 1}. Best is trial 1 with value: 1.0.\n",
      "[I 2023-11-24 20:40:49,516] Trial 12 finished with value: 1.0 and parameters: {'K': 3}. Best is trial 1 with value: 1.0.\n",
      "[I 2023-11-24 20:40:49,526] Trial 13 finished with value: 1.0 and parameters: {'K': 5}. Best is trial 1 with value: 1.0.\n",
      "[I 2023-11-24 20:40:49,537] Trial 14 finished with value: 1.0 and parameters: {'K': 2}. Best is trial 1 with value: 1.0.\n",
      "[I 2023-11-24 20:40:49,548] Trial 15 finished with value: 1.0 and parameters: {'K': 6}. Best is trial 1 with value: 1.0.\n",
      "[I 2023-11-24 20:40:49,559] Trial 16 finished with value: 1.0 and parameters: {'K': 5}. Best is trial 1 with value: 1.0.\n",
      "[I 2023-11-24 20:40:49,569] Trial 17 finished with value: 1.0 and parameters: {'K': 1}. Best is trial 1 with value: 1.0.\n",
      "[I 2023-11-24 20:40:49,579] Trial 18 finished with value: 1.0 and parameters: {'K': 4}. Best is trial 1 with value: 1.0.\n",
      "[I 2023-11-24 20:40:49,590] Trial 19 finished with value: 0.975 and parameters: {'K': 7}. Best is trial 1 with value: 1.0.\n",
      "[I 2023-11-24 20:40:49,600] Trial 20 finished with value: 0.945 and parameters: {'K': 12}. Best is trial 1 with value: 1.0.\n",
      "[I 2023-11-24 20:40:49,611] Trial 21 finished with value: 1.0 and parameters: {'K': 3}. Best is trial 1 with value: 1.0.\n",
      "[I 2023-11-24 20:40:49,621] Trial 22 finished with value: 1.0 and parameters: {'K': 1}. Best is trial 1 with value: 1.0.\n",
      "[I 2023-11-24 20:40:49,632] Trial 23 finished with value: 1.0 and parameters: {'K': 3}. Best is trial 1 with value: 1.0.\n",
      "[I 2023-11-24 20:40:49,643] Trial 24 finished with value: 0.975 and parameters: {'K': 7}. Best is trial 1 with value: 1.0.\n",
      "[I 2023-11-24 20:40:49,653] Trial 25 finished with value: 1.0 and parameters: {'K': 4}. Best is trial 1 with value: 1.0.\n",
      "[I 2023-11-24 20:40:49,665] Trial 26 finished with value: 1.0 and parameters: {'K': 2}. Best is trial 1 with value: 1.0.\n",
      "[I 2023-11-24 20:40:49,675] Trial 27 finished with value: 1.0 and parameters: {'K': 5}. Best is trial 1 with value: 1.0.\n",
      "[I 2023-11-24 20:40:49,687] Trial 28 finished with value: 0.93 and parameters: {'K': 20}. Best is trial 1 with value: 1.0.\n",
      "[I 2023-11-24 20:40:49,697] Trial 29 finished with value: 1.0 and parameters: {'K': 2}. Best is trial 1 with value: 1.0.\n",
      "[I 2023-11-24 20:40:49,708] Trial 30 finished with value: 0.95 and parameters: {'K': 11}. Best is trial 1 with value: 1.0.\n",
      "[I 2023-11-24 20:40:49,719] Trial 31 finished with value: 1.0 and parameters: {'K': 1}. Best is trial 1 with value: 1.0.\n",
      "[I 2023-11-24 20:40:49,729] Trial 32 finished with value: 1.0 and parameters: {'K': 1}. Best is trial 1 with value: 1.0.\n",
      "[I 2023-11-24 20:40:49,741] Trial 33 finished with value: 1.0 and parameters: {'K': 4}. Best is trial 1 with value: 1.0.\n",
      "[I 2023-11-24 20:40:49,752] Trial 34 finished with value: 1.0 and parameters: {'K': 3}. Best is trial 1 with value: 1.0.\n",
      "[I 2023-11-24 20:40:49,763] Trial 35 finished with value: 0.93 and parameters: {'K': 15}. Best is trial 1 with value: 1.0.\n",
      "[I 2023-11-24 20:40:49,774] Trial 36 finished with value: 0.975 and parameters: {'K': 8}. Best is trial 1 with value: 1.0.\n",
      "[I 2023-11-24 20:40:49,785] Trial 37 finished with value: 1.0 and parameters: {'K': 6}. Best is trial 1 with value: 1.0.\n",
      "[I 2023-11-24 20:40:49,796] Trial 38 finished with value: 1.0 and parameters: {'K': 2}. Best is trial 1 with value: 1.0.\n",
      "[I 2023-11-24 20:40:49,807] Trial 39 finished with value: 0.97 and parameters: {'K': 9}. Best is trial 1 with value: 1.0.\n",
      "[I 2023-11-24 20:40:49,818] Trial 40 finished with value: 0.93 and parameters: {'K': 14}. Best is trial 1 with value: 1.0.\n",
      "[I 2023-11-24 20:40:49,828] Trial 41 finished with value: 1.0 and parameters: {'K': 3}. Best is trial 1 with value: 1.0.\n",
      "[I 2023-11-24 20:40:49,839] Trial 42 finished with value: 1.0 and parameters: {'K': 4}. Best is trial 1 with value: 1.0.\n",
      "[I 2023-11-24 20:40:49,850] Trial 43 finished with value: 1.0 and parameters: {'K': 2}. Best is trial 1 with value: 1.0.\n",
      "[I 2023-11-24 20:40:49,861] Trial 44 finished with value: 1.0 and parameters: {'K': 6}. Best is trial 1 with value: 1.0.\n",
      "[I 2023-11-24 20:40:49,871] Trial 45 finished with value: 1.0 and parameters: {'K': 1}. Best is trial 1 with value: 1.0.\n",
      "[I 2023-11-24 20:40:49,882] Trial 46 finished with value: 1.0 and parameters: {'K': 5}. Best is trial 1 with value: 1.0.\n",
      "[I 2023-11-24 20:40:49,892] Trial 47 finished with value: 0.925 and parameters: {'K': 17}. Best is trial 1 with value: 1.0.\n",
      "[I 2023-11-24 20:40:49,905] Trial 48 finished with value: 1.0 and parameters: {'K': 3}. Best is trial 1 with value: 1.0.\n",
      "[I 2023-11-24 20:40:49,916] Trial 49 finished with value: 1.0 and parameters: {'K': 2}. Best is trial 1 with value: 1.0.\n",
      "[I 2023-11-24 20:40:49,927] Trial 50 finished with value: 1.0 and parameters: {'K': 4}. Best is trial 1 with value: 1.0.\n",
      "[I 2023-11-24 20:40:49,937] Trial 51 finished with value: 1.0 and parameters: {'K': 5}. Best is trial 1 with value: 1.0.\n",
      "[I 2023-11-24 20:40:49,949] Trial 52 finished with value: 1.0 and parameters: {'K': 3}. Best is trial 1 with value: 1.0.\n",
      "[I 2023-11-24 20:40:49,959] Trial 53 finished with value: 1.0 and parameters: {'K': 1}. Best is trial 1 with value: 1.0.\n",
      "[I 2023-11-24 20:40:49,972] Trial 54 finished with value: 0.975 and parameters: {'K': 7}. Best is trial 1 with value: 1.0.\n",
      "[I 2023-11-24 20:40:49,983] Trial 55 finished with value: 1.0 and parameters: {'K': 5}. Best is trial 1 with value: 1.0.\n",
      "[I 2023-11-24 20:40:49,995] Trial 56 finished with value: 1.0 and parameters: {'K': 6}. Best is trial 1 with value: 1.0.\n",
      "[I 2023-11-24 20:40:50,006] Trial 57 finished with value: 0.975 and parameters: {'K': 8}. Best is trial 1 with value: 1.0.\n",
      "[I 2023-11-24 20:40:50,018] Trial 58 finished with value: 1.0 and parameters: {'K': 3}. Best is trial 1 with value: 1.0.\n",
      "[I 2023-11-24 20:40:50,029] Trial 59 finished with value: 1.0 and parameters: {'K': 4}. Best is trial 1 with value: 1.0.\n",
      "[I 2023-11-24 20:40:50,040] Trial 60 finished with value: 1.0 and parameters: {'K': 1}. Best is trial 1 with value: 1.0.\n",
      "[I 2023-11-24 20:40:50,052] Trial 61 finished with value: 1.0 and parameters: {'K': 3}. Best is trial 1 with value: 1.0.\n",
      "[I 2023-11-24 20:40:50,064] Trial 62 finished with value: 1.0 and parameters: {'K': 2}. Best is trial 1 with value: 1.0.\n",
      "[I 2023-11-24 20:40:50,075] Trial 63 finished with value: 1.0 and parameters: {'K': 2}. Best is trial 1 with value: 1.0.\n",
      "[I 2023-11-24 20:40:50,086] Trial 64 finished with value: 1.0 and parameters: {'K': 2}. Best is trial 1 with value: 1.0.\n",
      "[I 2023-11-24 20:40:50,098] Trial 65 finished with value: 1.0 and parameters: {'K': 4}. Best is trial 1 with value: 1.0.\n",
      "[I 2023-11-24 20:40:50,108] Trial 66 finished with value: 1.0 and parameters: {'K': 1}. Best is trial 1 with value: 1.0.\n",
      "[I 2023-11-24 20:40:50,120] Trial 67 finished with value: 1.0 and parameters: {'K': 5}. Best is trial 1 with value: 1.0.\n",
      "[I 2023-11-24 20:40:50,131] Trial 68 finished with value: 1.0 and parameters: {'K': 2}. Best is trial 1 with value: 1.0.\n",
      "[I 2023-11-24 20:40:50,142] Trial 69 finished with value: 0.95 and parameters: {'K': 10}. Best is trial 1 with value: 1.0.\n",
      "[I 2023-11-24 20:40:50,154] Trial 70 finished with value: 1.0 and parameters: {'K': 1}. Best is trial 1 with value: 1.0.\n",
      "[I 2023-11-24 20:40:50,166] Trial 71 finished with value: 1.0 and parameters: {'K': 6}. Best is trial 1 with value: 1.0.\n",
      "[I 2023-11-24 20:40:50,178] Trial 72 finished with value: 1.0 and parameters: {'K': 4}. Best is trial 1 with value: 1.0.\n",
      "[I 2023-11-24 20:40:50,189] Trial 73 finished with value: 1.0 and parameters: {'K': 3}. Best is trial 1 with value: 1.0.\n",
      "[I 2023-11-24 20:40:50,200] Trial 74 finished with value: 1.0 and parameters: {'K': 4}. Best is trial 1 with value: 1.0.\n",
      "[I 2023-11-24 20:40:50,211] Trial 75 finished with value: 0.975 and parameters: {'K': 8}. Best is trial 1 with value: 1.0.\n",
      "[I 2023-11-24 20:40:50,223] Trial 76 finished with value: 0.945 and parameters: {'K': 12}. Best is trial 1 with value: 1.0.\n",
      "[I 2023-11-24 20:40:50,234] Trial 77 finished with value: 1.0 and parameters: {'K': 2}. Best is trial 1 with value: 1.0.\n",
      "[I 2023-11-24 20:40:50,246] Trial 78 finished with value: 1.0 and parameters: {'K': 5}. Best is trial 1 with value: 1.0.\n",
      "[I 2023-11-24 20:40:50,257] Trial 79 finished with value: 1.0 and parameters: {'K': 3}. Best is trial 1 with value: 1.0.\n",
      "[I 2023-11-24 20:40:50,269] Trial 80 finished with value: 1.0 and parameters: {'K': 6}. Best is trial 1 with value: 1.0.\n",
      "[I 2023-11-24 20:40:50,280] Trial 81 finished with value: 1.0 and parameters: {'K': 5}. Best is trial 1 with value: 1.0.\n",
      "[I 2023-11-24 20:40:50,292] Trial 82 finished with value: 1.0 and parameters: {'K': 4}. Best is trial 1 with value: 1.0.\n",
      "[I 2023-11-24 20:40:50,303] Trial 83 finished with value: 1.0 and parameters: {'K': 1}. Best is trial 1 with value: 1.0.\n",
      "[I 2023-11-24 20:40:50,314] Trial 84 finished with value: 0.975 and parameters: {'K': 7}. Best is trial 1 with value: 1.0.\n",
      "[I 2023-11-24 20:40:50,325] Trial 85 finished with value: 1.0 and parameters: {'K': 3}. Best is trial 1 with value: 1.0.\n",
      "[I 2023-11-24 20:40:50,337] Trial 86 finished with value: 1.0 and parameters: {'K': 3}. Best is trial 1 with value: 1.0.\n",
      "[I 2023-11-24 20:40:50,349] Trial 87 finished with value: 1.0 and parameters: {'K': 2}. Best is trial 1 with value: 1.0.\n",
      "[I 2023-11-24 20:40:50,360] Trial 88 finished with value: 1.0 and parameters: {'K': 6}. Best is trial 1 with value: 1.0.\n",
      "[I 2023-11-24 20:40:50,372] Trial 89 finished with value: 1.0 and parameters: {'K': 5}. Best is trial 1 with value: 1.0.\n",
      "[I 2023-11-24 20:40:50,384] Trial 90 finished with value: 1.0 and parameters: {'K': 4}. Best is trial 1 with value: 1.0.\n",
      "[I 2023-11-24 20:40:50,395] Trial 91 finished with value: 1.0 and parameters: {'K': 1}. Best is trial 1 with value: 1.0.\n",
      "[I 2023-11-24 20:40:50,407] Trial 92 finished with value: 1.0 and parameters: {'K': 1}. Best is trial 1 with value: 1.0.\n",
      "[I 2023-11-24 20:40:50,418] Trial 93 finished with value: 1.0 and parameters: {'K': 2}. Best is trial 1 with value: 1.0.\n",
      "[I 2023-11-24 20:40:50,430] Trial 94 finished with value: 1.0 and parameters: {'K': 2}. Best is trial 1 with value: 1.0.\n",
      "[I 2023-11-24 20:40:50,441] Trial 95 finished with value: 0.925 and parameters: {'K': 18}. Best is trial 1 with value: 1.0.\n",
      "[I 2023-11-24 20:40:50,453] Trial 96 finished with value: 1.0 and parameters: {'K': 1}. Best is trial 1 with value: 1.0.\n",
      "[I 2023-11-24 20:40:50,464] Trial 97 finished with value: 1.0 and parameters: {'K': 3}. Best is trial 1 with value: 1.0.\n",
      "[I 2023-11-24 20:40:50,476] Trial 98 finished with value: 1.0 and parameters: {'K': 4}. Best is trial 1 with value: 1.0.\n",
      "[I 2023-11-24 20:40:50,488] Trial 99 finished with value: 1.0 and parameters: {'K': 2}. Best is trial 1 with value: 1.0.\n"
     ]
    },
    {
     "name": "stdout",
     "output_type": "stream",
     "text": [
      "Mejores Parametros:  4\n",
      "              precision    recall  f1-score   support\n",
      "\n",
      "         Low       0.98      1.00      0.99        63\n",
      "      Medium       1.00      0.99      0.99        72\n",
      "        High       1.00      1.00      1.00        65\n",
      "\n",
      "    accuracy                           0.99       200\n",
      "   macro avg       0.99      1.00      1.00       200\n",
      "weighted avg       1.00      0.99      1.00       200\n",
      "\n"
     ]
    },
    {
     "data": {
      "text/plain": [
       "<sklearn.metrics._plot.confusion_matrix.ConfusionMatrixDisplay at 0x1f7db15f4f0>"
      ]
     },
     "execution_count": 379,
     "metadata": {},
     "output_type": "execute_result"
    },
    {
     "data": {
      "image/png": "[encoded data removed]",
      "text/plain": [
       "<Figure size 640x480 with 2 Axes>"
      ]
     },
     "metadata": {},
     "output_type": "display_data"
    }
   ],
   "source": [
    "def objectiveKNN(trial):\n",
    "    k=trial.suggest_int('K',1,20)\n",
    "\n",
    "    #entrenamiento\n",
    "    KNN=neighbors.KNeighborsClassifier(n_neighbors=k)\n",
    "    KNN.fit(X_train,y_train)\n",
    " \n",
    "    #prediccion\n",
    "    y_pred = KNN.predict(X_test)\n",
    "\n",
    "    #metrica\n",
    "    recall=metrics.recall_score(y_test,y_pred,average='micro')\n",
    "    return recall\n",
    "\n",
    "studyKNN = optuna.create_study(direction='maximize')\n",
    "studyKNN.optimize(objectiveKNN, n_trials=100)\n",
    "\n",
    "k=studyKNN.best_params['K']\n",
    "print(\"Mejores Parametros: \",k)\n",
    "\n",
    "#entrenamiento\n",
    "KNN=neighbors.KNeighborsClassifier(n_neighbors=k)\n",
    "KNN.fit(X_train,y_train)\n",
    "\n",
    "#prediccion\n",
    "y_pred = KNN.predict(X_val)\n",
    "\n",
    "#metricas\n",
    "print(metrics.classification_report(y_val,y_pred,target_names=['Low','Medium','High']))\n",
    "\n",
    "cm=metrics.confusion_matrix(y_val,y_pred)\n",
    "disp=metrics.ConfusionMatrixDisplay(cm,display_labels=['Low','Medium','High'])\n",
    "disp.plot()"
   ]
  }
 ],
 "metadata": {
  "kernelspec": {
   "display_name": "Python 3",
   "language": "python",
   "name": "python3"
  },
  "language_info": {
   "codemirror_mode": {
    "name": "ipython",
    "version": 3
   },
   "file_extension": ".py",
   "mimetype": "text/x-python",
   "name": "python",
   "nbconvert_exporter": "python",
   "pygments_lexer": "ipython3",
   "version": "3.10.5"
  }
 },
 "nbformat": 4,
 "nbformat_minor": 2
}
