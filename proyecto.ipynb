{
 "cells": [
  {
   "cell_type": "markdown",
   "metadata": {},
   "source": [
    "### Lectura de datos"
   ]
  },
  {
   "cell_type": "code",
   "execution_count": 20,
   "metadata": {},
   "outputs": [
    {
     "name": "stdout",
     "output_type": "stream",
     "text": [
      "     index Patient Id  Age  Gender  Air Pollution  Alcohol use  Dust Allergy  \\\n",
      "0        0         P1   33       1              2            4             5   \n",
      "1        1        P10   17       1              3            1             5   \n",
      "2        2       P100   35       1              4            5             6   \n",
      "3        3      P1000   37       1              7            7             7   \n",
      "4        4       P101   46       1              6            8             7   \n",
      "..     ...        ...  ...     ...            ...          ...           ...   \n",
      "995    995       P995   44       1              6            7             7   \n",
      "996    996       P996   37       2              6            8             7   \n",
      "997    997       P997   25       2              4            5             6   \n",
      "998    998       P998   18       2              6            8             7   \n",
      "999    999       P999   47       1              6            5             6   \n",
      "\n",
      "     OccuPational Hazards  Genetic Risk  chronic Lung Disease  ...  Fatigue  \\\n",
      "0                       4             3                     2  ...        3   \n",
      "1                       3             4                     2  ...        1   \n",
      "2                       5             5                     4  ...        8   \n",
      "3                       7             6                     7  ...        4   \n",
      "4                       7             7                     6  ...        3   \n",
      "..                    ...           ...                   ...  ...      ...   \n",
      "995                     7             7                     6  ...        5   \n",
      "996                     7             7                     6  ...        9   \n",
      "997                     5             5                     4  ...        8   \n",
      "998                     7             7                     6  ...        3   \n",
      "999                     5             5                     4  ...        8   \n",
      "\n",
      "     Weight Loss  Shortness of Breath  Wheezing  Swallowing Difficulty  \\\n",
      "0              4                    2         2                      3   \n",
      "1              3                    7         8                      6   \n",
      "2              7                    9         2                      1   \n",
      "3              2                    3         1                      4   \n",
      "4              2                    4         1                      4   \n",
      "..           ...                  ...       ...                    ...   \n",
      "995            3                    2         7                      8   \n",
      "996            6                    5         7                      2   \n",
      "997            7                    9         2                      1   \n",
      "998            2                    4         1                      4   \n",
      "999            7                    9         2                      1   \n",
      "\n",
      "     Clubbing of Finger Nails  Frequent Cold  Dry Cough  Snoring   Level  \n",
      "0                           1              2          3        4     Low  \n",
      "1                           2              1          7        2  Medium  \n",
      "2                           4              6          7        2    High  \n",
      "3                           5              6          7        5    High  \n",
      "4                           2              4          2        3    High  \n",
      "..                        ...            ...        ...      ...     ...  \n",
      "995                         2              4          5        3    High  \n",
      "996                         4              3          1        4    High  \n",
      "997                         4              6          7        2    High  \n",
      "998                         2              4          2        3    High  \n",
      "999                         4              6          7        2    High  \n",
      "\n",
      "[1000 rows x 26 columns]\n"
     ]
    }
   ],
   "source": [
    "import sklearn\n",
    "import numpy as np\n",
    "import pandas as pd\n",
    "\n",
    "D = pd.read_csv(\"cancer_patient_data_sets.csv\")"
   ]
  },
  {
   "cell_type": "markdown",
   "metadata": {},
   "source": [
    "### Preprocesamiento\n",
    "\n",
    "Ahora vamos a quitar las columnas index y patient ID que no son necesarias"
   ]
  },
  {
   "cell_type": "code",
   "execution_count": 21,
   "metadata": {},
   "outputs": [],
   "source": [
    "D=D.drop(columns=[\"index\",\"Patient Id\"])"
   ]
  },
  {
   "cell_type": "markdown",
   "metadata": {},
   "source": [
    "Tenemos que mirar si los datos estan bien, primero revisamos que no hayan datos nulos en alguna parte"
   ]
  },
  {
   "cell_type": "code",
   "execution_count": 22,
   "metadata": {},
   "outputs": [
    {
     "data": {
      "text/plain": [
       "Age                         0\n",
       "Gender                      0\n",
       "Air Pollution               0\n",
       "Alcohol use                 0\n",
       "Dust Allergy                0\n",
       "OccuPational Hazards        0\n",
       "Genetic Risk                0\n",
       "chronic Lung Disease        0\n",
       "Balanced Diet               0\n",
       "Obesity                     0\n",
       "Smoking                     0\n",
       "Passive Smoker              0\n",
       "Chest Pain                  0\n",
       "Coughing of Blood           0\n",
       "Fatigue                     0\n",
       "Weight Loss                 0\n",
       "Shortness of Breath         0\n",
       "Wheezing                    0\n",
       "Swallowing Difficulty       0\n",
       "Clubbing of Finger Nails    0\n",
       "Frequent Cold               0\n",
       "Dry Cough                   0\n",
       "Snoring                     0\n",
       "Level                       0\n",
       "dtype: int64"
      ]
     },
     "execution_count": 22,
     "metadata": {},
     "output_type": "execute_result"
    }
   ],
   "source": [
    "D.isnull().sum()"
   ]
  },
  {
   "cell_type": "markdown",
   "metadata": {},
   "source": [
    "Tambien revisamos que no esten desbalanceados los datos, esto es, que no haya una gran cantidad de alguna de las clases en comparación a las otras"
   ]
  },
  {
   "cell_type": "code",
   "execution_count": 23,
   "metadata": {},
   "outputs": [
    {
     "data": {
      "text/plain": [
       "High      365\n",
       "Medium    332\n",
       "Low       303\n",
       "Name: Level, dtype: int64"
      ]
     },
     "execution_count": 23,
     "metadata": {},
     "output_type": "execute_result"
    }
   ],
   "source": [
    "D['Level'].value_counts()"
   ]
  },
  {
   "cell_type": "markdown",
   "metadata": {},
   "source": [
    "Podemos ver que hay un número similar de la cantidad de elementos en las clases, lo que nos indica que los datos son buenos para trabajar con ellos.\n",
    "\n",
    "Ahora revisamos como es la informacion de cada columna de los datos"
   ]
  },
  {
   "cell_type": "code",
   "execution_count": 25,
   "metadata": {},
   "outputs": [
    {
     "name": "stdout",
     "output_type": "stream",
     "text": [
      "<class 'pandas.core.frame.DataFrame'>\n",
      "RangeIndex: 1000 entries, 0 to 999\n",
      "Data columns (total 24 columns):\n",
      " #   Column                    Non-Null Count  Dtype \n",
      "---  ------                    --------------  ----- \n",
      " 0   Age                       1000 non-null   int64 \n",
      " 1   Gender                    1000 non-null   int64 \n",
      " 2   Air Pollution             1000 non-null   int64 \n",
      " 3   Alcohol use               1000 non-null   int64 \n",
      " 4   Dust Allergy              1000 non-null   int64 \n",
      " 5   OccuPational Hazards      1000 non-null   int64 \n",
      " 6   Genetic Risk              1000 non-null   int64 \n",
      " 7   chronic Lung Disease      1000 non-null   int64 \n",
      " 8   Balanced Diet             1000 non-null   int64 \n",
      " 9   Obesity                   1000 non-null   int64 \n",
      " 10  Smoking                   1000 non-null   int64 \n",
      " 11  Passive Smoker            1000 non-null   int64 \n",
      " 12  Chest Pain                1000 non-null   int64 \n",
      " 13  Coughing of Blood         1000 non-null   int64 \n",
      " 14  Fatigue                   1000 non-null   int64 \n",
      " 15  Weight Loss               1000 non-null   int64 \n",
      " 16  Shortness of Breath       1000 non-null   int64 \n",
      " 17  Wheezing                  1000 non-null   int64 \n",
      " 18  Swallowing Difficulty     1000 non-null   int64 \n",
      " 19  Clubbing of Finger Nails  1000 non-null   int64 \n",
      " 20  Frequent Cold             1000 non-null   int64 \n",
      " 21  Dry Cough                 1000 non-null   int64 \n",
      " 22  Snoring                   1000 non-null   int64 \n",
      " 23  Level                     1000 non-null   object\n",
      "dtypes: int64(23), object(1)\n",
      "memory usage: 187.6+ KB\n"
     ]
    }
   ],
   "source": [
    "D.info()"
   ]
  },
  {
   "cell_type": "markdown",
   "metadata": {},
   "source": [
    "Podemos ver que la columna Level, la cual corresponde a la etiqueta, el tipo de dato es de objeto, luego, haremos una codificación de esta columna para tener numeros enteros, los valores que le daremos son:\n",
    " - Low: 0\n",
    " - Medium: 1\n",
    " - High: 2"
   ]
  },
  {
   "cell_type": "code",
   "execution_count": 28,
   "metadata": {},
   "outputs": [
    {
     "data": {
      "text/plain": [
       "2    365\n",
       "1    332\n",
       "0    303\n",
       "Name: Level, dtype: int64"
      ]
     },
     "execution_count": 28,
     "metadata": {},
     "output_type": "execute_result"
    }
   ],
   "source": [
    "D['Level']=D['Level'].replace({'Low':0,'Medium':1,'High':2})\n",
    "D['Level'].value_counts()"
   ]
  },
  {
   "cell_type": "markdown",
   "metadata": {},
   "source": [
    "### Entrenamiento\n",
    "\n",
    "Para el entrenamiento, probaremos tres modelos distintos, una maquina de vector soporte, "
   ]
  },
  {
   "cell_type": "code",
   "execution_count": null,
   "metadata": {},
   "outputs": [],
   "source": []
  }
 ],
 "metadata": {
  "kernelspec": {
   "display_name": "Python 3",
   "language": "python",
   "name": "python3"
  },
  "language_info": {
   "codemirror_mode": {
    "name": "ipython",
    "version": 3
   },
   "file_extension": ".py",
   "mimetype": "text/x-python",
   "name": "python",
   "nbconvert_exporter": "python",
   "pygments_lexer": "ipython3",
   "version": "3.10.5"
  }
 },
 "nbformat": 4,
 "nbformat_minor": 2
}
