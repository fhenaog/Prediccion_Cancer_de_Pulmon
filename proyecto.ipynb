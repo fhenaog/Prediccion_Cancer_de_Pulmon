{
 "cells": [
  {
   "cell_type": "markdown",
   "metadata": {},
   "source": [
    "### Lectura de datos"
   ]
  },
  {
   "cell_type": "code",
   "execution_count": 270,
   "metadata": {},
   "outputs": [],
   "source": [
    "import numpy as np\n",
    "import pandas as pd\n",
    "import matplotlib.pyplot as plt\n",
    "\n",
    "D = pd.read_csv(\"cancer_patient_data_sets.csv\")"
   ]
  },
  {
   "cell_type": "markdown",
   "metadata": {},
   "source": [
    "### Preprocesamiento\n",
    "\n",
    "Ahora vamos a quitar las columnas index y patient ID que no son necesarias"
   ]
  },
  {
   "cell_type": "code",
   "execution_count": 271,
   "metadata": {},
   "outputs": [],
   "source": [
    "D=D.drop(columns=[\"index\",\"Patient Id\"])"
   ]
  },
  {
   "cell_type": "markdown",
   "metadata": {},
   "source": [
    "Tenemos que mirar si los datos estan bien, primero revisamos que no hayan datos nulos en alguna parte"
   ]
  },
  {
   "cell_type": "code",
   "execution_count": 272,
   "metadata": {},
   "outputs": [
    {
     "data": {
      "text/plain": [
       "Age                         0\n",
       "Gender                      0\n",
       "Air Pollution               0\n",
       "Alcohol use                 0\n",
       "Dust Allergy                0\n",
       "OccuPational Hazards        0\n",
       "Genetic Risk                0\n",
       "chronic Lung Disease        0\n",
       "Balanced Diet               0\n",
       "Obesity                     0\n",
       "Smoking                     0\n",
       "Passive Smoker              0\n",
       "Chest Pain                  0\n",
       "Coughing of Blood           0\n",
       "Fatigue                     0\n",
       "Weight Loss                 0\n",
       "Shortness of Breath         0\n",
       "Wheezing                    0\n",
       "Swallowing Difficulty       0\n",
       "Clubbing of Finger Nails    0\n",
       "Frequent Cold               0\n",
       "Dry Cough                   0\n",
       "Snoring                     0\n",
       "Level                       0\n",
       "dtype: int64"
      ]
     },
     "execution_count": 272,
     "metadata": {},
     "output_type": "execute_result"
    }
   ],
   "source": [
    "D.isnull().sum()"
   ]
  },
  {
   "cell_type": "markdown",
   "metadata": {},
   "source": [
    "Tambien revisamos que no esten desbalanceados los datos, esto es, que no haya una gran cantidad de alguna de las clases en comparación a las otras"
   ]
  },
  {
   "cell_type": "code",
   "execution_count": 273,
   "metadata": {},
   "outputs": [
    {
     "data": {
      "text/plain": [
       "High      365\n",
       "Medium    332\n",
       "Low       303\n",
       "Name: Level, dtype: int64"
      ]
     },
     "execution_count": 273,
     "metadata": {},
     "output_type": "execute_result"
    }
   ],
   "source": [
    "D['Level'].value_counts()"
   ]
  },
  {
   "cell_type": "markdown",
   "metadata": {},
   "source": [
    "Podemos ver que hay un número similar de la cantidad de elementos en las clases, lo que nos indica que los datos son buenos para trabajar con ellos.\n",
    "\n",
    "Ahora revisamos como es la informacion de cada columna de los datos"
   ]
  },
  {
   "cell_type": "code",
   "execution_count": 274,
   "metadata": {},
   "outputs": [
    {
     "name": "stdout",
     "output_type": "stream",
     "text": [
      "<class 'pandas.core.frame.DataFrame'>\n",
      "RangeIndex: 1000 entries, 0 to 999\n",
      "Data columns (total 24 columns):\n",
      " #   Column                    Non-Null Count  Dtype \n",
      "---  ------                    --------------  ----- \n",
      " 0   Age                       1000 non-null   int64 \n",
      " 1   Gender                    1000 non-null   int64 \n",
      " 2   Air Pollution             1000 non-null   int64 \n",
      " 3   Alcohol use               1000 non-null   int64 \n",
      " 4   Dust Allergy              1000 non-null   int64 \n",
      " 5   OccuPational Hazards      1000 non-null   int64 \n",
      " 6   Genetic Risk              1000 non-null   int64 \n",
      " 7   chronic Lung Disease      1000 non-null   int64 \n",
      " 8   Balanced Diet             1000 non-null   int64 \n",
      " 9   Obesity                   1000 non-null   int64 \n",
      " 10  Smoking                   1000 non-null   int64 \n",
      " 11  Passive Smoker            1000 non-null   int64 \n",
      " 12  Chest Pain                1000 non-null   int64 \n",
      " 13  Coughing of Blood         1000 non-null   int64 \n",
      " 14  Fatigue                   1000 non-null   int64 \n",
      " 15  Weight Loss               1000 non-null   int64 \n",
      " 16  Shortness of Breath       1000 non-null   int64 \n",
      " 17  Wheezing                  1000 non-null   int64 \n",
      " 18  Swallowing Difficulty     1000 non-null   int64 \n",
      " 19  Clubbing of Finger Nails  1000 non-null   int64 \n",
      " 20  Frequent Cold             1000 non-null   int64 \n",
      " 21  Dry Cough                 1000 non-null   int64 \n",
      " 22  Snoring                   1000 non-null   int64 \n",
      " 23  Level                     1000 non-null   object\n",
      "dtypes: int64(23), object(1)\n",
      "memory usage: 187.6+ KB\n"
     ]
    }
   ],
   "source": [
    "D.info()"
   ]
  },
  {
   "cell_type": "markdown",
   "metadata": {},
   "source": [
    "Podemos ver que la columna Level, la cual corresponde a la etiqueta, el tipo de dato es de objeto, luego, haremos una codificación de esta columna para tener numeros enteros, los valores que le daremos son:\n",
    " - Low: 0\n",
    " - Medium: 1\n",
    " - High: 2"
   ]
  },
  {
   "cell_type": "code",
   "execution_count": 275,
   "metadata": {},
   "outputs": [
    {
     "data": {
      "text/plain": [
       "2    365\n",
       "1    332\n",
       "0    303\n",
       "Name: Level, dtype: int64"
      ]
     },
     "execution_count": 275,
     "metadata": {},
     "output_type": "execute_result"
    }
   ],
   "source": [
    "D['Level']=D['Level'].replace({'Low':0,'Medium':1,'High':2})\n",
    "D['Level'].value_counts()"
   ]
  },
  {
   "cell_type": "markdown",
   "metadata": {},
   "source": [
    "### Entrenamiento\n",
    "\n",
    "Para el entrenamiento, probaremos tres modelos distintos, una maquina de vector soporte, un random forest y el ultimo un KNN, y usaremos la libreria Optuna para escoger la mejor configuración de los parametros del modelo."
   ]
  },
  {
   "cell_type": "code",
   "execution_count": 276,
   "metadata": {},
   "outputs": [],
   "source": [
    "from sklearn import svm\n",
    "from sklearn import neighbors\n",
    "from sklearn import ensemble\n",
    "from sklearn.model_selection import train_test_split\n",
    "from sklearn import metrics\n",
    "import optuna"
   ]
  },
  {
   "cell_type": "markdown",
   "metadata": {},
   "source": [
    "Primero hacemos la division de los datos en train, test, validation, para poder evaluar cual es el mejor modelo y luego probar el mejor obtenido.\n"
   ]
  },
  {
   "cell_type": "code",
   "execution_count": 277,
   "metadata": {},
   "outputs": [],
   "source": [
    "X = D.drop(columns=['Level'])\n",
    "y = D['Level']\n",
    "X_train, X_test, y_train, y_test = train_test_split(X,y,test_size=0.2,random_state=0)\n",
    "X_train, X_val, y_train, y_val = train_test_split(X_train,y_train,test_size=0.25,random_state=0) # 0.25 * 0.8 = 0.2"
   ]
  },
  {
   "cell_type": "markdown",
   "metadata": {},
   "source": [
    "El objetivo para escoger los parametros será minimizar el f1 score, para así tenen una baja cantidad de falsos positivos y falsos negativos ya que ambos son importante evitarlos.\n",
    "\n",
    "Probaremos primero con la maquina de vector soporte"
   ]
  },
  {
   "cell_type": "code",
   "execution_count": 278,
   "metadata": {},
   "outputs": [
    {
     "name": "stderr",
     "output_type": "stream",
     "text": [
      "[I 2023-11-22 16:20:46,855] A new study created in memory with name: no-name-57c57150-d8b9-4a4d-998b-739df19a510f\n",
      "[I 2023-11-22 16:20:46,874] Trial 0 finished with value: 0.375 and parameters: {'svm_C': 2.228674126254938e-06, 'Kernel': 'linear'}. Best is trial 0 with value: 0.375.\n",
      "[I 2023-11-22 16:20:46,891] Trial 1 finished with value: 0.375 and parameters: {'svm_C': 1.520414066937796e-08, 'Kernel': 'linear'}. Best is trial 0 with value: 0.375.\n",
      "[I 2023-11-22 16:20:46,899] Trial 2 finished with value: 1.0 and parameters: {'svm_C': 18254.63882780921, 'Kernel': 'linear'}. Best is trial 2 with value: 1.0.\n",
      "[I 2023-11-22 16:20:46,927] Trial 3 finished with value: 0.375 and parameters: {'svm_C': 0.00014959987241532983, 'Kernel': 'rbf'}. Best is trial 2 with value: 1.0.\n",
      "[I 2023-11-22 16:20:46,938] Trial 4 finished with value: 1.0 and parameters: {'svm_C': 70.9814159091081, 'Kernel': 'poly'}. Best is trial 2 with value: 1.0.\n",
      "[I 2023-11-22 16:20:46,958] Trial 5 finished with value: 0.375 and parameters: {'svm_C': 0.00012969698260273743, 'Kernel': 'poly'}. Best is trial 2 with value: 1.0.\n",
      "[I 2023-11-22 16:20:46,978] Trial 6 finished with value: 0.375 and parameters: {'svm_C': 6.92943591883449e-10, 'Kernel': 'linear'}. Best is trial 2 with value: 1.0.\n",
      "[I 2023-11-22 16:20:46,990] Trial 7 finished with value: 1.0 and parameters: {'svm_C': 2.168823084736957, 'Kernel': 'linear'}. Best is trial 2 with value: 1.0.\n",
      "[I 2023-11-22 16:20:47,018] Trial 8 finished with value: 0.6 and parameters: {'svm_C': 0.05371194706029575, 'Kernel': 'rbf'}. Best is trial 2 with value: 1.0.\n",
      "[I 2023-11-22 16:20:47,036] Trial 9 finished with value: 0.375 and parameters: {'svm_C': 7.934601899988945e-07, 'Kernel': 'linear'}. Best is trial 2 with value: 1.0.\n",
      "[I 2023-11-22 16:20:47,066] Trial 10 finished with value: 0.31 and parameters: {'svm_C': 59596.96305260733, 'Kernel': 'sigmoid'}. Best is trial 2 with value: 1.0.\n",
      "[I 2023-11-22 16:20:47,080] Trial 11 finished with value: 1.0 and parameters: {'svm_C': 9866.078438030081, 'Kernel': 'poly'}. Best is trial 2 with value: 1.0.\n",
      "[I 2023-11-22 16:20:47,095] Trial 12 finished with value: 1.0 and parameters: {'svm_C': 197.1776542238936, 'Kernel': 'poly'}. Best is trial 2 with value: 1.0.\n",
      "[I 2023-11-22 16:20:47,122] Trial 13 finished with value: 0.31 and parameters: {'svm_C': 69.25445015227767, 'Kernel': 'sigmoid'}. Best is trial 2 with value: 1.0.\n",
      "[I 2023-11-22 16:20:47,136] Trial 14 finished with value: 1.0 and parameters: {'svm_C': 94867.17480129751, 'Kernel': 'poly'}. Best is trial 2 with value: 1.0.\n",
      "[I 2023-11-22 16:20:47,151] Trial 15 finished with value: 1.0 and parameters: {'svm_C': 277.62583841153764, 'Kernel': 'poly'}. Best is trial 2 with value: 1.0.\n",
      "[I 2023-11-22 16:20:47,170] Trial 16 finished with value: 0.96 and parameters: {'svm_C': 0.6847229532933644, 'Kernel': 'rbf'}. Best is trial 2 with value: 1.0.\n",
      "[I 2023-11-22 16:20:47,196] Trial 17 finished with value: 0.31 and parameters: {'svm_C': 1220.839187555635, 'Kernel': 'sigmoid'}. Best is trial 2 with value: 1.0.\n",
      "[I 2023-11-22 16:20:47,208] Trial 18 finished with value: 1.0 and parameters: {'svm_C': 10.669849319899528, 'Kernel': 'linear'}. Best is trial 2 with value: 1.0.\n",
      "[I 2023-11-22 16:20:47,222] Trial 19 finished with value: 1.0 and parameters: {'svm_C': 2568.6118543927078, 'Kernel': 'poly'}. Best is trial 2 with value: 1.0.\n",
      "[I 2023-11-22 16:20:47,238] Trial 20 finished with value: 0.905 and parameters: {'svm_C': 0.0760216706996091, 'Kernel': 'poly'}. Best is trial 2 with value: 1.0.\n",
      "[I 2023-11-22 16:20:47,250] Trial 21 finished with value: 1.0 and parameters: {'svm_C': 10.150735670128018, 'Kernel': 'linear'}. Best is trial 2 with value: 1.0.\n",
      "[I 2023-11-22 16:20:47,264] Trial 22 finished with value: 1.0 and parameters: {'svm_C': 4.025838303888391, 'Kernel': 'linear'}. Best is trial 2 with value: 1.0.\n",
      "[I 2023-11-22 16:20:47,276] Trial 23 finished with value: 1.0 and parameters: {'svm_C': 2771.45725802564, 'Kernel': 'linear'}. Best is trial 2 with value: 1.0.\n",
      "[I 2023-11-22 16:20:47,288] Trial 24 finished with value: 1.0 and parameters: {'svm_C': 101.86641069734024, 'Kernel': 'linear'}. Best is trial 2 with value: 1.0.\n",
      "[I 2023-11-22 16:20:47,301] Trial 25 finished with value: 1.0 and parameters: {'svm_C': 0.8525236129129885, 'Kernel': 'linear'}. Best is trial 2 with value: 1.0.\n",
      "[I 2023-11-22 16:20:47,314] Trial 26 finished with value: 1.0 and parameters: {'svm_C': 23137.510820379626, 'Kernel': 'rbf'}. Best is trial 2 with value: 1.0.\n",
      "[I 2023-11-22 16:20:47,340] Trial 27 finished with value: 0.31 and parameters: {'svm_C': 1387.4109835777053, 'Kernel': 'sigmoid'}. Best is trial 2 with value: 1.0.\n",
      "[I 2023-11-22 16:20:47,353] Trial 28 finished with value: 1.0 and parameters: {'svm_C': 28.37616242245784, 'Kernel': 'linear'}. Best is trial 2 with value: 1.0.\n",
      "[I 2023-11-22 16:20:47,365] Trial 29 finished with value: 1.0 and parameters: {'svm_C': 0.03617482662374771, 'Kernel': 'linear'}. Best is trial 2 with value: 1.0.\n",
      "[I 2023-11-22 16:20:47,378] Trial 30 finished with value: 1.0 and parameters: {'svm_C': 536.7991994792842, 'Kernel': 'poly'}. Best is trial 2 with value: 1.0.\n",
      "[I 2023-11-22 16:20:47,393] Trial 31 finished with value: 1.0 and parameters: {'svm_C': 8774.386335009138, 'Kernel': 'poly'}. Best is trial 2 with value: 1.0.\n",
      "[I 2023-11-22 16:20:47,408] Trial 32 finished with value: 1.0 and parameters: {'svm_C': 26592.733813396328, 'Kernel': 'poly'}. Best is trial 2 with value: 1.0.\n",
      "[I 2023-11-22 16:20:47,421] Trial 33 finished with value: 1.0 and parameters: {'svm_C': 2444.698475125439, 'Kernel': 'poly'}. Best is trial 2 with value: 1.0.\n",
      "[I 2023-11-22 16:20:47,435] Trial 34 finished with value: 1.0 and parameters: {'svm_C': 152.99276791615483, 'Kernel': 'poly'}. Best is trial 2 with value: 1.0.\n",
      "[I 2023-11-22 16:20:47,447] Trial 35 finished with value: 1.0 and parameters: {'svm_C': 8336.969653674401, 'Kernel': 'linear'}. Best is trial 2 with value: 1.0.\n",
      "[I 2023-11-22 16:20:47,462] Trial 36 finished with value: 0.97 and parameters: {'svm_C': 2.6844318282535644, 'Kernel': 'rbf'}. Best is trial 2 with value: 1.0.\n",
      "[I 2023-11-22 16:20:47,476] Trial 37 finished with value: 1.0 and parameters: {'svm_C': 38.65867482701056, 'Kernel': 'poly'}. Best is trial 2 with value: 1.0.\n",
      "[I 2023-11-22 16:20:47,488] Trial 38 finished with value: 1.0 and parameters: {'svm_C': 82691.13542448186, 'Kernel': 'linear'}. Best is trial 2 with value: 1.0.\n",
      "[I 2023-11-22 16:20:47,502] Trial 39 finished with value: 1.0 and parameters: {'svm_C': 475.0236905966992, 'Kernel': 'poly'}. Best is trial 2 with value: 1.0.\n",
      "[I 2023-11-22 16:20:47,529] Trial 40 finished with value: 0.31 and parameters: {'svm_C': 10105.089582933546, 'Kernel': 'sigmoid'}. Best is trial 2 with value: 1.0.\n",
      "[I 2023-11-22 16:20:47,543] Trial 41 finished with value: 1.0 and parameters: {'svm_C': 168.40818164287984, 'Kernel': 'poly'}. Best is trial 2 with value: 1.0.\n",
      "[I 2023-11-22 16:20:47,557] Trial 42 finished with value: 1.0 and parameters: {'svm_C': 36.69468998565276, 'Kernel': 'poly'}. Best is trial 2 with value: 1.0.\n",
      "[I 2023-11-22 16:20:47,571] Trial 43 finished with value: 1.0 and parameters: {'svm_C': 329.1005931033416, 'Kernel': 'poly'}. Best is trial 2 with value: 1.0.\n",
      "[I 2023-11-22 16:20:47,585] Trial 44 finished with value: 1.0 and parameters: {'svm_C': 10730.016363270151, 'Kernel': 'poly'}. Best is trial 2 with value: 1.0.\n",
      "[I 2023-11-22 16:20:47,617] Trial 45 finished with value: 0.375 and parameters: {'svm_C': 0.0002603074859444009, 'Kernel': 'rbf'}. Best is trial 2 with value: 1.0.\n",
      "[I 2023-11-22 16:20:47,630] Trial 46 finished with value: 1.0 and parameters: {'svm_C': 834.5343005004589, 'Kernel': 'linear'}. Best is trial 2 with value: 1.0.\n",
      "[I 2023-11-22 16:20:47,644] Trial 47 finished with value: 1.0 and parameters: {'svm_C': 75508.888352584, 'Kernel': 'poly'}. Best is trial 2 with value: 1.0.\n",
      "[I 2023-11-22 16:20:47,671] Trial 48 finished with value: 0.31 and parameters: {'svm_C': 92.15679350032802, 'Kernel': 'sigmoid'}. Best is trial 2 with value: 1.0.\n",
      "[I 2023-11-22 16:20:47,685] Trial 49 finished with value: 1.0 and parameters: {'svm_C': 3524.6487498041574, 'Kernel': 'poly'}. Best is trial 2 with value: 1.0.\n",
      "[I 2023-11-22 16:20:47,698] Trial 50 finished with value: 1.0 and parameters: {'svm_C': 10.308036980285094, 'Kernel': 'linear'}. Best is trial 2 with value: 1.0.\n",
      "[I 2023-11-22 16:20:47,712] Trial 51 finished with value: 1.0 and parameters: {'svm_C': 28989.905990276515, 'Kernel': 'poly'}. Best is trial 2 with value: 1.0.\n",
      "[I 2023-11-22 16:20:47,725] Trial 52 finished with value: 1.0 and parameters: {'svm_C': 1431.6197009157593, 'Kernel': 'poly'}. Best is trial 2 with value: 1.0.\n",
      "[I 2023-11-22 16:20:47,739] Trial 53 finished with value: 1.0 and parameters: {'svm_C': 84779.6250426561, 'Kernel': 'poly'}. Best is trial 2 with value: 1.0.\n",
      "[I 2023-11-22 16:20:47,753] Trial 54 finished with value: 1.0 and parameters: {'svm_C': 5131.677552103704, 'Kernel': 'poly'}. Best is trial 2 with value: 1.0.\n",
      "[I 2023-11-22 16:20:47,766] Trial 55 finished with value: 1.0 and parameters: {'svm_C': 484.7426439924775, 'Kernel': 'linear'}. Best is trial 2 with value: 1.0.\n",
      "[I 2023-11-22 16:20:47,779] Trial 56 finished with value: 1.0 and parameters: {'svm_C': 20800.97496718085, 'Kernel': 'rbf'}. Best is trial 2 with value: 1.0.\n",
      "[I 2023-11-22 16:20:47,793] Trial 57 finished with value: 1.0 and parameters: {'svm_C': 2205.9345208825425, 'Kernel': 'poly'}. Best is trial 2 with value: 1.0.\n",
      "[I 2023-11-22 16:20:47,806] Trial 58 finished with value: 1.0 and parameters: {'svm_C': 193.214673923602, 'Kernel': 'linear'}. Best is trial 2 with value: 1.0.\n",
      "[I 2023-11-22 16:20:47,832] Trial 59 finished with value: 0.31 and parameters: {'svm_C': 34761.479253312966, 'Kernel': 'sigmoid'}. Best is trial 2 with value: 1.0.\n",
      "[I 2023-11-22 16:20:47,846] Trial 60 finished with value: 1.0 and parameters: {'svm_C': 24.385116161115473, 'Kernel': 'poly'}. Best is trial 2 with value: 1.0.\n",
      "[I 2023-11-22 16:20:47,859] Trial 61 finished with value: 1.0 and parameters: {'svm_C': 938.910487188214, 'Kernel': 'poly'}. Best is trial 2 with value: 1.0.\n",
      "[I 2023-11-22 16:20:47,875] Trial 62 finished with value: 1.0 and parameters: {'svm_C': 95.18795917179885, 'Kernel': 'poly'}. Best is trial 2 with value: 1.0.\n",
      "[I 2023-11-22 16:20:47,889] Trial 63 finished with value: 1.0 and parameters: {'svm_C': 5330.262165955992, 'Kernel': 'poly'}. Best is trial 2 with value: 1.0.\n",
      "[I 2023-11-22 16:20:47,902] Trial 64 finished with value: 1.0 and parameters: {'svm_C': 2.9066731449745684, 'Kernel': 'linear'}. Best is trial 2 with value: 1.0.\n",
      "[I 2023-11-22 16:20:47,915] Trial 65 finished with value: 1.0 and parameters: {'svm_C': 266.02663974216495, 'Kernel': 'poly'}. Best is trial 2 with value: 1.0.\n",
      "[I 2023-11-22 16:20:47,930] Trial 66 finished with value: 1.0 and parameters: {'svm_C': 14028.224345831972, 'Kernel': 'poly'}. Best is trial 2 with value: 1.0.\n",
      "[I 2023-11-22 16:20:47,942] Trial 67 finished with value: 1.0 and parameters: {'svm_C': 1347.456822591023, 'Kernel': 'linear'}. Best is trial 2 with value: 1.0.\n",
      "[I 2023-11-22 16:20:47,956] Trial 68 finished with value: 1.0 and parameters: {'svm_C': 3815.0966790925095, 'Kernel': 'poly'}. Best is trial 2 with value: 1.0.\n",
      "[I 2023-11-22 16:20:47,968] Trial 69 finished with value: 1.0 and parameters: {'svm_C': 17.321065694501915, 'Kernel': 'linear'}. Best is trial 2 with value: 1.0.\n",
      "[I 2023-11-22 16:20:47,983] Trial 70 finished with value: 1.0 and parameters: {'svm_C': 59.2333429241516, 'Kernel': 'rbf'}. Best is trial 2 with value: 1.0.\n",
      "[I 2023-11-22 16:20:47,996] Trial 71 finished with value: 1.0 and parameters: {'svm_C': 7.375298786097079, 'Kernel': 'linear'}. Best is trial 2 with value: 1.0.\n",
      "[I 2023-11-22 16:20:48,013] Trial 72 finished with value: 1.0 and parameters: {'svm_C': 1.2416438340042535, 'Kernel': 'linear'}. Best is trial 2 with value: 1.0.\n",
      "[I 2023-11-22 16:20:48,028] Trial 73 finished with value: 1.0 and parameters: {'svm_C': 0.23512885098541036, 'Kernel': 'linear'}. Best is trial 2 with value: 1.0.\n",
      "[I 2023-11-22 16:20:48,043] Trial 74 finished with value: 1.0 and parameters: {'svm_C': 398.47240861899377, 'Kernel': 'linear'}. Best is trial 2 with value: 1.0.\n",
      "[I 2023-11-22 16:20:48,059] Trial 75 finished with value: 1.0 and parameters: {'svm_C': 10.895493976529158, 'Kernel': 'poly'}. Best is trial 2 with value: 1.0.\n",
      "[I 2023-11-22 16:20:48,088] Trial 76 finished with value: 0.31 and parameters: {'svm_C': 34.190815053750164, 'Kernel': 'sigmoid'}. Best is trial 2 with value: 1.0.\n",
      "[I 2023-11-22 16:20:48,102] Trial 77 finished with value: 1.0 and parameters: {'svm_C': 30406.892484963882, 'Kernel': 'linear'}. Best is trial 2 with value: 1.0.\n",
      "[I 2023-11-22 16:20:48,117] Trial 78 finished with value: 1.0 and parameters: {'svm_C': 95.53521032491454, 'Kernel': 'poly'}. Best is trial 2 with value: 1.0.\n",
      "[I 2023-11-22 16:20:48,133] Trial 79 finished with value: 1.0 and parameters: {'svm_C': 8868.634835497829, 'Kernel': 'poly'}. Best is trial 2 with value: 1.0.\n",
      "[I 2023-11-22 16:20:48,147] Trial 80 finished with value: 1.0 and parameters: {'svm_C': 685.8459785853042, 'Kernel': 'linear'}. Best is trial 2 with value: 1.0.\n",
      "[I 2023-11-22 16:20:48,162] Trial 81 finished with value: 1.0 and parameters: {'svm_C': 3553.6661254780124, 'Kernel': 'poly'}. Best is trial 2 with value: 1.0.\n",
      "[I 2023-11-22 16:20:48,179] Trial 82 finished with value: 1.0 and parameters: {'svm_C': 1777.26947591236, 'Kernel': 'poly'}. Best is trial 2 with value: 1.0.\n",
      "[I 2023-11-22 16:20:48,195] Trial 83 finished with value: 1.0 and parameters: {'svm_C': 41223.44113076025, 'Kernel': 'poly'}. Best is trial 2 with value: 1.0.\n",
      "[I 2023-11-22 16:20:48,210] Trial 84 finished with value: 1.0 and parameters: {'svm_C': 97586.4683595587, 'Kernel': 'poly'}. Best is trial 2 with value: 1.0.\n",
      "[I 2023-11-22 16:20:48,225] Trial 85 finished with value: 1.0 and parameters: {'svm_C': 202.57600202309047, 'Kernel': 'poly'}. Best is trial 2 with value: 1.0.\n",
      "[I 2023-11-22 16:20:48,241] Trial 86 finished with value: 1.0 and parameters: {'svm_C': 11497.315281899313, 'Kernel': 'rbf'}. Best is trial 2 with value: 1.0.\n",
      "[I 2023-11-22 16:20:48,256] Trial 87 finished with value: 1.0 and parameters: {'svm_C': 1006.4681271785927, 'Kernel': 'poly'}. Best is trial 2 with value: 1.0.\n",
      "[I 2023-11-22 16:20:48,271] Trial 88 finished with value: 1.0 and parameters: {'svm_C': 49.12714376705946, 'Kernel': 'linear'}. Best is trial 2 with value: 1.0.\n",
      "[I 2023-11-22 16:20:48,287] Trial 89 finished with value: 1.0 and parameters: {'svm_C': 15738.271879270485, 'Kernel': 'poly'}. Best is trial 2 with value: 1.0.\n",
      "[I 2023-11-22 16:20:48,316] Trial 90 finished with value: 0.31 and parameters: {'svm_C': 273.45032859400055, 'Kernel': 'sigmoid'}. Best is trial 2 with value: 1.0.\n",
      "[I 2023-11-22 16:20:48,332] Trial 91 finished with value: 1.0 and parameters: {'svm_C': 6.351139784382742, 'Kernel': 'linear'}. Best is trial 2 with value: 1.0.\n",
      "[I 2023-11-22 16:20:48,346] Trial 92 finished with value: 1.0 and parameters: {'svm_C': 16.277086816697363, 'Kernel': 'linear'}. Best is trial 2 with value: 1.0.\n",
      "[I 2023-11-22 16:20:48,361] Trial 93 finished with value: 1.0 and parameters: {'svm_C': 93.47344934748422, 'Kernel': 'linear'}. Best is trial 2 with value: 1.0.\n",
      "[I 2023-11-22 16:20:48,375] Trial 94 finished with value: 1.0 and parameters: {'svm_C': 2428.032383082387, 'Kernel': 'linear'}. Best is trial 2 with value: 1.0.\n",
      "[I 2023-11-22 16:20:48,392] Trial 95 finished with value: 1.0 and parameters: {'svm_C': 21.04202654594974, 'Kernel': 'poly'}. Best is trial 2 with value: 1.0.\n",
      "[I 2023-11-22 16:20:48,406] Trial 96 finished with value: 1.0 and parameters: {'svm_C': 524.9709379026199, 'Kernel': 'linear'}. Best is trial 2 with value: 1.0.\n",
      "[I 2023-11-22 16:20:48,421] Trial 97 finished with value: 0.93 and parameters: {'svm_C': 1.5654386406797685, 'Kernel': 'poly'}. Best is trial 2 with value: 1.0.\n",
      "[I 2023-11-22 16:20:48,438] Trial 98 finished with value: 1.0 and parameters: {'svm_C': 6.516109398973286, 'Kernel': 'poly'}. Best is trial 2 with value: 1.0.\n",
      "[I 2023-11-22 16:20:48,453] Trial 99 finished with value: 1.0 and parameters: {'svm_C': 3.9904186717887082, 'Kernel': 'linear'}. Best is trial 2 with value: 1.0.\n"
     ]
    }
   ],
   "source": [
    "def objectiveSVM(trial):\n",
    "    svm_C=trial.suggest_float('svm_C',1e-10,1e5,log=True)\n",
    "    krn=trial.suggest_categorical('Kernel',['linear','poly','rbf','sigmoid'])\n",
    "\n",
    "    #entrenamiento\n",
    "    mvs=svm.SVC(C=svm_C,kernel=krn)\n",
    "    mvs.fit(X_train,y_train)\n",
    " \n",
    "    #prediccion\n",
    "    y_pred = mvs.predict(X_test)\n",
    "\n",
    "    #metrica\n",
    "    f1=metrics.f1_score(y_test,y_pred,average='micro')\n",
    "    return f1\n",
    "\n",
    "studySVM = optuna.create_study(direction='maximize')\n",
    "studySVM.optimize(objectiveSVM, n_trials=100)"
   ]
  },
  {
   "cell_type": "markdown",
   "metadata": {},
   "source": [
    "Mejores Parametros"
   ]
  },
  {
   "cell_type": "code",
   "execution_count": 279,
   "metadata": {},
   "outputs": [
    {
     "name": "stdout",
     "output_type": "stream",
     "text": [
      "{'svm_C': 18254.63882780921, 'Kernel': 'linear'}\n"
     ]
    },
    {
     "data": {
      "application/vnd.plotly.v1+json": {
       "config": {
        "plotlyServerURL": "https://plot.ly"
       },
       "data": [
        {
         "mode": "markers",
         "name": "Objective Value",
         "type": "scatter",
         "x": [
          0,
          1,
          2,
          3,
          4,
          5,
          6,
          7,
          8,
          9,
          10,
          11,
          12,
          13,
          14,
          15,
          16,
          17,
          18,
          19,
          20,
          21,
          22,
          23,
          24,
          25,
          26,
          27,
          28,
          29,
          30,
          31,
          32,
          33,
          34,
          35,
          36,
          37,
          38,
          39,
          40,
          41,
          42,
          43,
          44,
          45,
          46,
          47,
          48,
          49,
          50,
          51,
          52,
          53,
          54,
          55,
          56,
          57,
          58,
          59,
          60,
          61,
          62,
          63,
          64,
          65,
          66,
          67,
          68,
          69,
          70,
          71,
          72,
          73,
          74,
          75,
          76,
          77,
          78,
          79,
          80,
          81,
          82,
          83,
          84,
          85,
          86,
          87,
          88,
          89,
          90,
          91,
          92,
          93,
          94,
          95,
          96,
          97,
          98,
          99
         ],
         "y": [
          0.375,
          0.375,
          1,
          0.375,
          1,
          0.375,
          0.375,
          1,
          0.6,
          0.375,
          0.31,
          1,
          1,
          0.31,
          1,
          1,
          0.96,
          0.31,
          1,
          1,
          0.905,
          1,
          1,
          1,
          1,
          1,
          1,
          0.31,
          1,
          1,
          1,
          1,
          1,
          1,
          1,
          1,
          0.97,
          1,
          1,
          1,
          0.31,
          1,
          1,
          1,
          1,
          0.375,
          1,
          1,
          0.31,
          1,
          1,
          1,
          1,
          1,
          1,
          1,
          1,
          1,
          1,
          0.31,
          1,
          1,
          1,
          1,
          1,
          1,
          1,
          1,
          1,
          1,
          1,
          1,
          1,
          1,
          1,
          1,
          0.31,
          1,
          1,
          1,
          1,
          1,
          1,
          1,
          1,
          1,
          1,
          1,
          1,
          1,
          0.31,
          1,
          1,
          1,
          1,
          1,
          1,
          0.93,
          1,
          1
         ]
        },
        {
         "mode": "lines",
         "name": "Best Value",
         "type": "scatter",
         "x": [
          0,
          1,
          2,
          3,
          4,
          5,
          6,
          7,
          8,
          9,
          10,
          11,
          12,
          13,
          14,
          15,
          16,
          17,
          18,
          19,
          20,
          21,
          22,
          23,
          24,
          25,
          26,
          27,
          28,
          29,
          30,
          31,
          32,
          33,
          34,
          35,
          36,
          37,
          38,
          39,
          40,
          41,
          42,
          43,
          44,
          45,
          46,
          47,
          48,
          49,
          50,
          51,
          52,
          53,
          54,
          55,
          56,
          57,
          58,
          59,
          60,
          61,
          62,
          63,
          64,
          65,
          66,
          67,
          68,
          69,
          70,
          71,
          72,
          73,
          74,
          75,
          76,
          77,
          78,
          79,
          80,
          81,
          82,
          83,
          84,
          85,
          86,
          87,
          88,
          89,
          90,
          91,
          92,
          93,
          94,
          95,
          96,
          97,
          98,
          99
         ],
         "y": [
          0.375,
          0.375,
          1,
          1,
          1,
          1,
          1,
          1,
          1,
          1,
          1,
          1,
          1,
          1,
          1,
          1,
          1,
          1,
          1,
          1,
          1,
          1,
          1,
          1,
          1,
          1,
          1,
          1,
          1,
          1,
          1,
          1,
          1,
          1,
          1,
          1,
          1,
          1,
          1,
          1,
          1,
          1,
          1,
          1,
          1,
          1,
          1,
          1,
          1,
          1,
          1,
          1,
          1,
          1,
          1,
          1,
          1,
          1,
          1,
          1,
          1,
          1,
          1,
          1,
          1,
          1,
          1,
          1,
          1,
          1,
          1,
          1,
          1,
          1,
          1,
          1,
          1,
          1,
          1,
          1,
          1,
          1,
          1,
          1,
          1,
          1,
          1,
          1,
          1,
          1,
          1,
          1,
          1,
          1,
          1,
          1,
          1,
          1,
          1,
          1
         ]
        },
        {
         "marker": {
          "color": "#cccccc"
         },
         "mode": "markers",
         "name": "Infeasible Trial",
         "showlegend": false,
         "type": "scatter",
         "x": [],
         "y": []
        }
       ],
       "layout": {
        "template": {
         "data": {
          "bar": [
           {
            "error_x": {
             "color": "#2a3f5f"
            },
            "error_y": {
             "color": "#2a3f5f"
            },
            "marker": {
             "line": {
              "color": "#E5ECF6",
              "width": 0.5
             },
             "pattern": {
              "fillmode": "overlay",
              "size": 10,
              "solidity": 0.2
             }
            },
            "type": "bar"
           }
          ],
          "barpolar": [
           {
            "marker": {
             "line": {
              "color": "#E5ECF6",
              "width": 0.5
             },
             "pattern": {
              "fillmode": "overlay",
              "size": 10,
              "solidity": 0.2
             }
            },
            "type": "barpolar"
           }
          ],
          "carpet": [
           {
            "aaxis": {
             "endlinecolor": "#2a3f5f",
             "gridcolor": "white",
             "linecolor": "white",
             "minorgridcolor": "white",
             "startlinecolor": "#2a3f5f"
            },
            "baxis": {
             "endlinecolor": "#2a3f5f",
             "gridcolor": "white",
             "linecolor": "white",
             "minorgridcolor": "white",
             "startlinecolor": "#2a3f5f"
            },
            "type": "carpet"
           }
          ],
          "choropleth": [
           {
            "colorbar": {
             "outlinewidth": 0,
             "ticks": ""
            },
            "type": "choropleth"
           }
          ],
          "contour": [
           {
            "colorbar": {
             "outlinewidth": 0,
             "ticks": ""
            },
            "colorscale": [
             [
              0,
              "#0d0887"
             ],
             [
              0.1111111111111111,
              "#46039f"
             ],
             [
              0.2222222222222222,
              "#7201a8"
             ],
             [
              0.3333333333333333,
              "#9c179e"
             ],
             [
              0.4444444444444444,
              "#bd3786"
             ],
             [
              0.5555555555555556,
              "#d8576b"
             ],
             [
              0.6666666666666666,
              "#ed7953"
             ],
             [
              0.7777777777777778,
              "#fb9f3a"
             ],
             [
              0.8888888888888888,
              "#fdca26"
             ],
             [
              1,
              "#f0f921"
             ]
            ],
            "type": "contour"
           }
          ],
          "contourcarpet": [
           {
            "colorbar": {
             "outlinewidth": 0,
             "ticks": ""
            },
            "type": "contourcarpet"
           }
          ],
          "heatmap": [
           {
            "colorbar": {
             "outlinewidth": 0,
             "ticks": ""
            },
            "colorscale": [
             [
              0,
              "#0d0887"
             ],
             [
              0.1111111111111111,
              "#46039f"
             ],
             [
              0.2222222222222222,
              "#7201a8"
             ],
             [
              0.3333333333333333,
              "#9c179e"
             ],
             [
              0.4444444444444444,
              "#bd3786"
             ],
             [
              0.5555555555555556,
              "#d8576b"
             ],
             [
              0.6666666666666666,
              "#ed7953"
             ],
             [
              0.7777777777777778,
              "#fb9f3a"
             ],
             [
              0.8888888888888888,
              "#fdca26"
             ],
             [
              1,
              "#f0f921"
             ]
            ],
            "type": "heatmap"
           }
          ],
          "heatmapgl": [
           {
            "colorbar": {
             "outlinewidth": 0,
             "ticks": ""
            },
            "colorscale": [
             [
              0,
              "#0d0887"
             ],
             [
              0.1111111111111111,
              "#46039f"
             ],
             [
              0.2222222222222222,
              "#7201a8"
             ],
             [
              0.3333333333333333,
              "#9c179e"
             ],
             [
              0.4444444444444444,
              "#bd3786"
             ],
             [
              0.5555555555555556,
              "#d8576b"
             ],
             [
              0.6666666666666666,
              "#ed7953"
             ],
             [
              0.7777777777777778,
              "#fb9f3a"
             ],
             [
              0.8888888888888888,
              "#fdca26"
             ],
             [
              1,
              "#f0f921"
             ]
            ],
            "type": "heatmapgl"
           }
          ],
          "histogram": [
           {
            "marker": {
             "pattern": {
              "fillmode": "overlay",
              "size": 10,
              "solidity": 0.2
             }
            },
            "type": "histogram"
           }
          ],
          "histogram2d": [
           {
            "colorbar": {
             "outlinewidth": 0,
             "ticks": ""
            },
            "colorscale": [
             [
              0,
              "#0d0887"
             ],
             [
              0.1111111111111111,
              "#46039f"
             ],
             [
              0.2222222222222222,
              "#7201a8"
             ],
             [
              0.3333333333333333,
              "#9c179e"
             ],
             [
              0.4444444444444444,
              "#bd3786"
             ],
             [
              0.5555555555555556,
              "#d8576b"
             ],
             [
              0.6666666666666666,
              "#ed7953"
             ],
             [
              0.7777777777777778,
              "#fb9f3a"
             ],
             [
              0.8888888888888888,
              "#fdca26"
             ],
             [
              1,
              "#f0f921"
             ]
            ],
            "type": "histogram2d"
           }
          ],
          "histogram2dcontour": [
           {
            "colorbar": {
             "outlinewidth": 0,
             "ticks": ""
            },
            "colorscale": [
             [
              0,
              "#0d0887"
             ],
             [
              0.1111111111111111,
              "#46039f"
             ],
             [
              0.2222222222222222,
              "#7201a8"
             ],
             [
              0.3333333333333333,
              "#9c179e"
             ],
             [
              0.4444444444444444,
              "#bd3786"
             ],
             [
              0.5555555555555556,
              "#d8576b"
             ],
             [
              0.6666666666666666,
              "#ed7953"
             ],
             [
              0.7777777777777778,
              "#fb9f3a"
             ],
             [
              0.8888888888888888,
              "#fdca26"
             ],
             [
              1,
              "#f0f921"
             ]
            ],
            "type": "histogram2dcontour"
           }
          ],
          "mesh3d": [
           {
            "colorbar": {
             "outlinewidth": 0,
             "ticks": ""
            },
            "type": "mesh3d"
           }
          ],
          "parcoords": [
           {
            "line": {
             "colorbar": {
              "outlinewidth": 0,
              "ticks": ""
             }
            },
            "type": "parcoords"
           }
          ],
          "pie": [
           {
            "automargin": true,
            "type": "pie"
           }
          ],
          "scatter": [
           {
            "fillpattern": {
             "fillmode": "overlay",
             "size": 10,
             "solidity": 0.2
            },
            "type": "scatter"
           }
          ],
          "scatter3d": [
           {
            "line": {
             "colorbar": {
              "outlinewidth": 0,
              "ticks": ""
             }
            },
            "marker": {
             "colorbar": {
              "outlinewidth": 0,
              "ticks": ""
             }
            },
            "type": "scatter3d"
           }
          ],
          "scattercarpet": [
           {
            "marker": {
             "colorbar": {
              "outlinewidth": 0,
              "ticks": ""
             }
            },
            "type": "scattercarpet"
           }
          ],
          "scattergeo": [
           {
            "marker": {
             "colorbar": {
              "outlinewidth": 0,
              "ticks": ""
             }
            },
            "type": "scattergeo"
           }
          ],
          "scattergl": [
           {
            "marker": {
             "colorbar": {
              "outlinewidth": 0,
              "ticks": ""
             }
            },
            "type": "scattergl"
           }
          ],
          "scattermapbox": [
           {
            "marker": {
             "colorbar": {
              "outlinewidth": 0,
              "ticks": ""
             }
            },
            "type": "scattermapbox"
           }
          ],
          "scatterpolar": [
           {
            "marker": {
             "colorbar": {
              "outlinewidth": 0,
              "ticks": ""
             }
            },
            "type": "scatterpolar"
           }
          ],
          "scatterpolargl": [
           {
            "marker": {
             "colorbar": {
              "outlinewidth": 0,
              "ticks": ""
             }
            },
            "type": "scatterpolargl"
           }
          ],
          "scatterternary": [
           {
            "marker": {
             "colorbar": {
              "outlinewidth": 0,
              "ticks": ""
             }
            },
            "type": "scatterternary"
           }
          ],
          "surface": [
           {
            "colorbar": {
             "outlinewidth": 0,
             "ticks": ""
            },
            "colorscale": [
             [
              0,
              "#0d0887"
             ],
             [
              0.1111111111111111,
              "#46039f"
             ],
             [
              0.2222222222222222,
              "#7201a8"
             ],
             [
              0.3333333333333333,
              "#9c179e"
             ],
             [
              0.4444444444444444,
              "#bd3786"
             ],
             [
              0.5555555555555556,
              "#d8576b"
             ],
             [
              0.6666666666666666,
              "#ed7953"
             ],
             [
              0.7777777777777778,
              "#fb9f3a"
             ],
             [
              0.8888888888888888,
              "#fdca26"
             ],
             [
              1,
              "#f0f921"
             ]
            ],
            "type": "surface"
           }
          ],
          "table": [
           {
            "cells": {
             "fill": {
              "color": "#EBF0F8"
             },
             "line": {
              "color": "white"
             }
            },
            "header": {
             "fill": {
              "color": "#C8D4E3"
             },
             "line": {
              "color": "white"
             }
            },
            "type": "table"
           }
          ]
         },
         "layout": {
          "annotationdefaults": {
           "arrowcolor": "#2a3f5f",
           "arrowhead": 0,
           "arrowwidth": 1
          },
          "autotypenumbers": "strict",
          "coloraxis": {
           "colorbar": {
            "outlinewidth": 0,
            "ticks": ""
           }
          },
          "colorscale": {
           "diverging": [
            [
             0,
             "#8e0152"
            ],
            [
             0.1,
             "#c51b7d"
            ],
            [
             0.2,
             "#de77ae"
            ],
            [
             0.3,
             "#f1b6da"
            ],
            [
             0.4,
             "#fde0ef"
            ],
            [
             0.5,
             "#f7f7f7"
            ],
            [
             0.6,
             "#e6f5d0"
            ],
            [
             0.7,
             "#b8e186"
            ],
            [
             0.8,
             "#7fbc41"
            ],
            [
             0.9,
             "#4d9221"
            ],
            [
             1,
             "#276419"
            ]
           ],
           "sequential": [
            [
             0,
             "#0d0887"
            ],
            [
             0.1111111111111111,
             "#46039f"
            ],
            [
             0.2222222222222222,
             "#7201a8"
            ],
            [
             0.3333333333333333,
             "#9c179e"
            ],
            [
             0.4444444444444444,
             "#bd3786"
            ],
            [
             0.5555555555555556,
             "#d8576b"
            ],
            [
             0.6666666666666666,
             "#ed7953"
            ],
            [
             0.7777777777777778,
             "#fb9f3a"
            ],
            [
             0.8888888888888888,
             "#fdca26"
            ],
            [
             1,
             "#f0f921"
            ]
           ],
           "sequentialminus": [
            [
             0,
             "#0d0887"
            ],
            [
             0.1111111111111111,
             "#46039f"
            ],
            [
             0.2222222222222222,
             "#7201a8"
            ],
            [
             0.3333333333333333,
             "#9c179e"
            ],
            [
             0.4444444444444444,
             "#bd3786"
            ],
            [
             0.5555555555555556,
             "#d8576b"
            ],
            [
             0.6666666666666666,
             "#ed7953"
            ],
            [
             0.7777777777777778,
             "#fb9f3a"
            ],
            [
             0.8888888888888888,
             "#fdca26"
            ],
            [
             1,
             "#f0f921"
            ]
           ]
          },
          "colorway": [
           "#636efa",
           "#EF553B",
           "#00cc96",
           "#ab63fa",
           "#FFA15A",
           "#19d3f3",
           "#FF6692",
           "#B6E880",
           "#FF97FF",
           "#FECB52"
          ],
          "font": {
           "color": "#2a3f5f"
          },
          "geo": {
           "bgcolor": "white",
           "lakecolor": "white",
           "landcolor": "#E5ECF6",
           "showlakes": true,
           "showland": true,
           "subunitcolor": "white"
          },
          "hoverlabel": {
           "align": "left"
          },
          "hovermode": "closest",
          "mapbox": {
           "style": "light"
          },
          "paper_bgcolor": "white",
          "plot_bgcolor": "#E5ECF6",
          "polar": {
           "angularaxis": {
            "gridcolor": "white",
            "linecolor": "white",
            "ticks": ""
           },
           "bgcolor": "#E5ECF6",
           "radialaxis": {
            "gridcolor": "white",
            "linecolor": "white",
            "ticks": ""
           }
          },
          "scene": {
           "xaxis": {
            "backgroundcolor": "#E5ECF6",
            "gridcolor": "white",
            "gridwidth": 2,
            "linecolor": "white",
            "showbackground": true,
            "ticks": "",
            "zerolinecolor": "white"
           },
           "yaxis": {
            "backgroundcolor": "#E5ECF6",
            "gridcolor": "white",
            "gridwidth": 2,
            "linecolor": "white",
            "showbackground": true,
            "ticks": "",
            "zerolinecolor": "white"
           },
           "zaxis": {
            "backgroundcolor": "#E5ECF6",
            "gridcolor": "white",
            "gridwidth": 2,
            "linecolor": "white",
            "showbackground": true,
            "ticks": "",
            "zerolinecolor": "white"
           }
          },
          "shapedefaults": {
           "line": {
            "color": "#2a3f5f"
           }
          },
          "ternary": {
           "aaxis": {
            "gridcolor": "white",
            "linecolor": "white",
            "ticks": ""
           },
           "baxis": {
            "gridcolor": "white",
            "linecolor": "white",
            "ticks": ""
           },
           "bgcolor": "#E5ECF6",
           "caxis": {
            "gridcolor": "white",
            "linecolor": "white",
            "ticks": ""
           }
          },
          "title": {
           "x": 0.05
          },
          "xaxis": {
           "automargin": true,
           "gridcolor": "white",
           "linecolor": "white",
           "ticks": "",
           "title": {
            "standoff": 15
           },
           "zerolinecolor": "white",
           "zerolinewidth": 2
          },
          "yaxis": {
           "automargin": true,
           "gridcolor": "white",
           "linecolor": "white",
           "ticks": "",
           "title": {
            "standoff": 15
           },
           "zerolinecolor": "white",
           "zerolinewidth": 2
          }
         }
        },
        "title": {
         "text": "Optimization History Plot"
        },
        "xaxis": {
         "title": {
          "text": "Trial"
         }
        },
        "yaxis": {
         "title": {
          "text": "Objective Value"
         }
        }
       }
      }
     },
     "metadata": {},
     "output_type": "display_data"
    }
   ],
   "source": [
    "print(studySVM.best_params)\n",
    "optuna.visualization.plot_optimization_history(studySVM)"
   ]
  },
  {
   "cell_type": "code",
   "execution_count": 280,
   "metadata": {},
   "outputs": [
    {
     "data": {
      "application/vnd.plotly.v1+json": {
       "config": {
        "plotlyServerURL": "https://plot.ly"
       },
       "data": [
        {
         "dimensions": [
          {
           "label": "Objective Value",
           "range": [
            0.31,
            1
           ],
           "values": [
            0.375,
            0.375,
            1,
            0.375,
            1,
            0.375,
            0.375,
            1,
            0.6,
            0.375,
            0.31,
            1,
            1,
            0.31,
            1,
            1,
            0.96,
            0.31,
            1,
            1,
            0.905,
            1,
            1,
            1,
            1,
            1,
            1,
            0.31,
            1,
            1,
            1,
            1,
            1,
            1,
            1,
            1,
            0.97,
            1,
            1,
            1,
            0.31,
            1,
            1,
            1,
            1,
            0.375,
            1,
            1,
            0.31,
            1,
            1,
            1,
            1,
            1,
            1,
            1,
            1,
            1,
            1,
            0.31,
            1,
            1,
            1,
            1,
            1,
            1,
            1,
            1,
            1,
            1,
            1,
            1,
            1,
            1,
            1,
            1,
            0.31,
            1,
            1,
            1,
            1,
            1,
            1,
            1,
            1,
            1,
            1,
            1,
            1,
            1,
            0.31,
            1,
            1,
            1,
            1,
            1,
            1,
            0.93,
            1,
            1
           ]
          },
          {
           "label": "Kernel",
           "range": [
            0,
            3
           ],
           "ticktext": [
            "linear",
            "rbf",
            "poly",
            "sigmoid"
           ],
           "tickvals": [
            0,
            1,
            2,
            3
           ],
           "values": [
            0,
            0,
            0,
            1,
            2,
            2,
            0,
            0,
            1,
            0,
            3,
            2,
            2,
            3,
            2,
            2,
            1,
            3,
            0,
            2,
            2,
            0,
            0,
            0,
            0,
            0,
            1,
            3,
            0,
            0,
            2,
            2,
            2,
            2,
            2,
            0,
            1,
            2,
            0,
            2,
            3,
            2,
            2,
            2,
            2,
            1,
            0,
            2,
            3,
            2,
            0,
            2,
            2,
            2,
            2,
            0,
            1,
            2,
            0,
            3,
            2,
            2,
            2,
            2,
            0,
            2,
            2,
            0,
            2,
            0,
            1,
            0,
            0,
            0,
            0,
            2,
            3,
            0,
            2,
            2,
            0,
            2,
            2,
            2,
            2,
            2,
            1,
            2,
            0,
            2,
            3,
            0,
            0,
            0,
            0,
            2,
            0,
            2,
            2,
            0
           ]
          },
          {
           "label": "svm_C",
           "range": [
            -9.15930211709213,
            4.989389601230239
           ],
           "ticktext": [
            "6.93e-10",
            "1e-09",
            "1e-08",
            "1e-07",
            "1e-06",
            "1e-05",
            "0.0001",
            "0.001",
            "0.01",
            "0.1",
            "1",
            "10",
            "100",
            "1e+03",
            "1e+04",
            "9.76e+04"
           ],
           "tickvals": [
            -9.15930211709213,
            -9,
            -8,
            -7,
            -6,
            -5,
            -4,
            -3,
            -2,
            -1,
            0,
            1,
            2,
            3,
            4,
            4.989389601230239
           ],
           "values": [
            -5.651953428834964,
            -7.818038120938705,
            4.261373244755417,
            -3.8250687768548586,
            1.8511446582319089,
            -3.8870701276493387,
            -9.15930211709213,
            0.33622412718425176,
            -1.2699291041462706,
            -6.10047485806795,
            4.775224129486898,
            3.9941445639001163,
            2.294857695609549,
            1.8404476855268332,
            4.977115967235299,
            2.443459883098915,
            -0.16448511346236447,
            3.0866584611956873,
            1.0281582863412237,
            3.409698482533712,
            -1.1190625903018674,
            1.0064975186924927,
            0.6048563276467114,
            3.442708185202791,
            2.008031003892704,
            -0.06929358322603116,
            4.364316634861125,
            3.1422051283127908,
            1.4529536613313552,
            -1.4415935416610355,
            2.7298118595044736,
            3.943216752415501,
            4.424762986411766,
            3.388225301633686,
            2.1846709018741954,
            3.921008220680705,
            0.4288523794338333,
            1.5872469628539219,
            4.917458955228752,
            2.676715269496138,
            4.004540167945461,
            2.226363186665068,
            1.5646032229229876,
            2.5173286649782884,
            4.030600384265346,
            -3.5845133422342257,
            2.921444191478942,
            4.877998076599738,
            1.964527355517723,
            3.547115843703989,
            1.0131759679216443,
            4.462246807008314,
            3.1558276662059046,
            4.928291491469458,
            3.7102593597563636,
            2.6855112273480293,
            4.318083691354269,
            3.3435926170609074,
            2.2860401063550797,
            4.541098249303724,
            1.3871248287408435,
            2.972624189951663,
            1.9785820156536964,
            3.7267485700824787,
            0.46339619815679417,
            2.424925128787914,
            4.147002702702605,
            3.1295148577096894,
            3.581505547969637,
            1.238574608870901,
            1.7725662434048137,
            0.8677796190264407,
            0.0939970361709849,
            -0.6286940784250094,
            2.60039825496834,
            1.0372469249372587,
            1.533909453798263,
            4.482972038506773,
            1.9801634640605579,
            3.947856773265815,
            2.8362265965219122,
            3.550676622491833,
            3.249753282070298,
            4.615144241730523,
            4.989389601230239,
            2.3065879957811632,
            4.060596440842617,
            3.0028000262096364,
            1.6913215151573349,
            4.196957043493188,
            2.4368784495847677,
            0.8028516713783452,
            1.2115766798748178,
            1.9706882692751275,
            3.3852544747014908,
            1.3230875641575621,
            2.7201352617719032,
            0.19463604957258648,
            0.8139883670685755,
            0.6010184639345331
           ]
          }
         ],
         "labelangle": 30,
         "labelside": "bottom",
         "line": {
          "color": [
           0.375,
           0.375,
           1,
           0.375,
           1,
           0.375,
           0.375,
           1,
           0.6,
           0.375,
           0.31,
           1,
           1,
           0.31,
           1,
           1,
           0.96,
           0.31,
           1,
           1,
           0.905,
           1,
           1,
           1,
           1,
           1,
           1,
           0.31,
           1,
           1,
           1,
           1,
           1,
           1,
           1,
           1,
           0.97,
           1,
           1,
           1,
           0.31,
           1,
           1,
           1,
           1,
           0.375,
           1,
           1,
           0.31,
           1,
           1,
           1,
           1,
           1,
           1,
           1,
           1,
           1,
           1,
           0.31,
           1,
           1,
           1,
           1,
           1,
           1,
           1,
           1,
           1,
           1,
           1,
           1,
           1,
           1,
           1,
           1,
           0.31,
           1,
           1,
           1,
           1,
           1,
           1,
           1,
           1,
           1,
           1,
           1,
           1,
           1,
           0.31,
           1,
           1,
           1,
           1,
           1,
           1,
           0.93,
           1,
           1
          ],
          "colorbar": {
           "title": {
            "text": "Objective Value"
           }
          },
          "colorscale": [
           [
            0,
            "rgb(247,251,255)"
           ],
           [
            0.125,
            "rgb(222,235,247)"
           ],
           [
            0.25,
            "rgb(198,219,239)"
           ],
           [
            0.375,
            "rgb(158,202,225)"
           ],
           [
            0.5,
            "rgb(107,174,214)"
           ],
           [
            0.625,
            "rgb(66,146,198)"
           ],
           [
            0.75,
            "rgb(33,113,181)"
           ],
           [
            0.875,
            "rgb(8,81,156)"
           ],
           [
            1,
            "rgb(8,48,107)"
           ]
          ],
          "reversescale": false,
          "showscale": true
         },
         "type": "parcoords"
        }
       ],
       "layout": {
        "template": {
         "data": {
          "bar": [
           {
            "error_x": {
             "color": "#2a3f5f"
            },
            "error_y": {
             "color": "#2a3f5f"
            },
            "marker": {
             "line": {
              "color": "#E5ECF6",
              "width": 0.5
             },
             "pattern": {
              "fillmode": "overlay",
              "size": 10,
              "solidity": 0.2
             }
            },
            "type": "bar"
           }
          ],
          "barpolar": [
           {
            "marker": {
             "line": {
              "color": "#E5ECF6",
              "width": 0.5
             },
             "pattern": {
              "fillmode": "overlay",
              "size": 10,
              "solidity": 0.2
             }
            },
            "type": "barpolar"
           }
          ],
          "carpet": [
           {
            "aaxis": {
             "endlinecolor": "#2a3f5f",
             "gridcolor": "white",
             "linecolor": "white",
             "minorgridcolor": "white",
             "startlinecolor": "#2a3f5f"
            },
            "baxis": {
             "endlinecolor": "#2a3f5f",
             "gridcolor": "white",
             "linecolor": "white",
             "minorgridcolor": "white",
             "startlinecolor": "#2a3f5f"
            },
            "type": "carpet"
           }
          ],
          "choropleth": [
           {
            "colorbar": {
             "outlinewidth": 0,
             "ticks": ""
            },
            "type": "choropleth"
           }
          ],
          "contour": [
           {
            "colorbar": {
             "outlinewidth": 0,
             "ticks": ""
            },
            "colorscale": [
             [
              0,
              "#0d0887"
             ],
             [
              0.1111111111111111,
              "#46039f"
             ],
             [
              0.2222222222222222,
              "#7201a8"
             ],
             [
              0.3333333333333333,
              "#9c179e"
             ],
             [
              0.4444444444444444,
              "#bd3786"
             ],
             [
              0.5555555555555556,
              "#d8576b"
             ],
             [
              0.6666666666666666,
              "#ed7953"
             ],
             [
              0.7777777777777778,
              "#fb9f3a"
             ],
             [
              0.8888888888888888,
              "#fdca26"
             ],
             [
              1,
              "#f0f921"
             ]
            ],
            "type": "contour"
           }
          ],
          "contourcarpet": [
           {
            "colorbar": {
             "outlinewidth": 0,
             "ticks": ""
            },
            "type": "contourcarpet"
           }
          ],
          "heatmap": [
           {
            "colorbar": {
             "outlinewidth": 0,
             "ticks": ""
            },
            "colorscale": [
             [
              0,
              "#0d0887"
             ],
             [
              0.1111111111111111,
              "#46039f"
             ],
             [
              0.2222222222222222,
              "#7201a8"
             ],
             [
              0.3333333333333333,
              "#9c179e"
             ],
             [
              0.4444444444444444,
              "#bd3786"
             ],
             [
              0.5555555555555556,
              "#d8576b"
             ],
             [
              0.6666666666666666,
              "#ed7953"
             ],
             [
              0.7777777777777778,
              "#fb9f3a"
             ],
             [
              0.8888888888888888,
              "#fdca26"
             ],
             [
              1,
              "#f0f921"
             ]
            ],
            "type": "heatmap"
           }
          ],
          "heatmapgl": [
           {
            "colorbar": {
             "outlinewidth": 0,
             "ticks": ""
            },
            "colorscale": [
             [
              0,
              "#0d0887"
             ],
             [
              0.1111111111111111,
              "#46039f"
             ],
             [
              0.2222222222222222,
              "#7201a8"
             ],
             [
              0.3333333333333333,
              "#9c179e"
             ],
             [
              0.4444444444444444,
              "#bd3786"
             ],
             [
              0.5555555555555556,
              "#d8576b"
             ],
             [
              0.6666666666666666,
              "#ed7953"
             ],
             [
              0.7777777777777778,
              "#fb9f3a"
             ],
             [
              0.8888888888888888,
              "#fdca26"
             ],
             [
              1,
              "#f0f921"
             ]
            ],
            "type": "heatmapgl"
           }
          ],
          "histogram": [
           {
            "marker": {
             "pattern": {
              "fillmode": "overlay",
              "size": 10,
              "solidity": 0.2
             }
            },
            "type": "histogram"
           }
          ],
          "histogram2d": [
           {
            "colorbar": {
             "outlinewidth": 0,
             "ticks": ""
            },
            "colorscale": [
             [
              0,
              "#0d0887"
             ],
             [
              0.1111111111111111,
              "#46039f"
             ],
             [
              0.2222222222222222,
              "#7201a8"
             ],
             [
              0.3333333333333333,
              "#9c179e"
             ],
             [
              0.4444444444444444,
              "#bd3786"
             ],
             [
              0.5555555555555556,
              "#d8576b"
             ],
             [
              0.6666666666666666,
              "#ed7953"
             ],
             [
              0.7777777777777778,
              "#fb9f3a"
             ],
             [
              0.8888888888888888,
              "#fdca26"
             ],
             [
              1,
              "#f0f921"
             ]
            ],
            "type": "histogram2d"
           }
          ],
          "histogram2dcontour": [
           {
            "colorbar": {
             "outlinewidth": 0,
             "ticks": ""
            },
            "colorscale": [
             [
              0,
              "#0d0887"
             ],
             [
              0.1111111111111111,
              "#46039f"
             ],
             [
              0.2222222222222222,
              "#7201a8"
             ],
             [
              0.3333333333333333,
              "#9c179e"
             ],
             [
              0.4444444444444444,
              "#bd3786"
             ],
             [
              0.5555555555555556,
              "#d8576b"
             ],
             [
              0.6666666666666666,
              "#ed7953"
             ],
             [
              0.7777777777777778,
              "#fb9f3a"
             ],
             [
              0.8888888888888888,
              "#fdca26"
             ],
             [
              1,
              "#f0f921"
             ]
            ],
            "type": "histogram2dcontour"
           }
          ],
          "mesh3d": [
           {
            "colorbar": {
             "outlinewidth": 0,
             "ticks": ""
            },
            "type": "mesh3d"
           }
          ],
          "parcoords": [
           {
            "line": {
             "colorbar": {
              "outlinewidth": 0,
              "ticks": ""
             }
            },
            "type": "parcoords"
           }
          ],
          "pie": [
           {
            "automargin": true,
            "type": "pie"
           }
          ],
          "scatter": [
           {
            "fillpattern": {
             "fillmode": "overlay",
             "size": 10,
             "solidity": 0.2
            },
            "type": "scatter"
           }
          ],
          "scatter3d": [
           {
            "line": {
             "colorbar": {
              "outlinewidth": 0,
              "ticks": ""
             }
            },
            "marker": {
             "colorbar": {
              "outlinewidth": 0,
              "ticks": ""
             }
            },
            "type": "scatter3d"
           }
          ],
          "scattercarpet": [
           {
            "marker": {
             "colorbar": {
              "outlinewidth": 0,
              "ticks": ""
             }
            },
            "type": "scattercarpet"
           }
          ],
          "scattergeo": [
           {
            "marker": {
             "colorbar": {
              "outlinewidth": 0,
              "ticks": ""
             }
            },
            "type": "scattergeo"
           }
          ],
          "scattergl": [
           {
            "marker": {
             "colorbar": {
              "outlinewidth": 0,
              "ticks": ""
             }
            },
            "type": "scattergl"
           }
          ],
          "scattermapbox": [
           {
            "marker": {
             "colorbar": {
              "outlinewidth": 0,
              "ticks": ""
             }
            },
            "type": "scattermapbox"
           }
          ],
          "scatterpolar": [
           {
            "marker": {
             "colorbar": {
              "outlinewidth": 0,
              "ticks": ""
             }
            },
            "type": "scatterpolar"
           }
          ],
          "scatterpolargl": [
           {
            "marker": {
             "colorbar": {
              "outlinewidth": 0,
              "ticks": ""
             }
            },
            "type": "scatterpolargl"
           }
          ],
          "scatterternary": [
           {
            "marker": {
             "colorbar": {
              "outlinewidth": 0,
              "ticks": ""
             }
            },
            "type": "scatterternary"
           }
          ],
          "surface": [
           {
            "colorbar": {
             "outlinewidth": 0,
             "ticks": ""
            },
            "colorscale": [
             [
              0,
              "#0d0887"
             ],
             [
              0.1111111111111111,
              "#46039f"
             ],
             [
              0.2222222222222222,
              "#7201a8"
             ],
             [
              0.3333333333333333,
              "#9c179e"
             ],
             [
              0.4444444444444444,
              "#bd3786"
             ],
             [
              0.5555555555555556,
              "#d8576b"
             ],
             [
              0.6666666666666666,
              "#ed7953"
             ],
             [
              0.7777777777777778,
              "#fb9f3a"
             ],
             [
              0.8888888888888888,
              "#fdca26"
             ],
             [
              1,
              "#f0f921"
             ]
            ],
            "type": "surface"
           }
          ],
          "table": [
           {
            "cells": {
             "fill": {
              "color": "#EBF0F8"
             },
             "line": {
              "color": "white"
             }
            },
            "header": {
             "fill": {
              "color": "#C8D4E3"
             },
             "line": {
              "color": "white"
             }
            },
            "type": "table"
           }
          ]
         },
         "layout": {
          "annotationdefaults": {
           "arrowcolor": "#2a3f5f",
           "arrowhead": 0,
           "arrowwidth": 1
          },
          "autotypenumbers": "strict",
          "coloraxis": {
           "colorbar": {
            "outlinewidth": 0,
            "ticks": ""
           }
          },
          "colorscale": {
           "diverging": [
            [
             0,
             "#8e0152"
            ],
            [
             0.1,
             "#c51b7d"
            ],
            [
             0.2,
             "#de77ae"
            ],
            [
             0.3,
             "#f1b6da"
            ],
            [
             0.4,
             "#fde0ef"
            ],
            [
             0.5,
             "#f7f7f7"
            ],
            [
             0.6,
             "#e6f5d0"
            ],
            [
             0.7,
             "#b8e186"
            ],
            [
             0.8,
             "#7fbc41"
            ],
            [
             0.9,
             "#4d9221"
            ],
            [
             1,
             "#276419"
            ]
           ],
           "sequential": [
            [
             0,
             "#0d0887"
            ],
            [
             0.1111111111111111,
             "#46039f"
            ],
            [
             0.2222222222222222,
             "#7201a8"
            ],
            [
             0.3333333333333333,
             "#9c179e"
            ],
            [
             0.4444444444444444,
             "#bd3786"
            ],
            [
             0.5555555555555556,
             "#d8576b"
            ],
            [
             0.6666666666666666,
             "#ed7953"
            ],
            [
             0.7777777777777778,
             "#fb9f3a"
            ],
            [
             0.8888888888888888,
             "#fdca26"
            ],
            [
             1,
             "#f0f921"
            ]
           ],
           "sequentialminus": [
            [
             0,
             "#0d0887"
            ],
            [
             0.1111111111111111,
             "#46039f"
            ],
            [
             0.2222222222222222,
             "#7201a8"
            ],
            [
             0.3333333333333333,
             "#9c179e"
            ],
            [
             0.4444444444444444,
             "#bd3786"
            ],
            [
             0.5555555555555556,
             "#d8576b"
            ],
            [
             0.6666666666666666,
             "#ed7953"
            ],
            [
             0.7777777777777778,
             "#fb9f3a"
            ],
            [
             0.8888888888888888,
             "#fdca26"
            ],
            [
             1,
             "#f0f921"
            ]
           ]
          },
          "colorway": [
           "#636efa",
           "#EF553B",
           "#00cc96",
           "#ab63fa",
           "#FFA15A",
           "#19d3f3",
           "#FF6692",
           "#B6E880",
           "#FF97FF",
           "#FECB52"
          ],
          "font": {
           "color": "#2a3f5f"
          },
          "geo": {
           "bgcolor": "white",
           "lakecolor": "white",
           "landcolor": "#E5ECF6",
           "showlakes": true,
           "showland": true,
           "subunitcolor": "white"
          },
          "hoverlabel": {
           "align": "left"
          },
          "hovermode": "closest",
          "mapbox": {
           "style": "light"
          },
          "paper_bgcolor": "white",
          "plot_bgcolor": "#E5ECF6",
          "polar": {
           "angularaxis": {
            "gridcolor": "white",
            "linecolor": "white",
            "ticks": ""
           },
           "bgcolor": "#E5ECF6",
           "radialaxis": {
            "gridcolor": "white",
            "linecolor": "white",
            "ticks": ""
           }
          },
          "scene": {
           "xaxis": {
            "backgroundcolor": "#E5ECF6",
            "gridcolor": "white",
            "gridwidth": 2,
            "linecolor": "white",
            "showbackground": true,
            "ticks": "",
            "zerolinecolor": "white"
           },
           "yaxis": {
            "backgroundcolor": "#E5ECF6",
            "gridcolor": "white",
            "gridwidth": 2,
            "linecolor": "white",
            "showbackground": true,
            "ticks": "",
            "zerolinecolor": "white"
           },
           "zaxis": {
            "backgroundcolor": "#E5ECF6",
            "gridcolor": "white",
            "gridwidth": 2,
            "linecolor": "white",
            "showbackground": true,
            "ticks": "",
            "zerolinecolor": "white"
           }
          },
          "shapedefaults": {
           "line": {
            "color": "#2a3f5f"
           }
          },
          "ternary": {
           "aaxis": {
            "gridcolor": "white",
            "linecolor": "white",
            "ticks": ""
           },
           "baxis": {
            "gridcolor": "white",
            "linecolor": "white",
            "ticks": ""
           },
           "bgcolor": "#E5ECF6",
           "caxis": {
            "gridcolor": "white",
            "linecolor": "white",
            "ticks": ""
           }
          },
          "title": {
           "x": 0.05
          },
          "xaxis": {
           "automargin": true,
           "gridcolor": "white",
           "linecolor": "white",
           "ticks": "",
           "title": {
            "standoff": 15
           },
           "zerolinecolor": "white",
           "zerolinewidth": 2
          },
          "yaxis": {
           "automargin": true,
           "gridcolor": "white",
           "linecolor": "white",
           "ticks": "",
           "title": {
            "standoff": 15
           },
           "zerolinecolor": "white",
           "zerolinewidth": 2
          }
         }
        },
        "title": {
         "text": "Parallel Coordinate Plot"
        }
       }
      }
     },
     "metadata": {},
     "output_type": "display_data"
    }
   ],
   "source": [
    "optuna.visualization.plot_parallel_coordinate(studySVM)"
   ]
  },
  {
   "cell_type": "code",
   "execution_count": 281,
   "metadata": {},
   "outputs": [
    {
     "data": {
      "application/vnd.plotly.v1+json": {
       "config": {
        "plotlyServerURL": "https://plot.ly"
       },
       "data": [
        {
         "cliponaxis": false,
         "hovertemplate": [
          "svm_C (FloatDistribution): 2.649881095740162e-06<extra></extra>",
          "Kernel (CategoricalDistribution): 0.9999973501189042<extra></extra>"
         ],
         "name": "Objective Value",
         "orientation": "h",
         "text": [
          "<0.01",
          "1.00"
         ],
         "textposition": "outside",
         "type": "bar",
         "x": [
          0.000002649881095740162,
          0.9999973501189042
         ],
         "y": [
          "svm_C",
          "Kernel"
         ]
        }
       ],
       "layout": {
        "template": {
         "data": {
          "bar": [
           {
            "error_x": {
             "color": "#2a3f5f"
            },
            "error_y": {
             "color": "#2a3f5f"
            },
            "marker": {
             "line": {
              "color": "#E5ECF6",
              "width": 0.5
             },
             "pattern": {
              "fillmode": "overlay",
              "size": 10,
              "solidity": 0.2
             }
            },
            "type": "bar"
           }
          ],
          "barpolar": [
           {
            "marker": {
             "line": {
              "color": "#E5ECF6",
              "width": 0.5
             },
             "pattern": {
              "fillmode": "overlay",
              "size": 10,
              "solidity": 0.2
             }
            },
            "type": "barpolar"
           }
          ],
          "carpet": [
           {
            "aaxis": {
             "endlinecolor": "#2a3f5f",
             "gridcolor": "white",
             "linecolor": "white",
             "minorgridcolor": "white",
             "startlinecolor": "#2a3f5f"
            },
            "baxis": {
             "endlinecolor": "#2a3f5f",
             "gridcolor": "white",
             "linecolor": "white",
             "minorgridcolor": "white",
             "startlinecolor": "#2a3f5f"
            },
            "type": "carpet"
           }
          ],
          "choropleth": [
           {
            "colorbar": {
             "outlinewidth": 0,
             "ticks": ""
            },
            "type": "choropleth"
           }
          ],
          "contour": [
           {
            "colorbar": {
             "outlinewidth": 0,
             "ticks": ""
            },
            "colorscale": [
             [
              0,
              "#0d0887"
             ],
             [
              0.1111111111111111,
              "#46039f"
             ],
             [
              0.2222222222222222,
              "#7201a8"
             ],
             [
              0.3333333333333333,
              "#9c179e"
             ],
             [
              0.4444444444444444,
              "#bd3786"
             ],
             [
              0.5555555555555556,
              "#d8576b"
             ],
             [
              0.6666666666666666,
              "#ed7953"
             ],
             [
              0.7777777777777778,
              "#fb9f3a"
             ],
             [
              0.8888888888888888,
              "#fdca26"
             ],
             [
              1,
              "#f0f921"
             ]
            ],
            "type": "contour"
           }
          ],
          "contourcarpet": [
           {
            "colorbar": {
             "outlinewidth": 0,
             "ticks": ""
            },
            "type": "contourcarpet"
           }
          ],
          "heatmap": [
           {
            "colorbar": {
             "outlinewidth": 0,
             "ticks": ""
            },
            "colorscale": [
             [
              0,
              "#0d0887"
             ],
             [
              0.1111111111111111,
              "#46039f"
             ],
             [
              0.2222222222222222,
              "#7201a8"
             ],
             [
              0.3333333333333333,
              "#9c179e"
             ],
             [
              0.4444444444444444,
              "#bd3786"
             ],
             [
              0.5555555555555556,
              "#d8576b"
             ],
             [
              0.6666666666666666,
              "#ed7953"
             ],
             [
              0.7777777777777778,
              "#fb9f3a"
             ],
             [
              0.8888888888888888,
              "#fdca26"
             ],
             [
              1,
              "#f0f921"
             ]
            ],
            "type": "heatmap"
           }
          ],
          "heatmapgl": [
           {
            "colorbar": {
             "outlinewidth": 0,
             "ticks": ""
            },
            "colorscale": [
             [
              0,
              "#0d0887"
             ],
             [
              0.1111111111111111,
              "#46039f"
             ],
             [
              0.2222222222222222,
              "#7201a8"
             ],
             [
              0.3333333333333333,
              "#9c179e"
             ],
             [
              0.4444444444444444,
              "#bd3786"
             ],
             [
              0.5555555555555556,
              "#d8576b"
             ],
             [
              0.6666666666666666,
              "#ed7953"
             ],
             [
              0.7777777777777778,
              "#fb9f3a"
             ],
             [
              0.8888888888888888,
              "#fdca26"
             ],
             [
              1,
              "#f0f921"
             ]
            ],
            "type": "heatmapgl"
           }
          ],
          "histogram": [
           {
            "marker": {
             "pattern": {
              "fillmode": "overlay",
              "size": 10,
              "solidity": 0.2
             }
            },
            "type": "histogram"
           }
          ],
          "histogram2d": [
           {
            "colorbar": {
             "outlinewidth": 0,
             "ticks": ""
            },
            "colorscale": [
             [
              0,
              "#0d0887"
             ],
             [
              0.1111111111111111,
              "#46039f"
             ],
             [
              0.2222222222222222,
              "#7201a8"
             ],
             [
              0.3333333333333333,
              "#9c179e"
             ],
             [
              0.4444444444444444,
              "#bd3786"
             ],
             [
              0.5555555555555556,
              "#d8576b"
             ],
             [
              0.6666666666666666,
              "#ed7953"
             ],
             [
              0.7777777777777778,
              "#fb9f3a"
             ],
             [
              0.8888888888888888,
              "#fdca26"
             ],
             [
              1,
              "#f0f921"
             ]
            ],
            "type": "histogram2d"
           }
          ],
          "histogram2dcontour": [
           {
            "colorbar": {
             "outlinewidth": 0,
             "ticks": ""
            },
            "colorscale": [
             [
              0,
              "#0d0887"
             ],
             [
              0.1111111111111111,
              "#46039f"
             ],
             [
              0.2222222222222222,
              "#7201a8"
             ],
             [
              0.3333333333333333,
              "#9c179e"
             ],
             [
              0.4444444444444444,
              "#bd3786"
             ],
             [
              0.5555555555555556,
              "#d8576b"
             ],
             [
              0.6666666666666666,
              "#ed7953"
             ],
             [
              0.7777777777777778,
              "#fb9f3a"
             ],
             [
              0.8888888888888888,
              "#fdca26"
             ],
             [
              1,
              "#f0f921"
             ]
            ],
            "type": "histogram2dcontour"
           }
          ],
          "mesh3d": [
           {
            "colorbar": {
             "outlinewidth": 0,
             "ticks": ""
            },
            "type": "mesh3d"
           }
          ],
          "parcoords": [
           {
            "line": {
             "colorbar": {
              "outlinewidth": 0,
              "ticks": ""
             }
            },
            "type": "parcoords"
           }
          ],
          "pie": [
           {
            "automargin": true,
            "type": "pie"
           }
          ],
          "scatter": [
           {
            "fillpattern": {
             "fillmode": "overlay",
             "size": 10,
             "solidity": 0.2
            },
            "type": "scatter"
           }
          ],
          "scatter3d": [
           {
            "line": {
             "colorbar": {
              "outlinewidth": 0,
              "ticks": ""
             }
            },
            "marker": {
             "colorbar": {
              "outlinewidth": 0,
              "ticks": ""
             }
            },
            "type": "scatter3d"
           }
          ],
          "scattercarpet": [
           {
            "marker": {
             "colorbar": {
              "outlinewidth": 0,
              "ticks": ""
             }
            },
            "type": "scattercarpet"
           }
          ],
          "scattergeo": [
           {
            "marker": {
             "colorbar": {
              "outlinewidth": 0,
              "ticks": ""
             }
            },
            "type": "scattergeo"
           }
          ],
          "scattergl": [
           {
            "marker": {
             "colorbar": {
              "outlinewidth": 0,
              "ticks": ""
             }
            },
            "type": "scattergl"
           }
          ],
          "scattermapbox": [
           {
            "marker": {
             "colorbar": {
              "outlinewidth": 0,
              "ticks": ""
             }
            },
            "type": "scattermapbox"
           }
          ],
          "scatterpolar": [
           {
            "marker": {
             "colorbar": {
              "outlinewidth": 0,
              "ticks": ""
             }
            },
            "type": "scatterpolar"
           }
          ],
          "scatterpolargl": [
           {
            "marker": {
             "colorbar": {
              "outlinewidth": 0,
              "ticks": ""
             }
            },
            "type": "scatterpolargl"
           }
          ],
          "scatterternary": [
           {
            "marker": {
             "colorbar": {
              "outlinewidth": 0,
              "ticks": ""
             }
            },
            "type": "scatterternary"
           }
          ],
          "surface": [
           {
            "colorbar": {
             "outlinewidth": 0,
             "ticks": ""
            },
            "colorscale": [
             [
              0,
              "#0d0887"
             ],
             [
              0.1111111111111111,
              "#46039f"
             ],
             [
              0.2222222222222222,
              "#7201a8"
             ],
             [
              0.3333333333333333,
              "#9c179e"
             ],
             [
              0.4444444444444444,
              "#bd3786"
             ],
             [
              0.5555555555555556,
              "#d8576b"
             ],
             [
              0.6666666666666666,
              "#ed7953"
             ],
             [
              0.7777777777777778,
              "#fb9f3a"
             ],
             [
              0.8888888888888888,
              "#fdca26"
             ],
             [
              1,
              "#f0f921"
             ]
            ],
            "type": "surface"
           }
          ],
          "table": [
           {
            "cells": {
             "fill": {
              "color": "#EBF0F8"
             },
             "line": {
              "color": "white"
             }
            },
            "header": {
             "fill": {
              "color": "#C8D4E3"
             },
             "line": {
              "color": "white"
             }
            },
            "type": "table"
           }
          ]
         },
         "layout": {
          "annotationdefaults": {
           "arrowcolor": "#2a3f5f",
           "arrowhead": 0,
           "arrowwidth": 1
          },
          "autotypenumbers": "strict",
          "coloraxis": {
           "colorbar": {
            "outlinewidth": 0,
            "ticks": ""
           }
          },
          "colorscale": {
           "diverging": [
            [
             0,
             "#8e0152"
            ],
            [
             0.1,
             "#c51b7d"
            ],
            [
             0.2,
             "#de77ae"
            ],
            [
             0.3,
             "#f1b6da"
            ],
            [
             0.4,
             "#fde0ef"
            ],
            [
             0.5,
             "#f7f7f7"
            ],
            [
             0.6,
             "#e6f5d0"
            ],
            [
             0.7,
             "#b8e186"
            ],
            [
             0.8,
             "#7fbc41"
            ],
            [
             0.9,
             "#4d9221"
            ],
            [
             1,
             "#276419"
            ]
           ],
           "sequential": [
            [
             0,
             "#0d0887"
            ],
            [
             0.1111111111111111,
             "#46039f"
            ],
            [
             0.2222222222222222,
             "#7201a8"
            ],
            [
             0.3333333333333333,
             "#9c179e"
            ],
            [
             0.4444444444444444,
             "#bd3786"
            ],
            [
             0.5555555555555556,
             "#d8576b"
            ],
            [
             0.6666666666666666,
             "#ed7953"
            ],
            [
             0.7777777777777778,
             "#fb9f3a"
            ],
            [
             0.8888888888888888,
             "#fdca26"
            ],
            [
             1,
             "#f0f921"
            ]
           ],
           "sequentialminus": [
            [
             0,
             "#0d0887"
            ],
            [
             0.1111111111111111,
             "#46039f"
            ],
            [
             0.2222222222222222,
             "#7201a8"
            ],
            [
             0.3333333333333333,
             "#9c179e"
            ],
            [
             0.4444444444444444,
             "#bd3786"
            ],
            [
             0.5555555555555556,
             "#d8576b"
            ],
            [
             0.6666666666666666,
             "#ed7953"
            ],
            [
             0.7777777777777778,
             "#fb9f3a"
            ],
            [
             0.8888888888888888,
             "#fdca26"
            ],
            [
             1,
             "#f0f921"
            ]
           ]
          },
          "colorway": [
           "#636efa",
           "#EF553B",
           "#00cc96",
           "#ab63fa",
           "#FFA15A",
           "#19d3f3",
           "#FF6692",
           "#B6E880",
           "#FF97FF",
           "#FECB52"
          ],
          "font": {
           "color": "#2a3f5f"
          },
          "geo": {
           "bgcolor": "white",
           "lakecolor": "white",
           "landcolor": "#E5ECF6",
           "showlakes": true,
           "showland": true,
           "subunitcolor": "white"
          },
          "hoverlabel": {
           "align": "left"
          },
          "hovermode": "closest",
          "mapbox": {
           "style": "light"
          },
          "paper_bgcolor": "white",
          "plot_bgcolor": "#E5ECF6",
          "polar": {
           "angularaxis": {
            "gridcolor": "white",
            "linecolor": "white",
            "ticks": ""
           },
           "bgcolor": "#E5ECF6",
           "radialaxis": {
            "gridcolor": "white",
            "linecolor": "white",
            "ticks": ""
           }
          },
          "scene": {
           "xaxis": {
            "backgroundcolor": "#E5ECF6",
            "gridcolor": "white",
            "gridwidth": 2,
            "linecolor": "white",
            "showbackground": true,
            "ticks": "",
            "zerolinecolor": "white"
           },
           "yaxis": {
            "backgroundcolor": "#E5ECF6",
            "gridcolor": "white",
            "gridwidth": 2,
            "linecolor": "white",
            "showbackground": true,
            "ticks": "",
            "zerolinecolor": "white"
           },
           "zaxis": {
            "backgroundcolor": "#E5ECF6",
            "gridcolor": "white",
            "gridwidth": 2,
            "linecolor": "white",
            "showbackground": true,
            "ticks": "",
            "zerolinecolor": "white"
           }
          },
          "shapedefaults": {
           "line": {
            "color": "#2a3f5f"
           }
          },
          "ternary": {
           "aaxis": {
            "gridcolor": "white",
            "linecolor": "white",
            "ticks": ""
           },
           "baxis": {
            "gridcolor": "white",
            "linecolor": "white",
            "ticks": ""
           },
           "bgcolor": "#E5ECF6",
           "caxis": {
            "gridcolor": "white",
            "linecolor": "white",
            "ticks": ""
           }
          },
          "title": {
           "x": 0.05
          },
          "xaxis": {
           "automargin": true,
           "gridcolor": "white",
           "linecolor": "white",
           "ticks": "",
           "title": {
            "standoff": 15
           },
           "zerolinecolor": "white",
           "zerolinewidth": 2
          },
          "yaxis": {
           "automargin": true,
           "gridcolor": "white",
           "linecolor": "white",
           "ticks": "",
           "title": {
            "standoff": 15
           },
           "zerolinecolor": "white",
           "zerolinewidth": 2
          }
         }
        },
        "title": {
         "text": "Hyperparameter Importances"
        },
        "xaxis": {
         "title": {
          "text": "Hyperparameter Importance"
         }
        },
        "yaxis": {
         "title": {
          "text": "Hyperparameter"
         }
        }
       }
      }
     },
     "metadata": {},
     "output_type": "display_data"
    }
   ],
   "source": [
    "optuna.visualization.plot_param_importances(studySVM)"
   ]
  },
  {
   "cell_type": "markdown",
   "metadata": {},
   "source": [
    "Validación"
   ]
  },
  {
   "cell_type": "code",
   "execution_count": 282,
   "metadata": {},
   "outputs": [
    {
     "name": "stdout",
     "output_type": "stream",
     "text": [
      "              precision    recall  f1-score   support\n",
      "\n",
      "         Low       1.00      1.00      1.00        63\n",
      "      Medium       1.00      1.00      1.00        72\n",
      "        High       1.00      1.00      1.00        65\n",
      "\n",
      "    accuracy                           1.00       200\n",
      "   macro avg       1.00      1.00      1.00       200\n",
      "weighted avg       1.00      1.00      1.00       200\n",
      "\n"
     ]
    },
    {
     "data": {
      "text/plain": [
       "<sklearn.metrics._plot.confusion_matrix.ConfusionMatrixDisplay at 0x1a73ab562f0>"
      ]
     },
     "execution_count": 282,
     "metadata": {},
     "output_type": "execute_result"
    },
    {
     "data": {
      "image/png": "[encoded data removed]",
      "text/plain": [
       "<Figure size 640x480 with 2 Axes>"
      ]
     },
     "metadata": {},
     "output_type": "display_data"
    }
   ],
   "source": [
    "CBest=studySVM.best_params['svm_C']\n",
    "krn=studySVM.best_params['Kernel']\n",
    "\n",
    "mvs=svm.SVC(C=CBest,kernel=krn)\n",
    "mvs.fit(X_train,y_train)\n",
    "\n",
    "#prediccion\n",
    "y_pred = mvs.predict(X_val)\n",
    "\n",
    "#metricas\n",
    "print(metrics.classification_report(y_val,y_pred,target_names=['Low','Medium','High']))\n",
    "\n",
    "cm=metrics.confusion_matrix(y_val,y_pred)\n",
    "disp=metrics.ConfusionMatrixDisplay(cm,display_labels=['Low','Medium','High'])\n",
    "disp.plot()"
   ]
  },
  {
   "cell_type": "markdown",
   "metadata": {},
   "source": [
    "Ahora probamos con un arbol de decisión"
   ]
  },
  {
   "cell_type": "code",
   "execution_count": 283,
   "metadata": {},
   "outputs": [
    {
     "name": "stderr",
     "output_type": "stream",
     "text": [
      "[I 2023-11-22 16:20:49,100] A new study created in memory with name: no-name-c5e29e0e-95c6-485c-beda-b4c8b7cf6cfd\n",
      "[I 2023-11-22 16:20:49,167] Trial 0 finished with value: 1.0 and parameters: {'Criterion': 'entropy', 'Max_depth': 4, 'estimators': 61}. Best is trial 0 with value: 1.0.\n",
      "[I 2023-11-22 16:20:49,258] Trial 1 finished with value: 1.0 and parameters: {'Criterion': 'log_loss', 'Max_depth': 11, 'estimators': 88}. Best is trial 0 with value: 1.0.\n",
      "[I 2023-11-22 16:20:49,400] Trial 2 finished with value: 1.0 and parameters: {'Criterion': 'gini', 'Max_depth': 6, 'estimators': 145}. Best is trial 0 with value: 1.0.\n",
      "[I 2023-11-22 16:20:49,455] Trial 3 finished with value: 1.0 and parameters: {'Criterion': 'log_loss', 'Max_depth': 13, 'estimators': 52}. Best is trial 0 with value: 1.0.\n",
      "[I 2023-11-22 16:20:49,510] Trial 4 finished with value: 1.0 and parameters: {'Criterion': 'gini', 'Max_depth': 4, 'estimators': 55}. Best is trial 0 with value: 1.0.\n",
      "[I 2023-11-22 16:20:49,591] Trial 5 finished with value: 1.0 and parameters: {'Criterion': 'log_loss', 'Max_depth': 12, 'estimators': 82}. Best is trial 0 with value: 1.0.\n",
      "[I 2023-11-22 16:20:49,636] Trial 6 finished with value: 1.0 and parameters: {'Criterion': 'entropy', 'Max_depth': 12, 'estimators': 43}. Best is trial 0 with value: 1.0.\n",
      "[I 2023-11-22 16:20:49,710] Trial 7 finished with value: 1.0 and parameters: {'Criterion': 'log_loss', 'Max_depth': 4, 'estimators': 77}. Best is trial 0 with value: 1.0.\n",
      "[I 2023-11-22 16:20:49,806] Trial 8 finished with value: 1.0 and parameters: {'Criterion': 'gini', 'Max_depth': 11, 'estimators': 99}. Best is trial 0 with value: 1.0.\n",
      "[I 2023-11-22 16:20:49,933] Trial 9 finished with value: 1.0 and parameters: {'Criterion': 'gini', 'Max_depth': 10, 'estimators': 127}. Best is trial 0 with value: 1.0.\n",
      "[I 2023-11-22 16:20:49,950] Trial 10 finished with value: 0.59 and parameters: {'Criterion': 'entropy', 'Max_depth': 1, 'estimators': 1}. Best is trial 0 with value: 1.0.\n",
      "[I 2023-11-22 16:20:50,077] Trial 11 finished with value: 1.0 and parameters: {'Criterion': 'entropy', 'Max_depth': 15, 'estimators': 104}. Best is trial 0 with value: 1.0.\n",
      "[I 2023-11-22 16:20:50,117] Trial 12 finished with value: 1.0 and parameters: {'Criterion': 'log_loss', 'Max_depth': 8, 'estimators': 27}. Best is trial 0 with value: 1.0.\n",
      "[I 2023-11-22 16:20:50,224] Trial 13 finished with value: 1.0 and parameters: {'Criterion': 'entropy', 'Max_depth': 8, 'estimators': 100}. Best is trial 0 with value: 1.0.\n",
      "[I 2023-11-22 16:20:50,295] Trial 14 finished with value: 0.975 and parameters: {'Criterion': 'log_loss', 'Max_depth': 2, 'estimators': 69}. Best is trial 0 with value: 1.0.\n",
      "[I 2023-11-22 16:20:50,334] Trial 15 finished with value: 1.0 and parameters: {'Criterion': 'entropy', 'Max_depth': 5, 'estimators': 27}. Best is trial 0 with value: 1.0.\n",
      "[I 2023-11-22 16:20:50,457] Trial 16 finished with value: 1.0 and parameters: {'Criterion': 'log_loss', 'Max_depth': 9, 'estimators': 117}. Best is trial 0 with value: 1.0.\n",
      "[I 2023-11-22 16:20:50,557] Trial 17 finished with value: 1.0 and parameters: {'Criterion': 'entropy', 'Max_depth': 7, 'estimators': 89}. Best is trial 0 with value: 1.0.\n",
      "[I 2023-11-22 16:20:50,634] Trial 18 finished with value: 1.0 and parameters: {'Criterion': 'log_loss', 'Max_depth': 15, 'estimators': 64}. Best is trial 0 with value: 1.0.\n",
      "[I 2023-11-22 16:20:50,676] Trial 19 finished with value: 0.98 and parameters: {'Criterion': 'entropy', 'Max_depth': 3, 'estimators': 32}. Best is trial 0 with value: 1.0.\n",
      "[I 2023-11-22 16:20:50,698] Trial 20 finished with value: 1.0 and parameters: {'Criterion': 'log_loss', 'Max_depth': 6, 'estimators': 9}. Best is trial 0 with value: 1.0.\n",
      "[I 2023-11-22 16:20:50,840] Trial 21 finished with value: 1.0 and parameters: {'Criterion': 'gini', 'Max_depth': 6, 'estimators': 140}. Best is trial 0 with value: 1.0.\n",
      "[I 2023-11-22 16:20:50,985] Trial 22 finished with value: 1.0 and parameters: {'Criterion': 'gini', 'Max_depth': 5, 'estimators': 136}. Best is trial 0 with value: 1.0.\n",
      "[I 2023-11-22 16:20:51,112] Trial 23 finished with value: 1.0 and parameters: {'Criterion': 'gini', 'Max_depth': 9, 'estimators': 122}. Best is trial 0 with value: 1.0.\n",
      "[I 2023-11-22 16:20:51,223] Trial 24 finished with value: 1.0 and parameters: {'Criterion': 'gini', 'Max_depth': 3, 'estimators': 109}. Best is trial 0 with value: 1.0.\n",
      "[I 2023-11-22 16:20:51,372] Trial 25 finished with value: 1.0 and parameters: {'Criterion': 'gini', 'Max_depth': 7, 'estimators': 145}. Best is trial 0 with value: 1.0.\n",
      "[I 2023-11-22 16:20:51,468] Trial 26 finished with value: 1.0 and parameters: {'Criterion': 'entropy', 'Max_depth': 10, 'estimators': 87}. Best is trial 0 with value: 1.0.\n",
      "[I 2023-11-22 16:20:51,537] Trial 27 finished with value: 0.75 and parameters: {'Criterion': 'entropy', 'Max_depth': 1, 'estimators': 58}. Best is trial 0 with value: 1.0.\n",
      "[I 2023-11-22 16:20:51,690] Trial 28 finished with value: 1.0 and parameters: {'Criterion': 'log_loss', 'Max_depth': 6, 'estimators': 149}. Best is trial 0 with value: 1.0.\n",
      "[I 2023-11-22 16:20:51,747] Trial 29 finished with value: 1.0 and parameters: {'Criterion': 'gini', 'Max_depth': 13, 'estimators': 44}. Best is trial 0 with value: 1.0.\n",
      "[I 2023-11-22 16:20:51,805] Trial 30 finished with value: 1.0 and parameters: {'Criterion': 'log_loss', 'Max_depth': 4, 'estimators': 46}. Best is trial 0 with value: 1.0.\n",
      "[I 2023-11-22 16:20:51,870] Trial 31 finished with value: 1.0 and parameters: {'Criterion': 'log_loss', 'Max_depth': 14, 'estimators': 54}. Best is trial 0 with value: 1.0.\n",
      "[I 2023-11-22 16:20:51,936] Trial 32 finished with value: 1.0 and parameters: {'Criterion': 'log_loss', 'Max_depth': 13, 'estimators': 55}. Best is trial 0 with value: 1.0.\n",
      "[I 2023-11-22 16:20:52,019] Trial 33 finished with value: 1.0 and parameters: {'Criterion': 'log_loss', 'Max_depth': 12, 'estimators': 70}. Best is trial 0 with value: 1.0.\n",
      "[I 2023-11-22 16:20:52,070] Trial 34 finished with value: 1.0 and parameters: {'Criterion': 'log_loss', 'Max_depth': 11, 'estimators': 35}. Best is trial 0 with value: 1.0.\n",
      "[I 2023-11-22 16:20:52,164] Trial 35 finished with value: 1.0 and parameters: {'Criterion': 'gini', 'Max_depth': 13, 'estimators': 85}. Best is trial 0 with value: 1.0.\n",
      "[I 2023-11-22 16:20:52,251] Trial 36 finished with value: 1.0 and parameters: {'Criterion': 'log_loss', 'Max_depth': 5, 'estimators': 78}. Best is trial 0 with value: 1.0.\n",
      "[I 2023-11-22 16:20:52,389] Trial 37 finished with value: 1.0 and parameters: {'Criterion': 'entropy', 'Max_depth': 11, 'estimators': 132}. Best is trial 0 with value: 1.0.\n",
      "[I 2023-11-22 16:20:52,420] Trial 38 finished with value: 1.0 and parameters: {'Criterion': 'gini', 'Max_depth': 14, 'estimators': 17}. Best is trial 0 with value: 1.0.\n",
      "[I 2023-11-22 16:20:52,517] Trial 39 finished with value: 0.995 and parameters: {'Criterion': 'log_loss', 'Max_depth': 3, 'estimators': 93}. Best is trial 0 with value: 1.0.\n",
      "[I 2023-11-22 16:20:52,636] Trial 40 finished with value: 1.0 and parameters: {'Criterion': 'entropy', 'Max_depth': 8, 'estimators': 113}. Best is trial 0 with value: 1.0.\n",
      "[I 2023-11-22 16:20:52,694] Trial 41 finished with value: 1.0 and parameters: {'Criterion': 'gini', 'Max_depth': 4, 'estimators': 48}. Best is trial 0 with value: 1.0.\n",
      "[I 2023-11-22 16:20:52,767] Trial 42 finished with value: 1.0 and parameters: {'Criterion': 'gini', 'Max_depth': 4, 'estimators': 63}. Best is trial 0 with value: 1.0.\n",
      "[I 2023-11-22 16:20:52,846] Trial 43 finished with value: 0.9500000000000001 and parameters: {'Criterion': 'gini', 'Max_depth': 2, 'estimators': 75}. Best is trial 0 with value: 1.0.\n",
      "[I 2023-11-22 16:20:52,908] Trial 44 finished with value: 1.0 and parameters: {'Criterion': 'gini', 'Max_depth': 5, 'estimators': 51}. Best is trial 0 with value: 1.0.\n",
      "[I 2023-11-22 16:20:52,957] Trial 45 finished with value: 1.0 and parameters: {'Criterion': 'entropy', 'Max_depth': 12, 'estimators': 35}. Best is trial 0 with value: 1.0.\n",
      "[I 2023-11-22 16:20:53,037] Trial 46 finished with value: 1.0 and parameters: {'Criterion': 'log_loss', 'Max_depth': 7, 'estimators': 62}. Best is trial 0 with value: 1.0.\n",
      "[I 2023-11-22 16:20:53,093] Trial 47 finished with value: 1.0 and parameters: {'Criterion': 'gini', 'Max_depth': 10, 'estimators': 40}. Best is trial 0 with value: 1.0.\n",
      "[I 2023-11-22 16:20:53,206] Trial 48 finished with value: 0.895 and parameters: {'Criterion': 'log_loss', 'Max_depth': 2, 'estimators': 94}. Best is trial 0 with value: 1.0.\n",
      "[I 2023-11-22 16:20:53,302] Trial 49 finished with value: 1.0 and parameters: {'Criterion': 'entropy', 'Max_depth': 14, 'estimators': 73}. Best is trial 0 with value: 1.0.\n",
      "[I 2023-11-22 16:20:53,339] Trial 50 finished with value: 1.0 and parameters: {'Criterion': 'log_loss', 'Max_depth': 6, 'estimators': 22}. Best is trial 0 with value: 1.0.\n",
      "[I 2023-11-22 16:20:53,431] Trial 51 finished with value: 1.0 and parameters: {'Criterion': 'log_loss', 'Max_depth': 12, 'estimators': 81}. Best is trial 0 with value: 1.0.\n",
      "[I 2023-11-22 16:20:53,545] Trial 52 finished with value: 1.0 and parameters: {'Criterion': 'log_loss', 'Max_depth': 10, 'estimators': 101}. Best is trial 0 with value: 1.0.\n",
      "[I 2023-11-22 16:20:53,628] Trial 53 finished with value: 1.0 and parameters: {'Criterion': 'log_loss', 'Max_depth': 15, 'estimators': 69}. Best is trial 0 with value: 1.0.\n",
      "[I 2023-11-22 16:20:53,698] Trial 54 finished with value: 1.0 and parameters: {'Criterion': 'gini', 'Max_depth': 4, 'estimators': 59}. Best is trial 0 with value: 1.0.\n",
      "[I 2023-11-22 16:20:53,793] Trial 55 finished with value: 1.0 and parameters: {'Criterion': 'entropy', 'Max_depth': 11, 'estimators': 83}. Best is trial 0 with value: 1.0.\n",
      "[I 2023-11-22 16:20:53,926] Trial 56 finished with value: 1.0 and parameters: {'Criterion': 'log_loss', 'Max_depth': 9, 'estimators': 125}. Best is trial 0 with value: 1.0.\n",
      "[I 2023-11-22 16:20:54,003] Trial 57 finished with value: 1.0 and parameters: {'Criterion': 'gini', 'Max_depth': 6, 'estimators': 66}. Best is trial 0 with value: 1.0.\n",
      "[I 2023-11-22 16:20:54,105] Trial 58 finished with value: 1.0 and parameters: {'Criterion': 'log_loss', 'Max_depth': 12, 'estimators': 92}. Best is trial 0 with value: 1.0.\n",
      "[I 2023-11-22 16:20:54,162] Trial 59 finished with value: 0.99 and parameters: {'Criterion': 'entropy', 'Max_depth': 3, 'estimators': 42}. Best is trial 0 with value: 1.0.\n",
      "[I 2023-11-22 16:20:54,231] Trial 60 finished with value: 1.0 and parameters: {'Criterion': 'log_loss', 'Max_depth': 7, 'estimators': 51}. Best is trial 0 with value: 1.0.\n",
      "[I 2023-11-22 16:20:54,350] Trial 61 finished with value: 1.0 and parameters: {'Criterion': 'entropy', 'Max_depth': 13, 'estimators': 106}. Best is trial 0 with value: 1.0.\n",
      "[I 2023-11-22 16:20:54,369] Trial 62 finished with value: 1.0 and parameters: {'Criterion': 'entropy', 'Max_depth': 11, 'estimators': 2}. Best is trial 0 with value: 1.0.\n",
      "[I 2023-11-22 16:20:54,413] Trial 63 finished with value: 1.0 and parameters: {'Criterion': 'entropy', 'Max_depth': 5, 'estimators': 29}. Best is trial 0 with value: 1.0.\n",
      "[I 2023-11-22 16:20:54,464] Trial 64 finished with value: 1.0 and parameters: {'Criterion': 'entropy', 'Max_depth': 14, 'estimators': 38}. Best is trial 0 with value: 1.0.\n",
      "[I 2023-11-22 16:20:54,533] Trial 65 finished with value: 1.0 and parameters: {'Criterion': 'gini', 'Max_depth': 12, 'estimators': 57}. Best is trial 0 with value: 1.0.\n",
      "[I 2023-11-22 16:20:54,594] Trial 66 finished with value: 1.0 and parameters: {'Criterion': 'entropy', 'Max_depth': 9, 'estimators': 48}. Best is trial 0 with value: 1.0.\n",
      "[I 2023-11-22 16:20:54,674] Trial 67 finished with value: 1.0 and parameters: {'Criterion': 'log_loss', 'Max_depth': 13, 'estimators': 66}. Best is trial 0 with value: 1.0.\n",
      "[I 2023-11-22 16:20:54,767] Trial 68 finished with value: 1.0 and parameters: {'Criterion': 'gini', 'Max_depth': 10, 'estimators': 79}. Best is trial 0 with value: 1.0.\n",
      "[I 2023-11-22 16:20:54,848] Trial 69 finished with value: 1.0 and parameters: {'Criterion': 'log_loss', 'Max_depth': 3, 'estimators': 72}. Best is trial 0 with value: 1.0.\n",
      "[I 2023-11-22 16:20:54,974] Trial 70 finished with value: 1.0 and parameters: {'Criterion': 'entropy', 'Max_depth': 5, 'estimators': 118}. Best is trial 0 with value: 1.0.\n",
      "[I 2023-11-22 16:20:55,044] Trial 71 finished with value: 1.0 and parameters: {'Criterion': 'log_loss', 'Max_depth': 4, 'estimators': 60}. Best is trial 0 with value: 1.0.\n",
      "[I 2023-11-22 16:20:55,105] Trial 72 finished with value: 0.945 and parameters: {'Criterion': 'log_loss', 'Max_depth': 2, 'estimators': 53}. Best is trial 0 with value: 1.0.\n",
      "[I 2023-11-22 16:20:55,212] Trial 73 finished with value: 1.0 and parameters: {'Criterion': 'log_loss', 'Max_depth': 11, 'estimators': 98}. Best is trial 0 with value: 1.0.\n",
      "[I 2023-11-22 16:20:55,299] Trial 74 finished with value: 0.755 and parameters: {'Criterion': 'log_loss', 'Max_depth': 1, 'estimators': 87}. Best is trial 0 with value: 1.0.\n",
      "[I 2023-11-22 16:20:55,354] Trial 75 finished with value: 0.995 and parameters: {'Criterion': 'gini', 'Max_depth': 3, 'estimators': 44}. Best is trial 0 with value: 1.0.\n",
      "[I 2023-11-22 16:20:55,431] Trial 76 finished with value: 1.0 and parameters: {'Criterion': 'log_loss', 'Max_depth': 8, 'estimators': 66}. Best is trial 0 with value: 1.0.\n",
      "[I 2023-11-22 16:20:55,573] Trial 77 finished with value: 1.0 and parameters: {'Criterion': 'gini', 'Max_depth': 4, 'estimators': 141}. Best is trial 0 with value: 1.0.\n",
      "[I 2023-11-22 16:20:55,611] Trial 78 finished with value: 1.0 and parameters: {'Criterion': 'log_loss', 'Max_depth': 13, 'estimators': 23}. Best is trial 0 with value: 1.0.\n",
      "[I 2023-11-22 16:20:55,703] Trial 79 finished with value: 1.0 and parameters: {'Criterion': 'entropy', 'Max_depth': 12, 'estimators': 77}. Best is trial 0 with value: 1.0.\n",
      "[I 2023-11-22 16:20:55,773] Trial 80 finished with value: 1.0 and parameters: {'Criterion': 'log_loss', 'Max_depth': 6, 'estimators': 56}. Best is trial 0 with value: 1.0.\n",
      "[I 2023-11-22 16:20:55,930] Trial 81 finished with value: 1.0 and parameters: {'Criterion': 'gini', 'Max_depth': 10, 'estimators': 150}. Best is trial 0 with value: 1.0.\n",
      "[I 2023-11-22 16:20:56,070] Trial 82 finished with value: 1.0 and parameters: {'Criterion': 'gini', 'Max_depth': 11, 'estimators': 132}. Best is trial 0 with value: 1.0.\n",
      "[I 2023-11-22 16:20:56,175] Trial 83 finished with value: 1.0 and parameters: {'Criterion': 'gini', 'Max_depth': 5, 'estimators': 97}. Best is trial 0 with value: 1.0.\n",
      "[I 2023-11-22 16:20:56,278] Trial 84 finished with value: 1.0 and parameters: {'Criterion': 'gini', 'Max_depth': 12, 'estimators': 89}. Best is trial 0 with value: 1.0.\n",
      "[I 2023-11-22 16:20:56,402] Trial 85 finished with value: 1.0 and parameters: {'Criterion': 'gini', 'Max_depth': 14, 'estimators': 111}. Best is trial 0 with value: 1.0.\n",
      "[I 2023-11-22 16:20:56,500] Trial 86 finished with value: 1.0 and parameters: {'Criterion': 'log_loss', 'Max_depth': 9, 'estimators': 82}. Best is trial 0 with value: 1.0.\n",
      "[I 2023-11-22 16:20:56,589] Trial 87 finished with value: 1.0 and parameters: {'Criterion': 'entropy', 'Max_depth': 13, 'estimators': 73}. Best is trial 0 with value: 1.0.\n",
      "[I 2023-11-22 16:20:56,654] Trial 88 finished with value: 1.0 and parameters: {'Criterion': 'gini', 'Max_depth': 7, 'estimators': 49}. Best is trial 0 with value: 1.0.\n",
      "[I 2023-11-22 16:20:56,750] Trial 89 finished with value: 1.0 and parameters: {'Criterion': 'log_loss', 'Max_depth': 4, 'estimators': 85}. Best is trial 0 with value: 1.0.\n",
      "[I 2023-11-22 16:20:56,828] Trial 90 finished with value: 1.0 and parameters: {'Criterion': 'gini', 'Max_depth': 15, 'estimators': 62}. Best is trial 0 with value: 1.0.\n",
      "[I 2023-11-22 16:20:56,964] Trial 91 finished with value: 1.0 and parameters: {'Criterion': 'gini', 'Max_depth': 11, 'estimators': 125}. Best is trial 0 with value: 1.0.\n",
      "[I 2023-11-22 16:20:57,080] Trial 92 finished with value: 1.0 and parameters: {'Criterion': 'gini', 'Max_depth': 12, 'estimators': 104}. Best is trial 0 with value: 1.0.\n",
      "[I 2023-11-22 16:20:57,225] Trial 93 finished with value: 1.0 and parameters: {'Criterion': 'gini', 'Max_depth': 10, 'estimators': 138}. Best is trial 0 with value: 1.0.\n",
      "[I 2023-11-22 16:20:57,365] Trial 94 finished with value: 1.0 and parameters: {'Criterion': 'entropy', 'Max_depth': 11, 'estimators': 131}. Best is trial 0 with value: 1.0.\n",
      "[I 2023-11-22 16:20:57,447] Trial 95 finished with value: 1.0 and parameters: {'Criterion': 'gini', 'Max_depth': 12, 'estimators': 70}. Best is trial 0 with value: 1.0.\n",
      "[I 2023-11-22 16:20:57,601] Trial 96 finished with value: 1.0 and parameters: {'Criterion': 'log_loss', 'Max_depth': 11, 'estimators': 146}. Best is trial 0 with value: 1.0.\n",
      "[I 2023-11-22 16:20:57,703] Trial 97 finished with value: 1.0 and parameters: {'Criterion': 'gini', 'Max_depth': 13, 'estimators': 92}. Best is trial 0 with value: 1.0.\n",
      "[I 2023-11-22 16:20:57,823] Trial 98 finished with value: 0.995 and parameters: {'Criterion': 'entropy', 'Max_depth': 3, 'estimators': 116}. Best is trial 0 with value: 1.0.\n",
      "[I 2023-11-22 16:20:57,973] Trial 99 finished with value: 1.0 and parameters: {'Criterion': 'log_loss', 'Max_depth': 5, 'estimators': 142}. Best is trial 0 with value: 1.0.\n"
     ]
    }
   ],
   "source": [
    "def objectiveRF(trial):\n",
    "    crit=trial.suggest_categorical('Criterion',['gini', 'entropy', 'log_loss'])\n",
    "    depth=trial.suggest_int('Max_depth',1,15)\n",
    "    n=trial.suggest_int('estimators',1,150)\n",
    "\n",
    "    #entrenamiento\n",
    "    RF=ensemble.RandomForestClassifier(n_estimators=n,criterion=crit,max_depth=depth)\n",
    "    RF.fit(X_train,y_train)\n",
    " \n",
    "    #prediccion\n",
    "    y_pred = RF.predict(X_test)\n",
    "\n",
    "    #metrica\n",
    "    f1=metrics.f1_score(y_test,y_pred,average='micro')\n",
    "    return f1\n",
    "\n",
    "studyRF = optuna.create_study(direction='maximize')\n",
    "studyRF.optimize(objectiveRF, n_trials=100)"
   ]
  },
  {
   "cell_type": "markdown",
   "metadata": {},
   "source": [
    "Mejores parametros"
   ]
  },
  {
   "cell_type": "code",
   "execution_count": 284,
   "metadata": {},
   "outputs": [
    {
     "name": "stdout",
     "output_type": "stream",
     "text": [
      "{'Criterion': 'entropy', 'Max_depth': 4, 'estimators': 61}\n"
     ]
    },
    {
     "data": {
      "application/vnd.plotly.v1+json": {
       "config": {
        "plotlyServerURL": "https://plot.ly"
       },
       "data": [
        {
         "mode": "markers",
         "name": "Objective Value",
         "type": "scatter",
         "x": [
          0,
          1,
          2,
          3,
          4,
          5,
          6,
          7,
          8,
          9,
          10,
          11,
          12,
          13,
          14,
          15,
          16,
          17,
          18,
          19,
          20,
          21,
          22,
          23,
          24,
          25,
          26,
          27,
          28,
          29,
          30,
          31,
          32,
          33,
          34,
          35,
          36,
          37,
          38,
          39,
          40,
          41,
          42,
          43,
          44,
          45,
          46,
          47,
          48,
          49,
          50,
          51,
          52,
          53,
          54,
          55,
          56,
          57,
          58,
          59,
          60,
          61,
          62,
          63,
          64,
          65,
          66,
          67,
          68,
          69,
          70,
          71,
          72,
          73,
          74,
          75,
          76,
          77,
          78,
          79,
          80,
          81,
          82,
          83,
          84,
          85,
          86,
          87,
          88,
          89,
          90,
          91,
          92,
          93,
          94,
          95,
          96,
          97,
          98,
          99
         ],
         "y": [
          1,
          1,
          1,
          1,
          1,
          1,
          1,
          1,
          1,
          1,
          0.59,
          1,
          1,
          1,
          0.975,
          1,
          1,
          1,
          1,
          0.98,
          1,
          1,
          1,
          1,
          1,
          1,
          1,
          0.75,
          1,
          1,
          1,
          1,
          1,
          1,
          1,
          1,
          1,
          1,
          1,
          0.995,
          1,
          1,
          1,
          0.9500000000000001,
          1,
          1,
          1,
          1,
          0.895,
          1,
          1,
          1,
          1,
          1,
          1,
          1,
          1,
          1,
          1,
          0.99,
          1,
          1,
          1,
          1,
          1,
          1,
          1,
          1,
          1,
          1,
          1,
          1,
          0.945,
          1,
          0.755,
          0.995,
          1,
          1,
          1,
          1,
          1,
          1,
          1,
          1,
          1,
          1,
          1,
          1,
          1,
          1,
          1,
          1,
          1,
          1,
          1,
          1,
          1,
          1,
          0.995,
          1
         ]
        },
        {
         "mode": "lines",
         "name": "Best Value",
         "type": "scatter",
         "x": [
          0,
          1,
          2,
          3,
          4,
          5,
          6,
          7,
          8,
          9,
          10,
          11,
          12,
          13,
          14,
          15,
          16,
          17,
          18,
          19,
          20,
          21,
          22,
          23,
          24,
          25,
          26,
          27,
          28,
          29,
          30,
          31,
          32,
          33,
          34,
          35,
          36,
          37,
          38,
          39,
          40,
          41,
          42,
          43,
          44,
          45,
          46,
          47,
          48,
          49,
          50,
          51,
          52,
          53,
          54,
          55,
          56,
          57,
          58,
          59,
          60,
          61,
          62,
          63,
          64,
          65,
          66,
          67,
          68,
          69,
          70,
          71,
          72,
          73,
          74,
          75,
          76,
          77,
          78,
          79,
          80,
          81,
          82,
          83,
          84,
          85,
          86,
          87,
          88,
          89,
          90,
          91,
          92,
          93,
          94,
          95,
          96,
          97,
          98,
          99
         ],
         "y": [
          1,
          1,
          1,
          1,
          1,
          1,
          1,
          1,
          1,
          1,
          1,
          1,
          1,
          1,
          1,
          1,
          1,
          1,
          1,
          1,
          1,
          1,
          1,
          1,
          1,
          1,
          1,
          1,
          1,
          1,
          1,
          1,
          1,
          1,
          1,
          1,
          1,
          1,
          1,
          1,
          1,
          1,
          1,
          1,
          1,
          1,
          1,
          1,
          1,
          1,
          1,
          1,
          1,
          1,
          1,
          1,
          1,
          1,
          1,
          1,
          1,
          1,
          1,
          1,
          1,
          1,
          1,
          1,
          1,
          1,
          1,
          1,
          1,
          1,
          1,
          1,
          1,
          1,
          1,
          1,
          1,
          1,
          1,
          1,
          1,
          1,
          1,
          1,
          1,
          1,
          1,
          1,
          1,
          1,
          1,
          1,
          1,
          1,
          1,
          1
         ]
        },
        {
         "marker": {
          "color": "#cccccc"
         },
         "mode": "markers",
         "name": "Infeasible Trial",
         "showlegend": false,
         "type": "scatter",
         "x": [],
         "y": []
        }
       ],
       "layout": {
        "template": {
         "data": {
          "bar": [
           {
            "error_x": {
             "color": "#2a3f5f"
            },
            "error_y": {
             "color": "#2a3f5f"
            },
            "marker": {
             "line": {
              "color": "#E5ECF6",
              "width": 0.5
             },
             "pattern": {
              "fillmode": "overlay",
              "size": 10,
              "solidity": 0.2
             }
            },
            "type": "bar"
           }
          ],
          "barpolar": [
           {
            "marker": {
             "line": {
              "color": "#E5ECF6",
              "width": 0.5
             },
             "pattern": {
              "fillmode": "overlay",
              "size": 10,
              "solidity": 0.2
             }
            },
            "type": "barpolar"
           }
          ],
          "carpet": [
           {
            "aaxis": {
             "endlinecolor": "#2a3f5f",
             "gridcolor": "white",
             "linecolor": "white",
             "minorgridcolor": "white",
             "startlinecolor": "#2a3f5f"
            },
            "baxis": {
             "endlinecolor": "#2a3f5f",
             "gridcolor": "white",
             "linecolor": "white",
             "minorgridcolor": "white",
             "startlinecolor": "#2a3f5f"
            },
            "type": "carpet"
           }
          ],
          "choropleth": [
           {
            "colorbar": {
             "outlinewidth": 0,
             "ticks": ""
            },
            "type": "choropleth"
           }
          ],
          "contour": [
           {
            "colorbar": {
             "outlinewidth": 0,
             "ticks": ""
            },
            "colorscale": [
             [
              0,
              "#0d0887"
             ],
             [
              0.1111111111111111,
              "#46039f"
             ],
             [
              0.2222222222222222,
              "#7201a8"
             ],
             [
              0.3333333333333333,
              "#9c179e"
             ],
             [
              0.4444444444444444,
              "#bd3786"
             ],
             [
              0.5555555555555556,
              "#d8576b"
             ],
             [
              0.6666666666666666,
              "#ed7953"
             ],
             [
              0.7777777777777778,
              "#fb9f3a"
             ],
             [
              0.8888888888888888,
              "#fdca26"
             ],
             [
              1,
              "#f0f921"
             ]
            ],
            "type": "contour"
           }
          ],
          "contourcarpet": [
           {
            "colorbar": {
             "outlinewidth": 0,
             "ticks": ""
            },
            "type": "contourcarpet"
           }
          ],
          "heatmap": [
           {
            "colorbar": {
             "outlinewidth": 0,
             "ticks": ""
            },
            "colorscale": [
             [
              0,
              "#0d0887"
             ],
             [
              0.1111111111111111,
              "#46039f"
             ],
             [
              0.2222222222222222,
              "#7201a8"
             ],
             [
              0.3333333333333333,
              "#9c179e"
             ],
             [
              0.4444444444444444,
              "#bd3786"
             ],
             [
              0.5555555555555556,
              "#d8576b"
             ],
             [
              0.6666666666666666,
              "#ed7953"
             ],
             [
              0.7777777777777778,
              "#fb9f3a"
             ],
             [
              0.8888888888888888,
              "#fdca26"
             ],
             [
              1,
              "#f0f921"
             ]
            ],
            "type": "heatmap"
           }
          ],
          "heatmapgl": [
           {
            "colorbar": {
             "outlinewidth": 0,
             "ticks": ""
            },
            "colorscale": [
             [
              0,
              "#0d0887"
             ],
             [
              0.1111111111111111,
              "#46039f"
             ],
             [
              0.2222222222222222,
              "#7201a8"
             ],
             [
              0.3333333333333333,
              "#9c179e"
             ],
             [
              0.4444444444444444,
              "#bd3786"
             ],
             [
              0.5555555555555556,
              "#d8576b"
             ],
             [
              0.6666666666666666,
              "#ed7953"
             ],
             [
              0.7777777777777778,
              "#fb9f3a"
             ],
             [
              0.8888888888888888,
              "#fdca26"
             ],
             [
              1,
              "#f0f921"
             ]
            ],
            "type": "heatmapgl"
           }
          ],
          "histogram": [
           {
            "marker": {
             "pattern": {
              "fillmode": "overlay",
              "size": 10,
              "solidity": 0.2
             }
            },
            "type": "histogram"
           }
          ],
          "histogram2d": [
           {
            "colorbar": {
             "outlinewidth": 0,
             "ticks": ""
            },
            "colorscale": [
             [
              0,
              "#0d0887"
             ],
             [
              0.1111111111111111,
              "#46039f"
             ],
             [
              0.2222222222222222,
              "#7201a8"
             ],
             [
              0.3333333333333333,
              "#9c179e"
             ],
             [
              0.4444444444444444,
              "#bd3786"
             ],
             [
              0.5555555555555556,
              "#d8576b"
             ],
             [
              0.6666666666666666,
              "#ed7953"
             ],
             [
              0.7777777777777778,
              "#fb9f3a"
             ],
             [
              0.8888888888888888,
              "#fdca26"
             ],
             [
              1,
              "#f0f921"
             ]
            ],
            "type": "histogram2d"
           }
          ],
          "histogram2dcontour": [
           {
            "colorbar": {
             "outlinewidth": 0,
             "ticks": ""
            },
            "colorscale": [
             [
              0,
              "#0d0887"
             ],
             [
              0.1111111111111111,
              "#46039f"
             ],
             [
              0.2222222222222222,
              "#7201a8"
             ],
             [
              0.3333333333333333,
              "#9c179e"
             ],
             [
              0.4444444444444444,
              "#bd3786"
             ],
             [
              0.5555555555555556,
              "#d8576b"
             ],
             [
              0.6666666666666666,
              "#ed7953"
             ],
             [
              0.7777777777777778,
              "#fb9f3a"
             ],
             [
              0.8888888888888888,
              "#fdca26"
             ],
             [
              1,
              "#f0f921"
             ]
            ],
            "type": "histogram2dcontour"
           }
          ],
          "mesh3d": [
           {
            "colorbar": {
             "outlinewidth": 0,
             "ticks": ""
            },
            "type": "mesh3d"
           }
          ],
          "parcoords": [
           {
            "line": {
             "colorbar": {
              "outlinewidth": 0,
              "ticks": ""
             }
            },
            "type": "parcoords"
           }
          ],
          "pie": [
           {
            "automargin": true,
            "type": "pie"
           }
          ],
          "scatter": [
           {
            "fillpattern": {
             "fillmode": "overlay",
             "size": 10,
             "solidity": 0.2
            },
            "type": "scatter"
           }
          ],
          "scatter3d": [
           {
            "line": {
             "colorbar": {
              "outlinewidth": 0,
              "ticks": ""
             }
            },
            "marker": {
             "colorbar": {
              "outlinewidth": 0,
              "ticks": ""
             }
            },
            "type": "scatter3d"
           }
          ],
          "scattercarpet": [
           {
            "marker": {
             "colorbar": {
              "outlinewidth": 0,
              "ticks": ""
             }
            },
            "type": "scattercarpet"
           }
          ],
          "scattergeo": [
           {
            "marker": {
             "colorbar": {
              "outlinewidth": 0,
              "ticks": ""
             }
            },
            "type": "scattergeo"
           }
          ],
          "scattergl": [
           {
            "marker": {
             "colorbar": {
              "outlinewidth": 0,
              "ticks": ""
             }
            },
            "type": "scattergl"
           }
          ],
          "scattermapbox": [
           {
            "marker": {
             "colorbar": {
              "outlinewidth": 0,
              "ticks": ""
             }
            },
            "type": "scattermapbox"
           }
          ],
          "scatterpolar": [
           {
            "marker": {
             "colorbar": {
              "outlinewidth": 0,
              "ticks": ""
             }
            },
            "type": "scatterpolar"
           }
          ],
          "scatterpolargl": [
           {
            "marker": {
             "colorbar": {
              "outlinewidth": 0,
              "ticks": ""
             }
            },
            "type": "scatterpolargl"
           }
          ],
          "scatterternary": [
           {
            "marker": {
             "colorbar": {
              "outlinewidth": 0,
              "ticks": ""
             }
            },
            "type": "scatterternary"
           }
          ],
          "surface": [
           {
            "colorbar": {
             "outlinewidth": 0,
             "ticks": ""
            },
            "colorscale": [
             [
              0,
              "#0d0887"
             ],
             [
              0.1111111111111111,
              "#46039f"
             ],
             [
              0.2222222222222222,
              "#7201a8"
             ],
             [
              0.3333333333333333,
              "#9c179e"
             ],
             [
              0.4444444444444444,
              "#bd3786"
             ],
             [
              0.5555555555555556,
              "#d8576b"
             ],
             [
              0.6666666666666666,
              "#ed7953"
             ],
             [
              0.7777777777777778,
              "#fb9f3a"
             ],
             [
              0.8888888888888888,
              "#fdca26"
             ],
             [
              1,
              "#f0f921"
             ]
            ],
            "type": "surface"
           }
          ],
          "table": [
           {
            "cells": {
             "fill": {
              "color": "#EBF0F8"
             },
             "line": {
              "color": "white"
             }
            },
            "header": {
             "fill": {
              "color": "#C8D4E3"
             },
             "line": {
              "color": "white"
             }
            },
            "type": "table"
           }
          ]
         },
         "layout": {
          "annotationdefaults": {
           "arrowcolor": "#2a3f5f",
           "arrowhead": 0,
           "arrowwidth": 1
          },
          "autotypenumbers": "strict",
          "coloraxis": {
           "colorbar": {
            "outlinewidth": 0,
            "ticks": ""
           }
          },
          "colorscale": {
           "diverging": [
            [
             0,
             "#8e0152"
            ],
            [
             0.1,
             "#c51b7d"
            ],
            [
             0.2,
             "#de77ae"
            ],
            [
             0.3,
             "#f1b6da"
            ],
            [
             0.4,
             "#fde0ef"
            ],
            [
             0.5,
             "#f7f7f7"
            ],
            [
             0.6,
             "#e6f5d0"
            ],
            [
             0.7,
             "#b8e186"
            ],
            [
             0.8,
             "#7fbc41"
            ],
            [
             0.9,
             "#4d9221"
            ],
            [
             1,
             "#276419"
            ]
           ],
           "sequential": [
            [
             0,
             "#0d0887"
            ],
            [
             0.1111111111111111,
             "#46039f"
            ],
            [
             0.2222222222222222,
             "#7201a8"
            ],
            [
             0.3333333333333333,
             "#9c179e"
            ],
            [
             0.4444444444444444,
             "#bd3786"
            ],
            [
             0.5555555555555556,
             "#d8576b"
            ],
            [
             0.6666666666666666,
             "#ed7953"
            ],
            [
             0.7777777777777778,
             "#fb9f3a"
            ],
            [
             0.8888888888888888,
             "#fdca26"
            ],
            [
             1,
             "#f0f921"
            ]
           ],
           "sequentialminus": [
            [
             0,
             "#0d0887"
            ],
            [
             0.1111111111111111,
             "#46039f"
            ],
            [
             0.2222222222222222,
             "#7201a8"
            ],
            [
             0.3333333333333333,
             "#9c179e"
            ],
            [
             0.4444444444444444,
             "#bd3786"
            ],
            [
             0.5555555555555556,
             "#d8576b"
            ],
            [
             0.6666666666666666,
             "#ed7953"
            ],
            [
             0.7777777777777778,
             "#fb9f3a"
            ],
            [
             0.8888888888888888,
             "#fdca26"
            ],
            [
             1,
             "#f0f921"
            ]
           ]
          },
          "colorway": [
           "#636efa",
           "#EF553B",
           "#00cc96",
           "#ab63fa",
           "#FFA15A",
           "#19d3f3",
           "#FF6692",
           "#B6E880",
           "#FF97FF",
           "#FECB52"
          ],
          "font": {
           "color": "#2a3f5f"
          },
          "geo": {
           "bgcolor": "white",
           "lakecolor": "white",
           "landcolor": "#E5ECF6",
           "showlakes": true,
           "showland": true,
           "subunitcolor": "white"
          },
          "hoverlabel": {
           "align": "left"
          },
          "hovermode": "closest",
          "mapbox": {
           "style": "light"
          },
          "paper_bgcolor": "white",
          "plot_bgcolor": "#E5ECF6",
          "polar": {
           "angularaxis": {
            "gridcolor": "white",
            "linecolor": "white",
            "ticks": ""
           },
           "bgcolor": "#E5ECF6",
           "radialaxis": {
            "gridcolor": "white",
            "linecolor": "white",
            "ticks": ""
           }
          },
          "scene": {
           "xaxis": {
            "backgroundcolor": "#E5ECF6",
            "gridcolor": "white",
            "gridwidth": 2,
            "linecolor": "white",
            "showbackground": true,
            "ticks": "",
            "zerolinecolor": "white"
           },
           "yaxis": {
            "backgroundcolor": "#E5ECF6",
            "gridcolor": "white",
            "gridwidth": 2,
            "linecolor": "white",
            "showbackground": true,
            "ticks": "",
            "zerolinecolor": "white"
           },
           "zaxis": {
            "backgroundcolor": "#E5ECF6",
            "gridcolor": "white",
            "gridwidth": 2,
            "linecolor": "white",
            "showbackground": true,
            "ticks": "",
            "zerolinecolor": "white"
           }
          },
          "shapedefaults": {
           "line": {
            "color": "#2a3f5f"
           }
          },
          "ternary": {
           "aaxis": {
            "gridcolor": "white",
            "linecolor": "white",
            "ticks": ""
           },
           "baxis": {
            "gridcolor": "white",
            "linecolor": "white",
            "ticks": ""
           },
           "bgcolor": "#E5ECF6",
           "caxis": {
            "gridcolor": "white",
            "linecolor": "white",
            "ticks": ""
           }
          },
          "title": {
           "x": 0.05
          },
          "xaxis": {
           "automargin": true,
           "gridcolor": "white",
           "linecolor": "white",
           "ticks": "",
           "title": {
            "standoff": 15
           },
           "zerolinecolor": "white",
           "zerolinewidth": 2
          },
          "yaxis": {
           "automargin": true,
           "gridcolor": "white",
           "linecolor": "white",
           "ticks": "",
           "title": {
            "standoff": 15
           },
           "zerolinecolor": "white",
           "zerolinewidth": 2
          }
         }
        },
        "title": {
         "text": "Optimization History Plot"
        },
        "xaxis": {
         "title": {
          "text": "Trial"
         }
        },
        "yaxis": {
         "title": {
          "text": "Objective Value"
         }
        }
       }
      }
     },
     "metadata": {},
     "output_type": "display_data"
    }
   ],
   "source": [
    "print(studyRF.best_params)\n",
    "optuna.visualization.plot_optimization_history(studyRF)"
   ]
  },
  {
   "cell_type": "code",
   "execution_count": 285,
   "metadata": {},
   "outputs": [
    {
     "data": {
      "application/vnd.plotly.v1+json": {
       "config": {
        "plotlyServerURL": "https://plot.ly"
       },
       "data": [
        {
         "dimensions": [
          {
           "label": "Objective Value",
           "range": [
            0.59,
            1
           ],
           "values": [
            1,
            1,
            1,
            1,
            1,
            1,
            1,
            1,
            1,
            1,
            0.59,
            1,
            1,
            1,
            0.975,
            1,
            1,
            1,
            1,
            0.98,
            1,
            1,
            1,
            1,
            1,
            1,
            1,
            0.75,
            1,
            1,
            1,
            1,
            1,
            1,
            1,
            1,
            1,
            1,
            1,
            0.995,
            1,
            1,
            1,
            0.9500000000000001,
            1,
            1,
            1,
            1,
            0.895,
            1,
            1,
            1,
            1,
            1,
            1,
            1,
            1,
            1,
            1,
            0.99,
            1,
            1,
            1,
            1,
            1,
            1,
            1,
            1,
            1,
            1,
            1,
            1,
            0.945,
            1,
            0.755,
            0.995,
            1,
            1,
            1,
            1,
            1,
            1,
            1,
            1,
            1,
            1,
            1,
            1,
            1,
            1,
            1,
            1,
            1,
            1,
            1,
            1,
            1,
            1,
            0.995,
            1
           ]
          },
          {
           "label": "Criterion",
           "range": [
            0,
            2
           ],
           "ticktext": [
            "entropy",
            "log_loss",
            "gini"
           ],
           "tickvals": [
            0,
            1,
            2
           ],
           "values": [
            0,
            1,
            2,
            1,
            2,
            1,
            0,
            1,
            2,
            2,
            0,
            0,
            1,
            0,
            1,
            0,
            1,
            0,
            1,
            0,
            1,
            2,
            2,
            2,
            2,
            2,
            0,
            0,
            1,
            2,
            1,
            1,
            1,
            1,
            1,
            2,
            1,
            0,
            2,
            1,
            0,
            2,
            2,
            2,
            2,
            0,
            1,
            2,
            1,
            0,
            1,
            1,
            1,
            1,
            2,
            0,
            1,
            2,
            1,
            0,
            1,
            0,
            0,
            0,
            0,
            2,
            0,
            1,
            2,
            1,
            0,
            1,
            1,
            1,
            1,
            2,
            1,
            2,
            1,
            0,
            1,
            2,
            2,
            2,
            2,
            2,
            1,
            0,
            2,
            1,
            2,
            2,
            2,
            2,
            0,
            2,
            1,
            2,
            0,
            1
           ]
          },
          {
           "label": "Max_depth",
           "range": [
            1,
            15
           ],
           "values": [
            4,
            11,
            6,
            13,
            4,
            12,
            12,
            4,
            11,
            10,
            1,
            15,
            8,
            8,
            2,
            5,
            9,
            7,
            15,
            3,
            6,
            6,
            5,
            9,
            3,
            7,
            10,
            1,
            6,
            13,
            4,
            14,
            13,
            12,
            11,
            13,
            5,
            11,
            14,
            3,
            8,
            4,
            4,
            2,
            5,
            12,
            7,
            10,
            2,
            14,
            6,
            12,
            10,
            15,
            4,
            11,
            9,
            6,
            12,
            3,
            7,
            13,
            11,
            5,
            14,
            12,
            9,
            13,
            10,
            3,
            5,
            4,
            2,
            11,
            1,
            3,
            8,
            4,
            13,
            12,
            6,
            10,
            11,
            5,
            12,
            14,
            9,
            13,
            7,
            4,
            15,
            11,
            12,
            10,
            11,
            12,
            11,
            13,
            3,
            5
           ]
          },
          {
           "label": "estimators",
           "range": [
            1,
            150
           ],
           "values": [
            61,
            88,
            145,
            52,
            55,
            82,
            43,
            77,
            99,
            127,
            1,
            104,
            27,
            100,
            69,
            27,
            117,
            89,
            64,
            32,
            9,
            140,
            136,
            122,
            109,
            145,
            87,
            58,
            149,
            44,
            46,
            54,
            55,
            70,
            35,
            85,
            78,
            132,
            17,
            93,
            113,
            48,
            63,
            75,
            51,
            35,
            62,
            40,
            94,
            73,
            22,
            81,
            101,
            69,
            59,
            83,
            125,
            66,
            92,
            42,
            51,
            106,
            2,
            29,
            38,
            57,
            48,
            66,
            79,
            72,
            118,
            60,
            53,
            98,
            87,
            44,
            66,
            141,
            23,
            77,
            56,
            150,
            132,
            97,
            89,
            111,
            82,
            73,
            49,
            85,
            62,
            125,
            104,
            138,
            131,
            70,
            146,
            92,
            116,
            142
           ]
          }
         ],
         "labelangle": 30,
         "labelside": "bottom",
         "line": {
          "color": [
           1,
           1,
           1,
           1,
           1,
           1,
           1,
           1,
           1,
           1,
           0.59,
           1,
           1,
           1,
           0.975,
           1,
           1,
           1,
           1,
           0.98,
           1,
           1,
           1,
           1,
           1,
           1,
           1,
           0.75,
           1,
           1,
           1,
           1,
           1,
           1,
           1,
           1,
           1,
           1,
           1,
           0.995,
           1,
           1,
           1,
           0.9500000000000001,
           1,
           1,
           1,
           1,
           0.895,
           1,
           1,
           1,
           1,
           1,
           1,
           1,
           1,
           1,
           1,
           0.99,
           1,
           1,
           1,
           1,
           1,
           1,
           1,
           1,
           1,
           1,
           1,
           1,
           0.945,
           1,
           0.755,
           0.995,
           1,
           1,
           1,
           1,
           1,
           1,
           1,
           1,
           1,
           1,
           1,
           1,
           1,
           1,
           1,
           1,
           1,
           1,
           1,
           1,
           1,
           1,
           0.995,
           1
          ],
          "colorbar": {
           "title": {
            "text": "Objective Value"
           }
          },
          "colorscale": [
           [
            0,
            "rgb(247,251,255)"
           ],
           [
            0.125,
            "rgb(222,235,247)"
           ],
           [
            0.25,
            "rgb(198,219,239)"
           ],
           [
            0.375,
            "rgb(158,202,225)"
           ],
           [
            0.5,
            "rgb(107,174,214)"
           ],
           [
            0.625,
            "rgb(66,146,198)"
           ],
           [
            0.75,
            "rgb(33,113,181)"
           ],
           [
            0.875,
            "rgb(8,81,156)"
           ],
           [
            1,
            "rgb(8,48,107)"
           ]
          ],
          "reversescale": false,
          "showscale": true
         },
         "type": "parcoords"
        }
       ],
       "layout": {
        "template": {
         "data": {
          "bar": [
           {
            "error_x": {
             "color": "#2a3f5f"
            },
            "error_y": {
             "color": "#2a3f5f"
            },
            "marker": {
             "line": {
              "color": "#E5ECF6",
              "width": 0.5
             },
             "pattern": {
              "fillmode": "overlay",
              "size": 10,
              "solidity": 0.2
             }
            },
            "type": "bar"
           }
          ],
          "barpolar": [
           {
            "marker": {
             "line": {
              "color": "#E5ECF6",
              "width": 0.5
             },
             "pattern": {
              "fillmode": "overlay",
              "size": 10,
              "solidity": 0.2
             }
            },
            "type": "barpolar"
           }
          ],
          "carpet": [
           {
            "aaxis": {
             "endlinecolor": "#2a3f5f",
             "gridcolor": "white",
             "linecolor": "white",
             "minorgridcolor": "white",
             "startlinecolor": "#2a3f5f"
            },
            "baxis": {
             "endlinecolor": "#2a3f5f",
             "gridcolor": "white",
             "linecolor": "white",
             "minorgridcolor": "white",
             "startlinecolor": "#2a3f5f"
            },
            "type": "carpet"
           }
          ],
          "choropleth": [
           {
            "colorbar": {
             "outlinewidth": 0,
             "ticks": ""
            },
            "type": "choropleth"
           }
          ],
          "contour": [
           {
            "colorbar": {
             "outlinewidth": 0,
             "ticks": ""
            },
            "colorscale": [
             [
              0,
              "#0d0887"
             ],
             [
              0.1111111111111111,
              "#46039f"
             ],
             [
              0.2222222222222222,
              "#7201a8"
             ],
             [
              0.3333333333333333,
              "#9c179e"
             ],
             [
              0.4444444444444444,
              "#bd3786"
             ],
             [
              0.5555555555555556,
              "#d8576b"
             ],
             [
              0.6666666666666666,
              "#ed7953"
             ],
             [
              0.7777777777777778,
              "#fb9f3a"
             ],
             [
              0.8888888888888888,
              "#fdca26"
             ],
             [
              1,
              "#f0f921"
             ]
            ],
            "type": "contour"
           }
          ],
          "contourcarpet": [
           {
            "colorbar": {
             "outlinewidth": 0,
             "ticks": ""
            },
            "type": "contourcarpet"
           }
          ],
          "heatmap": [
           {
            "colorbar": {
             "outlinewidth": 0,
             "ticks": ""
            },
            "colorscale": [
             [
              0,
              "#0d0887"
             ],
             [
              0.1111111111111111,
              "#46039f"
             ],
             [
              0.2222222222222222,
              "#7201a8"
             ],
             [
              0.3333333333333333,
              "#9c179e"
             ],
             [
              0.4444444444444444,
              "#bd3786"
             ],
             [
              0.5555555555555556,
              "#d8576b"
             ],
             [
              0.6666666666666666,
              "#ed7953"
             ],
             [
              0.7777777777777778,
              "#fb9f3a"
             ],
             [
              0.8888888888888888,
              "#fdca26"
             ],
             [
              1,
              "#f0f921"
             ]
            ],
            "type": "heatmap"
           }
          ],
          "heatmapgl": [
           {
            "colorbar": {
             "outlinewidth": 0,
             "ticks": ""
            },
            "colorscale": [
             [
              0,
              "#0d0887"
             ],
             [
              0.1111111111111111,
              "#46039f"
             ],
             [
              0.2222222222222222,
              "#7201a8"
             ],
             [
              0.3333333333333333,
              "#9c179e"
             ],
             [
              0.4444444444444444,
              "#bd3786"
             ],
             [
              0.5555555555555556,
              "#d8576b"
             ],
             [
              0.6666666666666666,
              "#ed7953"
             ],
             [
              0.7777777777777778,
              "#fb9f3a"
             ],
             [
              0.8888888888888888,
              "#fdca26"
             ],
             [
              1,
              "#f0f921"
             ]
            ],
            "type": "heatmapgl"
           }
          ],
          "histogram": [
           {
            "marker": {
             "pattern": {
              "fillmode": "overlay",
              "size": 10,
              "solidity": 0.2
             }
            },
            "type": "histogram"
           }
          ],
          "histogram2d": [
           {
            "colorbar": {
             "outlinewidth": 0,
             "ticks": ""
            },
            "colorscale": [
             [
              0,
              "#0d0887"
             ],
             [
              0.1111111111111111,
              "#46039f"
             ],
             [
              0.2222222222222222,
              "#7201a8"
             ],
             [
              0.3333333333333333,
              "#9c179e"
             ],
             [
              0.4444444444444444,
              "#bd3786"
             ],
             [
              0.5555555555555556,
              "#d8576b"
             ],
             [
              0.6666666666666666,
              "#ed7953"
             ],
             [
              0.7777777777777778,
              "#fb9f3a"
             ],
             [
              0.8888888888888888,
              "#fdca26"
             ],
             [
              1,
              "#f0f921"
             ]
            ],
            "type": "histogram2d"
           }
          ],
          "histogram2dcontour": [
           {
            "colorbar": {
             "outlinewidth": 0,
             "ticks": ""
            },
            "colorscale": [
             [
              0,
              "#0d0887"
             ],
             [
              0.1111111111111111,
              "#46039f"
             ],
             [
              0.2222222222222222,
              "#7201a8"
             ],
             [
              0.3333333333333333,
              "#9c179e"
             ],
             [
              0.4444444444444444,
              "#bd3786"
             ],
             [
              0.5555555555555556,
              "#d8576b"
             ],
             [
              0.6666666666666666,
              "#ed7953"
             ],
             [
              0.7777777777777778,
              "#fb9f3a"
             ],
             [
              0.8888888888888888,
              "#fdca26"
             ],
             [
              1,
              "#f0f921"
             ]
            ],
            "type": "histogram2dcontour"
           }
          ],
          "mesh3d": [
           {
            "colorbar": {
             "outlinewidth": 0,
             "ticks": ""
            },
            "type": "mesh3d"
           }
          ],
          "parcoords": [
           {
            "line": {
             "colorbar": {
              "outlinewidth": 0,
              "ticks": ""
             }
            },
            "type": "parcoords"
           }
          ],
          "pie": [
           {
            "automargin": true,
            "type": "pie"
           }
          ],
          "scatter": [
           {
            "fillpattern": {
             "fillmode": "overlay",
             "size": 10,
             "solidity": 0.2
            },
            "type": "scatter"
           }
          ],
          "scatter3d": [
           {
            "line": {
             "colorbar": {
              "outlinewidth": 0,
              "ticks": ""
             }
            },
            "marker": {
             "colorbar": {
              "outlinewidth": 0,
              "ticks": ""
             }
            },
            "type": "scatter3d"
           }
          ],
          "scattercarpet": [
           {
            "marker": {
             "colorbar": {
              "outlinewidth": 0,
              "ticks": ""
             }
            },
            "type": "scattercarpet"
           }
          ],
          "scattergeo": [
           {
            "marker": {
             "colorbar": {
              "outlinewidth": 0,
              "ticks": ""
             }
            },
            "type": "scattergeo"
           }
          ],
          "scattergl": [
           {
            "marker": {
             "colorbar": {
              "outlinewidth": 0,
              "ticks": ""
             }
            },
            "type": "scattergl"
           }
          ],
          "scattermapbox": [
           {
            "marker": {
             "colorbar": {
              "outlinewidth": 0,
              "ticks": ""
             }
            },
            "type": "scattermapbox"
           }
          ],
          "scatterpolar": [
           {
            "marker": {
             "colorbar": {
              "outlinewidth": 0,
              "ticks": ""
             }
            },
            "type": "scatterpolar"
           }
          ],
          "scatterpolargl": [
           {
            "marker": {
             "colorbar": {
              "outlinewidth": 0,
              "ticks": ""
             }
            },
            "type": "scatterpolargl"
           }
          ],
          "scatterternary": [
           {
            "marker": {
             "colorbar": {
              "outlinewidth": 0,
              "ticks": ""
             }
            },
            "type": "scatterternary"
           }
          ],
          "surface": [
           {
            "colorbar": {
             "outlinewidth": 0,
             "ticks": ""
            },
            "colorscale": [
             [
              0,
              "#0d0887"
             ],
             [
              0.1111111111111111,
              "#46039f"
             ],
             [
              0.2222222222222222,
              "#7201a8"
             ],
             [
              0.3333333333333333,
              "#9c179e"
             ],
             [
              0.4444444444444444,
              "#bd3786"
             ],
             [
              0.5555555555555556,
              "#d8576b"
             ],
             [
              0.6666666666666666,
              "#ed7953"
             ],
             [
              0.7777777777777778,
              "#fb9f3a"
             ],
             [
              0.8888888888888888,
              "#fdca26"
             ],
             [
              1,
              "#f0f921"
             ]
            ],
            "type": "surface"
           }
          ],
          "table": [
           {
            "cells": {
             "fill": {
              "color": "#EBF0F8"
             },
             "line": {
              "color": "white"
             }
            },
            "header": {
             "fill": {
              "color": "#C8D4E3"
             },
             "line": {
              "color": "white"
             }
            },
            "type": "table"
           }
          ]
         },
         "layout": {
          "annotationdefaults": {
           "arrowcolor": "#2a3f5f",
           "arrowhead": 0,
           "arrowwidth": 1
          },
          "autotypenumbers": "strict",
          "coloraxis": {
           "colorbar": {
            "outlinewidth": 0,
            "ticks": ""
           }
          },
          "colorscale": {
           "diverging": [
            [
             0,
             "#8e0152"
            ],
            [
             0.1,
             "#c51b7d"
            ],
            [
             0.2,
             "#de77ae"
            ],
            [
             0.3,
             "#f1b6da"
            ],
            [
             0.4,
             "#fde0ef"
            ],
            [
             0.5,
             "#f7f7f7"
            ],
            [
             0.6,
             "#e6f5d0"
            ],
            [
             0.7,
             "#b8e186"
            ],
            [
             0.8,
             "#7fbc41"
            ],
            [
             0.9,
             "#4d9221"
            ],
            [
             1,
             "#276419"
            ]
           ],
           "sequential": [
            [
             0,
             "#0d0887"
            ],
            [
             0.1111111111111111,
             "#46039f"
            ],
            [
             0.2222222222222222,
             "#7201a8"
            ],
            [
             0.3333333333333333,
             "#9c179e"
            ],
            [
             0.4444444444444444,
             "#bd3786"
            ],
            [
             0.5555555555555556,
             "#d8576b"
            ],
            [
             0.6666666666666666,
             "#ed7953"
            ],
            [
             0.7777777777777778,
             "#fb9f3a"
            ],
            [
             0.8888888888888888,
             "#fdca26"
            ],
            [
             1,
             "#f0f921"
            ]
           ],
           "sequentialminus": [
            [
             0,
             "#0d0887"
            ],
            [
             0.1111111111111111,
             "#46039f"
            ],
            [
             0.2222222222222222,
             "#7201a8"
            ],
            [
             0.3333333333333333,
             "#9c179e"
            ],
            [
             0.4444444444444444,
             "#bd3786"
            ],
            [
             0.5555555555555556,
             "#d8576b"
            ],
            [
             0.6666666666666666,
             "#ed7953"
            ],
            [
             0.7777777777777778,
             "#fb9f3a"
            ],
            [
             0.8888888888888888,
             "#fdca26"
            ],
            [
             1,
             "#f0f921"
            ]
           ]
          },
          "colorway": [
           "#636efa",
           "#EF553B",
           "#00cc96",
           "#ab63fa",
           "#FFA15A",
           "#19d3f3",
           "#FF6692",
           "#B6E880",
           "#FF97FF",
           "#FECB52"
          ],
          "font": {
           "color": "#2a3f5f"
          },
          "geo": {
           "bgcolor": "white",
           "lakecolor": "white",
           "landcolor": "#E5ECF6",
           "showlakes": true,
           "showland": true,
           "subunitcolor": "white"
          },
          "hoverlabel": {
           "align": "left"
          },
          "hovermode": "closest",
          "mapbox": {
           "style": "light"
          },
          "paper_bgcolor": "white",
          "plot_bgcolor": "#E5ECF6",
          "polar": {
           "angularaxis": {
            "gridcolor": "white",
            "linecolor": "white",
            "ticks": ""
           },
           "bgcolor": "#E5ECF6",
           "radialaxis": {
            "gridcolor": "white",
            "linecolor": "white",
            "ticks": ""
           }
          },
          "scene": {
           "xaxis": {
            "backgroundcolor": "#E5ECF6",
            "gridcolor": "white",
            "gridwidth": 2,
            "linecolor": "white",
            "showbackground": true,
            "ticks": "",
            "zerolinecolor": "white"
           },
           "yaxis": {
            "backgroundcolor": "#E5ECF6",
            "gridcolor": "white",
            "gridwidth": 2,
            "linecolor": "white",
            "showbackground": true,
            "ticks": "",
            "zerolinecolor": "white"
           },
           "zaxis": {
            "backgroundcolor": "#E5ECF6",
            "gridcolor": "white",
            "gridwidth": 2,
            "linecolor": "white",
            "showbackground": true,
            "ticks": "",
            "zerolinecolor": "white"
           }
          },
          "shapedefaults": {
           "line": {
            "color": "#2a3f5f"
           }
          },
          "ternary": {
           "aaxis": {
            "gridcolor": "white",
            "linecolor": "white",
            "ticks": ""
           },
           "baxis": {
            "gridcolor": "white",
            "linecolor": "white",
            "ticks": ""
           },
           "bgcolor": "#E5ECF6",
           "caxis": {
            "gridcolor": "white",
            "linecolor": "white",
            "ticks": ""
           }
          },
          "title": {
           "x": 0.05
          },
          "xaxis": {
           "automargin": true,
           "gridcolor": "white",
           "linecolor": "white",
           "ticks": "",
           "title": {
            "standoff": 15
           },
           "zerolinecolor": "white",
           "zerolinewidth": 2
          },
          "yaxis": {
           "automargin": true,
           "gridcolor": "white",
           "linecolor": "white",
           "ticks": "",
           "title": {
            "standoff": 15
           },
           "zerolinecolor": "white",
           "zerolinewidth": 2
          }
         }
        },
        "title": {
         "text": "Parallel Coordinate Plot"
        }
       }
      }
     },
     "metadata": {},
     "output_type": "display_data"
    }
   ],
   "source": [
    "optuna.visualization.plot_parallel_coordinate(studyRF)"
   ]
  },
  {
   "cell_type": "code",
   "execution_count": 286,
   "metadata": {},
   "outputs": [
    {
     "data": {
      "application/vnd.plotly.v1+json": {
       "config": {
        "plotlyServerURL": "https://plot.ly"
       },
       "data": [
        {
         "cliponaxis": false,
         "hovertemplate": [
          "Criterion (CategoricalDistribution): 0.000265061306550186<extra></extra>",
          "estimators (IntDistribution): 0.046992920021607223<extra></extra>",
          "Max_depth (IntDistribution): 0.9527420186718425<extra></extra>"
         ],
         "name": "Objective Value",
         "orientation": "h",
         "text": [
          "<0.01",
          "0.05",
          "0.95"
         ],
         "textposition": "outside",
         "type": "bar",
         "x": [
          0.000265061306550186,
          0.046992920021607223,
          0.9527420186718425
         ],
         "y": [
          "Criterion",
          "estimators",
          "Max_depth"
         ]
        }
       ],
       "layout": {
        "template": {
         "data": {
          "bar": [
           {
            "error_x": {
             "color": "#2a3f5f"
            },
            "error_y": {
             "color": "#2a3f5f"
            },
            "marker": {
             "line": {
              "color": "#E5ECF6",
              "width": 0.5
             },
             "pattern": {
              "fillmode": "overlay",
              "size": 10,
              "solidity": 0.2
             }
            },
            "type": "bar"
           }
          ],
          "barpolar": [
           {
            "marker": {
             "line": {
              "color": "#E5ECF6",
              "width": 0.5
             },
             "pattern": {
              "fillmode": "overlay",
              "size": 10,
              "solidity": 0.2
             }
            },
            "type": "barpolar"
           }
          ],
          "carpet": [
           {
            "aaxis": {
             "endlinecolor": "#2a3f5f",
             "gridcolor": "white",
             "linecolor": "white",
             "minorgridcolor": "white",
             "startlinecolor": "#2a3f5f"
            },
            "baxis": {
             "endlinecolor": "#2a3f5f",
             "gridcolor": "white",
             "linecolor": "white",
             "minorgridcolor": "white",
             "startlinecolor": "#2a3f5f"
            },
            "type": "carpet"
           }
          ],
          "choropleth": [
           {
            "colorbar": {
             "outlinewidth": 0,
             "ticks": ""
            },
            "type": "choropleth"
           }
          ],
          "contour": [
           {
            "colorbar": {
             "outlinewidth": 0,
             "ticks": ""
            },
            "colorscale": [
             [
              0,
              "#0d0887"
             ],
             [
              0.1111111111111111,
              "#46039f"
             ],
             [
              0.2222222222222222,
              "#7201a8"
             ],
             [
              0.3333333333333333,
              "#9c179e"
             ],
             [
              0.4444444444444444,
              "#bd3786"
             ],
             [
              0.5555555555555556,
              "#d8576b"
             ],
             [
              0.6666666666666666,
              "#ed7953"
             ],
             [
              0.7777777777777778,
              "#fb9f3a"
             ],
             [
              0.8888888888888888,
              "#fdca26"
             ],
             [
              1,
              "#f0f921"
             ]
            ],
            "type": "contour"
           }
          ],
          "contourcarpet": [
           {
            "colorbar": {
             "outlinewidth": 0,
             "ticks": ""
            },
            "type": "contourcarpet"
           }
          ],
          "heatmap": [
           {
            "colorbar": {
             "outlinewidth": 0,
             "ticks": ""
            },
            "colorscale": [
             [
              0,
              "#0d0887"
             ],
             [
              0.1111111111111111,
              "#46039f"
             ],
             [
              0.2222222222222222,
              "#7201a8"
             ],
             [
              0.3333333333333333,
              "#9c179e"
             ],
             [
              0.4444444444444444,
              "#bd3786"
             ],
             [
              0.5555555555555556,
              "#d8576b"
             ],
             [
              0.6666666666666666,
              "#ed7953"
             ],
             [
              0.7777777777777778,
              "#fb9f3a"
             ],
             [
              0.8888888888888888,
              "#fdca26"
             ],
             [
              1,
              "#f0f921"
             ]
            ],
            "type": "heatmap"
           }
          ],
          "heatmapgl": [
           {
            "colorbar": {
             "outlinewidth": 0,
             "ticks": ""
            },
            "colorscale": [
             [
              0,
              "#0d0887"
             ],
             [
              0.1111111111111111,
              "#46039f"
             ],
             [
              0.2222222222222222,
              "#7201a8"
             ],
             [
              0.3333333333333333,
              "#9c179e"
             ],
             [
              0.4444444444444444,
              "#bd3786"
             ],
             [
              0.5555555555555556,
              "#d8576b"
             ],
             [
              0.6666666666666666,
              "#ed7953"
             ],
             [
              0.7777777777777778,
              "#fb9f3a"
             ],
             [
              0.8888888888888888,
              "#fdca26"
             ],
             [
              1,
              "#f0f921"
             ]
            ],
            "type": "heatmapgl"
           }
          ],
          "histogram": [
           {
            "marker": {
             "pattern": {
              "fillmode": "overlay",
              "size": 10,
              "solidity": 0.2
             }
            },
            "type": "histogram"
           }
          ],
          "histogram2d": [
           {
            "colorbar": {
             "outlinewidth": 0,
             "ticks": ""
            },
            "colorscale": [
             [
              0,
              "#0d0887"
             ],
             [
              0.1111111111111111,
              "#46039f"
             ],
             [
              0.2222222222222222,
              "#7201a8"
             ],
             [
              0.3333333333333333,
              "#9c179e"
             ],
             [
              0.4444444444444444,
              "#bd3786"
             ],
             [
              0.5555555555555556,
              "#d8576b"
             ],
             [
              0.6666666666666666,
              "#ed7953"
             ],
             [
              0.7777777777777778,
              "#fb9f3a"
             ],
             [
              0.8888888888888888,
              "#fdca26"
             ],
             [
              1,
              "#f0f921"
             ]
            ],
            "type": "histogram2d"
           }
          ],
          "histogram2dcontour": [
           {
            "colorbar": {
             "outlinewidth": 0,
             "ticks": ""
            },
            "colorscale": [
             [
              0,
              "#0d0887"
             ],
             [
              0.1111111111111111,
              "#46039f"
             ],
             [
              0.2222222222222222,
              "#7201a8"
             ],
             [
              0.3333333333333333,
              "#9c179e"
             ],
             [
              0.4444444444444444,
              "#bd3786"
             ],
             [
              0.5555555555555556,
              "#d8576b"
             ],
             [
              0.6666666666666666,
              "#ed7953"
             ],
             [
              0.7777777777777778,
              "#fb9f3a"
             ],
             [
              0.8888888888888888,
              "#fdca26"
             ],
             [
              1,
              "#f0f921"
             ]
            ],
            "type": "histogram2dcontour"
           }
          ],
          "mesh3d": [
           {
            "colorbar": {
             "outlinewidth": 0,
             "ticks": ""
            },
            "type": "mesh3d"
           }
          ],
          "parcoords": [
           {
            "line": {
             "colorbar": {
              "outlinewidth": 0,
              "ticks": ""
             }
            },
            "type": "parcoords"
           }
          ],
          "pie": [
           {
            "automargin": true,
            "type": "pie"
           }
          ],
          "scatter": [
           {
            "fillpattern": {
             "fillmode": "overlay",
             "size": 10,
             "solidity": 0.2
            },
            "type": "scatter"
           }
          ],
          "scatter3d": [
           {
            "line": {
             "colorbar": {
              "outlinewidth": 0,
              "ticks": ""
             }
            },
            "marker": {
             "colorbar": {
              "outlinewidth": 0,
              "ticks": ""
             }
            },
            "type": "scatter3d"
           }
          ],
          "scattercarpet": [
           {
            "marker": {
             "colorbar": {
              "outlinewidth": 0,
              "ticks": ""
             }
            },
            "type": "scattercarpet"
           }
          ],
          "scattergeo": [
           {
            "marker": {
             "colorbar": {
              "outlinewidth": 0,
              "ticks": ""
             }
            },
            "type": "scattergeo"
           }
          ],
          "scattergl": [
           {
            "marker": {
             "colorbar": {
              "outlinewidth": 0,
              "ticks": ""
             }
            },
            "type": "scattergl"
           }
          ],
          "scattermapbox": [
           {
            "marker": {
             "colorbar": {
              "outlinewidth": 0,
              "ticks": ""
             }
            },
            "type": "scattermapbox"
           }
          ],
          "scatterpolar": [
           {
            "marker": {
             "colorbar": {
              "outlinewidth": 0,
              "ticks": ""
             }
            },
            "type": "scatterpolar"
           }
          ],
          "scatterpolargl": [
           {
            "marker": {
             "colorbar": {
              "outlinewidth": 0,
              "ticks": ""
             }
            },
            "type": "scatterpolargl"
           }
          ],
          "scatterternary": [
           {
            "marker": {
             "colorbar": {
              "outlinewidth": 0,
              "ticks": ""
             }
            },
            "type": "scatterternary"
           }
          ],
          "surface": [
           {
            "colorbar": {
             "outlinewidth": 0,
             "ticks": ""
            },
            "colorscale": [
             [
              0,
              "#0d0887"
             ],
             [
              0.1111111111111111,
              "#46039f"
             ],
             [
              0.2222222222222222,
              "#7201a8"
             ],
             [
              0.3333333333333333,
              "#9c179e"
             ],
             [
              0.4444444444444444,
              "#bd3786"
             ],
             [
              0.5555555555555556,
              "#d8576b"
             ],
             [
              0.6666666666666666,
              "#ed7953"
             ],
             [
              0.7777777777777778,
              "#fb9f3a"
             ],
             [
              0.8888888888888888,
              "#fdca26"
             ],
             [
              1,
              "#f0f921"
             ]
            ],
            "type": "surface"
           }
          ],
          "table": [
           {
            "cells": {
             "fill": {
              "color": "#EBF0F8"
             },
             "line": {
              "color": "white"
             }
            },
            "header": {
             "fill": {
              "color": "#C8D4E3"
             },
             "line": {
              "color": "white"
             }
            },
            "type": "table"
           }
          ]
         },
         "layout": {
          "annotationdefaults": {
           "arrowcolor": "#2a3f5f",
           "arrowhead": 0,
           "arrowwidth": 1
          },
          "autotypenumbers": "strict",
          "coloraxis": {
           "colorbar": {
            "outlinewidth": 0,
            "ticks": ""
           }
          },
          "colorscale": {
           "diverging": [
            [
             0,
             "#8e0152"
            ],
            [
             0.1,
             "#c51b7d"
            ],
            [
             0.2,
             "#de77ae"
            ],
            [
             0.3,
             "#f1b6da"
            ],
            [
             0.4,
             "#fde0ef"
            ],
            [
             0.5,
             "#f7f7f7"
            ],
            [
             0.6,
             "#e6f5d0"
            ],
            [
             0.7,
             "#b8e186"
            ],
            [
             0.8,
             "#7fbc41"
            ],
            [
             0.9,
             "#4d9221"
            ],
            [
             1,
             "#276419"
            ]
           ],
           "sequential": [
            [
             0,
             "#0d0887"
            ],
            [
             0.1111111111111111,
             "#46039f"
            ],
            [
             0.2222222222222222,
             "#7201a8"
            ],
            [
             0.3333333333333333,
             "#9c179e"
            ],
            [
             0.4444444444444444,
             "#bd3786"
            ],
            [
             0.5555555555555556,
             "#d8576b"
            ],
            [
             0.6666666666666666,
             "#ed7953"
            ],
            [
             0.7777777777777778,
             "#fb9f3a"
            ],
            [
             0.8888888888888888,
             "#fdca26"
            ],
            [
             1,
             "#f0f921"
            ]
           ],
           "sequentialminus": [
            [
             0,
             "#0d0887"
            ],
            [
             0.1111111111111111,
             "#46039f"
            ],
            [
             0.2222222222222222,
             "#7201a8"
            ],
            [
             0.3333333333333333,
             "#9c179e"
            ],
            [
             0.4444444444444444,
             "#bd3786"
            ],
            [
             0.5555555555555556,
             "#d8576b"
            ],
            [
             0.6666666666666666,
             "#ed7953"
            ],
            [
             0.7777777777777778,
             "#fb9f3a"
            ],
            [
             0.8888888888888888,
             "#fdca26"
            ],
            [
             1,
             "#f0f921"
            ]
           ]
          },
          "colorway": [
           "#636efa",
           "#EF553B",
           "#00cc96",
           "#ab63fa",
           "#FFA15A",
           "#19d3f3",
           "#FF6692",
           "#B6E880",
           "#FF97FF",
           "#FECB52"
          ],
          "font": {
           "color": "#2a3f5f"
          },
          "geo": {
           "bgcolor": "white",
           "lakecolor": "white",
           "landcolor": "#E5ECF6",
           "showlakes": true,
           "showland": true,
           "subunitcolor": "white"
          },
          "hoverlabel": {
           "align": "left"
          },
          "hovermode": "closest",
          "mapbox": {
           "style": "light"
          },
          "paper_bgcolor": "white",
          "plot_bgcolor": "#E5ECF6",
          "polar": {
           "angularaxis": {
            "gridcolor": "white",
            "linecolor": "white",
            "ticks": ""
           },
           "bgcolor": "#E5ECF6",
           "radialaxis": {
            "gridcolor": "white",
            "linecolor": "white",
            "ticks": ""
           }
          },
          "scene": {
           "xaxis": {
            "backgroundcolor": "#E5ECF6",
            "gridcolor": "white",
            "gridwidth": 2,
            "linecolor": "white",
            "showbackground": true,
            "ticks": "",
            "zerolinecolor": "white"
           },
           "yaxis": {
            "backgroundcolor": "#E5ECF6",
            "gridcolor": "white",
            "gridwidth": 2,
            "linecolor": "white",
            "showbackground": true,
            "ticks": "",
            "zerolinecolor": "white"
           },
           "zaxis": {
            "backgroundcolor": "#E5ECF6",
            "gridcolor": "white",
            "gridwidth": 2,
            "linecolor": "white",
            "showbackground": true,
            "ticks": "",
            "zerolinecolor": "white"
           }
          },
          "shapedefaults": {
           "line": {
            "color": "#2a3f5f"
           }
          },
          "ternary": {
           "aaxis": {
            "gridcolor": "white",
            "linecolor": "white",
            "ticks": ""
           },
           "baxis": {
            "gridcolor": "white",
            "linecolor": "white",
            "ticks": ""
           },
           "bgcolor": "#E5ECF6",
           "caxis": {
            "gridcolor": "white",
            "linecolor": "white",
            "ticks": ""
           }
          },
          "title": {
           "x": 0.05
          },
          "xaxis": {
           "automargin": true,
           "gridcolor": "white",
           "linecolor": "white",
           "ticks": "",
           "title": {
            "standoff": 15
           },
           "zerolinecolor": "white",
           "zerolinewidth": 2
          },
          "yaxis": {
           "automargin": true,
           "gridcolor": "white",
           "linecolor": "white",
           "ticks": "",
           "title": {
            "standoff": 15
           },
           "zerolinecolor": "white",
           "zerolinewidth": 2
          }
         }
        },
        "title": {
         "text": "Hyperparameter Importances"
        },
        "xaxis": {
         "title": {
          "text": "Hyperparameter Importance"
         }
        },
        "yaxis": {
         "title": {
          "text": "Hyperparameter"
         }
        }
       }
      }
     },
     "metadata": {},
     "output_type": "display_data"
    }
   ],
   "source": [
    "optuna.visualization.plot_param_importances(studyRF)"
   ]
  },
  {
   "cell_type": "markdown",
   "metadata": {},
   "source": [
    "Validación"
   ]
  },
  {
   "cell_type": "code",
   "execution_count": 292,
   "metadata": {},
   "outputs": [
    {
     "name": "stdout",
     "output_type": "stream",
     "text": [
      "              precision    recall  f1-score   support\n",
      "\n",
      "         Low       1.00      1.00      1.00        63\n",
      "      Medium       1.00      1.00      1.00        72\n",
      "        High       1.00      1.00      1.00        65\n",
      "\n",
      "    accuracy                           1.00       200\n",
      "   macro avg       1.00      1.00      1.00       200\n",
      "weighted avg       1.00      1.00      1.00       200\n",
      "\n"
     ]
    },
    {
     "data": {
      "text/plain": [
       "<sklearn.metrics._plot.confusion_matrix.ConfusionMatrixDisplay at 0x1a73450c280>"
      ]
     },
     "execution_count": 292,
     "metadata": {},
     "output_type": "execute_result"
    },
    {
     "data": {
      "image/png": "[encoded data removed]",
      "text/plain": [
       "<Figure size 640x480 with 2 Axes>"
      ]
     },
     "metadata": {},
     "output_type": "display_data"
    }
   ],
   "source": [
    "crit=studyRF.best_params['Criterion']\n",
    "depth=studyRF.best_params['Max_depth']\n",
    "n=studyRF.best_params['estimators']\n",
    "\n",
    "\n",
    "RF=ensemble.RandomForestClassifier(n_estimators=n,criterion=crit,max_depth=depth)\n",
    "RF.fit(X_train,y_train)\n",
    "\n",
    "#prediccion\n",
    "y_pred = RF.predict(X_val)\n",
    "\n",
    "#metricas\n",
    "print(metrics.classification_report(y_val,y_pred,target_names=['Low','Medium','High']))\n",
    "\n",
    "cm=metrics.confusion_matrix(y_val,y_pred)\n",
    "disp=metrics.ConfusionMatrixDisplay(cm,display_labels=['Low','Medium','High'])\n",
    "disp.plot()"
   ]
  },
  {
   "cell_type": "markdown",
   "metadata": {},
   "source": [
    "Finalmente, probaremos usando KNN"
   ]
  },
  {
   "cell_type": "code",
   "execution_count": 288,
   "metadata": {},
   "outputs": [
    {
     "name": "stderr",
     "output_type": "stream",
     "text": [
      "[I 2023-11-22 16:20:58,246] A new study created in memory with name: no-name-b02141c3-6b55-4f30-aa8b-7ad893310583\n",
      "[I 2023-11-22 16:20:58,258] Trial 0 finished with value: 0.94 and parameters: {'K': 13}. Best is trial 0 with value: 0.94.\n",
      "[I 2023-11-22 16:20:58,270] Trial 1 finished with value: 1.0 and parameters: {'K': 4}. Best is trial 1 with value: 1.0.\n",
      "[I 2023-11-22 16:20:58,280] Trial 2 finished with value: 0.94 and parameters: {'K': 11}. Best is trial 1 with value: 1.0.\n",
      "[I 2023-11-22 16:20:58,290] Trial 3 finished with value: 1.0 and parameters: {'K': 5}. Best is trial 1 with value: 1.0.\n",
      "[I 2023-11-22 16:20:58,301] Trial 4 finished with value: 0.94 and parameters: {'K': 15}. Best is trial 1 with value: 1.0.\n",
      "[I 2023-11-22 16:20:58,310] Trial 5 finished with value: 0.93 and parameters: {'K': 20}. Best is trial 1 with value: 1.0.\n",
      "[I 2023-11-22 16:20:58,319] Trial 6 finished with value: 0.975 and parameters: {'K': 7}. Best is trial 1 with value: 1.0.\n",
      "[I 2023-11-22 16:20:58,328] Trial 7 finished with value: 1.0 and parameters: {'K': 1}. Best is trial 1 with value: 1.0.\n",
      "[I 2023-11-22 16:20:58,336] Trial 8 finished with value: 1.0 and parameters: {'K': 1}. Best is trial 1 with value: 1.0.\n",
      "[I 2023-11-22 16:20:58,345] Trial 9 finished with value: 0.93 and parameters: {'K': 18}. Best is trial 1 with value: 1.0.\n",
      "[I 2023-11-22 16:20:58,358] Trial 10 finished with value: 1.0 and parameters: {'K': 6}. Best is trial 1 with value: 1.0.\n",
      "[I 2023-11-22 16:20:58,371] Trial 11 finished with value: 1.0 and parameters: {'K': 5}. Best is trial 1 with value: 1.0.\n",
      "[I 2023-11-22 16:20:58,384] Trial 12 finished with value: 1.0 and parameters: {'K': 4}. Best is trial 1 with value: 1.0.\n",
      "[I 2023-11-22 16:20:58,396] Trial 13 finished with value: 0.975 and parameters: {'K': 8}. Best is trial 1 with value: 1.0.\n",
      "[I 2023-11-22 16:20:58,409] Trial 14 finished with value: 0.97 and parameters: {'K': 9}. Best is trial 1 with value: 1.0.\n",
      "[I 2023-11-22 16:20:58,422] Trial 15 finished with value: 1.0 and parameters: {'K': 4}. Best is trial 1 with value: 1.0.\n",
      "[I 2023-11-22 16:20:58,434] Trial 16 finished with value: 1.0 and parameters: {'K': 2}. Best is trial 1 with value: 1.0.\n",
      "[I 2023-11-22 16:20:58,447] Trial 17 finished with value: 0.9500000000000001 and parameters: {'K': 10}. Best is trial 1 with value: 1.0.\n",
      "[I 2023-11-22 16:20:58,459] Trial 18 finished with value: 1.0 and parameters: {'K': 3}. Best is trial 1 with value: 1.0.\n",
      "[I 2023-11-22 16:20:58,471] Trial 19 finished with value: 1.0 and parameters: {'K': 6}. Best is trial 1 with value: 1.0.\n",
      "[I 2023-11-22 16:20:58,484] Trial 20 finished with value: 0.945 and parameters: {'K': 12}. Best is trial 1 with value: 1.0.\n",
      "[I 2023-11-22 16:20:58,496] Trial 21 finished with value: 1.0 and parameters: {'K': 1}. Best is trial 1 with value: 1.0.\n",
      "[I 2023-11-22 16:20:58,508] Trial 22 finished with value: 1.0 and parameters: {'K': 3}. Best is trial 1 with value: 1.0.\n",
      "[I 2023-11-22 16:20:58,521] Trial 23 finished with value: 1.0 and parameters: {'K': 1}. Best is trial 1 with value: 1.0.\n",
      "[I 2023-11-22 16:20:58,533] Trial 24 finished with value: 1.0 and parameters: {'K': 5}. Best is trial 1 with value: 1.0.\n",
      "[I 2023-11-22 16:20:58,546] Trial 25 finished with value: 1.0 and parameters: {'K': 3}. Best is trial 1 with value: 1.0.\n",
      "[I 2023-11-22 16:20:58,559] Trial 26 finished with value: 0.975 and parameters: {'K': 8}. Best is trial 1 with value: 1.0.\n",
      "[I 2023-11-22 16:20:58,572] Trial 27 finished with value: 1.0 and parameters: {'K': 5}. Best is trial 1 with value: 1.0.\n",
      "[I 2023-11-22 16:20:58,584] Trial 28 finished with value: 1.0 and parameters: {'K': 2}. Best is trial 1 with value: 1.0.\n",
      "[I 2023-11-22 16:20:58,597] Trial 29 finished with value: 0.94 and parameters: {'K': 14}. Best is trial 1 with value: 1.0.\n",
      "[I 2023-11-22 16:20:58,610] Trial 30 finished with value: 1.0 and parameters: {'K': 6}. Best is trial 1 with value: 1.0.\n",
      "[I 2023-11-22 16:20:58,622] Trial 31 finished with value: 1.0 and parameters: {'K': 1}. Best is trial 1 with value: 1.0.\n",
      "[I 2023-11-22 16:20:58,635] Trial 32 finished with value: 1.0 and parameters: {'K': 2}. Best is trial 1 with value: 1.0.\n",
      "[I 2023-11-22 16:20:58,647] Trial 33 finished with value: 1.0 and parameters: {'K': 4}. Best is trial 1 with value: 1.0.\n",
      "[I 2023-11-22 16:20:58,659] Trial 34 finished with value: 1.0 and parameters: {'K': 1}. Best is trial 1 with value: 1.0.\n",
      "[I 2023-11-22 16:20:58,671] Trial 35 finished with value: 1.0 and parameters: {'K': 3}. Best is trial 1 with value: 1.0.\n",
      "[I 2023-11-22 16:20:58,684] Trial 36 finished with value: 0.94 and parameters: {'K': 16}. Best is trial 1 with value: 1.0.\n",
      "[I 2023-11-22 16:20:58,696] Trial 37 finished with value: 1.0 and parameters: {'K': 2}. Best is trial 1 with value: 1.0.\n",
      "[I 2023-11-22 16:20:58,709] Trial 38 finished with value: 0.975 and parameters: {'K': 7}. Best is trial 1 with value: 1.0.\n",
      "[I 2023-11-22 16:20:58,723] Trial 39 finished with value: 0.93 and parameters: {'K': 20}. Best is trial 1 with value: 1.0.\n",
      "[I 2023-11-22 16:20:58,736] Trial 40 finished with value: 1.0 and parameters: {'K': 4}. Best is trial 1 with value: 1.0.\n",
      "[I 2023-11-22 16:20:58,750] Trial 41 finished with value: 1.0 and parameters: {'K': 6}. Best is trial 1 with value: 1.0.\n",
      "[I 2023-11-22 16:20:58,763] Trial 42 finished with value: 1.0 and parameters: {'K': 5}. Best is trial 1 with value: 1.0.\n",
      "[I 2023-11-22 16:20:58,776] Trial 43 finished with value: 0.975 and parameters: {'K': 7}. Best is trial 1 with value: 1.0.\n",
      "[I 2023-11-22 16:20:58,789] Trial 44 finished with value: 0.975 and parameters: {'K': 8}. Best is trial 1 with value: 1.0.\n",
      "[I 2023-11-22 16:20:58,803] Trial 45 finished with value: 1.0 and parameters: {'K': 4}. Best is trial 1 with value: 1.0.\n",
      "[I 2023-11-22 16:20:58,816] Trial 46 finished with value: 0.97 and parameters: {'K': 9}. Best is trial 1 with value: 1.0.\n",
      "[I 2023-11-22 16:20:58,828] Trial 47 finished with value: 1.0 and parameters: {'K': 2}. Best is trial 1 with value: 1.0.\n",
      "[I 2023-11-22 16:20:58,842] Trial 48 finished with value: 0.94 and parameters: {'K': 11}. Best is trial 1 with value: 1.0.\n",
      "[I 2023-11-22 16:20:58,855] Trial 49 finished with value: 1.0 and parameters: {'K': 3}. Best is trial 1 with value: 1.0.\n"
     ]
    }
   ],
   "source": [
    "def objectiveKNN(trial):\n",
    "    k=trial.suggest_int('K',1,20)\n",
    "\n",
    "    #entrenamiento\n",
    "    KNN=neighbors.KNeighborsClassifier(n_neighbors=k)\n",
    "    KNN.fit(X_train,y_train)\n",
    " \n",
    "    #prediccion\n",
    "    y_pred = KNN.predict(X_test)\n",
    "\n",
    "    #metrica\n",
    "    f1=metrics.f1_score(y_test,y_pred,average='micro')\n",
    "    return f1\n",
    "\n",
    "studyKNN = optuna.create_study(direction='maximize')\n",
    "studyKNN.optimize(objectiveKNN, n_trials=50)"
   ]
  },
  {
   "cell_type": "markdown",
   "metadata": {},
   "source": [
    "Mejores parametros"
   ]
  },
  {
   "cell_type": "code",
   "execution_count": 289,
   "metadata": {},
   "outputs": [
    {
     "name": "stdout",
     "output_type": "stream",
     "text": [
      "{'K': 4}\n"
     ]
    },
    {
     "data": {
      "application/vnd.plotly.v1+json": {
       "config": {
        "plotlyServerURL": "https://plot.ly"
       },
       "data": [
        {
         "mode": "markers",
         "name": "Objective Value",
         "type": "scatter",
         "x": [
          0,
          1,
          2,
          3,
          4,
          5,
          6,
          7,
          8,
          9,
          10,
          11,
          12,
          13,
          14,
          15,
          16,
          17,
          18,
          19,
          20,
          21,
          22,
          23,
          24,
          25,
          26,
          27,
          28,
          29,
          30,
          31,
          32,
          33,
          34,
          35,
          36,
          37,
          38,
          39,
          40,
          41,
          42,
          43,
          44,
          45,
          46,
          47,
          48,
          49
         ],
         "y": [
          0.94,
          1,
          0.94,
          1,
          0.94,
          0.93,
          0.975,
          1,
          1,
          0.93,
          1,
          1,
          1,
          0.975,
          0.97,
          1,
          1,
          0.9500000000000001,
          1,
          1,
          0.945,
          1,
          1,
          1,
          1,
          1,
          0.975,
          1,
          1,
          0.94,
          1,
          1,
          1,
          1,
          1,
          1,
          0.94,
          1,
          0.975,
          0.93,
          1,
          1,
          1,
          0.975,
          0.975,
          1,
          0.97,
          1,
          0.94,
          1
         ]
        },
        {
         "mode": "lines",
         "name": "Best Value",
         "type": "scatter",
         "x": [
          0,
          1,
          2,
          3,
          4,
          5,
          6,
          7,
          8,
          9,
          10,
          11,
          12,
          13,
          14,
          15,
          16,
          17,
          18,
          19,
          20,
          21,
          22,
          23,
          24,
          25,
          26,
          27,
          28,
          29,
          30,
          31,
          32,
          33,
          34,
          35,
          36,
          37,
          38,
          39,
          40,
          41,
          42,
          43,
          44,
          45,
          46,
          47,
          48,
          49
         ],
         "y": [
          0.94,
          1,
          1,
          1,
          1,
          1,
          1,
          1,
          1,
          1,
          1,
          1,
          1,
          1,
          1,
          1,
          1,
          1,
          1,
          1,
          1,
          1,
          1,
          1,
          1,
          1,
          1,
          1,
          1,
          1,
          1,
          1,
          1,
          1,
          1,
          1,
          1,
          1,
          1,
          1,
          1,
          1,
          1,
          1,
          1,
          1,
          1,
          1,
          1,
          1
         ]
        },
        {
         "marker": {
          "color": "#cccccc"
         },
         "mode": "markers",
         "name": "Infeasible Trial",
         "showlegend": false,
         "type": "scatter",
         "x": [],
         "y": []
        }
       ],
       "layout": {
        "template": {
         "data": {
          "bar": [
           {
            "error_x": {
             "color": "#2a3f5f"
            },
            "error_y": {
             "color": "#2a3f5f"
            },
            "marker": {
             "line": {
              "color": "#E5ECF6",
              "width": 0.5
             },
             "pattern": {
              "fillmode": "overlay",
              "size": 10,
              "solidity": 0.2
             }
            },
            "type": "bar"
           }
          ],
          "barpolar": [
           {
            "marker": {
             "line": {
              "color": "#E5ECF6",
              "width": 0.5
             },
             "pattern": {
              "fillmode": "overlay",
              "size": 10,
              "solidity": 0.2
             }
            },
            "type": "barpolar"
           }
          ],
          "carpet": [
           {
            "aaxis": {
             "endlinecolor": "#2a3f5f",
             "gridcolor": "white",
             "linecolor": "white",
             "minorgridcolor": "white",
             "startlinecolor": "#2a3f5f"
            },
            "baxis": {
             "endlinecolor": "#2a3f5f",
             "gridcolor": "white",
             "linecolor": "white",
             "minorgridcolor": "white",
             "startlinecolor": "#2a3f5f"
            },
            "type": "carpet"
           }
          ],
          "choropleth": [
           {
            "colorbar": {
             "outlinewidth": 0,
             "ticks": ""
            },
            "type": "choropleth"
           }
          ],
          "contour": [
           {
            "colorbar": {
             "outlinewidth": 0,
             "ticks": ""
            },
            "colorscale": [
             [
              0,
              "#0d0887"
             ],
             [
              0.1111111111111111,
              "#46039f"
             ],
             [
              0.2222222222222222,
              "#7201a8"
             ],
             [
              0.3333333333333333,
              "#9c179e"
             ],
             [
              0.4444444444444444,
              "#bd3786"
             ],
             [
              0.5555555555555556,
              "#d8576b"
             ],
             [
              0.6666666666666666,
              "#ed7953"
             ],
             [
              0.7777777777777778,
              "#fb9f3a"
             ],
             [
              0.8888888888888888,
              "#fdca26"
             ],
             [
              1,
              "#f0f921"
             ]
            ],
            "type": "contour"
           }
          ],
          "contourcarpet": [
           {
            "colorbar": {
             "outlinewidth": 0,
             "ticks": ""
            },
            "type": "contourcarpet"
           }
          ],
          "heatmap": [
           {
            "colorbar": {
             "outlinewidth": 0,
             "ticks": ""
            },
            "colorscale": [
             [
              0,
              "#0d0887"
             ],
             [
              0.1111111111111111,
              "#46039f"
             ],
             [
              0.2222222222222222,
              "#7201a8"
             ],
             [
              0.3333333333333333,
              "#9c179e"
             ],
             [
              0.4444444444444444,
              "#bd3786"
             ],
             [
              0.5555555555555556,
              "#d8576b"
             ],
             [
              0.6666666666666666,
              "#ed7953"
             ],
             [
              0.7777777777777778,
              "#fb9f3a"
             ],
             [
              0.8888888888888888,
              "#fdca26"
             ],
             [
              1,
              "#f0f921"
             ]
            ],
            "type": "heatmap"
           }
          ],
          "heatmapgl": [
           {
            "colorbar": {
             "outlinewidth": 0,
             "ticks": ""
            },
            "colorscale": [
             [
              0,
              "#0d0887"
             ],
             [
              0.1111111111111111,
              "#46039f"
             ],
             [
              0.2222222222222222,
              "#7201a8"
             ],
             [
              0.3333333333333333,
              "#9c179e"
             ],
             [
              0.4444444444444444,
              "#bd3786"
             ],
             [
              0.5555555555555556,
              "#d8576b"
             ],
             [
              0.6666666666666666,
              "#ed7953"
             ],
             [
              0.7777777777777778,
              "#fb9f3a"
             ],
             [
              0.8888888888888888,
              "#fdca26"
             ],
             [
              1,
              "#f0f921"
             ]
            ],
            "type": "heatmapgl"
           }
          ],
          "histogram": [
           {
            "marker": {
             "pattern": {
              "fillmode": "overlay",
              "size": 10,
              "solidity": 0.2
             }
            },
            "type": "histogram"
           }
          ],
          "histogram2d": [
           {
            "colorbar": {
             "outlinewidth": 0,
             "ticks": ""
            },
            "colorscale": [
             [
              0,
              "#0d0887"
             ],
             [
              0.1111111111111111,
              "#46039f"
             ],
             [
              0.2222222222222222,
              "#7201a8"
             ],
             [
              0.3333333333333333,
              "#9c179e"
             ],
             [
              0.4444444444444444,
              "#bd3786"
             ],
             [
              0.5555555555555556,
              "#d8576b"
             ],
             [
              0.6666666666666666,
              "#ed7953"
             ],
             [
              0.7777777777777778,
              "#fb9f3a"
             ],
             [
              0.8888888888888888,
              "#fdca26"
             ],
             [
              1,
              "#f0f921"
             ]
            ],
            "type": "histogram2d"
           }
          ],
          "histogram2dcontour": [
           {
            "colorbar": {
             "outlinewidth": 0,
             "ticks": ""
            },
            "colorscale": [
             [
              0,
              "#0d0887"
             ],
             [
              0.1111111111111111,
              "#46039f"
             ],
             [
              0.2222222222222222,
              "#7201a8"
             ],
             [
              0.3333333333333333,
              "#9c179e"
             ],
             [
              0.4444444444444444,
              "#bd3786"
             ],
             [
              0.5555555555555556,
              "#d8576b"
             ],
             [
              0.6666666666666666,
              "#ed7953"
             ],
             [
              0.7777777777777778,
              "#fb9f3a"
             ],
             [
              0.8888888888888888,
              "#fdca26"
             ],
             [
              1,
              "#f0f921"
             ]
            ],
            "type": "histogram2dcontour"
           }
          ],
          "mesh3d": [
           {
            "colorbar": {
             "outlinewidth": 0,
             "ticks": ""
            },
            "type": "mesh3d"
           }
          ],
          "parcoords": [
           {
            "line": {
             "colorbar": {
              "outlinewidth": 0,
              "ticks": ""
             }
            },
            "type": "parcoords"
           }
          ],
          "pie": [
           {
            "automargin": true,
            "type": "pie"
           }
          ],
          "scatter": [
           {
            "fillpattern": {
             "fillmode": "overlay",
             "size": 10,
             "solidity": 0.2
            },
            "type": "scatter"
           }
          ],
          "scatter3d": [
           {
            "line": {
             "colorbar": {
              "outlinewidth": 0,
              "ticks": ""
             }
            },
            "marker": {
             "colorbar": {
              "outlinewidth": 0,
              "ticks": ""
             }
            },
            "type": "scatter3d"
           }
          ],
          "scattercarpet": [
           {
            "marker": {
             "colorbar": {
              "outlinewidth": 0,
              "ticks": ""
             }
            },
            "type": "scattercarpet"
           }
          ],
          "scattergeo": [
           {
            "marker": {
             "colorbar": {
              "outlinewidth": 0,
              "ticks": ""
             }
            },
            "type": "scattergeo"
           }
          ],
          "scattergl": [
           {
            "marker": {
             "colorbar": {
              "outlinewidth": 0,
              "ticks": ""
             }
            },
            "type": "scattergl"
           }
          ],
          "scattermapbox": [
           {
            "marker": {
             "colorbar": {
              "outlinewidth": 0,
              "ticks": ""
             }
            },
            "type": "scattermapbox"
           }
          ],
          "scatterpolar": [
           {
            "marker": {
             "colorbar": {
              "outlinewidth": 0,
              "ticks": ""
             }
            },
            "type": "scatterpolar"
           }
          ],
          "scatterpolargl": [
           {
            "marker": {
             "colorbar": {
              "outlinewidth": 0,
              "ticks": ""
             }
            },
            "type": "scatterpolargl"
           }
          ],
          "scatterternary": [
           {
            "marker": {
             "colorbar": {
              "outlinewidth": 0,
              "ticks": ""
             }
            },
            "type": "scatterternary"
           }
          ],
          "surface": [
           {
            "colorbar": {
             "outlinewidth": 0,
             "ticks": ""
            },
            "colorscale": [
             [
              0,
              "#0d0887"
             ],
             [
              0.1111111111111111,
              "#46039f"
             ],
             [
              0.2222222222222222,
              "#7201a8"
             ],
             [
              0.3333333333333333,
              "#9c179e"
             ],
             [
              0.4444444444444444,
              "#bd3786"
             ],
             [
              0.5555555555555556,
              "#d8576b"
             ],
             [
              0.6666666666666666,
              "#ed7953"
             ],
             [
              0.7777777777777778,
              "#fb9f3a"
             ],
             [
              0.8888888888888888,
              "#fdca26"
             ],
             [
              1,
              "#f0f921"
             ]
            ],
            "type": "surface"
           }
          ],
          "table": [
           {
            "cells": {
             "fill": {
              "color": "#EBF0F8"
             },
             "line": {
              "color": "white"
             }
            },
            "header": {
             "fill": {
              "color": "#C8D4E3"
             },
             "line": {
              "color": "white"
             }
            },
            "type": "table"
           }
          ]
         },
         "layout": {
          "annotationdefaults": {
           "arrowcolor": "#2a3f5f",
           "arrowhead": 0,
           "arrowwidth": 1
          },
          "autotypenumbers": "strict",
          "coloraxis": {
           "colorbar": {
            "outlinewidth": 0,
            "ticks": ""
           }
          },
          "colorscale": {
           "diverging": [
            [
             0,
             "#8e0152"
            ],
            [
             0.1,
             "#c51b7d"
            ],
            [
             0.2,
             "#de77ae"
            ],
            [
             0.3,
             "#f1b6da"
            ],
            [
             0.4,
             "#fde0ef"
            ],
            [
             0.5,
             "#f7f7f7"
            ],
            [
             0.6,
             "#e6f5d0"
            ],
            [
             0.7,
             "#b8e186"
            ],
            [
             0.8,
             "#7fbc41"
            ],
            [
             0.9,
             "#4d9221"
            ],
            [
             1,
             "#276419"
            ]
           ],
           "sequential": [
            [
             0,
             "#0d0887"
            ],
            [
             0.1111111111111111,
             "#46039f"
            ],
            [
             0.2222222222222222,
             "#7201a8"
            ],
            [
             0.3333333333333333,
             "#9c179e"
            ],
            [
             0.4444444444444444,
             "#bd3786"
            ],
            [
             0.5555555555555556,
             "#d8576b"
            ],
            [
             0.6666666666666666,
             "#ed7953"
            ],
            [
             0.7777777777777778,
             "#fb9f3a"
            ],
            [
             0.8888888888888888,
             "#fdca26"
            ],
            [
             1,
             "#f0f921"
            ]
           ],
           "sequentialminus": [
            [
             0,
             "#0d0887"
            ],
            [
             0.1111111111111111,
             "#46039f"
            ],
            [
             0.2222222222222222,
             "#7201a8"
            ],
            [
             0.3333333333333333,
             "#9c179e"
            ],
            [
             0.4444444444444444,
             "#bd3786"
            ],
            [
             0.5555555555555556,
             "#d8576b"
            ],
            [
             0.6666666666666666,
             "#ed7953"
            ],
            [
             0.7777777777777778,
             "#fb9f3a"
            ],
            [
             0.8888888888888888,
             "#fdca26"
            ],
            [
             1,
             "#f0f921"
            ]
           ]
          },
          "colorway": [
           "#636efa",
           "#EF553B",
           "#00cc96",
           "#ab63fa",
           "#FFA15A",
           "#19d3f3",
           "#FF6692",
           "#B6E880",
           "#FF97FF",
           "#FECB52"
          ],
          "font": {
           "color": "#2a3f5f"
          },
          "geo": {
           "bgcolor": "white",
           "lakecolor": "white",
           "landcolor": "#E5ECF6",
           "showlakes": true,
           "showland": true,
           "subunitcolor": "white"
          },
          "hoverlabel": {
           "align": "left"
          },
          "hovermode": "closest",
          "mapbox": {
           "style": "light"
          },
          "paper_bgcolor": "white",
          "plot_bgcolor": "#E5ECF6",
          "polar": {
           "angularaxis": {
            "gridcolor": "white",
            "linecolor": "white",
            "ticks": ""
           },
           "bgcolor": "#E5ECF6",
           "radialaxis": {
            "gridcolor": "white",
            "linecolor": "white",
            "ticks": ""
           }
          },
          "scene": {
           "xaxis": {
            "backgroundcolor": "#E5ECF6",
            "gridcolor": "white",
            "gridwidth": 2,
            "linecolor": "white",
            "showbackground": true,
            "ticks": "",
            "zerolinecolor": "white"
           },
           "yaxis": {
            "backgroundcolor": "#E5ECF6",
            "gridcolor": "white",
            "gridwidth": 2,
            "linecolor": "white",
            "showbackground": true,
            "ticks": "",
            "zerolinecolor": "white"
           },
           "zaxis": {
            "backgroundcolor": "#E5ECF6",
            "gridcolor": "white",
            "gridwidth": 2,
            "linecolor": "white",
            "showbackground": true,
            "ticks": "",
            "zerolinecolor": "white"
           }
          },
          "shapedefaults": {
           "line": {
            "color": "#2a3f5f"
           }
          },
          "ternary": {
           "aaxis": {
            "gridcolor": "white",
            "linecolor": "white",
            "ticks": ""
           },
           "baxis": {
            "gridcolor": "white",
            "linecolor": "white",
            "ticks": ""
           },
           "bgcolor": "#E5ECF6",
           "caxis": {
            "gridcolor": "white",
            "linecolor": "white",
            "ticks": ""
           }
          },
          "title": {
           "x": 0.05
          },
          "xaxis": {
           "automargin": true,
           "gridcolor": "white",
           "linecolor": "white",
           "ticks": "",
           "title": {
            "standoff": 15
           },
           "zerolinecolor": "white",
           "zerolinewidth": 2
          },
          "yaxis": {
           "automargin": true,
           "gridcolor": "white",
           "linecolor": "white",
           "ticks": "",
           "title": {
            "standoff": 15
           },
           "zerolinecolor": "white",
           "zerolinewidth": 2
          }
         }
        },
        "title": {
         "text": "Optimization History Plot"
        },
        "xaxis": {
         "title": {
          "text": "Trial"
         }
        },
        "yaxis": {
         "title": {
          "text": "Objective Value"
         }
        }
       }
      }
     },
     "metadata": {},
     "output_type": "display_data"
    }
   ],
   "source": [
    "print(studyKNN.best_params)\n",
    "optuna.visualization.plot_optimization_history(studyKNN)"
   ]
  },
  {
   "cell_type": "code",
   "execution_count": 290,
   "metadata": {},
   "outputs": [
    {
     "data": {
      "application/vnd.plotly.v1+json": {
       "config": {
        "plotlyServerURL": "https://plot.ly"
       },
       "data": [
        {
         "dimensions": [
          {
           "label": "Objective Value",
           "range": [
            0.93,
            1
           ],
           "values": [
            0.94,
            1,
            0.94,
            1,
            0.94,
            0.93,
            0.975,
            1,
            1,
            0.93,
            1,
            1,
            1,
            0.975,
            0.97,
            1,
            1,
            0.9500000000000001,
            1,
            1,
            0.945,
            1,
            1,
            1,
            1,
            1,
            0.975,
            1,
            1,
            0.94,
            1,
            1,
            1,
            1,
            1,
            1,
            0.94,
            1,
            0.975,
            0.93,
            1,
            1,
            1,
            0.975,
            0.975,
            1,
            0.97,
            1,
            0.94,
            1
           ]
          },
          {
           "label": "K",
           "range": [
            1,
            20
           ],
           "values": [
            13,
            4,
            11,
            5,
            15,
            20,
            7,
            1,
            1,
            18,
            6,
            5,
            4,
            8,
            9,
            4,
            2,
            10,
            3,
            6,
            12,
            1,
            3,
            1,
            5,
            3,
            8,
            5,
            2,
            14,
            6,
            1,
            2,
            4,
            1,
            3,
            16,
            2,
            7,
            20,
            4,
            6,
            5,
            7,
            8,
            4,
            9,
            2,
            11,
            3
           ]
          }
         ],
         "labelangle": 30,
         "labelside": "bottom",
         "line": {
          "color": [
           0.94,
           1,
           0.94,
           1,
           0.94,
           0.93,
           0.975,
           1,
           1,
           0.93,
           1,
           1,
           1,
           0.975,
           0.97,
           1,
           1,
           0.9500000000000001,
           1,
           1,
           0.945,
           1,
           1,
           1,
           1,
           1,
           0.975,
           1,
           1,
           0.94,
           1,
           1,
           1,
           1,
           1,
           1,
           0.94,
           1,
           0.975,
           0.93,
           1,
           1,
           1,
           0.975,
           0.975,
           1,
           0.97,
           1,
           0.94,
           1
          ],
          "colorbar": {
           "title": {
            "text": "Objective Value"
           }
          },
          "colorscale": [
           [
            0,
            "rgb(247,251,255)"
           ],
           [
            0.125,
            "rgb(222,235,247)"
           ],
           [
            0.25,
            "rgb(198,219,239)"
           ],
           [
            0.375,
            "rgb(158,202,225)"
           ],
           [
            0.5,
            "rgb(107,174,214)"
           ],
           [
            0.625,
            "rgb(66,146,198)"
           ],
           [
            0.75,
            "rgb(33,113,181)"
           ],
           [
            0.875,
            "rgb(8,81,156)"
           ],
           [
            1,
            "rgb(8,48,107)"
           ]
          ],
          "reversescale": false,
          "showscale": true
         },
         "type": "parcoords"
        }
       ],
       "layout": {
        "template": {
         "data": {
          "bar": [
           {
            "error_x": {
             "color": "#2a3f5f"
            },
            "error_y": {
             "color": "#2a3f5f"
            },
            "marker": {
             "line": {
              "color": "#E5ECF6",
              "width": 0.5
             },
             "pattern": {
              "fillmode": "overlay",
              "size": 10,
              "solidity": 0.2
             }
            },
            "type": "bar"
           }
          ],
          "barpolar": [
           {
            "marker": {
             "line": {
              "color": "#E5ECF6",
              "width": 0.5
             },
             "pattern": {
              "fillmode": "overlay",
              "size": 10,
              "solidity": 0.2
             }
            },
            "type": "barpolar"
           }
          ],
          "carpet": [
           {
            "aaxis": {
             "endlinecolor": "#2a3f5f",
             "gridcolor": "white",
             "linecolor": "white",
             "minorgridcolor": "white",
             "startlinecolor": "#2a3f5f"
            },
            "baxis": {
             "endlinecolor": "#2a3f5f",
             "gridcolor": "white",
             "linecolor": "white",
             "minorgridcolor": "white",
             "startlinecolor": "#2a3f5f"
            },
            "type": "carpet"
           }
          ],
          "choropleth": [
           {
            "colorbar": {
             "outlinewidth": 0,
             "ticks": ""
            },
            "type": "choropleth"
           }
          ],
          "contour": [
           {
            "colorbar": {
             "outlinewidth": 0,
             "ticks": ""
            },
            "colorscale": [
             [
              0,
              "#0d0887"
             ],
             [
              0.1111111111111111,
              "#46039f"
             ],
             [
              0.2222222222222222,
              "#7201a8"
             ],
             [
              0.3333333333333333,
              "#9c179e"
             ],
             [
              0.4444444444444444,
              "#bd3786"
             ],
             [
              0.5555555555555556,
              "#d8576b"
             ],
             [
              0.6666666666666666,
              "#ed7953"
             ],
             [
              0.7777777777777778,
              "#fb9f3a"
             ],
             [
              0.8888888888888888,
              "#fdca26"
             ],
             [
              1,
              "#f0f921"
             ]
            ],
            "type": "contour"
           }
          ],
          "contourcarpet": [
           {
            "colorbar": {
             "outlinewidth": 0,
             "ticks": ""
            },
            "type": "contourcarpet"
           }
          ],
          "heatmap": [
           {
            "colorbar": {
             "outlinewidth": 0,
             "ticks": ""
            },
            "colorscale": [
             [
              0,
              "#0d0887"
             ],
             [
              0.1111111111111111,
              "#46039f"
             ],
             [
              0.2222222222222222,
              "#7201a8"
             ],
             [
              0.3333333333333333,
              "#9c179e"
             ],
             [
              0.4444444444444444,
              "#bd3786"
             ],
             [
              0.5555555555555556,
              "#d8576b"
             ],
             [
              0.6666666666666666,
              "#ed7953"
             ],
             [
              0.7777777777777778,
              "#fb9f3a"
             ],
             [
              0.8888888888888888,
              "#fdca26"
             ],
             [
              1,
              "#f0f921"
             ]
            ],
            "type": "heatmap"
           }
          ],
          "heatmapgl": [
           {
            "colorbar": {
             "outlinewidth": 0,
             "ticks": ""
            },
            "colorscale": [
             [
              0,
              "#0d0887"
             ],
             [
              0.1111111111111111,
              "#46039f"
             ],
             [
              0.2222222222222222,
              "#7201a8"
             ],
             [
              0.3333333333333333,
              "#9c179e"
             ],
             [
              0.4444444444444444,
              "#bd3786"
             ],
             [
              0.5555555555555556,
              "#d8576b"
             ],
             [
              0.6666666666666666,
              "#ed7953"
             ],
             [
              0.7777777777777778,
              "#fb9f3a"
             ],
             [
              0.8888888888888888,
              "#fdca26"
             ],
             [
              1,
              "#f0f921"
             ]
            ],
            "type": "heatmapgl"
           }
          ],
          "histogram": [
           {
            "marker": {
             "pattern": {
              "fillmode": "overlay",
              "size": 10,
              "solidity": 0.2
             }
            },
            "type": "histogram"
           }
          ],
          "histogram2d": [
           {
            "colorbar": {
             "outlinewidth": 0,
             "ticks": ""
            },
            "colorscale": [
             [
              0,
              "#0d0887"
             ],
             [
              0.1111111111111111,
              "#46039f"
             ],
             [
              0.2222222222222222,
              "#7201a8"
             ],
             [
              0.3333333333333333,
              "#9c179e"
             ],
             [
              0.4444444444444444,
              "#bd3786"
             ],
             [
              0.5555555555555556,
              "#d8576b"
             ],
             [
              0.6666666666666666,
              "#ed7953"
             ],
             [
              0.7777777777777778,
              "#fb9f3a"
             ],
             [
              0.8888888888888888,
              "#fdca26"
             ],
             [
              1,
              "#f0f921"
             ]
            ],
            "type": "histogram2d"
           }
          ],
          "histogram2dcontour": [
           {
            "colorbar": {
             "outlinewidth": 0,
             "ticks": ""
            },
            "colorscale": [
             [
              0,
              "#0d0887"
             ],
             [
              0.1111111111111111,
              "#46039f"
             ],
             [
              0.2222222222222222,
              "#7201a8"
             ],
             [
              0.3333333333333333,
              "#9c179e"
             ],
             [
              0.4444444444444444,
              "#bd3786"
             ],
             [
              0.5555555555555556,
              "#d8576b"
             ],
             [
              0.6666666666666666,
              "#ed7953"
             ],
             [
              0.7777777777777778,
              "#fb9f3a"
             ],
             [
              0.8888888888888888,
              "#fdca26"
             ],
             [
              1,
              "#f0f921"
             ]
            ],
            "type": "histogram2dcontour"
           }
          ],
          "mesh3d": [
           {
            "colorbar": {
             "outlinewidth": 0,
             "ticks": ""
            },
            "type": "mesh3d"
           }
          ],
          "parcoords": [
           {
            "line": {
             "colorbar": {
              "outlinewidth": 0,
              "ticks": ""
             }
            },
            "type": "parcoords"
           }
          ],
          "pie": [
           {
            "automargin": true,
            "type": "pie"
           }
          ],
          "scatter": [
           {
            "fillpattern": {
             "fillmode": "overlay",
             "size": 10,
             "solidity": 0.2
            },
            "type": "scatter"
           }
          ],
          "scatter3d": [
           {
            "line": {
             "colorbar": {
              "outlinewidth": 0,
              "ticks": ""
             }
            },
            "marker": {
             "colorbar": {
              "outlinewidth": 0,
              "ticks": ""
             }
            },
            "type": "scatter3d"
           }
          ],
          "scattercarpet": [
           {
            "marker": {
             "colorbar": {
              "outlinewidth": 0,
              "ticks": ""
             }
            },
            "type": "scattercarpet"
           }
          ],
          "scattergeo": [
           {
            "marker": {
             "colorbar": {
              "outlinewidth": 0,
              "ticks": ""
             }
            },
            "type": "scattergeo"
           }
          ],
          "scattergl": [
           {
            "marker": {
             "colorbar": {
              "outlinewidth": 0,
              "ticks": ""
             }
            },
            "type": "scattergl"
           }
          ],
          "scattermapbox": [
           {
            "marker": {
             "colorbar": {
              "outlinewidth": 0,
              "ticks": ""
             }
            },
            "type": "scattermapbox"
           }
          ],
          "scatterpolar": [
           {
            "marker": {
             "colorbar": {
              "outlinewidth": 0,
              "ticks": ""
             }
            },
            "type": "scatterpolar"
           }
          ],
          "scatterpolargl": [
           {
            "marker": {
             "colorbar": {
              "outlinewidth": 0,
              "ticks": ""
             }
            },
            "type": "scatterpolargl"
           }
          ],
          "scatterternary": [
           {
            "marker": {
             "colorbar": {
              "outlinewidth": 0,
              "ticks": ""
             }
            },
            "type": "scatterternary"
           }
          ],
          "surface": [
           {
            "colorbar": {
             "outlinewidth": 0,
             "ticks": ""
            },
            "colorscale": [
             [
              0,
              "#0d0887"
             ],
             [
              0.1111111111111111,
              "#46039f"
             ],
             [
              0.2222222222222222,
              "#7201a8"
             ],
             [
              0.3333333333333333,
              "#9c179e"
             ],
             [
              0.4444444444444444,
              "#bd3786"
             ],
             [
              0.5555555555555556,
              "#d8576b"
             ],
             [
              0.6666666666666666,
              "#ed7953"
             ],
             [
              0.7777777777777778,
              "#fb9f3a"
             ],
             [
              0.8888888888888888,
              "#fdca26"
             ],
             [
              1,
              "#f0f921"
             ]
            ],
            "type": "surface"
           }
          ],
          "table": [
           {
            "cells": {
             "fill": {
              "color": "#EBF0F8"
             },
             "line": {
              "color": "white"
             }
            },
            "header": {
             "fill": {
              "color": "#C8D4E3"
             },
             "line": {
              "color": "white"
             }
            },
            "type": "table"
           }
          ]
         },
         "layout": {
          "annotationdefaults": {
           "arrowcolor": "#2a3f5f",
           "arrowhead": 0,
           "arrowwidth": 1
          },
          "autotypenumbers": "strict",
          "coloraxis": {
           "colorbar": {
            "outlinewidth": 0,
            "ticks": ""
           }
          },
          "colorscale": {
           "diverging": [
            [
             0,
             "#8e0152"
            ],
            [
             0.1,
             "#c51b7d"
            ],
            [
             0.2,
             "#de77ae"
            ],
            [
             0.3,
             "#f1b6da"
            ],
            [
             0.4,
             "#fde0ef"
            ],
            [
             0.5,
             "#f7f7f7"
            ],
            [
             0.6,
             "#e6f5d0"
            ],
            [
             0.7,
             "#b8e186"
            ],
            [
             0.8,
             "#7fbc41"
            ],
            [
             0.9,
             "#4d9221"
            ],
            [
             1,
             "#276419"
            ]
           ],
           "sequential": [
            [
             0,
             "#0d0887"
            ],
            [
             0.1111111111111111,
             "#46039f"
            ],
            [
             0.2222222222222222,
             "#7201a8"
            ],
            [
             0.3333333333333333,
             "#9c179e"
            ],
            [
             0.4444444444444444,
             "#bd3786"
            ],
            [
             0.5555555555555556,
             "#d8576b"
            ],
            [
             0.6666666666666666,
             "#ed7953"
            ],
            [
             0.7777777777777778,
             "#fb9f3a"
            ],
            [
             0.8888888888888888,
             "#fdca26"
            ],
            [
             1,
             "#f0f921"
            ]
           ],
           "sequentialminus": [
            [
             0,
             "#0d0887"
            ],
            [
             0.1111111111111111,
             "#46039f"
            ],
            [
             0.2222222222222222,
             "#7201a8"
            ],
            [
             0.3333333333333333,
             "#9c179e"
            ],
            [
             0.4444444444444444,
             "#bd3786"
            ],
            [
             0.5555555555555556,
             "#d8576b"
            ],
            [
             0.6666666666666666,
             "#ed7953"
            ],
            [
             0.7777777777777778,
             "#fb9f3a"
            ],
            [
             0.8888888888888888,
             "#fdca26"
            ],
            [
             1,
             "#f0f921"
            ]
           ]
          },
          "colorway": [
           "#636efa",
           "#EF553B",
           "#00cc96",
           "#ab63fa",
           "#FFA15A",
           "#19d3f3",
           "#FF6692",
           "#B6E880",
           "#FF97FF",
           "#FECB52"
          ],
          "font": {
           "color": "#2a3f5f"
          },
          "geo": {
           "bgcolor": "white",
           "lakecolor": "white",
           "landcolor": "#E5ECF6",
           "showlakes": true,
           "showland": true,
           "subunitcolor": "white"
          },
          "hoverlabel": {
           "align": "left"
          },
          "hovermode": "closest",
          "mapbox": {
           "style": "light"
          },
          "paper_bgcolor": "white",
          "plot_bgcolor": "#E5ECF6",
          "polar": {
           "angularaxis": {
            "gridcolor": "white",
            "linecolor": "white",
            "ticks": ""
           },
           "bgcolor": "#E5ECF6",
           "radialaxis": {
            "gridcolor": "white",
            "linecolor": "white",
            "ticks": ""
           }
          },
          "scene": {
           "xaxis": {
            "backgroundcolor": "#E5ECF6",
            "gridcolor": "white",
            "gridwidth": 2,
            "linecolor": "white",
            "showbackground": true,
            "ticks": "",
            "zerolinecolor": "white"
           },
           "yaxis": {
            "backgroundcolor": "#E5ECF6",
            "gridcolor": "white",
            "gridwidth": 2,
            "linecolor": "white",
            "showbackground": true,
            "ticks": "",
            "zerolinecolor": "white"
           },
           "zaxis": {
            "backgroundcolor": "#E5ECF6",
            "gridcolor": "white",
            "gridwidth": 2,
            "linecolor": "white",
            "showbackground": true,
            "ticks": "",
            "zerolinecolor": "white"
           }
          },
          "shapedefaults": {
           "line": {
            "color": "#2a3f5f"
           }
          },
          "ternary": {
           "aaxis": {
            "gridcolor": "white",
            "linecolor": "white",
            "ticks": ""
           },
           "baxis": {
            "gridcolor": "white",
            "linecolor": "white",
            "ticks": ""
           },
           "bgcolor": "#E5ECF6",
           "caxis": {
            "gridcolor": "white",
            "linecolor": "white",
            "ticks": ""
           }
          },
          "title": {
           "x": 0.05
          },
          "xaxis": {
           "automargin": true,
           "gridcolor": "white",
           "linecolor": "white",
           "ticks": "",
           "title": {
            "standoff": 15
           },
           "zerolinecolor": "white",
           "zerolinewidth": 2
          },
          "yaxis": {
           "automargin": true,
           "gridcolor": "white",
           "linecolor": "white",
           "ticks": "",
           "title": {
            "standoff": 15
           },
           "zerolinecolor": "white",
           "zerolinewidth": 2
          }
         }
        },
        "title": {
         "text": "Parallel Coordinate Plot"
        }
       }
      }
     },
     "metadata": {},
     "output_type": "display_data"
    }
   ],
   "source": [
    "optuna.visualization.plot_parallel_coordinate(studyKNN)"
   ]
  },
  {
   "cell_type": "markdown",
   "metadata": {},
   "source": [
    "Validación"
   ]
  },
  {
   "cell_type": "code",
   "execution_count": 291,
   "metadata": {},
   "outputs": [
    {
     "name": "stdout",
     "output_type": "stream",
     "text": [
      "              precision    recall  f1-score   support\n",
      "\n",
      "         Low       1.00      1.00      1.00        63\n",
      "      Medium       1.00      1.00      1.00        72\n",
      "        High       1.00      1.00      1.00        65\n",
      "\n",
      "    accuracy                           1.00       200\n",
      "   macro avg       1.00      1.00      1.00       200\n",
      "weighted avg       1.00      1.00      1.00       200\n",
      "\n"
     ]
    },
    {
     "data": {
      "text/plain": [
       "<sklearn.metrics._plot.confusion_matrix.ConfusionMatrixDisplay at 0x1a741d69cc0>"
      ]
     },
     "execution_count": 291,
     "metadata": {},
     "output_type": "execute_result"
    },
    {
     "data": {
      "image/png": "[encoded data removed]",
      "text/plain": [
       "<Figure size 640x480 with 2 Axes>"
      ]
     },
     "metadata": {},
     "output_type": "display_data"
    }
   ],
   "source": [
    "k=studyKNN.best_params['K']\n",
    "\n",
    "\n",
    "#entrenamiento\n",
    "KNN=neighbors.KNeighborsClassifier(n_neighbors=k)\n",
    "KNN.fit(X_train,y_train)\n",
    "\n",
    "#prediccion\n",
    "y_pred = KNN.predict(X_val)\n",
    "\n",
    "#metricas\n",
    "print(metrics.classification_report(y_val,y_pred,target_names=['Low','Medium','High']))\n",
    "\n",
    "cm=metrics.confusion_matrix(y_val,y_pred)\n",
    "disp=metrics.ConfusionMatrixDisplay(cm,display_labels=['Low','Medium','High'])\n",
    "disp.plot()"
   ]
  },
  {
   "cell_type": "markdown",
   "metadata": {},
   "source": [
    "### Transformación en los datos"
   ]
  }
 ],
 "metadata": {
  "kernelspec": {
   "display_name": "Python 3",
   "language": "python",
   "name": "python3"
  },
  "language_info": {
   "codemirror_mode": {
    "name": "ipython",
    "version": 3
   },
   "file_extension": ".py",
   "mimetype": "text/x-python",
   "name": "python",
   "nbconvert_exporter": "python",
   "pygments_lexer": "ipython3",
   "version": "3.10.5"
  }
 },
 "nbformat": 4,
 "nbformat_minor": 2
}
