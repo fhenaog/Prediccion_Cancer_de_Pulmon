{
 "cells": [
  {
   "cell_type": "markdown",
   "metadata": {},
   "source": [
    "### Lectura de datos"
   ]
  },
  {
   "cell_type": "code",
   "execution_count": 74,
   "metadata": {},
   "outputs": [],
   "source": [
    "import numpy as np\n",
    "import pandas as pd\n",
    "import matplotlib.pyplot as plt\n",
    "\n",
    "D = pd.read_csv(\"cancer_patient_data_sets.csv\")"
   ]
  },
  {
   "cell_type": "markdown",
   "metadata": {},
   "source": [
    "### Preprocesamiento\n",
    "\n",
    "Ahora vamos a quitar las columnas index y patient ID que no son necesarias"
   ]
  },
  {
   "cell_type": "code",
   "execution_count": 75,
   "metadata": {},
   "outputs": [],
   "source": [
    "D=D.drop(columns=[\"index\",\"Patient Id\"])"
   ]
  },
  {
   "cell_type": "markdown",
   "metadata": {},
   "source": [
    "Tenemos que mirar si los datos estan bien, primero revisamos que no hayan datos nulos en alguna parte"
   ]
  },
  {
   "cell_type": "code",
   "execution_count": 76,
   "metadata": {},
   "outputs": [
    {
     "data": {
      "text/plain": [
       "Age                         0\n",
       "Gender                      0\n",
       "Air Pollution               0\n",
       "Alcohol use                 0\n",
       "Dust Allergy                0\n",
       "OccuPational Hazards        0\n",
       "Genetic Risk                0\n",
       "chronic Lung Disease        0\n",
       "Balanced Diet               0\n",
       "Obesity                     0\n",
       "Smoking                     0\n",
       "Passive Smoker              0\n",
       "Chest Pain                  0\n",
       "Coughing of Blood           0\n",
       "Fatigue                     0\n",
       "Weight Loss                 0\n",
       "Shortness of Breath         0\n",
       "Wheezing                    0\n",
       "Swallowing Difficulty       0\n",
       "Clubbing of Finger Nails    0\n",
       "Frequent Cold               0\n",
       "Dry Cough                   0\n",
       "Snoring                     0\n",
       "Level                       0\n",
       "dtype: int64"
      ]
     },
     "execution_count": 76,
     "metadata": {},
     "output_type": "execute_result"
    }
   ],
   "source": [
    "D.isnull().sum()"
   ]
  },
  {
   "cell_type": "markdown",
   "metadata": {},
   "source": [
    "Tambien revisamos que no esten desbalanceados los datos, esto es, que no haya una gran cantidad de alguna de las clases en comparación a las otras"
   ]
  },
  {
   "cell_type": "code",
   "execution_count": 77,
   "metadata": {},
   "outputs": [
    {
     "data": {
      "text/plain": [
       "High      365\n",
       "Medium    332\n",
       "Low       303\n",
       "Name: Level, dtype: int64"
      ]
     },
     "execution_count": 77,
     "metadata": {},
     "output_type": "execute_result"
    }
   ],
   "source": [
    "D['Level'].value_counts()"
   ]
  },
  {
   "cell_type": "markdown",
   "metadata": {},
   "source": [
    "Podemos ver que hay un número similar de la cantidad de elementos en las clases, lo que nos indica que los datos son buenos para trabajar con ellos.\n",
    "\n",
    "Ahora revisamos como es la informacion de cada columna de los datos"
   ]
  },
  {
   "cell_type": "code",
   "execution_count": 78,
   "metadata": {},
   "outputs": [
    {
     "name": "stdout",
     "output_type": "stream",
     "text": [
      "<class 'pandas.core.frame.DataFrame'>\n",
      "RangeIndex: 1000 entries, 0 to 999\n",
      "Data columns (total 24 columns):\n",
      " #   Column                    Non-Null Count  Dtype \n",
      "---  ------                    --------------  ----- \n",
      " 0   Age                       1000 non-null   int64 \n",
      " 1   Gender                    1000 non-null   int64 \n",
      " 2   Air Pollution             1000 non-null   int64 \n",
      " 3   Alcohol use               1000 non-null   int64 \n",
      " 4   Dust Allergy              1000 non-null   int64 \n",
      " 5   OccuPational Hazards      1000 non-null   int64 \n",
      " 6   Genetic Risk              1000 non-null   int64 \n",
      " 7   chronic Lung Disease      1000 non-null   int64 \n",
      " 8   Balanced Diet             1000 non-null   int64 \n",
      " 9   Obesity                   1000 non-null   int64 \n",
      " 10  Smoking                   1000 non-null   int64 \n",
      " 11  Passive Smoker            1000 non-null   int64 \n",
      " 12  Chest Pain                1000 non-null   int64 \n",
      " 13  Coughing of Blood         1000 non-null   int64 \n",
      " 14  Fatigue                   1000 non-null   int64 \n",
      " 15  Weight Loss               1000 non-null   int64 \n",
      " 16  Shortness of Breath       1000 non-null   int64 \n",
      " 17  Wheezing                  1000 non-null   int64 \n",
      " 18  Swallowing Difficulty     1000 non-null   int64 \n",
      " 19  Clubbing of Finger Nails  1000 non-null   int64 \n",
      " 20  Frequent Cold             1000 non-null   int64 \n",
      " 21  Dry Cough                 1000 non-null   int64 \n",
      " 22  Snoring                   1000 non-null   int64 \n",
      " 23  Level                     1000 non-null   object\n",
      "dtypes: int64(23), object(1)\n",
      "memory usage: 187.6+ KB\n"
     ]
    }
   ],
   "source": [
    "D.info()"
   ]
  },
  {
   "cell_type": "markdown",
   "metadata": {},
   "source": [
    "Podemos ver que la columna Level, la cual corresponde a la etiqueta, el tipo de dato es de objeto, luego, haremos una codificación de esta columna para tener numeros enteros, los valores que le daremos son:\n",
    " - Low: 0\n",
    " - Medium: 1\n",
    " - High: 2"
   ]
  },
  {
   "cell_type": "code",
   "execution_count": 79,
   "metadata": {},
   "outputs": [
    {
     "data": {
      "text/plain": [
       "2    365\n",
       "1    332\n",
       "0    303\n",
       "Name: Level, dtype: int64"
      ]
     },
     "execution_count": 79,
     "metadata": {},
     "output_type": "execute_result"
    }
   ],
   "source": [
    "D['Level']=D['Level'].replace({'Low':0,'Medium':1,'High':2})\n",
    "D['Level'].value_counts()"
   ]
  },
  {
   "cell_type": "markdown",
   "metadata": {},
   "source": [
    "### Entrenamiento\n",
    "\n",
    "Para el entrenamiento, probaremos tres modelos distintos, una maquina de vector soporte, un random forest y el ultimo un KNN, y usaremos la libreria Optuna para escoger la mejor configuración de los parametros del modelo."
   ]
  },
  {
   "cell_type": "code",
   "execution_count": 80,
   "metadata": {},
   "outputs": [],
   "source": [
    "from sklearn import svm\n",
    "from sklearn import neighbors\n",
    "from sklearn import ensemble\n",
    "from sklearn.model_selection import train_test_split\n",
    "from sklearn import metrics\n",
    "import optuna"
   ]
  },
  {
   "cell_type": "markdown",
   "metadata": {},
   "source": [
    "Primero hacemos la division de los datos en train, test, validation, para poder evaluar cual es el mejor modelo y luego probar el mejor obtenido.\n"
   ]
  },
  {
   "cell_type": "code",
   "execution_count": 81,
   "metadata": {},
   "outputs": [],
   "source": [
    "X = D.drop(columns=['Level'])\n",
    "y = D['Level']\n",
    "X_train, X_test, y_train, y_test = train_test_split(X,y,test_size=0.2,random_state=0)\n",
    "X_train, X_val, y_train, y_val = train_test_split(X_train,y_train,test_size=0.25,random_state=0) # 0.25 * 0.8 = 0.2"
   ]
  },
  {
   "cell_type": "markdown",
   "metadata": {},
   "source": [
    "El objetivo para escoger los parametros será minimizar el f1 score, para así tenen una baja cantidad de falsos positivos y falsos negativos ya que ambos son importante evitarlos.\n",
    "\n",
    "Probaremos primero con la maquina de vector soporte"
   ]
  },
  {
   "cell_type": "code",
   "execution_count": 82,
   "metadata": {},
   "outputs": [
    {
     "name": "stderr",
     "output_type": "stream",
     "text": [
      "[I 2023-11-24 19:37:29,223] A new study created in memory with name: no-name-2f18bbf0-3d0f-4d8f-be84-350b80eda305\n",
      "[I 2023-11-24 19:37:29,246] Trial 0 finished with value: 0.375 and parameters: {'svm_C': 1.919277840805936e-09, 'Kernel': 'linear'}. Best is trial 0 with value: 0.375.\n",
      "[I 2023-11-24 19:37:29,279] Trial 1 finished with value: 0.375 and parameters: {'svm_C': 1.1893124504663904e-06, 'Kernel': 'sigmoid'}. Best is trial 0 with value: 0.375.\n",
      "[I 2023-11-24 19:37:29,311] Trial 2 finished with value: 0.375 and parameters: {'svm_C': 2.161834002051051e-07, 'Kernel': 'sigmoid'}. Best is trial 0 with value: 0.375.\n",
      "[I 2023-11-24 19:37:29,320] Trial 3 finished with value: 1.0 and parameters: {'svm_C': 0.030091392564794917, 'Kernel': 'linear'}. Best is trial 3 with value: 1.0.\n",
      "[I 2023-11-24 19:37:29,338] Trial 4 finished with value: 0.375 and parameters: {'svm_C': 3.473581961965404e-07, 'Kernel': 'poly'}. Best is trial 3 with value: 1.0.\n",
      "[I 2023-11-24 19:37:29,356] Trial 5 finished with value: 0.375 and parameters: {'svm_C': 2.3605257644107835e-09, 'Kernel': 'linear'}. Best is trial 3 with value: 1.0.\n",
      "[I 2023-11-24 19:37:29,389] Trial 6 finished with value: 0.375 and parameters: {'svm_C': 3.3262872713391166e-10, 'Kernel': 'sigmoid'}. Best is trial 3 with value: 1.0.\n",
      "[I 2023-11-24 19:37:29,408] Trial 7 finished with value: 0.375 and parameters: {'svm_C': 4.70963836186502e-06, 'Kernel': 'poly'}. Best is trial 3 with value: 1.0.\n",
      "[I 2023-11-24 19:37:29,417] Trial 8 finished with value: 1.0 and parameters: {'svm_C': 123.85668006667888, 'Kernel': 'linear'}. Best is trial 3 with value: 1.0.\n",
      "[I 2023-11-24 19:37:29,426] Trial 9 finished with value: 1.0 and parameters: {'svm_C': 293.42502380527185, 'Kernel': 'rbf'}. Best is trial 3 with value: 1.0.\n",
      "[I 2023-11-24 19:37:29,460] Trial 10 finished with value: 0.53 and parameters: {'svm_C': 0.030972999882906943, 'Kernel': 'rbf'}. Best is trial 3 with value: 1.0.\n",
      "[I 2023-11-24 19:37:29,474] Trial 11 finished with value: 1.0 and parameters: {'svm_C': 39.24230392756152, 'Kernel': 'linear'}. Best is trial 3 with value: 1.0.\n",
      "[I 2023-11-24 19:37:29,488] Trial 12 finished with value: 1.0 and parameters: {'svm_C': 16552.56758153067, 'Kernel': 'linear'}. Best is trial 3 with value: 1.0.\n",
      "[I 2023-11-24 19:37:29,501] Trial 13 finished with value: 1.0 and parameters: {'svm_C': 0.25581611424374173, 'Kernel': 'linear'}. Best is trial 3 with value: 1.0.\n",
      "[I 2023-11-24 19:37:29,516] Trial 14 finished with value: 0.96 and parameters: {'svm_C': 0.000985801236566089, 'Kernel': 'linear'}. Best is trial 3 with value: 1.0.\n",
      "[I 2023-11-24 19:37:29,530] Trial 15 finished with value: 1.0 and parameters: {'svm_C': 1.6189276217842512, 'Kernel': 'linear'}. Best is trial 3 with value: 1.0.\n",
      "[I 2023-11-24 19:37:29,547] Trial 16 finished with value: 0.96 and parameters: {'svm_C': 0.0009285403351547254, 'Kernel': 'linear'}. Best is trial 3 with value: 1.0.\n",
      "[I 2023-11-24 19:37:29,560] Trial 17 finished with value: 1.0 and parameters: {'svm_C': 6811.602775045724, 'Kernel': 'rbf'}. Best is trial 3 with value: 1.0.\n",
      "[I 2023-11-24 19:37:29,576] Trial 18 finished with value: 1.0 and parameters: {'svm_C': 10.666963199630954, 'Kernel': 'poly'}. Best is trial 3 with value: 1.0.\n",
      "[I 2023-11-24 19:37:29,590] Trial 19 finished with value: 1.0 and parameters: {'svm_C': 205.60582348118592, 'Kernel': 'linear'}. Best is trial 3 with value: 1.0.\n",
      "[I 2023-11-24 19:37:29,602] Trial 20 finished with value: 1.0 and parameters: {'svm_C': 0.028813449820000076, 'Kernel': 'linear'}. Best is trial 3 with value: 1.0.\n",
      "[I 2023-11-24 19:37:29,615] Trial 21 finished with value: 1.0 and parameters: {'svm_C': 770.7119319212284, 'Kernel': 'rbf'}. Best is trial 3 with value: 1.0.\n",
      "[I 2023-11-24 19:37:29,629] Trial 22 finished with value: 1.0 and parameters: {'svm_C': 391.81396948724546, 'Kernel': 'rbf'}. Best is trial 3 with value: 1.0.\n",
      "[I 2023-11-24 19:37:29,644] Trial 23 finished with value: 0.975 and parameters: {'svm_C': 3.387998864203394, 'Kernel': 'rbf'}. Best is trial 3 with value: 1.0.\n",
      "[I 2023-11-24 19:37:29,657] Trial 24 finished with value: 1.0 and parameters: {'svm_C': 9783.08247856622, 'Kernel': 'rbf'}. Best is trial 3 with value: 1.0.\n",
      "[I 2023-11-24 19:37:29,670] Trial 25 finished with value: 1.0 and parameters: {'svm_C': 84750.57561267837, 'Kernel': 'rbf'}. Best is trial 3 with value: 1.0.\n",
      "[I 2023-11-24 19:37:29,698] Trial 26 finished with value: 0.31 and parameters: {'svm_C': 20.319643508220256, 'Kernel': 'sigmoid'}. Best is trial 3 with value: 1.0.\n",
      "[I 2023-11-24 19:37:29,713] Trial 27 finished with value: 0.91 and parameters: {'svm_C': 0.3566786383664002, 'Kernel': 'poly'}. Best is trial 3 with value: 1.0.\n",
      "[I 2023-11-24 19:37:29,727] Trial 28 finished with value: 1.0 and parameters: {'svm_C': 93.62481793975125, 'Kernel': 'linear'}. Best is trial 3 with value: 1.0.\n",
      "[I 2023-11-24 19:37:29,739] Trial 29 finished with value: 1.0 and parameters: {'svm_C': 1199.0964555810192, 'Kernel': 'linear'}. Best is trial 3 with value: 1.0.\n",
      "[I 2023-11-24 19:37:29,752] Trial 30 finished with value: 1.0 and parameters: {'svm_C': 20.254684475407235, 'Kernel': 'rbf'}. Best is trial 3 with value: 1.0.\n",
      "[I 2023-11-24 19:37:29,764] Trial 31 finished with value: 1.0 and parameters: {'svm_C': 100.26566392222028, 'Kernel': 'linear'}. Best is trial 3 with value: 1.0.\n",
      "[I 2023-11-24 19:37:29,779] Trial 32 finished with value: 1.0 and parameters: {'svm_C': 46.50349633706478, 'Kernel': 'linear'}. Best is trial 3 with value: 1.0.\n",
      "[I 2023-11-24 19:37:29,792] Trial 33 finished with value: 1.0 and parameters: {'svm_C': 1801.6141803863045, 'Kernel': 'linear'}. Best is trial 3 with value: 1.0.\n",
      "[I 2023-11-24 19:37:29,819] Trial 34 finished with value: 0.32 and parameters: {'svm_C': 2.8671037492676748, 'Kernel': 'sigmoid'}. Best is trial 3 with value: 1.0.\n",
      "[I 2023-11-24 19:37:29,833] Trial 35 finished with value: 1.0 and parameters: {'svm_C': 248.21037554639375, 'Kernel': 'linear'}. Best is trial 3 with value: 1.0.\n",
      "[I 2023-11-24 19:37:29,846] Trial 36 finished with value: 1.0 and parameters: {'svm_C': 83163.83929339124, 'Kernel': 'linear'}. Best is trial 3 with value: 1.0.\n",
      "[I 2023-11-24 19:37:29,872] Trial 37 finished with value: 0.32 and parameters: {'svm_C': 15.607093844329015, 'Kernel': 'sigmoid'}. Best is trial 3 with value: 1.0.\n",
      "[I 2023-11-24 19:37:29,887] Trial 38 finished with value: 1.0 and parameters: {'svm_C': 1424.69973524122, 'Kernel': 'poly'}. Best is trial 3 with value: 1.0.\n",
      "[I 2023-11-24 19:37:29,908] Trial 39 finished with value: 0.625 and parameters: {'svm_C': 7.015655557273946e-05, 'Kernel': 'linear'}. Best is trial 3 with value: 1.0.\n",
      "[I 2023-11-24 19:37:29,922] Trial 40 finished with value: 1.0 and parameters: {'svm_C': 0.267201513115087, 'Kernel': 'linear'}. Best is trial 3 with value: 1.0.\n",
      "[I 2023-11-24 19:37:29,935] Trial 41 finished with value: 1.0 and parameters: {'svm_C': 90.79951547581739, 'Kernel': 'linear'}. Best is trial 3 with value: 1.0.\n",
      "[I 2023-11-24 19:37:29,948] Trial 42 finished with value: 1.0 and parameters: {'svm_C': 7900.263451492366, 'Kernel': 'linear'}. Best is trial 3 with value: 1.0.\n",
      "[I 2023-11-24 19:37:29,961] Trial 43 finished with value: 1.0 and parameters: {'svm_C': 21230.053808655284, 'Kernel': 'linear'}. Best is trial 3 with value: 1.0.\n",
      "[I 2023-11-24 19:37:29,974] Trial 44 finished with value: 1.0 and parameters: {'svm_C': 2144.3138250681586, 'Kernel': 'linear'}. Best is trial 3 with value: 1.0.\n",
      "[I 2023-11-24 19:37:29,988] Trial 45 finished with value: 1.0 and parameters: {'svm_C': 1.3160577101360356, 'Kernel': 'linear'}. Best is trial 3 with value: 1.0.\n",
      "[I 2023-11-24 19:37:30,010] Trial 46 finished with value: 0.725 and parameters: {'svm_C': 0.01867912922696573, 'Kernel': 'poly'}. Best is trial 3 with value: 1.0.\n",
      "[I 2023-11-24 19:37:30,024] Trial 47 finished with value: 1.0 and parameters: {'svm_C': 239.42691344275258, 'Kernel': 'rbf'}. Best is trial 3 with value: 1.0.\n",
      "[I 2023-11-24 19:37:30,051] Trial 48 finished with value: 0.31 and parameters: {'svm_C': 4027.4218826261254, 'Kernel': 'sigmoid'}. Best is trial 3 with value: 1.0.\n",
      "[I 2023-11-24 19:37:30,065] Trial 49 finished with value: 1.0 and parameters: {'svm_C': 20745.74573345624, 'Kernel': 'linear'}. Best is trial 3 with value: 1.0.\n",
      "[I 2023-11-24 19:37:30,078] Trial 50 finished with value: 1.0 and parameters: {'svm_C': 6.958848821520841, 'Kernel': 'linear'}. Best is trial 3 with value: 1.0.\n",
      "[I 2023-11-24 19:37:30,092] Trial 51 finished with value: 1.0 and parameters: {'svm_C': 0.5161298685309882, 'Kernel': 'linear'}. Best is trial 3 with value: 1.0.\n",
      "[I 2023-11-24 19:37:30,104] Trial 52 finished with value: 1.0 and parameters: {'svm_C': 628.1624706070802, 'Kernel': 'linear'}. Best is trial 3 with value: 1.0.\n",
      "[I 2023-11-24 19:37:30,117] Trial 53 finished with value: 1.0 and parameters: {'svm_C': 0.1124557445927278, 'Kernel': 'linear'}. Best is trial 3 with value: 1.0.\n",
      "[I 2023-11-24 19:37:30,151] Trial 54 finished with value: 0.375 and parameters: {'svm_C': 0.008235954979396809, 'Kernel': 'rbf'}. Best is trial 3 with value: 1.0.\n",
      "[I 2023-11-24 19:37:30,165] Trial 55 finished with value: 1.0 and parameters: {'svm_C': 0.09362887277943278, 'Kernel': 'linear'}. Best is trial 3 with value: 1.0.\n",
      "[I 2023-11-24 19:37:30,178] Trial 56 finished with value: 0.975 and parameters: {'svm_C': 6.064601800105118, 'Kernel': 'rbf'}. Best is trial 3 with value: 1.0.\n",
      "[I 2023-11-24 19:37:30,191] Trial 57 finished with value: 1.0 and parameters: {'svm_C': 0.8822997084484651, 'Kernel': 'linear'}. Best is trial 3 with value: 1.0.\n",
      "[I 2023-11-24 19:37:30,205] Trial 58 finished with value: 1.0 and parameters: {'svm_C': 45.23518823110562, 'Kernel': 'poly'}. Best is trial 3 with value: 1.0.\n",
      "[I 2023-11-24 19:37:30,218] Trial 59 finished with value: 1.0 and parameters: {'svm_C': 1.4313106598929068, 'Kernel': 'linear'}. Best is trial 3 with value: 1.0.\n",
      "[I 2023-11-24 19:37:30,231] Trial 60 finished with value: 1.0 and parameters: {'svm_C': 633.7115681469485, 'Kernel': 'rbf'}. Best is trial 3 with value: 1.0.\n",
      "[I 2023-11-24 19:37:30,246] Trial 61 finished with value: 1.0 and parameters: {'svm_C': 3.5339280423972657, 'Kernel': 'linear'}. Best is trial 3 with value: 1.0.\n",
      "[I 2023-11-24 19:37:30,258] Trial 62 finished with value: 1.0 and parameters: {'svm_C': 38.865513541199284, 'Kernel': 'linear'}. Best is trial 3 with value: 1.0.\n",
      "[I 2023-11-24 19:37:30,271] Trial 63 finished with value: 1.0 and parameters: {'svm_C': 7.869379115423828, 'Kernel': 'linear'}. Best is trial 3 with value: 1.0.\n",
      "[I 2023-11-24 19:37:30,285] Trial 64 finished with value: 1.0 and parameters: {'svm_C': 0.11752662870661977, 'Kernel': 'linear'}. Best is trial 3 with value: 1.0.\n",
      "[I 2023-11-24 19:37:30,298] Trial 65 finished with value: 1.0 and parameters: {'svm_C': 267.02940490226894, 'Kernel': 'linear'}. Best is trial 3 with value: 1.0.\n",
      "[I 2023-11-24 19:37:30,325] Trial 66 finished with value: 0.31 and parameters: {'svm_C': 21.028260665765835, 'Kernel': 'sigmoid'}. Best is trial 3 with value: 1.0.\n",
      "[I 2023-11-24 19:37:30,337] Trial 67 finished with value: 1.0 and parameters: {'svm_C': 1.5272524888569399, 'Kernel': 'linear'}. Best is trial 3 with value: 1.0.\n",
      "[I 2023-11-24 19:37:30,371] Trial 68 finished with value: 0.375 and parameters: {'svm_C': 0.0028315439143908774, 'Kernel': 'rbf'}. Best is trial 3 with value: 1.0.\n",
      "[I 2023-11-24 19:37:30,384] Trial 69 finished with value: 1.0 and parameters: {'svm_C': 157.79669629415488, 'Kernel': 'linear'}. Best is trial 3 with value: 1.0.\n",
      "[I 2023-11-24 19:37:30,398] Trial 70 finished with value: 1.0 and parameters: {'svm_C': 59.79435493984751, 'Kernel': 'poly'}. Best is trial 3 with value: 1.0.\n",
      "[I 2023-11-24 19:37:30,412] Trial 71 finished with value: 1.0 and parameters: {'svm_C': 6430.411002399378, 'Kernel': 'rbf'}. Best is trial 3 with value: 1.0.\n",
      "[I 2023-11-24 19:37:30,424] Trial 72 finished with value: 1.0 and parameters: {'svm_C': 2483.0275707329342, 'Kernel': 'rbf'}. Best is trial 3 with value: 1.0.\n",
      "[I 2023-11-24 19:37:30,438] Trial 73 finished with value: 1.0 and parameters: {'svm_C': 1042.2178599849483, 'Kernel': 'rbf'}. Best is trial 3 with value: 1.0.\n",
      "[I 2023-11-24 19:37:30,451] Trial 74 finished with value: 1.0 and parameters: {'svm_C': 552.2665928436969, 'Kernel': 'rbf'}. Best is trial 3 with value: 1.0.\n",
      "[I 2023-11-24 19:37:30,463] Trial 75 finished with value: 1.0 and parameters: {'svm_C': 25923.895898089348, 'Kernel': 'linear'}. Best is trial 3 with value: 1.0.\n",
      "[I 2023-11-24 19:37:30,476] Trial 76 finished with value: 1.0 and parameters: {'svm_C': 17.503725036138007, 'Kernel': 'rbf'}. Best is trial 3 with value: 1.0.\n",
      "[I 2023-11-24 19:37:30,489] Trial 77 finished with value: 1.0 and parameters: {'svm_C': 3924.293822663862, 'Kernel': 'linear'}. Best is trial 3 with value: 1.0.\n",
      "[I 2023-11-24 19:37:30,517] Trial 78 finished with value: 0.31 and parameters: {'svm_C': 178.72304975478198, 'Kernel': 'sigmoid'}. Best is trial 3 with value: 1.0.\n",
      "[I 2023-11-24 19:37:30,530] Trial 79 finished with value: 1.0 and parameters: {'svm_C': 10720.104506458558, 'Kernel': 'linear'}. Best is trial 3 with value: 1.0.\n",
      "[I 2023-11-24 19:37:30,543] Trial 80 finished with value: 1.0 and parameters: {'svm_C': 3.032378425256815, 'Kernel': 'linear'}. Best is trial 3 with value: 1.0.\n",
      "[I 2023-11-24 19:37:30,558] Trial 81 finished with value: 0.91 and parameters: {'svm_C': 0.35423382859018027, 'Kernel': 'poly'}. Best is trial 3 with value: 1.0.\n",
      "[I 2023-11-24 19:37:30,573] Trial 82 finished with value: 1.0 and parameters: {'svm_C': 72.11359222199994, 'Kernel': 'poly'}. Best is trial 3 with value: 1.0.\n",
      "[I 2023-11-24 19:37:30,587] Trial 83 finished with value: 1.0 and parameters: {'svm_C': 337.57261932340384, 'Kernel': 'poly'}. Best is trial 3 with value: 1.0.\n",
      "[I 2023-11-24 19:37:30,601] Trial 84 finished with value: 1.0 and parameters: {'svm_C': 7.9809056901096245, 'Kernel': 'poly'}. Best is trial 3 with value: 1.0.\n",
      "[I 2023-11-24 19:37:30,614] Trial 85 finished with value: 1.0 and parameters: {'svm_C': 856.8728881241032, 'Kernel': 'linear'}. Best is trial 3 with value: 1.0.\n",
      "[I 2023-11-24 19:37:30,628] Trial 86 finished with value: 1.0 and parameters: {'svm_C': 1932.9596410657023, 'Kernel': 'rbf'}. Best is trial 3 with value: 1.0.\n",
      "[I 2023-11-24 19:37:30,642] Trial 87 finished with value: 1.0 and parameters: {'svm_C': 129.59729429412982, 'Kernel': 'poly'}. Best is trial 3 with value: 1.0.\n",
      "[I 2023-11-24 19:37:30,655] Trial 88 finished with value: 1.0 and parameters: {'svm_C': 0.8752820051420124, 'Kernel': 'linear'}. Best is trial 3 with value: 1.0.\n",
      "[I 2023-11-24 19:37:30,668] Trial 89 finished with value: 1.0 and parameters: {'svm_C': 44476.91194383058, 'Kernel': 'linear'}. Best is trial 3 with value: 1.0.\n",
      "[I 2023-11-24 19:37:30,681] Trial 90 finished with value: 1.0 and parameters: {'svm_C': 99655.45626936272, 'Kernel': 'rbf'}. Best is trial 3 with value: 1.0.\n",
      "[I 2023-11-24 19:37:30,693] Trial 91 finished with value: 1.0 and parameters: {'svm_C': 454.01647870055456, 'Kernel': 'linear'}. Best is trial 3 with value: 1.0.\n",
      "[I 2023-11-24 19:37:30,706] Trial 92 finished with value: 1.0 and parameters: {'svm_C': 31.448622846638166, 'Kernel': 'linear'}. Best is trial 3 with value: 1.0.\n",
      "[I 2023-11-24 19:37:30,720] Trial 93 finished with value: 1.0 and parameters: {'svm_C': 88.27110992033202, 'Kernel': 'linear'}. Best is trial 3 with value: 1.0.\n",
      "[I 2023-11-24 19:37:30,733] Trial 94 finished with value: 1.0 and parameters: {'svm_C': 15.932487614245535, 'Kernel': 'linear'}. Best is trial 3 with value: 1.0.\n",
      "[I 2023-11-24 19:37:30,747] Trial 95 finished with value: 1.0 and parameters: {'svm_C': 5108.471865494709, 'Kernel': 'linear'}. Best is trial 3 with value: 1.0.\n",
      "[I 2023-11-24 19:37:30,774] Trial 96 finished with value: 0.32 and parameters: {'svm_C': 9.404500002193199, 'Kernel': 'sigmoid'}. Best is trial 3 with value: 1.0.\n",
      "[I 2023-11-24 19:37:30,787] Trial 97 finished with value: 1.0 and parameters: {'svm_C': 38.49864160587977, 'Kernel': 'linear'}. Best is trial 3 with value: 1.0.\n",
      "[I 2023-11-24 19:37:30,800] Trial 98 finished with value: 1.0 and parameters: {'svm_C': 1349.330445297843, 'Kernel': 'linear'}. Best is trial 3 with value: 1.0.\n",
      "[I 2023-11-24 19:37:30,813] Trial 99 finished with value: 1.0 and parameters: {'svm_C': 233.98269373395928, 'Kernel': 'linear'}. Best is trial 3 with value: 1.0.\n"
     ]
    }
   ],
   "source": [
    "def objectiveSVM(trial):\n",
    "    svm_C=trial.suggest_float('svm_C',1e-10,1e5,log=True)\n",
    "    krn=trial.suggest_categorical('Kernel',['linear','poly','rbf','sigmoid'])\n",
    "\n",
    "    #entrenamiento\n",
    "    mvs=svm.SVC(C=svm_C,kernel=krn)\n",
    "    mvs.fit(X_train,y_train)\n",
    " \n",
    "    #prediccion\n",
    "    y_pred = mvs.predict(X_test)\n",
    "\n",
    "    #metrica\n",
    "    recall=metrics.recall_score(y_test,y_pred,average='micro')\n",
    "    return recall\n",
    "\n",
    "studySVM = optuna.create_study(direction='maximize')\n",
    "studySVM.optimize(objectiveSVM, n_trials=100)"
   ]
  },
  {
   "cell_type": "markdown",
   "metadata": {},
   "source": [
    "Mejores Parametros"
   ]
  },
  {
   "cell_type": "code",
   "execution_count": 83,
   "metadata": {},
   "outputs": [
    {
     "name": "stdout",
     "output_type": "stream",
     "text": [
      "{'svm_C': 0.030091392564794917, 'Kernel': 'linear'}\n"
     ]
    },
    {
     "data": {
      "application/vnd.plotly.v1+json": {
       "config": {
        "plotlyServerURL": "https://plot.ly"
       },
       "data": [
        {
         "mode": "markers",
         "name": "Objective Value",
         "type": "scatter",
         "x": [
          0,
          1,
          2,
          3,
          4,
          5,
          6,
          7,
          8,
          9,
          10,
          11,
          12,
          13,
          14,
          15,
          16,
          17,
          18,
          19,
          20,
          21,
          22,
          23,
          24,
          25,
          26,
          27,
          28,
          29,
          30,
          31,
          32,
          33,
          34,
          35,
          36,
          37,
          38,
          39,
          40,
          41,
          42,
          43,
          44,
          45,
          46,
          47,
          48,
          49,
          50,
          51,
          52,
          53,
          54,
          55,
          56,
          57,
          58,
          59,
          60,
          61,
          62,
          63,
          64,
          65,
          66,
          67,
          68,
          69,
          70,
          71,
          72,
          73,
          74,
          75,
          76,
          77,
          78,
          79,
          80,
          81,
          82,
          83,
          84,
          85,
          86,
          87,
          88,
          89,
          90,
          91,
          92,
          93,
          94,
          95,
          96,
          97,
          98,
          99
         ],
         "y": [
          0.375,
          0.375,
          0.375,
          1,
          0.375,
          0.375,
          0.375,
          0.375,
          1,
          1,
          0.53,
          1,
          1,
          1,
          0.96,
          1,
          0.96,
          1,
          1,
          1,
          1,
          1,
          1,
          0.975,
          1,
          1,
          0.31,
          0.91,
          1,
          1,
          1,
          1,
          1,
          1,
          0.32,
          1,
          1,
          0.32,
          1,
          0.625,
          1,
          1,
          1,
          1,
          1,
          1,
          0.725,
          1,
          0.31,
          1,
          1,
          1,
          1,
          1,
          0.375,
          1,
          0.975,
          1,
          1,
          1,
          1,
          1,
          1,
          1,
          1,
          1,
          0.31,
          1,
          0.375,
          1,
          1,
          1,
          1,
          1,
          1,
          1,
          1,
          1,
          0.31,
          1,
          1,
          0.91,
          1,
          1,
          1,
          1,
          1,
          1,
          1,
          1,
          1,
          1,
          1,
          1,
          1,
          1,
          0.32,
          1,
          1,
          1
         ]
        },
        {
         "mode": "lines",
         "name": "Best Value",
         "type": "scatter",
         "x": [
          0,
          1,
          2,
          3,
          4,
          5,
          6,
          7,
          8,
          9,
          10,
          11,
          12,
          13,
          14,
          15,
          16,
          17,
          18,
          19,
          20,
          21,
          22,
          23,
          24,
          25,
          26,
          27,
          28,
          29,
          30,
          31,
          32,
          33,
          34,
          35,
          36,
          37,
          38,
          39,
          40,
          41,
          42,
          43,
          44,
          45,
          46,
          47,
          48,
          49,
          50,
          51,
          52,
          53,
          54,
          55,
          56,
          57,
          58,
          59,
          60,
          61,
          62,
          63,
          64,
          65,
          66,
          67,
          68,
          69,
          70,
          71,
          72,
          73,
          74,
          75,
          76,
          77,
          78,
          79,
          80,
          81,
          82,
          83,
          84,
          85,
          86,
          87,
          88,
          89,
          90,
          91,
          92,
          93,
          94,
          95,
          96,
          97,
          98,
          99
         ],
         "y": [
          0.375,
          0.375,
          0.375,
          1,
          1,
          1,
          1,
          1,
          1,
          1,
          1,
          1,
          1,
          1,
          1,
          1,
          1,
          1,
          1,
          1,
          1,
          1,
          1,
          1,
          1,
          1,
          1,
          1,
          1,
          1,
          1,
          1,
          1,
          1,
          1,
          1,
          1,
          1,
          1,
          1,
          1,
          1,
          1,
          1,
          1,
          1,
          1,
          1,
          1,
          1,
          1,
          1,
          1,
          1,
          1,
          1,
          1,
          1,
          1,
          1,
          1,
          1,
          1,
          1,
          1,
          1,
          1,
          1,
          1,
          1,
          1,
          1,
          1,
          1,
          1,
          1,
          1,
          1,
          1,
          1,
          1,
          1,
          1,
          1,
          1,
          1,
          1,
          1,
          1,
          1,
          1,
          1,
          1,
          1,
          1,
          1,
          1,
          1,
          1,
          1
         ]
        },
        {
         "marker": {
          "color": "#cccccc"
         },
         "mode": "markers",
         "name": "Infeasible Trial",
         "showlegend": false,
         "type": "scatter",
         "x": [],
         "y": []
        }
       ],
       "layout": {
        "template": {
         "data": {
          "bar": [
           {
            "error_x": {
             "color": "#2a3f5f"
            },
            "error_y": {
             "color": "#2a3f5f"
            },
            "marker": {
             "line": {
              "color": "#E5ECF6",
              "width": 0.5
             },
             "pattern": {
              "fillmode": "overlay",
              "size": 10,
              "solidity": 0.2
             }
            },
            "type": "bar"
           }
          ],
          "barpolar": [
           {
            "marker": {
             "line": {
              "color": "#E5ECF6",
              "width": 0.5
             },
             "pattern": {
              "fillmode": "overlay",
              "size": 10,
              "solidity": 0.2
             }
            },
            "type": "barpolar"
           }
          ],
          "carpet": [
           {
            "aaxis": {
             "endlinecolor": "#2a3f5f",
             "gridcolor": "white",
             "linecolor": "white",
             "minorgridcolor": "white",
             "startlinecolor": "#2a3f5f"
            },
            "baxis": {
             "endlinecolor": "#2a3f5f",
             "gridcolor": "white",
             "linecolor": "white",
             "minorgridcolor": "white",
             "startlinecolor": "#2a3f5f"
            },
            "type": "carpet"
           }
          ],
          "choropleth": [
           {
            "colorbar": {
             "outlinewidth": 0,
             "ticks": ""
            },
            "type": "choropleth"
           }
          ],
          "contour": [
           {
            "colorbar": {
             "outlinewidth": 0,
             "ticks": ""
            },
            "colorscale": [
             [
              0,
              "#0d0887"
             ],
             [
              0.1111111111111111,
              "#46039f"
             ],
             [
              0.2222222222222222,
              "#7201a8"
             ],
             [
              0.3333333333333333,
              "#9c179e"
             ],
             [
              0.4444444444444444,
              "#bd3786"
             ],
             [
              0.5555555555555556,
              "#d8576b"
             ],
             [
              0.6666666666666666,
              "#ed7953"
             ],
             [
              0.7777777777777778,
              "#fb9f3a"
             ],
             [
              0.8888888888888888,
              "#fdca26"
             ],
             [
              1,
              "#f0f921"
             ]
            ],
            "type": "contour"
           }
          ],
          "contourcarpet": [
           {
            "colorbar": {
             "outlinewidth": 0,
             "ticks": ""
            },
            "type": "contourcarpet"
           }
          ],
          "heatmap": [
           {
            "colorbar": {
             "outlinewidth": 0,
             "ticks": ""
            },
            "colorscale": [
             [
              0,
              "#0d0887"
             ],
             [
              0.1111111111111111,
              "#46039f"
             ],
             [
              0.2222222222222222,
              "#7201a8"
             ],
             [
              0.3333333333333333,
              "#9c179e"
             ],
             [
              0.4444444444444444,
              "#bd3786"
             ],
             [
              0.5555555555555556,
              "#d8576b"
             ],
             [
              0.6666666666666666,
              "#ed7953"
             ],
             [
              0.7777777777777778,
              "#fb9f3a"
             ],
             [
              0.8888888888888888,
              "#fdca26"
             ],
             [
              1,
              "#f0f921"
             ]
            ],
            "type": "heatmap"
           }
          ],
          "heatmapgl": [
           {
            "colorbar": {
             "outlinewidth": 0,
             "ticks": ""
            },
            "colorscale": [
             [
              0,
              "#0d0887"
             ],
             [
              0.1111111111111111,
              "#46039f"
             ],
             [
              0.2222222222222222,
              "#7201a8"
             ],
             [
              0.3333333333333333,
              "#9c179e"
             ],
             [
              0.4444444444444444,
              "#bd3786"
             ],
             [
              0.5555555555555556,
              "#d8576b"
             ],
             [
              0.6666666666666666,
              "#ed7953"
             ],
             [
              0.7777777777777778,
              "#fb9f3a"
             ],
             [
              0.8888888888888888,
              "#fdca26"
             ],
             [
              1,
              "#f0f921"
             ]
            ],
            "type": "heatmapgl"
           }
          ],
          "histogram": [
           {
            "marker": {
             "pattern": {
              "fillmode": "overlay",
              "size": 10,
              "solidity": 0.2
             }
            },
            "type": "histogram"
           }
          ],
          "histogram2d": [
           {
            "colorbar": {
             "outlinewidth": 0,
             "ticks": ""
            },
            "colorscale": [
             [
              0,
              "#0d0887"
             ],
             [
              0.1111111111111111,
              "#46039f"
             ],
             [
              0.2222222222222222,
              "#7201a8"
             ],
             [
              0.3333333333333333,
              "#9c179e"
             ],
             [
              0.4444444444444444,
              "#bd3786"
             ],
             [
              0.5555555555555556,
              "#d8576b"
             ],
             [
              0.6666666666666666,
              "#ed7953"
             ],
             [
              0.7777777777777778,
              "#fb9f3a"
             ],
             [
              0.8888888888888888,
              "#fdca26"
             ],
             [
              1,
              "#f0f921"
             ]
            ],
            "type": "histogram2d"
           }
          ],
          "histogram2dcontour": [
           {
            "colorbar": {
             "outlinewidth": 0,
             "ticks": ""
            },
            "colorscale": [
             [
              0,
              "#0d0887"
             ],
             [
              0.1111111111111111,
              "#46039f"
             ],
             [
              0.2222222222222222,
              "#7201a8"
             ],
             [
              0.3333333333333333,
              "#9c179e"
             ],
             [
              0.4444444444444444,
              "#bd3786"
             ],
             [
              0.5555555555555556,
              "#d8576b"
             ],
             [
              0.6666666666666666,
              "#ed7953"
             ],
             [
              0.7777777777777778,
              "#fb9f3a"
             ],
             [
              0.8888888888888888,
              "#fdca26"
             ],
             [
              1,
              "#f0f921"
             ]
            ],
            "type": "histogram2dcontour"
           }
          ],
          "mesh3d": [
           {
            "colorbar": {
             "outlinewidth": 0,
             "ticks": ""
            },
            "type": "mesh3d"
           }
          ],
          "parcoords": [
           {
            "line": {
             "colorbar": {
              "outlinewidth": 0,
              "ticks": ""
             }
            },
            "type": "parcoords"
           }
          ],
          "pie": [
           {
            "automargin": true,
            "type": "pie"
           }
          ],
          "scatter": [
           {
            "fillpattern": {
             "fillmode": "overlay",
             "size": 10,
             "solidity": 0.2
            },
            "type": "scatter"
           }
          ],
          "scatter3d": [
           {
            "line": {
             "colorbar": {
              "outlinewidth": 0,
              "ticks": ""
             }
            },
            "marker": {
             "colorbar": {
              "outlinewidth": 0,
              "ticks": ""
             }
            },
            "type": "scatter3d"
           }
          ],
          "scattercarpet": [
           {
            "marker": {
             "colorbar": {
              "outlinewidth": 0,
              "ticks": ""
             }
            },
            "type": "scattercarpet"
           }
          ],
          "scattergeo": [
           {
            "marker": {
             "colorbar": {
              "outlinewidth": 0,
              "ticks": ""
             }
            },
            "type": "scattergeo"
           }
          ],
          "scattergl": [
           {
            "marker": {
             "colorbar": {
              "outlinewidth": 0,
              "ticks": ""
             }
            },
            "type": "scattergl"
           }
          ],
          "scattermapbox": [
           {
            "marker": {
             "colorbar": {
              "outlinewidth": 0,
              "ticks": ""
             }
            },
            "type": "scattermapbox"
           }
          ],
          "scatterpolar": [
           {
            "marker": {
             "colorbar": {
              "outlinewidth": 0,
              "ticks": ""
             }
            },
            "type": "scatterpolar"
           }
          ],
          "scatterpolargl": [
           {
            "marker": {
             "colorbar": {
              "outlinewidth": 0,
              "ticks": ""
             }
            },
            "type": "scatterpolargl"
           }
          ],
          "scatterternary": [
           {
            "marker": {
             "colorbar": {
              "outlinewidth": 0,
              "ticks": ""
             }
            },
            "type": "scatterternary"
           }
          ],
          "surface": [
           {
            "colorbar": {
             "outlinewidth": 0,
             "ticks": ""
            },
            "colorscale": [
             [
              0,
              "#0d0887"
             ],
             [
              0.1111111111111111,
              "#46039f"
             ],
             [
              0.2222222222222222,
              "#7201a8"
             ],
             [
              0.3333333333333333,
              "#9c179e"
             ],
             [
              0.4444444444444444,
              "#bd3786"
             ],
             [
              0.5555555555555556,
              "#d8576b"
             ],
             [
              0.6666666666666666,
              "#ed7953"
             ],
             [
              0.7777777777777778,
              "#fb9f3a"
             ],
             [
              0.8888888888888888,
              "#fdca26"
             ],
             [
              1,
              "#f0f921"
             ]
            ],
            "type": "surface"
           }
          ],
          "table": [
           {
            "cells": {
             "fill": {
              "color": "#EBF0F8"
             },
             "line": {
              "color": "white"
             }
            },
            "header": {
             "fill": {
              "color": "#C8D4E3"
             },
             "line": {
              "color": "white"
             }
            },
            "type": "table"
           }
          ]
         },
         "layout": {
          "annotationdefaults": {
           "arrowcolor": "#2a3f5f",
           "arrowhead": 0,
           "arrowwidth": 1
          },
          "autotypenumbers": "strict",
          "coloraxis": {
           "colorbar": {
            "outlinewidth": 0,
            "ticks": ""
           }
          },
          "colorscale": {
           "diverging": [
            [
             0,
             "#8e0152"
            ],
            [
             0.1,
             "#c51b7d"
            ],
            [
             0.2,
             "#de77ae"
            ],
            [
             0.3,
             "#f1b6da"
            ],
            [
             0.4,
             "#fde0ef"
            ],
            [
             0.5,
             "#f7f7f7"
            ],
            [
             0.6,
             "#e6f5d0"
            ],
            [
             0.7,
             "#b8e186"
            ],
            [
             0.8,
             "#7fbc41"
            ],
            [
             0.9,
             "#4d9221"
            ],
            [
             1,
             "#276419"
            ]
           ],
           "sequential": [
            [
             0,
             "#0d0887"
            ],
            [
             0.1111111111111111,
             "#46039f"
            ],
            [
             0.2222222222222222,
             "#7201a8"
            ],
            [
             0.3333333333333333,
             "#9c179e"
            ],
            [
             0.4444444444444444,
             "#bd3786"
            ],
            [
             0.5555555555555556,
             "#d8576b"
            ],
            [
             0.6666666666666666,
             "#ed7953"
            ],
            [
             0.7777777777777778,
             "#fb9f3a"
            ],
            [
             0.8888888888888888,
             "#fdca26"
            ],
            [
             1,
             "#f0f921"
            ]
           ],
           "sequentialminus": [
            [
             0,
             "#0d0887"
            ],
            [
             0.1111111111111111,
             "#46039f"
            ],
            [
             0.2222222222222222,
             "#7201a8"
            ],
            [
             0.3333333333333333,
             "#9c179e"
            ],
            [
             0.4444444444444444,
             "#bd3786"
            ],
            [
             0.5555555555555556,
             "#d8576b"
            ],
            [
             0.6666666666666666,
             "#ed7953"
            ],
            [
             0.7777777777777778,
             "#fb9f3a"
            ],
            [
             0.8888888888888888,
             "#fdca26"
            ],
            [
             1,
             "#f0f921"
            ]
           ]
          },
          "colorway": [
           "#636efa",
           "#EF553B",
           "#00cc96",
           "#ab63fa",
           "#FFA15A",
           "#19d3f3",
           "#FF6692",
           "#B6E880",
           "#FF97FF",
           "#FECB52"
          ],
          "font": {
           "color": "#2a3f5f"
          },
          "geo": {
           "bgcolor": "white",
           "lakecolor": "white",
           "landcolor": "#E5ECF6",
           "showlakes": true,
           "showland": true,
           "subunitcolor": "white"
          },
          "hoverlabel": {
           "align": "left"
          },
          "hovermode": "closest",
          "mapbox": {
           "style": "light"
          },
          "paper_bgcolor": "white",
          "plot_bgcolor": "#E5ECF6",
          "polar": {
           "angularaxis": {
            "gridcolor": "white",
            "linecolor": "white",
            "ticks": ""
           },
           "bgcolor": "#E5ECF6",
           "radialaxis": {
            "gridcolor": "white",
            "linecolor": "white",
            "ticks": ""
           }
          },
          "scene": {
           "xaxis": {
            "backgroundcolor": "#E5ECF6",
            "gridcolor": "white",
            "gridwidth": 2,
            "linecolor": "white",
            "showbackground": true,
            "ticks": "",
            "zerolinecolor": "white"
           },
           "yaxis": {
            "backgroundcolor": "#E5ECF6",
            "gridcolor": "white",
            "gridwidth": 2,
            "linecolor": "white",
            "showbackground": true,
            "ticks": "",
            "zerolinecolor": "white"
           },
           "zaxis": {
            "backgroundcolor": "#E5ECF6",
            "gridcolor": "white",
            "gridwidth": 2,
            "linecolor": "white",
            "showbackground": true,
            "ticks": "",
            "zerolinecolor": "white"
           }
          },
          "shapedefaults": {
           "line": {
            "color": "#2a3f5f"
           }
          },
          "ternary": {
           "aaxis": {
            "gridcolor": "white",
            "linecolor": "white",
            "ticks": ""
           },
           "baxis": {
            "gridcolor": "white",
            "linecolor": "white",
            "ticks": ""
           },
           "bgcolor": "#E5ECF6",
           "caxis": {
            "gridcolor": "white",
            "linecolor": "white",
            "ticks": ""
           }
          },
          "title": {
           "x": 0.05
          },
          "xaxis": {
           "automargin": true,
           "gridcolor": "white",
           "linecolor": "white",
           "ticks": "",
           "title": {
            "standoff": 15
           },
           "zerolinecolor": "white",
           "zerolinewidth": 2
          },
          "yaxis": {
           "automargin": true,
           "gridcolor": "white",
           "linecolor": "white",
           "ticks": "",
           "title": {
            "standoff": 15
           },
           "zerolinecolor": "white",
           "zerolinewidth": 2
          }
         }
        },
        "title": {
         "text": "Optimization History Plot"
        },
        "xaxis": {
         "title": {
          "text": "Trial"
         }
        },
        "yaxis": {
         "title": {
          "text": "Objective Value"
         }
        }
       }
      }
     },
     "metadata": {},
     "output_type": "display_data"
    }
   ],
   "source": [
    "print(studySVM.best_params)\n",
    "optuna.visualization.plot_optimization_history(studySVM)"
   ]
  },
  {
   "cell_type": "code",
   "execution_count": 84,
   "metadata": {},
   "outputs": [
    {
     "data": {
      "application/vnd.plotly.v1+json": {
       "config": {
        "plotlyServerURL": "https://plot.ly"
       },
       "data": [
        {
         "dimensions": [
          {
           "label": "Objective Value",
           "range": [
            0.31,
            1
           ],
           "values": [
            0.375,
            0.375,
            0.375,
            1,
            0.375,
            0.375,
            0.375,
            0.375,
            1,
            1,
            0.53,
            1,
            1,
            1,
            0.96,
            1,
            0.96,
            1,
            1,
            1,
            1,
            1,
            1,
            0.975,
            1,
            1,
            0.31,
            0.91,
            1,
            1,
            1,
            1,
            1,
            1,
            0.32,
            1,
            1,
            0.32,
            1,
            0.625,
            1,
            1,
            1,
            1,
            1,
            1,
            0.725,
            1,
            0.31,
            1,
            1,
            1,
            1,
            1,
            0.375,
            1,
            0.975,
            1,
            1,
            1,
            1,
            1,
            1,
            1,
            1,
            1,
            0.31,
            1,
            0.375,
            1,
            1,
            1,
            1,
            1,
            1,
            1,
            1,
            1,
            0.31,
            1,
            1,
            0.91,
            1,
            1,
            1,
            1,
            1,
            1,
            1,
            1,
            1,
            1,
            1,
            1,
            1,
            1,
            0.32,
            1,
            1,
            1
           ]
          },
          {
           "label": "Kernel",
           "range": [
            0,
            3
           ],
           "ticktext": [
            "linear",
            "sigmoid",
            "poly",
            "rbf"
           ],
           "tickvals": [
            0,
            1,
            2,
            3
           ],
           "values": [
            0,
            1,
            1,
            0,
            2,
            0,
            1,
            2,
            0,
            3,
            3,
            0,
            0,
            0,
            0,
            0,
            0,
            3,
            2,
            0,
            0,
            3,
            3,
            3,
            3,
            3,
            1,
            2,
            0,
            0,
            3,
            0,
            0,
            0,
            1,
            0,
            0,
            1,
            2,
            0,
            0,
            0,
            0,
            0,
            0,
            0,
            2,
            3,
            1,
            0,
            0,
            0,
            0,
            0,
            3,
            0,
            3,
            0,
            2,
            0,
            3,
            0,
            0,
            0,
            0,
            0,
            1,
            0,
            3,
            0,
            2,
            3,
            3,
            3,
            3,
            0,
            3,
            0,
            1,
            0,
            0,
            2,
            2,
            2,
            2,
            0,
            3,
            2,
            0,
            0,
            3,
            0,
            0,
            0,
            0,
            0,
            1,
            0,
            0,
            0
           ]
          },
          {
           "label": "svm_C",
           "range": [
            -9.478040246105726,
            4.998501081890542
           ],
           "ticktext": [
            "3.33e-10",
            "1e-09",
            "1e-08",
            "1e-07",
            "1e-06",
            "1e-05",
            "0.0001",
            "0.001",
            "0.01",
            "0.1",
            "1",
            "10",
            "100",
            "1e+03",
            "1e+04",
            "9.97e+04"
           ],
           "tickvals": [
            -9.478040246105726,
            -9,
            -8,
            -7,
            -6,
            -5,
            -4,
            -3,
            -2,
            -1,
            0,
            1,
            2,
            3,
            4,
            4.998501081890542
           ],
           "values": [
            -8.716862150853618,
            -5.924704034626705,
            -6.665177656710638,
            -1.5215577135822234,
            -6.45922244914047,
            -8.626991255016515,
            -9.478040246105726,
            -5.327012439681355,
            2.0929194347237274,
            2.467497148488601,
            -1.5090167291121177,
            1.593754497017132,
            4.218865369713055,
            -0.5920721021297853,
            -3.0062106414120797,
            0.20922743296439597,
            -3.032199226060283,
            3.8332493137421584,
            1.0280407968039982,
            2.3130354112470104,
            -1.5404047407444263,
            2.886892082649477,
            2.593079915995298,
            0.5299432560653159,
            3.9904757149623147,
            4.928142656545456,
            1.3079160843318178,
            -0.4477228999618988,
            1.9713909861912262,
            3.078854119247068,
            1.3065254821946573,
            2.0011522338965104,
            1.6674856062837429,
            3.255661791487908,
            0.45744340864903466,
            2.3948199316686125,
            4.919934530508468,
            1.1933220417637072,
            3.153723343594663,
            -4.153931741370543,
            -0.5731610868564017,
            1.9580835310459717,
            3.8976415740273587,
            4.326951094908932,
            3.331288345629661,
            0.11927493384032423,
            -1.728643373327464,
            2.3791729668837616,
            3.6050271254355306,
            4.316929050739058,
            0.8425374017066183,
            -0.2872410075007805,
            2.7980719860339467,
            -0.9490183545351598,
            -2.084286036052668,
            -1.0285902051594789,
            0.7828022904961811,
            -0.05438386428368841,
            1.6554764018277006,
            0.1557339057615254,
            2.8018916350667418,
            0.5482577021860369,
            1.5895644105372118,
            0.8959404683968724,
            -0.9298637215615658,
            2.4265590878950696,
            1.3228033518827236,
            0.183910841544073,
            -2.5479766985157353,
            2.1980979063750627,
            1.7766601850888006,
            3.8082387319241677,
            3.394981541846428,
            3.0179585111896463,
            2.7421487731124192,
            4.413700268799624,
            1.243130482428364,
            3.59376151674674,
            2.2521805666957295,
            4.030199019158714,
            0.4817833980634222,
            -0.45070996695024557,
            1.8580171297771937,
            2.5283672135490054,
            0.9020521788065898,
            2.932916401759054,
            3.2862227863382047,
            2.112595934517634,
            -0.05785200006885229,
            4.648134626318815,
            4.998501081890542,
            2.65707161602636,
            1.4976016321914327,
            1.945818587437514,
            1.202283589535904,
            3.7082910058810636,
            0.9733357108847248,
            1.5854454060415297,
            3.130118319572145,
            2.369183736496494
           ]
          }
         ],
         "labelangle": 30,
         "labelside": "bottom",
         "line": {
          "color": [
           0.375,
           0.375,
           0.375,
           1,
           0.375,
           0.375,
           0.375,
           0.375,
           1,
           1,
           0.53,
           1,
           1,
           1,
           0.96,
           1,
           0.96,
           1,
           1,
           1,
           1,
           1,
           1,
           0.975,
           1,
           1,
           0.31,
           0.91,
           1,
           1,
           1,
           1,
           1,
           1,
           0.32,
           1,
           1,
           0.32,
           1,
           0.625,
           1,
           1,
           1,
           1,
           1,
           1,
           0.725,
           1,
           0.31,
           1,
           1,
           1,
           1,
           1,
           0.375,
           1,
           0.975,
           1,
           1,
           1,
           1,
           1,
           1,
           1,
           1,
           1,
           0.31,
           1,
           0.375,
           1,
           1,
           1,
           1,
           1,
           1,
           1,
           1,
           1,
           0.31,
           1,
           1,
           0.91,
           1,
           1,
           1,
           1,
           1,
           1,
           1,
           1,
           1,
           1,
           1,
           1,
           1,
           1,
           0.32,
           1,
           1,
           1
          ],
          "colorbar": {
           "title": {
            "text": "Objective Value"
           }
          },
          "colorscale": [
           [
            0,
            "rgb(247,251,255)"
           ],
           [
            0.125,
            "rgb(222,235,247)"
           ],
           [
            0.25,
            "rgb(198,219,239)"
           ],
           [
            0.375,
            "rgb(158,202,225)"
           ],
           [
            0.5,
            "rgb(107,174,214)"
           ],
           [
            0.625,
            "rgb(66,146,198)"
           ],
           [
            0.75,
            "rgb(33,113,181)"
           ],
           [
            0.875,
            "rgb(8,81,156)"
           ],
           [
            1,
            "rgb(8,48,107)"
           ]
          ],
          "reversescale": false,
          "showscale": true
         },
         "type": "parcoords"
        }
       ],
       "layout": {
        "template": {
         "data": {
          "bar": [
           {
            "error_x": {
             "color": "#2a3f5f"
            },
            "error_y": {
             "color": "#2a3f5f"
            },
            "marker": {
             "line": {
              "color": "#E5ECF6",
              "width": 0.5
             },
             "pattern": {
              "fillmode": "overlay",
              "size": 10,
              "solidity": 0.2
             }
            },
            "type": "bar"
           }
          ],
          "barpolar": [
           {
            "marker": {
             "line": {
              "color": "#E5ECF6",
              "width": 0.5
             },
             "pattern": {
              "fillmode": "overlay",
              "size": 10,
              "solidity": 0.2
             }
            },
            "type": "barpolar"
           }
          ],
          "carpet": [
           {
            "aaxis": {
             "endlinecolor": "#2a3f5f",
             "gridcolor": "white",
             "linecolor": "white",
             "minorgridcolor": "white",
             "startlinecolor": "#2a3f5f"
            },
            "baxis": {
             "endlinecolor": "#2a3f5f",
             "gridcolor": "white",
             "linecolor": "white",
             "minorgridcolor": "white",
             "startlinecolor": "#2a3f5f"
            },
            "type": "carpet"
           }
          ],
          "choropleth": [
           {
            "colorbar": {
             "outlinewidth": 0,
             "ticks": ""
            },
            "type": "choropleth"
           }
          ],
          "contour": [
           {
            "colorbar": {
             "outlinewidth": 0,
             "ticks": ""
            },
            "colorscale": [
             [
              0,
              "#0d0887"
             ],
             [
              0.1111111111111111,
              "#46039f"
             ],
             [
              0.2222222222222222,
              "#7201a8"
             ],
             [
              0.3333333333333333,
              "#9c179e"
             ],
             [
              0.4444444444444444,
              "#bd3786"
             ],
             [
              0.5555555555555556,
              "#d8576b"
             ],
             [
              0.6666666666666666,
              "#ed7953"
             ],
             [
              0.7777777777777778,
              "#fb9f3a"
             ],
             [
              0.8888888888888888,
              "#fdca26"
             ],
             [
              1,
              "#f0f921"
             ]
            ],
            "type": "contour"
           }
          ],
          "contourcarpet": [
           {
            "colorbar": {
             "outlinewidth": 0,
             "ticks": ""
            },
            "type": "contourcarpet"
           }
          ],
          "heatmap": [
           {
            "colorbar": {
             "outlinewidth": 0,
             "ticks": ""
            },
            "colorscale": [
             [
              0,
              "#0d0887"
             ],
             [
              0.1111111111111111,
              "#46039f"
             ],
             [
              0.2222222222222222,
              "#7201a8"
             ],
             [
              0.3333333333333333,
              "#9c179e"
             ],
             [
              0.4444444444444444,
              "#bd3786"
             ],
             [
              0.5555555555555556,
              "#d8576b"
             ],
             [
              0.6666666666666666,
              "#ed7953"
             ],
             [
              0.7777777777777778,
              "#fb9f3a"
             ],
             [
              0.8888888888888888,
              "#fdca26"
             ],
             [
              1,
              "#f0f921"
             ]
            ],
            "type": "heatmap"
           }
          ],
          "heatmapgl": [
           {
            "colorbar": {
             "outlinewidth": 0,
             "ticks": ""
            },
            "colorscale": [
             [
              0,
              "#0d0887"
             ],
             [
              0.1111111111111111,
              "#46039f"
             ],
             [
              0.2222222222222222,
              "#7201a8"
             ],
             [
              0.3333333333333333,
              "#9c179e"
             ],
             [
              0.4444444444444444,
              "#bd3786"
             ],
             [
              0.5555555555555556,
              "#d8576b"
             ],
             [
              0.6666666666666666,
              "#ed7953"
             ],
             [
              0.7777777777777778,
              "#fb9f3a"
             ],
             [
              0.8888888888888888,
              "#fdca26"
             ],
             [
              1,
              "#f0f921"
             ]
            ],
            "type": "heatmapgl"
           }
          ],
          "histogram": [
           {
            "marker": {
             "pattern": {
              "fillmode": "overlay",
              "size": 10,
              "solidity": 0.2
             }
            },
            "type": "histogram"
           }
          ],
          "histogram2d": [
           {
            "colorbar": {
             "outlinewidth": 0,
             "ticks": ""
            },
            "colorscale": [
             [
              0,
              "#0d0887"
             ],
             [
              0.1111111111111111,
              "#46039f"
             ],
             [
              0.2222222222222222,
              "#7201a8"
             ],
             [
              0.3333333333333333,
              "#9c179e"
             ],
             [
              0.4444444444444444,
              "#bd3786"
             ],
             [
              0.5555555555555556,
              "#d8576b"
             ],
             [
              0.6666666666666666,
              "#ed7953"
             ],
             [
              0.7777777777777778,
              "#fb9f3a"
             ],
             [
              0.8888888888888888,
              "#fdca26"
             ],
             [
              1,
              "#f0f921"
             ]
            ],
            "type": "histogram2d"
           }
          ],
          "histogram2dcontour": [
           {
            "colorbar": {
             "outlinewidth": 0,
             "ticks": ""
            },
            "colorscale": [
             [
              0,
              "#0d0887"
             ],
             [
              0.1111111111111111,
              "#46039f"
             ],
             [
              0.2222222222222222,
              "#7201a8"
             ],
             [
              0.3333333333333333,
              "#9c179e"
             ],
             [
              0.4444444444444444,
              "#bd3786"
             ],
             [
              0.5555555555555556,
              "#d8576b"
             ],
             [
              0.6666666666666666,
              "#ed7953"
             ],
             [
              0.7777777777777778,
              "#fb9f3a"
             ],
             [
              0.8888888888888888,
              "#fdca26"
             ],
             [
              1,
              "#f0f921"
             ]
            ],
            "type": "histogram2dcontour"
           }
          ],
          "mesh3d": [
           {
            "colorbar": {
             "outlinewidth": 0,
             "ticks": ""
            },
            "type": "mesh3d"
           }
          ],
          "parcoords": [
           {
            "line": {
             "colorbar": {
              "outlinewidth": 0,
              "ticks": ""
             }
            },
            "type": "parcoords"
           }
          ],
          "pie": [
           {
            "automargin": true,
            "type": "pie"
           }
          ],
          "scatter": [
           {
            "fillpattern": {
             "fillmode": "overlay",
             "size": 10,
             "solidity": 0.2
            },
            "type": "scatter"
           }
          ],
          "scatter3d": [
           {
            "line": {
             "colorbar": {
              "outlinewidth": 0,
              "ticks": ""
             }
            },
            "marker": {
             "colorbar": {
              "outlinewidth": 0,
              "ticks": ""
             }
            },
            "type": "scatter3d"
           }
          ],
          "scattercarpet": [
           {
            "marker": {
             "colorbar": {
              "outlinewidth": 0,
              "ticks": ""
             }
            },
            "type": "scattercarpet"
           }
          ],
          "scattergeo": [
           {
            "marker": {
             "colorbar": {
              "outlinewidth": 0,
              "ticks": ""
             }
            },
            "type": "scattergeo"
           }
          ],
          "scattergl": [
           {
            "marker": {
             "colorbar": {
              "outlinewidth": 0,
              "ticks": ""
             }
            },
            "type": "scattergl"
           }
          ],
          "scattermapbox": [
           {
            "marker": {
             "colorbar": {
              "outlinewidth": 0,
              "ticks": ""
             }
            },
            "type": "scattermapbox"
           }
          ],
          "scatterpolar": [
           {
            "marker": {
             "colorbar": {
              "outlinewidth": 0,
              "ticks": ""
             }
            },
            "type": "scatterpolar"
           }
          ],
          "scatterpolargl": [
           {
            "marker": {
             "colorbar": {
              "outlinewidth": 0,
              "ticks": ""
             }
            },
            "type": "scatterpolargl"
           }
          ],
          "scatterternary": [
           {
            "marker": {
             "colorbar": {
              "outlinewidth": 0,
              "ticks": ""
             }
            },
            "type": "scatterternary"
           }
          ],
          "surface": [
           {
            "colorbar": {
             "outlinewidth": 0,
             "ticks": ""
            },
            "colorscale": [
             [
              0,
              "#0d0887"
             ],
             [
              0.1111111111111111,
              "#46039f"
             ],
             [
              0.2222222222222222,
              "#7201a8"
             ],
             [
              0.3333333333333333,
              "#9c179e"
             ],
             [
              0.4444444444444444,
              "#bd3786"
             ],
             [
              0.5555555555555556,
              "#d8576b"
             ],
             [
              0.6666666666666666,
              "#ed7953"
             ],
             [
              0.7777777777777778,
              "#fb9f3a"
             ],
             [
              0.8888888888888888,
              "#fdca26"
             ],
             [
              1,
              "#f0f921"
             ]
            ],
            "type": "surface"
           }
          ],
          "table": [
           {
            "cells": {
             "fill": {
              "color": "#EBF0F8"
             },
             "line": {
              "color": "white"
             }
            },
            "header": {
             "fill": {
              "color": "#C8D4E3"
             },
             "line": {
              "color": "white"
             }
            },
            "type": "table"
           }
          ]
         },
         "layout": {
          "annotationdefaults": {
           "arrowcolor": "#2a3f5f",
           "arrowhead": 0,
           "arrowwidth": 1
          },
          "autotypenumbers": "strict",
          "coloraxis": {
           "colorbar": {
            "outlinewidth": 0,
            "ticks": ""
           }
          },
          "colorscale": {
           "diverging": [
            [
             0,
             "#8e0152"
            ],
            [
             0.1,
             "#c51b7d"
            ],
            [
             0.2,
             "#de77ae"
            ],
            [
             0.3,
             "#f1b6da"
            ],
            [
             0.4,
             "#fde0ef"
            ],
            [
             0.5,
             "#f7f7f7"
            ],
            [
             0.6,
             "#e6f5d0"
            ],
            [
             0.7,
             "#b8e186"
            ],
            [
             0.8,
             "#7fbc41"
            ],
            [
             0.9,
             "#4d9221"
            ],
            [
             1,
             "#276419"
            ]
           ],
           "sequential": [
            [
             0,
             "#0d0887"
            ],
            [
             0.1111111111111111,
             "#46039f"
            ],
            [
             0.2222222222222222,
             "#7201a8"
            ],
            [
             0.3333333333333333,
             "#9c179e"
            ],
            [
             0.4444444444444444,
             "#bd3786"
            ],
            [
             0.5555555555555556,
             "#d8576b"
            ],
            [
             0.6666666666666666,
             "#ed7953"
            ],
            [
             0.7777777777777778,
             "#fb9f3a"
            ],
            [
             0.8888888888888888,
             "#fdca26"
            ],
            [
             1,
             "#f0f921"
            ]
           ],
           "sequentialminus": [
            [
             0,
             "#0d0887"
            ],
            [
             0.1111111111111111,
             "#46039f"
            ],
            [
             0.2222222222222222,
             "#7201a8"
            ],
            [
             0.3333333333333333,
             "#9c179e"
            ],
            [
             0.4444444444444444,
             "#bd3786"
            ],
            [
             0.5555555555555556,
             "#d8576b"
            ],
            [
             0.6666666666666666,
             "#ed7953"
            ],
            [
             0.7777777777777778,
             "#fb9f3a"
            ],
            [
             0.8888888888888888,
             "#fdca26"
            ],
            [
             1,
             "#f0f921"
            ]
           ]
          },
          "colorway": [
           "#636efa",
           "#EF553B",
           "#00cc96",
           "#ab63fa",
           "#FFA15A",
           "#19d3f3",
           "#FF6692",
           "#B6E880",
           "#FF97FF",
           "#FECB52"
          ],
          "font": {
           "color": "#2a3f5f"
          },
          "geo": {
           "bgcolor": "white",
           "lakecolor": "white",
           "landcolor": "#E5ECF6",
           "showlakes": true,
           "showland": true,
           "subunitcolor": "white"
          },
          "hoverlabel": {
           "align": "left"
          },
          "hovermode": "closest",
          "mapbox": {
           "style": "light"
          },
          "paper_bgcolor": "white",
          "plot_bgcolor": "#E5ECF6",
          "polar": {
           "angularaxis": {
            "gridcolor": "white",
            "linecolor": "white",
            "ticks": ""
           },
           "bgcolor": "#E5ECF6",
           "radialaxis": {
            "gridcolor": "white",
            "linecolor": "white",
            "ticks": ""
           }
          },
          "scene": {
           "xaxis": {
            "backgroundcolor": "#E5ECF6",
            "gridcolor": "white",
            "gridwidth": 2,
            "linecolor": "white",
            "showbackground": true,
            "ticks": "",
            "zerolinecolor": "white"
           },
           "yaxis": {
            "backgroundcolor": "#E5ECF6",
            "gridcolor": "white",
            "gridwidth": 2,
            "linecolor": "white",
            "showbackground": true,
            "ticks": "",
            "zerolinecolor": "white"
           },
           "zaxis": {
            "backgroundcolor": "#E5ECF6",
            "gridcolor": "white",
            "gridwidth": 2,
            "linecolor": "white",
            "showbackground": true,
            "ticks": "",
            "zerolinecolor": "white"
           }
          },
          "shapedefaults": {
           "line": {
            "color": "#2a3f5f"
           }
          },
          "ternary": {
           "aaxis": {
            "gridcolor": "white",
            "linecolor": "white",
            "ticks": ""
           },
           "baxis": {
            "gridcolor": "white",
            "linecolor": "white",
            "ticks": ""
           },
           "bgcolor": "#E5ECF6",
           "caxis": {
            "gridcolor": "white",
            "linecolor": "white",
            "ticks": ""
           }
          },
          "title": {
           "x": 0.05
          },
          "xaxis": {
           "automargin": true,
           "gridcolor": "white",
           "linecolor": "white",
           "ticks": "",
           "title": {
            "standoff": 15
           },
           "zerolinecolor": "white",
           "zerolinewidth": 2
          },
          "yaxis": {
           "automargin": true,
           "gridcolor": "white",
           "linecolor": "white",
           "ticks": "",
           "title": {
            "standoff": 15
           },
           "zerolinecolor": "white",
           "zerolinewidth": 2
          }
         }
        },
        "title": {
         "text": "Parallel Coordinate Plot"
        }
       }
      }
     },
     "metadata": {},
     "output_type": "display_data"
    }
   ],
   "source": [
    "optuna.visualization.plot_parallel_coordinate(studySVM)"
   ]
  },
  {
   "cell_type": "code",
   "execution_count": 85,
   "metadata": {},
   "outputs": [
    {
     "data": {
      "application/vnd.plotly.v1+json": {
       "config": {
        "plotlyServerURL": "https://plot.ly"
       },
       "data": [
        {
         "cliponaxis": false,
         "hovertemplate": [
          "svm_C (FloatDistribution): 0.00997991923563358<extra></extra>",
          "Kernel (CategoricalDistribution): 0.9900200807643664<extra></extra>"
         ],
         "name": "Objective Value",
         "orientation": "h",
         "text": [
          "<0.01",
          "0.99"
         ],
         "textposition": "outside",
         "type": "bar",
         "x": [
          0.00997991923563358,
          0.9900200807643664
         ],
         "y": [
          "svm_C",
          "Kernel"
         ]
        }
       ],
       "layout": {
        "template": {
         "data": {
          "bar": [
           {
            "error_x": {
             "color": "#2a3f5f"
            },
            "error_y": {
             "color": "#2a3f5f"
            },
            "marker": {
             "line": {
              "color": "#E5ECF6",
              "width": 0.5
             },
             "pattern": {
              "fillmode": "overlay",
              "size": 10,
              "solidity": 0.2
             }
            },
            "type": "bar"
           }
          ],
          "barpolar": [
           {
            "marker": {
             "line": {
              "color": "#E5ECF6",
              "width": 0.5
             },
             "pattern": {
              "fillmode": "overlay",
              "size": 10,
              "solidity": 0.2
             }
            },
            "type": "barpolar"
           }
          ],
          "carpet": [
           {
            "aaxis": {
             "endlinecolor": "#2a3f5f",
             "gridcolor": "white",
             "linecolor": "white",
             "minorgridcolor": "white",
             "startlinecolor": "#2a3f5f"
            },
            "baxis": {
             "endlinecolor": "#2a3f5f",
             "gridcolor": "white",
             "linecolor": "white",
             "minorgridcolor": "white",
             "startlinecolor": "#2a3f5f"
            },
            "type": "carpet"
           }
          ],
          "choropleth": [
           {
            "colorbar": {
             "outlinewidth": 0,
             "ticks": ""
            },
            "type": "choropleth"
           }
          ],
          "contour": [
           {
            "colorbar": {
             "outlinewidth": 0,
             "ticks": ""
            },
            "colorscale": [
             [
              0,
              "#0d0887"
             ],
             [
              0.1111111111111111,
              "#46039f"
             ],
             [
              0.2222222222222222,
              "#7201a8"
             ],
             [
              0.3333333333333333,
              "#9c179e"
             ],
             [
              0.4444444444444444,
              "#bd3786"
             ],
             [
              0.5555555555555556,
              "#d8576b"
             ],
             [
              0.6666666666666666,
              "#ed7953"
             ],
             [
              0.7777777777777778,
              "#fb9f3a"
             ],
             [
              0.8888888888888888,
              "#fdca26"
             ],
             [
              1,
              "#f0f921"
             ]
            ],
            "type": "contour"
           }
          ],
          "contourcarpet": [
           {
            "colorbar": {
             "outlinewidth": 0,
             "ticks": ""
            },
            "type": "contourcarpet"
           }
          ],
          "heatmap": [
           {
            "colorbar": {
             "outlinewidth": 0,
             "ticks": ""
            },
            "colorscale": [
             [
              0,
              "#0d0887"
             ],
             [
              0.1111111111111111,
              "#46039f"
             ],
             [
              0.2222222222222222,
              "#7201a8"
             ],
             [
              0.3333333333333333,
              "#9c179e"
             ],
             [
              0.4444444444444444,
              "#bd3786"
             ],
             [
              0.5555555555555556,
              "#d8576b"
             ],
             [
              0.6666666666666666,
              "#ed7953"
             ],
             [
              0.7777777777777778,
              "#fb9f3a"
             ],
             [
              0.8888888888888888,
              "#fdca26"
             ],
             [
              1,
              "#f0f921"
             ]
            ],
            "type": "heatmap"
           }
          ],
          "heatmapgl": [
           {
            "colorbar": {
             "outlinewidth": 0,
             "ticks": ""
            },
            "colorscale": [
             [
              0,
              "#0d0887"
             ],
             [
              0.1111111111111111,
              "#46039f"
             ],
             [
              0.2222222222222222,
              "#7201a8"
             ],
             [
              0.3333333333333333,
              "#9c179e"
             ],
             [
              0.4444444444444444,
              "#bd3786"
             ],
             [
              0.5555555555555556,
              "#d8576b"
             ],
             [
              0.6666666666666666,
              "#ed7953"
             ],
             [
              0.7777777777777778,
              "#fb9f3a"
             ],
             [
              0.8888888888888888,
              "#fdca26"
             ],
             [
              1,
              "#f0f921"
             ]
            ],
            "type": "heatmapgl"
           }
          ],
          "histogram": [
           {
            "marker": {
             "pattern": {
              "fillmode": "overlay",
              "size": 10,
              "solidity": 0.2
             }
            },
            "type": "histogram"
           }
          ],
          "histogram2d": [
           {
            "colorbar": {
             "outlinewidth": 0,
             "ticks": ""
            },
            "colorscale": [
             [
              0,
              "#0d0887"
             ],
             [
              0.1111111111111111,
              "#46039f"
             ],
             [
              0.2222222222222222,
              "#7201a8"
             ],
             [
              0.3333333333333333,
              "#9c179e"
             ],
             [
              0.4444444444444444,
              "#bd3786"
             ],
             [
              0.5555555555555556,
              "#d8576b"
             ],
             [
              0.6666666666666666,
              "#ed7953"
             ],
             [
              0.7777777777777778,
              "#fb9f3a"
             ],
             [
              0.8888888888888888,
              "#fdca26"
             ],
             [
              1,
              "#f0f921"
             ]
            ],
            "type": "histogram2d"
           }
          ],
          "histogram2dcontour": [
           {
            "colorbar": {
             "outlinewidth": 0,
             "ticks": ""
            },
            "colorscale": [
             [
              0,
              "#0d0887"
             ],
             [
              0.1111111111111111,
              "#46039f"
             ],
             [
              0.2222222222222222,
              "#7201a8"
             ],
             [
              0.3333333333333333,
              "#9c179e"
             ],
             [
              0.4444444444444444,
              "#bd3786"
             ],
             [
              0.5555555555555556,
              "#d8576b"
             ],
             [
              0.6666666666666666,
              "#ed7953"
             ],
             [
              0.7777777777777778,
              "#fb9f3a"
             ],
             [
              0.8888888888888888,
              "#fdca26"
             ],
             [
              1,
              "#f0f921"
             ]
            ],
            "type": "histogram2dcontour"
           }
          ],
          "mesh3d": [
           {
            "colorbar": {
             "outlinewidth": 0,
             "ticks": ""
            },
            "type": "mesh3d"
           }
          ],
          "parcoords": [
           {
            "line": {
             "colorbar": {
              "outlinewidth": 0,
              "ticks": ""
             }
            },
            "type": "parcoords"
           }
          ],
          "pie": [
           {
            "automargin": true,
            "type": "pie"
           }
          ],
          "scatter": [
           {
            "fillpattern": {
             "fillmode": "overlay",
             "size": 10,
             "solidity": 0.2
            },
            "type": "scatter"
           }
          ],
          "scatter3d": [
           {
            "line": {
             "colorbar": {
              "outlinewidth": 0,
              "ticks": ""
             }
            },
            "marker": {
             "colorbar": {
              "outlinewidth": 0,
              "ticks": ""
             }
            },
            "type": "scatter3d"
           }
          ],
          "scattercarpet": [
           {
            "marker": {
             "colorbar": {
              "outlinewidth": 0,
              "ticks": ""
             }
            },
            "type": "scattercarpet"
           }
          ],
          "scattergeo": [
           {
            "marker": {
             "colorbar": {
              "outlinewidth": 0,
              "ticks": ""
             }
            },
            "type": "scattergeo"
           }
          ],
          "scattergl": [
           {
            "marker": {
             "colorbar": {
              "outlinewidth": 0,
              "ticks": ""
             }
            },
            "type": "scattergl"
           }
          ],
          "scattermapbox": [
           {
            "marker": {
             "colorbar": {
              "outlinewidth": 0,
              "ticks": ""
             }
            },
            "type": "scattermapbox"
           }
          ],
          "scatterpolar": [
           {
            "marker": {
             "colorbar": {
              "outlinewidth": 0,
              "ticks": ""
             }
            },
            "type": "scatterpolar"
           }
          ],
          "scatterpolargl": [
           {
            "marker": {
             "colorbar": {
              "outlinewidth": 0,
              "ticks": ""
             }
            },
            "type": "scatterpolargl"
           }
          ],
          "scatterternary": [
           {
            "marker": {
             "colorbar": {
              "outlinewidth": 0,
              "ticks": ""
             }
            },
            "type": "scatterternary"
           }
          ],
          "surface": [
           {
            "colorbar": {
             "outlinewidth": 0,
             "ticks": ""
            },
            "colorscale": [
             [
              0,
              "#0d0887"
             ],
             [
              0.1111111111111111,
              "#46039f"
             ],
             [
              0.2222222222222222,
              "#7201a8"
             ],
             [
              0.3333333333333333,
              "#9c179e"
             ],
             [
              0.4444444444444444,
              "#bd3786"
             ],
             [
              0.5555555555555556,
              "#d8576b"
             ],
             [
              0.6666666666666666,
              "#ed7953"
             ],
             [
              0.7777777777777778,
              "#fb9f3a"
             ],
             [
              0.8888888888888888,
              "#fdca26"
             ],
             [
              1,
              "#f0f921"
             ]
            ],
            "type": "surface"
           }
          ],
          "table": [
           {
            "cells": {
             "fill": {
              "color": "#EBF0F8"
             },
             "line": {
              "color": "white"
             }
            },
            "header": {
             "fill": {
              "color": "#C8D4E3"
             },
             "line": {
              "color": "white"
             }
            },
            "type": "table"
           }
          ]
         },
         "layout": {
          "annotationdefaults": {
           "arrowcolor": "#2a3f5f",
           "arrowhead": 0,
           "arrowwidth": 1
          },
          "autotypenumbers": "strict",
          "coloraxis": {
           "colorbar": {
            "outlinewidth": 0,
            "ticks": ""
           }
          },
          "colorscale": {
           "diverging": [
            [
             0,
             "#8e0152"
            ],
            [
             0.1,
             "#c51b7d"
            ],
            [
             0.2,
             "#de77ae"
            ],
            [
             0.3,
             "#f1b6da"
            ],
            [
             0.4,
             "#fde0ef"
            ],
            [
             0.5,
             "#f7f7f7"
            ],
            [
             0.6,
             "#e6f5d0"
            ],
            [
             0.7,
             "#b8e186"
            ],
            [
             0.8,
             "#7fbc41"
            ],
            [
             0.9,
             "#4d9221"
            ],
            [
             1,
             "#276419"
            ]
           ],
           "sequential": [
            [
             0,
             "#0d0887"
            ],
            [
             0.1111111111111111,
             "#46039f"
            ],
            [
             0.2222222222222222,
             "#7201a8"
            ],
            [
             0.3333333333333333,
             "#9c179e"
            ],
            [
             0.4444444444444444,
             "#bd3786"
            ],
            [
             0.5555555555555556,
             "#d8576b"
            ],
            [
             0.6666666666666666,
             "#ed7953"
            ],
            [
             0.7777777777777778,
             "#fb9f3a"
            ],
            [
             0.8888888888888888,
             "#fdca26"
            ],
            [
             1,
             "#f0f921"
            ]
           ],
           "sequentialminus": [
            [
             0,
             "#0d0887"
            ],
            [
             0.1111111111111111,
             "#46039f"
            ],
            [
             0.2222222222222222,
             "#7201a8"
            ],
            [
             0.3333333333333333,
             "#9c179e"
            ],
            [
             0.4444444444444444,
             "#bd3786"
            ],
            [
             0.5555555555555556,
             "#d8576b"
            ],
            [
             0.6666666666666666,
             "#ed7953"
            ],
            [
             0.7777777777777778,
             "#fb9f3a"
            ],
            [
             0.8888888888888888,
             "#fdca26"
            ],
            [
             1,
             "#f0f921"
            ]
           ]
          },
          "colorway": [
           "#636efa",
           "#EF553B",
           "#00cc96",
           "#ab63fa",
           "#FFA15A",
           "#19d3f3",
           "#FF6692",
           "#B6E880",
           "#FF97FF",
           "#FECB52"
          ],
          "font": {
           "color": "#2a3f5f"
          },
          "geo": {
           "bgcolor": "white",
           "lakecolor": "white",
           "landcolor": "#E5ECF6",
           "showlakes": true,
           "showland": true,
           "subunitcolor": "white"
          },
          "hoverlabel": {
           "align": "left"
          },
          "hovermode": "closest",
          "mapbox": {
           "style": "light"
          },
          "paper_bgcolor": "white",
          "plot_bgcolor": "#E5ECF6",
          "polar": {
           "angularaxis": {
            "gridcolor": "white",
            "linecolor": "white",
            "ticks": ""
           },
           "bgcolor": "#E5ECF6",
           "radialaxis": {
            "gridcolor": "white",
            "linecolor": "white",
            "ticks": ""
           }
          },
          "scene": {
           "xaxis": {
            "backgroundcolor": "#E5ECF6",
            "gridcolor": "white",
            "gridwidth": 2,
            "linecolor": "white",
            "showbackground": true,
            "ticks": "",
            "zerolinecolor": "white"
           },
           "yaxis": {
            "backgroundcolor": "#E5ECF6",
            "gridcolor": "white",
            "gridwidth": 2,
            "linecolor": "white",
            "showbackground": true,
            "ticks": "",
            "zerolinecolor": "white"
           },
           "zaxis": {
            "backgroundcolor": "#E5ECF6",
            "gridcolor": "white",
            "gridwidth": 2,
            "linecolor": "white",
            "showbackground": true,
            "ticks": "",
            "zerolinecolor": "white"
           }
          },
          "shapedefaults": {
           "line": {
            "color": "#2a3f5f"
           }
          },
          "ternary": {
           "aaxis": {
            "gridcolor": "white",
            "linecolor": "white",
            "ticks": ""
           },
           "baxis": {
            "gridcolor": "white",
            "linecolor": "white",
            "ticks": ""
           },
           "bgcolor": "#E5ECF6",
           "caxis": {
            "gridcolor": "white",
            "linecolor": "white",
            "ticks": ""
           }
          },
          "title": {
           "x": 0.05
          },
          "xaxis": {
           "automargin": true,
           "gridcolor": "white",
           "linecolor": "white",
           "ticks": "",
           "title": {
            "standoff": 15
           },
           "zerolinecolor": "white",
           "zerolinewidth": 2
          },
          "yaxis": {
           "automargin": true,
           "gridcolor": "white",
           "linecolor": "white",
           "ticks": "",
           "title": {
            "standoff": 15
           },
           "zerolinecolor": "white",
           "zerolinewidth": 2
          }
         }
        },
        "title": {
         "text": "Hyperparameter Importances"
        },
        "xaxis": {
         "title": {
          "text": "Hyperparameter Importance"
         }
        },
        "yaxis": {
         "title": {
          "text": "Hyperparameter"
         }
        }
       }
      }
     },
     "metadata": {},
     "output_type": "display_data"
    }
   ],
   "source": [
    "optuna.visualization.plot_param_importances(studySVM)"
   ]
  },
  {
   "cell_type": "markdown",
   "metadata": {},
   "source": [
    "Validación"
   ]
  },
  {
   "cell_type": "code",
   "execution_count": 86,
   "metadata": {},
   "outputs": [
    {
     "name": "stdout",
     "output_type": "stream",
     "text": [
      "              precision    recall  f1-score   support\n",
      "\n",
      "         Low       1.00      1.00      1.00        63\n",
      "      Medium       1.00      1.00      1.00        72\n",
      "        High       1.00      1.00      1.00        65\n",
      "\n",
      "    accuracy                           1.00       200\n",
      "   macro avg       1.00      1.00      1.00       200\n",
      "weighted avg       1.00      1.00      1.00       200\n",
      "\n"
     ]
    },
    {
     "data": {
      "text/plain": [
       "<sklearn.metrics._plot.confusion_matrix.ConfusionMatrixDisplay at 0x2949065a170>"
      ]
     },
     "execution_count": 86,
     "metadata": {},
     "output_type": "execute_result"
    },
    {
     "data": {
      "image/png": "[encoded data removed]",
      "text/plain": [
       "<Figure size 640x480 with 2 Axes>"
      ]
     },
     "metadata": {},
     "output_type": "display_data"
    }
   ],
   "source": [
    "CBest=studySVM.best_params['svm_C']\n",
    "krn=studySVM.best_params['Kernel']\n",
    "\n",
    "mvs=svm.SVC(C=CBest,kernel=krn)\n",
    "mvs.fit(X_train,y_train)\n",
    "\n",
    "#prediccion\n",
    "y_pred = mvs.predict(X_val)\n",
    "\n",
    "#metricas\n",
    "print(metrics.classification_report(y_val,y_pred,target_names=['Low','Medium','High']))\n",
    "\n",
    "cm=metrics.confusion_matrix(y_val,y_pred)\n",
    "disp=metrics.ConfusionMatrixDisplay(cm,display_labels=['Low','Medium','High'])\n",
    "disp.plot()"
   ]
  },
  {
   "cell_type": "markdown",
   "metadata": {},
   "source": [
    "Ahora probamos con un arbol de decisión"
   ]
  },
  {
   "cell_type": "code",
   "execution_count": 87,
   "metadata": {},
   "outputs": [
    {
     "name": "stderr",
     "output_type": "stream",
     "text": [
      "[I 2023-11-24 19:37:31,364] A new study created in memory with name: no-name-b121e64a-08fa-4f25-b242-5bc4e828983f\n",
      "[I 2023-11-24 19:37:31,409] Trial 0 finished with value: 0.755 and parameters: {'Criterion': 'log_loss', 'Max_depth': 1, 'estimators': 45}. Best is trial 0 with value: 0.755.\n",
      "[I 2023-11-24 19:37:31,483] Trial 1 finished with value: 1.0 and parameters: {'Criterion': 'log_loss', 'Max_depth': 4, 'estimators': 74}. Best is trial 1 with value: 1.0.\n",
      "[I 2023-11-24 19:37:31,623] Trial 2 finished with value: 1.0 and parameters: {'Criterion': 'log_loss', 'Max_depth': 13, 'estimators': 141}. Best is trial 1 with value: 1.0.\n",
      "[I 2023-11-24 19:37:31,669] Trial 3 finished with value: 1.0 and parameters: {'Criterion': 'gini', 'Max_depth': 8, 'estimators': 46}. Best is trial 1 with value: 1.0.\n",
      "[I 2023-11-24 19:37:31,708] Trial 4 finished with value: 0.95 and parameters: {'Criterion': 'entropy', 'Max_depth': 2, 'estimators': 39}. Best is trial 1 with value: 1.0.\n",
      "[I 2023-11-24 19:37:31,829] Trial 5 finished with value: 1.0 and parameters: {'Criterion': 'gini', 'Max_depth': 11, 'estimators': 126}. Best is trial 1 with value: 1.0.\n",
      "[I 2023-11-24 19:37:31,863] Trial 6 finished with value: 1.0 and parameters: {'Criterion': 'log_loss', 'Max_depth': 13, 'estimators': 30}. Best is trial 1 with value: 1.0.\n",
      "[I 2023-11-24 19:37:31,914] Trial 7 finished with value: 1.0 and parameters: {'Criterion': 'entropy', 'Max_depth': 6, 'estimators': 51}. Best is trial 1 with value: 1.0.\n",
      "[I 2023-11-24 19:37:31,977] Trial 8 finished with value: 1.0 and parameters: {'Criterion': 'gini', 'Max_depth': 8, 'estimators': 63}. Best is trial 1 with value: 1.0.\n",
      "[I 2023-11-24 19:37:32,077] Trial 9 finished with value: 0.995 and parameters: {'Criterion': 'log_loss', 'Max_depth': 3, 'estimators': 108}. Best is trial 1 with value: 1.0.\n",
      "[I 2023-11-24 19:37:32,094] Trial 10 finished with value: 0.975 and parameters: {'Criterion': 'log_loss', 'Max_depth': 4, 'estimators': 5}. Best is trial 1 with value: 1.0.\n",
      "[I 2023-11-24 19:37:32,191] Trial 11 finished with value: 1.0 and parameters: {'Criterion': 'log_loss', 'Max_depth': 15, 'estimators': 90}. Best is trial 1 with value: 1.0.\n",
      "[I 2023-11-24 19:37:32,341] Trial 12 finished with value: 1.0 and parameters: {'Criterion': 'log_loss', 'Max_depth': 11, 'estimators': 146}. Best is trial 1 with value: 1.0.\n",
      "[I 2023-11-24 19:37:32,431] Trial 13 finished with value: 1.0 and parameters: {'Criterion': 'log_loss', 'Max_depth': 5, 'estimators': 84}. Best is trial 1 with value: 1.0.\n",
      "[I 2023-11-24 19:37:32,584] Trial 14 finished with value: 1.0 and parameters: {'Criterion': 'log_loss', 'Max_depth': 10, 'estimators': 150}. Best is trial 1 with value: 1.0.\n",
      "[I 2023-11-24 19:37:32,696] Trial 15 finished with value: 1.0 and parameters: {'Criterion': 'entropy', 'Max_depth': 15, 'estimators': 106}. Best is trial 1 with value: 1.0.\n",
      "[I 2023-11-24 19:37:32,777] Trial 16 finished with value: 1.0 and parameters: {'Criterion': 'log_loss', 'Max_depth': 6, 'estimators': 72}. Best is trial 1 with value: 1.0.\n",
      "[I 2023-11-24 19:37:32,909] Trial 17 finished with value: 1.0 and parameters: {'Criterion': 'log_loss', 'Max_depth': 13, 'estimators': 125}. Best is trial 1 with value: 1.0.\n",
      "[I 2023-11-24 19:37:33,012] Trial 18 finished with value: 1.0 and parameters: {'Criterion': 'gini', 'Max_depth': 9, 'estimators': 98}. Best is trial 1 with value: 1.0.\n",
      "[I 2023-11-24 19:37:33,144] Trial 19 finished with value: 1.0 and parameters: {'Criterion': 'entropy', 'Max_depth': 7, 'estimators': 129}. Best is trial 1 with value: 1.0.\n",
      "[I 2023-11-24 19:37:33,175] Trial 20 finished with value: 1.0 and parameters: {'Criterion': 'log_loss', 'Max_depth': 13, 'estimators': 18}. Best is trial 1 with value: 1.0.\n",
      "[I 2023-11-24 19:37:33,243] Trial 21 finished with value: 1.0 and parameters: {'Criterion': 'gini', 'Max_depth': 8, 'estimators': 59}. Best is trial 1 with value: 1.0.\n",
      "[I 2023-11-24 19:37:33,321] Trial 22 finished with value: 1.0 and parameters: {'Criterion': 'gini', 'Max_depth': 4, 'estimators': 72}. Best is trial 1 with value: 1.0.\n",
      "[I 2023-11-24 19:37:33,360] Trial 23 finished with value: 1.0 and parameters: {'Criterion': 'gini', 'Max_depth': 10, 'estimators': 27}. Best is trial 1 with value: 1.0.\n",
      "[I 2023-11-24 19:37:33,448] Trial 24 finished with value: 1.0 and parameters: {'Criterion': 'gini', 'Max_depth': 6, 'estimators': 80}. Best is trial 1 with value: 1.0.\n",
      "[I 2023-11-24 19:37:33,515] Trial 25 finished with value: 1.0 and parameters: {'Criterion': 'gini', 'Max_depth': 12, 'estimators': 58}. Best is trial 1 with value: 1.0.\n",
      "[I 2023-11-24 19:37:33,618] Trial 26 finished with value: 1.0 and parameters: {'Criterion': 'log_loss', 'Max_depth': 8, 'estimators': 95}. Best is trial 1 with value: 1.0.\n",
      "[I 2023-11-24 19:37:33,733] Trial 27 finished with value: 0.995 and parameters: {'Criterion': 'log_loss', 'Max_depth': 3, 'estimators': 114}. Best is trial 1 with value: 1.0.\n",
      "[I 2023-11-24 19:37:33,778] Trial 28 finished with value: 0.745 and parameters: {'Criterion': 'entropy', 'Max_depth': 1, 'estimators': 37}. Best is trial 1 with value: 1.0.\n",
      "[I 2023-11-24 19:37:33,831] Trial 29 finished with value: 0.745 and parameters: {'Criterion': 'gini', 'Max_depth': 1, 'estimators': 49}. Best is trial 1 with value: 1.0.\n",
      "[I 2023-11-24 19:37:33,906] Trial 30 finished with value: 1.0 and parameters: {'Criterion': 'log_loss', 'Max_depth': 14, 'estimators': 66}. Best is trial 1 with value: 1.0.\n",
      "[I 2023-11-24 19:37:34,047] Trial 31 finished with value: 1.0 and parameters: {'Criterion': 'gini', 'Max_depth': 11, 'estimators': 136}. Best is trial 1 with value: 1.0.\n",
      "[I 2023-11-24 19:37:34,190] Trial 32 finished with value: 1.0 and parameters: {'Criterion': 'gini', 'Max_depth': 11, 'estimators': 138}. Best is trial 1 with value: 1.0.\n",
      "[I 2023-11-24 19:37:34,320] Trial 33 finished with value: 1.0 and parameters: {'Criterion': 'gini', 'Max_depth': 12, 'estimators': 124}. Best is trial 1 with value: 1.0.\n",
      "[I 2023-11-24 19:37:34,375] Trial 34 finished with value: 1.0 and parameters: {'Criterion': 'gini', 'Max_depth': 9, 'estimators': 43}. Best is trial 1 with value: 1.0.\n",
      "[I 2023-11-24 19:37:34,498] Trial 35 finished with value: 1.0 and parameters: {'Criterion': 'entropy', 'Max_depth': 14, 'estimators': 115}. Best is trial 1 with value: 1.0.\n",
      "[I 2023-11-24 19:37:34,647] Trial 36 finished with value: 1.0 and parameters: {'Criterion': 'gini', 'Max_depth': 12, 'estimators': 141}. Best is trial 1 with value: 1.0.\n",
      "[I 2023-11-24 19:37:34,689] Trial 37 finished with value: 1.0 and parameters: {'Criterion': 'log_loss', 'Max_depth': 7, 'estimators': 29}. Best is trial 1 with value: 1.0.\n",
      "[I 2023-11-24 19:37:34,708] Trial 38 finished with value: 1.0 and parameters: {'Criterion': 'gini', 'Max_depth': 10, 'estimators': 4}. Best is trial 1 with value: 1.0.\n",
      "[I 2023-11-24 19:37:34,768] Trial 39 finished with value: 0.865 and parameters: {'Criterion': 'log_loss', 'Max_depth': 2, 'estimators': 53}. Best is trial 1 with value: 1.0.\n",
      "[I 2023-11-24 19:37:34,799] Trial 40 finished with value: 1.0 and parameters: {'Criterion': 'log_loss', 'Max_depth': 5, 'estimators': 15}. Best is trial 1 with value: 1.0.\n",
      "[I 2023-11-24 19:37:34,853] Trial 41 finished with value: 1.0 and parameters: {'Criterion': 'log_loss', 'Max_depth': 13, 'estimators': 33}. Best is trial 1 with value: 1.0.\n",
      "[I 2023-11-24 19:37:34,885] Trial 42 finished with value: 1.0 and parameters: {'Criterion': 'log_loss', 'Max_depth': 14, 'estimators': 17}. Best is trial 1 with value: 1.0.\n",
      "[I 2023-11-24 19:37:34,943] Trial 43 finished with value: 1.0 and parameters: {'Criterion': 'log_loss', 'Max_depth': 15, 'estimators': 43}. Best is trial 1 with value: 1.0.\n",
      "[I 2023-11-24 19:37:35,039] Trial 44 finished with value: 1.0 and parameters: {'Criterion': 'log_loss', 'Max_depth': 13, 'estimators': 86}. Best is trial 1 with value: 1.0.\n",
      "[I 2023-11-24 19:37:35,154] Trial 45 finished with value: 1.0 and parameters: {'Criterion': 'entropy', 'Max_depth': 12, 'estimators': 104}. Best is trial 1 with value: 1.0.\n",
      "[I 2023-11-24 19:37:35,191] Trial 46 finished with value: 1.0 and parameters: {'Criterion': 'log_loss', 'Max_depth': 9, 'estimators': 23}. Best is trial 1 with value: 1.0.\n",
      "[I 2023-11-24 19:37:35,345] Trial 47 finished with value: 1.0 and parameters: {'Criterion': 'log_loss', 'Max_depth': 11, 'estimators': 147}. Best is trial 1 with value: 1.0.\n",
      "[I 2023-11-24 19:37:35,425] Trial 48 finished with value: 1.0 and parameters: {'Criterion': 'log_loss', 'Max_depth': 7, 'estimators': 69}. Best is trial 1 with value: 1.0.\n",
      "[I 2023-11-24 19:37:35,564] Trial 49 finished with value: 1.0 and parameters: {'Criterion': 'gini', 'Max_depth': 14, 'estimators': 132}. Best is trial 1 with value: 1.0.\n",
      "[I 2023-11-24 19:37:35,651] Trial 50 finished with value: 1.0 and parameters: {'Criterion': 'entropy', 'Max_depth': 10, 'estimators': 77}. Best is trial 1 with value: 1.0.\n",
      "[I 2023-11-24 19:37:35,718] Trial 51 finished with value: 1.0 and parameters: {'Criterion': 'entropy', 'Max_depth': 5, 'estimators': 54}. Best is trial 1 with value: 1.0.\n",
      "[I 2023-11-24 19:37:35,770] Trial 52 finished with value: 1.0 and parameters: {'Criterion': 'entropy', 'Max_depth': 6, 'estimators': 38}. Best is trial 1 with value: 1.0.\n",
      "[I 2023-11-24 19:37:35,843] Trial 53 finished with value: 1.0 and parameters: {'Criterion': 'entropy', 'Max_depth': 4, 'estimators': 62}. Best is trial 1 with value: 1.0.\n",
      "[I 2023-11-24 19:37:35,903] Trial 54 finished with value: 0.995 and parameters: {'Criterion': 'entropy', 'Max_depth': 3, 'estimators': 49}. Best is trial 1 with value: 1.0.\n",
      "[I 2023-11-24 19:37:36,004] Trial 55 finished with value: 1.0 and parameters: {'Criterion': 'log_loss', 'Max_depth': 6, 'estimators': 92}. Best is trial 1 with value: 1.0.\n",
      "[I 2023-11-24 19:37:36,062] Trial 56 finished with value: 1.0 and parameters: {'Criterion': 'gini', 'Max_depth': 7, 'estimators': 46}. Best is trial 1 with value: 1.0.\n",
      "[I 2023-11-24 19:37:36,186] Trial 57 finished with value: 1.0 and parameters: {'Criterion': 'log_loss', 'Max_depth': 4, 'estimators': 118}. Best is trial 1 with value: 1.0.\n",
      "[I 2023-11-24 19:37:36,212] Trial 58 finished with value: 1.0 and parameters: {'Criterion': 'gini', 'Max_depth': 5, 'estimators': 11}. Best is trial 1 with value: 1.0.\n",
      "[I 2023-11-24 19:37:36,322] Trial 59 finished with value: 1.0 and parameters: {'Criterion': 'log_loss', 'Max_depth': 9, 'estimators': 101}. Best is trial 1 with value: 1.0.\n",
      "[I 2023-11-24 19:37:36,368] Trial 60 finished with value: 1.0 and parameters: {'Criterion': 'entropy', 'Max_depth': 8, 'estimators': 31}. Best is trial 1 with value: 1.0.\n",
      "[I 2023-11-24 19:37:36,444] Trial 61 finished with value: 1.0 and parameters: {'Criterion': 'gini', 'Max_depth': 8, 'estimators': 66}. Best is trial 1 with value: 1.0.\n",
      "[I 2023-11-24 19:37:36,517] Trial 62 finished with value: 1.0 and parameters: {'Criterion': 'gini', 'Max_depth': 8, 'estimators': 60}. Best is trial 1 with value: 1.0.\n",
      "[I 2023-11-24 19:37:36,609] Trial 63 finished with value: 1.0 and parameters: {'Criterion': 'gini', 'Max_depth': 15, 'estimators': 82}. Best is trial 1 with value: 1.0.\n",
      "[I 2023-11-24 19:37:36,695] Trial 64 finished with value: 1.0 and parameters: {'Criterion': 'gini', 'Max_depth': 6, 'estimators': 76}. Best is trial 1 with value: 1.0.\n",
      "[I 2023-11-24 19:37:36,841] Trial 65 finished with value: 1.0 and parameters: {'Criterion': 'gini', 'Max_depth': 13, 'estimators': 142}. Best is trial 1 with value: 1.0.\n",
      "[I 2023-11-24 19:37:36,907] Trial 66 finished with value: 1.0 and parameters: {'Criterion': 'gini', 'Max_depth': 10, 'estimators': 54}. Best is trial 1 with value: 1.0.\n",
      "[I 2023-11-24 19:37:36,989] Trial 67 finished with value: 1.0 and parameters: {'Criterion': 'log_loss', 'Max_depth': 9, 'estimators': 71}. Best is trial 1 with value: 1.0.\n",
      "[I 2023-11-24 19:37:37,037] Trial 68 finished with value: 1.0 and parameters: {'Criterion': 'gini', 'Max_depth': 12, 'estimators': 35}. Best is trial 1 with value: 1.0.\n",
      "[I 2023-11-24 19:37:37,076] Trial 69 finished with value: 1.0 and parameters: {'Criterion': 'log_loss', 'Max_depth': 7, 'estimators': 23}. Best is trial 1 with value: 1.0.\n",
      "[I 2023-11-24 19:37:37,149] Trial 70 finished with value: 1.0 and parameters: {'Criterion': 'entropy', 'Max_depth': 3, 'estimators': 64}. Best is trial 1 with value: 1.0.\n",
      "[I 2023-11-24 19:37:37,305] Trial 71 finished with value: 1.0 and parameters: {'Criterion': 'log_loss', 'Max_depth': 15, 'estimators': 150}. Best is trial 1 with value: 1.0.\n",
      "[I 2023-11-24 19:37:37,429] Trial 72 finished with value: 0.89 and parameters: {'Criterion': 'log_loss', 'Max_depth': 2, 'estimators': 127}. Best is trial 1 with value: 1.0.\n",
      "[I 2023-11-24 19:37:37,558] Trial 73 finished with value: 1.0 and parameters: {'Criterion': 'log_loss', 'Max_depth': 14, 'estimators': 121}. Best is trial 1 with value: 1.0.\n",
      "[I 2023-11-24 19:37:37,676] Trial 74 finished with value: 1.0 and parameters: {'Criterion': 'log_loss', 'Max_depth': 11, 'estimators': 108}. Best is trial 1 with value: 1.0.\n",
      "[I 2023-11-24 19:37:37,775] Trial 75 finished with value: 1.0 and parameters: {'Criterion': 'log_loss', 'Max_depth': 15, 'estimators': 88}. Best is trial 1 with value: 1.0.\n",
      "[I 2023-11-24 19:37:37,843] Trial 76 finished with value: 1.0 and parameters: {'Criterion': 'gini', 'Max_depth': 14, 'estimators': 57}. Best is trial 1 with value: 1.0.\n",
      "[I 2023-11-24 19:37:37,906] Trial 77 finished with value: 1.0 and parameters: {'Criterion': 'log_loss', 'Max_depth': 13, 'estimators': 49}. Best is trial 1 with value: 1.0.\n",
      "[I 2023-11-24 19:37:38,044] Trial 78 finished with value: 1.0 and parameters: {'Criterion': 'gini', 'Max_depth': 13, 'estimators': 132}. Best is trial 1 with value: 1.0.\n",
      "[I 2023-11-24 19:37:38,098] Trial 79 finished with value: 1.0 and parameters: {'Criterion': 'log_loss', 'Max_depth': 12, 'estimators': 40}. Best is trial 1 with value: 1.0.\n",
      "[I 2023-11-24 19:37:38,137] Trial 80 finished with value: 1.0 and parameters: {'Criterion': 'gini', 'Max_depth': 5, 'estimators': 25}. Best is trial 1 with value: 1.0.\n",
      "[I 2023-11-24 19:37:38,284] Trial 81 finished with value: 1.0 and parameters: {'Criterion': 'log_loss', 'Max_depth': 11, 'estimators': 140}. Best is trial 1 with value: 1.0.\n",
      "[I 2023-11-24 19:37:38,440] Trial 82 finished with value: 1.0 and parameters: {'Criterion': 'log_loss', 'Max_depth': 9, 'estimators': 149}. Best is trial 1 with value: 1.0.\n",
      "[I 2023-11-24 19:37:38,593] Trial 83 finished with value: 1.0 and parameters: {'Criterion': 'log_loss', 'Max_depth': 10, 'estimators': 144}. Best is trial 1 with value: 1.0.\n",
      "[I 2023-11-24 19:37:38,745] Trial 84 finished with value: 1.0 and parameters: {'Criterion': 'log_loss', 'Max_depth': 8, 'estimators': 145}. Best is trial 1 with value: 1.0.\n",
      "[I 2023-11-24 19:37:38,886] Trial 85 finished with value: 1.0 and parameters: {'Criterion': 'entropy', 'Max_depth': 12, 'estimators': 134}. Best is trial 1 with value: 1.0.\n",
      "[I 2023-11-24 19:37:39,009] Trial 86 finished with value: 1.0 and parameters: {'Criterion': 'log_loss', 'Max_depth': 11, 'estimators': 112}. Best is trial 1 with value: 1.0.\n",
      "[I 2023-11-24 19:37:39,155] Trial 87 finished with value: 1.0 and parameters: {'Criterion': 'log_loss', 'Max_depth': 14, 'estimators': 138}. Best is trial 1 with value: 1.0.\n",
      "[I 2023-11-24 19:37:39,213] Trial 88 finished with value: 1.0 and parameters: {'Criterion': 'gini', 'Max_depth': 6, 'estimators': 44}. Best is trial 1 with value: 1.0.\n",
      "[I 2023-11-24 19:37:39,295] Trial 89 finished with value: 1.0 and parameters: {'Criterion': 'entropy', 'Max_depth': 7, 'estimators': 70}. Best is trial 1 with value: 1.0.\n",
      "[I 2023-11-24 19:37:39,398] Trial 90 finished with value: 1.0 and parameters: {'Criterion': 'log_loss', 'Max_depth': 4, 'estimators': 95}. Best is trial 1 with value: 1.0.\n",
      "[I 2023-11-24 19:37:39,488] Trial 91 finished with value: 1.0 and parameters: {'Criterion': 'log_loss', 'Max_depth': 5, 'estimators': 79}. Best is trial 1 with value: 1.0.\n",
      "[I 2023-11-24 19:37:39,582] Trial 92 finished with value: 1.0 and parameters: {'Criterion': 'log_loss', 'Max_depth': 4, 'estimators': 84}. Best is trial 1 with value: 1.0.\n",
      "[I 2023-11-24 19:37:39,667] Trial 93 finished with value: 1.0 and parameters: {'Criterion': 'log_loss', 'Max_depth': 9, 'estimators': 74}. Best is trial 1 with value: 1.0.\n",
      "[I 2023-11-24 19:37:39,735] Trial 94 finished with value: 0.995 and parameters: {'Criterion': 'log_loss', 'Max_depth': 3, 'estimators': 57}. Best is trial 1 with value: 1.0.\n",
      "[I 2023-11-24 19:37:39,834] Trial 95 finished with value: 1.0 and parameters: {'Criterion': 'gini', 'Max_depth': 5, 'estimators': 90}. Best is trial 1 with value: 1.0.\n",
      "[I 2023-11-24 19:37:39,898] Trial 96 finished with value: 1.0 and parameters: {'Criterion': 'log_loss', 'Max_depth': 6, 'estimators': 51}. Best is trial 1 with value: 1.0.\n",
      "[I 2023-11-24 19:37:39,975] Trial 97 finished with value: 1.0 and parameters: {'Criterion': 'entropy', 'Max_depth': 8, 'estimators': 64}. Best is trial 1 with value: 1.0.\n",
      "[I 2023-11-24 19:37:40,065] Trial 98 finished with value: 1.0 and parameters: {'Criterion': 'gini', 'Max_depth': 10, 'estimators': 80}. Best is trial 1 with value: 1.0.\n",
      "[I 2023-11-24 19:37:40,201] Trial 99 finished with value: 1.0 and parameters: {'Criterion': 'log_loss', 'Max_depth': 4, 'estimators': 129}. Best is trial 1 with value: 1.0.\n"
     ]
    }
   ],
   "source": [
    "def objectiveRF(trial):\n",
    "    crit=trial.suggest_categorical('Criterion',['gini', 'entropy', 'log_loss'])\n",
    "    depth=trial.suggest_int('Max_depth',1,15)\n",
    "    n=trial.suggest_int('estimators',1,150)\n",
    "\n",
    "    #entrenamiento\n",
    "    RF=ensemble.RandomForestClassifier(n_estimators=n,criterion=crit,max_depth=depth)\n",
    "    RF.fit(X_train,y_train)\n",
    " \n",
    "    #prediccion\n",
    "    y_pred = RF.predict(X_test)\n",
    "\n",
    "    #metrica\n",
    "    recall=metrics.recall_score(y_test,y_pred,average='micro')\n",
    "    return recall\n",
    "\n",
    "studyRF = optuna.create_study(direction='maximize')\n",
    "studyRF.optimize(objectiveRF, n_trials=100)"
   ]
  },
  {
   "cell_type": "markdown",
   "metadata": {},
   "source": [
    "Mejores parametros"
   ]
  },
  {
   "cell_type": "code",
   "execution_count": 88,
   "metadata": {},
   "outputs": [
    {
     "name": "stdout",
     "output_type": "stream",
     "text": [
      "{'Criterion': 'log_loss', 'Max_depth': 4, 'estimators': 74}\n"
     ]
    },
    {
     "data": {
      "application/vnd.plotly.v1+json": {
       "config": {
        "plotlyServerURL": "https://plot.ly"
       },
       "data": [
        {
         "mode": "markers",
         "name": "Objective Value",
         "type": "scatter",
         "x": [
          0,
          1,
          2,
          3,
          4,
          5,
          6,
          7,
          8,
          9,
          10,
          11,
          12,
          13,
          14,
          15,
          16,
          17,
          18,
          19,
          20,
          21,
          22,
          23,
          24,
          25,
          26,
          27,
          28,
          29,
          30,
          31,
          32,
          33,
          34,
          35,
          36,
          37,
          38,
          39,
          40,
          41,
          42,
          43,
          44,
          45,
          46,
          47,
          48,
          49,
          50,
          51,
          52,
          53,
          54,
          55,
          56,
          57,
          58,
          59,
          60,
          61,
          62,
          63,
          64,
          65,
          66,
          67,
          68,
          69,
          70,
          71,
          72,
          73,
          74,
          75,
          76,
          77,
          78,
          79,
          80,
          81,
          82,
          83,
          84,
          85,
          86,
          87,
          88,
          89,
          90,
          91,
          92,
          93,
          94,
          95,
          96,
          97,
          98,
          99
         ],
         "y": [
          0.755,
          1,
          1,
          1,
          0.95,
          1,
          1,
          1,
          1,
          0.995,
          0.975,
          1,
          1,
          1,
          1,
          1,
          1,
          1,
          1,
          1,
          1,
          1,
          1,
          1,
          1,
          1,
          1,
          0.995,
          0.745,
          0.745,
          1,
          1,
          1,
          1,
          1,
          1,
          1,
          1,
          1,
          0.865,
          1,
          1,
          1,
          1,
          1,
          1,
          1,
          1,
          1,
          1,
          1,
          1,
          1,
          1,
          0.995,
          1,
          1,
          1,
          1,
          1,
          1,
          1,
          1,
          1,
          1,
          1,
          1,
          1,
          1,
          1,
          1,
          1,
          0.89,
          1,
          1,
          1,
          1,
          1,
          1,
          1,
          1,
          1,
          1,
          1,
          1,
          1,
          1,
          1,
          1,
          1,
          1,
          1,
          1,
          1,
          0.995,
          1,
          1,
          1,
          1,
          1
         ]
        },
        {
         "mode": "lines",
         "name": "Best Value",
         "type": "scatter",
         "x": [
          0,
          1,
          2,
          3,
          4,
          5,
          6,
          7,
          8,
          9,
          10,
          11,
          12,
          13,
          14,
          15,
          16,
          17,
          18,
          19,
          20,
          21,
          22,
          23,
          24,
          25,
          26,
          27,
          28,
          29,
          30,
          31,
          32,
          33,
          34,
          35,
          36,
          37,
          38,
          39,
          40,
          41,
          42,
          43,
          44,
          45,
          46,
          47,
          48,
          49,
          50,
          51,
          52,
          53,
          54,
          55,
          56,
          57,
          58,
          59,
          60,
          61,
          62,
          63,
          64,
          65,
          66,
          67,
          68,
          69,
          70,
          71,
          72,
          73,
          74,
          75,
          76,
          77,
          78,
          79,
          80,
          81,
          82,
          83,
          84,
          85,
          86,
          87,
          88,
          89,
          90,
          91,
          92,
          93,
          94,
          95,
          96,
          97,
          98,
          99
         ],
         "y": [
          0.755,
          1,
          1,
          1,
          1,
          1,
          1,
          1,
          1,
          1,
          1,
          1,
          1,
          1,
          1,
          1,
          1,
          1,
          1,
          1,
          1,
          1,
          1,
          1,
          1,
          1,
          1,
          1,
          1,
          1,
          1,
          1,
          1,
          1,
          1,
          1,
          1,
          1,
          1,
          1,
          1,
          1,
          1,
          1,
          1,
          1,
          1,
          1,
          1,
          1,
          1,
          1,
          1,
          1,
          1,
          1,
          1,
          1,
          1,
          1,
          1,
          1,
          1,
          1,
          1,
          1,
          1,
          1,
          1,
          1,
          1,
          1,
          1,
          1,
          1,
          1,
          1,
          1,
          1,
          1,
          1,
          1,
          1,
          1,
          1,
          1,
          1,
          1,
          1,
          1,
          1,
          1,
          1,
          1,
          1,
          1,
          1,
          1,
          1,
          1
         ]
        },
        {
         "marker": {
          "color": "#cccccc"
         },
         "mode": "markers",
         "name": "Infeasible Trial",
         "showlegend": false,
         "type": "scatter",
         "x": [],
         "y": []
        }
       ],
       "layout": {
        "template": {
         "data": {
          "bar": [
           {
            "error_x": {
             "color": "#2a3f5f"
            },
            "error_y": {
             "color": "#2a3f5f"
            },
            "marker": {
             "line": {
              "color": "#E5ECF6",
              "width": 0.5
             },
             "pattern": {
              "fillmode": "overlay",
              "size": 10,
              "solidity": 0.2
             }
            },
            "type": "bar"
           }
          ],
          "barpolar": [
           {
            "marker": {
             "line": {
              "color": "#E5ECF6",
              "width": 0.5
             },
             "pattern": {
              "fillmode": "overlay",
              "size": 10,
              "solidity": 0.2
             }
            },
            "type": "barpolar"
           }
          ],
          "carpet": [
           {
            "aaxis": {
             "endlinecolor": "#2a3f5f",
             "gridcolor": "white",
             "linecolor": "white",
             "minorgridcolor": "white",
             "startlinecolor": "#2a3f5f"
            },
            "baxis": {
             "endlinecolor": "#2a3f5f",
             "gridcolor": "white",
             "linecolor": "white",
             "minorgridcolor": "white",
             "startlinecolor": "#2a3f5f"
            },
            "type": "carpet"
           }
          ],
          "choropleth": [
           {
            "colorbar": {
             "outlinewidth": 0,
             "ticks": ""
            },
            "type": "choropleth"
           }
          ],
          "contour": [
           {
            "colorbar": {
             "outlinewidth": 0,
             "ticks": ""
            },
            "colorscale": [
             [
              0,
              "#0d0887"
             ],
             [
              0.1111111111111111,
              "#46039f"
             ],
             [
              0.2222222222222222,
              "#7201a8"
             ],
             [
              0.3333333333333333,
              "#9c179e"
             ],
             [
              0.4444444444444444,
              "#bd3786"
             ],
             [
              0.5555555555555556,
              "#d8576b"
             ],
             [
              0.6666666666666666,
              "#ed7953"
             ],
             [
              0.7777777777777778,
              "#fb9f3a"
             ],
             [
              0.8888888888888888,
              "#fdca26"
             ],
             [
              1,
              "#f0f921"
             ]
            ],
            "type": "contour"
           }
          ],
          "contourcarpet": [
           {
            "colorbar": {
             "outlinewidth": 0,
             "ticks": ""
            },
            "type": "contourcarpet"
           }
          ],
          "heatmap": [
           {
            "colorbar": {
             "outlinewidth": 0,
             "ticks": ""
            },
            "colorscale": [
             [
              0,
              "#0d0887"
             ],
             [
              0.1111111111111111,
              "#46039f"
             ],
             [
              0.2222222222222222,
              "#7201a8"
             ],
             [
              0.3333333333333333,
              "#9c179e"
             ],
             [
              0.4444444444444444,
              "#bd3786"
             ],
             [
              0.5555555555555556,
              "#d8576b"
             ],
             [
              0.6666666666666666,
              "#ed7953"
             ],
             [
              0.7777777777777778,
              "#fb9f3a"
             ],
             [
              0.8888888888888888,
              "#fdca26"
             ],
             [
              1,
              "#f0f921"
             ]
            ],
            "type": "heatmap"
           }
          ],
          "heatmapgl": [
           {
            "colorbar": {
             "outlinewidth": 0,
             "ticks": ""
            },
            "colorscale": [
             [
              0,
              "#0d0887"
             ],
             [
              0.1111111111111111,
              "#46039f"
             ],
             [
              0.2222222222222222,
              "#7201a8"
             ],
             [
              0.3333333333333333,
              "#9c179e"
             ],
             [
              0.4444444444444444,
              "#bd3786"
             ],
             [
              0.5555555555555556,
              "#d8576b"
             ],
             [
              0.6666666666666666,
              "#ed7953"
             ],
             [
              0.7777777777777778,
              "#fb9f3a"
             ],
             [
              0.8888888888888888,
              "#fdca26"
             ],
             [
              1,
              "#f0f921"
             ]
            ],
            "type": "heatmapgl"
           }
          ],
          "histogram": [
           {
            "marker": {
             "pattern": {
              "fillmode": "overlay",
              "size": 10,
              "solidity": 0.2
             }
            },
            "type": "histogram"
           }
          ],
          "histogram2d": [
           {
            "colorbar": {
             "outlinewidth": 0,
             "ticks": ""
            },
            "colorscale": [
             [
              0,
              "#0d0887"
             ],
             [
              0.1111111111111111,
              "#46039f"
             ],
             [
              0.2222222222222222,
              "#7201a8"
             ],
             [
              0.3333333333333333,
              "#9c179e"
             ],
             [
              0.4444444444444444,
              "#bd3786"
             ],
             [
              0.5555555555555556,
              "#d8576b"
             ],
             [
              0.6666666666666666,
              "#ed7953"
             ],
             [
              0.7777777777777778,
              "#fb9f3a"
             ],
             [
              0.8888888888888888,
              "#fdca26"
             ],
             [
              1,
              "#f0f921"
             ]
            ],
            "type": "histogram2d"
           }
          ],
          "histogram2dcontour": [
           {
            "colorbar": {
             "outlinewidth": 0,
             "ticks": ""
            },
            "colorscale": [
             [
              0,
              "#0d0887"
             ],
             [
              0.1111111111111111,
              "#46039f"
             ],
             [
              0.2222222222222222,
              "#7201a8"
             ],
             [
              0.3333333333333333,
              "#9c179e"
             ],
             [
              0.4444444444444444,
              "#bd3786"
             ],
             [
              0.5555555555555556,
              "#d8576b"
             ],
             [
              0.6666666666666666,
              "#ed7953"
             ],
             [
              0.7777777777777778,
              "#fb9f3a"
             ],
             [
              0.8888888888888888,
              "#fdca26"
             ],
             [
              1,
              "#f0f921"
             ]
            ],
            "type": "histogram2dcontour"
           }
          ],
          "mesh3d": [
           {
            "colorbar": {
             "outlinewidth": 0,
             "ticks": ""
            },
            "type": "mesh3d"
           }
          ],
          "parcoords": [
           {
            "line": {
             "colorbar": {
              "outlinewidth": 0,
              "ticks": ""
             }
            },
            "type": "parcoords"
           }
          ],
          "pie": [
           {
            "automargin": true,
            "type": "pie"
           }
          ],
          "scatter": [
           {
            "fillpattern": {
             "fillmode": "overlay",
             "size": 10,
             "solidity": 0.2
            },
            "type": "scatter"
           }
          ],
          "scatter3d": [
           {
            "line": {
             "colorbar": {
              "outlinewidth": 0,
              "ticks": ""
             }
            },
            "marker": {
             "colorbar": {
              "outlinewidth": 0,
              "ticks": ""
             }
            },
            "type": "scatter3d"
           }
          ],
          "scattercarpet": [
           {
            "marker": {
             "colorbar": {
              "outlinewidth": 0,
              "ticks": ""
             }
            },
            "type": "scattercarpet"
           }
          ],
          "scattergeo": [
           {
            "marker": {
             "colorbar": {
              "outlinewidth": 0,
              "ticks": ""
             }
            },
            "type": "scattergeo"
           }
          ],
          "scattergl": [
           {
            "marker": {
             "colorbar": {
              "outlinewidth": 0,
              "ticks": ""
             }
            },
            "type": "scattergl"
           }
          ],
          "scattermapbox": [
           {
            "marker": {
             "colorbar": {
              "outlinewidth": 0,
              "ticks": ""
             }
            },
            "type": "scattermapbox"
           }
          ],
          "scatterpolar": [
           {
            "marker": {
             "colorbar": {
              "outlinewidth": 0,
              "ticks": ""
             }
            },
            "type": "scatterpolar"
           }
          ],
          "scatterpolargl": [
           {
            "marker": {
             "colorbar": {
              "outlinewidth": 0,
              "ticks": ""
             }
            },
            "type": "scatterpolargl"
           }
          ],
          "scatterternary": [
           {
            "marker": {
             "colorbar": {
              "outlinewidth": 0,
              "ticks": ""
             }
            },
            "type": "scatterternary"
           }
          ],
          "surface": [
           {
            "colorbar": {
             "outlinewidth": 0,
             "ticks": ""
            },
            "colorscale": [
             [
              0,
              "#0d0887"
             ],
             [
              0.1111111111111111,
              "#46039f"
             ],
             [
              0.2222222222222222,
              "#7201a8"
             ],
             [
              0.3333333333333333,
              "#9c179e"
             ],
             [
              0.4444444444444444,
              "#bd3786"
             ],
             [
              0.5555555555555556,
              "#d8576b"
             ],
             [
              0.6666666666666666,
              "#ed7953"
             ],
             [
              0.7777777777777778,
              "#fb9f3a"
             ],
             [
              0.8888888888888888,
              "#fdca26"
             ],
             [
              1,
              "#f0f921"
             ]
            ],
            "type": "surface"
           }
          ],
          "table": [
           {
            "cells": {
             "fill": {
              "color": "#EBF0F8"
             },
             "line": {
              "color": "white"
             }
            },
            "header": {
             "fill": {
              "color": "#C8D4E3"
             },
             "line": {
              "color": "white"
             }
            },
            "type": "table"
           }
          ]
         },
         "layout": {
          "annotationdefaults": {
           "arrowcolor": "#2a3f5f",
           "arrowhead": 0,
           "arrowwidth": 1
          },
          "autotypenumbers": "strict",
          "coloraxis": {
           "colorbar": {
            "outlinewidth": 0,
            "ticks": ""
           }
          },
          "colorscale": {
           "diverging": [
            [
             0,
             "#8e0152"
            ],
            [
             0.1,
             "#c51b7d"
            ],
            [
             0.2,
             "#de77ae"
            ],
            [
             0.3,
             "#f1b6da"
            ],
            [
             0.4,
             "#fde0ef"
            ],
            [
             0.5,
             "#f7f7f7"
            ],
            [
             0.6,
             "#e6f5d0"
            ],
            [
             0.7,
             "#b8e186"
            ],
            [
             0.8,
             "#7fbc41"
            ],
            [
             0.9,
             "#4d9221"
            ],
            [
             1,
             "#276419"
            ]
           ],
           "sequential": [
            [
             0,
             "#0d0887"
            ],
            [
             0.1111111111111111,
             "#46039f"
            ],
            [
             0.2222222222222222,
             "#7201a8"
            ],
            [
             0.3333333333333333,
             "#9c179e"
            ],
            [
             0.4444444444444444,
             "#bd3786"
            ],
            [
             0.5555555555555556,
             "#d8576b"
            ],
            [
             0.6666666666666666,
             "#ed7953"
            ],
            [
             0.7777777777777778,
             "#fb9f3a"
            ],
            [
             0.8888888888888888,
             "#fdca26"
            ],
            [
             1,
             "#f0f921"
            ]
           ],
           "sequentialminus": [
            [
             0,
             "#0d0887"
            ],
            [
             0.1111111111111111,
             "#46039f"
            ],
            [
             0.2222222222222222,
             "#7201a8"
            ],
            [
             0.3333333333333333,
             "#9c179e"
            ],
            [
             0.4444444444444444,
             "#bd3786"
            ],
            [
             0.5555555555555556,
             "#d8576b"
            ],
            [
             0.6666666666666666,
             "#ed7953"
            ],
            [
             0.7777777777777778,
             "#fb9f3a"
            ],
            [
             0.8888888888888888,
             "#fdca26"
            ],
            [
             1,
             "#f0f921"
            ]
           ]
          },
          "colorway": [
           "#636efa",
           "#EF553B",
           "#00cc96",
           "#ab63fa",
           "#FFA15A",
           "#19d3f3",
           "#FF6692",
           "#B6E880",
           "#FF97FF",
           "#FECB52"
          ],
          "font": {
           "color": "#2a3f5f"
          },
          "geo": {
           "bgcolor": "white",
           "lakecolor": "white",
           "landcolor": "#E5ECF6",
           "showlakes": true,
           "showland": true,
           "subunitcolor": "white"
          },
          "hoverlabel": {
           "align": "left"
          },
          "hovermode": "closest",
          "mapbox": {
           "style": "light"
          },
          "paper_bgcolor": "white",
          "plot_bgcolor": "#E5ECF6",
          "polar": {
           "angularaxis": {
            "gridcolor": "white",
            "linecolor": "white",
            "ticks": ""
           },
           "bgcolor": "#E5ECF6",
           "radialaxis": {
            "gridcolor": "white",
            "linecolor": "white",
            "ticks": ""
           }
          },
          "scene": {
           "xaxis": {
            "backgroundcolor": "#E5ECF6",
            "gridcolor": "white",
            "gridwidth": 2,
            "linecolor": "white",
            "showbackground": true,
            "ticks": "",
            "zerolinecolor": "white"
           },
           "yaxis": {
            "backgroundcolor": "#E5ECF6",
            "gridcolor": "white",
            "gridwidth": 2,
            "linecolor": "white",
            "showbackground": true,
            "ticks": "",
            "zerolinecolor": "white"
           },
           "zaxis": {
            "backgroundcolor": "#E5ECF6",
            "gridcolor": "white",
            "gridwidth": 2,
            "linecolor": "white",
            "showbackground": true,
            "ticks": "",
            "zerolinecolor": "white"
           }
          },
          "shapedefaults": {
           "line": {
            "color": "#2a3f5f"
           }
          },
          "ternary": {
           "aaxis": {
            "gridcolor": "white",
            "linecolor": "white",
            "ticks": ""
           },
           "baxis": {
            "gridcolor": "white",
            "linecolor": "white",
            "ticks": ""
           },
           "bgcolor": "#E5ECF6",
           "caxis": {
            "gridcolor": "white",
            "linecolor": "white",
            "ticks": ""
           }
          },
          "title": {
           "x": 0.05
          },
          "xaxis": {
           "automargin": true,
           "gridcolor": "white",
           "linecolor": "white",
           "ticks": "",
           "title": {
            "standoff": 15
           },
           "zerolinecolor": "white",
           "zerolinewidth": 2
          },
          "yaxis": {
           "automargin": true,
           "gridcolor": "white",
           "linecolor": "white",
           "ticks": "",
           "title": {
            "standoff": 15
           },
           "zerolinecolor": "white",
           "zerolinewidth": 2
          }
         }
        },
        "title": {
         "text": "Optimization History Plot"
        },
        "xaxis": {
         "title": {
          "text": "Trial"
         }
        },
        "yaxis": {
         "title": {
          "text": "Objective Value"
         }
        }
       }
      }
     },
     "metadata": {},
     "output_type": "display_data"
    }
   ],
   "source": [
    "print(studyRF.best_params)\n",
    "optuna.visualization.plot_optimization_history(studyRF)"
   ]
  },
  {
   "cell_type": "code",
   "execution_count": 89,
   "metadata": {},
   "outputs": [
    {
     "data": {
      "application/vnd.plotly.v1+json": {
       "config": {
        "plotlyServerURL": "https://plot.ly"
       },
       "data": [
        {
         "dimensions": [
          {
           "label": "Objective Value",
           "range": [
            0.745,
            1
           ],
           "values": [
            0.755,
            1,
            1,
            1,
            0.95,
            1,
            1,
            1,
            1,
            0.995,
            0.975,
            1,
            1,
            1,
            1,
            1,
            1,
            1,
            1,
            1,
            1,
            1,
            1,
            1,
            1,
            1,
            1,
            0.995,
            0.745,
            0.745,
            1,
            1,
            1,
            1,
            1,
            1,
            1,
            1,
            1,
            0.865,
            1,
            1,
            1,
            1,
            1,
            1,
            1,
            1,
            1,
            1,
            1,
            1,
            1,
            1,
            0.995,
            1,
            1,
            1,
            1,
            1,
            1,
            1,
            1,
            1,
            1,
            1,
            1,
            1,
            1,
            1,
            1,
            1,
            0.89,
            1,
            1,
            1,
            1,
            1,
            1,
            1,
            1,
            1,
            1,
            1,
            1,
            1,
            1,
            1,
            1,
            1,
            1,
            1,
            1,
            1,
            0.995,
            1,
            1,
            1,
            1,
            1
           ]
          },
          {
           "label": "Criterion",
           "range": [
            0,
            2
           ],
           "ticktext": [
            "log_loss",
            "gini",
            "entropy"
           ],
           "tickvals": [
            0,
            1,
            2
           ],
           "values": [
            0,
            0,
            0,
            1,
            2,
            1,
            0,
            2,
            1,
            0,
            0,
            0,
            0,
            0,
            0,
            2,
            0,
            0,
            1,
            2,
            0,
            1,
            1,
            1,
            1,
            1,
            0,
            0,
            2,
            1,
            0,
            1,
            1,
            1,
            1,
            2,
            1,
            0,
            1,
            0,
            0,
            0,
            0,
            0,
            0,
            2,
            0,
            0,
            0,
            1,
            2,
            2,
            2,
            2,
            2,
            0,
            1,
            0,
            1,
            0,
            2,
            1,
            1,
            1,
            1,
            1,
            1,
            0,
            1,
            0,
            2,
            0,
            0,
            0,
            0,
            0,
            1,
            0,
            1,
            0,
            1,
            0,
            0,
            0,
            0,
            2,
            0,
            0,
            1,
            2,
            0,
            0,
            0,
            0,
            0,
            1,
            0,
            2,
            1,
            0
           ]
          },
          {
           "label": "Max_depth",
           "range": [
            1,
            15
           ],
           "values": [
            1,
            4,
            13,
            8,
            2,
            11,
            13,
            6,
            8,
            3,
            4,
            15,
            11,
            5,
            10,
            15,
            6,
            13,
            9,
            7,
            13,
            8,
            4,
            10,
            6,
            12,
            8,
            3,
            1,
            1,
            14,
            11,
            11,
            12,
            9,
            14,
            12,
            7,
            10,
            2,
            5,
            13,
            14,
            15,
            13,
            12,
            9,
            11,
            7,
            14,
            10,
            5,
            6,
            4,
            3,
            6,
            7,
            4,
            5,
            9,
            8,
            8,
            8,
            15,
            6,
            13,
            10,
            9,
            12,
            7,
            3,
            15,
            2,
            14,
            11,
            15,
            14,
            13,
            13,
            12,
            5,
            11,
            9,
            10,
            8,
            12,
            11,
            14,
            6,
            7,
            4,
            5,
            4,
            9,
            3,
            5,
            6,
            8,
            10,
            4
           ]
          },
          {
           "label": "estimators",
           "range": [
            4,
            150
           ],
           "values": [
            45,
            74,
            141,
            46,
            39,
            126,
            30,
            51,
            63,
            108,
            5,
            90,
            146,
            84,
            150,
            106,
            72,
            125,
            98,
            129,
            18,
            59,
            72,
            27,
            80,
            58,
            95,
            114,
            37,
            49,
            66,
            136,
            138,
            124,
            43,
            115,
            141,
            29,
            4,
            53,
            15,
            33,
            17,
            43,
            86,
            104,
            23,
            147,
            69,
            132,
            77,
            54,
            38,
            62,
            49,
            92,
            46,
            118,
            11,
            101,
            31,
            66,
            60,
            82,
            76,
            142,
            54,
            71,
            35,
            23,
            64,
            150,
            127,
            121,
            108,
            88,
            57,
            49,
            132,
            40,
            25,
            140,
            149,
            144,
            145,
            134,
            112,
            138,
            44,
            70,
            95,
            79,
            84,
            74,
            57,
            90,
            51,
            64,
            80,
            129
           ]
          }
         ],
         "labelangle": 30,
         "labelside": "bottom",
         "line": {
          "color": [
           0.755,
           1,
           1,
           1,
           0.95,
           1,
           1,
           1,
           1,
           0.995,
           0.975,
           1,
           1,
           1,
           1,
           1,
           1,
           1,
           1,
           1,
           1,
           1,
           1,
           1,
           1,
           1,
           1,
           0.995,
           0.745,
           0.745,
           1,
           1,
           1,
           1,
           1,
           1,
           1,
           1,
           1,
           0.865,
           1,
           1,
           1,
           1,
           1,
           1,
           1,
           1,
           1,
           1,
           1,
           1,
           1,
           1,
           0.995,
           1,
           1,
           1,
           1,
           1,
           1,
           1,
           1,
           1,
           1,
           1,
           1,
           1,
           1,
           1,
           1,
           1,
           0.89,
           1,
           1,
           1,
           1,
           1,
           1,
           1,
           1,
           1,
           1,
           1,
           1,
           1,
           1,
           1,
           1,
           1,
           1,
           1,
           1,
           1,
           0.995,
           1,
           1,
           1,
           1,
           1
          ],
          "colorbar": {
           "title": {
            "text": "Objective Value"
           }
          },
          "colorscale": [
           [
            0,
            "rgb(247,251,255)"
           ],
           [
            0.125,
            "rgb(222,235,247)"
           ],
           [
            0.25,
            "rgb(198,219,239)"
           ],
           [
            0.375,
            "rgb(158,202,225)"
           ],
           [
            0.5,
            "rgb(107,174,214)"
           ],
           [
            0.625,
            "rgb(66,146,198)"
           ],
           [
            0.75,
            "rgb(33,113,181)"
           ],
           [
            0.875,
            "rgb(8,81,156)"
           ],
           [
            1,
            "rgb(8,48,107)"
           ]
          ],
          "reversescale": false,
          "showscale": true
         },
         "type": "parcoords"
        }
       ],
       "layout": {
        "template": {
         "data": {
          "bar": [
           {
            "error_x": {
             "color": "#2a3f5f"
            },
            "error_y": {
             "color": "#2a3f5f"
            },
            "marker": {
             "line": {
              "color": "#E5ECF6",
              "width": 0.5
             },
             "pattern": {
              "fillmode": "overlay",
              "size": 10,
              "solidity": 0.2
             }
            },
            "type": "bar"
           }
          ],
          "barpolar": [
           {
            "marker": {
             "line": {
              "color": "#E5ECF6",
              "width": 0.5
             },
             "pattern": {
              "fillmode": "overlay",
              "size": 10,
              "solidity": 0.2
             }
            },
            "type": "barpolar"
           }
          ],
          "carpet": [
           {
            "aaxis": {
             "endlinecolor": "#2a3f5f",
             "gridcolor": "white",
             "linecolor": "white",
             "minorgridcolor": "white",
             "startlinecolor": "#2a3f5f"
            },
            "baxis": {
             "endlinecolor": "#2a3f5f",
             "gridcolor": "white",
             "linecolor": "white",
             "minorgridcolor": "white",
             "startlinecolor": "#2a3f5f"
            },
            "type": "carpet"
           }
          ],
          "choropleth": [
           {
            "colorbar": {
             "outlinewidth": 0,
             "ticks": ""
            },
            "type": "choropleth"
           }
          ],
          "contour": [
           {
            "colorbar": {
             "outlinewidth": 0,
             "ticks": ""
            },
            "colorscale": [
             [
              0,
              "#0d0887"
             ],
             [
              0.1111111111111111,
              "#46039f"
             ],
             [
              0.2222222222222222,
              "#7201a8"
             ],
             [
              0.3333333333333333,
              "#9c179e"
             ],
             [
              0.4444444444444444,
              "#bd3786"
             ],
             [
              0.5555555555555556,
              "#d8576b"
             ],
             [
              0.6666666666666666,
              "#ed7953"
             ],
             [
              0.7777777777777778,
              "#fb9f3a"
             ],
             [
              0.8888888888888888,
              "#fdca26"
             ],
             [
              1,
              "#f0f921"
             ]
            ],
            "type": "contour"
           }
          ],
          "contourcarpet": [
           {
            "colorbar": {
             "outlinewidth": 0,
             "ticks": ""
            },
            "type": "contourcarpet"
           }
          ],
          "heatmap": [
           {
            "colorbar": {
             "outlinewidth": 0,
             "ticks": ""
            },
            "colorscale": [
             [
              0,
              "#0d0887"
             ],
             [
              0.1111111111111111,
              "#46039f"
             ],
             [
              0.2222222222222222,
              "#7201a8"
             ],
             [
              0.3333333333333333,
              "#9c179e"
             ],
             [
              0.4444444444444444,
              "#bd3786"
             ],
             [
              0.5555555555555556,
              "#d8576b"
             ],
             [
              0.6666666666666666,
              "#ed7953"
             ],
             [
              0.7777777777777778,
              "#fb9f3a"
             ],
             [
              0.8888888888888888,
              "#fdca26"
             ],
             [
              1,
              "#f0f921"
             ]
            ],
            "type": "heatmap"
           }
          ],
          "heatmapgl": [
           {
            "colorbar": {
             "outlinewidth": 0,
             "ticks": ""
            },
            "colorscale": [
             [
              0,
              "#0d0887"
             ],
             [
              0.1111111111111111,
              "#46039f"
             ],
             [
              0.2222222222222222,
              "#7201a8"
             ],
             [
              0.3333333333333333,
              "#9c179e"
             ],
             [
              0.4444444444444444,
              "#bd3786"
             ],
             [
              0.5555555555555556,
              "#d8576b"
             ],
             [
              0.6666666666666666,
              "#ed7953"
             ],
             [
              0.7777777777777778,
              "#fb9f3a"
             ],
             [
              0.8888888888888888,
              "#fdca26"
             ],
             [
              1,
              "#f0f921"
             ]
            ],
            "type": "heatmapgl"
           }
          ],
          "histogram": [
           {
            "marker": {
             "pattern": {
              "fillmode": "overlay",
              "size": 10,
              "solidity": 0.2
             }
            },
            "type": "histogram"
           }
          ],
          "histogram2d": [
           {
            "colorbar": {
             "outlinewidth": 0,
             "ticks": ""
            },
            "colorscale": [
             [
              0,
              "#0d0887"
             ],
             [
              0.1111111111111111,
              "#46039f"
             ],
             [
              0.2222222222222222,
              "#7201a8"
             ],
             [
              0.3333333333333333,
              "#9c179e"
             ],
             [
              0.4444444444444444,
              "#bd3786"
             ],
             [
              0.5555555555555556,
              "#d8576b"
             ],
             [
              0.6666666666666666,
              "#ed7953"
             ],
             [
              0.7777777777777778,
              "#fb9f3a"
             ],
             [
              0.8888888888888888,
              "#fdca26"
             ],
             [
              1,
              "#f0f921"
             ]
            ],
            "type": "histogram2d"
           }
          ],
          "histogram2dcontour": [
           {
            "colorbar": {
             "outlinewidth": 0,
             "ticks": ""
            },
            "colorscale": [
             [
              0,
              "#0d0887"
             ],
             [
              0.1111111111111111,
              "#46039f"
             ],
             [
              0.2222222222222222,
              "#7201a8"
             ],
             [
              0.3333333333333333,
              "#9c179e"
             ],
             [
              0.4444444444444444,
              "#bd3786"
             ],
             [
              0.5555555555555556,
              "#d8576b"
             ],
             [
              0.6666666666666666,
              "#ed7953"
             ],
             [
              0.7777777777777778,
              "#fb9f3a"
             ],
             [
              0.8888888888888888,
              "#fdca26"
             ],
             [
              1,
              "#f0f921"
             ]
            ],
            "type": "histogram2dcontour"
           }
          ],
          "mesh3d": [
           {
            "colorbar": {
             "outlinewidth": 0,
             "ticks": ""
            },
            "type": "mesh3d"
           }
          ],
          "parcoords": [
           {
            "line": {
             "colorbar": {
              "outlinewidth": 0,
              "ticks": ""
             }
            },
            "type": "parcoords"
           }
          ],
          "pie": [
           {
            "automargin": true,
            "type": "pie"
           }
          ],
          "scatter": [
           {
            "fillpattern": {
             "fillmode": "overlay",
             "size": 10,
             "solidity": 0.2
            },
            "type": "scatter"
           }
          ],
          "scatter3d": [
           {
            "line": {
             "colorbar": {
              "outlinewidth": 0,
              "ticks": ""
             }
            },
            "marker": {
             "colorbar": {
              "outlinewidth": 0,
              "ticks": ""
             }
            },
            "type": "scatter3d"
           }
          ],
          "scattercarpet": [
           {
            "marker": {
             "colorbar": {
              "outlinewidth": 0,
              "ticks": ""
             }
            },
            "type": "scattercarpet"
           }
          ],
          "scattergeo": [
           {
            "marker": {
             "colorbar": {
              "outlinewidth": 0,
              "ticks": ""
             }
            },
            "type": "scattergeo"
           }
          ],
          "scattergl": [
           {
            "marker": {
             "colorbar": {
              "outlinewidth": 0,
              "ticks": ""
             }
            },
            "type": "scattergl"
           }
          ],
          "scattermapbox": [
           {
            "marker": {
             "colorbar": {
              "outlinewidth": 0,
              "ticks": ""
             }
            },
            "type": "scattermapbox"
           }
          ],
          "scatterpolar": [
           {
            "marker": {
             "colorbar": {
              "outlinewidth": 0,
              "ticks": ""
             }
            },
            "type": "scatterpolar"
           }
          ],
          "scatterpolargl": [
           {
            "marker": {
             "colorbar": {
              "outlinewidth": 0,
              "ticks": ""
             }
            },
            "type": "scatterpolargl"
           }
          ],
          "scatterternary": [
           {
            "marker": {
             "colorbar": {
              "outlinewidth": 0,
              "ticks": ""
             }
            },
            "type": "scatterternary"
           }
          ],
          "surface": [
           {
            "colorbar": {
             "outlinewidth": 0,
             "ticks": ""
            },
            "colorscale": [
             [
              0,
              "#0d0887"
             ],
             [
              0.1111111111111111,
              "#46039f"
             ],
             [
              0.2222222222222222,
              "#7201a8"
             ],
             [
              0.3333333333333333,
              "#9c179e"
             ],
             [
              0.4444444444444444,
              "#bd3786"
             ],
             [
              0.5555555555555556,
              "#d8576b"
             ],
             [
              0.6666666666666666,
              "#ed7953"
             ],
             [
              0.7777777777777778,
              "#fb9f3a"
             ],
             [
              0.8888888888888888,
              "#fdca26"
             ],
             [
              1,
              "#f0f921"
             ]
            ],
            "type": "surface"
           }
          ],
          "table": [
           {
            "cells": {
             "fill": {
              "color": "#EBF0F8"
             },
             "line": {
              "color": "white"
             }
            },
            "header": {
             "fill": {
              "color": "#C8D4E3"
             },
             "line": {
              "color": "white"
             }
            },
            "type": "table"
           }
          ]
         },
         "layout": {
          "annotationdefaults": {
           "arrowcolor": "#2a3f5f",
           "arrowhead": 0,
           "arrowwidth": 1
          },
          "autotypenumbers": "strict",
          "coloraxis": {
           "colorbar": {
            "outlinewidth": 0,
            "ticks": ""
           }
          },
          "colorscale": {
           "diverging": [
            [
             0,
             "#8e0152"
            ],
            [
             0.1,
             "#c51b7d"
            ],
            [
             0.2,
             "#de77ae"
            ],
            [
             0.3,
             "#f1b6da"
            ],
            [
             0.4,
             "#fde0ef"
            ],
            [
             0.5,
             "#f7f7f7"
            ],
            [
             0.6,
             "#e6f5d0"
            ],
            [
             0.7,
             "#b8e186"
            ],
            [
             0.8,
             "#7fbc41"
            ],
            [
             0.9,
             "#4d9221"
            ],
            [
             1,
             "#276419"
            ]
           ],
           "sequential": [
            [
             0,
             "#0d0887"
            ],
            [
             0.1111111111111111,
             "#46039f"
            ],
            [
             0.2222222222222222,
             "#7201a8"
            ],
            [
             0.3333333333333333,
             "#9c179e"
            ],
            [
             0.4444444444444444,
             "#bd3786"
            ],
            [
             0.5555555555555556,
             "#d8576b"
            ],
            [
             0.6666666666666666,
             "#ed7953"
            ],
            [
             0.7777777777777778,
             "#fb9f3a"
            ],
            [
             0.8888888888888888,
             "#fdca26"
            ],
            [
             1,
             "#f0f921"
            ]
           ],
           "sequentialminus": [
            [
             0,
             "#0d0887"
            ],
            [
             0.1111111111111111,
             "#46039f"
            ],
            [
             0.2222222222222222,
             "#7201a8"
            ],
            [
             0.3333333333333333,
             "#9c179e"
            ],
            [
             0.4444444444444444,
             "#bd3786"
            ],
            [
             0.5555555555555556,
             "#d8576b"
            ],
            [
             0.6666666666666666,
             "#ed7953"
            ],
            [
             0.7777777777777778,
             "#fb9f3a"
            ],
            [
             0.8888888888888888,
             "#fdca26"
            ],
            [
             1,
             "#f0f921"
            ]
           ]
          },
          "colorway": [
           "#636efa",
           "#EF553B",
           "#00cc96",
           "#ab63fa",
           "#FFA15A",
           "#19d3f3",
           "#FF6692",
           "#B6E880",
           "#FF97FF",
           "#FECB52"
          ],
          "font": {
           "color": "#2a3f5f"
          },
          "geo": {
           "bgcolor": "white",
           "lakecolor": "white",
           "landcolor": "#E5ECF6",
           "showlakes": true,
           "showland": true,
           "subunitcolor": "white"
          },
          "hoverlabel": {
           "align": "left"
          },
          "hovermode": "closest",
          "mapbox": {
           "style": "light"
          },
          "paper_bgcolor": "white",
          "plot_bgcolor": "#E5ECF6",
          "polar": {
           "angularaxis": {
            "gridcolor": "white",
            "linecolor": "white",
            "ticks": ""
           },
           "bgcolor": "#E5ECF6",
           "radialaxis": {
            "gridcolor": "white",
            "linecolor": "white",
            "ticks": ""
           }
          },
          "scene": {
           "xaxis": {
            "backgroundcolor": "#E5ECF6",
            "gridcolor": "white",
            "gridwidth": 2,
            "linecolor": "white",
            "showbackground": true,
            "ticks": "",
            "zerolinecolor": "white"
           },
           "yaxis": {
            "backgroundcolor": "#E5ECF6",
            "gridcolor": "white",
            "gridwidth": 2,
            "linecolor": "white",
            "showbackground": true,
            "ticks": "",
            "zerolinecolor": "white"
           },
           "zaxis": {
            "backgroundcolor": "#E5ECF6",
            "gridcolor": "white",
            "gridwidth": 2,
            "linecolor": "white",
            "showbackground": true,
            "ticks": "",
            "zerolinecolor": "white"
           }
          },
          "shapedefaults": {
           "line": {
            "color": "#2a3f5f"
           }
          },
          "ternary": {
           "aaxis": {
            "gridcolor": "white",
            "linecolor": "white",
            "ticks": ""
           },
           "baxis": {
            "gridcolor": "white",
            "linecolor": "white",
            "ticks": ""
           },
           "bgcolor": "#E5ECF6",
           "caxis": {
            "gridcolor": "white",
            "linecolor": "white",
            "ticks": ""
           }
          },
          "title": {
           "x": 0.05
          },
          "xaxis": {
           "automargin": true,
           "gridcolor": "white",
           "linecolor": "white",
           "ticks": "",
           "title": {
            "standoff": 15
           },
           "zerolinecolor": "white",
           "zerolinewidth": 2
          },
          "yaxis": {
           "automargin": true,
           "gridcolor": "white",
           "linecolor": "white",
           "ticks": "",
           "title": {
            "standoff": 15
           },
           "zerolinecolor": "white",
           "zerolinewidth": 2
          }
         }
        },
        "title": {
         "text": "Parallel Coordinate Plot"
        }
       }
      }
     },
     "metadata": {},
     "output_type": "display_data"
    }
   ],
   "source": [
    "optuna.visualization.plot_parallel_coordinate(studyRF)"
   ]
  },
  {
   "cell_type": "code",
   "execution_count": 90,
   "metadata": {},
   "outputs": [
    {
     "data": {
      "application/vnd.plotly.v1+json": {
       "config": {
        "plotlyServerURL": "https://plot.ly"
       },
       "data": [
        {
         "cliponaxis": false,
         "hovertemplate": [
          "Criterion (CategoricalDistribution): 0.0018014646889012202<extra></extra>",
          "estimators (IntDistribution): 0.006731659453393469<extra></extra>",
          "Max_depth (IntDistribution): 0.9914668758577053<extra></extra>"
         ],
         "name": "Objective Value",
         "orientation": "h",
         "text": [
          "<0.01",
          "<0.01",
          "0.99"
         ],
         "textposition": "outside",
         "type": "bar",
         "x": [
          0.0018014646889012202,
          0.006731659453393469,
          0.9914668758577053
         ],
         "y": [
          "Criterion",
          "estimators",
          "Max_depth"
         ]
        }
       ],
       "layout": {
        "template": {
         "data": {
          "bar": [
           {
            "error_x": {
             "color": "#2a3f5f"
            },
            "error_y": {
             "color": "#2a3f5f"
            },
            "marker": {
             "line": {
              "color": "#E5ECF6",
              "width": 0.5
             },
             "pattern": {
              "fillmode": "overlay",
              "size": 10,
              "solidity": 0.2
             }
            },
            "type": "bar"
           }
          ],
          "barpolar": [
           {
            "marker": {
             "line": {
              "color": "#E5ECF6",
              "width": 0.5
             },
             "pattern": {
              "fillmode": "overlay",
              "size": 10,
              "solidity": 0.2
             }
            },
            "type": "barpolar"
           }
          ],
          "carpet": [
           {
            "aaxis": {
             "endlinecolor": "#2a3f5f",
             "gridcolor": "white",
             "linecolor": "white",
             "minorgridcolor": "white",
             "startlinecolor": "#2a3f5f"
            },
            "baxis": {
             "endlinecolor": "#2a3f5f",
             "gridcolor": "white",
             "linecolor": "white",
             "minorgridcolor": "white",
             "startlinecolor": "#2a3f5f"
            },
            "type": "carpet"
           }
          ],
          "choropleth": [
           {
            "colorbar": {
             "outlinewidth": 0,
             "ticks": ""
            },
            "type": "choropleth"
           }
          ],
          "contour": [
           {
            "colorbar": {
             "outlinewidth": 0,
             "ticks": ""
            },
            "colorscale": [
             [
              0,
              "#0d0887"
             ],
             [
              0.1111111111111111,
              "#46039f"
             ],
             [
              0.2222222222222222,
              "#7201a8"
             ],
             [
              0.3333333333333333,
              "#9c179e"
             ],
             [
              0.4444444444444444,
              "#bd3786"
             ],
             [
              0.5555555555555556,
              "#d8576b"
             ],
             [
              0.6666666666666666,
              "#ed7953"
             ],
             [
              0.7777777777777778,
              "#fb9f3a"
             ],
             [
              0.8888888888888888,
              "#fdca26"
             ],
             [
              1,
              "#f0f921"
             ]
            ],
            "type": "contour"
           }
          ],
          "contourcarpet": [
           {
            "colorbar": {
             "outlinewidth": 0,
             "ticks": ""
            },
            "type": "contourcarpet"
           }
          ],
          "heatmap": [
           {
            "colorbar": {
             "outlinewidth": 0,
             "ticks": ""
            },
            "colorscale": [
             [
              0,
              "#0d0887"
             ],
             [
              0.1111111111111111,
              "#46039f"
             ],
             [
              0.2222222222222222,
              "#7201a8"
             ],
             [
              0.3333333333333333,
              "#9c179e"
             ],
             [
              0.4444444444444444,
              "#bd3786"
             ],
             [
              0.5555555555555556,
              "#d8576b"
             ],
             [
              0.6666666666666666,
              "#ed7953"
             ],
             [
              0.7777777777777778,
              "#fb9f3a"
             ],
             [
              0.8888888888888888,
              "#fdca26"
             ],
             [
              1,
              "#f0f921"
             ]
            ],
            "type": "heatmap"
           }
          ],
          "heatmapgl": [
           {
            "colorbar": {
             "outlinewidth": 0,
             "ticks": ""
            },
            "colorscale": [
             [
              0,
              "#0d0887"
             ],
             [
              0.1111111111111111,
              "#46039f"
             ],
             [
              0.2222222222222222,
              "#7201a8"
             ],
             [
              0.3333333333333333,
              "#9c179e"
             ],
             [
              0.4444444444444444,
              "#bd3786"
             ],
             [
              0.5555555555555556,
              "#d8576b"
             ],
             [
              0.6666666666666666,
              "#ed7953"
             ],
             [
              0.7777777777777778,
              "#fb9f3a"
             ],
             [
              0.8888888888888888,
              "#fdca26"
             ],
             [
              1,
              "#f0f921"
             ]
            ],
            "type": "heatmapgl"
           }
          ],
          "histogram": [
           {
            "marker": {
             "pattern": {
              "fillmode": "overlay",
              "size": 10,
              "solidity": 0.2
             }
            },
            "type": "histogram"
           }
          ],
          "histogram2d": [
           {
            "colorbar": {
             "outlinewidth": 0,
             "ticks": ""
            },
            "colorscale": [
             [
              0,
              "#0d0887"
             ],
             [
              0.1111111111111111,
              "#46039f"
             ],
             [
              0.2222222222222222,
              "#7201a8"
             ],
             [
              0.3333333333333333,
              "#9c179e"
             ],
             [
              0.4444444444444444,
              "#bd3786"
             ],
             [
              0.5555555555555556,
              "#d8576b"
             ],
             [
              0.6666666666666666,
              "#ed7953"
             ],
             [
              0.7777777777777778,
              "#fb9f3a"
             ],
             [
              0.8888888888888888,
              "#fdca26"
             ],
             [
              1,
              "#f0f921"
             ]
            ],
            "type": "histogram2d"
           }
          ],
          "histogram2dcontour": [
           {
            "colorbar": {
             "outlinewidth": 0,
             "ticks": ""
            },
            "colorscale": [
             [
              0,
              "#0d0887"
             ],
             [
              0.1111111111111111,
              "#46039f"
             ],
             [
              0.2222222222222222,
              "#7201a8"
             ],
             [
              0.3333333333333333,
              "#9c179e"
             ],
             [
              0.4444444444444444,
              "#bd3786"
             ],
             [
              0.5555555555555556,
              "#d8576b"
             ],
             [
              0.6666666666666666,
              "#ed7953"
             ],
             [
              0.7777777777777778,
              "#fb9f3a"
             ],
             [
              0.8888888888888888,
              "#fdca26"
             ],
             [
              1,
              "#f0f921"
             ]
            ],
            "type": "histogram2dcontour"
           }
          ],
          "mesh3d": [
           {
            "colorbar": {
             "outlinewidth": 0,
             "ticks": ""
            },
            "type": "mesh3d"
           }
          ],
          "parcoords": [
           {
            "line": {
             "colorbar": {
              "outlinewidth": 0,
              "ticks": ""
             }
            },
            "type": "parcoords"
           }
          ],
          "pie": [
           {
            "automargin": true,
            "type": "pie"
           }
          ],
          "scatter": [
           {
            "fillpattern": {
             "fillmode": "overlay",
             "size": 10,
             "solidity": 0.2
            },
            "type": "scatter"
           }
          ],
          "scatter3d": [
           {
            "line": {
             "colorbar": {
              "outlinewidth": 0,
              "ticks": ""
             }
            },
            "marker": {
             "colorbar": {
              "outlinewidth": 0,
              "ticks": ""
             }
            },
            "type": "scatter3d"
           }
          ],
          "scattercarpet": [
           {
            "marker": {
             "colorbar": {
              "outlinewidth": 0,
              "ticks": ""
             }
            },
            "type": "scattercarpet"
           }
          ],
          "scattergeo": [
           {
            "marker": {
             "colorbar": {
              "outlinewidth": 0,
              "ticks": ""
             }
            },
            "type": "scattergeo"
           }
          ],
          "scattergl": [
           {
            "marker": {
             "colorbar": {
              "outlinewidth": 0,
              "ticks": ""
             }
            },
            "type": "scattergl"
           }
          ],
          "scattermapbox": [
           {
            "marker": {
             "colorbar": {
              "outlinewidth": 0,
              "ticks": ""
             }
            },
            "type": "scattermapbox"
           }
          ],
          "scatterpolar": [
           {
            "marker": {
             "colorbar": {
              "outlinewidth": 0,
              "ticks": ""
             }
            },
            "type": "scatterpolar"
           }
          ],
          "scatterpolargl": [
           {
            "marker": {
             "colorbar": {
              "outlinewidth": 0,
              "ticks": ""
             }
            },
            "type": "scatterpolargl"
           }
          ],
          "scatterternary": [
           {
            "marker": {
             "colorbar": {
              "outlinewidth": 0,
              "ticks": ""
             }
            },
            "type": "scatterternary"
           }
          ],
          "surface": [
           {
            "colorbar": {
             "outlinewidth": 0,
             "ticks": ""
            },
            "colorscale": [
             [
              0,
              "#0d0887"
             ],
             [
              0.1111111111111111,
              "#46039f"
             ],
             [
              0.2222222222222222,
              "#7201a8"
             ],
             [
              0.3333333333333333,
              "#9c179e"
             ],
             [
              0.4444444444444444,
              "#bd3786"
             ],
             [
              0.5555555555555556,
              "#d8576b"
             ],
             [
              0.6666666666666666,
              "#ed7953"
             ],
             [
              0.7777777777777778,
              "#fb9f3a"
             ],
             [
              0.8888888888888888,
              "#fdca26"
             ],
             [
              1,
              "#f0f921"
             ]
            ],
            "type": "surface"
           }
          ],
          "table": [
           {
            "cells": {
             "fill": {
              "color": "#EBF0F8"
             },
             "line": {
              "color": "white"
             }
            },
            "header": {
             "fill": {
              "color": "#C8D4E3"
             },
             "line": {
              "color": "white"
             }
            },
            "type": "table"
           }
          ]
         },
         "layout": {
          "annotationdefaults": {
           "arrowcolor": "#2a3f5f",
           "arrowhead": 0,
           "arrowwidth": 1
          },
          "autotypenumbers": "strict",
          "coloraxis": {
           "colorbar": {
            "outlinewidth": 0,
            "ticks": ""
           }
          },
          "colorscale": {
           "diverging": [
            [
             0,
             "#8e0152"
            ],
            [
             0.1,
             "#c51b7d"
            ],
            [
             0.2,
             "#de77ae"
            ],
            [
             0.3,
             "#f1b6da"
            ],
            [
             0.4,
             "#fde0ef"
            ],
            [
             0.5,
             "#f7f7f7"
            ],
            [
             0.6,
             "#e6f5d0"
            ],
            [
             0.7,
             "#b8e186"
            ],
            [
             0.8,
             "#7fbc41"
            ],
            [
             0.9,
             "#4d9221"
            ],
            [
             1,
             "#276419"
            ]
           ],
           "sequential": [
            [
             0,
             "#0d0887"
            ],
            [
             0.1111111111111111,
             "#46039f"
            ],
            [
             0.2222222222222222,
             "#7201a8"
            ],
            [
             0.3333333333333333,
             "#9c179e"
            ],
            [
             0.4444444444444444,
             "#bd3786"
            ],
            [
             0.5555555555555556,
             "#d8576b"
            ],
            [
             0.6666666666666666,
             "#ed7953"
            ],
            [
             0.7777777777777778,
             "#fb9f3a"
            ],
            [
             0.8888888888888888,
             "#fdca26"
            ],
            [
             1,
             "#f0f921"
            ]
           ],
           "sequentialminus": [
            [
             0,
             "#0d0887"
            ],
            [
             0.1111111111111111,
             "#46039f"
            ],
            [
             0.2222222222222222,
             "#7201a8"
            ],
            [
             0.3333333333333333,
             "#9c179e"
            ],
            [
             0.4444444444444444,
             "#bd3786"
            ],
            [
             0.5555555555555556,
             "#d8576b"
            ],
            [
             0.6666666666666666,
             "#ed7953"
            ],
            [
             0.7777777777777778,
             "#fb9f3a"
            ],
            [
             0.8888888888888888,
             "#fdca26"
            ],
            [
             1,
             "#f0f921"
            ]
           ]
          },
          "colorway": [
           "#636efa",
           "#EF553B",
           "#00cc96",
           "#ab63fa",
           "#FFA15A",
           "#19d3f3",
           "#FF6692",
           "#B6E880",
           "#FF97FF",
           "#FECB52"
          ],
          "font": {
           "color": "#2a3f5f"
          },
          "geo": {
           "bgcolor": "white",
           "lakecolor": "white",
           "landcolor": "#E5ECF6",
           "showlakes": true,
           "showland": true,
           "subunitcolor": "white"
          },
          "hoverlabel": {
           "align": "left"
          },
          "hovermode": "closest",
          "mapbox": {
           "style": "light"
          },
          "paper_bgcolor": "white",
          "plot_bgcolor": "#E5ECF6",
          "polar": {
           "angularaxis": {
            "gridcolor": "white",
            "linecolor": "white",
            "ticks": ""
           },
           "bgcolor": "#E5ECF6",
           "radialaxis": {
            "gridcolor": "white",
            "linecolor": "white",
            "ticks": ""
           }
          },
          "scene": {
           "xaxis": {
            "backgroundcolor": "#E5ECF6",
            "gridcolor": "white",
            "gridwidth": 2,
            "linecolor": "white",
            "showbackground": true,
            "ticks": "",
            "zerolinecolor": "white"
           },
           "yaxis": {
            "backgroundcolor": "#E5ECF6",
            "gridcolor": "white",
            "gridwidth": 2,
            "linecolor": "white",
            "showbackground": true,
            "ticks": "",
            "zerolinecolor": "white"
           },
           "zaxis": {
            "backgroundcolor": "#E5ECF6",
            "gridcolor": "white",
            "gridwidth": 2,
            "linecolor": "white",
            "showbackground": true,
            "ticks": "",
            "zerolinecolor": "white"
           }
          },
          "shapedefaults": {
           "line": {
            "color": "#2a3f5f"
           }
          },
          "ternary": {
           "aaxis": {
            "gridcolor": "white",
            "linecolor": "white",
            "ticks": ""
           },
           "baxis": {
            "gridcolor": "white",
            "linecolor": "white",
            "ticks": ""
           },
           "bgcolor": "#E5ECF6",
           "caxis": {
            "gridcolor": "white",
            "linecolor": "white",
            "ticks": ""
           }
          },
          "title": {
           "x": 0.05
          },
          "xaxis": {
           "automargin": true,
           "gridcolor": "white",
           "linecolor": "white",
           "ticks": "",
           "title": {
            "standoff": 15
           },
           "zerolinecolor": "white",
           "zerolinewidth": 2
          },
          "yaxis": {
           "automargin": true,
           "gridcolor": "white",
           "linecolor": "white",
           "ticks": "",
           "title": {
            "standoff": 15
           },
           "zerolinecolor": "white",
           "zerolinewidth": 2
          }
         }
        },
        "title": {
         "text": "Hyperparameter Importances"
        },
        "xaxis": {
         "title": {
          "text": "Hyperparameter Importance"
         }
        },
        "yaxis": {
         "title": {
          "text": "Hyperparameter"
         }
        }
       }
      }
     },
     "metadata": {},
     "output_type": "display_data"
    }
   ],
   "source": [
    "optuna.visualization.plot_param_importances(studyRF)"
   ]
  },
  {
   "cell_type": "markdown",
   "metadata": {},
   "source": [
    "Validación"
   ]
  },
  {
   "cell_type": "code",
   "execution_count": 91,
   "metadata": {},
   "outputs": [
    {
     "name": "stdout",
     "output_type": "stream",
     "text": [
      "              precision    recall  f1-score   support\n",
      "\n",
      "         Low       1.00      1.00      1.00        63\n",
      "      Medium       1.00      1.00      1.00        72\n",
      "        High       1.00      1.00      1.00        65\n",
      "\n",
      "    accuracy                           1.00       200\n",
      "   macro avg       1.00      1.00      1.00       200\n",
      "weighted avg       1.00      1.00      1.00       200\n",
      "\n"
     ]
    },
    {
     "data": {
      "text/plain": [
       "<sklearn.metrics._plot.confusion_matrix.ConfusionMatrixDisplay at 0x2949060f340>"
      ]
     },
     "execution_count": 91,
     "metadata": {},
     "output_type": "execute_result"
    },
    {
     "data": {
      "image/png": "[encoded data removed]",
      "text/plain": [
       "<Figure size 640x480 with 2 Axes>"
      ]
     },
     "metadata": {},
     "output_type": "display_data"
    }
   ],
   "source": [
    "crit=studyRF.best_params['Criterion']\n",
    "depth=studyRF.best_params['Max_depth']\n",
    "n=studyRF.best_params['estimators']\n",
    "\n",
    "\n",
    "RF=ensemble.RandomForestClassifier(n_estimators=n,criterion=crit,max_depth=depth)\n",
    "RF.fit(X_train,y_train)\n",
    "\n",
    "#prediccion\n",
    "y_pred = RF.predict(X_val)\n",
    "\n",
    "#metricas\n",
    "print(metrics.classification_report(y_val,y_pred,target_names=['Low','Medium','High']))\n",
    "\n",
    "cm=metrics.confusion_matrix(y_val,y_pred)\n",
    "disp=metrics.ConfusionMatrixDisplay(cm,display_labels=['Low','Medium','High'])\n",
    "disp.plot()"
   ]
  },
  {
   "cell_type": "markdown",
   "metadata": {},
   "source": [
    "Finalmente, probaremos usando KNN"
   ]
  },
  {
   "cell_type": "code",
   "execution_count": 92,
   "metadata": {},
   "outputs": [
    {
     "name": "stderr",
     "output_type": "stream",
     "text": [
      "[I 2023-11-24 19:37:40,637] A new study created in memory with name: no-name-94d166e6-dab7-45d7-b063-b5c4b5b769b6\n",
      "[I 2023-11-24 19:37:40,646] Trial 0 finished with value: 1.0 and parameters: {'K': 2}. Best is trial 0 with value: 1.0.\n",
      "[I 2023-11-24 19:37:40,656] Trial 1 finished with value: 0.93 and parameters: {'K': 18}. Best is trial 0 with value: 1.0.\n",
      "[I 2023-11-24 19:37:40,666] Trial 2 finished with value: 0.94 and parameters: {'K': 13}. Best is trial 0 with value: 1.0.\n",
      "[I 2023-11-24 19:37:40,675] Trial 3 finished with value: 0.93 and parameters: {'K': 19}. Best is trial 0 with value: 1.0.\n",
      "[I 2023-11-24 19:37:40,685] Trial 4 finished with value: 1.0 and parameters: {'K': 6}. Best is trial 0 with value: 1.0.\n",
      "[I 2023-11-24 19:37:40,693] Trial 5 finished with value: 0.94 and parameters: {'K': 15}. Best is trial 0 with value: 1.0.\n",
      "[I 2023-11-24 19:37:40,702] Trial 6 finished with value: 0.975 and parameters: {'K': 8}. Best is trial 0 with value: 1.0.\n",
      "[I 2023-11-24 19:37:40,714] Trial 7 finished with value: 0.975 and parameters: {'K': 7}. Best is trial 0 with value: 1.0.\n",
      "[I 2023-11-24 19:37:40,737] Trial 8 finished with value: 0.93 and parameters: {'K': 19}. Best is trial 0 with value: 1.0.\n",
      "[I 2023-11-24 19:37:40,747] Trial 9 finished with value: 1.0 and parameters: {'K': 4}. Best is trial 0 with value: 1.0.\n",
      "[I 2023-11-24 19:37:40,760] Trial 10 finished with value: 1.0 and parameters: {'K': 1}. Best is trial 0 with value: 1.0.\n",
      "[I 2023-11-24 19:37:40,772] Trial 11 finished with value: 1.0 and parameters: {'K': 1}. Best is trial 0 with value: 1.0.\n",
      "[I 2023-11-24 19:37:40,784] Trial 12 finished with value: 1.0 and parameters: {'K': 5}. Best is trial 0 with value: 1.0.\n",
      "[I 2023-11-24 19:37:40,796] Trial 13 finished with value: 0.95 and parameters: {'K': 10}. Best is trial 0 with value: 1.0.\n",
      "[I 2023-11-24 19:37:40,809] Trial 14 finished with value: 1.0 and parameters: {'K': 4}. Best is trial 0 with value: 1.0.\n",
      "[I 2023-11-24 19:37:40,822] Trial 15 finished with value: 0.975 and parameters: {'K': 7}. Best is trial 0 with value: 1.0.\n",
      "[I 2023-11-24 19:37:40,835] Trial 16 finished with value: 1.0 and parameters: {'K': 3}. Best is trial 0 with value: 1.0.\n",
      "[I 2023-11-24 19:37:40,849] Trial 17 finished with value: 0.95 and parameters: {'K': 10}. Best is trial 0 with value: 1.0.\n",
      "[I 2023-11-24 19:37:40,863] Trial 18 finished with value: 1.0 and parameters: {'K': 6}. Best is trial 0 with value: 1.0.\n",
      "[I 2023-11-24 19:37:40,876] Trial 19 finished with value: 1.0 and parameters: {'K': 2}. Best is trial 0 with value: 1.0.\n",
      "[I 2023-11-24 19:37:40,889] Trial 20 finished with value: 0.94 and parameters: {'K': 13}. Best is trial 0 with value: 1.0.\n",
      "[I 2023-11-24 19:37:40,901] Trial 21 finished with value: 1.0 and parameters: {'K': 4}. Best is trial 0 with value: 1.0.\n",
      "[I 2023-11-24 19:37:40,915] Trial 22 finished with value: 1.0 and parameters: {'K': 3}. Best is trial 0 with value: 1.0.\n",
      "[I 2023-11-24 19:37:40,929] Trial 23 finished with value: 0.975 and parameters: {'K': 8}. Best is trial 0 with value: 1.0.\n",
      "[I 2023-11-24 19:37:40,942] Trial 24 finished with value: 1.0 and parameters: {'K': 5}. Best is trial 0 with value: 1.0.\n",
      "[I 2023-11-24 19:37:40,955] Trial 25 finished with value: 1.0 and parameters: {'K': 3}. Best is trial 0 with value: 1.0.\n",
      "[I 2023-11-24 19:37:40,967] Trial 26 finished with value: 1.0 and parameters: {'K': 1}. Best is trial 0 with value: 1.0.\n",
      "[I 2023-11-24 19:37:40,981] Trial 27 finished with value: 0.97 and parameters: {'K': 9}. Best is trial 0 with value: 1.0.\n",
      "[I 2023-11-24 19:37:40,993] Trial 28 finished with value: 1.0 and parameters: {'K': 6}. Best is trial 0 with value: 1.0.\n",
      "[I 2023-11-24 19:37:41,007] Trial 29 finished with value: 1.0 and parameters: {'K': 4}. Best is trial 0 with value: 1.0.\n",
      "[I 2023-11-24 19:37:41,021] Trial 30 finished with value: 0.945 and parameters: {'K': 12}. Best is trial 0 with value: 1.0.\n",
      "[I 2023-11-24 19:37:41,033] Trial 31 finished with value: 1.0 and parameters: {'K': 1}. Best is trial 0 with value: 1.0.\n",
      "[I 2023-11-24 19:37:41,046] Trial 32 finished with value: 1.0 and parameters: {'K': 2}. Best is trial 0 with value: 1.0.\n",
      "[I 2023-11-24 19:37:41,058] Trial 33 finished with value: 1.0 and parameters: {'K': 2}. Best is trial 0 with value: 1.0.\n",
      "[I 2023-11-24 19:37:41,072] Trial 34 finished with value: 1.0 and parameters: {'K': 5}. Best is trial 0 with value: 1.0.\n",
      "[I 2023-11-24 19:37:41,085] Trial 35 finished with value: 1.0 and parameters: {'K': 3}. Best is trial 0 with value: 1.0.\n",
      "[I 2023-11-24 19:37:41,099] Trial 36 finished with value: 0.94 and parameters: {'K': 16}. Best is trial 0 with value: 1.0.\n",
      "[I 2023-11-24 19:37:41,112] Trial 37 finished with value: 1.0 and parameters: {'K': 1}. Best is trial 0 with value: 1.0.\n",
      "[I 2023-11-24 19:37:41,125] Trial 38 finished with value: 1.0 and parameters: {'K': 6}. Best is trial 0 with value: 1.0.\n",
      "[I 2023-11-24 19:37:41,140] Trial 39 finished with value: 0.975 and parameters: {'K': 8}. Best is trial 0 with value: 1.0.\n",
      "[I 2023-11-24 19:37:41,154] Trial 40 finished with value: 1.0 and parameters: {'K': 4}. Best is trial 0 with value: 1.0.\n",
      "[I 2023-11-24 19:37:41,166] Trial 41 finished with value: 1.0 and parameters: {'K': 1}. Best is trial 0 with value: 1.0.\n",
      "[I 2023-11-24 19:37:41,180] Trial 42 finished with value: 1.0 and parameters: {'K': 2}. Best is trial 0 with value: 1.0.\n",
      "[I 2023-11-24 19:37:41,193] Trial 43 finished with value: 1.0 and parameters: {'K': 2}. Best is trial 0 with value: 1.0.\n",
      "[I 2023-11-24 19:37:41,207] Trial 44 finished with value: 1.0 and parameters: {'K': 5}. Best is trial 0 with value: 1.0.\n",
      "[I 2023-11-24 19:37:41,221] Trial 45 finished with value: 1.0 and parameters: {'K': 3}. Best is trial 0 with value: 1.0.\n",
      "[I 2023-11-24 19:37:41,235] Trial 46 finished with value: 0.93 and parameters: {'K': 20}. Best is trial 0 with value: 1.0.\n",
      "[I 2023-11-24 19:37:41,247] Trial 47 finished with value: 1.0 and parameters: {'K': 1}. Best is trial 0 with value: 1.0.\n",
      "[I 2023-11-24 19:37:41,261] Trial 48 finished with value: 0.975 and parameters: {'K': 7}. Best is trial 0 with value: 1.0.\n",
      "[I 2023-11-24 19:37:41,275] Trial 49 finished with value: 1.0 and parameters: {'K': 4}. Best is trial 0 with value: 1.0.\n",
      "[I 2023-11-24 19:37:41,289] Trial 50 finished with value: 1.0 and parameters: {'K': 2}. Best is trial 0 with value: 1.0.\n",
      "[I 2023-11-24 19:37:41,302] Trial 51 finished with value: 1.0 and parameters: {'K': 5}. Best is trial 0 with value: 1.0.\n",
      "[I 2023-11-24 19:37:41,316] Trial 52 finished with value: 1.0 and parameters: {'K': 3}. Best is trial 0 with value: 1.0.\n",
      "[I 2023-11-24 19:37:41,330] Trial 53 finished with value: 0.975 and parameters: {'K': 7}. Best is trial 0 with value: 1.0.\n",
      "[I 2023-11-24 19:37:41,344] Trial 54 finished with value: 1.0 and parameters: {'K': 6}. Best is trial 0 with value: 1.0.\n",
      "[I 2023-11-24 19:37:41,358] Trial 55 finished with value: 0.94 and parameters: {'K': 11}. Best is trial 0 with value: 1.0.\n",
      "[I 2023-11-24 19:37:41,371] Trial 56 finished with value: 1.0 and parameters: {'K': 4}. Best is trial 0 with value: 1.0.\n",
      "[I 2023-11-24 19:37:41,386] Trial 57 finished with value: 0.97 and parameters: {'K': 9}. Best is trial 0 with value: 1.0.\n",
      "[I 2023-11-24 19:37:41,400] Trial 58 finished with value: 1.0 and parameters: {'K': 3}. Best is trial 0 with value: 1.0.\n",
      "[I 2023-11-24 19:37:41,412] Trial 59 finished with value: 1.0 and parameters: {'K': 1}. Best is trial 0 with value: 1.0.\n",
      "[I 2023-11-24 19:37:41,427] Trial 60 finished with value: 0.94 and parameters: {'K': 16}. Best is trial 0 with value: 1.0.\n",
      "[I 2023-11-24 19:37:41,441] Trial 61 finished with value: 1.0 and parameters: {'K': 4}. Best is trial 0 with value: 1.0.\n",
      "[I 2023-11-24 19:37:41,455] Trial 62 finished with value: 1.0 and parameters: {'K': 2}. Best is trial 0 with value: 1.0.\n",
      "[I 2023-11-24 19:37:41,469] Trial 63 finished with value: 1.0 and parameters: {'K': 5}. Best is trial 0 with value: 1.0.\n",
      "[I 2023-11-24 19:37:41,482] Trial 64 finished with value: 1.0 and parameters: {'K': 3}. Best is trial 0 with value: 1.0.\n",
      "[I 2023-11-24 19:37:41,496] Trial 65 finished with value: 1.0 and parameters: {'K': 6}. Best is trial 0 with value: 1.0.\n",
      "[I 2023-11-24 19:37:41,510] Trial 66 finished with value: 1.0 and parameters: {'K': 2}. Best is trial 0 with value: 1.0.\n",
      "[I 2023-11-24 19:37:41,526] Trial 67 finished with value: 1.0 and parameters: {'K': 4}. Best is trial 0 with value: 1.0.\n",
      "[I 2023-11-24 19:37:41,539] Trial 68 finished with value: 1.0 and parameters: {'K': 1}. Best is trial 0 with value: 1.0.\n",
      "[I 2023-11-24 19:37:41,552] Trial 69 finished with value: 1.0 and parameters: {'K': 3}. Best is trial 0 with value: 1.0.\n",
      "[I 2023-11-24 19:37:41,567] Trial 70 finished with value: 1.0 and parameters: {'K': 5}. Best is trial 0 with value: 1.0.\n",
      "[I 2023-11-24 19:37:41,580] Trial 71 finished with value: 1.0 and parameters: {'K': 2}. Best is trial 0 with value: 1.0.\n",
      "[I 2023-11-24 19:37:41,593] Trial 72 finished with value: 1.0 and parameters: {'K': 3}. Best is trial 0 with value: 1.0.\n",
      "[I 2023-11-24 19:37:41,609] Trial 73 finished with value: 1.0 and parameters: {'K': 4}. Best is trial 0 with value: 1.0.\n",
      "[I 2023-11-24 19:37:41,622] Trial 74 finished with value: 1.0 and parameters: {'K': 1}. Best is trial 0 with value: 1.0.\n",
      "[I 2023-11-24 19:37:41,636] Trial 75 finished with value: 1.0 and parameters: {'K': 6}. Best is trial 0 with value: 1.0.\n",
      "[I 2023-11-24 19:37:41,651] Trial 76 finished with value: 0.975 and parameters: {'K': 7}. Best is trial 0 with value: 1.0.\n",
      "[I 2023-11-24 19:37:41,664] Trial 77 finished with value: 1.0 and parameters: {'K': 5}. Best is trial 0 with value: 1.0.\n",
      "[I 2023-11-24 19:37:41,678] Trial 78 finished with value: 1.0 and parameters: {'K': 2}. Best is trial 0 with value: 1.0.\n",
      "[I 2023-11-24 19:37:41,693] Trial 79 finished with value: 0.94 and parameters: {'K': 14}. Best is trial 0 with value: 1.0.\n",
      "[I 2023-11-24 19:37:41,708] Trial 80 finished with value: 0.975 and parameters: {'K': 8}. Best is trial 0 with value: 1.0.\n",
      "[I 2023-11-24 19:37:41,722] Trial 81 finished with value: 1.0 and parameters: {'K': 6}. Best is trial 0 with value: 1.0.\n",
      "[I 2023-11-24 19:37:41,736] Trial 82 finished with value: 1.0 and parameters: {'K': 4}. Best is trial 0 with value: 1.0.\n",
      "[I 2023-11-24 19:37:41,750] Trial 83 finished with value: 1.0 and parameters: {'K': 3}. Best is trial 0 with value: 1.0.\n",
      "[I 2023-11-24 19:37:41,764] Trial 84 finished with value: 1.0 and parameters: {'K': 5}. Best is trial 0 with value: 1.0.\n",
      "[I 2023-11-24 19:37:41,778] Trial 85 finished with value: 1.0 and parameters: {'K': 1}. Best is trial 0 with value: 1.0.\n",
      "[I 2023-11-24 19:37:41,790] Trial 86 finished with value: 1.0 and parameters: {'K': 2}. Best is trial 0 with value: 1.0.\n",
      "[I 2023-11-24 19:37:41,804] Trial 87 finished with value: 1.0 and parameters: {'K': 4}. Best is trial 0 with value: 1.0.\n",
      "[I 2023-11-24 19:37:41,819] Trial 88 finished with value: 1.0 and parameters: {'K': 3}. Best is trial 0 with value: 1.0.\n",
      "[I 2023-11-24 19:37:41,833] Trial 89 finished with value: 0.97 and parameters: {'K': 9}. Best is trial 0 with value: 1.0.\n",
      "[I 2023-11-24 19:37:41,847] Trial 90 finished with value: 0.975 and parameters: {'K': 8}. Best is trial 0 with value: 1.0.\n",
      "[I 2023-11-24 19:37:41,862] Trial 91 finished with value: 1.0 and parameters: {'K': 1}. Best is trial 0 with value: 1.0.\n",
      "[I 2023-11-24 19:37:41,875] Trial 92 finished with value: 1.0 and parameters: {'K': 2}. Best is trial 0 with value: 1.0.\n",
      "[I 2023-11-24 19:37:41,888] Trial 93 finished with value: 1.0 and parameters: {'K': 3}. Best is trial 0 with value: 1.0.\n",
      "[I 2023-11-24 19:37:41,902] Trial 94 finished with value: 1.0 and parameters: {'K': 2}. Best is trial 0 with value: 1.0.\n",
      "[I 2023-11-24 19:37:41,916] Trial 95 finished with value: 1.0 and parameters: {'K': 4}. Best is trial 0 with value: 1.0.\n",
      "[I 2023-11-24 19:37:41,931] Trial 96 finished with value: 0.975 and parameters: {'K': 7}. Best is trial 0 with value: 1.0.\n",
      "[I 2023-11-24 19:37:41,945] Trial 97 finished with value: 1.0 and parameters: {'K': 5}. Best is trial 0 with value: 1.0.\n",
      "[I 2023-11-24 19:37:41,960] Trial 98 finished with value: 1.0 and parameters: {'K': 1}. Best is trial 0 with value: 1.0.\n",
      "[I 2023-11-24 19:37:41,973] Trial 99 finished with value: 1.0 and parameters: {'K': 6}. Best is trial 0 with value: 1.0.\n"
     ]
    }
   ],
   "source": [
    "def objectiveKNN(trial):\n",
    "    k=trial.suggest_int('K',1,20)\n",
    "\n",
    "    #entrenamiento\n",
    "    KNN=neighbors.KNeighborsClassifier(n_neighbors=k)\n",
    "    KNN.fit(X_train,y_train)\n",
    " \n",
    "    #prediccion\n",
    "    y_pred = KNN.predict(X_test)\n",
    "\n",
    "    #metrica\n",
    "    recall=metrics.recall_score(y_test,y_pred,average='micro')\n",
    "    return recall\n",
    "\n",
    "studyKNN = optuna.create_study(direction='maximize')\n",
    "studyKNN.optimize(objectiveKNN, n_trials=100)"
   ]
  },
  {
   "cell_type": "markdown",
   "metadata": {},
   "source": [
    "Mejores parametros"
   ]
  },
  {
   "cell_type": "code",
   "execution_count": 93,
   "metadata": {},
   "outputs": [
    {
     "name": "stdout",
     "output_type": "stream",
     "text": [
      "{'K': 2}\n"
     ]
    },
    {
     "data": {
      "application/vnd.plotly.v1+json": {
       "config": {
        "plotlyServerURL": "https://plot.ly"
       },
       "data": [
        {
         "mode": "markers",
         "name": "Objective Value",
         "type": "scatter",
         "x": [
          0,
          1,
          2,
          3,
          4,
          5,
          6,
          7,
          8,
          9,
          10,
          11,
          12,
          13,
          14,
          15,
          16,
          17,
          18,
          19,
          20,
          21,
          22,
          23,
          24,
          25,
          26,
          27,
          28,
          29,
          30,
          31,
          32,
          33,
          34,
          35,
          36,
          37,
          38,
          39,
          40,
          41,
          42,
          43,
          44,
          45,
          46,
          47,
          48,
          49,
          50,
          51,
          52,
          53,
          54,
          55,
          56,
          57,
          58,
          59,
          60,
          61,
          62,
          63,
          64,
          65,
          66,
          67,
          68,
          69,
          70,
          71,
          72,
          73,
          74,
          75,
          76,
          77,
          78,
          79,
          80,
          81,
          82,
          83,
          84,
          85,
          86,
          87,
          88,
          89,
          90,
          91,
          92,
          93,
          94,
          95,
          96,
          97,
          98,
          99
         ],
         "y": [
          1,
          0.93,
          0.94,
          0.93,
          1,
          0.94,
          0.975,
          0.975,
          0.93,
          1,
          1,
          1,
          1,
          0.95,
          1,
          0.975,
          1,
          0.95,
          1,
          1,
          0.94,
          1,
          1,
          0.975,
          1,
          1,
          1,
          0.97,
          1,
          1,
          0.945,
          1,
          1,
          1,
          1,
          1,
          0.94,
          1,
          1,
          0.975,
          1,
          1,
          1,
          1,
          1,
          1,
          0.93,
          1,
          0.975,
          1,
          1,
          1,
          1,
          0.975,
          1,
          0.94,
          1,
          0.97,
          1,
          1,
          0.94,
          1,
          1,
          1,
          1,
          1,
          1,
          1,
          1,
          1,
          1,
          1,
          1,
          1,
          1,
          1,
          0.975,
          1,
          1,
          0.94,
          0.975,
          1,
          1,
          1,
          1,
          1,
          1,
          1,
          1,
          0.97,
          0.975,
          1,
          1,
          1,
          1,
          1,
          0.975,
          1,
          1,
          1
         ]
        },
        {
         "mode": "lines",
         "name": "Best Value",
         "type": "scatter",
         "x": [
          0,
          1,
          2,
          3,
          4,
          5,
          6,
          7,
          8,
          9,
          10,
          11,
          12,
          13,
          14,
          15,
          16,
          17,
          18,
          19,
          20,
          21,
          22,
          23,
          24,
          25,
          26,
          27,
          28,
          29,
          30,
          31,
          32,
          33,
          34,
          35,
          36,
          37,
          38,
          39,
          40,
          41,
          42,
          43,
          44,
          45,
          46,
          47,
          48,
          49,
          50,
          51,
          52,
          53,
          54,
          55,
          56,
          57,
          58,
          59,
          60,
          61,
          62,
          63,
          64,
          65,
          66,
          67,
          68,
          69,
          70,
          71,
          72,
          73,
          74,
          75,
          76,
          77,
          78,
          79,
          80,
          81,
          82,
          83,
          84,
          85,
          86,
          87,
          88,
          89,
          90,
          91,
          92,
          93,
          94,
          95,
          96,
          97,
          98,
          99
         ],
         "y": [
          1,
          1,
          1,
          1,
          1,
          1,
          1,
          1,
          1,
          1,
          1,
          1,
          1,
          1,
          1,
          1,
          1,
          1,
          1,
          1,
          1,
          1,
          1,
          1,
          1,
          1,
          1,
          1,
          1,
          1,
          1,
          1,
          1,
          1,
          1,
          1,
          1,
          1,
          1,
          1,
          1,
          1,
          1,
          1,
          1,
          1,
          1,
          1,
          1,
          1,
          1,
          1,
          1,
          1,
          1,
          1,
          1,
          1,
          1,
          1,
          1,
          1,
          1,
          1,
          1,
          1,
          1,
          1,
          1,
          1,
          1,
          1,
          1,
          1,
          1,
          1,
          1,
          1,
          1,
          1,
          1,
          1,
          1,
          1,
          1,
          1,
          1,
          1,
          1,
          1,
          1,
          1,
          1,
          1,
          1,
          1,
          1,
          1,
          1,
          1
         ]
        },
        {
         "marker": {
          "color": "#cccccc"
         },
         "mode": "markers",
         "name": "Infeasible Trial",
         "showlegend": false,
         "type": "scatter",
         "x": [],
         "y": []
        }
       ],
       "layout": {
        "template": {
         "data": {
          "bar": [
           {
            "error_x": {
             "color": "#2a3f5f"
            },
            "error_y": {
             "color": "#2a3f5f"
            },
            "marker": {
             "line": {
              "color": "#E5ECF6",
              "width": 0.5
             },
             "pattern": {
              "fillmode": "overlay",
              "size": 10,
              "solidity": 0.2
             }
            },
            "type": "bar"
           }
          ],
          "barpolar": [
           {
            "marker": {
             "line": {
              "color": "#E5ECF6",
              "width": 0.5
             },
             "pattern": {
              "fillmode": "overlay",
              "size": 10,
              "solidity": 0.2
             }
            },
            "type": "barpolar"
           }
          ],
          "carpet": [
           {
            "aaxis": {
             "endlinecolor": "#2a3f5f",
             "gridcolor": "white",
             "linecolor": "white",
             "minorgridcolor": "white",
             "startlinecolor": "#2a3f5f"
            },
            "baxis": {
             "endlinecolor": "#2a3f5f",
             "gridcolor": "white",
             "linecolor": "white",
             "minorgridcolor": "white",
             "startlinecolor": "#2a3f5f"
            },
            "type": "carpet"
           }
          ],
          "choropleth": [
           {
            "colorbar": {
             "outlinewidth": 0,
             "ticks": ""
            },
            "type": "choropleth"
           }
          ],
          "contour": [
           {
            "colorbar": {
             "outlinewidth": 0,
             "ticks": ""
            },
            "colorscale": [
             [
              0,
              "#0d0887"
             ],
             [
              0.1111111111111111,
              "#46039f"
             ],
             [
              0.2222222222222222,
              "#7201a8"
             ],
             [
              0.3333333333333333,
              "#9c179e"
             ],
             [
              0.4444444444444444,
              "#bd3786"
             ],
             [
              0.5555555555555556,
              "#d8576b"
             ],
             [
              0.6666666666666666,
              "#ed7953"
             ],
             [
              0.7777777777777778,
              "#fb9f3a"
             ],
             [
              0.8888888888888888,
              "#fdca26"
             ],
             [
              1,
              "#f0f921"
             ]
            ],
            "type": "contour"
           }
          ],
          "contourcarpet": [
           {
            "colorbar": {
             "outlinewidth": 0,
             "ticks": ""
            },
            "type": "contourcarpet"
           }
          ],
          "heatmap": [
           {
            "colorbar": {
             "outlinewidth": 0,
             "ticks": ""
            },
            "colorscale": [
             [
              0,
              "#0d0887"
             ],
             [
              0.1111111111111111,
              "#46039f"
             ],
             [
              0.2222222222222222,
              "#7201a8"
             ],
             [
              0.3333333333333333,
              "#9c179e"
             ],
             [
              0.4444444444444444,
              "#bd3786"
             ],
             [
              0.5555555555555556,
              "#d8576b"
             ],
             [
              0.6666666666666666,
              "#ed7953"
             ],
             [
              0.7777777777777778,
              "#fb9f3a"
             ],
             [
              0.8888888888888888,
              "#fdca26"
             ],
             [
              1,
              "#f0f921"
             ]
            ],
            "type": "heatmap"
           }
          ],
          "heatmapgl": [
           {
            "colorbar": {
             "outlinewidth": 0,
             "ticks": ""
            },
            "colorscale": [
             [
              0,
              "#0d0887"
             ],
             [
              0.1111111111111111,
              "#46039f"
             ],
             [
              0.2222222222222222,
              "#7201a8"
             ],
             [
              0.3333333333333333,
              "#9c179e"
             ],
             [
              0.4444444444444444,
              "#bd3786"
             ],
             [
              0.5555555555555556,
              "#d8576b"
             ],
             [
              0.6666666666666666,
              "#ed7953"
             ],
             [
              0.7777777777777778,
              "#fb9f3a"
             ],
             [
              0.8888888888888888,
              "#fdca26"
             ],
             [
              1,
              "#f0f921"
             ]
            ],
            "type": "heatmapgl"
           }
          ],
          "histogram": [
           {
            "marker": {
             "pattern": {
              "fillmode": "overlay",
              "size": 10,
              "solidity": 0.2
             }
            },
            "type": "histogram"
           }
          ],
          "histogram2d": [
           {
            "colorbar": {
             "outlinewidth": 0,
             "ticks": ""
            },
            "colorscale": [
             [
              0,
              "#0d0887"
             ],
             [
              0.1111111111111111,
              "#46039f"
             ],
             [
              0.2222222222222222,
              "#7201a8"
             ],
             [
              0.3333333333333333,
              "#9c179e"
             ],
             [
              0.4444444444444444,
              "#bd3786"
             ],
             [
              0.5555555555555556,
              "#d8576b"
             ],
             [
              0.6666666666666666,
              "#ed7953"
             ],
             [
              0.7777777777777778,
              "#fb9f3a"
             ],
             [
              0.8888888888888888,
              "#fdca26"
             ],
             [
              1,
              "#f0f921"
             ]
            ],
            "type": "histogram2d"
           }
          ],
          "histogram2dcontour": [
           {
            "colorbar": {
             "outlinewidth": 0,
             "ticks": ""
            },
            "colorscale": [
             [
              0,
              "#0d0887"
             ],
             [
              0.1111111111111111,
              "#46039f"
             ],
             [
              0.2222222222222222,
              "#7201a8"
             ],
             [
              0.3333333333333333,
              "#9c179e"
             ],
             [
              0.4444444444444444,
              "#bd3786"
             ],
             [
              0.5555555555555556,
              "#d8576b"
             ],
             [
              0.6666666666666666,
              "#ed7953"
             ],
             [
              0.7777777777777778,
              "#fb9f3a"
             ],
             [
              0.8888888888888888,
              "#fdca26"
             ],
             [
              1,
              "#f0f921"
             ]
            ],
            "type": "histogram2dcontour"
           }
          ],
          "mesh3d": [
           {
            "colorbar": {
             "outlinewidth": 0,
             "ticks": ""
            },
            "type": "mesh3d"
           }
          ],
          "parcoords": [
           {
            "line": {
             "colorbar": {
              "outlinewidth": 0,
              "ticks": ""
             }
            },
            "type": "parcoords"
           }
          ],
          "pie": [
           {
            "automargin": true,
            "type": "pie"
           }
          ],
          "scatter": [
           {
            "fillpattern": {
             "fillmode": "overlay",
             "size": 10,
             "solidity": 0.2
            },
            "type": "scatter"
           }
          ],
          "scatter3d": [
           {
            "line": {
             "colorbar": {
              "outlinewidth": 0,
              "ticks": ""
             }
            },
            "marker": {
             "colorbar": {
              "outlinewidth": 0,
              "ticks": ""
             }
            },
            "type": "scatter3d"
           }
          ],
          "scattercarpet": [
           {
            "marker": {
             "colorbar": {
              "outlinewidth": 0,
              "ticks": ""
             }
            },
            "type": "scattercarpet"
           }
          ],
          "scattergeo": [
           {
            "marker": {
             "colorbar": {
              "outlinewidth": 0,
              "ticks": ""
             }
            },
            "type": "scattergeo"
           }
          ],
          "scattergl": [
           {
            "marker": {
             "colorbar": {
              "outlinewidth": 0,
              "ticks": ""
             }
            },
            "type": "scattergl"
           }
          ],
          "scattermapbox": [
           {
            "marker": {
             "colorbar": {
              "outlinewidth": 0,
              "ticks": ""
             }
            },
            "type": "scattermapbox"
           }
          ],
          "scatterpolar": [
           {
            "marker": {
             "colorbar": {
              "outlinewidth": 0,
              "ticks": ""
             }
            },
            "type": "scatterpolar"
           }
          ],
          "scatterpolargl": [
           {
            "marker": {
             "colorbar": {
              "outlinewidth": 0,
              "ticks": ""
             }
            },
            "type": "scatterpolargl"
           }
          ],
          "scatterternary": [
           {
            "marker": {
             "colorbar": {
              "outlinewidth": 0,
              "ticks": ""
             }
            },
            "type": "scatterternary"
           }
          ],
          "surface": [
           {
            "colorbar": {
             "outlinewidth": 0,
             "ticks": ""
            },
            "colorscale": [
             [
              0,
              "#0d0887"
             ],
             [
              0.1111111111111111,
              "#46039f"
             ],
             [
              0.2222222222222222,
              "#7201a8"
             ],
             [
              0.3333333333333333,
              "#9c179e"
             ],
             [
              0.4444444444444444,
              "#bd3786"
             ],
             [
              0.5555555555555556,
              "#d8576b"
             ],
             [
              0.6666666666666666,
              "#ed7953"
             ],
             [
              0.7777777777777778,
              "#fb9f3a"
             ],
             [
              0.8888888888888888,
              "#fdca26"
             ],
             [
              1,
              "#f0f921"
             ]
            ],
            "type": "surface"
           }
          ],
          "table": [
           {
            "cells": {
             "fill": {
              "color": "#EBF0F8"
             },
             "line": {
              "color": "white"
             }
            },
            "header": {
             "fill": {
              "color": "#C8D4E3"
             },
             "line": {
              "color": "white"
             }
            },
            "type": "table"
           }
          ]
         },
         "layout": {
          "annotationdefaults": {
           "arrowcolor": "#2a3f5f",
           "arrowhead": 0,
           "arrowwidth": 1
          },
          "autotypenumbers": "strict",
          "coloraxis": {
           "colorbar": {
            "outlinewidth": 0,
            "ticks": ""
           }
          },
          "colorscale": {
           "diverging": [
            [
             0,
             "#8e0152"
            ],
            [
             0.1,
             "#c51b7d"
            ],
            [
             0.2,
             "#de77ae"
            ],
            [
             0.3,
             "#f1b6da"
            ],
            [
             0.4,
             "#fde0ef"
            ],
            [
             0.5,
             "#f7f7f7"
            ],
            [
             0.6,
             "#e6f5d0"
            ],
            [
             0.7,
             "#b8e186"
            ],
            [
             0.8,
             "#7fbc41"
            ],
            [
             0.9,
             "#4d9221"
            ],
            [
             1,
             "#276419"
            ]
           ],
           "sequential": [
            [
             0,
             "#0d0887"
            ],
            [
             0.1111111111111111,
             "#46039f"
            ],
            [
             0.2222222222222222,
             "#7201a8"
            ],
            [
             0.3333333333333333,
             "#9c179e"
            ],
            [
             0.4444444444444444,
             "#bd3786"
            ],
            [
             0.5555555555555556,
             "#d8576b"
            ],
            [
             0.6666666666666666,
             "#ed7953"
            ],
            [
             0.7777777777777778,
             "#fb9f3a"
            ],
            [
             0.8888888888888888,
             "#fdca26"
            ],
            [
             1,
             "#f0f921"
            ]
           ],
           "sequentialminus": [
            [
             0,
             "#0d0887"
            ],
            [
             0.1111111111111111,
             "#46039f"
            ],
            [
             0.2222222222222222,
             "#7201a8"
            ],
            [
             0.3333333333333333,
             "#9c179e"
            ],
            [
             0.4444444444444444,
             "#bd3786"
            ],
            [
             0.5555555555555556,
             "#d8576b"
            ],
            [
             0.6666666666666666,
             "#ed7953"
            ],
            [
             0.7777777777777778,
             "#fb9f3a"
            ],
            [
             0.8888888888888888,
             "#fdca26"
            ],
            [
             1,
             "#f0f921"
            ]
           ]
          },
          "colorway": [
           "#636efa",
           "#EF553B",
           "#00cc96",
           "#ab63fa",
           "#FFA15A",
           "#19d3f3",
           "#FF6692",
           "#B6E880",
           "#FF97FF",
           "#FECB52"
          ],
          "font": {
           "color": "#2a3f5f"
          },
          "geo": {
           "bgcolor": "white",
           "lakecolor": "white",
           "landcolor": "#E5ECF6",
           "showlakes": true,
           "showland": true,
           "subunitcolor": "white"
          },
          "hoverlabel": {
           "align": "left"
          },
          "hovermode": "closest",
          "mapbox": {
           "style": "light"
          },
          "paper_bgcolor": "white",
          "plot_bgcolor": "#E5ECF6",
          "polar": {
           "angularaxis": {
            "gridcolor": "white",
            "linecolor": "white",
            "ticks": ""
           },
           "bgcolor": "#E5ECF6",
           "radialaxis": {
            "gridcolor": "white",
            "linecolor": "white",
            "ticks": ""
           }
          },
          "scene": {
           "xaxis": {
            "backgroundcolor": "#E5ECF6",
            "gridcolor": "white",
            "gridwidth": 2,
            "linecolor": "white",
            "showbackground": true,
            "ticks": "",
            "zerolinecolor": "white"
           },
           "yaxis": {
            "backgroundcolor": "#E5ECF6",
            "gridcolor": "white",
            "gridwidth": 2,
            "linecolor": "white",
            "showbackground": true,
            "ticks": "",
            "zerolinecolor": "white"
           },
           "zaxis": {
            "backgroundcolor": "#E5ECF6",
            "gridcolor": "white",
            "gridwidth": 2,
            "linecolor": "white",
            "showbackground": true,
            "ticks": "",
            "zerolinecolor": "white"
           }
          },
          "shapedefaults": {
           "line": {
            "color": "#2a3f5f"
           }
          },
          "ternary": {
           "aaxis": {
            "gridcolor": "white",
            "linecolor": "white",
            "ticks": ""
           },
           "baxis": {
            "gridcolor": "white",
            "linecolor": "white",
            "ticks": ""
           },
           "bgcolor": "#E5ECF6",
           "caxis": {
            "gridcolor": "white",
            "linecolor": "white",
            "ticks": ""
           }
          },
          "title": {
           "x": 0.05
          },
          "xaxis": {
           "automargin": true,
           "gridcolor": "white",
           "linecolor": "white",
           "ticks": "",
           "title": {
            "standoff": 15
           },
           "zerolinecolor": "white",
           "zerolinewidth": 2
          },
          "yaxis": {
           "automargin": true,
           "gridcolor": "white",
           "linecolor": "white",
           "ticks": "",
           "title": {
            "standoff": 15
           },
           "zerolinecolor": "white",
           "zerolinewidth": 2
          }
         }
        },
        "title": {
         "text": "Optimization History Plot"
        },
        "xaxis": {
         "title": {
          "text": "Trial"
         }
        },
        "yaxis": {
         "title": {
          "text": "Objective Value"
         }
        }
       }
      }
     },
     "metadata": {},
     "output_type": "display_data"
    }
   ],
   "source": [
    "print(studyKNN.best_params)\n",
    "optuna.visualization.plot_optimization_history(studyKNN)"
   ]
  },
  {
   "cell_type": "code",
   "execution_count": 94,
   "metadata": {},
   "outputs": [
    {
     "data": {
      "application/vnd.plotly.v1+json": {
       "config": {
        "plotlyServerURL": "https://plot.ly"
       },
       "data": [
        {
         "dimensions": [
          {
           "label": "Objective Value",
           "range": [
            0.93,
            1
           ],
           "values": [
            1,
            0.93,
            0.94,
            0.93,
            1,
            0.94,
            0.975,
            0.975,
            0.93,
            1,
            1,
            1,
            1,
            0.95,
            1,
            0.975,
            1,
            0.95,
            1,
            1,
            0.94,
            1,
            1,
            0.975,
            1,
            1,
            1,
            0.97,
            1,
            1,
            0.945,
            1,
            1,
            1,
            1,
            1,
            0.94,
            1,
            1,
            0.975,
            1,
            1,
            1,
            1,
            1,
            1,
            0.93,
            1,
            0.975,
            1,
            1,
            1,
            1,
            0.975,
            1,
            0.94,
            1,
            0.97,
            1,
            1,
            0.94,
            1,
            1,
            1,
            1,
            1,
            1,
            1,
            1,
            1,
            1,
            1,
            1,
            1,
            1,
            1,
            0.975,
            1,
            1,
            0.94,
            0.975,
            1,
            1,
            1,
            1,
            1,
            1,
            1,
            1,
            0.97,
            0.975,
            1,
            1,
            1,
            1,
            1,
            0.975,
            1,
            1,
            1
           ]
          },
          {
           "label": "K",
           "range": [
            1,
            20
           ],
           "values": [
            2,
            18,
            13,
            19,
            6,
            15,
            8,
            7,
            19,
            4,
            1,
            1,
            5,
            10,
            4,
            7,
            3,
            10,
            6,
            2,
            13,
            4,
            3,
            8,
            5,
            3,
            1,
            9,
            6,
            4,
            12,
            1,
            2,
            2,
            5,
            3,
            16,
            1,
            6,
            8,
            4,
            1,
            2,
            2,
            5,
            3,
            20,
            1,
            7,
            4,
            2,
            5,
            3,
            7,
            6,
            11,
            4,
            9,
            3,
            1,
            16,
            4,
            2,
            5,
            3,
            6,
            2,
            4,
            1,
            3,
            5,
            2,
            3,
            4,
            1,
            6,
            7,
            5,
            2,
            14,
            8,
            6,
            4,
            3,
            5,
            1,
            2,
            4,
            3,
            9,
            8,
            1,
            2,
            3,
            2,
            4,
            7,
            5,
            1,
            6
           ]
          }
         ],
         "labelangle": 30,
         "labelside": "bottom",
         "line": {
          "color": [
           1,
           0.93,
           0.94,
           0.93,
           1,
           0.94,
           0.975,
           0.975,
           0.93,
           1,
           1,
           1,
           1,
           0.95,
           1,
           0.975,
           1,
           0.95,
           1,
           1,
           0.94,
           1,
           1,
           0.975,
           1,
           1,
           1,
           0.97,
           1,
           1,
           0.945,
           1,
           1,
           1,
           1,
           1,
           0.94,
           1,
           1,
           0.975,
           1,
           1,
           1,
           1,
           1,
           1,
           0.93,
           1,
           0.975,
           1,
           1,
           1,
           1,
           0.975,
           1,
           0.94,
           1,
           0.97,
           1,
           1,
           0.94,
           1,
           1,
           1,
           1,
           1,
           1,
           1,
           1,
           1,
           1,
           1,
           1,
           1,
           1,
           1,
           0.975,
           1,
           1,
           0.94,
           0.975,
           1,
           1,
           1,
           1,
           1,
           1,
           1,
           1,
           0.97,
           0.975,
           1,
           1,
           1,
           1,
           1,
           0.975,
           1,
           1,
           1
          ],
          "colorbar": {
           "title": {
            "text": "Objective Value"
           }
          },
          "colorscale": [
           [
            0,
            "rgb(247,251,255)"
           ],
           [
            0.125,
            "rgb(222,235,247)"
           ],
           [
            0.25,
            "rgb(198,219,239)"
           ],
           [
            0.375,
            "rgb(158,202,225)"
           ],
           [
            0.5,
            "rgb(107,174,214)"
           ],
           [
            0.625,
            "rgb(66,146,198)"
           ],
           [
            0.75,
            "rgb(33,113,181)"
           ],
           [
            0.875,
            "rgb(8,81,156)"
           ],
           [
            1,
            "rgb(8,48,107)"
           ]
          ],
          "reversescale": false,
          "showscale": true
         },
         "type": "parcoords"
        }
       ],
       "layout": {
        "template": {
         "data": {
          "bar": [
           {
            "error_x": {
             "color": "#2a3f5f"
            },
            "error_y": {
             "color": "#2a3f5f"
            },
            "marker": {
             "line": {
              "color": "#E5ECF6",
              "width": 0.5
             },
             "pattern": {
              "fillmode": "overlay",
              "size": 10,
              "solidity": 0.2
             }
            },
            "type": "bar"
           }
          ],
          "barpolar": [
           {
            "marker": {
             "line": {
              "color": "#E5ECF6",
              "width": 0.5
             },
             "pattern": {
              "fillmode": "overlay",
              "size": 10,
              "solidity": 0.2
             }
            },
            "type": "barpolar"
           }
          ],
          "carpet": [
           {
            "aaxis": {
             "endlinecolor": "#2a3f5f",
             "gridcolor": "white",
             "linecolor": "white",
             "minorgridcolor": "white",
             "startlinecolor": "#2a3f5f"
            },
            "baxis": {
             "endlinecolor": "#2a3f5f",
             "gridcolor": "white",
             "linecolor": "white",
             "minorgridcolor": "white",
             "startlinecolor": "#2a3f5f"
            },
            "type": "carpet"
           }
          ],
          "choropleth": [
           {
            "colorbar": {
             "outlinewidth": 0,
             "ticks": ""
            },
            "type": "choropleth"
           }
          ],
          "contour": [
           {
            "colorbar": {
             "outlinewidth": 0,
             "ticks": ""
            },
            "colorscale": [
             [
              0,
              "#0d0887"
             ],
             [
              0.1111111111111111,
              "#46039f"
             ],
             [
              0.2222222222222222,
              "#7201a8"
             ],
             [
              0.3333333333333333,
              "#9c179e"
             ],
             [
              0.4444444444444444,
              "#bd3786"
             ],
             [
              0.5555555555555556,
              "#d8576b"
             ],
             [
              0.6666666666666666,
              "#ed7953"
             ],
             [
              0.7777777777777778,
              "#fb9f3a"
             ],
             [
              0.8888888888888888,
              "#fdca26"
             ],
             [
              1,
              "#f0f921"
             ]
            ],
            "type": "contour"
           }
          ],
          "contourcarpet": [
           {
            "colorbar": {
             "outlinewidth": 0,
             "ticks": ""
            },
            "type": "contourcarpet"
           }
          ],
          "heatmap": [
           {
            "colorbar": {
             "outlinewidth": 0,
             "ticks": ""
            },
            "colorscale": [
             [
              0,
              "#0d0887"
             ],
             [
              0.1111111111111111,
              "#46039f"
             ],
             [
              0.2222222222222222,
              "#7201a8"
             ],
             [
              0.3333333333333333,
              "#9c179e"
             ],
             [
              0.4444444444444444,
              "#bd3786"
             ],
             [
              0.5555555555555556,
              "#d8576b"
             ],
             [
              0.6666666666666666,
              "#ed7953"
             ],
             [
              0.7777777777777778,
              "#fb9f3a"
             ],
             [
              0.8888888888888888,
              "#fdca26"
             ],
             [
              1,
              "#f0f921"
             ]
            ],
            "type": "heatmap"
           }
          ],
          "heatmapgl": [
           {
            "colorbar": {
             "outlinewidth": 0,
             "ticks": ""
            },
            "colorscale": [
             [
              0,
              "#0d0887"
             ],
             [
              0.1111111111111111,
              "#46039f"
             ],
             [
              0.2222222222222222,
              "#7201a8"
             ],
             [
              0.3333333333333333,
              "#9c179e"
             ],
             [
              0.4444444444444444,
              "#bd3786"
             ],
             [
              0.5555555555555556,
              "#d8576b"
             ],
             [
              0.6666666666666666,
              "#ed7953"
             ],
             [
              0.7777777777777778,
              "#fb9f3a"
             ],
             [
              0.8888888888888888,
              "#fdca26"
             ],
             [
              1,
              "#f0f921"
             ]
            ],
            "type": "heatmapgl"
           }
          ],
          "histogram": [
           {
            "marker": {
             "pattern": {
              "fillmode": "overlay",
              "size": 10,
              "solidity": 0.2
             }
            },
            "type": "histogram"
           }
          ],
          "histogram2d": [
           {
            "colorbar": {
             "outlinewidth": 0,
             "ticks": ""
            },
            "colorscale": [
             [
              0,
              "#0d0887"
             ],
             [
              0.1111111111111111,
              "#46039f"
             ],
             [
              0.2222222222222222,
              "#7201a8"
             ],
             [
              0.3333333333333333,
              "#9c179e"
             ],
             [
              0.4444444444444444,
              "#bd3786"
             ],
             [
              0.5555555555555556,
              "#d8576b"
             ],
             [
              0.6666666666666666,
              "#ed7953"
             ],
             [
              0.7777777777777778,
              "#fb9f3a"
             ],
             [
              0.8888888888888888,
              "#fdca26"
             ],
             [
              1,
              "#f0f921"
             ]
            ],
            "type": "histogram2d"
           }
          ],
          "histogram2dcontour": [
           {
            "colorbar": {
             "outlinewidth": 0,
             "ticks": ""
            },
            "colorscale": [
             [
              0,
              "#0d0887"
             ],
             [
              0.1111111111111111,
              "#46039f"
             ],
             [
              0.2222222222222222,
              "#7201a8"
             ],
             [
              0.3333333333333333,
              "#9c179e"
             ],
             [
              0.4444444444444444,
              "#bd3786"
             ],
             [
              0.5555555555555556,
              "#d8576b"
             ],
             [
              0.6666666666666666,
              "#ed7953"
             ],
             [
              0.7777777777777778,
              "#fb9f3a"
             ],
             [
              0.8888888888888888,
              "#fdca26"
             ],
             [
              1,
              "#f0f921"
             ]
            ],
            "type": "histogram2dcontour"
           }
          ],
          "mesh3d": [
           {
            "colorbar": {
             "outlinewidth": 0,
             "ticks": ""
            },
            "type": "mesh3d"
           }
          ],
          "parcoords": [
           {
            "line": {
             "colorbar": {
              "outlinewidth": 0,
              "ticks": ""
             }
            },
            "type": "parcoords"
           }
          ],
          "pie": [
           {
            "automargin": true,
            "type": "pie"
           }
          ],
          "scatter": [
           {
            "fillpattern": {
             "fillmode": "overlay",
             "size": 10,
             "solidity": 0.2
            },
            "type": "scatter"
           }
          ],
          "scatter3d": [
           {
            "line": {
             "colorbar": {
              "outlinewidth": 0,
              "ticks": ""
             }
            },
            "marker": {
             "colorbar": {
              "outlinewidth": 0,
              "ticks": ""
             }
            },
            "type": "scatter3d"
           }
          ],
          "scattercarpet": [
           {
            "marker": {
             "colorbar": {
              "outlinewidth": 0,
              "ticks": ""
             }
            },
            "type": "scattercarpet"
           }
          ],
          "scattergeo": [
           {
            "marker": {
             "colorbar": {
              "outlinewidth": 0,
              "ticks": ""
             }
            },
            "type": "scattergeo"
           }
          ],
          "scattergl": [
           {
            "marker": {
             "colorbar": {
              "outlinewidth": 0,
              "ticks": ""
             }
            },
            "type": "scattergl"
           }
          ],
          "scattermapbox": [
           {
            "marker": {
             "colorbar": {
              "outlinewidth": 0,
              "ticks": ""
             }
            },
            "type": "scattermapbox"
           }
          ],
          "scatterpolar": [
           {
            "marker": {
             "colorbar": {
              "outlinewidth": 0,
              "ticks": ""
             }
            },
            "type": "scatterpolar"
           }
          ],
          "scatterpolargl": [
           {
            "marker": {
             "colorbar": {
              "outlinewidth": 0,
              "ticks": ""
             }
            },
            "type": "scatterpolargl"
           }
          ],
          "scatterternary": [
           {
            "marker": {
             "colorbar": {
              "outlinewidth": 0,
              "ticks": ""
             }
            },
            "type": "scatterternary"
           }
          ],
          "surface": [
           {
            "colorbar": {
             "outlinewidth": 0,
             "ticks": ""
            },
            "colorscale": [
             [
              0,
              "#0d0887"
             ],
             [
              0.1111111111111111,
              "#46039f"
             ],
             [
              0.2222222222222222,
              "#7201a8"
             ],
             [
              0.3333333333333333,
              "#9c179e"
             ],
             [
              0.4444444444444444,
              "#bd3786"
             ],
             [
              0.5555555555555556,
              "#d8576b"
             ],
             [
              0.6666666666666666,
              "#ed7953"
             ],
             [
              0.7777777777777778,
              "#fb9f3a"
             ],
             [
              0.8888888888888888,
              "#fdca26"
             ],
             [
              1,
              "#f0f921"
             ]
            ],
            "type": "surface"
           }
          ],
          "table": [
           {
            "cells": {
             "fill": {
              "color": "#EBF0F8"
             },
             "line": {
              "color": "white"
             }
            },
            "header": {
             "fill": {
              "color": "#C8D4E3"
             },
             "line": {
              "color": "white"
             }
            },
            "type": "table"
           }
          ]
         },
         "layout": {
          "annotationdefaults": {
           "arrowcolor": "#2a3f5f",
           "arrowhead": 0,
           "arrowwidth": 1
          },
          "autotypenumbers": "strict",
          "coloraxis": {
           "colorbar": {
            "outlinewidth": 0,
            "ticks": ""
           }
          },
          "colorscale": {
           "diverging": [
            [
             0,
             "#8e0152"
            ],
            [
             0.1,
             "#c51b7d"
            ],
            [
             0.2,
             "#de77ae"
            ],
            [
             0.3,
             "#f1b6da"
            ],
            [
             0.4,
             "#fde0ef"
            ],
            [
             0.5,
             "#f7f7f7"
            ],
            [
             0.6,
             "#e6f5d0"
            ],
            [
             0.7,
             "#b8e186"
            ],
            [
             0.8,
             "#7fbc41"
            ],
            [
             0.9,
             "#4d9221"
            ],
            [
             1,
             "#276419"
            ]
           ],
           "sequential": [
            [
             0,
             "#0d0887"
            ],
            [
             0.1111111111111111,
             "#46039f"
            ],
            [
             0.2222222222222222,
             "#7201a8"
            ],
            [
             0.3333333333333333,
             "#9c179e"
            ],
            [
             0.4444444444444444,
             "#bd3786"
            ],
            [
             0.5555555555555556,
             "#d8576b"
            ],
            [
             0.6666666666666666,
             "#ed7953"
            ],
            [
             0.7777777777777778,
             "#fb9f3a"
            ],
            [
             0.8888888888888888,
             "#fdca26"
            ],
            [
             1,
             "#f0f921"
            ]
           ],
           "sequentialminus": [
            [
             0,
             "#0d0887"
            ],
            [
             0.1111111111111111,
             "#46039f"
            ],
            [
             0.2222222222222222,
             "#7201a8"
            ],
            [
             0.3333333333333333,
             "#9c179e"
            ],
            [
             0.4444444444444444,
             "#bd3786"
            ],
            [
             0.5555555555555556,
             "#d8576b"
            ],
            [
             0.6666666666666666,
             "#ed7953"
            ],
            [
             0.7777777777777778,
             "#fb9f3a"
            ],
            [
             0.8888888888888888,
             "#fdca26"
            ],
            [
             1,
             "#f0f921"
            ]
           ]
          },
          "colorway": [
           "#636efa",
           "#EF553B",
           "#00cc96",
           "#ab63fa",
           "#FFA15A",
           "#19d3f3",
           "#FF6692",
           "#B6E880",
           "#FF97FF",
           "#FECB52"
          ],
          "font": {
           "color": "#2a3f5f"
          },
          "geo": {
           "bgcolor": "white",
           "lakecolor": "white",
           "landcolor": "#E5ECF6",
           "showlakes": true,
           "showland": true,
           "subunitcolor": "white"
          },
          "hoverlabel": {
           "align": "left"
          },
          "hovermode": "closest",
          "mapbox": {
           "style": "light"
          },
          "paper_bgcolor": "white",
          "plot_bgcolor": "#E5ECF6",
          "polar": {
           "angularaxis": {
            "gridcolor": "white",
            "linecolor": "white",
            "ticks": ""
           },
           "bgcolor": "#E5ECF6",
           "radialaxis": {
            "gridcolor": "white",
            "linecolor": "white",
            "ticks": ""
           }
          },
          "scene": {
           "xaxis": {
            "backgroundcolor": "#E5ECF6",
            "gridcolor": "white",
            "gridwidth": 2,
            "linecolor": "white",
            "showbackground": true,
            "ticks": "",
            "zerolinecolor": "white"
           },
           "yaxis": {
            "backgroundcolor": "#E5ECF6",
            "gridcolor": "white",
            "gridwidth": 2,
            "linecolor": "white",
            "showbackground": true,
            "ticks": "",
            "zerolinecolor": "white"
           },
           "zaxis": {
            "backgroundcolor": "#E5ECF6",
            "gridcolor": "white",
            "gridwidth": 2,
            "linecolor": "white",
            "showbackground": true,
            "ticks": "",
            "zerolinecolor": "white"
           }
          },
          "shapedefaults": {
           "line": {
            "color": "#2a3f5f"
           }
          },
          "ternary": {
           "aaxis": {
            "gridcolor": "white",
            "linecolor": "white",
            "ticks": ""
           },
           "baxis": {
            "gridcolor": "white",
            "linecolor": "white",
            "ticks": ""
           },
           "bgcolor": "#E5ECF6",
           "caxis": {
            "gridcolor": "white",
            "linecolor": "white",
            "ticks": ""
           }
          },
          "title": {
           "x": 0.05
          },
          "xaxis": {
           "automargin": true,
           "gridcolor": "white",
           "linecolor": "white",
           "ticks": "",
           "title": {
            "standoff": 15
           },
           "zerolinecolor": "white",
           "zerolinewidth": 2
          },
          "yaxis": {
           "automargin": true,
           "gridcolor": "white",
           "linecolor": "white",
           "ticks": "",
           "title": {
            "standoff": 15
           },
           "zerolinecolor": "white",
           "zerolinewidth": 2
          }
         }
        },
        "title": {
         "text": "Parallel Coordinate Plot"
        }
       }
      }
     },
     "metadata": {},
     "output_type": "display_data"
    }
   ],
   "source": [
    "optuna.visualization.plot_parallel_coordinate(studyKNN)"
   ]
  },
  {
   "cell_type": "markdown",
   "metadata": {},
   "source": [
    "Validación"
   ]
  },
  {
   "cell_type": "code",
   "execution_count": 95,
   "metadata": {},
   "outputs": [
    {
     "name": "stdout",
     "output_type": "stream",
     "text": [
      "              precision    recall  f1-score   support\n",
      "\n",
      "         Low       1.00      1.00      1.00        63\n",
      "      Medium       1.00      1.00      1.00        72\n",
      "        High       1.00      1.00      1.00        65\n",
      "\n",
      "    accuracy                           1.00       200\n",
      "   macro avg       1.00      1.00      1.00       200\n",
      "weighted avg       1.00      1.00      1.00       200\n",
      "\n"
     ]
    },
    {
     "data": {
      "text/plain": [
       "<sklearn.metrics._plot.confusion_matrix.ConfusionMatrixDisplay at 0x29493070eb0>"
      ]
     },
     "execution_count": 95,
     "metadata": {},
     "output_type": "execute_result"
    },
    {
     "data": {
      "image/png": "[encoded data removed]",
      "text/plain": [
       "<Figure size 640x480 with 2 Axes>"
      ]
     },
     "metadata": {},
     "output_type": "display_data"
    }
   ],
   "source": [
    "k=studyKNN.best_params['K']\n",
    "\n",
    "\n",
    "#entrenamiento\n",
    "KNN=neighbors.KNeighborsClassifier(n_neighbors=k)\n",
    "KNN.fit(X_train,y_train)\n",
    "\n",
    "#prediccion\n",
    "y_pred = KNN.predict(X_val)\n",
    "\n",
    "#metricas\n",
    "print(metrics.classification_report(y_val,y_pred,target_names=['Low','Medium','High']))\n",
    "\n",
    "cm=metrics.confusion_matrix(y_val,y_pred)\n",
    "disp=metrics.ConfusionMatrixDisplay(cm,display_labels=['Low','Medium','High'])\n",
    "disp.plot()"
   ]
  },
  {
   "cell_type": "markdown",
   "metadata": {},
   "source": [
    "### Transformación en los datos"
   ]
  },
  {
   "cell_type": "markdown",
   "metadata": {},
   "source": [
    "Análisis de componentes principales"
   ]
  },
  {
   "cell_type": "code",
   "execution_count": 101,
   "metadata": {},
   "outputs": [
    {
     "data": {
      "text/html": [
       "<style>#sk-container-id-5 {color: black;}#sk-container-id-5 pre{padding: 0;}#sk-container-id-5 div.sk-toggleable {background-color: white;}#sk-container-id-5 label.sk-toggleable__label {cursor: pointer;display: block;width: 100%;margin-bottom: 0;padding: 0.3em;box-sizing: border-box;text-align: center;}#sk-container-id-5 label.sk-toggleable__label-arrow:before {content: \"▸\";float: left;margin-right: 0.25em;color: #696969;}#sk-container-id-5 label.sk-toggleable__label-arrow:hover:before {color: black;}#sk-container-id-5 div.sk-estimator:hover label.sk-toggleable__label-arrow:before {color: black;}#sk-container-id-5 div.sk-toggleable__content {max-height: 0;max-width: 0;overflow: hidden;text-align: left;background-color: #f0f8ff;}#sk-container-id-5 div.sk-toggleable__content pre {margin: 0.2em;color: black;border-radius: 0.25em;background-color: #f0f8ff;}#sk-container-id-5 input.sk-toggleable__control:checked~div.sk-toggleable__content {max-height: 200px;max-width: 100%;overflow: auto;}#sk-container-id-5 input.sk-toggleable__control:checked~label.sk-toggleable__label-arrow:before {content: \"▾\";}#sk-container-id-5 div.sk-estimator input.sk-toggleable__control:checked~label.sk-toggleable__label {background-color: #d4ebff;}#sk-container-id-5 div.sk-label input.sk-toggleable__control:checked~label.sk-toggleable__label {background-color: #d4ebff;}#sk-container-id-5 input.sk-hidden--visually {border: 0;clip: rect(1px 1px 1px 1px);clip: rect(1px, 1px, 1px, 1px);height: 1px;margin: -1px;overflow: hidden;padding: 0;position: absolute;width: 1px;}#sk-container-id-5 div.sk-estimator {font-family: monospace;background-color: #f0f8ff;border: 1px dotted black;border-radius: 0.25em;box-sizing: border-box;margin-bottom: 0.5em;}#sk-container-id-5 div.sk-estimator:hover {background-color: #d4ebff;}#sk-container-id-5 div.sk-parallel-item::after {content: \"\";width: 100%;border-bottom: 1px solid gray;flex-grow: 1;}#sk-container-id-5 div.sk-label:hover label.sk-toggleable__label {background-color: #d4ebff;}#sk-container-id-5 div.sk-serial::before {content: \"\";position: absolute;border-left: 1px solid gray;box-sizing: border-box;top: 0;bottom: 0;left: 50%;z-index: 0;}#sk-container-id-5 div.sk-serial {display: flex;flex-direction: column;align-items: center;background-color: white;padding-right: 0.2em;padding-left: 0.2em;position: relative;}#sk-container-id-5 div.sk-item {position: relative;z-index: 1;}#sk-container-id-5 div.sk-parallel {display: flex;align-items: stretch;justify-content: center;background-color: white;position: relative;}#sk-container-id-5 div.sk-item::before, #sk-container-id-5 div.sk-parallel-item::before {content: \"\";position: absolute;border-left: 1px solid gray;box-sizing: border-box;top: 0;bottom: 0;left: 50%;z-index: -1;}#sk-container-id-5 div.sk-parallel-item {display: flex;flex-direction: column;z-index: 1;position: relative;background-color: white;}#sk-container-id-5 div.sk-parallel-item:first-child::after {align-self: flex-end;width: 50%;}#sk-container-id-5 div.sk-parallel-item:last-child::after {align-self: flex-start;width: 50%;}#sk-container-id-5 div.sk-parallel-item:only-child::after {width: 0;}#sk-container-id-5 div.sk-dashed-wrapped {border: 1px dashed gray;margin: 0 0.4em 0.5em 0.4em;box-sizing: border-box;padding-bottom: 0.4em;background-color: white;}#sk-container-id-5 div.sk-label label {font-family: monospace;font-weight: bold;display: inline-block;line-height: 1.2em;}#sk-container-id-5 div.sk-label-container {text-align: center;}#sk-container-id-5 div.sk-container {/* jupyter's `normalize.less` sets `[hidden] { display: none; }` but bootstrap.min.css set `[hidden] { display: none !important; }` so we also need the `!important` here to be able to override the default hidden behavior on the sphinx rendered scikit-learn.org. See: https://github.com/scikit-learn/scikit-learn/issues/21755 */display: inline-block !important;position: relative;}#sk-container-id-5 div.sk-text-repr-fallback {display: none;}</style><div id=\"sk-container-id-5\" class=\"sk-top-container\"><div class=\"sk-text-repr-fallback\"><pre>PCA()</pre><b>In a Jupyter environment, please rerun this cell to show the HTML representation or trust the notebook. <br />On GitHub, the HTML representation is unable to render, please try loading this page with nbviewer.org.</b></div><div class=\"sk-container\" hidden><div class=\"sk-item\"><div class=\"sk-estimator sk-toggleable\"><input class=\"sk-toggleable__control sk-hidden--visually\" id=\"sk-estimator-id-5\" type=\"checkbox\" checked><label for=\"sk-estimator-id-5\" class=\"sk-toggleable__label sk-toggleable__label-arrow\">PCA</label><div class=\"sk-toggleable__content\"><pre>PCA()</pre></div></div></div></div></div>"
      ],
      "text/plain": [
       "PCA()"
      ]
     },
     "execution_count": 101,
     "metadata": {},
     "output_type": "execute_result"
    }
   ],
   "source": [
    "from sklearn.decomposition import PCA\n",
    "\n",
    "pca = PCA()\n",
    "pca.fit(X_train)"
   ]
  },
  {
   "cell_type": "markdown",
   "metadata": {},
   "source": [
    "Varianza explicada"
   ]
  },
  {
   "cell_type": "code",
   "execution_count": 138,
   "metadata": {},
   "outputs": [
    {
     "data": {
      "image/png": "[encoded data removed]",
      "text/plain": [
       "<Figure size 640x480 with 1 Axes>"
      ]
     },
     "metadata": {},
     "output_type": "display_data"
    }
   ],
   "source": [
    "varExp=pca.explained_variance_ratio_\n",
    "sumVar=varExp.cumsum()\n",
    "n=[i+1 for i in range(len(sumVar))]\n",
    "plt.plot(n,sumVar,'r-o')\n",
    "for a,b in zip(n, sumVar): \n",
    "    plt.text(a+0.3, b-0.01, str(round(b*100,1))+\"%\")\n",
    "plt.bar(n,varExp)\n",
    "plt.xlabel(\"Componentes\")\n",
    "plt.ylabel(\"Varianza explicada\")\n",
    "plt.show()"
   ]
  },
  {
   "cell_type": "code",
   "execution_count": 98,
   "metadata": {},
   "outputs": [],
   "source": [
    "pca = PCA(3)\n",
    "pca.fit(X_train)\n",
    "X_train = pca.transform(X_train)\n",
    "X_test = pca.transform(X_test)\n",
    "X_val = pca.transform(X_val)"
   ]
  }
 ],
 "metadata": {
  "kernelspec": {
   "display_name": "Python 3",
   "language": "python",
   "name": "python3"
  },
  "language_info": {
   "codemirror_mode": {
    "name": "ipython",
    "version": 3
   },
   "file_extension": ".py",
   "mimetype": "text/x-python",
   "name": "python",
   "nbconvert_exporter": "python",
   "pygments_lexer": "ipython3",
   "version": "3.10.5"
  }
 },
 "nbformat": 4,
 "nbformat_minor": 2
}
